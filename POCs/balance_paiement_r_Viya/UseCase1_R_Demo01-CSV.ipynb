{
 "cells": [
  {
   "cell_type": "code",
   "execution_count": 20,
   "metadata": {},
   "outputs": [
    {
     "data": {
      "text/plain": [
       "               _                           \n",
       "platform       x86_64-conda_cos6-linux-gnu \n",
       "arch           x86_64                      \n",
       "os             linux-gnu                   \n",
       "system         x86_64, linux-gnu           \n",
       "status                                     \n",
       "major          3                           \n",
       "minor          6.1                         \n",
       "year           2019                        \n",
       "month          07                          \n",
       "day            05                          \n",
       "svn rev        76782                       \n",
       "language       R                           \n",
       "version.string R version 3.6.1 (2019-07-05)\n",
       "nickname       Action of the Toes          "
      ]
     },
     "metadata": {},
     "output_type": "display_data"
    }
   ],
   "source": [
    "R.version"
   ]
  },
  {
   "cell_type": "code",
   "execution_count": 21,
   "metadata": {},
   "outputs": [],
   "source": [
    "library(\"dplyr\")\n",
    "library(\"glue\")\n",
    "library(\"stringr\")\n",
    "library(\"rlist\")\n",
    "library(\"data.table\")\n",
    "library(\"readr\")\n",
    "library(\"stringi\")\n",
    "library(\"swat\")"
   ]
  },
  {
   "cell_type": "code",
   "execution_count": 22,
   "metadata": {},
   "outputs": [],
   "source": [
    "source(\"UtilsRCAS.R\")"
   ]
  },
  {
   "cell_type": "markdown",
   "metadata": {},
   "source": [
    "# Connection a l'environnement SAS Viya"
   ]
  },
  {
   "cell_type": "code",
   "execution_count": 23,
   "metadata": {},
   "outputs": [
    {
     "name": "stderr",
     "output_type": "stream",
     "text": [
      "NOTE: Connecting to CAS and generating CAS action functions for loaded\n",
      "      action sets...\n",
      "NOTE: To generate the functions with signatures (for tab completion), set \n",
      "      options(cas.gen.function.sig=TRUE).\n",
      "NOTE: 'CASUSER(sebastien)' is now the active caslib.\n",
      "NOTE: Action 'sessionProp.setSessOpt' used (Total process time):\n",
      "NOTE:       real time               0.014292 seconds\n",
      "NOTE:       cpu time                0.028502 seconds (199.43%)\n",
      "NOTE:       total nodes             5 (76 cores)\n",
      "NOTE:       total memory            515.57G\n",
      "NOTE:       memory                  1.44M (0.00%)\n"
     ]
    }
   ],
   "source": [
    "Sys.setenv(CAS_CLIENT_SSL_CA_LIST = \"/opt/sas/viya/config/etc/SASSecurityCertificateFramework/cacerts/trustedcerts.pem\")\n",
    "cashost <- 'controller'\n",
    "casuser <- 'sebastien'\n",
    "\n",
    "conn <- swat::CAS(cashost, 5570, username=casuser)\n",
    "\n",
    "# Activate metric tracing and other session parameters\n",
    "out <- cas.sessionProp.setSessOpt(conn, metrics=TRUE, timeout=1800, caslib='casuser')"
   ]
  },
  {
   "cell_type": "code",
   "execution_count": 24,
   "metadata": {},
   "outputs": [
    {
     "name": "stderr",
     "output_type": "stream",
     "text": [
      "NOTE: Executing action 'builtins.loadActionSet'.\n",
      "NOTE: Added action set 'fedsql'.\n",
      "NOTE: Action 'builtins.loadActionSet' used (Total process time):\n",
      "NOTE:       real time               0.014832 seconds\n",
      "NOTE:       cpu time                0.034329 seconds (231.45%)\n",
      "NOTE:       total nodes             5 (76 cores)\n",
      "NOTE:       total memory            515.57G\n",
      "NOTE:       memory                  1.30M (0.00%)\n",
      "NOTE: Executing action 'builtins.actionSetInfo'.\n",
      "NOTE: Action 'builtins.actionSetInfo' used (Total process time):\n",
      "NOTE:       real time               0.008330 seconds\n",
      "NOTE:       cpu time                0.018753 seconds (225.13%)\n",
      "NOTE:       total nodes             5 (76 cores)\n",
      "NOTE:       total memory            515.57G\n",
      "NOTE:       memory                  1.62M (0.00%)\n",
      "NOTE: Executing action 'builtins.listActions'.\n",
      "NOTE: Information for action set 'fedSql':\n",
      "NOTE:    fedSql\n",
      "NOTE:       execDirect - Submits a SAS FedSQL language statement for immediate execution\n",
      "NOTE: Action 'builtins.listActions' used (Total process time):\n",
      "NOTE:       real time               0.006552 seconds\n",
      "NOTE:       cpu time                0.013164 seconds (200.92%)\n",
      "NOTE:       total nodes             5 (76 cores)\n",
      "NOTE:       total memory            515.57G\n",
      "NOTE:       memory                  1.21M (0.00%)\n",
      "NOTE: Executing action 'builtins.loadActionSet'.\n",
      "NOTE: Added action set 'aggregation'.\n",
      "NOTE: Action 'builtins.loadActionSet' used (Total process time):\n",
      "NOTE:       real time               0.010475 seconds\n",
      "NOTE:       cpu time                0.023998 seconds (229.10%)\n",
      "NOTE:       total nodes             5 (76 cores)\n",
      "NOTE:       total memory            515.57G\n",
      "NOTE:       memory                  1.17M (0.00%)\n",
      "NOTE: Executing action 'builtins.actionSetInfo'.\n",
      "NOTE: Action 'builtins.actionSetInfo' used (Total process time):\n",
      "NOTE:       real time               0.007749 seconds\n",
      "NOTE:       cpu time                0.017453 seconds (225.23%)\n",
      "NOTE:       total nodes             5 (76 cores)\n",
      "NOTE:       total memory            515.57G\n",
      "NOTE:       memory                  1.61M (0.00%)\n",
      "NOTE: Executing action 'builtins.listActions'.\n",
      "NOTE: Information for action set 'aggregation':\n",
      "NOTE:    aggregation\n",
      "NOTE:       aggregate - Performs aggregation on selected variables\n",
      "NOTE: Action 'builtins.listActions' used (Total process time):\n",
      "NOTE:       real time               0.006826 seconds\n",
      "NOTE:       cpu time                0.013639 seconds (199.81%)\n",
      "NOTE:       total nodes             5 (76 cores)\n",
      "NOTE:       total memory            515.57G\n",
      "NOTE:       memory                  1.22M (0.00%)\n"
     ]
    }
   ],
   "source": [
    "actionsets <- c('fedsql','aggregation')\n",
    "for(i in actionsets){\n",
    "    loadActionSet(conn, i)\n",
    "}"
   ]
  },
  {
   "cell_type": "code",
   "execution_count": 25,
   "metadata": {},
   "outputs": [
    {
     "name": "stderr",
     "output_type": "stream",
     "text": [
      "NOTE: Executing action 'builtins.serverStatus'.\n",
      "NOTE: Grid node action status report: 5 nodes, 34 total actions executed.\n",
      "NOTE: Action 'builtins.serverStatus' used (Total process time):\n",
      "NOTE:       real time               0.008244 seconds\n",
      "NOTE:       cpu time                0.015628 seconds (189.57%)\n",
      "NOTE:       total nodes             5 (76 cores)\n",
      "NOTE:       total memory            515.57G\n",
      "NOTE:       memory                  1.52M (0.00%)\n"
     ]
    },
    {
     "data": {
      "text/html": [
       "<dl>\n",
       "\t<dt>$About</dt>\n",
       "\t\t<dd><dl>\n",
       "\t<dt>$CAS</dt>\n",
       "\t\t<dd>'Cloud Analytic Services'</dd>\n",
       "\t<dt>$Version</dt>\n",
       "\t\t<dd>'3.05'</dd>\n",
       "\t<dt>$VersionLong</dt>\n",
       "\t\t<dd>'V.03.05M0P11112019'</dd>\n",
       "\t<dt>$Copyright</dt>\n",
       "\t\t<dd>'Copyright © 2014-2018 SAS Institute Inc. All Rights Reserved.'</dd>\n",
       "\t<dt>$ServerTime</dt>\n",
       "\t\t<dd>'2020-05-04T15:04:35Z'</dd>\n",
       "\t<dt>$System</dt>\n",
       "\t\t<dd><dl>\n",
       "\t<dt>$Hostname</dt>\n",
       "\t\t<dd>'controller.c.sas-ag2r-la-mondiale.internal'</dd>\n",
       "\t<dt>$`OS Name`</dt>\n",
       "\t\t<dd>'Linux'</dd>\n",
       "\t<dt>$`OS Family`</dt>\n",
       "\t\t<dd>'LIN X64'</dd>\n",
       "\t<dt>$`OS Release`</dt>\n",
       "\t\t<dd>'3.10.0-1127.el7.x86_64'</dd>\n",
       "\t<dt>$`OS Version`</dt>\n",
       "\t\t<dd>'#1 SMP Tue Mar 31 23:36:51 UTC 2020'</dd>\n",
       "\t<dt>$`Model Number`</dt>\n",
       "\t\t<dd>'x86_64'</dd>\n",
       "\t<dt>$`Linux Distribution`</dt>\n",
       "\t\t<dd>'CentOS Linux release 7.8.2003 (Core)'</dd>\n",
       "</dl>\n",
       "</dd>\n",
       "\t<dt>$license</dt>\n",
       "\t\t<dd><dl>\n",
       "\t<dt>$site</dt>\n",
       "\t\t<dd>'BDF'</dd>\n",
       "\t<dt>$siteNum</dt>\n",
       "\t\t<dd>70180938</dd>\n",
       "\t<dt>$expires</dt>\n",
       "\t\t<dd>'29Apr2021:00:00:00'</dd>\n",
       "\t<dt>$gracePeriod</dt>\n",
       "\t\t<dd>45</dd>\n",
       "\t<dt>$warningPeriod</dt>\n",
       "\t\t<dd>45</dd>\n",
       "</dl>\n",
       "</dd>\n",
       "</dl>\n",
       "</dd>\n",
       "\t<dt>$server</dt>\n",
       "\t\t<dd><table>\n",
       "<thead><tr><th scope=col>nodes</th><th scope=col>actions</th></tr></thead>\n",
       "<tbody>\n",
       "\t<tr><td>5 </td><td>34</td></tr>\n",
       "</tbody>\n",
       "</table>\n",
       "</dd>\n",
       "\t<dt>$nodestatus</dt>\n",
       "\t\t<dd><table>\n",
       "<thead><tr><th scope=col>name</th><th scope=col>role</th><th scope=col>uptime</th><th scope=col>running</th><th scope=col>stalled</th></tr></thead>\n",
       "<tbody>\n",
       "\t<tr><td>worker1.c.sas-ag2r-la-mondiale.internal   </td><td>worker                                    </td><td>1.883                                     </td><td>0                                         </td><td>0                                         </td></tr>\n",
       "\t<tr><td>worker2.c.sas-ag2r-la-mondiale.internal   </td><td>worker                                    </td><td>1.883                                     </td><td>0                                         </td><td>0                                         </td></tr>\n",
       "\t<tr><td>worker3.c.sas-ag2r-la-mondiale.internal   </td><td>worker                                    </td><td>1.883                                     </td><td>0                                         </td><td>0                                         </td></tr>\n",
       "\t<tr><td>worker4.c.sas-ag2r-la-mondiale.internal   </td><td>worker                                    </td><td>1.882                                     </td><td>0                                         </td><td>0                                         </td></tr>\n",
       "\t<tr><td>controller.c.sas-ag2r-la-mondiale.internal</td><td>controller                                </td><td>1.941                                     </td><td>0                                         </td><td>0                                         </td></tr>\n",
       "</tbody>\n",
       "</table>\n",
       "</dd>\n",
       "</dl>\n"
      ],
      "text/latex": [
       "\\begin{description}\n",
       "\\item[\\$About] \\begin{description}\n",
       "\\item[\\$CAS] 'Cloud Analytic Services'\n",
       "\\item[\\$Version] '3.05'\n",
       "\\item[\\$VersionLong] 'V.03.05M0P11112019'\n",
       "\\item[\\$Copyright] 'Copyright © 2014-2018 SAS Institute Inc. All Rights Reserved.'\n",
       "\\item[\\$ServerTime] '2020-05-04T15:04:35Z'\n",
       "\\item[\\$System] \\begin{description}\n",
       "\\item[\\$Hostname] 'controller.c.sas-ag2r-la-mondiale.internal'\n",
       "\\item[\\$`OS Name`] 'Linux'\n",
       "\\item[\\$`OS Family`] 'LIN X64'\n",
       "\\item[\\$`OS Release`] '3.10.0-1127.el7.x86\\_64'\n",
       "\\item[\\$`OS Version`] '\\#1 SMP Tue Mar 31 23:36:51 UTC 2020'\n",
       "\\item[\\$`Model Number`] 'x86\\_64'\n",
       "\\item[\\$`Linux Distribution`] 'CentOS Linux release 7.8.2003 (Core)'\n",
       "\\end{description}\n",
       "\n",
       "\\item[\\$license] \\begin{description}\n",
       "\\item[\\$site] 'BDF'\n",
       "\\item[\\$siteNum] 70180938\n",
       "\\item[\\$expires] '29Apr2021:00:00:00'\n",
       "\\item[\\$gracePeriod] 45\n",
       "\\item[\\$warningPeriod] 45\n",
       "\\end{description}\n",
       "\n",
       "\\end{description}\n",
       "\n",
       "\\item[\\$server] \\begin{tabular}{r|ll}\n",
       " nodes & actions\\\\\n",
       "\\hline\n",
       "\t 5  & 34\\\\\n",
       "\\end{tabular}\n",
       "\n",
       "\\item[\\$nodestatus] \\begin{tabular}{r|lllll}\n",
       " name & role & uptime & running & stalled\\\\\n",
       "\\hline\n",
       "\t worker1.c.sas-ag2r-la-mondiale.internal    & worker                                     & 1.883                                      & 0                                          & 0                                         \\\\\n",
       "\t worker2.c.sas-ag2r-la-mondiale.internal    & worker                                     & 1.883                                      & 0                                          & 0                                         \\\\\n",
       "\t worker3.c.sas-ag2r-la-mondiale.internal    & worker                                     & 1.883                                      & 0                                          & 0                                         \\\\\n",
       "\t worker4.c.sas-ag2r-la-mondiale.internal    & worker                                     & 1.882                                      & 0                                          & 0                                         \\\\\n",
       "\t controller.c.sas-ag2r-la-mondiale.internal & controller                                 & 1.941                                      & 0                                          & 0                                         \\\\\n",
       "\\end{tabular}\n",
       "\n",
       "\\end{description}\n"
      ],
      "text/markdown": [
       "$About\n",
       ":   $CAS\n",
       ":   'Cloud Analytic Services'\n",
       "$Version\n",
       ":   '3.05'\n",
       "$VersionLong\n",
       ":   'V.03.05M0P11112019'\n",
       "$Copyright\n",
       ":   'Copyright © 2014-2018 SAS Institute Inc. All Rights Reserved.'\n",
       "$ServerTime\n",
       ":   '2020-05-04T15:04:35Z'\n",
       "$System\n",
       ":   $Hostname\n",
       ":   'controller.c.sas-ag2r-la-mondiale.internal'\n",
       "$`OS Name`\n",
       ":   'Linux'\n",
       "$`OS Family`\n",
       ":   'LIN X64'\n",
       "$`OS Release`\n",
       ":   '3.10.0-1127.el7.x86_64'\n",
       "$`OS Version`\n",
       ":   '#1 SMP Tue Mar 31 23:36:51 UTC 2020'\n",
       "$`Model Number`\n",
       ":   'x86_64'\n",
       "$`Linux Distribution`\n",
       ":   'CentOS Linux release 7.8.2003 (Core)'\n",
       "\n",
       "\n",
       "\n",
       "$license\n",
       ":   $site\n",
       ":   'BDF'\n",
       "$siteNum\n",
       ":   70180938\n",
       "$expires\n",
       ":   '29Apr2021:00:00:00'\n",
       "$gracePeriod\n",
       ":   45\n",
       "$warningPeriod\n",
       ":   45\n",
       "\n",
       "\n",
       "\n",
       "\n",
       "\n",
       "\n",
       "$server\n",
       ":   \n",
       "| nodes | actions |\n",
       "|---|---|\n",
       "| 5  | 34 |\n",
       "\n",
       "\n",
       "$nodestatus\n",
       ":   \n",
       "| name | role | uptime | running | stalled |\n",
       "|---|---|---|---|---|\n",
       "| worker1.c.sas-ag2r-la-mondiale.internal    | worker                                     | 1.883                                      | 0                                          | 0                                          |\n",
       "| worker2.c.sas-ag2r-la-mondiale.internal    | worker                                     | 1.883                                      | 0                                          | 0                                          |\n",
       "| worker3.c.sas-ag2r-la-mondiale.internal    | worker                                     | 1.883                                      | 0                                          | 0                                          |\n",
       "| worker4.c.sas-ag2r-la-mondiale.internal    | worker                                     | 1.882                                      | 0                                          | 0                                          |\n",
       "| controller.c.sas-ag2r-la-mondiale.internal | controller                                 | 1.941                                      | 0                                          | 0                                          |\n",
       "\n",
       "\n",
       "\n",
       "\n"
      ],
      "text/plain": [
       "$About\n",
       "$About$CAS\n",
       "[1] \"Cloud Analytic Services\"\n",
       "\n",
       "$About$Version\n",
       "[1] \"3.05\"\n",
       "\n",
       "$About$VersionLong\n",
       "[1] \"V.03.05M0P11112019\"\n",
       "\n",
       "$About$Copyright\n",
       "[1] \"Copyright © 2014-2018 SAS Institute Inc. All Rights Reserved.\"\n",
       "\n",
       "$About$ServerTime\n",
       "[1] \"2020-05-04T15:04:35Z\"\n",
       "\n",
       "$About$System\n",
       "$About$System$Hostname\n",
       "[1] \"controller.c.sas-ag2r-la-mondiale.internal\"\n",
       "\n",
       "$About$System$`OS Name`\n",
       "[1] \"Linux\"\n",
       "\n",
       "$About$System$`OS Family`\n",
       "[1] \"LIN X64\"\n",
       "\n",
       "$About$System$`OS Release`\n",
       "[1] \"3.10.0-1127.el7.x86_64\"\n",
       "\n",
       "$About$System$`OS Version`\n",
       "[1] \"#1 SMP Tue Mar 31 23:36:51 UTC 2020\"\n",
       "\n",
       "$About$System$`Model Number`\n",
       "[1] \"x86_64\"\n",
       "\n",
       "$About$System$`Linux Distribution`\n",
       "[1] \"CentOS Linux release 7.8.2003 (Core)\"\n",
       "\n",
       "\n",
       "$About$license\n",
       "$About$license$site\n",
       "[1] \"BDF\"\n",
       "\n",
       "$About$license$siteNum\n",
       "[1] 70180938\n",
       "\n",
       "$About$license$expires\n",
       "[1] \"29Apr2021:00:00:00\"\n",
       "\n",
       "$About$license$gracePeriod\n",
       "[1] 45\n",
       "\n",
       "$About$license$warningPeriod\n",
       "[1] 45\n",
       "\n",
       "\n",
       "\n",
       "$server\n",
       "  nodes actions\n",
       "1     5      34\n",
       "\n",
       "$nodestatus\n",
       "                                        name       role uptime running stalled\n",
       "1    worker1.c.sas-ag2r-la-mondiale.internal     worker  1.883       0       0\n",
       "2    worker2.c.sas-ag2r-la-mondiale.internal     worker  1.883       0       0\n",
       "3    worker3.c.sas-ag2r-la-mondiale.internal     worker  1.883       0       0\n",
       "4    worker4.c.sas-ag2r-la-mondiale.internal     worker  1.882       0       0\n",
       "5 controller.c.sas-ag2r-la-mondiale.internal controller  1.941       0       0\n"
      ]
     },
     "metadata": {},
     "output_type": "display_data"
    }
   ],
   "source": [
    "cas.builtins.serverStatus(conn)"
   ]
  },
  {
   "cell_type": "markdown",
   "metadata": {},
   "source": [
    "## Demarrage du traitement. On va pointer sur une librairie CAS déja declaree dans la plateforme et pointant sur le repertoire contenant tous les fichiers CSV en entree (ou sur l'instance de la base Oracle ou Hive). Pour les fichiers, on definie la source en DNFS, cela signifie que la lecture et l'ecriture des fichiers se fera en multitheading et multi noeud automatiquement. Les formats de fichiers supportes actuellement sur ce mode sont : CSV, PARQUET et SASHDAT."
   ]
  },
  {
   "cell_type": "code",
   "execution_count": 26,
   "metadata": {},
   "outputs": [
    {
     "name": "stderr",
     "output_type": "stream",
     "text": [
      "NOTE: Executing action 'sessionProp.setSessOpt'.\n",
      "NOTE: 'CASUSER(sebastien)' is now the active caslib.\n",
      "NOTE: Action 'sessionProp.setSessOpt' used (Total process time):\n",
      "NOTE:       real time               0.007397 seconds\n",
      "NOTE:       cpu time                0.017534 seconds (237.04%)\n",
      "NOTE:       total nodes             5 (76 cores)\n",
      "NOTE:       total memory            515.57G\n",
      "NOTE:       memory                  1.35M (0.00%)\n"
     ]
    }
   ],
   "source": [
    "HeureDebut <- Sys.time()\n",
    "\n",
    "#cas.table.addCaslib(conn,name=\"mycaslib\", path=\"/data/data/BDF_SMALL_DB\", dataSource={srcType=\"dnfs\"})\n",
    "#cas.table.addCaslib(conn,name=\"mycaslib\", path=\"/SAS/BDF\", dataSource={srcType=\"dnfs\"})\n",
    "out <- cas.sessionProp.setSessOpt(conn,caslib='casuser')"
   ]
  },
  {
   "cell_type": "markdown",
   "metadata": {},
   "source": [
    "# Chargement en memoire de tous les fichiers CSV en entree (referentiel et agregats) pour l'utilisation ulterieure."
   ]
  },
  {
   "cell_type": "code",
   "execution_count": 27,
   "metadata": {},
   "outputs": [
    {
     "name": "stderr",
     "output_type": "stream",
     "text": [
      "NOTE: Executing action 'table.fileInfo'.\n",
      "NOTE: Action 'table.fileInfo' used (Total process time):\n",
      "NOTE:       real time               0.012281 seconds\n",
      "NOTE:       cpu time                0.019732 seconds (160.67%)\n",
      "NOTE:       total nodes             5 (76 cores)\n",
      "NOTE:       total memory            515.57G\n",
      "NOTE:       memory                  1.90M (0.00%)\n",
      "NOTE: Executing action 'table.dropTable'.\n",
      "NOTE: Action 'table.dropTable' used (Total process time):\n",
      "NOTE:       real time               0.011790 seconds\n",
      "NOTE:       cpu time                0.020390 seconds (172.94%)\n",
      "NOTE:       total nodes             5 (76 cores)\n",
      "NOTE:       total memory            515.57G\n",
      "NOTE:       memory                  1.46M (0.00%)\n",
      "NOTE: Executing action 'table.loadTable'.\n",
      "NOTE: Cloud Analytic Services made the DNFS file D1.csv available as table D1 in caslib CASUSER(sebastien).\n",
      "NOTE: Action 'table.loadTable' used (Total process time):\n",
      "NOTE:       real time               17.511954 seconds\n",
      "NOTE:       cpu time                111.403155 seconds (636.15%)\n",
      "NOTE:       total nodes             5 (76 cores)\n",
      "NOTE:       total memory            515.57G\n",
      "NOTE:       memory                  2.51G (0.49%)\n",
      "NOTE: Executing action 'table.dropTable'.\n",
      "NOTE: Action 'table.dropTable' used (Total process time):\n",
      "NOTE:       real time               0.008202 seconds\n",
      "NOTE:       cpu time                0.013915 seconds (169.65%)\n",
      "NOTE:       total nodes             5 (76 cores)\n",
      "NOTE:       total memory            515.57G\n",
      "NOTE:       memory                  1.46M (0.00%)\n",
      "NOTE: Executing action 'table.loadTable'.\n",
      "NOTE: Cloud Analytic Services made the DNFS file D2.csv available as table D2 in caslib CASUSER(sebastien).\n",
      "NOTE: Action 'table.loadTable' used (Total process time):\n",
      "NOTE:       real time               10.798801 seconds\n",
      "NOTE:       cpu time                32.535213 seconds (301.29%)\n",
      "NOTE:       total nodes             5 (76 cores)\n",
      "NOTE:       total memory            515.57G\n",
      "NOTE:       memory                  2.02G (0.39%)\n",
      "NOTE: Executing action 'table.dropTable'.\n",
      "NOTE: Action 'table.dropTable' used (Total process time):\n",
      "NOTE:       real time               0.008666 seconds\n",
      "NOTE:       cpu time                0.014622 seconds (168.73%)\n",
      "NOTE:       total nodes             5 (76 cores)\n",
      "NOTE:       total memory            515.57G\n",
      "NOTE:       memory                  1.47M (0.00%)\n",
      "NOTE: Executing action 'table.loadTable'.\n",
      "NOTE: Cloud Analytic Services made the DNFS file D3.csv available as table D3 in caslib CASUSER(sebastien).\n",
      "NOTE: Action 'table.loadTable' used (Total process time):\n",
      "NOTE:       real time               33.314373 seconds\n",
      "NOTE:       cpu time                94.458837 seconds (283.54%)\n",
      "NOTE:       total nodes             5 (76 cores)\n",
      "NOTE:       total memory            515.57G\n",
      "NOTE:       memory                  2.49G (0.48%)\n",
      "NOTE: Executing action 'table.dropTable'.\n",
      "NOTE: Action 'table.dropTable' used (Total process time):\n",
      "NOTE:       real time               0.008704 seconds\n",
      "NOTE:       cpu time                0.014599 seconds (167.73%)\n",
      "NOTE:       total nodes             5 (76 cores)\n",
      "NOTE:       total memory            515.57G\n",
      "NOTE:       memory                  1.47M (0.00%)\n",
      "NOTE: Executing action 'table.loadTable'.\n",
      "NOTE: Cloud Analytic Services made the DNFS file F.csv available as table F in caslib CASUSER(sebastien).\n",
      "NOTE: Action 'table.loadTable' used (Total process time):\n",
      "NOTE:       real time               0.280905 seconds\n",
      "NOTE:       cpu time                2.887518 seconds (1027.93%)\n",
      "NOTE:       total nodes             5 (76 cores)\n",
      "NOTE:       total memory            515.57G\n",
      "NOTE:       memory                  1.13G (0.22%)\n",
      "NOTE: Executing action 'table.dropTable'.\n",
      "NOTE: Action 'table.dropTable' used (Total process time):\n",
      "NOTE:       real time               0.009313 seconds\n",
      "NOTE:       cpu time                0.015381 seconds (165.16%)\n",
      "NOTE:       total nodes             5 (76 cores)\n",
      "NOTE:       total memory            515.57G\n",
      "NOTE:       memory                  1.47M (0.00%)\n",
      "NOTE: Executing action 'table.loadTable'.\n",
      "NOTE: Cloud Analytic Services made the DNFS file O.csv available as table O in caslib CASUSER(sebastien).\n",
      "NOTE: Action 'table.loadTable' used (Total process time):\n",
      "NOTE:       real time               50.035944 seconds\n",
      "NOTE:       cpu time                144.370707 seconds (288.53%)\n",
      "NOTE:       total nodes             5 (76 cores)\n",
      "NOTE:       total memory            515.57G\n",
      "NOTE:       memory                  2.53G (0.49%)\n",
      "NOTE: Executing action 'table.dropTable'.\n",
      "NOTE: Action 'table.dropTable' used (Total process time):\n",
      "NOTE:       real time               0.008535 seconds\n",
      "NOTE:       cpu time                0.014512 seconds (170.03%)\n",
      "NOTE:       total nodes             5 (76 cores)\n",
      "NOTE:       total memory            515.57G\n",
      "NOTE:       memory                  1.46M (0.00%)\n",
      "NOTE: Executing action 'table.loadTable'.\n",
      "NOTE: Cloud Analytic Services made the DNFS file P.csv available as table P in caslib CASUSER(sebastien).\n",
      "NOTE: Action 'table.loadTable' used (Total process time):\n",
      "NOTE:       real time               16.081363 seconds\n",
      "NOTE:       cpu time                50.769438 seconds (315.70%)\n",
      "NOTE:       total nodes             5 (76 cores)\n",
      "NOTE:       total memory            515.57G\n",
      "NOTE:       memory                  2.29G (0.44%)\n",
      "NOTE: Executing action 'table.dropTable'.\n",
      "NOTE: Action 'table.dropTable' used (Total process time):\n",
      "NOTE:       real time               0.008958 seconds\n",
      "NOTE:       cpu time                0.015357 seconds (171.43%)\n",
      "NOTE:       total nodes             5 (76 cores)\n",
      "NOTE:       total memory            515.57G\n",
      "NOTE:       memory                  1.47M (0.00%)\n",
      "NOTE: Executing action 'table.loadTable'.\n",
      "NOTE: Cloud Analytic Services made the DNFS file PLANAGREGATION.csv available as table PLANAGREGATION in caslib CASUSER(sebastien).\n",
      "NOTE: Action 'table.loadTable' used (Total process time):\n",
      "NOTE:       real time               0.033761 seconds\n",
      "NOTE:       cpu time                0.056471 seconds (167.27%)\n",
      "NOTE:       total nodes             5 (76 cores)\n",
      "NOTE:       total memory            515.57G\n",
      "NOTE:       memory                  1.01G (0.20%)\n",
      "NOTE: Executing action 'table.dropTable'.\n",
      "NOTE: Action 'table.dropTable' used (Total process time):\n",
      "NOTE:       real time               0.008091 seconds\n",
      "NOTE:       cpu time                0.014120 seconds (174.51%)\n",
      "NOTE:       total nodes             5 (76 cores)\n",
      "NOTE:       total memory            515.57G\n",
      "NOTE:       memory                  1.46M (0.00%)\n",
      "NOTE: Executing action 'table.loadTable'.\n",
      "NOTE: Cloud Analytic Services made the DNFS file TABLEPAYSZONE.csv available as table TABLEPAYSZONE in caslib CASUSER(sebastien).\n",
      "NOTE: Action 'table.loadTable' used (Total process time):\n",
      "NOTE:       real time               0.033752 seconds\n",
      "NOTE:       cpu time                0.057452 seconds (170.22%)\n",
      "NOTE:       total nodes             5 (76 cores)\n",
      "NOTE:       total memory            515.57G\n",
      "NOTE:       memory                  1.01G (0.20%)\n",
      "NOTE: Executing action 'table.dropTable'.\n",
      "NOTE: Action 'table.dropTable' used (Total process time):\n",
      "NOTE:       real time               0.008334 seconds\n",
      "NOTE:       cpu time                0.014652 seconds (175.81%)\n",
      "NOTE:       total nodes             5 (76 cores)\n",
      "NOTE:       total memory            515.57G\n",
      "NOTE:       memory                  1.46M (0.00%)\n",
      "NOTE: Executing action 'table.loadTable'.\n",
      "NOTE: Cloud Analytic Services made the DNFS file U1.csv available as table U1 in caslib CASUSER(sebastien).\n",
      "NOTE: Action 'table.loadTable' used (Total process time):\n",
      "NOTE:       real time               26.404245 seconds\n",
      "NOTE:       cpu time                76.128077 seconds (288.32%)\n",
      "NOTE:       total nodes             5 (76 cores)\n",
      "NOTE:       total memory            515.57G\n",
      "NOTE:       memory                  2.50G (0.48%)\n",
      "NOTE: Executing action 'table.dropTable'.\n",
      "NOTE: Action 'table.dropTable' used (Total process time):\n",
      "NOTE:       real time               0.008711 seconds\n",
      "NOTE:       cpu time                0.014392 seconds (165.22%)\n",
      "NOTE:       total nodes             5 (76 cores)\n",
      "NOTE:       total memory            515.57G\n",
      "NOTE:       memory                  1.46M (0.00%)\n",
      "NOTE: Executing action 'table.loadTable'.\n",
      "NOTE: Cloud Analytic Services made the DNFS file U2.csv available as table U2 in caslib CASUSER(sebastien).\n",
      "NOTE: Action 'table.loadTable' used (Total process time):\n",
      "NOTE:       real time               23.768995 seconds\n",
      "NOTE:       cpu time                69.022254 seconds (290.39%)\n",
      "NOTE:       total nodes             5 (76 cores)\n",
      "NOTE:       total memory            515.57G\n",
      "NOTE:       memory                  2.51G (0.49%)\n",
      "NOTE: Executing action 'table.dropTable'.\n",
      "NOTE: Action 'table.dropTable' used (Total process time):\n",
      "NOTE:       real time               0.008042 seconds\n",
      "NOTE:       cpu time                0.014257 seconds (177.28%)\n",
      "NOTE:       total nodes             5 (76 cores)\n",
      "NOTE:       total memory            515.57G\n",
      "NOTE:       memory                  1.47M (0.00%)\n",
      "NOTE: Executing action 'table.loadTable'.\n",
      "NOTE: Cloud Analytic Services made the DNFS file U3.csv available as table U3 in caslib CASUSER(sebastien).\n",
      "NOTE: Action 'table.loadTable' used (Total process time):\n",
      "NOTE:       real time               10.334479 seconds\n",
      "NOTE:       cpu time                30.814630 seconds (298.17%)\n",
      "NOTE:       total nodes             5 (76 cores)\n",
      "NOTE:       total memory            515.57G\n",
      "NOTE:       memory                  1.92G (0.37%)\n",
      "NOTE: Executing action 'table.dropTable'.\n",
      "NOTE: Action 'table.dropTable' used (Total process time):\n",
      "NOTE:       real time               0.009123 seconds\n",
      "NOTE:       cpu time                0.015307 seconds (167.78%)\n",
      "NOTE:       total nodes             5 (76 cores)\n",
      "NOTE:       total memory            515.57G\n",
      "NOTE:       memory                  1.47M (0.00%)\n",
      "NOTE: Executing action 'table.loadTable'.\n",
      "NOTE: Cloud Analytic Services made the DNFS file Z.csv available as table Z in caslib CASUSER(sebastien).\n",
      "NOTE: Action 'table.loadTable' used (Total process time):\n",
      "NOTE:       real time               10.626685 seconds\n",
      "NOTE:       cpu time                32.478692 seconds (305.63%)\n",
      "NOTE:       total nodes             5 (76 cores)\n",
      "NOTE:       total memory            515.57G\n",
      "NOTE:       memory                  1.99G (0.39%)\n",
      "NOTE: Executing action 'table.dropTable'.\n",
      "NOTE: Action 'table.dropTable' used (Total process time):\n",
      "NOTE:       real time               0.008544 seconds\n",
      "NOTE:       cpu time                0.013942 seconds (163.18%)\n",
      "NOTE:       total nodes             5 (76 cores)\n",
      "NOTE:       total memory            515.57G\n",
      "NOTE:       memory                  1.46M (0.00%)\n",
      "NOTE: Executing action 'table.loadTable'.\n",
      "NOTE: Cloud Analytic Services made the DNFS file D.csv available as table D in caslib CASUSER(sebastien).\n",
      "NOTE: Action 'table.loadTable' used (Total process time):\n",
      "NOTE:       real time               6.085549 seconds\n",
      "NOTE:       cpu time                164.286101 seconds (2699.61%)\n",
      "NOTE:       total nodes             5 (76 cores)\n",
      "NOTE:       total memory            515.57G\n",
      "NOTE:       memory                  2.47G (0.48%)\n"
     ]
    }
   ],
   "source": [
    "import_all_csv_in_memory(conn, 'BDF_DNFS','casuser', fileflag=1)"
   ]
  },
  {
   "cell_type": "code",
   "execution_count": 28,
   "metadata": {},
   "outputs": [
    {
     "name": "stderr",
     "output_type": "stream",
     "text": [
      "NOTE: Executing action 'table.tableInfo'.\n",
      "NOTE: Action 'table.tableInfo' used (Total process time):\n",
      "NOTE:       real time               0.006237 seconds\n",
      "NOTE:       cpu time                0.014069 seconds (225.57%)\n",
      "NOTE:       total nodes             5 (76 cores)\n",
      "NOTE:       total memory            515.57G\n",
      "NOTE:       memory                  1.94M (0.00%)\n"
     ]
    },
    {
     "data": {
      "text/html": [
       "<strong>$TableInfo</strong> = <table>\n",
       "<thead><tr><th scope=col>Name</th><th scope=col>Rows</th><th scope=col>Columns</th><th scope=col>IndexedColumns</th><th scope=col>Encoding</th><th scope=col>CreateTimeFormatted</th><th scope=col>ModTimeFormatted</th><th scope=col>AccessTimeFormatted</th><th scope=col>JavaCharSet</th><th scope=col>CreateTime</th><th scope=col>...</th><th scope=col>Repeated</th><th scope=col>View</th><th scope=col>MultiPart</th><th scope=col>SourceName</th><th scope=col>SourceCaslib</th><th scope=col>Compressed</th><th scope=col>Creator</th><th scope=col>Modifier</th><th scope=col>SourceModTimeFormatted</th><th scope=col>SourceModTime</th></tr></thead>\n",
       "<tbody>\n",
       "\t<tr><td>D1                       </td><td>21648241                 </td><td> 8                       </td><td>0                        </td><td>utf-8                    </td><td>2020-05-04T15:04:35+00:00</td><td>2020-05-04T15:04:35+00:00</td><td>2020-05-04T15:04:35+00:00</td><td>UTF8                     </td><td>1904223875               </td><td>...                      </td><td>0                        </td><td>0                        </td><td>0                        </td><td>D1.csv                   </td><td>BDF_DNFS                 </td><td>0                        </td><td>sebastien                </td><td>                         </td><td>2020-05-04T14:44:07+00:00</td><td>1904222647               </td></tr>\n",
       "\t<tr><td>D2                       </td><td> 6472521                 </td><td> 8                       </td><td>0                        </td><td>utf-8                    </td><td>2020-05-04T15:04:53+00:00</td><td>2020-05-04T15:04:53+00:00</td><td>2020-05-04T15:04:53+00:00</td><td>UTF8                     </td><td>1904223893               </td><td>...                      </td><td>0                        </td><td>0                        </td><td>0                        </td><td>D2.csv                   </td><td>BDF_DNFS                 </td><td>0                        </td><td>sebastien                </td><td>                         </td><td>2020-05-04T14:44:25+00:00</td><td>1904222665               </td></tr>\n",
       "\t<tr><td>D3                       </td><td>18196935                 </td><td> 8                       </td><td>0                        </td><td>utf-8                    </td><td>2020-05-04T15:05:04+00:00</td><td>2020-05-04T15:05:04+00:00</td><td>2020-05-04T15:05:04+00:00</td><td>UTF8                     </td><td>1904223904               </td><td>...                      </td><td>0                        </td><td>0                        </td><td>0                        </td><td>D3.csv                   </td><td>BDF_DNFS                 </td><td>0                        </td><td>sebastien                </td><td>                         </td><td>2020-05-04T14:44:56+00:00</td><td>1904222696               </td></tr>\n",
       "\t<tr><td>F                        </td><td>  597409                 </td><td> 8                       </td><td>0                        </td><td>utf-8                    </td><td>2020-05-04T15:05:37+00:00</td><td>2020-05-04T15:05:37+00:00</td><td>2020-05-04T15:05:37+00:00</td><td>UTF8                     </td><td>1904223937               </td><td>...                      </td><td>0                        </td><td>0                        </td><td>0                        </td><td>F.csv                    </td><td>BDF_DNFS                 </td><td>0                        </td><td>sebastien                </td><td>                         </td><td>2020-05-04T14:45:03+00:00</td><td>1904222703               </td></tr>\n",
       "\t<tr><td>O                        </td><td>28344903                 </td><td> 8                       </td><td>0                        </td><td>utf-8                    </td><td>2020-05-04T15:05:38+00:00</td><td>2020-05-04T15:05:38+00:00</td><td>2020-05-04T15:05:38+00:00</td><td>UTF8                     </td><td>1904223938               </td><td>...                      </td><td>0                        </td><td>0                        </td><td>0                        </td><td>O.csv                    </td><td>BDF_DNFS                 </td><td>0                        </td><td>sebastien                </td><td>                         </td><td>2020-05-04T14:45:45+00:00</td><td>1904222745               </td></tr>\n",
       "\t<tr><td>P                        </td><td> 9530865                 </td><td> 8                       </td><td>0                        </td><td>utf-8                    </td><td>2020-05-04T15:06:28+00:00</td><td>2020-05-04T15:06:28+00:00</td><td>2020-05-04T15:06:28+00:00</td><td>UTF8                     </td><td>1904223988               </td><td>...                      </td><td>0                        </td><td>0                        </td><td>0                        </td><td>P.csv                    </td><td>BDF_DNFS                 </td><td>0                        </td><td>sebastien                </td><td>                         </td><td>2020-05-04T14:46:07+00:00</td><td>1904222767               </td></tr>\n",
       "\t<tr><td>PLANAGREGATION           </td><td>     533                 </td><td>41                       </td><td>0                        </td><td>utf-8                    </td><td>2020-05-04T15:06:44+00:00</td><td>2020-05-04T15:06:44+00:00</td><td>2020-05-04T15:06:44+00:00</td><td>UTF8                     </td><td>1904224004               </td><td>...                      </td><td>0                        </td><td>0                        </td><td>0                        </td><td>PLANAGREGATION.csv       </td><td>BDF_DNFS                 </td><td>0                        </td><td>sebastien                </td><td>                         </td><td>2020-05-04T14:46:11+00:00</td><td>1904222771               </td></tr>\n",
       "\t<tr><td>TABLEPAYSZONE            </td><td>    3953                 </td><td> 5                       </td><td>0                        </td><td>utf-8                    </td><td>2020-05-04T15:06:44+00:00</td><td>2020-05-04T15:06:44+00:00</td><td>2020-05-04T15:06:44+00:00</td><td>UTF8                     </td><td>1904224004               </td><td>...                      </td><td>0                        </td><td>0                        </td><td>0                        </td><td>TABLEPAYSZONE.csv        </td><td>BDF_DNFS                 </td><td>0                        </td><td>sebastien                </td><td>                         </td><td>2020-05-04T14:46:11+00:00</td><td>1904222771               </td></tr>\n",
       "\t<tr><td>U1                       </td><td>14835007                 </td><td> 8                       </td><td>0                        </td><td>utf-8                    </td><td>2020-05-04T15:06:44+00:00</td><td>2020-05-04T15:06:44+00:00</td><td>2020-05-04T15:06:44+00:00</td><td>UTF8                     </td><td>1904224004               </td><td>...                      </td><td>0                        </td><td>0                        </td><td>0                        </td><td>U1.csv                   </td><td>BDF_DNFS                 </td><td>0                        </td><td>sebastien                </td><td>                         </td><td>2020-05-04T14:46:34+00:00</td><td>1904222794               </td></tr>\n",
       "\t<tr><td>U2                       </td><td>13390747                 </td><td> 8                       </td><td>0                        </td><td>utf-8                    </td><td>2020-05-04T15:07:11+00:00</td><td>2020-05-04T15:07:11+00:00</td><td>2020-05-04T15:07:11+00:00</td><td>UTF8                     </td><td>1904224031               </td><td>...                      </td><td>0                        </td><td>0                        </td><td>0                        </td><td>U2.csv                   </td><td>BDF_DNFS                 </td><td>0                        </td><td>sebastien                </td><td>                         </td><td>2020-05-04T14:46:59+00:00</td><td>1904222819               </td></tr>\n",
       "\t<tr><td>U3                       </td><td> 6077989                 </td><td> 8                       </td><td>0                        </td><td>utf-8                    </td><td>2020-05-04T15:07:35+00:00</td><td>2020-05-04T15:07:35+00:00</td><td>2020-05-04T15:07:35+00:00</td><td>UTF8                     </td><td>1904224055               </td><td>...                      </td><td>0                        </td><td>0                        </td><td>0                        </td><td>U3.csv                   </td><td>BDF_DNFS                 </td><td>0                        </td><td>sebastien                </td><td>                         </td><td>2020-05-04T14:47:12+00:00</td><td>1904222832               </td></tr>\n",
       "\t<tr><td>Z                        </td><td> 6486954                 </td><td> 8                       </td><td>0                        </td><td>utf-8                    </td><td>2020-05-04T15:07:45+00:00</td><td>2020-05-04T15:07:45+00:00</td><td>2020-05-04T15:07:45+00:00</td><td>UTF8                     </td><td>1904224065               </td><td>...                      </td><td>0                        </td><td>0                        </td><td>0                        </td><td>Z.csv                    </td><td>BDF_DNFS                 </td><td>0                        </td><td>sebastien                </td><td>                         </td><td>2020-05-04T14:47:23+00:00</td><td>1904222843               </td></tr>\n",
       "\t<tr><td>D                        </td><td>32038933                 </td><td> 8                       </td><td>0                        </td><td>utf-8                    </td><td>2020-05-04T15:07:56+00:00</td><td>2020-05-04T15:07:56+00:00</td><td>2020-05-04T15:07:56+00:00</td><td>UTF8                     </td><td>1904224076               </td><td>...                      </td><td>0                        </td><td>0                        </td><td>0                        </td><td>D.csv                    </td><td>BDF_DNFS                 </td><td>0                        </td><td>sebastien                </td><td>                         </td><td>2020-05-04T15:03:47+00:00</td><td>1904223827               </td></tr>\n",
       "</tbody>\n",
       "</table>\n"
      ],
      "text/latex": [
       "\\textbf{\\$TableInfo} = \\begin{tabular}{r|lllllllllllllllllllllll}\n",
       " Name & Rows & Columns & IndexedColumns & Encoding & CreateTimeFormatted & ModTimeFormatted & AccessTimeFormatted & JavaCharSet & CreateTime & ... & Repeated & View & MultiPart & SourceName & SourceCaslib & Compressed & Creator & Modifier & SourceModTimeFormatted & SourceModTime\\\\\n",
       "\\hline\n",
       "\t D1                        & 21648241                  &  8                        & 0                         & utf-8                     & 2020-05-04T15:04:35+00:00 & 2020-05-04T15:04:35+00:00 & 2020-05-04T15:04:35+00:00 & UTF8                      & 1904223875                & ...                       & 0                         & 0                         & 0                         & D1.csv                    & BDF\\_DNFS                & 0                         & sebastien                 &                           & 2020-05-04T14:44:07+00:00 & 1904222647               \\\\\n",
       "\t D2                        &  6472521                  &  8                        & 0                         & utf-8                     & 2020-05-04T15:04:53+00:00 & 2020-05-04T15:04:53+00:00 & 2020-05-04T15:04:53+00:00 & UTF8                      & 1904223893                & ...                       & 0                         & 0                         & 0                         & D2.csv                    & BDF\\_DNFS                & 0                         & sebastien                 &                           & 2020-05-04T14:44:25+00:00 & 1904222665               \\\\\n",
       "\t D3                        & 18196935                  &  8                        & 0                         & utf-8                     & 2020-05-04T15:05:04+00:00 & 2020-05-04T15:05:04+00:00 & 2020-05-04T15:05:04+00:00 & UTF8                      & 1904223904                & ...                       & 0                         & 0                         & 0                         & D3.csv                    & BDF\\_DNFS                & 0                         & sebastien                 &                           & 2020-05-04T14:44:56+00:00 & 1904222696               \\\\\n",
       "\t F                         &   597409                  &  8                        & 0                         & utf-8                     & 2020-05-04T15:05:37+00:00 & 2020-05-04T15:05:37+00:00 & 2020-05-04T15:05:37+00:00 & UTF8                      & 1904223937                & ...                       & 0                         & 0                         & 0                         & F.csv                     & BDF\\_DNFS                & 0                         & sebastien                 &                           & 2020-05-04T14:45:03+00:00 & 1904222703               \\\\\n",
       "\t O                         & 28344903                  &  8                        & 0                         & utf-8                     & 2020-05-04T15:05:38+00:00 & 2020-05-04T15:05:38+00:00 & 2020-05-04T15:05:38+00:00 & UTF8                      & 1904223938                & ...                       & 0                         & 0                         & 0                         & O.csv                     & BDF\\_DNFS                & 0                         & sebastien                 &                           & 2020-05-04T14:45:45+00:00 & 1904222745               \\\\\n",
       "\t P                         &  9530865                  &  8                        & 0                         & utf-8                     & 2020-05-04T15:06:28+00:00 & 2020-05-04T15:06:28+00:00 & 2020-05-04T15:06:28+00:00 & UTF8                      & 1904223988                & ...                       & 0                         & 0                         & 0                         & P.csv                     & BDF\\_DNFS                & 0                         & sebastien                 &                           & 2020-05-04T14:46:07+00:00 & 1904222767               \\\\\n",
       "\t PLANAGREGATION            &      533                  & 41                        & 0                         & utf-8                     & 2020-05-04T15:06:44+00:00 & 2020-05-04T15:06:44+00:00 & 2020-05-04T15:06:44+00:00 & UTF8                      & 1904224004                & ...                       & 0                         & 0                         & 0                         & PLANAGREGATION.csv        & BDF\\_DNFS                & 0                         & sebastien                 &                           & 2020-05-04T14:46:11+00:00 & 1904222771               \\\\\n",
       "\t TABLEPAYSZONE             &     3953                  &  5                        & 0                         & utf-8                     & 2020-05-04T15:06:44+00:00 & 2020-05-04T15:06:44+00:00 & 2020-05-04T15:06:44+00:00 & UTF8                      & 1904224004                & ...                       & 0                         & 0                         & 0                         & TABLEPAYSZONE.csv         & BDF\\_DNFS                & 0                         & sebastien                 &                           & 2020-05-04T14:46:11+00:00 & 1904222771               \\\\\n",
       "\t U1                        & 14835007                  &  8                        & 0                         & utf-8                     & 2020-05-04T15:06:44+00:00 & 2020-05-04T15:06:44+00:00 & 2020-05-04T15:06:44+00:00 & UTF8                      & 1904224004                & ...                       & 0                         & 0                         & 0                         & U1.csv                    & BDF\\_DNFS                & 0                         & sebastien                 &                           & 2020-05-04T14:46:34+00:00 & 1904222794               \\\\\n",
       "\t U2                        & 13390747                  &  8                        & 0                         & utf-8                     & 2020-05-04T15:07:11+00:00 & 2020-05-04T15:07:11+00:00 & 2020-05-04T15:07:11+00:00 & UTF8                      & 1904224031                & ...                       & 0                         & 0                         & 0                         & U2.csv                    & BDF\\_DNFS                & 0                         & sebastien                 &                           & 2020-05-04T14:46:59+00:00 & 1904222819               \\\\\n",
       "\t U3                        &  6077989                  &  8                        & 0                         & utf-8                     & 2020-05-04T15:07:35+00:00 & 2020-05-04T15:07:35+00:00 & 2020-05-04T15:07:35+00:00 & UTF8                      & 1904224055                & ...                       & 0                         & 0                         & 0                         & U3.csv                    & BDF\\_DNFS                & 0                         & sebastien                 &                           & 2020-05-04T14:47:12+00:00 & 1904222832               \\\\\n",
       "\t Z                         &  6486954                  &  8                        & 0                         & utf-8                     & 2020-05-04T15:07:45+00:00 & 2020-05-04T15:07:45+00:00 & 2020-05-04T15:07:45+00:00 & UTF8                      & 1904224065                & ...                       & 0                         & 0                         & 0                         & Z.csv                     & BDF\\_DNFS                & 0                         & sebastien                 &                           & 2020-05-04T14:47:23+00:00 & 1904222843               \\\\\n",
       "\t D                         & 32038933                  &  8                        & 0                         & utf-8                     & 2020-05-04T15:07:56+00:00 & 2020-05-04T15:07:56+00:00 & 2020-05-04T15:07:56+00:00 & UTF8                      & 1904224076                & ...                       & 0                         & 0                         & 0                         & D.csv                     & BDF\\_DNFS                & 0                         & sebastien                 &                           & 2020-05-04T15:03:47+00:00 & 1904223827               \\\\\n",
       "\\end{tabular}\n"
      ],
      "text/markdown": [
       "**$TableInfo** = \n",
       "| Name | Rows | Columns | IndexedColumns | Encoding | CreateTimeFormatted | ModTimeFormatted | AccessTimeFormatted | JavaCharSet | CreateTime | ... | Repeated | View | MultiPart | SourceName | SourceCaslib | Compressed | Creator | Modifier | SourceModTimeFormatted | SourceModTime |\n",
       "|---|---|---|---|---|---|---|---|---|---|---|---|---|---|---|---|---|---|---|---|---|\n",
       "| D1                        | 21648241                  |  8                        | 0                         | utf-8                     | 2020-05-04T15:04:35+00:00 | 2020-05-04T15:04:35+00:00 | 2020-05-04T15:04:35+00:00 | UTF8                      | 1904223875                | ...                       | 0                         | 0                         | 0                         | D1.csv                    | BDF_DNFS                  | 0                         | sebastien                 |                           | 2020-05-04T14:44:07+00:00 | 1904222647                |\n",
       "| D2                        |  6472521                  |  8                        | 0                         | utf-8                     | 2020-05-04T15:04:53+00:00 | 2020-05-04T15:04:53+00:00 | 2020-05-04T15:04:53+00:00 | UTF8                      | 1904223893                | ...                       | 0                         | 0                         | 0                         | D2.csv                    | BDF_DNFS                  | 0                         | sebastien                 |                           | 2020-05-04T14:44:25+00:00 | 1904222665                |\n",
       "| D3                        | 18196935                  |  8                        | 0                         | utf-8                     | 2020-05-04T15:05:04+00:00 | 2020-05-04T15:05:04+00:00 | 2020-05-04T15:05:04+00:00 | UTF8                      | 1904223904                | ...                       | 0                         | 0                         | 0                         | D3.csv                    | BDF_DNFS                  | 0                         | sebastien                 |                           | 2020-05-04T14:44:56+00:00 | 1904222696                |\n",
       "| F                         |   597409                  |  8                        | 0                         | utf-8                     | 2020-05-04T15:05:37+00:00 | 2020-05-04T15:05:37+00:00 | 2020-05-04T15:05:37+00:00 | UTF8                      | 1904223937                | ...                       | 0                         | 0                         | 0                         | F.csv                     | BDF_DNFS                  | 0                         | sebastien                 |                           | 2020-05-04T14:45:03+00:00 | 1904222703                |\n",
       "| O                         | 28344903                  |  8                        | 0                         | utf-8                     | 2020-05-04T15:05:38+00:00 | 2020-05-04T15:05:38+00:00 | 2020-05-04T15:05:38+00:00 | UTF8                      | 1904223938                | ...                       | 0                         | 0                         | 0                         | O.csv                     | BDF_DNFS                  | 0                         | sebastien                 |                           | 2020-05-04T14:45:45+00:00 | 1904222745                |\n",
       "| P                         |  9530865                  |  8                        | 0                         | utf-8                     | 2020-05-04T15:06:28+00:00 | 2020-05-04T15:06:28+00:00 | 2020-05-04T15:06:28+00:00 | UTF8                      | 1904223988                | ...                       | 0                         | 0                         | 0                         | P.csv                     | BDF_DNFS                  | 0                         | sebastien                 |                           | 2020-05-04T14:46:07+00:00 | 1904222767                |\n",
       "| PLANAGREGATION            |      533                  | 41                        | 0                         | utf-8                     | 2020-05-04T15:06:44+00:00 | 2020-05-04T15:06:44+00:00 | 2020-05-04T15:06:44+00:00 | UTF8                      | 1904224004                | ...                       | 0                         | 0                         | 0                         | PLANAGREGATION.csv        | BDF_DNFS                  | 0                         | sebastien                 |                           | 2020-05-04T14:46:11+00:00 | 1904222771                |\n",
       "| TABLEPAYSZONE             |     3953                  |  5                        | 0                         | utf-8                     | 2020-05-04T15:06:44+00:00 | 2020-05-04T15:06:44+00:00 | 2020-05-04T15:06:44+00:00 | UTF8                      | 1904224004                | ...                       | 0                         | 0                         | 0                         | TABLEPAYSZONE.csv         | BDF_DNFS                  | 0                         | sebastien                 |                           | 2020-05-04T14:46:11+00:00 | 1904222771                |\n",
       "| U1                        | 14835007                  |  8                        | 0                         | utf-8                     | 2020-05-04T15:06:44+00:00 | 2020-05-04T15:06:44+00:00 | 2020-05-04T15:06:44+00:00 | UTF8                      | 1904224004                | ...                       | 0                         | 0                         | 0                         | U1.csv                    | BDF_DNFS                  | 0                         | sebastien                 |                           | 2020-05-04T14:46:34+00:00 | 1904222794                |\n",
       "| U2                        | 13390747                  |  8                        | 0                         | utf-8                     | 2020-05-04T15:07:11+00:00 | 2020-05-04T15:07:11+00:00 | 2020-05-04T15:07:11+00:00 | UTF8                      | 1904224031                | ...                       | 0                         | 0                         | 0                         | U2.csv                    | BDF_DNFS                  | 0                         | sebastien                 |                           | 2020-05-04T14:46:59+00:00 | 1904222819                |\n",
       "| U3                        |  6077989                  |  8                        | 0                         | utf-8                     | 2020-05-04T15:07:35+00:00 | 2020-05-04T15:07:35+00:00 | 2020-05-04T15:07:35+00:00 | UTF8                      | 1904224055                | ...                       | 0                         | 0                         | 0                         | U3.csv                    | BDF_DNFS                  | 0                         | sebastien                 |                           | 2020-05-04T14:47:12+00:00 | 1904222832                |\n",
       "| Z                         |  6486954                  |  8                        | 0                         | utf-8                     | 2020-05-04T15:07:45+00:00 | 2020-05-04T15:07:45+00:00 | 2020-05-04T15:07:45+00:00 | UTF8                      | 1904224065                | ...                       | 0                         | 0                         | 0                         | Z.csv                     | BDF_DNFS                  | 0                         | sebastien                 |                           | 2020-05-04T14:47:23+00:00 | 1904222843                |\n",
       "| D                         | 32038933                  |  8                        | 0                         | utf-8                     | 2020-05-04T15:07:56+00:00 | 2020-05-04T15:07:56+00:00 | 2020-05-04T15:07:56+00:00 | UTF8                      | 1904224076                | ...                       | 0                         | 0                         | 0                         | D.csv                     | BDF_DNFS                  | 0                         | sebastien                 |                           | 2020-05-04T15:03:47+00:00 | 1904223827                |\n",
       "\n"
      ],
      "text/plain": [
       "$TableInfo\n",
       "             Name     Rows Columns IndexedColumns Encoding\n",
       "1              D1 21648241       8              0    utf-8\n",
       "2              D2  6472521       8              0    utf-8\n",
       "3              D3 18196935       8              0    utf-8\n",
       "4               F   597409       8              0    utf-8\n",
       "5               O 28344903       8              0    utf-8\n",
       "6               P  9530865       8              0    utf-8\n",
       "7  PLANAGREGATION      533      41              0    utf-8\n",
       "8   TABLEPAYSZONE     3953       5              0    utf-8\n",
       "9              U1 14835007       8              0    utf-8\n",
       "10             U2 13390747       8              0    utf-8\n",
       "11             U3  6077989       8              0    utf-8\n",
       "12              Z  6486954       8              0    utf-8\n",
       "13              D 32038933       8              0    utf-8\n",
       "         CreateTimeFormatted          ModTimeFormatted\n",
       "1  2020-05-04T15:04:35+00:00 2020-05-04T15:04:35+00:00\n",
       "2  2020-05-04T15:04:53+00:00 2020-05-04T15:04:53+00:00\n",
       "3  2020-05-04T15:05:04+00:00 2020-05-04T15:05:04+00:00\n",
       "4  2020-05-04T15:05:37+00:00 2020-05-04T15:05:37+00:00\n",
       "5  2020-05-04T15:05:38+00:00 2020-05-04T15:05:38+00:00\n",
       "6  2020-05-04T15:06:28+00:00 2020-05-04T15:06:28+00:00\n",
       "7  2020-05-04T15:06:44+00:00 2020-05-04T15:06:44+00:00\n",
       "8  2020-05-04T15:06:44+00:00 2020-05-04T15:06:44+00:00\n",
       "9  2020-05-04T15:06:44+00:00 2020-05-04T15:06:44+00:00\n",
       "10 2020-05-04T15:07:11+00:00 2020-05-04T15:07:11+00:00\n",
       "11 2020-05-04T15:07:35+00:00 2020-05-04T15:07:35+00:00\n",
       "12 2020-05-04T15:07:45+00:00 2020-05-04T15:07:45+00:00\n",
       "13 2020-05-04T15:07:56+00:00 2020-05-04T15:07:56+00:00\n",
       "         AccessTimeFormatted JavaCharSet CreateTime    ModTime AccessTime\n",
       "1  2020-05-04T15:04:35+00:00        UTF8 1904223875 1904223875 1904223875\n",
       "2  2020-05-04T15:04:53+00:00        UTF8 1904223893 1904223893 1904223893\n",
       "3  2020-05-04T15:05:04+00:00        UTF8 1904223904 1904223904 1904223904\n",
       "4  2020-05-04T15:05:37+00:00        UTF8 1904223937 1904223937 1904223937\n",
       "5  2020-05-04T15:05:38+00:00        UTF8 1904223938 1904223938 1904223938\n",
       "6  2020-05-04T15:06:28+00:00        UTF8 1904223988 1904223988 1904223988\n",
       "7  2020-05-04T15:06:44+00:00        UTF8 1904224004 1904224004 1904224004\n",
       "8  2020-05-04T15:06:44+00:00        UTF8 1904224004 1904224004 1904224004\n",
       "9  2020-05-04T15:06:44+00:00        UTF8 1904224004 1904224004 1904224004\n",
       "10 2020-05-04T15:07:11+00:00        UTF8 1904224031 1904224031 1904224031\n",
       "11 2020-05-04T15:07:35+00:00        UTF8 1904224055 1904224055 1904224055\n",
       "12 2020-05-04T15:07:45+00:00        UTF8 1904224065 1904224065 1904224065\n",
       "13 2020-05-04T15:07:56+00:00        UTF8 1904224076 1904224076 1904224076\n",
       "   Global Repeated View MultiPart         SourceName SourceCaslib Compressed\n",
       "1       0        0    0         0             D1.csv     BDF_DNFS          0\n",
       "2       0        0    0         0             D2.csv     BDF_DNFS          0\n",
       "3       0        0    0         0             D3.csv     BDF_DNFS          0\n",
       "4       0        0    0         0              F.csv     BDF_DNFS          0\n",
       "5       0        0    0         0              O.csv     BDF_DNFS          0\n",
       "6       0        0    0         0              P.csv     BDF_DNFS          0\n",
       "7       0        0    0         0 PLANAGREGATION.csv     BDF_DNFS          0\n",
       "8       0        0    0         0  TABLEPAYSZONE.csv     BDF_DNFS          0\n",
       "9       0        0    0         0             U1.csv     BDF_DNFS          0\n",
       "10      0        0    0         0             U2.csv     BDF_DNFS          0\n",
       "11      0        0    0         0             U3.csv     BDF_DNFS          0\n",
       "12      0        0    0         0              Z.csv     BDF_DNFS          0\n",
       "13      0        0    0         0              D.csv     BDF_DNFS          0\n",
       "     Creator Modifier    SourceModTimeFormatted SourceModTime\n",
       "1  sebastien          2020-05-04T14:44:07+00:00    1904222647\n",
       "2  sebastien          2020-05-04T14:44:25+00:00    1904222665\n",
       "3  sebastien          2020-05-04T14:44:56+00:00    1904222696\n",
       "4  sebastien          2020-05-04T14:45:03+00:00    1904222703\n",
       "5  sebastien          2020-05-04T14:45:45+00:00    1904222745\n",
       "6  sebastien          2020-05-04T14:46:07+00:00    1904222767\n",
       "7  sebastien          2020-05-04T14:46:11+00:00    1904222771\n",
       "8  sebastien          2020-05-04T14:46:11+00:00    1904222771\n",
       "9  sebastien          2020-05-04T14:46:34+00:00    1904222794\n",
       "10 sebastien          2020-05-04T14:46:59+00:00    1904222819\n",
       "11 sebastien          2020-05-04T14:47:12+00:00    1904222832\n",
       "12 sebastien          2020-05-04T14:47:23+00:00    1904222843\n",
       "13 sebastien          2020-05-04T15:03:47+00:00    1904223827\n"
      ]
     },
     "metadata": {},
     "output_type": "display_data"
    }
   ],
   "source": [
    "cas.table.tableInfo(conn,caslib=\"casuser\")"
   ]
  },
  {
   "cell_type": "markdown",
   "metadata": {},
   "source": [
    "## Concatenation totale de toutes les tables d'agregat en mémoire pour former une table nommee AGGTTECATEGORIE"
   ]
  },
  {
   "cell_type": "code",
   "execution_count": 29,
   "metadata": {},
   "outputs": [
    {
     "name": "stderr",
     "output_type": "stream",
     "text": [
      "NOTE: Executing action 'table.tableInfo'.\n",
      "NOTE: Action 'table.tableInfo' used (Total process time):\n",
      "NOTE:       real time               0.006632 seconds\n",
      "NOTE:       cpu time                0.014130 seconds (213.06%)\n",
      "NOTE:       total nodes             5 (76 cores)\n",
      "NOTE:       total memory            515.57G\n",
      "NOTE:       memory                  1.94M (0.00%)\n",
      "NOTE: Executing action 'table.dropTable'.\n",
      "NOTE: Action 'table.dropTable' used (Total process time):\n",
      "NOTE:       real time               0.010233 seconds\n",
      "NOTE:       cpu time                0.018169 seconds (177.55%)\n",
      "NOTE:       total nodes             5 (76 cores)\n",
      "NOTE:       total memory            515.57G\n",
      "NOTE:       memory                  1.46M (0.00%)\n",
      "NOTE: Executing action 'dataStep.runCode'.\n",
      "NOTE: Action 'dataStep.runCode' used (Total process time):\n",
      "NOTE:       real time               1.257381 seconds\n",
      "NOTE:       cpu time                33.346351 seconds (2652.05%)\n",
      "NOTE:       total nodes             5 (76 cores)\n",
      "NOTE:       total memory            515.57G\n",
      "NOTE:       memory                  262.51M (0.05%)\n",
      "NOTE: Executing action 'dataStep.runCode'.\n",
      "NOTE: Action 'dataStep.runCode' used (Total process time):\n",
      "NOTE:       real time               0.423120 seconds\n",
      "NOTE:       cpu time                9.830840 seconds (2323.42%)\n",
      "NOTE:       total nodes             5 (76 cores)\n",
      "NOTE:       total memory            515.57G\n",
      "NOTE:       memory                  42.81M (0.01%)\n",
      "NOTE: Executing action 'dataStep.runCode'.\n",
      "NOTE: Action 'dataStep.runCode' used (Total process time):\n",
      "NOTE:       real time               1.102507 seconds\n",
      "NOTE:       cpu time                28.556111 seconds (2590.11%)\n",
      "NOTE:       total nodes             5 (76 cores)\n",
      "NOTE:       total memory            515.57G\n",
      "NOTE:       memory                  44.23M (0.01%)\n",
      "NOTE: Executing action 'dataStep.runCode'.\n",
      "NOTE: Action 'dataStep.runCode' used (Total process time):\n",
      "NOTE:       real time               0.133350 seconds\n",
      "NOTE:       cpu time                1.119976 seconds (839.88%)\n",
      "NOTE:       total nodes             5 (76 cores)\n",
      "NOTE:       total memory            515.57G\n",
      "NOTE:       memory                  42.17M (0.01%)\n",
      "NOTE: Executing action 'dataStep.runCode'.\n",
      "NOTE: Action 'dataStep.runCode' used (Total process time):\n",
      "NOTE:       real time               1.376358 seconds\n",
      "NOTE:       cpu time                43.449696 seconds (3156.86%)\n",
      "NOTE:       total nodes             5 (76 cores)\n",
      "NOTE:       total memory            515.57G\n",
      "NOTE:       memory                  43.82M (0.01%)\n",
      "NOTE: Executing action 'dataStep.runCode'.\n",
      "NOTE: Action 'dataStep.runCode' used (Total process time):\n",
      "NOTE:       real time               0.506950 seconds\n",
      "NOTE:       cpu time                14.496442 seconds (2859.54%)\n",
      "NOTE:       total nodes             5 (76 cores)\n",
      "NOTE:       total memory            515.57G\n",
      "NOTE:       memory                  42.95M (0.01%)\n",
      "NOTE: Executing action 'dataStep.runCode'.\n",
      "NOTE: Action 'dataStep.runCode' used (Total process time):\n",
      "NOTE:       real time               1.014268 seconds\n",
      "NOTE:       cpu time                22.155225 seconds (2184.36%)\n",
      "NOTE:       total nodes             5 (76 cores)\n",
      "NOTE:       total memory            515.57G\n",
      "NOTE:       memory                  42.36M (0.01%)\n",
      "NOTE: Executing action 'dataStep.runCode'.\n",
      "NOTE: Action 'dataStep.runCode' used (Total process time):\n",
      "NOTE:       real time               0.988450 seconds\n",
      "NOTE:       cpu time                19.944767 seconds (2017.78%)\n",
      "NOTE:       total nodes             5 (76 cores)\n",
      "NOTE:       total memory            515.57G\n",
      "NOTE:       memory                  42.40M (0.01%)\n",
      "NOTE: Executing action 'dataStep.runCode'.\n",
      "NOTE: Action 'dataStep.runCode' used (Total process time):\n",
      "NOTE:       real time               0.389739 seconds\n",
      "NOTE:       cpu time                8.842347 seconds (2268.79%)\n",
      "NOTE:       total nodes             5 (76 cores)\n",
      "NOTE:       total memory            515.57G\n",
      "NOTE:       memory                  42.16M (0.01%)\n",
      "NOTE: Executing action 'dataStep.runCode'.\n",
      "NOTE: Action 'dataStep.runCode' used (Total process time):\n",
      "NOTE:       real time               0.396024 seconds\n",
      "NOTE:       cpu time                9.036885 seconds (2281.90%)\n",
      "NOTE:       total nodes             5 (76 cores)\n",
      "NOTE:       total memory            515.57G\n",
      "NOTE:       memory                  45.39M (0.01%)\n",
      "NOTE: Executing action 'dataStep.runCode'.\n",
      "NOTE: Action 'dataStep.runCode' used (Total process time):\n",
      "NOTE:       real time               1.699363 seconds\n",
      "NOTE:       cpu time                48.543579 seconds (2856.58%)\n",
      "NOTE:       total nodes             5 (76 cores)\n",
      "NOTE:       total memory            515.57G\n",
      "NOTE:       memory                  43.49M (0.01%)\n",
      "NOTE: Executing action 'table.columnInfo'.\n",
      "NOTE: Action 'table.columnInfo' used (Total process time):\n",
      "NOTE:       real time               0.006270 seconds\n",
      "NOTE:       cpu time                0.013921 seconds (222.03%)\n",
      "NOTE:       total nodes             5 (76 cores)\n",
      "NOTE:       total memory            515.57G\n",
      "NOTE:       memory                  2.56M (0.00%)\n",
      "NOTE: Executing action 'simple.numRows'.\n",
      "NOTE: Action 'simple.numRows' used (Total process time):\n",
      "NOTE:       real time               0.006209 seconds\n",
      "NOTE:       cpu time                0.015075 seconds (242.79%)\n",
      "NOTE:       total nodes             5 (76 cores)\n",
      "NOTE:       total memory            515.57G\n",
      "NOTE:       memory                  2.26M (0.00%)\n"
     ]
    },
    {
     "data": {
      "text/html": [
       "157620504"
      ],
      "text/latex": [
       "157620504"
      ],
      "text/markdown": [
       "157620504"
      ],
      "text/plain": [
       "[1] 157620504"
      ]
     },
     "metadata": {},
     "output_type": "display_data"
    }
   ],
   "source": [
    "cas_concat_all_tables(conn, \"casuser\",\"casuser\",\"AGGTTECATEGORIE\")\n",
    "table_AggregationMensuelleTouteCategorie <- defCasTable(conn, tablename='AGGTTECATEGORIE', caslib='casuser')\n",
    "nrow(table_AggregationMensuelleTouteCategorie)"
   ]
  },
  {
   "cell_type": "markdown",
   "metadata": {},
   "source": [
    "## Produire la repartition en nombre d'enregistrements par categorie a partir de l'agregation faite en memoire par le moteur CAS sur la table globale AGGTTECATEGORIE et la recuperation de ces agregats en entree de la fonction PIE de R"
   ]
  },
  {
   "cell_type": "code",
   "execution_count": 30,
   "metadata": {},
   "outputs": [
    {
     "name": "stderr",
     "output_type": "stream",
     "text": [
      "NOTE: Executing action 'simple.freq'.\n",
      "NOTE: Action 'simple.freq' used (Total process time):\n",
      "NOTE:       real time               1.131964 seconds\n",
      "NOTE:       cpu time                47.988781 seconds (4239.43%)\n",
      "NOTE:       total nodes             5 (76 cores)\n",
      "NOTE:       total memory            515.57G\n",
      "NOTE:       memory                  75.44M (0.01%)\n",
      "NOTE:       bytes moved             1.45K\n"
     ]
    },
    {
     "data": {
      "text/html": [
       "<strong>$OutputCasTables</strong> = <table>\n",
       "<thead><tr><th scope=col>casLib</th><th scope=col>Name</th><th scope=col>Rows</th><th scope=col>Columns</th></tr></thead>\n",
       "<tbody>\n",
       "\t<tr><td>CASUSER(sebastien)  </td><td>AGGTTECATEGORIE_freq</td><td>11                  </td><td>5                   </td></tr>\n",
       "</tbody>\n",
       "</table>\n"
      ],
      "text/latex": [
       "\\textbf{\\$OutputCasTables} = \\begin{tabular}{r|llll}\n",
       " casLib & Name & Rows & Columns\\\\\n",
       "\\hline\n",
       "\t CASUSER(sebastien)     & AGGTTECATEGORIE\\_freq & 11                     & 5                     \\\\\n",
       "\\end{tabular}\n"
      ],
      "text/markdown": [
       "**$OutputCasTables** = \n",
       "| casLib | Name | Rows | Columns |\n",
       "|---|---|---|---|\n",
       "| CASUSER(sebastien)   | AGGTTECATEGORIE_freq | 11                   | 5                    |\n",
       "\n"
      ],
      "text/plain": [
       "$OutputCasTables\n",
       "              casLib                 Name Rows Columns\n",
       "1 CASUSER(sebastien) AGGTTECATEGORIE_freq   11       5\n"
      ]
     },
     "metadata": {},
     "output_type": "display_data"
    },
    {
     "name": "stderr",
     "output_type": "stream",
     "text": [
      "NOTE: Executing action 'table.fetch'.\n",
      "NOTE: Action 'table.fetch' used (Total process time):\n",
      "NOTE:       real time               0.018251 seconds\n",
      "NOTE:       cpu time                0.068283 seconds (374.13%)\n",
      "NOTE:       total nodes             5 (76 cores)\n",
      "NOTE:       total memory            515.57G\n",
      "NOTE:       memory                  12.22M (0.00%)\n"
     ]
    },
    {
     "name": "stdout",
     "output_type": "stream",
     "text": [
      "$Fetch\n",
      "   _Index_  _Column_ _Charvar_ _Fmtvar_ _Level_ _Frequency_\n",
      "1        1 tablename         D        D       7    32038933\n",
      "2        2 tablename         O        O       5    28344903\n",
      "3        3 tablename        D1       D1       9    21648241\n",
      "4        4 tablename        D3       D3       4    18196935\n",
      "5        5 tablename        U1       U1      11    14835007\n",
      "6        6 tablename        U2       U2       1    13390747\n",
      "7        7 tablename         P        P      10     9530865\n",
      "8        8 tablename         Z        Z       3     6486954\n",
      "9        9 tablename        D2       D2       8     6472521\n",
      "10      10 tablename        U3       U3       2     6077989\n",
      "11      11 tablename         F        F       6      597409\n",
      "\n"
     ]
    },
    {
     "data": {
      "image/png": "[encoded data removed]",
      "text/plain": [
       "Plot with title “Rows by table name”"
      ]
     },
     "metadata": {},
     "output_type": "display_data"
    }
   ],
   "source": [
    "cas.simple.freq(conn, inputs = c(\"tablename\"),table = c(name = \"AGGTTECATEGORIE\"),casout = c(name = \"AGGTTECATEGORIE_freq\", replace = TRUE)) \n",
    "res <- cas.table.fetch(conn, table = \"AGGTTECATEGORIE_freq\", sortBy = list(list(name = \"_Frequency_\",order = \"descending\")))\n",
    "print(res)\n",
    "piedata <- res$Fetch                                              # \n",
    "names(piedata) <- gsub(\"_\", \"\", names(piedata))\n",
    "piedata <- piedata[order(piedata$Frequency),]\n",
    "total <- sum(piedata$Frequency)\n",
    "piedata$Percent <- scales::percent(piedata$Frequency / total)\n",
    "fillcolors = c(\"#6F7EB3\", \"#D05B5B\", \"#66A5A0\", \"#A9865B\",\"#B689CD\", \"#BABC5C\")\n",
    "par(mar = c(3, 0, 1.5, 0), xpd=TRUE)\n",
    "pie(piedata$Frequency,labels = piedata$Percent, col=fillcolors, radius=0.85, clockwise=TRUE, init.angle=0, main=\"Rows by table name\")\n",
    "legend(x=-0.85, y=-1, horiz = FALSE, piedata$Charvar, fill = fillcolors, ncol=3)"
   ]
  },
  {
   "cell_type": "markdown",
   "metadata": {},
   "source": [
    "## Declaration des table CAS en tant qu'objet de type CASTable en R"
   ]
  },
  {
   "cell_type": "code",
   "execution_count": 31,
   "metadata": {},
   "outputs": [
    {
     "name": "stderr",
     "output_type": "stream",
     "text": [
      "NOTE: Executing action 'table.columnInfo'.\n",
      "NOTE: Action 'table.columnInfo' used (Total process time):\n",
      "NOTE:       real time               0.005712 seconds\n",
      "NOTE:       cpu time                0.013522 seconds (236.73%)\n",
      "NOTE:       total nodes             5 (76 cores)\n",
      "NOTE:       total memory            515.57G\n",
      "NOTE:       memory                  2.56M (0.00%)\n",
      "NOTE: Executing action 'table.columnInfo'.\n",
      "NOTE: Action 'table.columnInfo' used (Total process time):\n",
      "NOTE:       real time               0.005984 seconds\n",
      "NOTE:       cpu time                0.013594 seconds (227.17%)\n",
      "NOTE:       total nodes             5 (76 cores)\n",
      "NOTE:       total memory            515.57G\n",
      "NOTE:       memory                  2.56M (0.00%)\n"
     ]
    }
   ],
   "source": [
    "table_pays_zone <- defCasTable(conn, tablename='TABLEPAYSZONE', caslib='casuser')\n",
    "table_planAggregation <- defCasTable(conn, tablename='PLANAGREGATION', caslib='casuser')"
   ]
  },
  {
   "cell_type": "markdown",
   "metadata": {},
   "source": [
    "# Code principal basé sur le programme R existant"
   ]
  },
  {
   "cell_type": "markdown",
   "metadata": {},
   "source": [
    "## Fonction de traitement principal"
   ]
  },
  {
   "cell_type": "code",
   "execution_count": 32,
   "metadata": {},
   "outputs": [],
   "source": [
    "traitement_principal <- function(freq, RevFin, PeriodeFin, planAggregation,ReferencePiZones, Repertoire, ConnectionSecureDB)\n",
    "{\n",
    "  Frequence <- freq\n",
    "  HeureDebut <- Sys.time()\n",
    "  An = as.numeric(ExtractString(PeriodeFin, 1, 4))\n",
    "  print(\"ETAPE DATA: LECTURE TABLE PI_ZONE\")\n",
    "  print(Sys.time())\n",
    "  TablePiZone <- recuperation_traitement_table_code_pays(ReferencePiZones, ConnectionSecureDB)\n",
    "  #return(TablePiZone)\n",
    "  print(\" TAILLE TABLE TablePaysZone\")\n",
    "  print(dim(TablePiZone))\n",
    "  print(Sys.time())\n",
    "  print(\"LECTURE ET MISE EN FORME DES FICHIERS D'AGGREGATION CODE SERIE\")\n",
    "  print(Sys.time())\n",
    "  # planAggregation <- \"PlanAggregation.csv\"\n",
    "  planAgregationCodeSerie <- lecture_fichier_aggregation_codeSerie(planAggregation, connectionSecureDB)\n",
    "  # # write_delim(planAgregationCodeSerie, \"planAgregationCodeSerie.csv\", delim=\";\")\n",
    "  print(\" TAILLE TABLE planAgregationCodeSerie\")\n",
    "  print(dim(planAgregationCodeSerie))\n",
    "  print(Sys.time())\n",
    "  print(\"JOINTURE PLAN D'AGGREGATION\")\n",
    "  PlanAggregationParametre <- parametrage_aggregation_code_serie(planAgregationCodeSerie, TablePiZone, freq) \n",
    "    \n",
    "  # # write_delim(PlanAggregationParametre, \"PlanAggregationParametre.csv\", delim=\";\")\n",
    "  print(\"Taille plan d'agregation\")\n",
    "  print(dim(PlanAggregationParametre))\n",
    "  print(names(PlanAggregationParametre))\n",
    "\n",
    "  # Ecriture du dataframe de sortie en table CAS pour les futures jointures\n",
    "  PlanAggregationParametreCAS <- as.casTable(ConnectionSecureDB, PlanAggregationParametre, casOut=list(caslib=\"casuser\", name=\"PLANAGGPARAM\",replace=TRUE))\n",
    "  print(dim(PlanAggregationParametreCAS))\n",
    "    \n",
    "  print(\"ESTIMATION NOMBRE DE PERIODE ET DE DEBUT DE TRAITEMENT\")\n",
    "  result_nbperiode_moisdebut <- detection_nbPeriode_moisDebut(freq, RevFin, PeriodeFin)\n",
    "  NbrePeriode <- result_nbperiode_moisdebut$nbper\n",
    "  MoisDebut <- as.numeric(result_nbperiode_moisdebut$moisDebut)\n",
    "  print(MoisDebut)\n",
    "  \n",
    "  rm(result_nbperiode_moisdebut)\n",
    "  \n",
    "  print(\"BOUCLE DU LES MOIS\")\n",
    "\n",
    " # On supprime la table d'agregat finale si elle existe avant de la reconstruire de la boucle mensuelle suivante   \n",
    " cas.table.dropTable(conn, caslib='casuser', name='AGG_FINALE', quiet=TRUE)\n",
    "    \n",
    "  for(mois in MoisDebut:(MoisDebut+NbrePeriode-1))\n",
    "  {\n",
    "     print(paste0(\"     Mois debut \", MoisDebut))\n",
    "     print(paste0(\"     Mois fin \", (MoisDebut+NbrePeriode-1)))\n",
    "     print(paste0(\"     Mois en cours de traitement: \", mois))\n",
    "     \n",
    "     print(Sys.time())\n",
    "     \n",
    "     print(\"                      lecture\")\n",
    "\n",
    "     AggregationMensuelleTouteCategorie <- lecture_tables_aggregation(freq, Mois, RevFin, PeriodeFin, Repertoire, ConnectionSecureDB,'AGGTTECATEGORIE','AGG_MENS_TEMP')\n",
    "     print(\"Taille table d'agregation\")\n",
    "     print(dim(AggregationMensuelleTouteCategorie))\n",
    "     print(names(AggregationMensuelleTouteCategorie))\n",
    "      \n",
    "     TableIdMixte <- lecture_tables_mixte(freq, Mois, RevFin, PeriodeFin, Repertoire, ConnectionSecureDB,'AGGTTECATEGORIE','AGG_MIXTE')\n",
    "     print(dim(TableIdMixte))\n",
    "     print(names(TableIdMixte))\n",
    "     print(Sys.time())\n",
    "     \n",
    "     print(\"PARAMETRAGE CODE SERIE\") \n",
    "     \n",
    "     print(\"APPLICATION PARAMETRAGE CODE SERIE\") \n",
    "     \n",
    "     AggregationCodeSerieFinaleMensuelle <- application_plan_parametrage_aggregation_code_serie_mensuel('AGG_MENS_TEMP', 'PLANAGGPARAM', ConnectionSecureDB,'AGG_MENS')\n",
    "     print(names(AggregationCodeSerieFinaleMensuelle))\n",
    "      \n",
    "     # On ajoute la table mensuelle à la table globale finale\n",
    "     cas_append2tables(conn, 'casuser', 'AGG_MENS', 'casuser', 'AGG_FINALE')\n",
    "  }\n",
    "}"
   ]
  },
  {
   "cell_type": "markdown",
   "metadata": {},
   "source": [
    "## Definition des variables"
   ]
  },
  {
   "cell_type": "code",
   "execution_count": 33,
   "metadata": {},
   "outputs": [],
   "source": [
    "Repertoire <- \"AC156203\"\n",
    "RevFin<- \"SD10\"\n",
    "PeriodeFin <- \"2018Q4\"\n",
    "freq <- \"Q\"\n",
    "planAggregation <- table_planAggregation\n",
    "ReferencePiZones <- table_pays_zone\n",
    "ConnectionSecureDB <- conn # Connexion securisee a la session CAS"
   ]
  },
  {
   "cell_type": "code",
   "execution_count": 34,
   "metadata": {},
   "outputs": [
    {
     "name": "stdout",
     "output_type": "stream",
     "text": [
      "[1] \"ETAPE DATA: LECTURE TABLE PI_ZONE\"\n",
      "[1] \"2020-05-04 15:08:14 UTC\"\n",
      "[1] \"recuperation_traitement_table_code_pays monostream\"\n",
      "[1] \"2020-05-04 15:08:14 UTC\"\n"
     ]
    },
    {
     "name": "stderr",
     "output_type": "stream",
     "text": [
      "NOTE: Executing action 'table.fetch'.\n",
      "NOTE: Action 'table.fetch' used (Total process time):\n",
      "NOTE:       real time               0.085651 seconds\n",
      "NOTE:       cpu time                0.096375 seconds (112.52%)\n",
      "NOTE:       total nodes             5 (76 cores)\n",
      "NOTE:       total memory            515.57G\n",
      "NOTE:       memory                  8.22M (0.00%)\n",
      "Column 1 ['code_zone'] of item 2 is missing in item 1. Use fill=TRUE to fill with NA (NULL for list columns), or use.names=FALSE to ignore column names. use.names='check' (default from v1.12.2) emits this message and proceeds as if use.names=FALSE for  backwards compatibility. See news item 5 in v1.12.2 for options to control this message.\n"
     ]
    },
    {
     "name": "stdout",
     "output_type": "stream",
     "text": [
      "[1] \"end recuperation_traitement_table_code_pays monostream\"\n",
      "[1] \"2020-05-04 15:08:20 UTC\"\n",
      "[1] \" TAILLE TABLE TablePaysZone\"\n",
      "[1] 445   3\n",
      "[1] \"2020-05-04 15:08:20 UTC\"\n",
      "[1] \"LECTURE ET MISE EN FORME DES FICHIERS D'AGGREGATION CODE SERIE\"\n",
      "[1] \"2020-05-04 15:08:20 UTC\"\n",
      "[1] \"lecture_fichier_aggregation_codeSerie monostream\"\n"
     ]
    },
    {
     "name": "stderr",
     "output_type": "stream",
     "text": [
      "NOTE: Executing action 'table.fetch'.\n",
      "NOTE: Action 'table.fetch' used (Total process time):\n",
      "NOTE:       real time               0.028065 seconds\n",
      "NOTE:       cpu time                0.049882 seconds (177.74%)\n",
      "NOTE:       total nodes             5 (76 cores)\n",
      "NOTE:       total memory            515.57G\n",
      "NOTE:       memory                  7.37M (0.00%)\n"
     ]
    },
    {
     "name": "stdout",
     "output_type": "stream",
     "text": [
      "[1] \" TAILLE TABLE planAgregationCodeSerie\"\n",
      "[1] 2697    3\n",
      "[1] \"2020-05-04 15:08:24 UTC\"\n",
      "[1] \"JOINTURE PLAN D'AGGREGATION\"\n",
      "[1] \"parametrage_aggregation_code_serie monostream\"\n",
      "[1] \"2020-05-04 15:08:24 UTC\"\n",
      "[1] \"Recuperation des positions et longueur parents dans les codes\"\n",
      "[1] \"Recuperation des positions et longueur des parametres dans les codes\"\n",
      "[1] \"2020-05-04 15:08:25 UTC\"\n",
      "[1] \"Recuperation des positions et longueur des index dans les codes\"\n",
      "[1] \"2020-05-04 15:08:26 UTC\"\n",
      "[1] \"9 GB\"\n",
      "[1] \"Creation des variables cd2_, cd3_, cd1_, refsec, countsec par decoupage des codes\"\n",
      "[1] \"2020-05-04 15:08:26 UTC\"\n",
      "[1] \"Modification conditionnelle des valeurs de code entree et code sortie\"\n",
      "[1] \"2020-05-04 15:08:26 UTC\"\n",
      "[1] \"Jointure de la table AggregationTable TablePiZone\"\n",
      "[1] 7125   20\n",
      " [1] \"code_sortie\"       \"code_entree\"       \"formule\"          \n",
      " [4] \"enfants\"           \"parents\"           \"cle\"              \n",
      " [7] \"ind_\"              \"PositionEnfant\"    \"LongueurEnfant\"   \n",
      "[10] \"PositionParametre\" \"LongueurParametre\" \"PositionIndex\"    \n",
      "[13] \"LongueurIndex\"     \"cd2_\"              \"cd3_\"             \n",
      "[16] \"cd1_\"              \"refsec\"            \"countsec\"         \n",
      "[19] \"selectionLigne1\"   \"selectionLigne3\"  \n",
      "[1] \"Modification conditionelle (lorsque la cle jointure n'existe pas) de code entree et code sortie\"\n",
      "[1] \"2020-05-04 15:08:51 UTC\"\n",
      "[1] \"TAILLE TABLE PLAN AGREGATION\"\n",
      "[1] 2639427       3\n",
      "[1] \"end parametrage_aggregation_code_serie monostream\"\n",
      "[1] \"2020-05-04 15:08:51 UTC\"\n",
      "[1] \"Taille plan d'agregation\"\n",
      "[1] 2639427       3\n",
      "[1] \"code_entree\" \"code_sortie\" \"formule\"    \n"
     ]
    },
    {
     "name": "stderr",
     "output_type": "stream",
     "text": [
      "Warning message in if (class(data) == \"character\") {:\n",
      "“the condition has length > 1 and only the first element will be used”NOTE: Executing action 'table.columnInfo'.\n",
      "NOTE: Action 'table.columnInfo' used (Total process time):\n",
      "NOTE:       real time               0.006140 seconds\n",
      "NOTE:       cpu time                0.013997 seconds (227.96%)\n",
      "NOTE:       total nodes             5 (76 cores)\n",
      "NOTE:       total memory            515.57G\n",
      "NOTE:       memory                  2.54M (0.00%)\n",
      "NOTE: Executing action 'simple.numRows'.\n",
      "NOTE: Action 'simple.numRows' used (Total process time):\n",
      "NOTE:       real time               0.006664 seconds\n",
      "NOTE:       cpu time                0.015135 seconds (227.12%)\n",
      "NOTE:       total nodes             5 (76 cores)\n",
      "NOTE:       total memory            515.57G\n",
      "NOTE:       memory                  2.08M (0.00%)\n"
     ]
    },
    {
     "name": "stdout",
     "output_type": "stream",
     "text": [
      "[1] 2639427       3\n",
      "[1] \"ESTIMATION NOMBRE DE PERIODE ET DE DEBUT DE TRAITEMENT\"\n",
      "[1] \"detection_nbPeriode_moisDebut monostream\"\n",
      "[1] 201812\n",
      "[1] \"BOUCLE DU LES MOIS\"\n"
     ]
    },
    {
     "name": "stderr",
     "output_type": "stream",
     "text": [
      "NOTE: Executing action 'table.dropTable'.\n",
      "NOTE: Action 'table.dropTable' used (Total process time):\n",
      "NOTE:       real time               0.008277 seconds\n",
      "NOTE:       cpu time                0.014264 seconds (172.33%)\n",
      "NOTE:       total nodes             5 (76 cores)\n",
      "NOTE:       total memory            515.57G\n",
      "NOTE:       memory                  1.48M (0.00%)\n"
     ]
    },
    {
     "name": "stdout",
     "output_type": "stream",
     "text": [
      "[1] \"     Mois debut 201812\"\n",
      "[1] \"     Mois fin 201812\"\n",
      "[1] \"     Mois en cours de traitement: 201812\"\n",
      "[1] \"2020-05-04 15:09:03 UTC\"\n",
      "[1] \"                      lecture\"\n",
      "[1] \"lecture_tables_aggregation monostream\"\n",
      "[1] \"2020-05-04 15:09:03 UTC\"\n",
      "[1] \"9 GB\"\n",
      "[1] \"CHARGEMENT DES TABLES D'AGGREGATION, monostream\"\n",
      "[1] \"2020-05-04 15:09:03 UTC\"\n",
      "[1] \"TABLES AGREGATION LU DE LA TABLE CAS AGGTTECATEGORIE\"\n"
     ]
    },
    {
     "name": "stderr",
     "output_type": "stream",
     "text": [
      "NOTE: Executing action 'fedSql.execDirect'.\n",
      "NOTE: Table AGG_MENS_TEMP was created in caslib CASUSER(sebastien) with 157620504 rows returned.\n",
      "NOTE: Action 'fedSql.execDirect' used (Total process time):\n",
      "NOTE:       real time               10.408881 seconds\n",
      "NOTE:       cpu time                456.736061 seconds (4387.95%)\n",
      "NOTE:       total nodes             5 (76 cores)\n",
      "NOTE:       total memory            515.57G\n",
      "NOTE:       memory                  328.49M (0.06%)\n"
     ]
    },
    {
     "name": "stdout",
     "output_type": "stream",
     "text": [
      "[1] \"end lecture_tables_aggregation monostream\"\n",
      "[1] \"2020-05-04 15:09:14 UTC\"\n"
     ]
    },
    {
     "name": "stderr",
     "output_type": "stream",
     "text": [
      "NOTE: Executing action 'table.columnInfo'.\n",
      "NOTE: Action 'table.columnInfo' used (Total process time):\n",
      "NOTE:       real time               0.006562 seconds\n",
      "NOTE:       cpu time                0.014752 seconds (224.81%)\n",
      "NOTE:       total nodes             5 (76 cores)\n",
      "NOTE:       total memory            515.57G\n",
      "NOTE:       memory                  2.51M (0.00%)\n"
     ]
    },
    {
     "name": "stdout",
     "output_type": "stream",
     "text": [
      "[1] \"Taille table d'agregation\"\n"
     ]
    },
    {
     "name": "stderr",
     "output_type": "stream",
     "text": [
      "NOTE: Executing action 'simple.numRows'.\n",
      "NOTE: Action 'simple.numRows' used (Total process time):\n",
      "NOTE:       real time               0.007738 seconds\n",
      "NOTE:       cpu time                0.017466 seconds (225.72%)\n",
      "NOTE:       total nodes             5 (76 cores)\n",
      "NOTE:       total memory            515.57G\n",
      "NOTE:       memory                  2.23M (0.00%)\n"
     ]
    },
    {
     "name": "stdout",
     "output_type": "stream",
     "text": [
      "[1] 157620504         9\n",
      "[1] \"code\"         \"montant\"      \"OBS_STATUS\"   \"CONF_STATUS\"  \"Periode_deb\" \n",
      "[6] \"revision_deb\" \"Periode_fin\"  \"revision_fin\" \"tablename\"   \n",
      "[1] \"lecture_tables_mixte monostream\"\n",
      "[1] \"2020-05-04 15:09:14 UTC\"\n",
      "[1] \"9 GB\"\n",
      "[1] \"end lecture_tables_mixte monostream\"\n",
      "[1] \"2020-05-04 15:09:14 UTC\"\n",
      "NULL\n",
      "NULL\n",
      "[1] \"2020-05-04 15:09:14 UTC\"\n",
      "[1] \"PARAMETRAGE CODE SERIE\"\n",
      "[1] \"APPLICATION PARAMETRAGE CODE SERIE\"\n",
      "[1] \"application_plan_parametrage_aggregation_code_serie_mensuel monostream\"\n",
      "[1] \"2020-05-04 15:09:14 UTC\"\n",
      "[1] \"2020-05-04 15:09:14 UTC\"\n",
      "[1] \"Renomage de variables et traitement d'espace dans les chaines de caratere\"\n",
      "[1] \"2020-05-04 15:09:14 UTC\"\n",
      "[1] \"Preparation de la jointure des tables PlanAggregationParametre, AggregationMensuelleTouteCategorie\"\n",
      "[1] \"2020-05-04 15:09:14 UTC\"\n",
      "[1] \"Jointure des tables PlanAggregationParametre, AggregationMensuelleTouteCategorie\"\n"
     ]
    },
    {
     "name": "stderr",
     "output_type": "stream",
     "text": [
      "NOTE: Executing action 'fedSql.execDirect'.\n",
      " \n",
      "Methods for full query plan\n",
      "----------------------------\n",
      "Number of Joins Performed is : 1\n",
      "        HashJoin (LEFT) \n",
      "          SeqScan from CASUSER(sebastien).AGG_MENS_TEMP \n",
      "          SeqScan from CASUSER(sebastien).PLANAGGPARAM \n",
      " \n",
      "Methods for stage 1\n",
      "--------------------\n",
      "        HashJoin (LEFT) \n",
      "          SeqScan from CASUSER(sebastien).AGG_MENS_TEMP \n",
      "          SeqScan from CASUSER(sebastien).PLANAGGPARAM \n",
      " \n",
      "NOTE: Table TMP_AGG was created in caslib CASUSER(sebastien) with 157704151 rows returned.\n",
      "NOTE: Action 'fedSql.execDirect' used (Total process time):\n",
      "NOTE:       real time               23.970207 seconds\n",
      "NOTE:       cpu time                893.267113 seconds (3726.57%)\n",
      "NOTE:       data movement time      0.783109 seconds\n",
      "NOTE:       total nodes             5 (76 cores)\n",
      "NOTE:       total memory            515.57G\n",
      "NOTE:       memory                  4.03G (0.78%)\n",
      "NOTE:       bytes moved             596.02M\n"
     ]
    },
    {
     "name": "stdout",
     "output_type": "stream",
     "text": [
      "[1] \"Taille de la jointure\"\n",
      "[1] \"2020-05-04 15:09:38 UTC\"\n",
      "[1] \"Calcul des montants ponderes cumules par code_sortie\"\n"
     ]
    },
    {
     "name": "stderr",
     "output_type": "stream",
     "text": [
      "NOTE: Executing action 'aggregation.aggregate'.\n",
      "NOTE: Action 'aggregation.aggregate' used (Total process time):\n",
      "NOTE:       real time               216.011073 seconds\n",
      "NOTE:       cpu time                2325.546501 seconds (1076.59%)\n",
      "NOTE:       total nodes             5 (76 cores)\n",
      "NOTE:       total memory            515.57G\n",
      "NOTE:       memory                  113.08G (21.93%)\n",
      "NOTE: Executing action 'table.columnInfo'.\n",
      "NOTE: Action 'table.columnInfo' used (Total process time):\n",
      "NOTE:       real time               0.006458 seconds\n",
      "NOTE:       cpu time                0.014017 seconds (217.05%)\n",
      "NOTE:       total nodes             5 (76 cores)\n",
      "NOTE:       total memory            515.57G\n",
      "NOTE:       memory                  2.49M (0.00%)\n"
     ]
    },
    {
     "name": "stdout",
     "output_type": "stream",
     "text": [
      "[1] \" TAILLE TABLE CalculAggregationCodeSerieMensuel\"\n"
     ]
    },
    {
     "name": "stderr",
     "output_type": "stream",
     "text": [
      "NOTE: Executing action 'simple.numRows'.\n",
      "NOTE: Action 'simple.numRows' used (Total process time):\n",
      "NOTE:       real time               0.005930 seconds\n",
      "NOTE:       cpu time                0.015054 seconds (253.86%)\n",
      "NOTE:       total nodes             5 (76 cores)\n",
      "NOTE:       total memory            515.57G\n",
      "NOTE:       memory                  2.16M (0.00%)\n"
     ]
    },
    {
     "name": "stdout",
     "output_type": "stream",
     "text": [
      "[1] 3536105       8\n",
      "[1] \"2020-05-04 15:13:14 UTC\"\n",
      "[1] \"code\"         \"CONF_STATUS\"  \"OBS_STATUS\"   \"Periode_deb\"  \"Periode_fin\" \n",
      "[6] \"revision_deb\" \"revision_fin\" \"MONTANT\"     \n"
     ]
    },
    {
     "name": "stderr",
     "output_type": "stream",
     "text": [
      "NOTE: Executing action 'dataStep.runCode'.\n",
      "NOTE: Action 'dataStep.runCode' used (Total process time):\n",
      "NOTE:       real time               0.250023 seconds\n",
      "NOTE:       cpu time                6.964404 seconds (2785.51%)\n",
      "NOTE:       total nodes             5 (76 cores)\n",
      "NOTE:       total memory            515.57G\n",
      "NOTE:       memory                  226.55M (0.04%)\n"
     ]
    }
   ],
   "source": [
    "traitement_principal(freq, RevFin, PeriodeFin, planAggregation,ReferencePiZones, Repertoire, ConnectionSecureDB)"
   ]
  },
  {
   "cell_type": "code",
   "execution_count": 35,
   "metadata": {},
   "outputs": [
    {
     "name": "stderr",
     "output_type": "stream",
     "text": [
      "NOTE: Executing action 'table.dropTable'.\n",
      "NOTE: Action 'table.dropTable' used (Total process time):\n",
      "NOTE:       real time               0.058923 seconds\n",
      "NOTE:       cpu time                0.015152 seconds (25.71%)\n",
      "NOTE:       total nodes             5 (76 cores)\n",
      "NOTE:       total memory            515.57G\n",
      "NOTE:       memory                  1.42M (0.00%)\n"
     ]
    },
    {
     "data": {
      "text/html": [
       "<ol>\n",
       "</ol>\n"
      ],
      "text/latex": [
       "\\begin{enumerate}\n",
       "\\end{enumerate}\n"
      ],
      "text/markdown": [
       "\n",
       "\n"
      ],
      "text/plain": [
       "list()"
      ]
     },
     "metadata": {},
     "output_type": "display_data"
    },
    {
     "name": "stderr",
     "output_type": "stream",
     "text": [
      "NOTE: Executing action 'table.promote'.\n",
      "NOTE: Cloud Analytic Services promoted table AGG_FINALE in caslib CASUSER(sebastien) to table AGG_FINALE in caslib BDF_DNFS.\n",
      "NOTE: Action 'table.promote' used (Total process time):\n",
      "NOTE:       real time               0.066901 seconds\n",
      "NOTE:       cpu time                0.209470 seconds (313.10%)\n",
      "NOTE:       total nodes             5 (76 cores)\n",
      "NOTE:       total memory            515.57G\n",
      "NOTE:       memory                  1.49M (0.00%)\n"
     ]
    },
    {
     "data": {
      "text/html": [
       "<ol>\n",
       "</ol>\n"
      ],
      "text/latex": [
       "\\begin{enumerate}\n",
       "\\end{enumerate}\n"
      ],
      "text/markdown": [
       "\n",
       "\n"
      ],
      "text/plain": [
       "list()"
      ]
     },
     "metadata": {},
     "output_type": "display_data"
    },
    {
     "name": "stderr",
     "output_type": "stream",
     "text": [
      "NOTE: Executing action 'table.save'.\n",
      "NOTE: Cloud Analytic Services saved the file AGG_FINALE.parquet in caslib BDF_DNFS.\n",
      "NOTE: Action 'table.save' used (Total process time):\n",
      "NOTE:       real time               1.768441 seconds\n",
      "NOTE:       cpu time                6.312154 seconds (356.93%)\n",
      "NOTE:       total nodes             5 (76 cores)\n",
      "NOTE:       total memory            515.57G\n",
      "NOTE:       memory                  1.01G (0.20%)\n"
     ]
    },
    {
     "data": {
      "text/html": [
       "<dl>\n",
       "\t<dt>$caslib</dt>\n",
       "\t\t<dd>'BDF_DNFS'</dd>\n",
       "\t<dt>$name</dt>\n",
       "\t\t<dd>'AGG_FINALE.parquet'</dd>\n",
       "</dl>\n"
      ],
      "text/latex": [
       "\\begin{description}\n",
       "\\item[\\$caslib] 'BDF\\_DNFS'\n",
       "\\item[\\$name] 'AGG\\_FINALE.parquet'\n",
       "\\end{description}\n"
      ],
      "text/markdown": [
       "$caslib\n",
       ":   'BDF_DNFS'\n",
       "$name\n",
       ":   'AGG_FINALE.parquet'\n",
       "\n",
       "\n"
      ],
      "text/plain": [
       "$caslib\n",
       "[1] \"BDF_DNFS\"\n",
       "\n",
       "$name\n",
       "[1] \"AGG_FINALE.parquet\"\n"
      ]
     },
     "metadata": {},
     "output_type": "display_data"
    }
   ],
   "source": [
    "# Promotion en memoire pour les utilisateurs et sauvegarde sur disque de la table resultante\n",
    "cas.table.dropTable(ConnectionSecureDB,name='AGG_FINALE',caslib='BDF_DNFS',quiet=TRUE)\n",
    "cas.table.promote(ConnectionSecureDB,caslib='casuser',name='AGG_FINALE',target='AGG_FINALE',targetLib='BDF_DNFS')\n",
    "cas.table.save(ConnectionSecureDB,table=list(name='AGG_FINALE',caslib=\"BDF_DNFS\") , caslib=\"BDF_DNFS\", name=\"AGG_FINALE.parquet\", replace=TRUE)"
   ]
  },
  {
   "cell_type": "code",
   "execution_count": 36,
   "metadata": {},
   "outputs": [
    {
     "name": "stderr",
     "output_type": "stream",
     "text": [
      "NOTE: Executing action 'table.dropTable'.\n",
      "NOTE: Action 'table.dropTable' used (Total process time):\n",
      "NOTE:       real time               1.154884 seconds\n",
      "NOTE:       cpu time                0.016510 seconds (1.43%)\n",
      "NOTE:       total nodes             5 (76 cores)\n",
      "NOTE:       total memory            515.57G\n",
      "NOTE:       memory                  1.40M (0.00%)\n"
     ]
    },
    {
     "data": {
      "text/html": [
       "<ol>\n",
       "</ol>\n"
      ],
      "text/latex": [
       "\\begin{enumerate}\n",
       "\\end{enumerate}\n"
      ],
      "text/markdown": [
       "\n",
       "\n"
      ],
      "text/plain": [
       "list()"
      ]
     },
     "metadata": {},
     "output_type": "display_data"
    },
    {
     "name": "stderr",
     "output_type": "stream",
     "text": [
      "NOTE: Executing action 'table.promote'.\n",
      "NOTE: Cloud Analytic Services promoted table TMP_AGG in caslib CASUSER(sebastien) to table TMP_AGG in caslib BDF_DNFS.\n",
      "NOTE: Action 'table.promote' used (Total process time):\n",
      "NOTE:       real time               0.394272 seconds\n",
      "NOTE:       cpu time                1.273664 seconds (323.04%)\n",
      "NOTE:       total nodes             5 (76 cores)\n",
      "NOTE:       total memory            515.57G\n",
      "NOTE:       memory                  3.33M (0.00%)\n"
     ]
    },
    {
     "data": {
      "text/html": [
       "<ol>\n",
       "</ol>\n"
      ],
      "text/latex": [
       "\\begin{enumerate}\n",
       "\\end{enumerate}\n"
      ],
      "text/markdown": [
       "\n",
       "\n"
      ],
      "text/plain": [
       "list()"
      ]
     },
     "metadata": {},
     "output_type": "display_data"
    },
    {
     "name": "stderr",
     "output_type": "stream",
     "text": [
      "NOTE: Executing action 'table.save'.\n",
      "NOTE: Cloud Analytic Services saved the file TMP_AGG.parquet in caslib BDF_DNFS.\n",
      "NOTE: Action 'table.save' used (Total process time):\n",
      "NOTE:       real time               177.873985 seconds\n",
      "NOTE:       cpu time                267.317039 seconds (150.28%)\n",
      "NOTE:       total nodes             5 (76 cores)\n",
      "NOTE:       total memory            515.57G\n",
      "NOTE:       memory                  3.23G (0.63%)\n"
     ]
    },
    {
     "data": {
      "text/html": [
       "<dl>\n",
       "\t<dt>$caslib</dt>\n",
       "\t\t<dd>'BDF_DNFS'</dd>\n",
       "\t<dt>$name</dt>\n",
       "\t\t<dd>'TMP_AGG.parquet'</dd>\n",
       "</dl>\n"
      ],
      "text/latex": [
       "\\begin{description}\n",
       "\\item[\\$caslib] 'BDF\\_DNFS'\n",
       "\\item[\\$name] 'TMP\\_AGG.parquet'\n",
       "\\end{description}\n"
      ],
      "text/markdown": [
       "$caslib\n",
       ":   'BDF_DNFS'\n",
       "$name\n",
       ":   'TMP_AGG.parquet'\n",
       "\n",
       "\n"
      ],
      "text/plain": [
       "$caslib\n",
       "[1] \"BDF_DNFS\"\n",
       "\n",
       "$name\n",
       "[1] \"TMP_AGG.parquet\"\n"
      ]
     },
     "metadata": {},
     "output_type": "display_data"
    },
    {
     "name": "stdout",
     "output_type": "stream",
     "text": [
      "Time difference of 11.70301 mins\n"
     ]
    }
   ],
   "source": [
    "cas.table.dropTable(ConnectionSecureDB,name='TMP_AGG',caslib='BDF_DNFS',quiet=TRUE)\n",
    "cas.table.promote(ConnectionSecureDB,caslib='casuser',name='TMP_AGG',target='TMP_AGG',targetLib='BDF_DNFS')\n",
    "cas.table.save(ConnectionSecureDB,table=list(name='TMP_AGG',caslib=\"BDF_DNFS\"),  caslib=\"BDF_DNFS\", name=\"TMP_AGG.parquet\", replace=TRUE)\n",
    "\n",
    "Duree <- Sys.time() - HeureDebut\n",
    "\n",
    "print(Duree)"
   ]
  },
  {
   "cell_type": "code",
   "execution_count": 37,
   "metadata": {},
   "outputs": [
    {
     "data": {
      "text/html": [
       "0"
      ],
      "text/latex": [
       "0"
      ],
      "text/markdown": [
       "0"
      ],
      "text/plain": [
       "[1] 0"
      ]
     },
     "metadata": {},
     "output_type": "display_data"
    }
   ],
   "source": [
    "# Ferme la session SAS Viya en cours\n",
    "cas.terminate(conn)"
   ]
  },
  {
   "cell_type": "markdown",
   "metadata": {
    "jupyter": {
     "outputs_hidden": true
    }
   },
   "source": [
    "# Fin du notebook"
   ]
  }
 ],
 "metadata": {
  "kernelspec": {
   "display_name": "R",
   "language": "R",
   "name": "ir"
  },
  "language_info": {
   "codemirror_mode": "r",
   "file_extension": ".r",
   "mimetype": "text/x-r-source",
   "name": "R",
   "pygments_lexer": "r",
   "version": "3.6.1"
  }
 },
 "nbformat": 4,
 "nbformat_minor": 4
}
