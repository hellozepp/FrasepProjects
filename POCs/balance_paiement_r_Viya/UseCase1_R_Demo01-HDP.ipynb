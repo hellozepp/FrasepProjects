{
 "cells": [
  {
   "cell_type": "code",
   "execution_count": 58,
   "metadata": {},
   "outputs": [
    {
     "data": {
      "text/plain": [
       "               _                           \n",
       "platform       x86_64-conda_cos6-linux-gnu \n",
       "arch           x86_64                      \n",
       "os             linux-gnu                   \n",
       "system         x86_64, linux-gnu           \n",
       "status                                     \n",
       "major          3                           \n",
       "minor          6.1                         \n",
       "year           2019                        \n",
       "month          07                          \n",
       "day            05                          \n",
       "svn rev        76782                       \n",
       "language       R                           \n",
       "version.string R version 3.6.1 (2019-07-05)\n",
       "nickname       Action of the Toes          "
      ]
     },
     "metadata": {},
     "output_type": "display_data"
    }
   ],
   "source": [
    "R.version"
   ]
  },
  {
   "cell_type": "code",
   "execution_count": 59,
   "metadata": {},
   "outputs": [],
   "source": [
    "library(\"dplyr\")\n",
    "library(\"glue\")\n",
    "library(\"stringr\")\n",
    "library(\"rlist\")\n",
    "library(\"data.table\")\n",
    "library(\"readr\")\n",
    "library(\"stringi\")\n",
    "library(\"swat\")"
   ]
  },
  {
   "cell_type": "code",
   "execution_count": 60,
   "metadata": {},
   "outputs": [],
   "source": [
    "source(\"UtilsRCAS.R\")"
   ]
  },
  {
   "cell_type": "markdown",
   "metadata": {},
   "source": [
    "# Connection a l'environnement SAS Viya"
   ]
  },
  {
   "cell_type": "code",
   "execution_count": 61,
   "metadata": {},
   "outputs": [
    {
     "name": "stderr",
     "output_type": "stream",
     "text": [
      "NOTE: Connecting to CAS and generating CAS action functions for loaded\n",
      "      action sets...\n",
      "NOTE: To generate the functions with signatures (for tab completion), set \n",
      "      options(cas.gen.function.sig=TRUE).\n",
      "NOTE: 'CASUSER(sebastien)' is now the active caslib.\n",
      "NOTE: Action 'sessionProp.setSessOpt' used (Total process time):\n",
      "NOTE:       real time               0.011905 seconds\n",
      "NOTE:       cpu time                0.021228 seconds (178.31%)\n",
      "NOTE:       total nodes             5 (68 cores)\n",
      "NOTE:       total memory            510.65G\n",
      "NOTE:       memory                  1.44M (0.00%)\n"
     ]
    }
   ],
   "source": [
    "#cashost <- '192.168.1.50'\n",
    "#casuser <- 'sasdemo'\n",
    "\n",
    "cashost <- 'controller'\n",
    "casuser <- 'sebastien'\n",
    "\n",
    "conn <- swat::CAS(cashost, 5570, username=casuser)\n",
    "\n",
    "# Activate metric tracing and other session parameters\n",
    "out <- cas.sessionProp.setSessOpt(conn, metrics=TRUE, timeout=1800, caslib='casuser')"
   ]
  },
  {
   "cell_type": "code",
   "execution_count": 62,
   "metadata": {},
   "outputs": [
    {
     "name": "stderr",
     "output_type": "stream",
     "text": [
      "NOTE: Executing action 'builtins.loadActionSet'.\n",
      "NOTE: Added action set 'fedsql'.\n",
      "NOTE: Action 'builtins.loadActionSet' used (Total process time):\n",
      "NOTE:       real time               0.008854 seconds\n",
      "NOTE:       cpu time                0.021831 seconds (246.57%)\n",
      "NOTE:       total nodes             5 (68 cores)\n",
      "NOTE:       total memory            510.65G\n",
      "NOTE:       memory                  1.29M (0.00%)\n",
      "NOTE: Executing action 'builtins.actionSetInfo'.\n",
      "NOTE: Action 'builtins.actionSetInfo' used (Total process time):\n",
      "NOTE:       real time               0.010072 seconds\n",
      "NOTE:       cpu time                0.013954 seconds (138.54%)\n",
      "NOTE:       total nodes             5 (68 cores)\n",
      "NOTE:       total memory            510.65G\n",
      "NOTE:       memory                  1.62M (0.00%)\n",
      "NOTE: Executing action 'builtins.listActions'.\n",
      "NOTE: Information for action set 'fedSql':\n",
      "NOTE:    fedSql\n",
      "NOTE:       execDirect - Submits a SAS FedSQL language statement for immediate execution\n",
      "NOTE: Action 'builtins.listActions' used (Total process time):\n",
      "NOTE:       real time               0.005759 seconds\n",
      "NOTE:       cpu time                0.010742 seconds (186.53%)\n",
      "NOTE:       total nodes             5 (68 cores)\n",
      "NOTE:       total memory            510.65G\n",
      "NOTE:       memory                  1.20M (0.00%)\n",
      "NOTE: Executing action 'builtins.loadActionSet'.\n",
      "NOTE: Added action set 'aggregation'.\n",
      "NOTE: Action 'builtins.loadActionSet' used (Total process time):\n",
      "NOTE:       real time               0.008143 seconds\n",
      "NOTE:       cpu time                0.018585 seconds (228.23%)\n",
      "NOTE:       total nodes             5 (68 cores)\n",
      "NOTE:       total memory            510.65G\n",
      "NOTE:       memory                  1.15M (0.00%)\n",
      "NOTE: Executing action 'builtins.actionSetInfo'.\n",
      "NOTE: Action 'builtins.actionSetInfo' used (Total process time):\n",
      "NOTE:       real time               0.006130 seconds\n",
      "NOTE:       cpu time                0.013989 seconds (228.21%)\n",
      "NOTE:       total nodes             5 (68 cores)\n",
      "NOTE:       total memory            510.65G\n",
      "NOTE:       memory                  1.60M (0.00%)\n",
      "NOTE: Executing action 'builtins.listActions'.\n",
      "NOTE: Information for action set 'aggregation':\n",
      "NOTE:    aggregation\n",
      "NOTE:       aggregate - Performs aggregation on selected variables\n",
      "NOTE: Action 'builtins.listActions' used (Total process time):\n",
      "NOTE:       real time               0.005807 seconds\n",
      "NOTE:       cpu time                0.011417 seconds (196.61%)\n",
      "NOTE:       total nodes             5 (68 cores)\n",
      "NOTE:       total memory            510.65G\n",
      "NOTE:       memory                  1.20M (0.00%)\n"
     ]
    }
   ],
   "source": [
    "actionsets <- c('fedsql','aggregation')\n",
    "for(i in actionsets){\n",
    "    loadActionSet(conn, i)\n",
    "}\n"
   ]
  },
  {
   "cell_type": "code",
   "execution_count": 63,
   "metadata": {},
   "outputs": [
    {
     "name": "stderr",
     "output_type": "stream",
     "text": [
      "NOTE: Executing action 'builtins.serverStatus'.\n",
      "NOTE: Grid node action status report: 5 nodes, 34 total actions executed.\n",
      "NOTE: Action 'builtins.serverStatus' used (Total process time):\n",
      "NOTE:       real time               0.007967 seconds\n",
      "NOTE:       cpu time                0.013066 seconds (164.00%)\n",
      "NOTE:       total nodes             5 (68 cores)\n",
      "NOTE:       total memory            510.65G\n",
      "NOTE:       memory                  1.42M (0.00%)\n"
     ]
    },
    {
     "data": {
      "text/html": [
       "<dl>\n",
       "\t<dt>$About</dt>\n",
       "\t\t<dd><dl>\n",
       "\t<dt>$CAS</dt>\n",
       "\t\t<dd>'Cloud Analytic Services'</dd>\n",
       "\t<dt>$Version</dt>\n",
       "\t\t<dd>'3.05'</dd>\n",
       "\t<dt>$VersionLong</dt>\n",
       "\t\t<dd>'V.03.05M0P11112019'</dd>\n",
       "\t<dt>$Copyright</dt>\n",
       "\t\t<dd>'Copyright © 2014-2018 SAS Institute Inc. All Rights Reserved.'</dd>\n",
       "\t<dt>$ServerTime</dt>\n",
       "\t\t<dd>'2020-04-27T15:47:47Z'</dd>\n",
       "\t<dt>$System</dt>\n",
       "\t\t<dd><dl>\n",
       "\t<dt>$Hostname</dt>\n",
       "\t\t<dd>'controller.c.sas-ag2r-la-mondiale.internal'</dd>\n",
       "\t<dt>$`OS Name`</dt>\n",
       "\t\t<dd>'Linux'</dd>\n",
       "\t<dt>$`OS Family`</dt>\n",
       "\t\t<dd>'LIN X64'</dd>\n",
       "\t<dt>$`OS Release`</dt>\n",
       "\t\t<dd>'3.10.0-1062.18.1.el7.x86_64'</dd>\n",
       "\t<dt>$`OS Version`</dt>\n",
       "\t\t<dd>'#1 SMP Tue Mar 17 23:49:17 UTC 2020'</dd>\n",
       "\t<dt>$`Model Number`</dt>\n",
       "\t\t<dd>'x86_64'</dd>\n",
       "\t<dt>$`Linux Distribution`</dt>\n",
       "\t\t<dd>'CentOS Linux release 7.7.1908 (Core)'</dd>\n",
       "</dl>\n",
       "</dd>\n",
       "\t<dt>$license</dt>\n",
       "\t\t<dd><dl>\n",
       "\t<dt>$site</dt>\n",
       "\t\t<dd>'BDF'</dd>\n",
       "\t<dt>$siteNum</dt>\n",
       "\t\t<dd>70180938</dd>\n",
       "\t<dt>$expires</dt>\n",
       "\t\t<dd>'27Mar2021:00:00:00'</dd>\n",
       "\t<dt>$gracePeriod</dt>\n",
       "\t\t<dd>45</dd>\n",
       "\t<dt>$warningPeriod</dt>\n",
       "\t\t<dd>47</dd>\n",
       "\t<dt>$maxCPUs</dt>\n",
       "\t\t<dd>9999</dd>\n",
       "</dl>\n",
       "</dd>\n",
       "</dl>\n",
       "</dd>\n",
       "\t<dt>$server</dt>\n",
       "\t\t<dd><table>\n",
       "<thead><tr><th scope=col>nodes</th><th scope=col>actions</th></tr></thead>\n",
       "<tbody>\n",
       "\t<tr><td>5 </td><td>34</td></tr>\n",
       "</tbody>\n",
       "</table>\n",
       "</dd>\n",
       "\t<dt>$nodestatus</dt>\n",
       "\t\t<dd><table>\n",
       "<thead><tr><th scope=col>name</th><th scope=col>role</th><th scope=col>uptime</th><th scope=col>running</th><th scope=col>stalled</th></tr></thead>\n",
       "<tbody>\n",
       "\t<tr><td>worker1.c.sas-ag2r-la-mondiale.internal   </td><td>worker                                    </td><td>1.462                                     </td><td>0                                         </td><td>0                                         </td></tr>\n",
       "\t<tr><td>worker2.c.sas-ag2r-la-mondiale.internal   </td><td>worker                                    </td><td>1.462                                     </td><td>0                                         </td><td>0                                         </td></tr>\n",
       "\t<tr><td>worker3.c.sas-ag2r-la-mondiale.internal   </td><td>worker                                    </td><td>1.462                                     </td><td>0                                         </td><td>0                                         </td></tr>\n",
       "\t<tr><td>worker4.c.sas-ag2r-la-mondiale.internal   </td><td>worker                                    </td><td>1.462                                     </td><td>0                                         </td><td>0                                         </td></tr>\n",
       "\t<tr><td>controller.c.sas-ag2r-la-mondiale.internal</td><td>controller                                </td><td>1.535                                     </td><td>0                                         </td><td>0                                         </td></tr>\n",
       "</tbody>\n",
       "</table>\n",
       "</dd>\n",
       "</dl>\n"
      ],
      "text/latex": [
       "\\begin{description}\n",
       "\\item[\\$About] \\begin{description}\n",
       "\\item[\\$CAS] 'Cloud Analytic Services'\n",
       "\\item[\\$Version] '3.05'\n",
       "\\item[\\$VersionLong] 'V.03.05M0P11112019'\n",
       "\\item[\\$Copyright] 'Copyright © 2014-2018 SAS Institute Inc. All Rights Reserved.'\n",
       "\\item[\\$ServerTime] '2020-04-27T15:47:47Z'\n",
       "\\item[\\$System] \\begin{description}\n",
       "\\item[\\$Hostname] 'controller.c.sas-ag2r-la-mondiale.internal'\n",
       "\\item[\\$`OS Name`] 'Linux'\n",
       "\\item[\\$`OS Family`] 'LIN X64'\n",
       "\\item[\\$`OS Release`] '3.10.0-1062.18.1.el7.x86\\_64'\n",
       "\\item[\\$`OS Version`] '\\#1 SMP Tue Mar 17 23:49:17 UTC 2020'\n",
       "\\item[\\$`Model Number`] 'x86\\_64'\n",
       "\\item[\\$`Linux Distribution`] 'CentOS Linux release 7.7.1908 (Core)'\n",
       "\\end{description}\n",
       "\n",
       "\\item[\\$license] \\begin{description}\n",
       "\\item[\\$site] 'BDF'\n",
       "\\item[\\$siteNum] 70180938\n",
       "\\item[\\$expires] '27Mar2021:00:00:00'\n",
       "\\item[\\$gracePeriod] 45\n",
       "\\item[\\$warningPeriod] 47\n",
       "\\item[\\$maxCPUs] 9999\n",
       "\\end{description}\n",
       "\n",
       "\\end{description}\n",
       "\n",
       "\\item[\\$server] \\begin{tabular}{r|ll}\n",
       " nodes & actions\\\\\n",
       "\\hline\n",
       "\t 5  & 34\\\\\n",
       "\\end{tabular}\n",
       "\n",
       "\\item[\\$nodestatus] \\begin{tabular}{r|lllll}\n",
       " name & role & uptime & running & stalled\\\\\n",
       "\\hline\n",
       "\t worker1.c.sas-ag2r-la-mondiale.internal    & worker                                     & 1.462                                      & 0                                          & 0                                         \\\\\n",
       "\t worker2.c.sas-ag2r-la-mondiale.internal    & worker                                     & 1.462                                      & 0                                          & 0                                         \\\\\n",
       "\t worker3.c.sas-ag2r-la-mondiale.internal    & worker                                     & 1.462                                      & 0                                          & 0                                         \\\\\n",
       "\t worker4.c.sas-ag2r-la-mondiale.internal    & worker                                     & 1.462                                      & 0                                          & 0                                         \\\\\n",
       "\t controller.c.sas-ag2r-la-mondiale.internal & controller                                 & 1.535                                      & 0                                          & 0                                         \\\\\n",
       "\\end{tabular}\n",
       "\n",
       "\\end{description}\n"
      ],
      "text/markdown": [
       "$About\n",
       ":   $CAS\n",
       ":   'Cloud Analytic Services'\n",
       "$Version\n",
       ":   '3.05'\n",
       "$VersionLong\n",
       ":   'V.03.05M0P11112019'\n",
       "$Copyright\n",
       ":   'Copyright © 2014-2018 SAS Institute Inc. All Rights Reserved.'\n",
       "$ServerTime\n",
       ":   '2020-04-27T15:47:47Z'\n",
       "$System\n",
       ":   $Hostname\n",
       ":   'controller.c.sas-ag2r-la-mondiale.internal'\n",
       "$`OS Name`\n",
       ":   'Linux'\n",
       "$`OS Family`\n",
       ":   'LIN X64'\n",
       "$`OS Release`\n",
       ":   '3.10.0-1062.18.1.el7.x86_64'\n",
       "$`OS Version`\n",
       ":   '#1 SMP Tue Mar 17 23:49:17 UTC 2020'\n",
       "$`Model Number`\n",
       ":   'x86_64'\n",
       "$`Linux Distribution`\n",
       ":   'CentOS Linux release 7.7.1908 (Core)'\n",
       "\n",
       "\n",
       "\n",
       "$license\n",
       ":   $site\n",
       ":   'BDF'\n",
       "$siteNum\n",
       ":   70180938\n",
       "$expires\n",
       ":   '27Mar2021:00:00:00'\n",
       "$gracePeriod\n",
       ":   45\n",
       "$warningPeriod\n",
       ":   47\n",
       "$maxCPUs\n",
       ":   9999\n",
       "\n",
       "\n",
       "\n",
       "\n",
       "\n",
       "\n",
       "$server\n",
       ":   \n",
       "| nodes | actions |\n",
       "|---|---|\n",
       "| 5  | 34 |\n",
       "\n",
       "\n",
       "$nodestatus\n",
       ":   \n",
       "| name | role | uptime | running | stalled |\n",
       "|---|---|---|---|---|\n",
       "| worker1.c.sas-ag2r-la-mondiale.internal    | worker                                     | 1.462                                      | 0                                          | 0                                          |\n",
       "| worker2.c.sas-ag2r-la-mondiale.internal    | worker                                     | 1.462                                      | 0                                          | 0                                          |\n",
       "| worker3.c.sas-ag2r-la-mondiale.internal    | worker                                     | 1.462                                      | 0                                          | 0                                          |\n",
       "| worker4.c.sas-ag2r-la-mondiale.internal    | worker                                     | 1.462                                      | 0                                          | 0                                          |\n",
       "| controller.c.sas-ag2r-la-mondiale.internal | controller                                 | 1.535                                      | 0                                          | 0                                          |\n",
       "\n",
       "\n",
       "\n",
       "\n"
      ],
      "text/plain": [
       "$About\n",
       "$About$CAS\n",
       "[1] \"Cloud Analytic Services\"\n",
       "\n",
       "$About$Version\n",
       "[1] \"3.05\"\n",
       "\n",
       "$About$VersionLong\n",
       "[1] \"V.03.05M0P11112019\"\n",
       "\n",
       "$About$Copyright\n",
       "[1] \"Copyright © 2014-2018 SAS Institute Inc. All Rights Reserved.\"\n",
       "\n",
       "$About$ServerTime\n",
       "[1] \"2020-04-27T15:47:47Z\"\n",
       "\n",
       "$About$System\n",
       "$About$System$Hostname\n",
       "[1] \"controller.c.sas-ag2r-la-mondiale.internal\"\n",
       "\n",
       "$About$System$`OS Name`\n",
       "[1] \"Linux\"\n",
       "\n",
       "$About$System$`OS Family`\n",
       "[1] \"LIN X64\"\n",
       "\n",
       "$About$System$`OS Release`\n",
       "[1] \"3.10.0-1062.18.1.el7.x86_64\"\n",
       "\n",
       "$About$System$`OS Version`\n",
       "[1] \"#1 SMP Tue Mar 17 23:49:17 UTC 2020\"\n",
       "\n",
       "$About$System$`Model Number`\n",
       "[1] \"x86_64\"\n",
       "\n",
       "$About$System$`Linux Distribution`\n",
       "[1] \"CentOS Linux release 7.7.1908 (Core)\"\n",
       "\n",
       "\n",
       "$About$license\n",
       "$About$license$site\n",
       "[1] \"BDF\"\n",
       "\n",
       "$About$license$siteNum\n",
       "[1] 70180938\n",
       "\n",
       "$About$license$expires\n",
       "[1] \"27Mar2021:00:00:00\"\n",
       "\n",
       "$About$license$gracePeriod\n",
       "[1] 45\n",
       "\n",
       "$About$license$warningPeriod\n",
       "[1] 47\n",
       "\n",
       "$About$license$maxCPUs\n",
       "[1] 9999\n",
       "\n",
       "\n",
       "\n",
       "$server\n",
       "  nodes actions\n",
       "1     5      34\n",
       "\n",
       "$nodestatus\n",
       "                                        name       role uptime running stalled\n",
       "1    worker1.c.sas-ag2r-la-mondiale.internal     worker  1.462       0       0\n",
       "2    worker2.c.sas-ag2r-la-mondiale.internal     worker  1.462       0       0\n",
       "3    worker3.c.sas-ag2r-la-mondiale.internal     worker  1.462       0       0\n",
       "4    worker4.c.sas-ag2r-la-mondiale.internal     worker  1.462       0       0\n",
       "5 controller.c.sas-ag2r-la-mondiale.internal controller  1.535       0       0\n"
      ]
     },
     "metadata": {},
     "output_type": "display_data"
    }
   ],
   "source": [
    "cas.builtins.serverStatus(conn)"
   ]
  },
  {
   "cell_type": "markdown",
   "metadata": {},
   "source": [
    "## Defini une librairie CAS pointant sur le repertoire contenant tous les fichiers CSV en entree. On definie la source en DNFS, cela signifie que la lecture et l'ecriture des fichiers se fera en multitheading et multi noeud automatiquement. Les formats de fichiers supportes actuellement sur ce mode sont : CSV, PARQUET et SASHDAT."
   ]
  },
  {
   "cell_type": "code",
   "execution_count": 64,
   "metadata": {},
   "outputs": [
    {
     "name": "stderr",
     "output_type": "stream",
     "text": [
      "NOTE: Executing action 'sessionProp.setSessOpt'.\n",
      "NOTE: 'CASUSER(sebastien)' is now the active caslib.\n",
      "NOTE: Action 'sessionProp.setSessOpt' used (Total process time):\n",
      "NOTE:       real time               0.006664 seconds\n",
      "NOTE:       cpu time                0.013142 seconds (197.21%)\n",
      "NOTE:       total nodes             5 (68 cores)\n",
      "NOTE:       total memory            510.65G\n",
      "NOTE:       memory                  1.28M (0.00%)\n"
     ]
    }
   ],
   "source": [
    "HeureDebut <- Sys.time()\n",
    "\n",
    "#cas.table.addCaslib(conn,name=\"mycaslib\", path=\"/data/data/BDF_SMALL_DB\", dataSource={srcType=\"dnfs\"})\n",
    "#cas.table.addCaslib(conn,name=\"mycaslib\", path=\"/SAS/BDF\", dataSource={srcType=\"dnfs\"})\n",
    "out <- cas.sessionProp.setSessOpt(conn,caslib='casuser')"
   ]
  },
  {
   "cell_type": "markdown",
   "metadata": {},
   "source": [
    "# Chargement en memoire de tous les fichiers CSV en entree (referentiel et agregats) pour l'utilisation ulterieure."
   ]
  },
  {
   "cell_type": "code",
   "execution_count": 65,
   "metadata": {},
   "outputs": [
    {
     "name": "stderr",
     "output_type": "stream",
     "text": [
      "NOTE: Executing action 'table.fileInfo'.\n",
      "NOTE: Action 'table.fileInfo' used (Total process time):\n",
      "NOTE:       real time               3.699381 seconds\n",
      "NOTE:       cpu time                0.367030 seconds (9.92%)\n",
      "NOTE:       total nodes             5 (68 cores)\n",
      "NOTE:       total memory            510.65G\n",
      "NOTE:       memory                  1.99M (0.00%)\n",
      "NOTE: Executing action 'table.dropTable'.\n",
      "NOTE: Action 'table.dropTable' used (Total process time):\n",
      "NOTE:       real time               0.010008 seconds\n",
      "NOTE:       cpu time                0.015300 seconds (152.88%)\n",
      "NOTE:       total nodes             5 (68 cores)\n",
      "NOTE:       total memory            510.65G\n",
      "NOTE:       memory                  1.38M (0.00%)\n",
      "NOTE: Executing action 'table.loadTable'.\n",
      "NOTE: Performing serial LoadTable action using SAS Data Connector to Hadoop.\n",
      "NOTE: Cloud Analytic Services made the external data from d1 available as table D1 in caslib CASUSER(sebastien).\n",
      "NOTE: Action 'table.loadTable' used (Total process time):\n",
      "NOTE:       real time               195.116372 seconds\n",
      "NOTE:       cpu time                149.731610 seconds (76.74%)\n",
      "NOTE:       total nodes             5 (68 cores)\n",
      "NOTE:       total memory            510.65G\n",
      "NOTE:       memory                  90.54M (0.02%)\n",
      "NOTE: Executing action 'table.dropTable'.\n",
      "NOTE: Action 'table.dropTable' used (Total process time):\n",
      "NOTE:       real time               0.010924 seconds\n",
      "NOTE:       cpu time                0.015810 seconds (144.73%)\n",
      "NOTE:       total nodes             5 (68 cores)\n",
      "NOTE:       total memory            510.65G\n",
      "NOTE:       memory                  1.38M (0.00%)\n",
      "NOTE: Executing action 'table.loadTable'.\n",
      "NOTE: Performing serial LoadTable action using SAS Data Connector to Hadoop.\n",
      "NOTE: Cloud Analytic Services made the external data from d2 available as table D2 in caslib CASUSER(sebastien).\n",
      "NOTE: Action 'table.loadTable' used (Total process time):\n",
      "NOTE:       real time               65.689128 seconds\n",
      "NOTE:       cpu time                42.727164 seconds (65.04%)\n",
      "NOTE:       total nodes             5 (68 cores)\n",
      "NOTE:       total memory            510.65G\n",
      "NOTE:       memory                  87.93M (0.02%)\n",
      "NOTE: Executing action 'table.dropTable'.\n",
      "NOTE: Action 'table.dropTable' used (Total process time):\n",
      "NOTE:       real time               0.012488 seconds\n",
      "NOTE:       cpu time                0.015555 seconds (124.56%)\n",
      "NOTE:       total nodes             5 (68 cores)\n",
      "NOTE:       total memory            510.65G\n",
      "NOTE:       memory                  1.39M (0.00%)\n",
      "NOTE: Executing action 'table.loadTable'.\n",
      "NOTE: Performing serial LoadTable action using SAS Data Connector to Hadoop.\n",
      "NOTE: Cloud Analytic Services made the external data from d3 available as table D3 in caslib CASUSER(sebastien).\n",
      "NOTE: Action 'table.loadTable' used (Total process time):\n",
      "NOTE:       real time               174.889701 seconds\n",
      "NOTE:       cpu time                124.914412 seconds (71.42%)\n",
      "NOTE:       total nodes             5 (68 cores)\n",
      "NOTE:       total memory            510.65G\n",
      "NOTE:       memory                  88.46M (0.02%)\n",
      "NOTE: Executing action 'table.dropTable'.\n",
      "NOTE: Action 'table.dropTable' used (Total process time):\n",
      "NOTE:       real time               0.009942 seconds\n",
      "NOTE:       cpu time                0.015576 seconds (156.67%)\n",
      "NOTE:       total nodes             5 (68 cores)\n",
      "NOTE:       total memory            510.65G\n",
      "NOTE:       memory                  1.38M (0.00%)\n",
      "NOTE: Executing action 'table.loadTable'.\n",
      "NOTE: Performing serial LoadTable action using SAS Data Connector to Hadoop.\n",
      "NOTE: Cloud Analytic Services made the external data from f available as table F in caslib CASUSER(sebastien).\n",
      "NOTE: Action 'table.loadTable' used (Total process time):\n",
      "NOTE:       real time               12.158996 seconds\n",
      "NOTE:       cpu time                4.216289 seconds (34.68%)\n",
      "NOTE:       total nodes             5 (68 cores)\n",
      "NOTE:       total memory            510.65G\n",
      "NOTE:       memory                  87.77M (0.02%)\n",
      "NOTE: Executing action 'table.dropTable'.\n",
      "NOTE: Action 'table.dropTable' used (Total process time):\n",
      "NOTE:       real time               0.009825 seconds\n",
      "NOTE:       cpu time                0.014791 seconds (150.54%)\n",
      "NOTE:       total nodes             5 (68 cores)\n",
      "NOTE:       total memory            510.65G\n",
      "NOTE:       memory                  1.38M (0.00%)\n",
      "NOTE: Executing action 'table.loadTable'.\n",
      "NOTE: Performing serial LoadTable action using SAS Data Connector to Hadoop.\n",
      "NOTE: Cloud Analytic Services made the external data from o available as table O in caslib CASUSER(sebastien).\n",
      "NOTE: Action 'table.loadTable' used (Total process time):\n",
      "NOTE:       real time               243.882529 seconds\n",
      "NOTE:       cpu time                189.547089 seconds (77.72%)\n",
      "NOTE:       total nodes             5 (68 cores)\n",
      "NOTE:       total memory            510.65G\n",
      "NOTE:       memory                  88.98M (0.02%)\n",
      "NOTE: Executing action 'table.dropTable'.\n",
      "NOTE: Action 'table.dropTable' used (Total process time):\n",
      "NOTE:       real time               0.010217 seconds\n",
      "NOTE:       cpu time                0.015381 seconds (150.54%)\n",
      "NOTE:       total nodes             5 (68 cores)\n",
      "NOTE:       total memory            510.65G\n",
      "NOTE:       memory                  1.39M (0.00%)\n",
      "NOTE: Executing action 'table.loadTable'.\n",
      "NOTE: Performing serial LoadTable action using SAS Data Connector to Hadoop.\n",
      "NOTE: Cloud Analytic Services made the external data from p available as table P in caslib CASUSER(sebastien).\n",
      "NOTE: Action 'table.loadTable' used (Total process time):\n",
      "NOTE:       real time               86.543083 seconds\n",
      "NOTE:       cpu time                63.541636 seconds (73.42%)\n",
      "NOTE:       total nodes             5 (68 cores)\n",
      "NOTE:       total memory            510.65G\n",
      "NOTE:       memory                  88.21M (0.02%)\n",
      "NOTE: Executing action 'table.dropTable'.\n",
      "NOTE: Action 'table.dropTable' used (Total process time):\n",
      "NOTE:       real time               0.009944 seconds\n",
      "NOTE:       cpu time                0.014149 seconds (142.29%)\n",
      "NOTE:       total nodes             5 (68 cores)\n",
      "NOTE:       total memory            510.65G\n",
      "NOTE:       memory                  1.38M (0.00%)\n",
      "NOTE: Executing action 'table.loadTable'.\n",
      "NOTE: Performing serial LoadTable action using SAS Data Connector to Hadoop.\n",
      "NOTE: Cloud Analytic Services made the external data from u1 available as table U1 in caslib CASUSER(sebastien).\n",
      "NOTE: Action 'table.loadTable' used (Total process time):\n",
      "NOTE:       real time               130.660079 seconds\n",
      "NOTE:       cpu time                99.024157 seconds (75.79%)\n",
      "NOTE:       total nodes             5 (68 cores)\n",
      "NOTE:       total memory            510.65G\n",
      "NOTE:       memory                  88.46M (0.02%)\n",
      "NOTE: Executing action 'table.dropTable'.\n",
      "NOTE: Action 'table.dropTable' used (Total process time):\n",
      "NOTE:       real time               0.009175 seconds\n",
      "NOTE:       cpu time                0.014548 seconds (158.56%)\n",
      "NOTE:       total nodes             5 (68 cores)\n",
      "NOTE:       total memory            510.65G\n",
      "NOTE:       memory                  1.38M (0.00%)\n",
      "NOTE: Executing action 'table.loadTable'.\n",
      "NOTE: Performing serial LoadTable action using SAS Data Connector to Hadoop.\n",
      "NOTE: Cloud Analytic Services made the external data from u2 available as table U2 in caslib CASUSER(sebastien).\n",
      "NOTE: Action 'table.loadTable' used (Total process time):\n",
      "NOTE:       real time               127.920791 seconds\n",
      "NOTE:       cpu time                89.078224 seconds (69.64%)\n",
      "NOTE:       total nodes             5 (68 cores)\n",
      "NOTE:       total memory            510.65G\n",
      "NOTE:       memory                  88.43M (0.02%)\n",
      "NOTE: Executing action 'table.dropTable'.\n",
      "NOTE: Action 'table.dropTable' used (Total process time):\n",
      "NOTE:       real time               0.009355 seconds\n",
      "NOTE:       cpu time                0.014706 seconds (157.20%)\n",
      "NOTE:       total nodes             5 (68 cores)\n",
      "NOTE:       total memory            510.65G\n",
      "NOTE:       memory                  1.40M (0.00%)\n",
      "NOTE: Executing action 'table.loadTable'.\n",
      "NOTE: Performing serial LoadTable action using SAS Data Connector to Hadoop.\n",
      "NOTE: Cloud Analytic Services made the external data from u3 available as table U3 in caslib CASUSER(sebastien).\n",
      "NOTE: Action 'table.loadTable' used (Total process time):\n",
      "NOTE:       real time               57.688662 seconds\n",
      "NOTE:       cpu time                40.559563 seconds (70.31%)\n",
      "NOTE:       total nodes             5 (68 cores)\n",
      "NOTE:       total memory            510.65G\n",
      "NOTE:       memory                  89.20M (0.02%)\n",
      "NOTE: Executing action 'table.dropTable'.\n",
      "NOTE: Action 'table.dropTable' used (Total process time):\n",
      "NOTE:       real time               0.009327 seconds\n",
      "NOTE:       cpu time                0.015423 seconds (165.36%)\n",
      "NOTE:       total nodes             5 (68 cores)\n",
      "NOTE:       total memory            510.65G\n",
      "NOTE:       memory                  1.40M (0.00%)\n",
      "NOTE: Executing action 'table.loadTable'.\n",
      "NOTE: Performing serial LoadTable action using SAS Data Connector to Hadoop.\n",
      "NOTE: Cloud Analytic Services made the external data from z available as table Z in caslib CASUSER(sebastien).\n",
      "NOTE: Action 'table.loadTable' used (Total process time):\n",
      "NOTE:       real time               65.090762 seconds\n",
      "NOTE:       cpu time                42.770342 seconds (65.71%)\n",
      "NOTE:       total nodes             5 (68 cores)\n",
      "NOTE:       total memory            510.65G\n",
      "NOTE:       memory                  89.31M (0.02%)\n",
      "NOTE: Executing action 'table.dropTable'.\n",
      "NOTE: Action 'table.dropTable' used (Total process time):\n",
      "NOTE:       real time               0.010359 seconds\n",
      "NOTE:       cpu time                0.016338 seconds (157.72%)\n",
      "NOTE:       total nodes             5 (68 cores)\n",
      "NOTE:       total memory            510.65G\n",
      "NOTE:       memory                  1.41M (0.00%)\n",
      "NOTE: Executing action 'table.loadTable'.\n",
      "NOTE: Performing serial LoadTable action using SAS Data Connector to Hadoop.\n",
      "NOTE: Cloud Analytic Services made the external data from tablepayszone available as table TABLEPAYSZONE in caslib CASUSER(sebastien).\n",
      "NOTE: Action 'table.loadTable' used (Total process time):\n",
      "NOTE:       real time               6.318428 seconds\n",
      "NOTE:       cpu time                0.285777 seconds (4.52%)\n",
      "NOTE:       total nodes             5 (68 cores)\n",
      "NOTE:       total memory            510.65G\n",
      "NOTE:       memory                  25.78M (0.00%)\n",
      "NOTE: Executing action 'table.dropTable'.\n",
      "NOTE: Action 'table.dropTable' used (Total process time):\n",
      "NOTE:       real time               0.011045 seconds\n",
      "NOTE:       cpu time                0.016398 seconds (148.47%)\n",
      "NOTE:       total nodes             5 (68 cores)\n",
      "NOTE:       total memory            510.65G\n",
      "NOTE:       memory                  1.41M (0.00%)\n",
      "NOTE: Executing action 'table.loadTable'.\n",
      "NOTE: Performing serial LoadTable action using SAS Data Connector to Hadoop.\n",
      "NOTE: Cloud Analytic Services made the external data from planagregation available as table PLANAGREGATION in caslib CASUSER(sebastien).\n",
      "NOTE: Action 'table.loadTable' used (Total process time):\n",
      "NOTE:       real time               6.489311 seconds\n",
      "NOTE:       cpu time                0.399658 seconds (6.16%)\n",
      "NOTE:       total nodes             5 (68 cores)\n",
      "NOTE:       total memory            510.65G\n",
      "NOTE:       memory                  50.08M (0.01%)\n",
      "NOTE: Executing action 'table.dropTable'.\n",
      "NOTE: Action 'table.dropTable' used (Total process time):\n",
      "NOTE:       real time               0.012674 seconds\n",
      "NOTE:       cpu time                0.018604 seconds (146.79%)\n",
      "NOTE:       total nodes             5 (68 cores)\n",
      "NOTE:       total memory            510.65G\n",
      "NOTE:       memory                  1.44M (0.00%)\n",
      "NOTE: Executing action 'table.loadTable'.\n",
      "NOTE: Performing serial LoadTable action using SAS Data Connector to Hadoop.\n",
      "NOTE: Cloud Analytic Services made the external data from d available as table D in caslib CASUSER(sebastien).\n",
      "NOTE: Action 'table.loadTable' used (Total process time):\n",
      "NOTE:       real time               267.640016 seconds\n",
      "NOTE:       cpu time                216.507091 seconds (80.89%)\n",
      "NOTE:       total nodes             5 (68 cores)\n",
      "NOTE:       total memory            510.65G\n",
      "NOTE:       memory                  90.50M (0.02%)\n",
      "NOTE: Executing action 'table.dropTable'.\n",
      "NOTE: Action 'table.dropTable' used (Total process time):\n",
      "NOTE:       real time               0.010835 seconds\n",
      "NOTE:       cpu time                0.016559 seconds (152.83%)\n",
      "NOTE:       total nodes             5 (68 cores)\n",
      "NOTE:       total memory            510.65G\n",
      "NOTE:       memory                  1.44M (0.00%)\n",
      "NOTE: Executing action 'table.loadTable'.\n",
      "NOTE: Performing serial LoadTable action using SAS Data Connector to Hadoop.\n",
      "NOTE: Cloud Analytic Services made the external data from xx available as table XX in caslib CASUSER(sebastien).\n",
      "NOTE: Action 'table.loadTable' used (Total process time):\n",
      "NOTE:       real time               64.831630 seconds\n",
      "NOTE:       cpu time                36.293476 seconds (55.98%)\n",
      "NOTE:       total nodes             5 (68 cores)\n",
      "NOTE:       total memory            510.65G\n",
      "NOTE:       memory                  41.02M (0.01%)\n"
     ]
    }
   ],
   "source": [
    "import_all_csv_in_memory(conn, 'BDF_HDP','casuser', fileflag=0)"
   ]
  },
  {
   "cell_type": "code",
   "execution_count": 66,
   "metadata": {},
   "outputs": [
    {
     "name": "stderr",
     "output_type": "stream",
     "text": [
      "NOTE: Executing action 'table.tableInfo'.\n",
      "NOTE: Action 'table.tableInfo' used (Total process time):\n",
      "NOTE:       real time               0.013153 seconds\n",
      "NOTE:       cpu time                0.013080 seconds (99.44%)\n",
      "NOTE:       total nodes             5 (68 cores)\n",
      "NOTE:       total memory            510.65G\n",
      "NOTE:       memory                  1.92M (0.00%)\n"
     ]
    },
    {
     "data": {
      "text/html": [
       "<strong>$TableInfo</strong> = <table>\n",
       "<thead><tr><th scope=col>Name</th><th scope=col>Rows</th><th scope=col>Columns</th><th scope=col>IndexedColumns</th><th scope=col>Encoding</th><th scope=col>CreateTimeFormatted</th><th scope=col>ModTimeFormatted</th><th scope=col>AccessTimeFormatted</th><th scope=col>JavaCharSet</th><th scope=col>CreateTime</th><th scope=col>...</th><th scope=col>Repeated</th><th scope=col>View</th><th scope=col>MultiPart</th><th scope=col>SourceName</th><th scope=col>SourceCaslib</th><th scope=col>Compressed</th><th scope=col>Creator</th><th scope=col>Modifier</th><th scope=col>SourceModTimeFormatted</th><th scope=col>SourceModTime</th></tr></thead>\n",
       "<tbody>\n",
       "\t<tr><td>D1                       </td><td>21648241                 </td><td> 9                       </td><td>0                        </td><td>utf-8                    </td><td>2020-04-27T15:48:01+00:00</td><td>2020-04-27T15:48:01+00:00</td><td>2020-04-27T15:48:01+00:00</td><td>UTF8                     </td><td>1903621681               </td><td>...                      </td><td>0                        </td><td>0                        </td><td>0                        </td><td>d1                       </td><td>BDF_HDP                  </td><td>0                        </td><td>sebastien                </td><td>                         </td><td>                         </td><td>NaN                      </td></tr>\n",
       "\t<tr><td>D2                       </td><td> 6472521                 </td><td> 9                       </td><td>0                        </td><td>utf-8                    </td><td>2020-04-27T15:51:12+00:00</td><td>2020-04-27T15:51:12+00:00</td><td>2020-04-27T15:51:12+00:00</td><td>UTF8                     </td><td>1903621872               </td><td>...                      </td><td>0                        </td><td>0                        </td><td>0                        </td><td>d2                       </td><td>BDF_HDP                  </td><td>0                        </td><td>sebastien                </td><td>                         </td><td>                         </td><td>NaN                      </td></tr>\n",
       "\t<tr><td>D3                       </td><td>18196935                 </td><td> 9                       </td><td>0                        </td><td>utf-8                    </td><td>2020-04-27T15:52:19+00:00</td><td>2020-04-27T15:52:19+00:00</td><td>2020-04-27T15:52:19+00:00</td><td>UTF8                     </td><td>1903621939               </td><td>...                      </td><td>0                        </td><td>0                        </td><td>0                        </td><td>d3                       </td><td>BDF_HDP                  </td><td>0                        </td><td>sebastien                </td><td>                         </td><td>                         </td><td>NaN                      </td></tr>\n",
       "\t<tr><td>F                        </td><td>  597409                 </td><td> 9                       </td><td>0                        </td><td>utf-8                    </td><td>2020-04-27T15:55:13+00:00</td><td>2020-04-27T15:55:13+00:00</td><td>2020-04-27T15:55:13+00:00</td><td>UTF8                     </td><td>1903622113               </td><td>...                      </td><td>0                        </td><td>0                        </td><td>0                        </td><td>f                        </td><td>BDF_HDP                  </td><td>0                        </td><td>sebastien                </td><td>                         </td><td>                         </td><td>NaN                      </td></tr>\n",
       "\t<tr><td>O                        </td><td>28344903                 </td><td> 9                       </td><td>0                        </td><td>utf-8                    </td><td>2020-04-27T15:55:26+00:00</td><td>2020-04-27T15:55:26+00:00</td><td>2020-04-27T15:55:26+00:00</td><td>UTF8                     </td><td>1903622126               </td><td>...                      </td><td>0                        </td><td>0                        </td><td>0                        </td><td>o                        </td><td>BDF_HDP                  </td><td>0                        </td><td>sebastien                </td><td>                         </td><td>                         </td><td>NaN                      </td></tr>\n",
       "\t<tr><td>P                        </td><td> 9530865                 </td><td> 9                       </td><td>0                        </td><td>utf-8                    </td><td>2020-04-27T15:59:29+00:00</td><td>2020-04-27T15:59:29+00:00</td><td>2020-04-27T15:59:29+00:00</td><td>UTF8                     </td><td>1903622369               </td><td>...                      </td><td>0                        </td><td>0                        </td><td>0                        </td><td>p                        </td><td>BDF_HDP                  </td><td>0                        </td><td>sebastien                </td><td>                         </td><td>                         </td><td>NaN                      </td></tr>\n",
       "\t<tr><td>U1                       </td><td>14835007                 </td><td> 9                       </td><td>0                        </td><td>utf-8                    </td><td>2020-04-27T16:00:56+00:00</td><td>2020-04-27T16:00:56+00:00</td><td>2020-04-27T16:00:56+00:00</td><td>UTF8                     </td><td>1903622456               </td><td>...                      </td><td>0                        </td><td>0                        </td><td>0                        </td><td>u1                       </td><td>BDF_HDP                  </td><td>0                        </td><td>sebastien                </td><td>                         </td><td>                         </td><td>NaN                      </td></tr>\n",
       "\t<tr><td>U2                       </td><td>13390747                 </td><td> 9                       </td><td>0                        </td><td>utf-8                    </td><td>2020-04-27T16:03:07+00:00</td><td>2020-04-27T16:03:07+00:00</td><td>2020-04-27T16:03:07+00:00</td><td>UTF8                     </td><td>1903622587               </td><td>...                      </td><td>0                        </td><td>0                        </td><td>0                        </td><td>u2                       </td><td>BDF_HDP                  </td><td>0                        </td><td>sebastien                </td><td>                         </td><td>                         </td><td>NaN                      </td></tr>\n",
       "\t<tr><td>U3                       </td><td> 6077989                 </td><td> 9                       </td><td>0                        </td><td>utf-8                    </td><td>2020-04-27T16:05:15+00:00</td><td>2020-04-27T16:05:15+00:00</td><td>2020-04-27T16:05:15+00:00</td><td>UTF8                     </td><td>1903622715               </td><td>...                      </td><td>0                        </td><td>0                        </td><td>0                        </td><td>u3                       </td><td>BDF_HDP                  </td><td>0                        </td><td>sebastien                </td><td>                         </td><td>                         </td><td>NaN                      </td></tr>\n",
       "\t<tr><td>Z                        </td><td> 6486954                 </td><td> 9                       </td><td>0                        </td><td>utf-8                    </td><td>2020-04-27T16:06:13+00:00</td><td>2020-04-27T16:06:13+00:00</td><td>2020-04-27T16:06:13+00:00</td><td>UTF8                     </td><td>1903622773               </td><td>...                      </td><td>0                        </td><td>0                        </td><td>0                        </td><td>z                        </td><td>BDF_HDP                  </td><td>0                        </td><td>sebastien                </td><td>                         </td><td>                         </td><td>NaN                      </td></tr>\n",
       "\t<tr><td>TABLEPAYSZONE            </td><td>    3953                 </td><td> 6                       </td><td>0                        </td><td>utf-8                    </td><td>2020-04-27T16:07:18+00:00</td><td>2020-04-27T16:07:18+00:00</td><td>2020-04-27T16:07:18+00:00</td><td>UTF8                     </td><td>1903622838               </td><td>...                      </td><td>0                        </td><td>0                        </td><td>0                        </td><td>tablepayszone            </td><td>BDF_HDP                  </td><td>0                        </td><td>sebastien                </td><td>                         </td><td>                         </td><td>NaN                      </td></tr>\n",
       "\t<tr><td>PLANAGREGATION           </td><td>     533                 </td><td>42                       </td><td>0                        </td><td>utf-8                    </td><td>2020-04-27T16:07:24+00:00</td><td>2020-04-27T16:07:24+00:00</td><td>2020-04-27T16:07:24+00:00</td><td>UTF8                     </td><td>1903622844               </td><td>...                      </td><td>0                        </td><td>0                        </td><td>0                        </td><td>planagregation           </td><td>BDF_HDP                  </td><td>0                        </td><td>sebastien                </td><td>                         </td><td>                         </td><td>NaN                      </td></tr>\n",
       "\t<tr><td>D                        </td><td>32038933                 </td><td> 9                       </td><td>0                        </td><td>utf-8                    </td><td>2020-04-27T16:07:31+00:00</td><td>2020-04-27T16:07:31+00:00</td><td>2020-04-27T16:07:31+00:00</td><td>UTF8                     </td><td>1903622851               </td><td>...                      </td><td>0                        </td><td>0                        </td><td>0                        </td><td>d                        </td><td>BDF_HDP                  </td><td>0                        </td><td>sebastien                </td><td>                         </td><td>                         </td><td>NaN                      </td></tr>\n",
       "\t<tr><td>XX                       </td><td> 5412060                 </td><td> 9                       </td><td>0                        </td><td>utf-8                    </td><td>2020-04-27T16:11:58+00:00</td><td>2020-04-27T16:11:58+00:00</td><td>2020-04-27T16:11:58+00:00</td><td>UTF8                     </td><td>1903623118               </td><td>...                      </td><td>0                        </td><td>0                        </td><td>0                        </td><td>xx                       </td><td>BDF_HDP                  </td><td>0                        </td><td>sebastien                </td><td>                         </td><td>                         </td><td>NaN                      </td></tr>\n",
       "</tbody>\n",
       "</table>\n"
      ],
      "text/latex": [
       "\\textbf{\\$TableInfo} = \\begin{tabular}{r|lllllllllllllllllllllll}\n",
       " Name & Rows & Columns & IndexedColumns & Encoding & CreateTimeFormatted & ModTimeFormatted & AccessTimeFormatted & JavaCharSet & CreateTime & ... & Repeated & View & MultiPart & SourceName & SourceCaslib & Compressed & Creator & Modifier & SourceModTimeFormatted & SourceModTime\\\\\n",
       "\\hline\n",
       "\t D1                        & 21648241                  &  9                        & 0                         & utf-8                     & 2020-04-27T15:48:01+00:00 & 2020-04-27T15:48:01+00:00 & 2020-04-27T15:48:01+00:00 & UTF8                      & 1903621681                & ...                       & 0                         & 0                         & 0                         & d1                        & BDF\\_HDP                 & 0                         & sebastien                 &                           &                           & NaN                      \\\\\n",
       "\t D2                        &  6472521                  &  9                        & 0                         & utf-8                     & 2020-04-27T15:51:12+00:00 & 2020-04-27T15:51:12+00:00 & 2020-04-27T15:51:12+00:00 & UTF8                      & 1903621872                & ...                       & 0                         & 0                         & 0                         & d2                        & BDF\\_HDP                 & 0                         & sebastien                 &                           &                           & NaN                      \\\\\n",
       "\t D3                        & 18196935                  &  9                        & 0                         & utf-8                     & 2020-04-27T15:52:19+00:00 & 2020-04-27T15:52:19+00:00 & 2020-04-27T15:52:19+00:00 & UTF8                      & 1903621939                & ...                       & 0                         & 0                         & 0                         & d3                        & BDF\\_HDP                 & 0                         & sebastien                 &                           &                           & NaN                      \\\\\n",
       "\t F                         &   597409                  &  9                        & 0                         & utf-8                     & 2020-04-27T15:55:13+00:00 & 2020-04-27T15:55:13+00:00 & 2020-04-27T15:55:13+00:00 & UTF8                      & 1903622113                & ...                       & 0                         & 0                         & 0                         & f                         & BDF\\_HDP                 & 0                         & sebastien                 &                           &                           & NaN                      \\\\\n",
       "\t O                         & 28344903                  &  9                        & 0                         & utf-8                     & 2020-04-27T15:55:26+00:00 & 2020-04-27T15:55:26+00:00 & 2020-04-27T15:55:26+00:00 & UTF8                      & 1903622126                & ...                       & 0                         & 0                         & 0                         & o                         & BDF\\_HDP                 & 0                         & sebastien                 &                           &                           & NaN                      \\\\\n",
       "\t P                         &  9530865                  &  9                        & 0                         & utf-8                     & 2020-04-27T15:59:29+00:00 & 2020-04-27T15:59:29+00:00 & 2020-04-27T15:59:29+00:00 & UTF8                      & 1903622369                & ...                       & 0                         & 0                         & 0                         & p                         & BDF\\_HDP                 & 0                         & sebastien                 &                           &                           & NaN                      \\\\\n",
       "\t U1                        & 14835007                  &  9                        & 0                         & utf-8                     & 2020-04-27T16:00:56+00:00 & 2020-04-27T16:00:56+00:00 & 2020-04-27T16:00:56+00:00 & UTF8                      & 1903622456                & ...                       & 0                         & 0                         & 0                         & u1                        & BDF\\_HDP                 & 0                         & sebastien                 &                           &                           & NaN                      \\\\\n",
       "\t U2                        & 13390747                  &  9                        & 0                         & utf-8                     & 2020-04-27T16:03:07+00:00 & 2020-04-27T16:03:07+00:00 & 2020-04-27T16:03:07+00:00 & UTF8                      & 1903622587                & ...                       & 0                         & 0                         & 0                         & u2                        & BDF\\_HDP                 & 0                         & sebastien                 &                           &                           & NaN                      \\\\\n",
       "\t U3                        &  6077989                  &  9                        & 0                         & utf-8                     & 2020-04-27T16:05:15+00:00 & 2020-04-27T16:05:15+00:00 & 2020-04-27T16:05:15+00:00 & UTF8                      & 1903622715                & ...                       & 0                         & 0                         & 0                         & u3                        & BDF\\_HDP                 & 0                         & sebastien                 &                           &                           & NaN                      \\\\\n",
       "\t Z                         &  6486954                  &  9                        & 0                         & utf-8                     & 2020-04-27T16:06:13+00:00 & 2020-04-27T16:06:13+00:00 & 2020-04-27T16:06:13+00:00 & UTF8                      & 1903622773                & ...                       & 0                         & 0                         & 0                         & z                         & BDF\\_HDP                 & 0                         & sebastien                 &                           &                           & NaN                      \\\\\n",
       "\t TABLEPAYSZONE             &     3953                  &  6                        & 0                         & utf-8                     & 2020-04-27T16:07:18+00:00 & 2020-04-27T16:07:18+00:00 & 2020-04-27T16:07:18+00:00 & UTF8                      & 1903622838                & ...                       & 0                         & 0                         & 0                         & tablepayszone             & BDF\\_HDP                 & 0                         & sebastien                 &                           &                           & NaN                      \\\\\n",
       "\t PLANAGREGATION            &      533                  & 42                        & 0                         & utf-8                     & 2020-04-27T16:07:24+00:00 & 2020-04-27T16:07:24+00:00 & 2020-04-27T16:07:24+00:00 & UTF8                      & 1903622844                & ...                       & 0                         & 0                         & 0                         & planagregation            & BDF\\_HDP                 & 0                         & sebastien                 &                           &                           & NaN                      \\\\\n",
       "\t D                         & 32038933                  &  9                        & 0                         & utf-8                     & 2020-04-27T16:07:31+00:00 & 2020-04-27T16:07:31+00:00 & 2020-04-27T16:07:31+00:00 & UTF8                      & 1903622851                & ...                       & 0                         & 0                         & 0                         & d                         & BDF\\_HDP                 & 0                         & sebastien                 &                           &                           & NaN                      \\\\\n",
       "\t XX                        &  5412060                  &  9                        & 0                         & utf-8                     & 2020-04-27T16:11:58+00:00 & 2020-04-27T16:11:58+00:00 & 2020-04-27T16:11:58+00:00 & UTF8                      & 1903623118                & ...                       & 0                         & 0                         & 0                         & xx                        & BDF\\_HDP                 & 0                         & sebastien                 &                           &                           & NaN                      \\\\\n",
       "\\end{tabular}\n"
      ],
      "text/markdown": [
       "**$TableInfo** = \n",
       "| Name | Rows | Columns | IndexedColumns | Encoding | CreateTimeFormatted | ModTimeFormatted | AccessTimeFormatted | JavaCharSet | CreateTime | ... | Repeated | View | MultiPart | SourceName | SourceCaslib | Compressed | Creator | Modifier | SourceModTimeFormatted | SourceModTime |\n",
       "|---|---|---|---|---|---|---|---|---|---|---|---|---|---|---|---|---|---|---|---|---|\n",
       "| D1                        | 21648241                  |  9                        | 0                         | utf-8                     | 2020-04-27T15:48:01+00:00 | 2020-04-27T15:48:01+00:00 | 2020-04-27T15:48:01+00:00 | UTF8                      | 1903621681                | ...                       | 0                         | 0                         | 0                         | d1                        | BDF_HDP                   | 0                         | sebastien                 |                           |                           | NaN                       |\n",
       "| D2                        |  6472521                  |  9                        | 0                         | utf-8                     | 2020-04-27T15:51:12+00:00 | 2020-04-27T15:51:12+00:00 | 2020-04-27T15:51:12+00:00 | UTF8                      | 1903621872                | ...                       | 0                         | 0                         | 0                         | d2                        | BDF_HDP                   | 0                         | sebastien                 |                           |                           | NaN                       |\n",
       "| D3                        | 18196935                  |  9                        | 0                         | utf-8                     | 2020-04-27T15:52:19+00:00 | 2020-04-27T15:52:19+00:00 | 2020-04-27T15:52:19+00:00 | UTF8                      | 1903621939                | ...                       | 0                         | 0                         | 0                         | d3                        | BDF_HDP                   | 0                         | sebastien                 |                           |                           | NaN                       |\n",
       "| F                         |   597409                  |  9                        | 0                         | utf-8                     | 2020-04-27T15:55:13+00:00 | 2020-04-27T15:55:13+00:00 | 2020-04-27T15:55:13+00:00 | UTF8                      | 1903622113                | ...                       | 0                         | 0                         | 0                         | f                         | BDF_HDP                   | 0                         | sebastien                 |                           |                           | NaN                       |\n",
       "| O                         | 28344903                  |  9                        | 0                         | utf-8                     | 2020-04-27T15:55:26+00:00 | 2020-04-27T15:55:26+00:00 | 2020-04-27T15:55:26+00:00 | UTF8                      | 1903622126                | ...                       | 0                         | 0                         | 0                         | o                         | BDF_HDP                   | 0                         | sebastien                 |                           |                           | NaN                       |\n",
       "| P                         |  9530865                  |  9                        | 0                         | utf-8                     | 2020-04-27T15:59:29+00:00 | 2020-04-27T15:59:29+00:00 | 2020-04-27T15:59:29+00:00 | UTF8                      | 1903622369                | ...                       | 0                         | 0                         | 0                         | p                         | BDF_HDP                   | 0                         | sebastien                 |                           |                           | NaN                       |\n",
       "| U1                        | 14835007                  |  9                        | 0                         | utf-8                     | 2020-04-27T16:00:56+00:00 | 2020-04-27T16:00:56+00:00 | 2020-04-27T16:00:56+00:00 | UTF8                      | 1903622456                | ...                       | 0                         | 0                         | 0                         | u1                        | BDF_HDP                   | 0                         | sebastien                 |                           |                           | NaN                       |\n",
       "| U2                        | 13390747                  |  9                        | 0                         | utf-8                     | 2020-04-27T16:03:07+00:00 | 2020-04-27T16:03:07+00:00 | 2020-04-27T16:03:07+00:00 | UTF8                      | 1903622587                | ...                       | 0                         | 0                         | 0                         | u2                        | BDF_HDP                   | 0                         | sebastien                 |                           |                           | NaN                       |\n",
       "| U3                        |  6077989                  |  9                        | 0                         | utf-8                     | 2020-04-27T16:05:15+00:00 | 2020-04-27T16:05:15+00:00 | 2020-04-27T16:05:15+00:00 | UTF8                      | 1903622715                | ...                       | 0                         | 0                         | 0                         | u3                        | BDF_HDP                   | 0                         | sebastien                 |                           |                           | NaN                       |\n",
       "| Z                         |  6486954                  |  9                        | 0                         | utf-8                     | 2020-04-27T16:06:13+00:00 | 2020-04-27T16:06:13+00:00 | 2020-04-27T16:06:13+00:00 | UTF8                      | 1903622773                | ...                       | 0                         | 0                         | 0                         | z                         | BDF_HDP                   | 0                         | sebastien                 |                           |                           | NaN                       |\n",
       "| TABLEPAYSZONE             |     3953                  |  6                        | 0                         | utf-8                     | 2020-04-27T16:07:18+00:00 | 2020-04-27T16:07:18+00:00 | 2020-04-27T16:07:18+00:00 | UTF8                      | 1903622838                | ...                       | 0                         | 0                         | 0                         | tablepayszone             | BDF_HDP                   | 0                         | sebastien                 |                           |                           | NaN                       |\n",
       "| PLANAGREGATION            |      533                  | 42                        | 0                         | utf-8                     | 2020-04-27T16:07:24+00:00 | 2020-04-27T16:07:24+00:00 | 2020-04-27T16:07:24+00:00 | UTF8                      | 1903622844                | ...                       | 0                         | 0                         | 0                         | planagregation            | BDF_HDP                   | 0                         | sebastien                 |                           |                           | NaN                       |\n",
       "| D                         | 32038933                  |  9                        | 0                         | utf-8                     | 2020-04-27T16:07:31+00:00 | 2020-04-27T16:07:31+00:00 | 2020-04-27T16:07:31+00:00 | UTF8                      | 1903622851                | ...                       | 0                         | 0                         | 0                         | d                         | BDF_HDP                   | 0                         | sebastien                 |                           |                           | NaN                       |\n",
       "| XX                        |  5412060                  |  9                        | 0                         | utf-8                     | 2020-04-27T16:11:58+00:00 | 2020-04-27T16:11:58+00:00 | 2020-04-27T16:11:58+00:00 | UTF8                      | 1903623118                | ...                       | 0                         | 0                         | 0                         | xx                        | BDF_HDP                   | 0                         | sebastien                 |                           |                           | NaN                       |\n",
       "\n"
      ],
      "text/plain": [
       "$TableInfo\n",
       "             Name     Rows Columns IndexedColumns Encoding\n",
       "1              D1 21648241       9              0    utf-8\n",
       "2              D2  6472521       9              0    utf-8\n",
       "3              D3 18196935       9              0    utf-8\n",
       "4               F   597409       9              0    utf-8\n",
       "5               O 28344903       9              0    utf-8\n",
       "6               P  9530865       9              0    utf-8\n",
       "7              U1 14835007       9              0    utf-8\n",
       "8              U2 13390747       9              0    utf-8\n",
       "9              U3  6077989       9              0    utf-8\n",
       "10              Z  6486954       9              0    utf-8\n",
       "11  TABLEPAYSZONE     3953       6              0    utf-8\n",
       "12 PLANAGREGATION      533      42              0    utf-8\n",
       "13              D 32038933       9              0    utf-8\n",
       "14             XX  5412060       9              0    utf-8\n",
       "         CreateTimeFormatted          ModTimeFormatted\n",
       "1  2020-04-27T15:48:01+00:00 2020-04-27T15:48:01+00:00\n",
       "2  2020-04-27T15:51:12+00:00 2020-04-27T15:51:12+00:00\n",
       "3  2020-04-27T15:52:19+00:00 2020-04-27T15:52:19+00:00\n",
       "4  2020-04-27T15:55:13+00:00 2020-04-27T15:55:13+00:00\n",
       "5  2020-04-27T15:55:26+00:00 2020-04-27T15:55:26+00:00\n",
       "6  2020-04-27T15:59:29+00:00 2020-04-27T15:59:29+00:00\n",
       "7  2020-04-27T16:00:56+00:00 2020-04-27T16:00:56+00:00\n",
       "8  2020-04-27T16:03:07+00:00 2020-04-27T16:03:07+00:00\n",
       "9  2020-04-27T16:05:15+00:00 2020-04-27T16:05:15+00:00\n",
       "10 2020-04-27T16:06:13+00:00 2020-04-27T16:06:13+00:00\n",
       "11 2020-04-27T16:07:18+00:00 2020-04-27T16:07:18+00:00\n",
       "12 2020-04-27T16:07:24+00:00 2020-04-27T16:07:24+00:00\n",
       "13 2020-04-27T16:07:31+00:00 2020-04-27T16:07:31+00:00\n",
       "14 2020-04-27T16:11:58+00:00 2020-04-27T16:11:58+00:00\n",
       "         AccessTimeFormatted JavaCharSet CreateTime    ModTime AccessTime\n",
       "1  2020-04-27T15:48:01+00:00        UTF8 1903621681 1903621681 1903621681\n",
       "2  2020-04-27T15:51:12+00:00        UTF8 1903621872 1903621872 1903621872\n",
       "3  2020-04-27T15:52:19+00:00        UTF8 1903621939 1903621939 1903621939\n",
       "4  2020-04-27T15:55:13+00:00        UTF8 1903622113 1903622113 1903622113\n",
       "5  2020-04-27T15:55:26+00:00        UTF8 1903622126 1903622126 1903622126\n",
       "6  2020-04-27T15:59:29+00:00        UTF8 1903622369 1903622369 1903622369\n",
       "7  2020-04-27T16:00:56+00:00        UTF8 1903622456 1903622456 1903622456\n",
       "8  2020-04-27T16:03:07+00:00        UTF8 1903622587 1903622587 1903622587\n",
       "9  2020-04-27T16:05:15+00:00        UTF8 1903622715 1903622715 1903622715\n",
       "10 2020-04-27T16:06:13+00:00        UTF8 1903622773 1903622773 1903622773\n",
       "11 2020-04-27T16:07:18+00:00        UTF8 1903622838 1903622838 1903622838\n",
       "12 2020-04-27T16:07:24+00:00        UTF8 1903622844 1903622844 1903622844\n",
       "13 2020-04-27T16:07:31+00:00        UTF8 1903622851 1903622851 1903622851\n",
       "14 2020-04-27T16:11:58+00:00        UTF8 1903623118 1903623118 1903623118\n",
       "   Global Repeated View MultiPart     SourceName SourceCaslib Compressed\n",
       "1       0        0    0         0             d1      BDF_HDP          0\n",
       "2       0        0    0         0             d2      BDF_HDP          0\n",
       "3       0        0    0         0             d3      BDF_HDP          0\n",
       "4       0        0    0         0              f      BDF_HDP          0\n",
       "5       0        0    0         0              o      BDF_HDP          0\n",
       "6       0        0    0         0              p      BDF_HDP          0\n",
       "7       0        0    0         0             u1      BDF_HDP          0\n",
       "8       0        0    0         0             u2      BDF_HDP          0\n",
       "9       0        0    0         0             u3      BDF_HDP          0\n",
       "10      0        0    0         0              z      BDF_HDP          0\n",
       "11      0        0    0         0  tablepayszone      BDF_HDP          0\n",
       "12      0        0    0         0 planagregation      BDF_HDP          0\n",
       "13      0        0    0         0              d      BDF_HDP          0\n",
       "14      0        0    0         0             xx      BDF_HDP          0\n",
       "     Creator Modifier SourceModTimeFormatted SourceModTime\n",
       "1  sebastien                                           NaN\n",
       "2  sebastien                                           NaN\n",
       "3  sebastien                                           NaN\n",
       "4  sebastien                                           NaN\n",
       "5  sebastien                                           NaN\n",
       "6  sebastien                                           NaN\n",
       "7  sebastien                                           NaN\n",
       "8  sebastien                                           NaN\n",
       "9  sebastien                                           NaN\n",
       "10 sebastien                                           NaN\n",
       "11 sebastien                                           NaN\n",
       "12 sebastien                                           NaN\n",
       "13 sebastien                                           NaN\n",
       "14 sebastien                                           NaN\n"
      ]
     },
     "metadata": {},
     "output_type": "display_data"
    }
   ],
   "source": [
    "cas.table.tableInfo(conn,caslib=\"casuser\")"
   ]
  },
  {
   "cell_type": "markdown",
   "metadata": {},
   "source": [
    "## Concatenation totale de toutes les tables d'agregat en mémoire pour former une table nommee AGGTTECATEGORIE"
   ]
  },
  {
   "cell_type": "code",
   "execution_count": 67,
   "metadata": {},
   "outputs": [
    {
     "name": "stderr",
     "output_type": "stream",
     "text": [
      "NOTE: Executing action 'table.tableInfo'.\n",
      "NOTE: Action 'table.tableInfo' used (Total process time):\n",
      "NOTE:       real time               0.009335 seconds\n",
      "NOTE:       cpu time                0.012153 seconds (130.19%)\n",
      "NOTE:       total nodes             5 (68 cores)\n",
      "NOTE:       total memory            510.65G\n",
      "NOTE:       memory                  1.92M (0.00%)\n",
      "NOTE: Executing action 'table.dropTable'.\n",
      "NOTE: Action 'table.dropTable' used (Total process time):\n",
      "NOTE:       real time               0.025253 seconds\n",
      "NOTE:       cpu time                0.014597 seconds (57.80%)\n",
      "NOTE:       total nodes             5 (68 cores)\n",
      "NOTE:       total memory            510.65G\n",
      "NOTE:       memory                  1.44M (0.00%)\n",
      "NOTE: Executing action 'dataStep.runCode'.\n",
      "NOTE: Action 'dataStep.runCode' used (Total process time):\n",
      "NOTE:       real time               1.263059 seconds\n",
      "NOTE:       cpu time                43.889980 seconds (3474.90%)\n",
      "NOTE:       total nodes             5 (68 cores)\n",
      "NOTE:       total memory            510.65G\n",
      "NOTE:       memory                  236.24M (0.05%)\n",
      "NOTE: Executing action 'dataStep.runCode'.\n",
      "NOTE: Action 'dataStep.runCode' used (Total process time):\n",
      "NOTE:       real time               0.390573 seconds\n",
      "NOTE:       cpu time                12.846494 seconds (3289.14%)\n",
      "NOTE:       total nodes             5 (68 cores)\n",
      "NOTE:       total memory            510.65G\n",
      "NOTE:       memory                  42.36M (0.01%)\n",
      "NOTE: Executing action 'dataStep.runCode'.\n",
      "NOTE: Action 'dataStep.runCode' used (Total process time):\n",
      "NOTE:       real time               1.100652 seconds\n",
      "NOTE:       cpu time                36.801568 seconds (3343.62%)\n",
      "NOTE:       total nodes             5 (68 cores)\n",
      "NOTE:       total memory            510.65G\n",
      "NOTE:       memory                  42.88M (0.01%)\n",
      "NOTE: Executing action 'dataStep.runCode'.\n",
      "NOTE: Action 'dataStep.runCode' used (Total process time):\n",
      "NOTE:       real time               0.109421 seconds\n",
      "NOTE:       cpu time                1.433409 seconds (1309.99%)\n",
      "NOTE:       total nodes             5 (68 cores)\n",
      "NOTE:       total memory            510.65G\n",
      "NOTE:       memory                  42.64M (0.01%)\n",
      "NOTE: Executing action 'dataStep.runCode'.\n",
      "NOTE: Action 'dataStep.runCode' used (Total process time):\n",
      "NOTE:       real time               1.432265 seconds\n",
      "NOTE:       cpu time                56.904658 seconds (3973.05%)\n",
      "NOTE:       total nodes             5 (68 cores)\n",
      "NOTE:       total memory            510.65G\n",
      "NOTE:       memory                  46.43M (0.01%)\n",
      "NOTE: Executing action 'dataStep.runCode'.\n",
      "NOTE: Action 'dataStep.runCode' used (Total process time):\n",
      "NOTE:       real time               0.556651 seconds\n",
      "NOTE:       cpu time                18.946289 seconds (3403.62%)\n",
      "NOTE:       total nodes             5 (68 cores)\n",
      "NOTE:       total memory            510.65G\n",
      "NOTE:       memory                  42.33M (0.01%)\n",
      "NOTE: Executing action 'dataStep.runCode'.\n",
      "NOTE: Action 'dataStep.runCode' used (Total process time):\n",
      "NOTE:       real time               0.872847 seconds\n",
      "NOTE:       cpu time                30.550274 seconds (3500.07%)\n",
      "NOTE:       total nodes             5 (68 cores)\n",
      "NOTE:       total memory            510.65G\n",
      "NOTE:       memory                  42.37M (0.01%)\n",
      "NOTE: Executing action 'dataStep.runCode'.\n",
      "NOTE: Action 'dataStep.runCode' used (Total process time):\n",
      "NOTE:       real time               0.765590 seconds\n",
      "NOTE:       cpu time                27.543345 seconds (3597.66%)\n",
      "NOTE:       total nodes             5 (68 cores)\n",
      "NOTE:       total memory            510.65G\n",
      "NOTE:       memory                  45.07M (0.01%)\n",
      "NOTE: Executing action 'dataStep.runCode'.\n",
      "NOTE: Action 'dataStep.runCode' used (Total process time):\n",
      "NOTE:       real time               0.380661 seconds\n",
      "NOTE:       cpu time                12.044311 seconds (3164.05%)\n",
      "NOTE:       total nodes             5 (68 cores)\n",
      "NOTE:       total memory            510.65G\n",
      "NOTE:       memory                  42.63M (0.01%)\n",
      "NOTE: Executing action 'dataStep.runCode'.\n",
      "NOTE: Action 'dataStep.runCode' used (Total process time):\n",
      "NOTE:       real time               0.427181 seconds\n",
      "NOTE:       cpu time                12.932887 seconds (3027.50%)\n",
      "NOTE:       total nodes             5 (68 cores)\n",
      "NOTE:       total memory            510.65G\n",
      "NOTE:       memory                  43.26M (0.01%)\n",
      "NOTE: Executing action 'dataStep.runCode'.\n",
      "NOTE: Action 'dataStep.runCode' used (Total process time):\n",
      "NOTE:       real time               1.788665 seconds\n",
      "NOTE:       cpu time                64.962202 seconds (3631.88%)\n",
      "NOTE:       total nodes             5 (68 cores)\n",
      "NOTE:       total memory            510.65G\n",
      "NOTE:       memory                  42.73M (0.01%)\n",
      "NOTE: Executing action 'dataStep.runCode'.\n",
      "NOTE: Action 'dataStep.runCode' used (Total process time):\n",
      "NOTE:       real time               1.087124 seconds\n",
      "NOTE:       cpu time                10.923412 seconds (1004.80%)\n",
      "NOTE:       total nodes             5 (68 cores)\n",
      "NOTE:       total memory            510.65G\n",
      "NOTE:       memory                  42.56M (0.01%)\n",
      "NOTE: Executing action 'table.columnInfo'.\n",
      "NOTE: Action 'table.columnInfo' used (Total process time):\n",
      "NOTE:       real time               0.007590 seconds\n",
      "NOTE:       cpu time                0.016779 seconds (221.07%)\n",
      "NOTE:       total nodes             5 (68 cores)\n",
      "NOTE:       total memory            510.65G\n",
      "NOTE:       memory                  2.55M (0.00%)\n",
      "NOTE: Executing action 'simple.numRows'.\n",
      "NOTE: Action 'simple.numRows' used (Total process time):\n",
      "NOTE:       real time               0.010096 seconds\n",
      "NOTE:       cpu time                0.017680 seconds (175.12%)\n",
      "NOTE:       total nodes             5 (68 cores)\n",
      "NOTE:       total memory            510.65G\n",
      "NOTE:       memory                  2.26M (0.00%)\n"
     ]
    },
    {
     "data": {
      "text/html": [
       "163032564"
      ],
      "text/latex": [
       "163032564"
      ],
      "text/markdown": [
       "163032564"
      ],
      "text/plain": [
       "[1] 163032564"
      ]
     },
     "metadata": {},
     "output_type": "display_data"
    }
   ],
   "source": [
    "cas_concat_all_tables(conn, \"casuser\",\"casuser\",\"AGGTTECATEGORIE\")\n",
    "table_AggregationMensuelleTouteCategorie <- defCasTable(conn, tablename='AGGTTECATEGORIE', caslib='casuser')\n",
    "nrow(table_AggregationMensuelleTouteCategorie)"
   ]
  },
  {
   "cell_type": "markdown",
   "metadata": {},
   "source": [
    "## Produire la repartition en nombre d'enregistrements par categorie a partir de l'agregation faite en memoire par le moteur CAS sur la table globale AGGTTECATEGORIE et la recuperation de ces agregats en entree de la fonction PIE de R"
   ]
  },
  {
   "cell_type": "code",
   "execution_count": 68,
   "metadata": {},
   "outputs": [
    {
     "name": "stderr",
     "output_type": "stream",
     "text": [
      "NOTE: Executing action 'simple.freq'.\n",
      "NOTE: Action 'simple.freq' used (Total process time):\n",
      "NOTE:       real time               1.019512 seconds\n",
      "NOTE:       cpu time                50.959357 seconds (4998.41%)\n",
      "NOTE:       total nodes             5 (68 cores)\n",
      "NOTE:       total memory            510.65G\n",
      "NOTE:       memory                  75.56M (0.01%)\n",
      "NOTE:       bytes moved             1.52K\n"
     ]
    },
    {
     "data": {
      "text/html": [
       "<strong>$OutputCasTables</strong> = <table>\n",
       "<thead><tr><th scope=col>casLib</th><th scope=col>Name</th><th scope=col>Rows</th><th scope=col>Columns</th></tr></thead>\n",
       "<tbody>\n",
       "\t<tr><td>CASUSER(sebastien)  </td><td>AGGTTECATEGORIE_freq</td><td>12                  </td><td>5                   </td></tr>\n",
       "</tbody>\n",
       "</table>\n"
      ],
      "text/latex": [
       "\\textbf{\\$OutputCasTables} = \\begin{tabular}{r|llll}\n",
       " casLib & Name & Rows & Columns\\\\\n",
       "\\hline\n",
       "\t CASUSER(sebastien)     & AGGTTECATEGORIE\\_freq & 12                     & 5                     \\\\\n",
       "\\end{tabular}\n"
      ],
      "text/markdown": [
       "**$OutputCasTables** = \n",
       "| casLib | Name | Rows | Columns |\n",
       "|---|---|---|---|\n",
       "| CASUSER(sebastien)   | AGGTTECATEGORIE_freq | 12                   | 5                    |\n",
       "\n"
      ],
      "text/plain": [
       "$OutputCasTables\n",
       "              casLib                 Name Rows Columns\n",
       "1 CASUSER(sebastien) AGGTTECATEGORIE_freq   12       5\n"
      ]
     },
     "metadata": {},
     "output_type": "display_data"
    },
    {
     "name": "stderr",
     "output_type": "stream",
     "text": [
      "NOTE: Executing action 'table.fetch'.\n",
      "NOTE: Action 'table.fetch' used (Total process time):\n",
      "NOTE:       real time               0.019827 seconds\n",
      "NOTE:       cpu time                0.053586 seconds (270.27%)\n",
      "NOTE:       total nodes             5 (68 cores)\n",
      "NOTE:       total memory            510.65G\n",
      "NOTE:       memory                  6.19M (0.00%)\n"
     ]
    },
    {
     "name": "stdout",
     "output_type": "stream",
     "text": [
      "$Fetch\n",
      "   _Index_  _Column_ _Charvar_ _Fmtvar_ _Level_ _Frequency_\n",
      "1        1 tablename         D        D       8    32038933\n",
      "2        2 tablename         O        O       6    28344903\n",
      "3        3 tablename        D1       D1      10    21648241\n",
      "4        4 tablename        D3       D3       4    18196935\n",
      "5        5 tablename        U1       U1      12    14835007\n",
      "6        6 tablename        U2       U2       1    13390747\n",
      "7        7 tablename         P        P      11     9530865\n",
      "8        8 tablename         Z        Z       3     6486954\n",
      "9        9 tablename        D2       D2       9     6472521\n",
      "10      10 tablename        U3       U3       2     6077989\n",
      "11      11 tablename        XX       XX       5     5412060\n",
      "12      12 tablename         F        F       7      597409\n",
      "\n"
     ]
    },
    {
     "data": {
      "image/png": "[encoded data removed]",
      "text/plain": [
       "Plot with title “Rows by table name”"
      ]
     },
     "metadata": {},
     "output_type": "display_data"
    }
   ],
   "source": [
    "cas.simple.freq(conn, inputs = c(\"tablename\"),table = c(name = \"AGGTTECATEGORIE\"),casout = c(name = \"AGGTTECATEGORIE_freq\", replace = TRUE)) \n",
    "res <- cas.table.fetch(conn, table = \"AGGTTECATEGORIE_freq\", sortBy = list(list(name = \"_Frequency_\",order = \"descending\")))\n",
    "print(res)\n",
    "piedata <- res$Fetch                                              # \n",
    "names(piedata) <- gsub(\"_\", \"\", names(piedata))\n",
    "piedata <- piedata[order(piedata$Frequency),]\n",
    "total <- sum(piedata$Frequency)\n",
    "piedata$Percent <- scales::percent(piedata$Frequency / total)\n",
    "fillcolors = c(\"#6F7EB3\", \"#D05B5B\", \"#66A5A0\", \"#A9865B\",\"#B689CD\", \"#BABC5C\")\n",
    "par(mar = c(3, 0, 1.5, 0), xpd=TRUE)\n",
    "pie(piedata$Frequency,labels = piedata$Percent, col=fillcolors, radius=0.85, clockwise=TRUE, init.angle=0, main=\"Rows by table name\")\n",
    "legend(x=-0.85, y=-1, horiz = FALSE, piedata$Charvar, fill = fillcolors, ncol=3)"
   ]
  },
  {
   "cell_type": "markdown",
   "metadata": {},
   "source": [
    "## Declaration des table CAS en tant qu'objet de type CASTable en R"
   ]
  },
  {
   "cell_type": "code",
   "execution_count": 69,
   "metadata": {},
   "outputs": [
    {
     "name": "stderr",
     "output_type": "stream",
     "text": [
      "NOTE: Executing action 'table.columnInfo'.\n",
      "NOTE: Action 'table.columnInfo' used (Total process time):\n",
      "NOTE:       real time               0.007015 seconds\n",
      "NOTE:       cpu time                0.016378 seconds (233.47%)\n",
      "NOTE:       total nodes             5 (68 cores)\n",
      "NOTE:       total memory            510.65G\n",
      "NOTE:       memory                  2.53M (0.00%)\n",
      "NOTE: Executing action 'table.columnInfo'.\n",
      "NOTE: Action 'table.columnInfo' used (Total process time):\n",
      "NOTE:       real time               0.007347 seconds\n",
      "NOTE:       cpu time                0.015984 seconds (217.56%)\n",
      "NOTE:       total nodes             5 (68 cores)\n",
      "NOTE:       total memory            510.65G\n",
      "NOTE:       memory                  2.57M (0.00%)\n"
     ]
    }
   ],
   "source": [
    "table_pays_zone <- defCasTable(conn, tablename='TABLEPAYSZONE', caslib='casuser')\n",
    "table_planAggregation <- defCasTable(conn, tablename='PLANAGREGATION', caslib='casuser')"
   ]
  },
  {
   "cell_type": "markdown",
   "metadata": {},
   "source": [
    "# Code principal basé sur le programme R existant"
   ]
  },
  {
   "cell_type": "markdown",
   "metadata": {},
   "source": [
    "## Fonction de traitement principal"
   ]
  },
  {
   "cell_type": "code",
   "execution_count": 70,
   "metadata": {},
   "outputs": [],
   "source": [
    "traitement_principal <- function(freq, RevFin, PeriodeFin, planAggregation,ReferencePiZones, Repertoire, ConnectionSecureDB)\n",
    "{\n",
    "  Frequence <- freq\n",
    "  HeureDebut <- Sys.time()\n",
    "  An = as.numeric(ExtractString(PeriodeFin, 1, 4))\n",
    "  print(\"ETAPE DATA: LECTURE TABLE PI_ZONE\")\n",
    "  print(Sys.time())\n",
    "  TablePiZone <- recuperation_traitement_table_code_pays(ReferencePiZones, ConnectionSecureDB)\n",
    "  #return(TablePiZone)\n",
    "  print(\" TAILLE TABLE TablePaysZone\")\n",
    "  print(dim(TablePiZone))\n",
    "  print(Sys.time())\n",
    "  print(\"LECTURE ET MISE EN FORME DES FICHIERS D'AGGREGATION CODE SERIE\")\n",
    "  print(Sys.time())\n",
    "  # planAggregation <- \"PlanAggregation.csv\"\n",
    "  planAgregationCodeSerie <- lecture_fichier_aggregation_codeSerie(planAggregation, connectionSecureDB)\n",
    "  # # write_delim(planAgregationCodeSerie, \"planAgregationCodeSerie.csv\", delim=\";\")\n",
    "  print(\" TAILLE TABLE planAgregationCodeSerie\")\n",
    "  print(dim(planAgregationCodeSerie))\n",
    "  print(Sys.time())\n",
    "  print(\"JOINTURE PLAN D'AGGREGATION\")\n",
    "  PlanAggregationParametre <- parametrage_aggregation_code_serie(planAgregationCodeSerie, TablePiZone, freq) \n",
    "    \n",
    "  # # write_delim(PlanAggregationParametre, \"PlanAggregationParametre.csv\", delim=\";\")\n",
    "  print(\"Taille plan d'agregation\")\n",
    "  print(dim(PlanAggregationParametre))\n",
    "  print(names(PlanAggregationParametre))\n",
    "\n",
    "  # Ecriture du dataframe de sortie en table CAS pour les futures jointures\n",
    "  PlanAggregationParametreCAS <- as.casTable(ConnectionSecureDB, PlanAggregationParametre, casOut=list(caslib=\"casuser\", name=\"PLANAGGPARAM\",replace=TRUE))\n",
    "  print(dim(PlanAggregationParametreCAS))\n",
    "    \n",
    "  print(\"ESTIMATION NOMBRE DE PERIODE ET DE DEBUT DE TRAITEMENT\")\n",
    "  result_nbperiode_moisdebut <- detection_nbPeriode_moisDebut(freq, RevFin, PeriodeFin)\n",
    "  NbrePeriode <- result_nbperiode_moisdebut$nbper\n",
    "  MoisDebut <- as.numeric(result_nbperiode_moisdebut$moisDebut)\n",
    "  print(MoisDebut)\n",
    "  \n",
    "  rm(result_nbperiode_moisdebut)\n",
    "  \n",
    "  print(\"BOUCLE DU LES MOIS\")\n",
    "\n",
    " # On supprime la table d'agregat finale si elle existe avant de la reconstruire de la boucle mensuelle suivante   \n",
    " cas.table.dropTable(conn, caslib='casuser', name='AGG_FINALE', quiet=TRUE)\n",
    "    \n",
    "  for(mois in MoisDebut:(MoisDebut+NbrePeriode-1))\n",
    "  {\n",
    "     print(paste0(\"     Mois debut \", MoisDebut))\n",
    "     print(paste0(\"     Mois fin \", (MoisDebut+NbrePeriode-1)))\n",
    "     print(paste0(\"     Mois en cours de traitement: \", mois))\n",
    "     \n",
    "     print(Sys.time())\n",
    "     \n",
    "     print(\"                      lecture\")\n",
    "\n",
    "     AggregationMensuelleTouteCategorie <- lecture_tables_aggregation(freq, Mois, RevFin, PeriodeFin, Repertoire, ConnectionSecureDB,'AGGTTECATEGORIE','AGG_MENS_TEMP')\n",
    "     print(\"Taille table d'agregation\")\n",
    "     print(dim(AggregationMensuelleTouteCategorie))\n",
    "     print(names(AggregationMensuelleTouteCategorie))\n",
    "      \n",
    "     TableIdMixte <- lecture_tables_mixte(freq, Mois, RevFin, PeriodeFin, Repertoire, ConnectionSecureDB,'AGGTTECATEGORIE','AGG_MIXTE')\n",
    "     print(dim(TableIdMixte))\n",
    "     print(names(TableIdMixte))\n",
    "     print(Sys.time())\n",
    "     \n",
    "     print(\"PARAMETRAGE CODE SERIE\") \n",
    "     \n",
    "     print(\"APPLICATION PARAMETRAGE CODE SERIE\") \n",
    "     \n",
    "     AggregationCodeSerieFinaleMensuelle <- application_plan_parametrage_aggregation_code_serie_mensuel('AGG_MENS_TEMP', 'PLANAGGPARAM', ConnectionSecureDB,'AGG_MENS')\n",
    "     print(names(AggregationCodeSerieFinaleMensuelle))\n",
    "      \n",
    "     # On ajoute la table mensuelle à la table globale finale\n",
    "     cas_append2tables(conn, 'casuser', 'AGG_MENS', 'casuser', 'AGG_FINALE')\n",
    "  }\n",
    "}"
   ]
  },
  {
   "cell_type": "markdown",
   "metadata": {},
   "source": [
    "## Definition des variables"
   ]
  },
  {
   "cell_type": "code",
   "execution_count": 71,
   "metadata": {},
   "outputs": [],
   "source": [
    "Repertoire <- \"AC156203\"\n",
    "RevFin<- \"SD10\"\n",
    "PeriodeFin <- \"2018Q4\"\n",
    "freq <- \"Q\"\n",
    "planAggregation <- table_planAggregation\n",
    "ReferencePiZones <- table_pays_zone\n",
    "ConnectionSecureDB <- conn # Connexion securisee a la session CAS"
   ]
  },
  {
   "cell_type": "code",
   "execution_count": 72,
   "metadata": {},
   "outputs": [
    {
     "name": "stdout",
     "output_type": "stream",
     "text": [
      "[1] \"ETAPE DATA: LECTURE TABLE PI_ZONE\"\n",
      "[1] \"2020-04-27 16:13:10 UTC\"\n",
      "[1] \"recuperation_traitement_table_code_pays monostream\"\n",
      "[1] \"2020-04-27 16:13:10 UTC\"\n"
     ]
    },
    {
     "name": "stderr",
     "output_type": "stream",
     "text": [
      "NOTE: Executing action 'table.fetch'.\n",
      "NOTE: Action 'table.fetch' used (Total process time):\n",
      "NOTE:       real time               0.311632 seconds\n",
      "NOTE:       cpu time                0.259477 seconds (83.26%)\n",
      "NOTE:       total nodes             5 (68 cores)\n",
      "NOTE:       total memory            510.65G\n",
      "NOTE:       memory                  31.16M (0.01%)\n",
      "Column 1 ['code_zone'] of item 2 is missing in item 1. Use fill=TRUE to fill with NA (NULL for list columns), or use.names=FALSE to ignore column names. use.names='check' (default from v1.12.2) emits this message and proceeds as if use.names=FALSE for  backwards compatibility. See news item 5 in v1.12.2 for options to control this message.\n"
     ]
    },
    {
     "name": "stdout",
     "output_type": "stream",
     "text": [
      "[1] \"end recuperation_traitement_table_code_pays monostream\"\n",
      "[1] \"2020-04-27 16:13:15 UTC\"\n",
      "[1] \" TAILLE TABLE TablePaysZone\"\n",
      "[1] 445   3\n",
      "[1] \"2020-04-27 16:13:15 UTC\"\n",
      "[1] \"LECTURE ET MISE EN FORME DES FICHIERS D'AGGREGATION CODE SERIE\"\n",
      "[1] \"2020-04-27 16:13:15 UTC\"\n",
      "[1] \"lecture_fichier_aggregation_codeSerie monostream\"\n"
     ]
    },
    {
     "name": "stderr",
     "output_type": "stream",
     "text": [
      "NOTE: Executing action 'table.fetch'.\n",
      "NOTE: Action 'table.fetch' used (Total process time):\n",
      "NOTE:       real time               1.847316 seconds\n",
      "NOTE:       cpu time                1.875794 seconds (101.54%)\n",
      "NOTE:       total nodes             5 (68 cores)\n",
      "NOTE:       total memory            510.65G\n",
      "NOTE:       memory                  418.63M (0.08%)\n"
     ]
    },
    {
     "name": "stdout",
     "output_type": "stream",
     "text": [
      "[1] \" TAILLE TABLE planAgregationCodeSerie\"\n",
      "[1] 2697    3\n",
      "[1] \"2020-04-27 16:13:19 UTC\"\n",
      "[1] \"JOINTURE PLAN D'AGGREGATION\"\n",
      "[1] \"parametrage_aggregation_code_serie monostream\"\n",
      "[1] \"2020-04-27 16:13:19 UTC\"\n",
      "[1] \"Recuperation des positions et longueur parents dans les codes\"\n",
      "[1] \"Recuperation des positions et longueur des parametres dans les codes\"\n",
      "[1] \"2020-04-27 16:13:20 UTC\"\n",
      "[1] \"Recuperation des positions et longueur des index dans les codes\"\n",
      "[1] \"2020-04-27 16:13:20 UTC\"\n",
      "[1] \"35 GB\"\n",
      "[1] \"Creation des variables cd2_, cd3_, cd1_, refsec, countsec par decoupage des codes\"\n",
      "[1] \"2020-04-27 16:13:20 UTC\"\n",
      "[1] \"Modification conditionnelle des valeurs de code entree et code sortie\"\n",
      "[1] \"2020-04-27 16:13:20 UTC\"\n",
      "[1] \"Jointure de la table AggregationTable TablePiZone\"\n",
      "[1] 7125   20\n",
      " [1] \"code_sortie\"       \"code_entree\"       \"formule\"          \n",
      " [4] \"enfants\"           \"parents\"           \"cle\"              \n",
      " [7] \"ind_\"              \"PositionEnfant\"    \"LongueurEnfant\"   \n",
      "[10] \"PositionParametre\" \"LongueurParametre\" \"PositionIndex\"    \n",
      "[13] \"LongueurIndex\"     \"cd2_\"              \"cd3_\"             \n",
      "[16] \"cd1_\"              \"refsec\"            \"countsec\"         \n",
      "[19] \"selectionLigne1\"   \"selectionLigne3\"  \n",
      "[1] \"Modification conditionelle (lorsque la cle jointure n'existe pas) de code entree et code sortie\"\n",
      "[1] \"2020-04-27 16:14:02 UTC\"\n",
      "[1] \"TAILLE TABLE PLAN AGREGATION\"\n",
      "[1] 2639427       3\n",
      "[1] \"end parametrage_aggregation_code_serie monostream\"\n",
      "[1] \"2020-04-27 16:14:02 UTC\"\n",
      "[1] \"Taille plan d'agregation\"\n",
      "[1] 2639427       3\n",
      "[1] \"code_entree\" \"code_sortie\" \"formule\"    \n"
     ]
    },
    {
     "name": "stderr",
     "output_type": "stream",
     "text": [
      "Warning message in if (class(data) == \"character\") {:\n",
      "“the condition has length > 1 and only the first element will be used”NOTE: Executing action 'table.columnInfo'.\n",
      "NOTE: Action 'table.columnInfo' used (Total process time):\n",
      "NOTE:       real time               0.006558 seconds\n",
      "NOTE:       cpu time                0.014238 seconds (217.11%)\n",
      "NOTE:       total nodes             5 (68 cores)\n",
      "NOTE:       total memory            510.65G\n",
      "NOTE:       memory                  2.53M (0.00%)\n",
      "NOTE: Executing action 'simple.numRows'.\n",
      "NOTE: Action 'simple.numRows' used (Total process time):\n",
      "NOTE:       real time               0.008992 seconds\n",
      "NOTE:       cpu time                0.017082 seconds (189.97%)\n",
      "NOTE:       total nodes             5 (68 cores)\n",
      "NOTE:       total memory            510.65G\n",
      "NOTE:       memory                  2.07M (0.00%)\n"
     ]
    },
    {
     "name": "stdout",
     "output_type": "stream",
     "text": [
      "[1] 2639427       3\n",
      "[1] \"ESTIMATION NOMBRE DE PERIODE ET DE DEBUT DE TRAITEMENT\"\n",
      "[1] \"detection_nbPeriode_moisDebut monostream\"\n",
      "[1] 201812\n",
      "[1] \"BOUCLE DU LES MOIS\"\n"
     ]
    },
    {
     "name": "stderr",
     "output_type": "stream",
     "text": [
      "NOTE: Executing action 'table.dropTable'.\n",
      "NOTE: Action 'table.dropTable' used (Total process time):\n",
      "NOTE:       real time               0.008588 seconds\n",
      "NOTE:       cpu time                0.014381 seconds (167.45%)\n",
      "NOTE:       total nodes             5 (68 cores)\n",
      "NOTE:       total memory            510.65G\n",
      "NOTE:       memory                  1.46M (0.00%)\n"
     ]
    },
    {
     "name": "stdout",
     "output_type": "stream",
     "text": [
      "[1] \"     Mois debut 201812\"\n",
      "[1] \"     Mois fin 201812\"\n",
      "[1] \"     Mois en cours de traitement: 201812\"\n",
      "[1] \"2020-04-27 16:14:17 UTC\"\n",
      "[1] \"                      lecture\"\n",
      "[1] \"lecture_tables_aggregation monostream\"\n",
      "[1] \"2020-04-27 16:14:17 UTC\"\n",
      "[1] \"38 GB\"\n",
      "[1] \"CHARGEMENT DES TABLES D'AGGREGATION, monostream\"\n",
      "[1] \"2020-04-27 16:14:17 UTC\"\n",
      "[1] \"TABLES AGREGATION LU DE LA TABLE CAS AGGTTECATEGORIE\"\n"
     ]
    },
    {
     "name": "stderr",
     "output_type": "stream",
     "text": [
      "NOTE: Executing action 'fedSql.execDirect'.\n",
      "NOTE: Table AGG_MENS_TEMP was created in caslib CASUSER(sebastien) with 163032564 rows returned.\n",
      "NOTE: Action 'fedSql.execDirect' used (Total process time):\n",
      "NOTE:       real time               11.536314 seconds\n",
      "NOTE:       cpu time                500.326318 seconds (4336.97%)\n",
      "NOTE:       total nodes             5 (68 cores)\n",
      "NOTE:       total memory            510.65G\n",
      "NOTE:       memory                  318.40M (0.06%)\n"
     ]
    },
    {
     "name": "stdout",
     "output_type": "stream",
     "text": [
      "[1] \"end lecture_tables_aggregation monostream\"\n",
      "[1] \"2020-04-27 16:14:29 UTC\"\n"
     ]
    },
    {
     "name": "stderr",
     "output_type": "stream",
     "text": [
      "NOTE: Executing action 'table.columnInfo'.\n",
      "NOTE: Action 'table.columnInfo' used (Total process time):\n",
      "NOTE:       real time               0.007963 seconds\n",
      "NOTE:       cpu time                0.014332 seconds (179.98%)\n",
      "NOTE:       total nodes             5 (68 cores)\n",
      "NOTE:       total memory            510.65G\n",
      "NOTE:       memory                  2.51M (0.00%)\n"
     ]
    },
    {
     "name": "stdout",
     "output_type": "stream",
     "text": [
      "[1] \"Taille table d'agregation\"\n"
     ]
    },
    {
     "name": "stderr",
     "output_type": "stream",
     "text": [
      "NOTE: Executing action 'simple.numRows'.\n",
      "NOTE: Action 'simple.numRows' used (Total process time):\n",
      "NOTE:       real time               0.007786 seconds\n",
      "NOTE:       cpu time                0.016509 seconds (212.03%)\n",
      "NOTE:       total nodes             5 (68 cores)\n",
      "NOTE:       total memory            510.65G\n",
      "NOTE:       memory                  2.19M (0.00%)\n"
     ]
    },
    {
     "name": "stdout",
     "output_type": "stream",
     "text": [
      "[1] 163032564        10\n",
      " [1] \"code\"         \"montant\"      \"obs_status\"   \"conf_status\"  \"periode_deb\" \n",
      " [6] \"revision_deb\" \"periode_fin\"  \"revision_fin\" \"numero\"       \"tablename\"   \n",
      "[1] \"lecture_tables_mixte monostream\"\n",
      "[1] \"2020-04-27 16:14:29 UTC\"\n",
      "[1] \"38 GB\"\n",
      "[1] \"end lecture_tables_mixte monostream\"\n",
      "[1] \"2020-04-27 16:14:29 UTC\"\n",
      "NULL\n",
      "NULL\n",
      "[1] \"2020-04-27 16:14:29 UTC\"\n",
      "[1] \"PARAMETRAGE CODE SERIE\"\n",
      "[1] \"APPLICATION PARAMETRAGE CODE SERIE\"\n",
      "[1] \"application_plan_parametrage_aggregation_code_serie_mensuel monostream\"\n",
      "[1] \"2020-04-27 16:14:29 UTC\"\n",
      "[1] \"2020-04-27 16:14:29 UTC\"\n",
      "[1] \"Renomage de variables et traitement d'espace dans les chaines de caratere\"\n",
      "[1] \"2020-04-27 16:14:29 UTC\"\n",
      "[1] \"Preparation de la jointure des tables PlanAggregationParametre, AggregationMensuelleTouteCategorie\"\n",
      "[1] \"2020-04-27 16:14:29 UTC\"\n",
      "[1] \"Jointure des tables PlanAggregationParametre, AggregationMensuelleTouteCategorie\"\n"
     ]
    },
    {
     "name": "stderr",
     "output_type": "stream",
     "text": [
      "NOTE: Executing action 'fedSql.execDirect'.\n",
      " \n",
      "Methods for full query plan\n",
      "----------------------------\n",
      "Number of Joins Performed is : 1\n",
      "        HashJoin (LEFT) \n",
      "          SeqScan from CASUSER(sebastien).AGG_MENS_TEMP \n",
      "          SeqScan from CASUSER(sebastien).PLANAGGPARAM \n",
      " \n",
      "Methods for stage 1\n",
      "--------------------\n",
      "        HashJoin (LEFT) \n",
      "          SeqScan from CASUSER(sebastien).AGG_MENS_TEMP \n",
      "          SeqScan from CASUSER(sebastien).PLANAGGPARAM \n",
      " \n",
      "NOTE: Table TMP_AGG was created in caslib CASUSER(sebastien) with 163120284 rows returned.\n",
      "NOTE: Action 'fedSql.execDirect' used (Total process time):\n",
      "NOTE:       real time               24.829841 seconds\n",
      "NOTE:       cpu time                961.544195 seconds (3872.53%)\n",
      "NOTE:       data movement time      0.722777 seconds\n",
      "NOTE:       total nodes             5 (68 cores)\n",
      "NOTE:       total memory            510.65G\n",
      "NOTE:       memory                  4.02G (0.79%)\n",
      "NOTE:       bytes moved             596.02M\n"
     ]
    },
    {
     "name": "stdout",
     "output_type": "stream",
     "text": [
      "[1] \"Taille de la jointure\"\n",
      "[1] \"2020-04-27 16:14:54 UTC\"\n",
      "[1] \"Calcul des montants ponderes cumules par code_sortie\"\n"
     ]
    },
    {
     "name": "stderr",
     "output_type": "stream",
     "text": [
      "NOTE: Executing action 'aggregation.aggregate'.\n",
      "NOTE: Action 'aggregation.aggregate' used (Total process time):\n",
      "NOTE:       real time               180.507075 seconds\n",
      "NOTE:       cpu time                2037.891190 seconds (1128.98%)\n",
      "NOTE:       total nodes             5 (68 cores)\n",
      "NOTE:       total memory            510.65G\n",
      "NOTE:       memory                  115.54G (22.63%)\n",
      "NOTE: Executing action 'table.columnInfo'.\n",
      "NOTE: Action 'table.columnInfo' used (Total process time):\n",
      "NOTE:       real time               0.011089 seconds\n",
      "NOTE:       cpu time                0.018397 seconds (165.90%)\n",
      "NOTE:       total nodes             5 (68 cores)\n",
      "NOTE:       total memory            510.65G\n",
      "NOTE:       memory                  2.48M (0.00%)\n"
     ]
    },
    {
     "name": "stdout",
     "output_type": "stream",
     "text": [
      "[1] \" TAILLE TABLE CalculAggregationCodeSerieMensuel\"\n"
     ]
    },
    {
     "name": "stderr",
     "output_type": "stream",
     "text": [
      "NOTE: Executing action 'simple.numRows'.\n",
      "NOTE: Action 'simple.numRows' used (Total process time):\n",
      "NOTE:       real time               0.009440 seconds\n",
      "NOTE:       cpu time                0.018668 seconds (197.75%)\n",
      "NOTE:       total nodes             5 (68 cores)\n",
      "NOTE:       total memory            510.65G\n",
      "NOTE:       memory                  2.30M (0.00%)\n"
     ]
    },
    {
     "name": "stdout",
     "output_type": "stream",
     "text": [
      "[1] 3536105      15\n",
      "[1] \"2020-04-27 16:17:55 UTC\"\n",
      " [1] \"code\"           \"code_f\"         \"conf_status\"    \"conf_status_f\" \n",
      " [5] \"obs_status\"     \"obs_status_f\"   \"periode_deb\"    \"periode_deb_f\" \n",
      " [9] \"periode_fin\"    \"periode_fin_f\"  \"revision_deb\"   \"revision_deb_f\"\n",
      "[13] \"revision_fin\"   \"revision_fin_f\" \"MONTANT\"       \n"
     ]
    },
    {
     "name": "stderr",
     "output_type": "stream",
     "text": [
      "NOTE: Executing action 'dataStep.runCode'.\n",
      "NOTE: Action 'dataStep.runCode' used (Total process time):\n",
      "NOTE:       real time               0.316696 seconds\n",
      "NOTE:       cpu time                8.962861 seconds (2830.11%)\n",
      "NOTE:       total nodes             5 (68 cores)\n",
      "NOTE:       total memory            510.65G\n",
      "NOTE:       memory                  240.37M (0.05%)\n"
     ]
    }
   ],
   "source": [
    "traitement_principal(freq, RevFin, PeriodeFin, planAggregation,ReferencePiZones, Repertoire, ConnectionSecureDB)"
   ]
  },
  {
   "cell_type": "code",
   "execution_count": 73,
   "metadata": {},
   "outputs": [
    {
     "name": "stderr",
     "output_type": "stream",
     "text": [
      "NOTE: Executing action 'table.dropTable'.\n",
      "NOTE: Action 'table.dropTable' used (Total process time):\n",
      "NOTE:       real time               0.010710 seconds\n",
      "NOTE:       cpu time                0.014919 seconds (139.30%)\n",
      "NOTE:       total nodes             5 (68 cores)\n",
      "NOTE:       total memory            510.65G\n",
      "NOTE:       memory                  1.41M (0.00%)\n"
     ]
    },
    {
     "data": {
      "text/html": [
       "<ol>\n",
       "</ol>\n"
      ],
      "text/latex": [
       "\\begin{enumerate}\n",
       "\\end{enumerate}\n"
      ],
      "text/markdown": [
       "\n",
       "\n"
      ],
      "text/plain": [
       "list()"
      ]
     },
     "metadata": {},
     "output_type": "display_data"
    },
    {
     "name": "stderr",
     "output_type": "stream",
     "text": [
      "NOTE: Executing action 'table.promote'.\n",
      "NOTE: Cloud Analytic Services promoted table AGG_FINALE in caslib CASUSER(sebastien) to table AGG_FINALE in caslib DNFS_BDF.\n",
      "NOTE: Action 'table.promote' used (Total process time):\n",
      "NOTE:       real time               0.081164 seconds\n",
      "NOTE:       cpu time                0.252979 seconds (311.69%)\n",
      "NOTE:       total nodes             5 (68 cores)\n",
      "NOTE:       total memory            510.65G\n",
      "NOTE:       memory                  1.49M (0.00%)\n"
     ]
    },
    {
     "data": {
      "text/html": [
       "<ol>\n",
       "</ol>\n"
      ],
      "text/latex": [
       "\\begin{enumerate}\n",
       "\\end{enumerate}\n"
      ],
      "text/markdown": [
       "\n",
       "\n"
      ],
      "text/plain": [
       "list()"
      ]
     },
     "metadata": {},
     "output_type": "display_data"
    },
    {
     "name": "stderr",
     "output_type": "stream",
     "text": [
      "NOTE: Executing action 'table.save'.\n",
      "NOTE: Cloud Analytic Services saved the file AGG_FINALE.parquet in caslib DNFS_BDF.\n",
      "NOTE: Action 'table.save' used (Total process time):\n",
      "NOTE:       real time               4.551298 seconds\n",
      "NOTE:       cpu time                19.277652 seconds (423.56%)\n",
      "NOTE:       total nodes             5 (68 cores)\n",
      "NOTE:       total memory            510.65G\n",
      "NOTE:       memory                  1.41G (0.28%)\n"
     ]
    },
    {
     "data": {
      "text/html": [
       "<dl>\n",
       "\t<dt>$caslib</dt>\n",
       "\t\t<dd>'DNFS_BDF'</dd>\n",
       "\t<dt>$name</dt>\n",
       "\t\t<dd>'AGG_FINALE.parquet'</dd>\n",
       "</dl>\n"
      ],
      "text/latex": [
       "\\begin{description}\n",
       "\\item[\\$caslib] 'DNFS\\_BDF'\n",
       "\\item[\\$name] 'AGG\\_FINALE.parquet'\n",
       "\\end{description}\n"
      ],
      "text/markdown": [
       "$caslib\n",
       ":   'DNFS_BDF'\n",
       "$name\n",
       ":   'AGG_FINALE.parquet'\n",
       "\n",
       "\n"
      ],
      "text/plain": [
       "$caslib\n",
       "[1] \"DNFS_BDF\"\n",
       "\n",
       "$name\n",
       "[1] \"AGG_FINALE.parquet\"\n"
      ]
     },
     "metadata": {},
     "output_type": "display_data"
    }
   ],
   "source": [
    "# Promotion en memoire pour les utilisateurs et sauvegarde sur disque de la table resultante\n",
    "cas.table.dropTable(ConnectionSecureDB,name='AGG_FINALE',caslib='DNFS_BDF',quiet=TRUE)\n",
    "cas.table.promote(ConnectionSecureDB,caslib='casuser',name='AGG_FINALE',target='AGG_FINALE',targetLib='DNFS_BDF')\n",
    "cas.table.save(ConnectionSecureDB,table=list(name='AGG_FINALE',caslib=\"DNFS_BDF\") , caslib=\"DNFS_BDF\", name=\"AGG_FINALE.parquet\", replace=TRUE)"
   ]
  },
  {
   "cell_type": "code",
   "execution_count": 74,
   "metadata": {},
   "outputs": [
    {
     "name": "stderr",
     "output_type": "stream",
     "text": [
      "NOTE: Executing action 'table.dropTable'.\n",
      "NOTE: Action 'table.dropTable' used (Total process time):\n",
      "NOTE:       real time               0.013792 seconds\n",
      "NOTE:       cpu time                0.016549 seconds (119.99%)\n",
      "NOTE:       total nodes             5 (68 cores)\n",
      "NOTE:       total memory            510.65G\n",
      "NOTE:       memory                  1.39M (0.00%)\n"
     ]
    },
    {
     "data": {
      "text/html": [
       "<ol>\n",
       "</ol>\n"
      ],
      "text/latex": [
       "\\begin{enumerate}\n",
       "\\end{enumerate}\n"
      ],
      "text/markdown": [
       "\n",
       "\n"
      ],
      "text/plain": [
       "list()"
      ]
     },
     "metadata": {},
     "output_type": "display_data"
    },
    {
     "name": "stderr",
     "output_type": "stream",
     "text": [
      "NOTE: Executing action 'table.promote'.\n",
      "NOTE: Cloud Analytic Services promoted table TMP_AGG in caslib CASUSER(sebastien) to table TMP_AGG in caslib DNFS_BDF.\n",
      "NOTE: Action 'table.promote' used (Total process time):\n",
      "NOTE:       real time               0.434543 seconds\n",
      "NOTE:       cpu time                1.572810 seconds (361.95%)\n",
      "NOTE:       total nodes             5 (68 cores)\n",
      "NOTE:       total memory            510.65G\n",
      "NOTE:       memory                  3.45M (0.00%)\n"
     ]
    },
    {
     "data": {
      "text/html": [
       "<ol>\n",
       "</ol>\n"
      ],
      "text/latex": [
       "\\begin{enumerate}\n",
       "\\end{enumerate}\n"
      ],
      "text/markdown": [
       "\n",
       "\n"
      ],
      "text/plain": [
       "list()"
      ]
     },
     "metadata": {},
     "output_type": "display_data"
    },
    {
     "name": "stderr",
     "output_type": "stream",
     "text": [
      "NOTE: Executing action 'table.save'.\n",
      "NOTE: Cloud Analytic Services saved the file TMP_AGG.parquet in caslib DNFS_BDF.\n",
      "NOTE: Action 'table.save' used (Total process time):\n",
      "NOTE:       real time               218.949993 seconds\n",
      "NOTE:       cpu time                297.915802 seconds (136.07%)\n",
      "NOTE:       total nodes             5 (68 cores)\n",
      "NOTE:       total memory            510.65G\n",
      "NOTE:       memory                  3.35G (0.66%)\n"
     ]
    },
    {
     "data": {
      "text/html": [
       "<dl>\n",
       "\t<dt>$caslib</dt>\n",
       "\t\t<dd>'DNFS_BDF'</dd>\n",
       "\t<dt>$name</dt>\n",
       "\t\t<dd>'TMP_AGG.parquet'</dd>\n",
       "</dl>\n"
      ],
      "text/latex": [
       "\\begin{description}\n",
       "\\item[\\$caslib] 'DNFS\\_BDF'\n",
       "\\item[\\$name] 'TMP\\_AGG.parquet'\n",
       "\\end{description}\n"
      ],
      "text/markdown": [
       "$caslib\n",
       ":   'DNFS_BDF'\n",
       "$name\n",
       ":   'TMP_AGG.parquet'\n",
       "\n",
       "\n"
      ],
      "text/plain": [
       "$caslib\n",
       "[1] \"DNFS_BDF\"\n",
       "\n",
       "$name\n",
       "[1] \"TMP_AGG.parquet\"\n"
      ]
     },
     "metadata": {},
     "output_type": "display_data"
    },
    {
     "name": "stdout",
     "output_type": "stream",
     "text": [
      "Time difference of 33.89768 mins\n"
     ]
    }
   ],
   "source": [
    "cas.table.dropTable(ConnectionSecureDB,name='TMP_AGG',caslib='DNFS_BDF',quiet=TRUE)\n",
    "cas.table.promote(ConnectionSecureDB,caslib='casuser',name='TMP_AGG',target='TMP_AGG',targetLib='DNFS_BDF')\n",
    "cas.table.save(ConnectionSecureDB,table=list(name='TMP_AGG',caslib=\"DNFS_BDF\"),  caslib=\"DNFS_BDF\", name=\"TMP_AGG.parquet\", replace=TRUE)\n",
    "\n",
    "Duree <- Sys.time() - HeureDebut\n",
    "\n",
    "print(Duree)"
   ]
  },
  {
   "cell_type": "code",
   "execution_count": 75,
   "metadata": {},
   "outputs": [
    {
     "data": {
      "text/html": [
       "0"
      ],
      "text/latex": [
       "0"
      ],
      "text/markdown": [
       "0"
      ],
      "text/plain": [
       "[1] 0"
      ]
     },
     "metadata": {},
     "output_type": "display_data"
    }
   ],
   "source": [
    "# Ferme la session SAS Viya en cours\n",
    "cas.terminate(conn)"
   ]
  },
  {
   "cell_type": "markdown",
   "metadata": {
    "jupyter": {
     "outputs_hidden": true
    }
   },
   "source": [
    "# Fin du notebook"
   ]
  }
 ],
 "metadata": {
  "kernelspec": {
   "display_name": "R",
   "language": "R",
   "name": "ir"
  },
  "language_info": {
   "codemirror_mode": "r",
   "file_extension": ".r",
   "mimetype": "text/x-r-source",
   "name": "R",
   "pygments_lexer": "r",
   "version": "3.6.1"
  }
 },
 "nbformat": 4,
 "nbformat_minor": 4
}
