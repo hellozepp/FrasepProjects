{
 "cells": [
  {
   "cell_type": "code",
   "execution_count": 50,
   "metadata": {},
   "outputs": [
    {
     "data": {
      "text/plain": [
       "               _                           \n",
       "platform       x86_64-conda_cos6-linux-gnu \n",
       "arch           x86_64                      \n",
       "os             linux-gnu                   \n",
       "system         x86_64, linux-gnu           \n",
       "status                                     \n",
       "major          3                           \n",
       "minor          6.1                         \n",
       "year           2019                        \n",
       "month          07                          \n",
       "day            05                          \n",
       "svn rev        76782                       \n",
       "language       R                           \n",
       "version.string R version 3.6.1 (2019-07-05)\n",
       "nickname       Action of the Toes          "
      ]
     },
     "metadata": {},
     "output_type": "display_data"
    }
   ],
   "source": [
    "R.version"
   ]
  },
  {
   "cell_type": "code",
   "execution_count": 51,
   "metadata": {},
   "outputs": [],
   "source": [
    "library(\"dplyr\")\n",
    "library(\"glue\")\n",
    "library(\"stringr\")\n",
    "library(\"rlist\")\n",
    "library(\"data.table\")\n",
    "library(\"readr\")\n",
    "library(\"stringi\")\n",
    "library(\"swat\")"
   ]
  },
  {
   "cell_type": "code",
   "execution_count": 52,
   "metadata": {},
   "outputs": [],
   "source": [
    "source(\"UtilsRCAS.R\")"
   ]
  },
  {
   "cell_type": "markdown",
   "metadata": {},
   "source": [
    "# Connection a l'environnement SAS Viya"
   ]
  },
  {
   "cell_type": "code",
   "execution_count": 53,
   "metadata": {},
   "outputs": [
    {
     "name": "stderr",
     "output_type": "stream",
     "text": [
      "NOTE: Connecting to CAS and generating CAS action functions for loaded\n",
      "      action sets...\n",
      "NOTE: To generate the functions with signatures (for tab completion), set \n",
      "      options(cas.gen.function.sig=TRUE).\n",
      "NOTE: 'CASUSER(sebastien)' is now the active caslib.\n",
      "NOTE: Action 'sessionProp.setSessOpt' used (Total process time):\n",
      "NOTE:       real time               0.016321 seconds\n",
      "NOTE:       cpu time                0.025514 seconds (156.33%)\n",
      "NOTE:       total nodes             5 (68 cores)\n",
      "NOTE:       total memory            510.65G\n",
      "NOTE:       memory                  1.44M (0.00%)\n"
     ]
    }
   ],
   "source": [
    "#cashost <- '192.168.1.50'\n",
    "#casuser <- 'sasdemo'\n",
    "\n",
    "cashost <- 'controller'\n",
    "casuser <- 'sebastien'\n",
    "\n",
    "conn <- swat::CAS(cashost, 5570, username=casuser)\n",
    "\n",
    "# Activate metric tracing and other session parameters\n",
    "out <- cas.sessionProp.setSessOpt(conn, metrics=TRUE, timeout=1800, caslib='casuser')"
   ]
  },
  {
   "cell_type": "code",
   "execution_count": 54,
   "metadata": {},
   "outputs": [
    {
     "name": "stderr",
     "output_type": "stream",
     "text": [
      "NOTE: Executing action 'builtins.loadActionSet'.\n",
      "NOTE: Added action set 'fedsql'.\n",
      "NOTE: Action 'builtins.loadActionSet' used (Total process time):\n",
      "NOTE:       real time               0.141540 seconds\n",
      "NOTE:       cpu time                0.031257 seconds (22.08%)\n",
      "NOTE:       total nodes             5 (68 cores)\n",
      "NOTE:       total memory            510.65G\n",
      "NOTE:       memory                  1.29M (0.00%)\n",
      "NOTE: Executing action 'builtins.actionSetInfo'.\n",
      "NOTE: Action 'builtins.actionSetInfo' used (Total process time):\n",
      "NOTE:       real time               0.054094 seconds\n",
      "NOTE:       cpu time                0.016157 seconds (29.87%)\n",
      "NOTE:       total nodes             5 (68 cores)\n",
      "NOTE:       total memory            510.65G\n",
      "NOTE:       memory                  1.62M (0.00%)\n",
      "NOTE: Executing action 'builtins.listActions'.\n",
      "NOTE: Information for action set 'fedSql':\n",
      "NOTE:    fedSql\n",
      "NOTE:       execDirect - Submits a SAS FedSQL language statement for immediate execution\n",
      "NOTE: Action 'builtins.listActions' used (Total process time):\n",
      "NOTE:       real time               0.007961 seconds\n",
      "NOTE:       cpu time                0.014027 seconds (176.20%)\n",
      "NOTE:       total nodes             5 (68 cores)\n",
      "NOTE:       total memory            510.65G\n",
      "NOTE:       memory                  1.20M (0.00%)\n",
      "NOTE: Executing action 'builtins.loadActionSet'.\n",
      "NOTE: Added action set 'aggregation'.\n",
      "NOTE: Action 'builtins.loadActionSet' used (Total process time):\n",
      "NOTE:       real time               0.010160 seconds\n",
      "NOTE:       cpu time                0.023848 seconds (234.72%)\n",
      "NOTE:       total nodes             5 (68 cores)\n",
      "NOTE:       total memory            510.65G\n",
      "NOTE:       memory                  1.15M (0.00%)\n",
      "NOTE: Executing action 'builtins.actionSetInfo'.\n",
      "NOTE: Action 'builtins.actionSetInfo' used (Total process time):\n",
      "NOTE:       real time               0.007525 seconds\n",
      "NOTE:       cpu time                0.017534 seconds (233.01%)\n",
      "NOTE:       total nodes             5 (68 cores)\n",
      "NOTE:       total memory            510.65G\n",
      "NOTE:       memory                  1.60M (0.00%)\n",
      "NOTE: Executing action 'builtins.listActions'.\n",
      "NOTE: Information for action set 'aggregation':\n",
      "NOTE:    aggregation\n",
      "NOTE:       aggregate - Performs aggregation on selected variables\n",
      "NOTE: Action 'builtins.listActions' used (Total process time):\n",
      "NOTE:       real time               0.006319 seconds\n",
      "NOTE:       cpu time                0.012669 seconds (200.49%)\n",
      "NOTE:       total nodes             5 (68 cores)\n",
      "NOTE:       total memory            510.65G\n",
      "NOTE:       memory                  1.20M (0.00%)\n"
     ]
    }
   ],
   "source": [
    "actionsets <- c('fedsql','aggregation')\n",
    "for(i in actionsets){\n",
    "    loadActionSet(conn, i)\n",
    "}"
   ]
  },
  {
   "cell_type": "code",
   "execution_count": 55,
   "metadata": {},
   "outputs": [
    {
     "name": "stderr",
     "output_type": "stream",
     "text": [
      "NOTE: Executing action 'builtins.serverStatus'.\n",
      "NOTE: Grid node action status report: 5 nodes, 34 total actions executed.\n",
      "NOTE: Action 'builtins.serverStatus' used (Total process time):\n",
      "NOTE:       real time               0.008073 seconds\n",
      "NOTE:       cpu time                0.015344 seconds (190.07%)\n",
      "NOTE:       total nodes             5 (68 cores)\n",
      "NOTE:       total memory            510.65G\n",
      "NOTE:       memory                  1.42M (0.00%)\n"
     ]
    },
    {
     "data": {
      "text/html": [
       "<dl>\n",
       "\t<dt>$About</dt>\n",
       "\t\t<dd><dl>\n",
       "\t<dt>$CAS</dt>\n",
       "\t\t<dd>'Cloud Analytic Services'</dd>\n",
       "\t<dt>$Version</dt>\n",
       "\t\t<dd>'3.05'</dd>\n",
       "\t<dt>$VersionLong</dt>\n",
       "\t\t<dd>'V.03.05M0P11112019'</dd>\n",
       "\t<dt>$Copyright</dt>\n",
       "\t\t<dd>'Copyright © 2014-2018 SAS Institute Inc. All Rights Reserved.'</dd>\n",
       "\t<dt>$ServerTime</dt>\n",
       "\t\t<dd>'2020-04-28T16:48:19Z'</dd>\n",
       "\t<dt>$System</dt>\n",
       "\t\t<dd><dl>\n",
       "\t<dt>$Hostname</dt>\n",
       "\t\t<dd>'controller.c.sas-ag2r-la-mondiale.internal'</dd>\n",
       "\t<dt>$`OS Name`</dt>\n",
       "\t\t<dd>'Linux'</dd>\n",
       "\t<dt>$`OS Family`</dt>\n",
       "\t\t<dd>'LIN X64'</dd>\n",
       "\t<dt>$`OS Release`</dt>\n",
       "\t\t<dd>'3.10.0-1062.18.1.el7.x86_64'</dd>\n",
       "\t<dt>$`OS Version`</dt>\n",
       "\t\t<dd>'#1 SMP Tue Mar 17 23:49:17 UTC 2020'</dd>\n",
       "\t<dt>$`Model Number`</dt>\n",
       "\t\t<dd>'x86_64'</dd>\n",
       "\t<dt>$`Linux Distribution`</dt>\n",
       "\t\t<dd>'CentOS Linux release 7.8.2003 (Core)'</dd>\n",
       "</dl>\n",
       "</dd>\n",
       "\t<dt>$license</dt>\n",
       "\t\t<dd><dl>\n",
       "\t<dt>$site</dt>\n",
       "\t\t<dd>'BDF'</dd>\n",
       "\t<dt>$siteNum</dt>\n",
       "\t\t<dd>70180938</dd>\n",
       "\t<dt>$expires</dt>\n",
       "\t\t<dd>'27Mar2021:00:00:00'</dd>\n",
       "\t<dt>$gracePeriod</dt>\n",
       "\t\t<dd>45</dd>\n",
       "\t<dt>$warningPeriod</dt>\n",
       "\t\t<dd>47</dd>\n",
       "\t<dt>$maxCPUs</dt>\n",
       "\t\t<dd>9999</dd>\n",
       "</dl>\n",
       "</dd>\n",
       "</dl>\n",
       "</dd>\n",
       "\t<dt>$server</dt>\n",
       "\t\t<dd><table>\n",
       "<thead><tr><th scope=col>nodes</th><th scope=col>actions</th></tr></thead>\n",
       "<tbody>\n",
       "\t<tr><td>5 </td><td>34</td></tr>\n",
       "</tbody>\n",
       "</table>\n",
       "</dd>\n",
       "\t<dt>$nodestatus</dt>\n",
       "\t\t<dd><table>\n",
       "<thead><tr><th scope=col>name</th><th scope=col>role</th><th scope=col>uptime</th><th scope=col>running</th><th scope=col>stalled</th></tr></thead>\n",
       "<tbody>\n",
       "\t<tr><td>worker1.c.sas-ag2r-la-mondiale.internal   </td><td>worker                                    </td><td>1.794                                     </td><td>0                                         </td><td>0                                         </td></tr>\n",
       "\t<tr><td>worker2.c.sas-ag2r-la-mondiale.internal   </td><td>worker                                    </td><td>1.794                                     </td><td>0                                         </td><td>0                                         </td></tr>\n",
       "\t<tr><td>worker3.c.sas-ag2r-la-mondiale.internal   </td><td>worker                                    </td><td>1.794                                     </td><td>0                                         </td><td>0                                         </td></tr>\n",
       "\t<tr><td>worker4.c.sas-ag2r-la-mondiale.internal   </td><td>worker                                    </td><td>1.794                                     </td><td>0                                         </td><td>0                                         </td></tr>\n",
       "\t<tr><td>controller.c.sas-ag2r-la-mondiale.internal</td><td>controller                                </td><td>1.871                                     </td><td>0                                         </td><td>0                                         </td></tr>\n",
       "</tbody>\n",
       "</table>\n",
       "</dd>\n",
       "</dl>\n"
      ],
      "text/latex": [
       "\\begin{description}\n",
       "\\item[\\$About] \\begin{description}\n",
       "\\item[\\$CAS] 'Cloud Analytic Services'\n",
       "\\item[\\$Version] '3.05'\n",
       "\\item[\\$VersionLong] 'V.03.05M0P11112019'\n",
       "\\item[\\$Copyright] 'Copyright © 2014-2018 SAS Institute Inc. All Rights Reserved.'\n",
       "\\item[\\$ServerTime] '2020-04-28T16:48:19Z'\n",
       "\\item[\\$System] \\begin{description}\n",
       "\\item[\\$Hostname] 'controller.c.sas-ag2r-la-mondiale.internal'\n",
       "\\item[\\$`OS Name`] 'Linux'\n",
       "\\item[\\$`OS Family`] 'LIN X64'\n",
       "\\item[\\$`OS Release`] '3.10.0-1062.18.1.el7.x86\\_64'\n",
       "\\item[\\$`OS Version`] '\\#1 SMP Tue Mar 17 23:49:17 UTC 2020'\n",
       "\\item[\\$`Model Number`] 'x86\\_64'\n",
       "\\item[\\$`Linux Distribution`] 'CentOS Linux release 7.8.2003 (Core)'\n",
       "\\end{description}\n",
       "\n",
       "\\item[\\$license] \\begin{description}\n",
       "\\item[\\$site] 'BDF'\n",
       "\\item[\\$siteNum] 70180938\n",
       "\\item[\\$expires] '27Mar2021:00:00:00'\n",
       "\\item[\\$gracePeriod] 45\n",
       "\\item[\\$warningPeriod] 47\n",
       "\\item[\\$maxCPUs] 9999\n",
       "\\end{description}\n",
       "\n",
       "\\end{description}\n",
       "\n",
       "\\item[\\$server] \\begin{tabular}{r|ll}\n",
       " nodes & actions\\\\\n",
       "\\hline\n",
       "\t 5  & 34\\\\\n",
       "\\end{tabular}\n",
       "\n",
       "\\item[\\$nodestatus] \\begin{tabular}{r|lllll}\n",
       " name & role & uptime & running & stalled\\\\\n",
       "\\hline\n",
       "\t worker1.c.sas-ag2r-la-mondiale.internal    & worker                                     & 1.794                                      & 0                                          & 0                                         \\\\\n",
       "\t worker2.c.sas-ag2r-la-mondiale.internal    & worker                                     & 1.794                                      & 0                                          & 0                                         \\\\\n",
       "\t worker3.c.sas-ag2r-la-mondiale.internal    & worker                                     & 1.794                                      & 0                                          & 0                                         \\\\\n",
       "\t worker4.c.sas-ag2r-la-mondiale.internal    & worker                                     & 1.794                                      & 0                                          & 0                                         \\\\\n",
       "\t controller.c.sas-ag2r-la-mondiale.internal & controller                                 & 1.871                                      & 0                                          & 0                                         \\\\\n",
       "\\end{tabular}\n",
       "\n",
       "\\end{description}\n"
      ],
      "text/markdown": [
       "$About\n",
       ":   $CAS\n",
       ":   'Cloud Analytic Services'\n",
       "$Version\n",
       ":   '3.05'\n",
       "$VersionLong\n",
       ":   'V.03.05M0P11112019'\n",
       "$Copyright\n",
       ":   'Copyright © 2014-2018 SAS Institute Inc. All Rights Reserved.'\n",
       "$ServerTime\n",
       ":   '2020-04-28T16:48:19Z'\n",
       "$System\n",
       ":   $Hostname\n",
       ":   'controller.c.sas-ag2r-la-mondiale.internal'\n",
       "$`OS Name`\n",
       ":   'Linux'\n",
       "$`OS Family`\n",
       ":   'LIN X64'\n",
       "$`OS Release`\n",
       ":   '3.10.0-1062.18.1.el7.x86_64'\n",
       "$`OS Version`\n",
       ":   '#1 SMP Tue Mar 17 23:49:17 UTC 2020'\n",
       "$`Model Number`\n",
       ":   'x86_64'\n",
       "$`Linux Distribution`\n",
       ":   'CentOS Linux release 7.8.2003 (Core)'\n",
       "\n",
       "\n",
       "\n",
       "$license\n",
       ":   $site\n",
       ":   'BDF'\n",
       "$siteNum\n",
       ":   70180938\n",
       "$expires\n",
       ":   '27Mar2021:00:00:00'\n",
       "$gracePeriod\n",
       ":   45\n",
       "$warningPeriod\n",
       ":   47\n",
       "$maxCPUs\n",
       ":   9999\n",
       "\n",
       "\n",
       "\n",
       "\n",
       "\n",
       "\n",
       "$server\n",
       ":   \n",
       "| nodes | actions |\n",
       "|---|---|\n",
       "| 5  | 34 |\n",
       "\n",
       "\n",
       "$nodestatus\n",
       ":   \n",
       "| name | role | uptime | running | stalled |\n",
       "|---|---|---|---|---|\n",
       "| worker1.c.sas-ag2r-la-mondiale.internal    | worker                                     | 1.794                                      | 0                                          | 0                                          |\n",
       "| worker2.c.sas-ag2r-la-mondiale.internal    | worker                                     | 1.794                                      | 0                                          | 0                                          |\n",
       "| worker3.c.sas-ag2r-la-mondiale.internal    | worker                                     | 1.794                                      | 0                                          | 0                                          |\n",
       "| worker4.c.sas-ag2r-la-mondiale.internal    | worker                                     | 1.794                                      | 0                                          | 0                                          |\n",
       "| controller.c.sas-ag2r-la-mondiale.internal | controller                                 | 1.871                                      | 0                                          | 0                                          |\n",
       "\n",
       "\n",
       "\n",
       "\n"
      ],
      "text/plain": [
       "$About\n",
       "$About$CAS\n",
       "[1] \"Cloud Analytic Services\"\n",
       "\n",
       "$About$Version\n",
       "[1] \"3.05\"\n",
       "\n",
       "$About$VersionLong\n",
       "[1] \"V.03.05M0P11112019\"\n",
       "\n",
       "$About$Copyright\n",
       "[1] \"Copyright © 2014-2018 SAS Institute Inc. All Rights Reserved.\"\n",
       "\n",
       "$About$ServerTime\n",
       "[1] \"2020-04-28T16:48:19Z\"\n",
       "\n",
       "$About$System\n",
       "$About$System$Hostname\n",
       "[1] \"controller.c.sas-ag2r-la-mondiale.internal\"\n",
       "\n",
       "$About$System$`OS Name`\n",
       "[1] \"Linux\"\n",
       "\n",
       "$About$System$`OS Family`\n",
       "[1] \"LIN X64\"\n",
       "\n",
       "$About$System$`OS Release`\n",
       "[1] \"3.10.0-1062.18.1.el7.x86_64\"\n",
       "\n",
       "$About$System$`OS Version`\n",
       "[1] \"#1 SMP Tue Mar 17 23:49:17 UTC 2020\"\n",
       "\n",
       "$About$System$`Model Number`\n",
       "[1] \"x86_64\"\n",
       "\n",
       "$About$System$`Linux Distribution`\n",
       "[1] \"CentOS Linux release 7.8.2003 (Core)\"\n",
       "\n",
       "\n",
       "$About$license\n",
       "$About$license$site\n",
       "[1] \"BDF\"\n",
       "\n",
       "$About$license$siteNum\n",
       "[1] 70180938\n",
       "\n",
       "$About$license$expires\n",
       "[1] \"27Mar2021:00:00:00\"\n",
       "\n",
       "$About$license$gracePeriod\n",
       "[1] 45\n",
       "\n",
       "$About$license$warningPeriod\n",
       "[1] 47\n",
       "\n",
       "$About$license$maxCPUs\n",
       "[1] 9999\n",
       "\n",
       "\n",
       "\n",
       "$server\n",
       "  nodes actions\n",
       "1     5      34\n",
       "\n",
       "$nodestatus\n",
       "                                        name       role uptime running stalled\n",
       "1    worker1.c.sas-ag2r-la-mondiale.internal     worker  1.794       0       0\n",
       "2    worker2.c.sas-ag2r-la-mondiale.internal     worker  1.794       0       0\n",
       "3    worker3.c.sas-ag2r-la-mondiale.internal     worker  1.794       0       0\n",
       "4    worker4.c.sas-ag2r-la-mondiale.internal     worker  1.794       0       0\n",
       "5 controller.c.sas-ag2r-la-mondiale.internal controller  1.871       0       0\n"
      ]
     },
     "metadata": {},
     "output_type": "display_data"
    }
   ],
   "source": [
    "cas.builtins.serverStatus(conn)"
   ]
  },
  {
   "cell_type": "markdown",
   "metadata": {},
   "source": [
    "## Defini une librairie CAS pointant sur le repertoire contenant tous les fichiers CSV en entree. On definie la source en DNFS, cela signifie que la lecture et l'ecriture des fichiers se fera en multitheading et multi noeud automatiquement. Les formats de fichiers supportes actuellement sur ce mode sont : CSV, PARQUET et SASHDAT."
   ]
  },
  {
   "cell_type": "code",
   "execution_count": 56,
   "metadata": {},
   "outputs": [
    {
     "name": "stderr",
     "output_type": "stream",
     "text": [
      "NOTE: Executing action 'sessionProp.setSessOpt'.\n",
      "NOTE: 'CASUSER(sebastien)' is now the active caslib.\n",
      "NOTE: Action 'sessionProp.setSessOpt' used (Total process time):\n",
      "NOTE:       real time               0.008207 seconds\n",
      "NOTE:       cpu time                0.017112 seconds (208.50%)\n",
      "NOTE:       total nodes             5 (68 cores)\n",
      "NOTE:       total memory            510.65G\n",
      "NOTE:       memory                  1.28M (0.00%)\n"
     ]
    }
   ],
   "source": [
    "HeureDebut <- Sys.time()\n",
    "\n",
    "#cas.table.addCaslib(conn,name=\"mycaslib\", path=\"/data/data/BDF_SMALL_DB\", dataSource={srcType=\"dnfs\"})\n",
    "#cas.table.addCaslib(conn,name=\"mycaslib\", path=\"/SAS/BDF\", dataSource={srcType=\"dnfs\"})\n",
    "out <- cas.sessionProp.setSessOpt(conn,caslib='casuser')"
   ]
  },
  {
   "cell_type": "markdown",
   "metadata": {},
   "source": [
    "# Chargement en memoire de tous les fichiers CSV en entree (referentiel et agregats) pour l'utilisation ulterieure."
   ]
  },
  {
   "cell_type": "code",
   "execution_count": 57,
   "metadata": {},
   "outputs": [
    {
     "name": "stderr",
     "output_type": "stream",
     "text": [
      "NOTE: Executing action 'table.fileInfo'.\n",
      "NOTE: Action 'table.fileInfo' used (Total process time):\n",
      "NOTE:       real time               1.331958 seconds\n",
      "NOTE:       cpu time                0.051753 seconds (3.89%)\n",
      "NOTE:       total nodes             5 (68 cores)\n",
      "NOTE:       total memory            510.65G\n",
      "NOTE:       memory                  1.99M (0.00%)\n",
      "NOTE: Executing action 'table.dropTable'.\n",
      "NOTE: Action 'table.dropTable' used (Total process time):\n",
      "NOTE:       real time               0.012174 seconds\n",
      "NOTE:       cpu time                0.018133 seconds (148.95%)\n",
      "NOTE:       total nodes             5 (68 cores)\n",
      "NOTE:       total memory            510.65G\n",
      "NOTE:       memory                  1.38M (0.00%)\n",
      "NOTE: Executing action 'table.loadTable'.\n",
      "NOTE: Performing serial LoadTable action using SAS Data Connector to Oracle.\n",
      "WARNING: The value of numReadNodes(4) exceeds the number of available worker nodes(1). The load will proceed with numReadNodes=1.\n",
      "NOTE: Cloud Analytic Services made the external data from CREDITCARD available as table CREDITCARD in caslib CASUSER(sebastien).\n",
      "NOTE: Action 'table.loadTable' used (Total process time):\n",
      "NOTE:       real time               1.371530 seconds\n",
      "NOTE:       cpu time                1.757965 seconds (128.18%)\n",
      "NOTE:       total nodes             5 (68 cores)\n",
      "NOTE:       total memory            510.65G\n",
      "NOTE:       memory                  214.71M (0.04%)\n",
      "NOTE: Executing action 'table.dropTable'.\n",
      "NOTE: Action 'table.dropTable' used (Total process time):\n",
      "NOTE:       real time               0.014944 seconds\n",
      "NOTE:       cpu time                0.017903 seconds (119.80%)\n",
      "NOTE:       total nodes             5 (68 cores)\n",
      "NOTE:       total memory            510.65G\n",
      "NOTE:       memory                  1.38M (0.00%)\n",
      "NOTE: Executing action 'table.loadTable'.\n",
      "NOTE: Performing serial LoadTable action using SAS Data Connector to Oracle.\n",
      "WARNING: The value of numReadNodes(4) exceeds the number of available worker nodes(1). The load will proceed with numReadNodes=1.\n",
      "NOTE: Cloud Analytic Services made the external data from D available as table D in caslib CASUSER(sebastien).\n",
      "NOTE: Action 'table.loadTable' used (Total process time):\n",
      "NOTE:       real time               156.484361 seconds\n",
      "NOTE:       cpu time                232.080678 seconds (148.31%)\n",
      "NOTE:       total nodes             5 (68 cores)\n",
      "NOTE:       total memory            510.65G\n",
      "NOTE:       memory                  426.80M (0.08%)\n",
      "NOTE: Executing action 'table.dropTable'.\n",
      "NOTE: Action 'table.dropTable' used (Total process time):\n",
      "NOTE:       real time               0.025113 seconds\n",
      "NOTE:       cpu time                0.024868 seconds (99.02%)\n",
      "NOTE:       total nodes             5 (68 cores)\n",
      "NOTE:       total memory            510.65G\n",
      "NOTE:       memory                  1.38M (0.00%)\n",
      "NOTE: Executing action 'table.loadTable'.\n",
      "NOTE: Performing serial LoadTable action using SAS Data Connector to Oracle.\n",
      "WARNING: The value of numReadNodes(4) exceeds the number of available worker nodes(1). The load will proceed with numReadNodes=1.\n",
      "NOTE: Cloud Analytic Services made the external data from D1 available as table D1 in caslib CASUSER(sebastien).\n",
      "NOTE: Action 'table.loadTable' used (Total process time):\n",
      "NOTE:       real time               108.500380 seconds\n",
      "NOTE:       cpu time                158.469532 seconds (146.05%)\n",
      "NOTE:       total nodes             5 (68 cores)\n",
      "NOTE:       total memory            510.65G\n",
      "NOTE:       memory                  429.55M (0.08%)\n",
      "NOTE: Executing action 'table.dropTable'.\n",
      "NOTE: Action 'table.dropTable' used (Total process time):\n",
      "NOTE:       real time               0.011904 seconds\n",
      "NOTE:       cpu time                0.016601 seconds (139.46%)\n",
      "NOTE:       total nodes             5 (68 cores)\n",
      "NOTE:       total memory            510.65G\n",
      "NOTE:       memory                  1.37M (0.00%)\n",
      "NOTE: Executing action 'table.loadTable'.\n",
      "NOTE: Performing serial LoadTable action using SAS Data Connector to Oracle.\n",
      "WARNING: The value of numReadNodes(4) exceeds the number of available worker nodes(1). The load will proceed with numReadNodes=1.\n",
      "NOTE: Cloud Analytic Services made the external data from D2 available as table D2 in caslib CASUSER(sebastien).\n",
      "NOTE: Action 'table.loadTable' used (Total process time):\n",
      "NOTE:       real time               29.724829 seconds\n",
      "NOTE:       cpu time                44.198020 seconds (148.69%)\n",
      "NOTE:       total nodes             5 (68 cores)\n",
      "NOTE:       total memory            510.65G\n",
      "NOTE:       memory                  412.43M (0.08%)\n",
      "NOTE: Executing action 'table.dropTable'.\n",
      "NOTE: Action 'table.dropTable' used (Total process time):\n",
      "NOTE:       real time               0.020727 seconds\n",
      "NOTE:       cpu time                0.019749 seconds (95.28%)\n",
      "NOTE:       total nodes             5 (68 cores)\n",
      "NOTE:       total memory            510.65G\n",
      "NOTE:       memory                  1.37M (0.00%)\n",
      "NOTE: Executing action 'table.loadTable'.\n",
      "NOTE: Performing serial LoadTable action using SAS Data Connector to Oracle.\n",
      "WARNING: The value of numReadNodes(4) exceeds the number of available worker nodes(1). The load will proceed with numReadNodes=1.\n",
      "NOTE: Cloud Analytic Services made the external data from D3 available as table D3 in caslib CASUSER(sebastien).\n",
      "NOTE: Action 'table.loadTable' used (Total process time):\n",
      "NOTE:       real time               76.772274 seconds\n",
      "NOTE:       cpu time                118.709911 seconds (154.63%)\n",
      "NOTE:       total nodes             5 (68 cores)\n",
      "NOTE:       total memory            510.65G\n",
      "NOTE:       memory                  426.15M (0.08%)\n",
      "NOTE: Executing action 'table.dropTable'.\n",
      "NOTE: Action 'table.dropTable' used (Total process time):\n",
      "NOTE:       real time               0.016206 seconds\n",
      "NOTE:       cpu time                0.018339 seconds (113.16%)\n",
      "NOTE:       total nodes             5 (68 cores)\n",
      "NOTE:       total memory            510.65G\n",
      "NOTE:       memory                  1.37M (0.00%)\n",
      "NOTE: Executing action 'table.loadTable'.\n",
      "NOTE: Performing serial LoadTable action using SAS Data Connector to Oracle.\n",
      "WARNING: The value of numReadNodes(4) exceeds the number of available worker nodes(1). The load will proceed with numReadNodes=1.\n",
      "NOTE: Cloud Analytic Services made the external data from F available as table F in caslib CASUSER(sebastien).\n",
      "NOTE: Action 'table.loadTable' used (Total process time):\n",
      "NOTE:       real time               3.505508 seconds\n",
      "NOTE:       cpu time                4.728106 seconds (134.88%)\n",
      "NOTE:       total nodes             5 (68 cores)\n",
      "NOTE:       total memory            510.65G\n",
      "NOTE:       memory                  415.45M (0.08%)\n",
      "NOTE: Executing action 'table.dropTable'.\n",
      "NOTE: Action 'table.dropTable' used (Total process time):\n",
      "NOTE:       real time               0.014374 seconds\n",
      "NOTE:       cpu time                0.019183 seconds (133.46%)\n",
      "NOTE:       total nodes             5 (68 cores)\n",
      "NOTE:       total memory            510.65G\n",
      "NOTE:       memory                  1.37M (0.00%)\n",
      "NOTE: Executing action 'table.loadTable'.\n",
      "NOTE: Performing serial LoadTable action using SAS Data Connector to Oracle.\n",
      "WARNING: The value of numReadNodes(4) exceeds the number of available worker nodes(1). The load will proceed with numReadNodes=1.\n",
      "NOTE: Cloud Analytic Services made the external data from O available as table O in caslib CASUSER(sebastien).\n",
      "NOTE: Action 'table.loadTable' used (Total process time):\n",
      "NOTE:       real time               125.027996 seconds\n",
      "NOTE:       cpu time                188.960307 seconds (151.13%)\n",
      "NOTE:       total nodes             5 (68 cores)\n",
      "NOTE:       total memory            510.65G\n",
      "NOTE:       memory                  423.26M (0.08%)\n",
      "NOTE: Executing action 'table.dropTable'.\n",
      "NOTE: Action 'table.dropTable' used (Total process time):\n",
      "NOTE:       real time               0.017495 seconds\n",
      "NOTE:       cpu time                0.019083 seconds (109.08%)\n",
      "NOTE:       total nodes             5 (68 cores)\n",
      "NOTE:       total memory            510.65G\n",
      "NOTE:       memory                  1.37M (0.00%)\n",
      "NOTE: Executing action 'table.loadTable'.\n",
      "NOTE: Performing serial LoadTable action using SAS Data Connector to Oracle.\n",
      "WARNING: The value of numReadNodes(4) exceeds the number of available worker nodes(1). The load will proceed with numReadNodes=1.\n",
      "NOTE: Cloud Analytic Services made the external data from P available as table P in caslib CASUSER(sebastien).\n",
      "NOTE: Action 'table.loadTable' used (Total process time):\n",
      "NOTE:       real time               48.709405 seconds\n",
      "NOTE:       cpu time                69.436709 seconds (142.55%)\n",
      "NOTE:       total nodes             5 (68 cores)\n",
      "NOTE:       total memory            510.65G\n",
      "NOTE:       memory                  412.58M (0.08%)\n",
      "NOTE: Executing action 'table.dropTable'.\n",
      "NOTE: Action 'table.dropTable' used (Total process time):\n",
      "NOTE:       real time               0.020434 seconds\n",
      "NOTE:       cpu time                0.019439 seconds (95.13%)\n",
      "NOTE:       total nodes             5 (68 cores)\n",
      "NOTE:       total memory            510.65G\n",
      "NOTE:       memory                  1.37M (0.00%)\n",
      "NOTE: Executing action 'table.loadTable'.\n",
      "NOTE: Performing serial LoadTable action using SAS Data Connector to Oracle.\n",
      "WARNING: The value of numReadNodes(4) exceeds the number of available worker nodes(1). The load will proceed with numReadNodes=1.\n",
      "NOTE: Cloud Analytic Services made the external data from PLANAGREGATION available as table PLANAGREGATION in caslib CASUSER(sebastien).\n",
      "NOTE: Action 'table.loadTable' used (Total process time):\n",
      "NOTE:       real time               0.698267 seconds\n",
      "NOTE:       cpu time                0.721943 seconds (103.39%)\n",
      "NOTE:       total nodes             5 (68 cores)\n",
      "NOTE:       total memory            510.65G\n",
      "NOTE:       memory                  6.97G (1.36%)\n",
      "NOTE: Executing action 'table.dropTable'.\n",
      "NOTE: Action 'table.dropTable' used (Total process time):\n",
      "NOTE:       real time               0.017789 seconds\n",
      "NOTE:       cpu time                0.019741 seconds (110.97%)\n",
      "NOTE:       total nodes             5 (68 cores)\n",
      "NOTE:       total memory            510.65G\n",
      "NOTE:       memory                  1.37M (0.00%)\n",
      "NOTE: Executing action 'table.loadTable'.\n",
      "NOTE: Performing serial LoadTable action using SAS Data Connector to Oracle.\n",
      "WARNING: The value of numReadNodes(4) exceeds the number of available worker nodes(1). The load will proceed with numReadNodes=1.\n",
      "NOTE: Cloud Analytic Services made the external data from TABLEPAYSZONE available as table TABLEPAYSZONE in caslib CASUSER(sebastien).\n",
      "NOTE: Action 'table.loadTable' used (Total process time):\n",
      "NOTE:       real time               0.317231 seconds\n",
      "NOTE:       cpu time                0.354481 seconds (111.74%)\n",
      "NOTE:       total nodes             5 (68 cores)\n",
      "NOTE:       total memory            510.65G\n",
      "NOTE:       memory                  1.22G (0.24%)\n",
      "NOTE: Executing action 'table.dropTable'.\n",
      "NOTE: Action 'table.dropTable' used (Total process time):\n",
      "NOTE:       real time               0.012886 seconds\n",
      "NOTE:       cpu time                0.018256 seconds (141.67%)\n",
      "NOTE:       total nodes             5 (68 cores)\n",
      "NOTE:       total memory            510.65G\n",
      "NOTE:       memory                  1.37M (0.00%)\n",
      "NOTE: Executing action 'table.loadTable'.\n",
      "NOTE: Performing serial LoadTable action using SAS Data Connector to Oracle.\n",
      "WARNING: The value of numReadNodes(4) exceeds the number of available worker nodes(1). The load will proceed with numReadNodes=1.\n",
      "NOTE: Cloud Analytic Services made the external data from U1 available as table U1 in caslib CASUSER(sebastien).\n",
      "NOTE: Action 'table.loadTable' used (Total process time):\n",
      "NOTE:       real time               68.030344 seconds\n",
      "NOTE:       cpu time                101.699995 seconds (149.49%)\n",
      "NOTE:       total nodes             5 (68 cores)\n",
      "NOTE:       total memory            510.65G\n",
      "NOTE:       memory                  425.96M (0.08%)\n",
      "NOTE: Executing action 'table.dropTable'.\n",
      "NOTE: Action 'table.dropTable' used (Total process time):\n",
      "NOTE:       real time               0.014589 seconds\n",
      "NOTE:       cpu time                0.019474 seconds (133.48%)\n",
      "NOTE:       total nodes             5 (68 cores)\n",
      "NOTE:       total memory            510.65G\n",
      "NOTE:       memory                  1.37M (0.00%)\n",
      "NOTE: Executing action 'table.loadTable'.\n",
      "NOTE: Performing serial LoadTable action using SAS Data Connector to Oracle.\n",
      "WARNING: The value of numReadNodes(4) exceeds the number of available worker nodes(1). The load will proceed with numReadNodes=1.\n",
      "NOTE: Cloud Analytic Services made the external data from U2 available as table U2 in caslib CASUSER(sebastien).\n",
      "NOTE: Action 'table.loadTable' used (Total process time):\n",
      "NOTE:       real time               61.669643 seconds\n",
      "NOTE:       cpu time                93.013031 seconds (150.82%)\n",
      "NOTE:       total nodes             5 (68 cores)\n",
      "NOTE:       total memory            510.65G\n",
      "NOTE:       memory                  429.18M (0.08%)\n",
      "NOTE: Executing action 'table.dropTable'.\n",
      "NOTE: Action 'table.dropTable' used (Total process time):\n",
      "NOTE:       real time               0.013057 seconds\n",
      "NOTE:       cpu time                0.020187 seconds (154.61%)\n",
      "NOTE:       total nodes             5 (68 cores)\n",
      "NOTE:       total memory            510.65G\n",
      "NOTE:       memory                  1.37M (0.00%)\n",
      "NOTE: Executing action 'table.loadTable'.\n",
      "NOTE: Performing serial LoadTable action using SAS Data Connector to Oracle.\n",
      "WARNING: The value of numReadNodes(4) exceeds the number of available worker nodes(1). The load will proceed with numReadNodes=1.\n",
      "NOTE: Cloud Analytic Services made the external data from U3 available as table U3 in caslib CASUSER(sebastien).\n",
      "NOTE: Action 'table.loadTable' used (Total process time):\n",
      "NOTE:       real time               30.383511 seconds\n",
      "NOTE:       cpu time                43.892433 seconds (144.46%)\n",
      "NOTE:       total nodes             5 (68 cores)\n",
      "NOTE:       total memory            510.65G\n",
      "NOTE:       memory                  415.69M (0.08%)\n",
      "NOTE: Executing action 'table.dropTable'.\n",
      "NOTE: Action 'table.dropTable' used (Total process time):\n",
      "NOTE:       real time               0.018874 seconds\n",
      "NOTE:       cpu time                0.019981 seconds (105.87%)\n",
      "NOTE:       total nodes             5 (68 cores)\n",
      "NOTE:       total memory            510.65G\n",
      "NOTE:       memory                  1.40M (0.00%)\n",
      "NOTE: Executing action 'table.loadTable'.\n",
      "NOTE: Performing serial LoadTable action using SAS Data Connector to Oracle.\n",
      "WARNING: The value of numReadNodes(4) exceeds the number of available worker nodes(1). The load will proceed with numReadNodes=1.\n",
      "NOTE: Cloud Analytic Services made the external data from Z available as table Z in caslib CASUSER(sebastien).\n",
      "NOTE: Action 'table.loadTable' used (Total process time):\n",
      "NOTE:       real time               31.590628 seconds\n",
      "NOTE:       cpu time                46.368813 seconds (146.78%)\n",
      "NOTE:       total nodes             5 (68 cores)\n",
      "NOTE:       total memory            510.65G\n",
      "NOTE:       memory                  405.84M (0.08%)\n"
     ]
    }
   ],
   "source": [
    "import_all_csv_in_memory(conn, 'BDF_ORACLE','casuser',fileflag=0)"
   ]
  },
  {
   "cell_type": "code",
   "execution_count": 58,
   "metadata": {},
   "outputs": [
    {
     "name": "stderr",
     "output_type": "stream",
     "text": [
      "NOTE: Executing action 'table.tableInfo'.\n",
      "NOTE: Action 'table.tableInfo' used (Total process time):\n",
      "NOTE:       real time               0.009322 seconds\n",
      "NOTE:       cpu time                0.016312 seconds (174.98%)\n",
      "NOTE:       total nodes             5 (68 cores)\n",
      "NOTE:       total memory            510.65G\n",
      "NOTE:       memory                  1.87M (0.00%)\n"
     ]
    },
    {
     "data": {
      "text/html": [
       "<strong>$TableInfo</strong> = <table>\n",
       "<thead><tr><th scope=col>Name</th><th scope=col>Rows</th><th scope=col>Columns</th><th scope=col>IndexedColumns</th><th scope=col>Encoding</th><th scope=col>CreateTimeFormatted</th><th scope=col>ModTimeFormatted</th><th scope=col>AccessTimeFormatted</th><th scope=col>JavaCharSet</th><th scope=col>CreateTime</th><th scope=col>...</th><th scope=col>Repeated</th><th scope=col>View</th><th scope=col>MultiPart</th><th scope=col>SourceName</th><th scope=col>SourceCaslib</th><th scope=col>Compressed</th><th scope=col>Creator</th><th scope=col>Modifier</th><th scope=col>SourceModTimeFormatted</th><th scope=col>SourceModTime</th></tr></thead>\n",
       "<tbody>\n",
       "\t<tr><td>CREDITCARD               </td><td>  284807                 </td><td>32                       </td><td>0                        </td><td>utf-8                    </td><td>2020-04-28T16:48:21+00:00</td><td>2020-04-28T16:48:21+00:00</td><td>2020-04-28T16:48:21+00:00</td><td>UTF8                     </td><td>1903711701               </td><td>...                      </td><td>0                        </td><td>0                        </td><td>0                        </td><td>CREDITCARD               </td><td>BDF_ORACLE               </td><td>0                        </td><td>sebastien                </td><td>                         </td><td>                         </td><td>NaN                      </td></tr>\n",
       "\t<tr><td>D                        </td><td>32038933                 </td><td> 9                       </td><td>0                        </td><td>utf-8                    </td><td>2020-04-28T16:48:23+00:00</td><td>2020-04-28T16:48:23+00:00</td><td>2020-04-28T16:48:23+00:00</td><td>UTF8                     </td><td>1903711703               </td><td>...                      </td><td>0                        </td><td>0                        </td><td>0                        </td><td>D                        </td><td>BDF_ORACLE               </td><td>0                        </td><td>sebastien                </td><td>                         </td><td>                         </td><td>NaN                      </td></tr>\n",
       "\t<tr><td>D1                       </td><td>21648241                 </td><td> 9                       </td><td>0                        </td><td>utf-8                    </td><td>2020-04-28T16:50:59+00:00</td><td>2020-04-28T16:50:59+00:00</td><td>2020-04-28T16:50:59+00:00</td><td>UTF8                     </td><td>1903711859               </td><td>...                      </td><td>0                        </td><td>0                        </td><td>0                        </td><td>D1                       </td><td>BDF_ORACLE               </td><td>0                        </td><td>sebastien                </td><td>                         </td><td>                         </td><td>NaN                      </td></tr>\n",
       "\t<tr><td>D2                       </td><td> 6472521                 </td><td> 9                       </td><td>0                        </td><td>utf-8                    </td><td>2020-04-28T16:52:48+00:00</td><td>2020-04-28T16:52:48+00:00</td><td>2020-04-28T16:52:48+00:00</td><td>UTF8                     </td><td>1903711968               </td><td>...                      </td><td>0                        </td><td>0                        </td><td>0                        </td><td>D2                       </td><td>BDF_ORACLE               </td><td>0                        </td><td>sebastien                </td><td>                         </td><td>                         </td><td>NaN                      </td></tr>\n",
       "\t<tr><td>D3                       </td><td>18196935                 </td><td> 9                       </td><td>0                        </td><td>utf-8                    </td><td>2020-04-28T16:53:18+00:00</td><td>2020-04-28T16:53:18+00:00</td><td>2020-04-28T16:53:18+00:00</td><td>UTF8                     </td><td>1903711998               </td><td>...                      </td><td>0                        </td><td>0                        </td><td>0                        </td><td>D3                       </td><td>BDF_ORACLE               </td><td>0                        </td><td>sebastien                </td><td>                         </td><td>                         </td><td>NaN                      </td></tr>\n",
       "\t<tr><td>F                        </td><td>  597409                 </td><td> 9                       </td><td>0                        </td><td>utf-8                    </td><td>2020-04-28T16:54:35+00:00</td><td>2020-04-28T16:54:35+00:00</td><td>2020-04-28T16:54:35+00:00</td><td>UTF8                     </td><td>1903712075               </td><td>...                      </td><td>0                        </td><td>0                        </td><td>0                        </td><td>F                        </td><td>BDF_ORACLE               </td><td>0                        </td><td>sebastien                </td><td>                         </td><td>                         </td><td>NaN                      </td></tr>\n",
       "\t<tr><td>O                        </td><td>28344903                 </td><td> 9                       </td><td>0                        </td><td>utf-8                    </td><td>2020-04-28T16:54:38+00:00</td><td>2020-04-28T16:54:38+00:00</td><td>2020-04-28T16:54:38+00:00</td><td>UTF8                     </td><td>1903712078               </td><td>...                      </td><td>0                        </td><td>0                        </td><td>0                        </td><td>O                        </td><td>BDF_ORACLE               </td><td>0                        </td><td>sebastien                </td><td>                         </td><td>                         </td><td>NaN                      </td></tr>\n",
       "\t<tr><td>P                        </td><td> 9530865                 </td><td> 9                       </td><td>0                        </td><td>utf-8                    </td><td>2020-04-28T16:56:43+00:00</td><td>2020-04-28T16:56:43+00:00</td><td>2020-04-28T16:56:43+00:00</td><td>UTF8                     </td><td>1903712203               </td><td>...                      </td><td>0                        </td><td>0                        </td><td>0                        </td><td>P                        </td><td>BDF_ORACLE               </td><td>0                        </td><td>sebastien                </td><td>                         </td><td>                         </td><td>NaN                      </td></tr>\n",
       "\t<tr><td>PLANAGREGATION           </td><td>     533                 </td><td>42                       </td><td>0                        </td><td>utf-8                    </td><td>2020-04-28T16:57:32+00:00</td><td>2020-04-28T16:57:32+00:00</td><td>2020-04-28T16:57:32+00:00</td><td>UTF8                     </td><td>1903712252               </td><td>...                      </td><td>0                        </td><td>0                        </td><td>0                        </td><td>PLANAGREGATION           </td><td>BDF_ORACLE               </td><td>0                        </td><td>sebastien                </td><td>                         </td><td>                         </td><td>NaN                      </td></tr>\n",
       "\t<tr><td>TABLEPAYSZONE            </td><td>    3953                 </td><td> 6                       </td><td>0                        </td><td>utf-8                    </td><td>2020-04-28T16:57:33+00:00</td><td>2020-04-28T16:57:33+00:00</td><td>2020-04-28T16:57:33+00:00</td><td>UTF8                     </td><td>1903712253               </td><td>...                      </td><td>0                        </td><td>0                        </td><td>0                        </td><td>TABLEPAYSZONE            </td><td>BDF_ORACLE               </td><td>0                        </td><td>sebastien                </td><td>                         </td><td>                         </td><td>NaN                      </td></tr>\n",
       "\t<tr><td>U1                       </td><td>14835007                 </td><td> 9                       </td><td>0                        </td><td>utf-8                    </td><td>2020-04-28T16:57:33+00:00</td><td>2020-04-28T16:57:33+00:00</td><td>2020-04-28T16:57:33+00:00</td><td>UTF8                     </td><td>1903712253               </td><td>...                      </td><td>0                        </td><td>0                        </td><td>0                        </td><td>U1                       </td><td>BDF_ORACLE               </td><td>0                        </td><td>sebastien                </td><td>                         </td><td>                         </td><td>NaN                      </td></tr>\n",
       "\t<tr><td>U2                       </td><td>13390747                 </td><td> 9                       </td><td>0                        </td><td>utf-8                    </td><td>2020-04-28T16:58:42+00:00</td><td>2020-04-28T16:58:42+00:00</td><td>2020-04-28T16:58:42+00:00</td><td>UTF8                     </td><td>1903712322               </td><td>...                      </td><td>0                        </td><td>0                        </td><td>0                        </td><td>U2                       </td><td>BDF_ORACLE               </td><td>0                        </td><td>sebastien                </td><td>                         </td><td>                         </td><td>NaN                      </td></tr>\n",
       "\t<tr><td>U3                       </td><td> 6077989                 </td><td> 9                       </td><td>0                        </td><td>utf-8                    </td><td>2020-04-28T16:59:43+00:00</td><td>2020-04-28T16:59:43+00:00</td><td>2020-04-28T16:59:43+00:00</td><td>UTF8                     </td><td>1903712383               </td><td>...                      </td><td>0                        </td><td>0                        </td><td>0                        </td><td>U3                       </td><td>BDF_ORACLE               </td><td>0                        </td><td>sebastien                </td><td>                         </td><td>                         </td><td>NaN                      </td></tr>\n",
       "\t<tr><td>Z                        </td><td> 6486954                 </td><td> 9                       </td><td>0                        </td><td>utf-8                    </td><td>2020-04-28T17:00:15+00:00</td><td>2020-04-28T17:00:15+00:00</td><td>2020-04-28T17:00:15+00:00</td><td>UTF8                     </td><td>1903712415               </td><td>...                      </td><td>0                        </td><td>0                        </td><td>0                        </td><td>Z                        </td><td>BDF_ORACLE               </td><td>0                        </td><td>sebastien                </td><td>                         </td><td>                         </td><td>NaN                      </td></tr>\n",
       "</tbody>\n",
       "</table>\n"
      ],
      "text/latex": [
       "\\textbf{\\$TableInfo} = \\begin{tabular}{r|lllllllllllllllllllllll}\n",
       " Name & Rows & Columns & IndexedColumns & Encoding & CreateTimeFormatted & ModTimeFormatted & AccessTimeFormatted & JavaCharSet & CreateTime & ... & Repeated & View & MultiPart & SourceName & SourceCaslib & Compressed & Creator & Modifier & SourceModTimeFormatted & SourceModTime\\\\\n",
       "\\hline\n",
       "\t CREDITCARD                &   284807                  & 32                        & 0                         & utf-8                     & 2020-04-28T16:48:21+00:00 & 2020-04-28T16:48:21+00:00 & 2020-04-28T16:48:21+00:00 & UTF8                      & 1903711701                & ...                       & 0                         & 0                         & 0                         & CREDITCARD                & BDF\\_ORACLE              & 0                         & sebastien                 &                           &                           & NaN                      \\\\\n",
       "\t D                         & 32038933                  &  9                        & 0                         & utf-8                     & 2020-04-28T16:48:23+00:00 & 2020-04-28T16:48:23+00:00 & 2020-04-28T16:48:23+00:00 & UTF8                      & 1903711703                & ...                       & 0                         & 0                         & 0                         & D                         & BDF\\_ORACLE              & 0                         & sebastien                 &                           &                           & NaN                      \\\\\n",
       "\t D1                        & 21648241                  &  9                        & 0                         & utf-8                     & 2020-04-28T16:50:59+00:00 & 2020-04-28T16:50:59+00:00 & 2020-04-28T16:50:59+00:00 & UTF8                      & 1903711859                & ...                       & 0                         & 0                         & 0                         & D1                        & BDF\\_ORACLE              & 0                         & sebastien                 &                           &                           & NaN                      \\\\\n",
       "\t D2                        &  6472521                  &  9                        & 0                         & utf-8                     & 2020-04-28T16:52:48+00:00 & 2020-04-28T16:52:48+00:00 & 2020-04-28T16:52:48+00:00 & UTF8                      & 1903711968                & ...                       & 0                         & 0                         & 0                         & D2                        & BDF\\_ORACLE              & 0                         & sebastien                 &                           &                           & NaN                      \\\\\n",
       "\t D3                        & 18196935                  &  9                        & 0                         & utf-8                     & 2020-04-28T16:53:18+00:00 & 2020-04-28T16:53:18+00:00 & 2020-04-28T16:53:18+00:00 & UTF8                      & 1903711998                & ...                       & 0                         & 0                         & 0                         & D3                        & BDF\\_ORACLE              & 0                         & sebastien                 &                           &                           & NaN                      \\\\\n",
       "\t F                         &   597409                  &  9                        & 0                         & utf-8                     & 2020-04-28T16:54:35+00:00 & 2020-04-28T16:54:35+00:00 & 2020-04-28T16:54:35+00:00 & UTF8                      & 1903712075                & ...                       & 0                         & 0                         & 0                         & F                         & BDF\\_ORACLE              & 0                         & sebastien                 &                           &                           & NaN                      \\\\\n",
       "\t O                         & 28344903                  &  9                        & 0                         & utf-8                     & 2020-04-28T16:54:38+00:00 & 2020-04-28T16:54:38+00:00 & 2020-04-28T16:54:38+00:00 & UTF8                      & 1903712078                & ...                       & 0                         & 0                         & 0                         & O                         & BDF\\_ORACLE              & 0                         & sebastien                 &                           &                           & NaN                      \\\\\n",
       "\t P                         &  9530865                  &  9                        & 0                         & utf-8                     & 2020-04-28T16:56:43+00:00 & 2020-04-28T16:56:43+00:00 & 2020-04-28T16:56:43+00:00 & UTF8                      & 1903712203                & ...                       & 0                         & 0                         & 0                         & P                         & BDF\\_ORACLE              & 0                         & sebastien                 &                           &                           & NaN                      \\\\\n",
       "\t PLANAGREGATION            &      533                  & 42                        & 0                         & utf-8                     & 2020-04-28T16:57:32+00:00 & 2020-04-28T16:57:32+00:00 & 2020-04-28T16:57:32+00:00 & UTF8                      & 1903712252                & ...                       & 0                         & 0                         & 0                         & PLANAGREGATION            & BDF\\_ORACLE              & 0                         & sebastien                 &                           &                           & NaN                      \\\\\n",
       "\t TABLEPAYSZONE             &     3953                  &  6                        & 0                         & utf-8                     & 2020-04-28T16:57:33+00:00 & 2020-04-28T16:57:33+00:00 & 2020-04-28T16:57:33+00:00 & UTF8                      & 1903712253                & ...                       & 0                         & 0                         & 0                         & TABLEPAYSZONE             & BDF\\_ORACLE              & 0                         & sebastien                 &                           &                           & NaN                      \\\\\n",
       "\t U1                        & 14835007                  &  9                        & 0                         & utf-8                     & 2020-04-28T16:57:33+00:00 & 2020-04-28T16:57:33+00:00 & 2020-04-28T16:57:33+00:00 & UTF8                      & 1903712253                & ...                       & 0                         & 0                         & 0                         & U1                        & BDF\\_ORACLE              & 0                         & sebastien                 &                           &                           & NaN                      \\\\\n",
       "\t U2                        & 13390747                  &  9                        & 0                         & utf-8                     & 2020-04-28T16:58:42+00:00 & 2020-04-28T16:58:42+00:00 & 2020-04-28T16:58:42+00:00 & UTF8                      & 1903712322                & ...                       & 0                         & 0                         & 0                         & U2                        & BDF\\_ORACLE              & 0                         & sebastien                 &                           &                           & NaN                      \\\\\n",
       "\t U3                        &  6077989                  &  9                        & 0                         & utf-8                     & 2020-04-28T16:59:43+00:00 & 2020-04-28T16:59:43+00:00 & 2020-04-28T16:59:43+00:00 & UTF8                      & 1903712383                & ...                       & 0                         & 0                         & 0                         & U3                        & BDF\\_ORACLE              & 0                         & sebastien                 &                           &                           & NaN                      \\\\\n",
       "\t Z                         &  6486954                  &  9                        & 0                         & utf-8                     & 2020-04-28T17:00:15+00:00 & 2020-04-28T17:00:15+00:00 & 2020-04-28T17:00:15+00:00 & UTF8                      & 1903712415                & ...                       & 0                         & 0                         & 0                         & Z                         & BDF\\_ORACLE              & 0                         & sebastien                 &                           &                           & NaN                      \\\\\n",
       "\\end{tabular}\n"
      ],
      "text/markdown": [
       "**$TableInfo** = \n",
       "| Name | Rows | Columns | IndexedColumns | Encoding | CreateTimeFormatted | ModTimeFormatted | AccessTimeFormatted | JavaCharSet | CreateTime | ... | Repeated | View | MultiPart | SourceName | SourceCaslib | Compressed | Creator | Modifier | SourceModTimeFormatted | SourceModTime |\n",
       "|---|---|---|---|---|---|---|---|---|---|---|---|---|---|---|---|---|---|---|---|---|\n",
       "| CREDITCARD                |   284807                  | 32                        | 0                         | utf-8                     | 2020-04-28T16:48:21+00:00 | 2020-04-28T16:48:21+00:00 | 2020-04-28T16:48:21+00:00 | UTF8                      | 1903711701                | ...                       | 0                         | 0                         | 0                         | CREDITCARD                | BDF_ORACLE                | 0                         | sebastien                 |                           |                           | NaN                       |\n",
       "| D                         | 32038933                  |  9                        | 0                         | utf-8                     | 2020-04-28T16:48:23+00:00 | 2020-04-28T16:48:23+00:00 | 2020-04-28T16:48:23+00:00 | UTF8                      | 1903711703                | ...                       | 0                         | 0                         | 0                         | D                         | BDF_ORACLE                | 0                         | sebastien                 |                           |                           | NaN                       |\n",
       "| D1                        | 21648241                  |  9                        | 0                         | utf-8                     | 2020-04-28T16:50:59+00:00 | 2020-04-28T16:50:59+00:00 | 2020-04-28T16:50:59+00:00 | UTF8                      | 1903711859                | ...                       | 0                         | 0                         | 0                         | D1                        | BDF_ORACLE                | 0                         | sebastien                 |                           |                           | NaN                       |\n",
       "| D2                        |  6472521                  |  9                        | 0                         | utf-8                     | 2020-04-28T16:52:48+00:00 | 2020-04-28T16:52:48+00:00 | 2020-04-28T16:52:48+00:00 | UTF8                      | 1903711968                | ...                       | 0                         | 0                         | 0                         | D2                        | BDF_ORACLE                | 0                         | sebastien                 |                           |                           | NaN                       |\n",
       "| D3                        | 18196935                  |  9                        | 0                         | utf-8                     | 2020-04-28T16:53:18+00:00 | 2020-04-28T16:53:18+00:00 | 2020-04-28T16:53:18+00:00 | UTF8                      | 1903711998                | ...                       | 0                         | 0                         | 0                         | D3                        | BDF_ORACLE                | 0                         | sebastien                 |                           |                           | NaN                       |\n",
       "| F                         |   597409                  |  9                        | 0                         | utf-8                     | 2020-04-28T16:54:35+00:00 | 2020-04-28T16:54:35+00:00 | 2020-04-28T16:54:35+00:00 | UTF8                      | 1903712075                | ...                       | 0                         | 0                         | 0                         | F                         | BDF_ORACLE                | 0                         | sebastien                 |                           |                           | NaN                       |\n",
       "| O                         | 28344903                  |  9                        | 0                         | utf-8                     | 2020-04-28T16:54:38+00:00 | 2020-04-28T16:54:38+00:00 | 2020-04-28T16:54:38+00:00 | UTF8                      | 1903712078                | ...                       | 0                         | 0                         | 0                         | O                         | BDF_ORACLE                | 0                         | sebastien                 |                           |                           | NaN                       |\n",
       "| P                         |  9530865                  |  9                        | 0                         | utf-8                     | 2020-04-28T16:56:43+00:00 | 2020-04-28T16:56:43+00:00 | 2020-04-28T16:56:43+00:00 | UTF8                      | 1903712203                | ...                       | 0                         | 0                         | 0                         | P                         | BDF_ORACLE                | 0                         | sebastien                 |                           |                           | NaN                       |\n",
       "| PLANAGREGATION            |      533                  | 42                        | 0                         | utf-8                     | 2020-04-28T16:57:32+00:00 | 2020-04-28T16:57:32+00:00 | 2020-04-28T16:57:32+00:00 | UTF8                      | 1903712252                | ...                       | 0                         | 0                         | 0                         | PLANAGREGATION            | BDF_ORACLE                | 0                         | sebastien                 |                           |                           | NaN                       |\n",
       "| TABLEPAYSZONE             |     3953                  |  6                        | 0                         | utf-8                     | 2020-04-28T16:57:33+00:00 | 2020-04-28T16:57:33+00:00 | 2020-04-28T16:57:33+00:00 | UTF8                      | 1903712253                | ...                       | 0                         | 0                         | 0                         | TABLEPAYSZONE             | BDF_ORACLE                | 0                         | sebastien                 |                           |                           | NaN                       |\n",
       "| U1                        | 14835007                  |  9                        | 0                         | utf-8                     | 2020-04-28T16:57:33+00:00 | 2020-04-28T16:57:33+00:00 | 2020-04-28T16:57:33+00:00 | UTF8                      | 1903712253                | ...                       | 0                         | 0                         | 0                         | U1                        | BDF_ORACLE                | 0                         | sebastien                 |                           |                           | NaN                       |\n",
       "| U2                        | 13390747                  |  9                        | 0                         | utf-8                     | 2020-04-28T16:58:42+00:00 | 2020-04-28T16:58:42+00:00 | 2020-04-28T16:58:42+00:00 | UTF8                      | 1903712322                | ...                       | 0                         | 0                         | 0                         | U2                        | BDF_ORACLE                | 0                         | sebastien                 |                           |                           | NaN                       |\n",
       "| U3                        |  6077989                  |  9                        | 0                         | utf-8                     | 2020-04-28T16:59:43+00:00 | 2020-04-28T16:59:43+00:00 | 2020-04-28T16:59:43+00:00 | UTF8                      | 1903712383                | ...                       | 0                         | 0                         | 0                         | U3                        | BDF_ORACLE                | 0                         | sebastien                 |                           |                           | NaN                       |\n",
       "| Z                         |  6486954                  |  9                        | 0                         | utf-8                     | 2020-04-28T17:00:15+00:00 | 2020-04-28T17:00:15+00:00 | 2020-04-28T17:00:15+00:00 | UTF8                      | 1903712415                | ...                       | 0                         | 0                         | 0                         | Z                         | BDF_ORACLE                | 0                         | sebastien                 |                           |                           | NaN                       |\n",
       "\n"
      ],
      "text/plain": [
       "$TableInfo\n",
       "             Name     Rows Columns IndexedColumns Encoding\n",
       "1      CREDITCARD   284807      32              0    utf-8\n",
       "2               D 32038933       9              0    utf-8\n",
       "3              D1 21648241       9              0    utf-8\n",
       "4              D2  6472521       9              0    utf-8\n",
       "5              D3 18196935       9              0    utf-8\n",
       "6               F   597409       9              0    utf-8\n",
       "7               O 28344903       9              0    utf-8\n",
       "8               P  9530865       9              0    utf-8\n",
       "9  PLANAGREGATION      533      42              0    utf-8\n",
       "10  TABLEPAYSZONE     3953       6              0    utf-8\n",
       "11             U1 14835007       9              0    utf-8\n",
       "12             U2 13390747       9              0    utf-8\n",
       "13             U3  6077989       9              0    utf-8\n",
       "14              Z  6486954       9              0    utf-8\n",
       "         CreateTimeFormatted          ModTimeFormatted\n",
       "1  2020-04-28T16:48:21+00:00 2020-04-28T16:48:21+00:00\n",
       "2  2020-04-28T16:48:23+00:00 2020-04-28T16:48:23+00:00\n",
       "3  2020-04-28T16:50:59+00:00 2020-04-28T16:50:59+00:00\n",
       "4  2020-04-28T16:52:48+00:00 2020-04-28T16:52:48+00:00\n",
       "5  2020-04-28T16:53:18+00:00 2020-04-28T16:53:18+00:00\n",
       "6  2020-04-28T16:54:35+00:00 2020-04-28T16:54:35+00:00\n",
       "7  2020-04-28T16:54:38+00:00 2020-04-28T16:54:38+00:00\n",
       "8  2020-04-28T16:56:43+00:00 2020-04-28T16:56:43+00:00\n",
       "9  2020-04-28T16:57:32+00:00 2020-04-28T16:57:32+00:00\n",
       "10 2020-04-28T16:57:33+00:00 2020-04-28T16:57:33+00:00\n",
       "11 2020-04-28T16:57:33+00:00 2020-04-28T16:57:33+00:00\n",
       "12 2020-04-28T16:58:42+00:00 2020-04-28T16:58:42+00:00\n",
       "13 2020-04-28T16:59:43+00:00 2020-04-28T16:59:43+00:00\n",
       "14 2020-04-28T17:00:15+00:00 2020-04-28T17:00:15+00:00\n",
       "         AccessTimeFormatted JavaCharSet CreateTime    ModTime AccessTime\n",
       "1  2020-04-28T16:48:21+00:00        UTF8 1903711701 1903711701 1903711701\n",
       "2  2020-04-28T16:48:23+00:00        UTF8 1903711703 1903711703 1903711703\n",
       "3  2020-04-28T16:50:59+00:00        UTF8 1903711859 1903711859 1903711859\n",
       "4  2020-04-28T16:52:48+00:00        UTF8 1903711968 1903711968 1903711968\n",
       "5  2020-04-28T16:53:18+00:00        UTF8 1903711998 1903711998 1903711998\n",
       "6  2020-04-28T16:54:35+00:00        UTF8 1903712075 1903712075 1903712075\n",
       "7  2020-04-28T16:54:38+00:00        UTF8 1903712078 1903712078 1903712078\n",
       "8  2020-04-28T16:56:43+00:00        UTF8 1903712203 1903712203 1903712203\n",
       "9  2020-04-28T16:57:32+00:00        UTF8 1903712252 1903712252 1903712252\n",
       "10 2020-04-28T16:57:33+00:00        UTF8 1903712253 1903712253 1903712253\n",
       "11 2020-04-28T16:57:33+00:00        UTF8 1903712253 1903712253 1903712253\n",
       "12 2020-04-28T16:58:42+00:00        UTF8 1903712322 1903712322 1903712322\n",
       "13 2020-04-28T16:59:43+00:00        UTF8 1903712383 1903712383 1903712383\n",
       "14 2020-04-28T17:00:15+00:00        UTF8 1903712415 1903712415 1903712415\n",
       "   Global Repeated View MultiPart     SourceName SourceCaslib Compressed\n",
       "1       0        0    0         0     CREDITCARD   BDF_ORACLE          0\n",
       "2       0        0    0         0              D   BDF_ORACLE          0\n",
       "3       0        0    0         0             D1   BDF_ORACLE          0\n",
       "4       0        0    0         0             D2   BDF_ORACLE          0\n",
       "5       0        0    0         0             D3   BDF_ORACLE          0\n",
       "6       0        0    0         0              F   BDF_ORACLE          0\n",
       "7       0        0    0         0              O   BDF_ORACLE          0\n",
       "8       0        0    0         0              P   BDF_ORACLE          0\n",
       "9       0        0    0         0 PLANAGREGATION   BDF_ORACLE          0\n",
       "10      0        0    0         0  TABLEPAYSZONE   BDF_ORACLE          0\n",
       "11      0        0    0         0             U1   BDF_ORACLE          0\n",
       "12      0        0    0         0             U2   BDF_ORACLE          0\n",
       "13      0        0    0         0             U3   BDF_ORACLE          0\n",
       "14      0        0    0         0              Z   BDF_ORACLE          0\n",
       "     Creator Modifier SourceModTimeFormatted SourceModTime\n",
       "1  sebastien                                           NaN\n",
       "2  sebastien                                           NaN\n",
       "3  sebastien                                           NaN\n",
       "4  sebastien                                           NaN\n",
       "5  sebastien                                           NaN\n",
       "6  sebastien                                           NaN\n",
       "7  sebastien                                           NaN\n",
       "8  sebastien                                           NaN\n",
       "9  sebastien                                           NaN\n",
       "10 sebastien                                           NaN\n",
       "11 sebastien                                           NaN\n",
       "12 sebastien                                           NaN\n",
       "13 sebastien                                           NaN\n",
       "14 sebastien                                           NaN\n"
      ]
     },
     "metadata": {},
     "output_type": "display_data"
    }
   ],
   "source": [
    "cas.table.tableInfo(conn,caslib=\"casuser\")"
   ]
  },
  {
   "cell_type": "markdown",
   "metadata": {},
   "source": [
    "## Concatenation totale de toutes les tables d'agregat en mémoire pour former une table nommee AGGTTECATEGORIE"
   ]
  },
  {
   "cell_type": "code",
   "execution_count": 59,
   "metadata": {},
   "outputs": [
    {
     "name": "stderr",
     "output_type": "stream",
     "text": [
      "NOTE: Executing action 'table.tableInfo'.\n",
      "NOTE: Action 'table.tableInfo' used (Total process time):\n",
      "NOTE:       real time               0.010422 seconds\n",
      "NOTE:       cpu time                0.016769 seconds (160.90%)\n",
      "NOTE:       total nodes             5 (68 cores)\n",
      "NOTE:       total memory            510.65G\n",
      "NOTE:       memory                  1.87M (0.00%)\n",
      "NOTE: Executing action 'table.dropTable'.\n",
      "NOTE: Action 'table.dropTable' used (Total process time):\n",
      "NOTE:       real time               0.014370 seconds\n",
      "NOTE:       cpu time                0.017270 seconds (120.18%)\n",
      "NOTE:       total nodes             5 (68 cores)\n",
      "NOTE:       total memory            510.65G\n",
      "NOTE:       memory                  1.41M (0.00%)\n",
      "NOTE: Executing action 'dataStep.runCode'.\n",
      "NOTE: Action 'dataStep.runCode' used (Total process time):\n",
      "NOTE:       real time               1.984022 seconds\n",
      "NOTE:       cpu time                67.273767 seconds (3390.78%)\n",
      "NOTE:       total nodes             5 (68 cores)\n",
      "NOTE:       total memory            510.65G\n",
      "NOTE:       memory                  242.17M (0.05%)\n",
      "NOTE: Executing action 'dataStep.runCode'.\n",
      "NOTE: Action 'dataStep.runCode' used (Total process time):\n",
      "NOTE:       real time               1.260871 seconds\n",
      "NOTE:       cpu time                45.305700 seconds (3593.21%)\n",
      "NOTE:       total nodes             5 (68 cores)\n",
      "NOTE:       total memory            510.65G\n",
      "NOTE:       memory                  48.53M (0.01%)\n",
      "NOTE: Executing action 'dataStep.runCode'.\n",
      "NOTE: Action 'dataStep.runCode' used (Total process time):\n",
      "NOTE:       real time               0.435938 seconds\n",
      "NOTE:       cpu time                13.125557 seconds (3010.88%)\n",
      "NOTE:       total nodes             5 (68 cores)\n",
      "NOTE:       total memory            510.65G\n",
      "NOTE:       memory                  43.60M (0.01%)\n",
      "NOTE: Executing action 'dataStep.runCode'.\n",
      "NOTE: Action 'dataStep.runCode' used (Total process time):\n",
      "NOTE:       real time               1.045032 seconds\n",
      "NOTE:       cpu time                36.844120 seconds (3525.65%)\n",
      "NOTE:       total nodes             5 (68 cores)\n",
      "NOTE:       total memory            510.65G\n",
      "NOTE:       memory                  42.43M (0.01%)\n",
      "NOTE: Executing action 'dataStep.runCode'.\n",
      "NOTE: Action 'dataStep.runCode' used (Total process time):\n",
      "NOTE:       real time               0.128125 seconds\n",
      "NOTE:       cpu time                1.441920 seconds (1125.40%)\n",
      "NOTE:       total nodes             5 (68 cores)\n",
      "NOTE:       total memory            510.65G\n",
      "NOTE:       memory                  42.49M (0.01%)\n",
      "NOTE: Executing action 'dataStep.runCode'.\n",
      "NOTE: Action 'dataStep.runCode' used (Total process time):\n",
      "NOTE:       real time               1.769548 seconds\n",
      "NOTE:       cpu time                59.484222 seconds (3361.55%)\n",
      "NOTE:       total nodes             5 (68 cores)\n",
      "NOTE:       total memory            510.65G\n",
      "NOTE:       memory                  44.07M (0.01%)\n",
      "NOTE: Executing action 'dataStep.runCode'.\n",
      "NOTE: Action 'dataStep.runCode' used (Total process time):\n",
      "NOTE:       real time               0.769058 seconds\n",
      "NOTE:       cpu time                19.467046 seconds (2531.28%)\n",
      "NOTE:       total nodes             5 (68 cores)\n",
      "NOTE:       total memory            510.65G\n",
      "NOTE:       memory                  42.17M (0.01%)\n",
      "NOTE: Executing action 'dataStep.runCode'.\n",
      "NOTE: Action 'dataStep.runCode' used (Total process time):\n",
      "NOTE:       real time               1.277022 seconds\n",
      "NOTE:       cpu time                32.778275 seconds (2566.77%)\n",
      "NOTE:       total nodes             5 (68 cores)\n",
      "NOTE:       total memory            510.65G\n",
      "NOTE:       memory                  45.84M (0.01%)\n",
      "NOTE: Executing action 'dataStep.runCode'.\n",
      "NOTE: Action 'dataStep.runCode' used (Total process time):\n",
      "NOTE:       real time               1.441710 seconds\n",
      "NOTE:       cpu time                31.175408 seconds (2162.39%)\n",
      "NOTE:       total nodes             5 (68 cores)\n",
      "NOTE:       total memory            510.65G\n",
      "NOTE:       memory                  42.49M (0.01%)\n",
      "NOTE: Executing action 'dataStep.runCode'.\n",
      "NOTE: Action 'dataStep.runCode' used (Total process time):\n",
      "NOTE:       real time               0.534227 seconds\n",
      "NOTE:       cpu time                13.108427 seconds (2453.72%)\n",
      "NOTE:       total nodes             5 (68 cores)\n",
      "NOTE:       total memory            510.65G\n",
      "NOTE:       memory                  42.17M (0.01%)\n",
      "NOTE: Executing action 'dataStep.runCode'.\n",
      "NOTE: Action 'dataStep.runCode' used (Total process time):\n",
      "NOTE:       real time               0.722960 seconds\n",
      "NOTE:       cpu time                15.206110 seconds (2103.31%)\n",
      "NOTE:       total nodes             5 (68 cores)\n",
      "NOTE:       total memory            510.65G\n",
      "NOTE:       memory                  42.54M (0.01%)\n",
      "NOTE: Executing action 'table.columnInfo'.\n",
      "NOTE: Action 'table.columnInfo' used (Total process time):\n",
      "NOTE:       real time               0.007952 seconds\n",
      "NOTE:       cpu time                0.016068 seconds (202.06%)\n",
      "NOTE:       total nodes             5 (68 cores)\n",
      "NOTE:       total memory            510.65G\n",
      "NOTE:       memory                  2.53M (0.00%)\n",
      "NOTE: Executing action 'simple.numRows'.\n",
      "NOTE: Action 'simple.numRows' used (Total process time):\n",
      "NOTE:       real time               0.011996 seconds\n",
      "NOTE:       cpu time                0.019147 seconds (159.61%)\n",
      "NOTE:       total nodes             5 (68 cores)\n",
      "NOTE:       total memory            510.65G\n",
      "NOTE:       memory                  2.22M (0.00%)\n"
     ]
    },
    {
     "data": {
      "text/html": [
       "157620504"
      ],
      "text/latex": [
       "157620504"
      ],
      "text/markdown": [
       "157620504"
      ],
      "text/plain": [
       "[1] 157620504"
      ]
     },
     "metadata": {},
     "output_type": "display_data"
    }
   ],
   "source": [
    "cas_concat_all_tables(conn, \"casuser\",\"casuser\",\"AGGTTECATEGORIE\")\n",
    "table_AggregationMensuelleTouteCategorie <- defCasTable(conn, tablename='AGGTTECATEGORIE', caslib='casuser')\n",
    "nrow(table_AggregationMensuelleTouteCategorie)"
   ]
  },
  {
   "cell_type": "markdown",
   "metadata": {},
   "source": [
    "## Produire la repartition en nombre d'enregistrements par categorie a partir de l'agregation faite en memoire par le moteur CAS sur la table globale AGGTTECATEGORIE et la recuperation de ces agregats en entree de la fonction PIE de R"
   ]
  },
  {
   "cell_type": "code",
   "execution_count": 60,
   "metadata": {},
   "outputs": [
    {
     "name": "stderr",
     "output_type": "stream",
     "text": [
      "NOTE: Executing action 'simple.freq'.\n",
      "NOTE: Action 'simple.freq' used (Total process time):\n",
      "NOTE:       real time               0.862491 seconds\n",
      "NOTE:       cpu time                48.368423 seconds (5607.99%)\n",
      "NOTE:       total nodes             5 (68 cores)\n",
      "NOTE:       total memory            510.65G\n",
      "NOTE:       memory                  75.34M (0.01%)\n",
      "NOTE:       bytes moved             1.45K\n"
     ]
    },
    {
     "data": {
      "text/html": [
       "<strong>$OutputCasTables</strong> = <table>\n",
       "<thead><tr><th scope=col>casLib</th><th scope=col>Name</th><th scope=col>Rows</th><th scope=col>Columns</th></tr></thead>\n",
       "<tbody>\n",
       "\t<tr><td>CASUSER(sebastien)  </td><td>AGGTTECATEGORIE_freq</td><td>11                  </td><td>5                   </td></tr>\n",
       "</tbody>\n",
       "</table>\n"
      ],
      "text/latex": [
       "\\textbf{\\$OutputCasTables} = \\begin{tabular}{r|llll}\n",
       " casLib & Name & Rows & Columns\\\\\n",
       "\\hline\n",
       "\t CASUSER(sebastien)     & AGGTTECATEGORIE\\_freq & 11                     & 5                     \\\\\n",
       "\\end{tabular}\n"
      ],
      "text/markdown": [
       "**$OutputCasTables** = \n",
       "| casLib | Name | Rows | Columns |\n",
       "|---|---|---|---|\n",
       "| CASUSER(sebastien)   | AGGTTECATEGORIE_freq | 11                   | 5                    |\n",
       "\n"
      ],
      "text/plain": [
       "$OutputCasTables\n",
       "              casLib                 Name Rows Columns\n",
       "1 CASUSER(sebastien) AGGTTECATEGORIE_freq   11       5\n"
      ]
     },
     "metadata": {},
     "output_type": "display_data"
    },
    {
     "name": "stderr",
     "output_type": "stream",
     "text": [
      "NOTE: Executing action 'table.fetch'.\n",
      "NOTE: Action 'table.fetch' used (Total process time):\n",
      "NOTE:       real time               0.027849 seconds\n",
      "NOTE:       cpu time                0.061410 seconds (220.51%)\n",
      "NOTE:       total nodes             5 (68 cores)\n",
      "NOTE:       total memory            510.65G\n",
      "NOTE:       memory                  6.14M (0.00%)\n"
     ]
    },
    {
     "name": "stdout",
     "output_type": "stream",
     "text": [
      "$Fetch\n",
      "   _Index_  _Column_ _Charvar_ _Fmtvar_ _Level_ _Frequency_\n",
      "1        1 tablename         D        D       7    32038933\n",
      "2        2 tablename         O        O       5    28344903\n",
      "3        3 tablename        D1       D1       9    21648241\n",
      "4        4 tablename        D3       D3       4    18196935\n",
      "5        5 tablename        U1       U1      11    14835007\n",
      "6        6 tablename        U2       U2       1    13390747\n",
      "7        7 tablename         P        P      10     9530865\n",
      "8        8 tablename         Z        Z       3     6486954\n",
      "9        9 tablename        D2       D2       8     6472521\n",
      "10      10 tablename        U3       U3       2     6077989\n",
      "11      11 tablename         F        F       6      597409\n",
      "\n"
     ]
    },
    {
     "data": {
      "image/png": "[encoded data removed]",
      "text/plain": [
       "Plot with title “Rows by table name”"
      ]
     },
     "metadata": {},
     "output_type": "display_data"
    }
   ],
   "source": [
    "cas.simple.freq(conn, inputs = c(\"tablename\"),table = c(name = \"AGGTTECATEGORIE\"),casout = c(name = \"AGGTTECATEGORIE_freq\", replace = TRUE)) \n",
    "res <- cas.table.fetch(conn, table = \"AGGTTECATEGORIE_freq\", sortBy = list(list(name = \"_Frequency_\",order = \"descending\")))\n",
    "print(res)\n",
    "piedata <- res$Fetch                                              # \n",
    "names(piedata) <- gsub(\"_\", \"\", names(piedata))\n",
    "piedata <- piedata[order(piedata$Frequency),]\n",
    "total <- sum(piedata$Frequency)\n",
    "piedata$Percent <- scales::percent(piedata$Frequency / total)\n",
    "fillcolors = c(\"#6F7EB3\", \"#D05B5B\", \"#66A5A0\", \"#A9865B\",\"#B689CD\", \"#BABC5C\")\n",
    "par(mar = c(3, 0, 1.5, 0), xpd=TRUE)\n",
    "pie(piedata$Frequency,labels = piedata$Percent, col=fillcolors, radius=0.85, clockwise=TRUE, init.angle=0, main=\"Rows by table name\")\n",
    "legend(x=-0.85, y=-1, horiz = FALSE, piedata$Charvar, fill = fillcolors, ncol=3)"
   ]
  },
  {
   "cell_type": "markdown",
   "metadata": {},
   "source": [
    "## Declaration des table CAS en tant qu'objet de type CASTable en R"
   ]
  },
  {
   "cell_type": "code",
   "execution_count": 61,
   "metadata": {},
   "outputs": [
    {
     "name": "stderr",
     "output_type": "stream",
     "text": [
      "NOTE: Executing action 'table.columnInfo'.\n",
      "NOTE: Action 'table.columnInfo' used (Total process time):\n",
      "NOTE:       real time               0.013834 seconds\n",
      "NOTE:       cpu time                0.019085 seconds (137.96%)\n",
      "NOTE:       total nodes             5 (68 cores)\n",
      "NOTE:       total memory            510.65G\n",
      "NOTE:       memory                  2.52M (0.00%)\n",
      "NOTE: Executing action 'table.columnInfo'.\n",
      "NOTE: Action 'table.columnInfo' used (Total process time):\n",
      "NOTE:       real time               0.008569 seconds\n",
      "NOTE:       cpu time                0.018018 seconds (210.27%)\n",
      "NOTE:       total nodes             5 (68 cores)\n",
      "NOTE:       total memory            510.65G\n",
      "NOTE:       memory                  2.52M (0.00%)\n"
     ]
    }
   ],
   "source": [
    "table_pays_zone <- defCasTable(conn, tablename='TABLEPAYSZONE', caslib='casuser')\n",
    "table_planAggregation <- defCasTable(conn, tablename='PLANAGREGATION', caslib='casuser')"
   ]
  },
  {
   "cell_type": "markdown",
   "metadata": {},
   "source": [
    "# Code principal basé sur le programme R existant"
   ]
  },
  {
   "cell_type": "markdown",
   "metadata": {},
   "source": [
    "## Fonction de traitement principal"
   ]
  },
  {
   "cell_type": "code",
   "execution_count": 62,
   "metadata": {},
   "outputs": [],
   "source": [
    "traitement_principal <- function(freq, RevFin, PeriodeFin, planAggregation,ReferencePiZones, Repertoire, ConnectionSecureDB)\n",
    "{\n",
    "  Frequence <- freq\n",
    "  HeureDebut <- Sys.time()\n",
    "  An = as.numeric(ExtractString(PeriodeFin, 1, 4))\n",
    "  print(\"ETAPE DATA: LECTURE TABLE PI_ZONE\")\n",
    "  print(Sys.time())\n",
    "  TablePiZone <- recuperation_traitement_table_code_pays(ReferencePiZones, ConnectionSecureDB)\n",
    "  #return(TablePiZone)\n",
    "  print(\" TAILLE TABLE TablePaysZone\")\n",
    "  print(dim(TablePiZone))\n",
    "  print(Sys.time())\n",
    "  print(\"LECTURE ET MISE EN FORME DES FICHIERS D'AGGREGATION CODE SERIE\")\n",
    "  print(Sys.time())\n",
    "  # planAggregation <- \"PlanAggregation.csv\"\n",
    "  planAgregationCodeSerie <- lecture_fichier_aggregation_codeSerie(planAggregation, connectionSecureDB)\n",
    "  # # write_delim(planAgregationCodeSerie, \"planAgregationCodeSerie.csv\", delim=\";\")\n",
    "  print(\" TAILLE TABLE planAgregationCodeSerie\")\n",
    "  print(dim(planAgregationCodeSerie))\n",
    "  print(Sys.time())\n",
    "  print(\"JOINTURE PLAN D'AGGREGATION\")\n",
    "  PlanAggregationParametre <- parametrage_aggregation_code_serie(planAgregationCodeSerie, TablePiZone, freq) \n",
    "    \n",
    "  # # write_delim(PlanAggregationParametre, \"PlanAggregationParametre.csv\", delim=\";\")\n",
    "  print(\"Taille plan d'agregation\")\n",
    "  print(dim(PlanAggregationParametre))\n",
    "  print(names(PlanAggregationParametre))\n",
    "\n",
    "  # Ecriture du dataframe de sortie en table CAS pour les futures jointures\n",
    "  PlanAggregationParametreCAS <- as.casTable(ConnectionSecureDB, PlanAggregationParametre, casOut=list(caslib=\"casuser\", name=\"PLANAGGPARAM\",replace=TRUE))\n",
    "  print(dim(PlanAggregationParametreCAS))\n",
    "    \n",
    "  print(\"ESTIMATION NOMBRE DE PERIODE ET DE DEBUT DE TRAITEMENT\")\n",
    "  result_nbperiode_moisdebut <- detection_nbPeriode_moisDebut(freq, RevFin, PeriodeFin)\n",
    "  NbrePeriode <- result_nbperiode_moisdebut$nbper\n",
    "  MoisDebut <- as.numeric(result_nbperiode_moisdebut$moisDebut)\n",
    "  print(MoisDebut)\n",
    "  \n",
    "  rm(result_nbperiode_moisdebut)\n",
    "  \n",
    "  print(\"BOUCLE DU LES MOIS\")\n",
    "\n",
    " # On supprime la table d'agregat finale si elle existe avant de la reconstruire de la boucle mensuelle suivante   \n",
    " cas.table.dropTable(conn, caslib='casuser', name='AGG_FINALE', quiet=TRUE)\n",
    "    \n",
    "  for(mois in MoisDebut:(MoisDebut+NbrePeriode-1))\n",
    "  {\n",
    "     print(paste0(\"     Mois debut \", MoisDebut))\n",
    "     print(paste0(\"     Mois fin \", (MoisDebut+NbrePeriode-1)))\n",
    "     print(paste0(\"     Mois en cours de traitement: \", mois))\n",
    "     \n",
    "     print(Sys.time())\n",
    "     \n",
    "     print(\"                      lecture\")\n",
    "\n",
    "     AggregationMensuelleTouteCategorie <- lecture_tables_aggregation(freq, Mois, RevFin, PeriodeFin, Repertoire, ConnectionSecureDB,'AGGTTECATEGORIE','AGG_MENS_TEMP')\n",
    "     print(\"Taille table d'agregation\")\n",
    "     print(dim(AggregationMensuelleTouteCategorie))\n",
    "     print(names(AggregationMensuelleTouteCategorie))\n",
    "      \n",
    "     TableIdMixte <- lecture_tables_mixte(freq, Mois, RevFin, PeriodeFin, Repertoire, ConnectionSecureDB,'AGGTTECATEGORIE','AGG_MIXTE')\n",
    "     print(dim(TableIdMixte))\n",
    "     print(names(TableIdMixte))\n",
    "     print(Sys.time())\n",
    "     \n",
    "     print(\"PARAMETRAGE CODE SERIE\") \n",
    "     \n",
    "     print(\"APPLICATION PARAMETRAGE CODE SERIE\") \n",
    "     \n",
    "     AggregationCodeSerieFinaleMensuelle <- application_plan_parametrage_aggregation_code_serie_mensuel('AGG_MENS_TEMP', 'PLANAGGPARAM', ConnectionSecureDB,'AGG_MENS')\n",
    "     print(names(AggregationCodeSerieFinaleMensuelle))\n",
    "      \n",
    "     # On ajoute la table mensuelle à la table globale finale\n",
    "     cas_append2tables(conn, 'casuser', 'AGG_MENS', 'casuser', 'AGG_FINALE')\n",
    "  }\n",
    "}"
   ]
  },
  {
   "cell_type": "markdown",
   "metadata": {},
   "source": [
    "## Definition des variables"
   ]
  },
  {
   "cell_type": "code",
   "execution_count": 63,
   "metadata": {},
   "outputs": [],
   "source": [
    "Repertoire <- \"AC156203\"\n",
    "RevFin<- \"SD10\"\n",
    "PeriodeFin <- \"2018Q4\"\n",
    "freq <- \"Q\"\n",
    "planAggregation <- table_planAggregation\n",
    "ReferencePiZones <- table_pays_zone\n",
    "ConnectionSecureDB <- conn # Connexion securisee a la session CAS"
   ]
  },
  {
   "cell_type": "code",
   "execution_count": 64,
   "metadata": {},
   "outputs": [
    {
     "name": "stdout",
     "output_type": "stream",
     "text": [
      "[1] \"ETAPE DATA: LECTURE TABLE PI_ZONE\"\n",
      "[1] \"2020-04-28 17:00:59 UTC\"\n",
      "[1] \"recuperation_traitement_table_code_pays monostream\"\n",
      "[1] \"2020-04-28 17:00:59 UTC\"\n"
     ]
    },
    {
     "name": "stderr",
     "output_type": "stream",
     "text": [
      "NOTE: Executing action 'table.fetch'.\n",
      "NOTE: Action 'table.fetch' used (Total process time):\n",
      "NOTE:       real time               0.330776 seconds\n",
      "NOTE:       cpu time                0.334142 seconds (101.02%)\n",
      "NOTE:       total nodes             5 (68 cores)\n",
      "NOTE:       total memory            510.65G\n",
      "NOTE:       memory                  21.64M (0.00%)\n",
      "Column 1 ['code_zone'] of item 2 is missing in item 1. Use fill=TRUE to fill with NA (NULL for list columns), or use.names=FALSE to ignore column names. use.names='check' (default from v1.12.2) emits this message and proceeds as if use.names=FALSE for  backwards compatibility. See news item 5 in v1.12.2 for options to control this message.\n"
     ]
    },
    {
     "name": "stdout",
     "output_type": "stream",
     "text": [
      "[1] \"end recuperation_traitement_table_code_pays monostream\"\n",
      "[1] \"2020-04-28 17:01:04 UTC\"\n",
      "[1] \" TAILLE TABLE TablePaysZone\"\n",
      "[1] 445   3\n",
      "[1] \"2020-04-28 17:01:04 UTC\"\n",
      "[1] \"LECTURE ET MISE EN FORME DES FICHIERS D'AGGREGATION CODE SERIE\"\n",
      "[1] \"2020-04-28 17:01:04 UTC\"\n",
      "[1] \"lecture_fichier_aggregation_codeSerie monostream\"\n"
     ]
    },
    {
     "name": "stderr",
     "output_type": "stream",
     "text": [
      "NOTE: Executing action 'table.fetch'.\n",
      "NOTE: Action 'table.fetch' used (Total process time):\n",
      "NOTE:       real time               0.123966 seconds\n",
      "NOTE:       cpu time                0.147667 seconds (119.12%)\n",
      "NOTE:       total nodes             5 (68 cores)\n",
      "NOTE:       total memory            510.65G\n",
      "NOTE:       memory                  27.40M (0.01%)\n"
     ]
    },
    {
     "name": "stdout",
     "output_type": "stream",
     "text": [
      "[1] \" TAILLE TABLE planAgregationCodeSerie\"\n",
      "[1] 2697    3\n",
      "[1] \"2020-04-28 17:01:07 UTC\"\n",
      "[1] \"JOINTURE PLAN D'AGGREGATION\"\n",
      "[1] \"parametrage_aggregation_code_serie monostream\"\n",
      "[1] \"2020-04-28 17:01:07 UTC\"\n",
      "[1] \"Recuperation des positions et longueur parents dans les codes\"\n",
      "[1] \"Recuperation des positions et longueur des parametres dans les codes\"\n",
      "[1] \"2020-04-28 17:01:08 UTC\"\n",
      "[1] \"Recuperation des positions et longueur des index dans les codes\"\n",
      "[1] \"2020-04-28 17:01:08 UTC\"\n",
      "[1] \"38 GB\"\n",
      "[1] \"Creation des variables cd2_, cd3_, cd1_, refsec, countsec par decoupage des codes\"\n",
      "[1] \"2020-04-28 17:01:09 UTC\"\n",
      "[1] \"Modification conditionnelle des valeurs de code entree et code sortie\"\n",
      "[1] \"2020-04-28 17:01:09 UTC\"\n",
      "[1] \"Jointure de la table AggregationTable TablePiZone\"\n",
      "[1] 7125   20\n",
      " [1] \"code_sortie\"       \"code_entree\"       \"formule\"          \n",
      " [4] \"enfants\"           \"parents\"           \"cle\"              \n",
      " [7] \"ind_\"              \"PositionEnfant\"    \"LongueurEnfant\"   \n",
      "[10] \"PositionParametre\" \"LongueurParametre\" \"PositionIndex\"    \n",
      "[13] \"LongueurIndex\"     \"cd2_\"              \"cd3_\"             \n",
      "[16] \"cd1_\"              \"refsec\"            \"countsec\"         \n",
      "[19] \"selectionLigne1\"   \"selectionLigne3\"  \n",
      "[1] \"Modification conditionelle (lorsque la cle jointure n'existe pas) de code entree et code sortie\"\n",
      "[1] \"2020-04-28 17:01:39 UTC\"\n",
      "[1] \"TAILLE TABLE PLAN AGREGATION\"\n",
      "[1] 2639427       3\n",
      "[1] \"end parametrage_aggregation_code_serie monostream\"\n",
      "[1] \"2020-04-28 17:01:39 UTC\"\n",
      "[1] \"Taille plan d'agregation\"\n",
      "[1] 2639427       3\n",
      "[1] \"code_entree\" \"code_sortie\" \"formule\"    \n"
     ]
    },
    {
     "name": "stderr",
     "output_type": "stream",
     "text": [
      "Warning message in if (class(data) == \"character\") {:\n",
      "“the condition has length > 1 and only the first element will be used”NOTE: Executing action 'table.columnInfo'.\n",
      "NOTE: Action 'table.columnInfo' used (Total process time):\n",
      "NOTE:       real time               0.008646 seconds\n",
      "NOTE:       cpu time                0.017843 seconds (206.37%)\n",
      "NOTE:       total nodes             5 (68 cores)\n",
      "NOTE:       total memory            510.65G\n",
      "NOTE:       memory                  2.52M (0.00%)\n",
      "NOTE: Executing action 'simple.numRows'.\n",
      "NOTE: Action 'simple.numRows' used (Total process time):\n",
      "NOTE:       real time               0.010599 seconds\n",
      "NOTE:       cpu time                0.019360 seconds (182.66%)\n",
      "NOTE:       total nodes             5 (68 cores)\n",
      "NOTE:       total memory            510.65G\n",
      "NOTE:       memory                  2.04M (0.00%)\n"
     ]
    },
    {
     "name": "stdout",
     "output_type": "stream",
     "text": [
      "[1] 2639427       3\n",
      "[1] \"ESTIMATION NOMBRE DE PERIODE ET DE DEBUT DE TRAITEMENT\"\n",
      "[1] \"detection_nbPeriode_moisDebut monostream\"\n",
      "[1] 201812\n",
      "[1] \"BOUCLE DU LES MOIS\"\n"
     ]
    },
    {
     "name": "stderr",
     "output_type": "stream",
     "text": [
      "NOTE: Executing action 'table.dropTable'.\n",
      "NOTE: Action 'table.dropTable' used (Total process time):\n",
      "NOTE:       real time               0.015318 seconds\n",
      "NOTE:       cpu time                0.018182 seconds (118.70%)\n",
      "NOTE:       total nodes             5 (68 cores)\n",
      "NOTE:       total memory            510.65G\n",
      "NOTE:       memory                  1.44M (0.00%)\n"
     ]
    },
    {
     "name": "stdout",
     "output_type": "stream",
     "text": [
      "[1] \"     Mois debut 201812\"\n",
      "[1] \"     Mois fin 201812\"\n",
      "[1] \"     Mois en cours de traitement: 201812\"\n",
      "[1] \"2020-04-28 17:01:52 UTC\"\n",
      "[1] \"                      lecture\"\n",
      "[1] \"lecture_tables_aggregation monostream\"\n",
      "[1] \"2020-04-28 17:01:52 UTC\"\n",
      "[1] \"38 GB\"\n",
      "[1] \"CHARGEMENT DES TABLES D'AGGREGATION, monostream\"\n",
      "[1] \"2020-04-28 17:01:52 UTC\"\n",
      "[1] \"TABLES AGREGATION LU DE LA TABLE CAS AGGTTECATEGORIE\"\n"
     ]
    },
    {
     "name": "stderr",
     "output_type": "stream",
     "text": [
      "NOTE: Executing action 'fedSql.execDirect'.\n",
      "NOTE: Table AGG_MENS_TEMP was created in caslib CASUSER(sebastien) with 157620504 rows returned.\n",
      "NOTE: Action 'fedSql.execDirect' used (Total process time):\n",
      "NOTE:       real time               11.780647 seconds\n",
      "NOTE:       cpu time                524.722302 seconds (4454.10%)\n",
      "NOTE:       total nodes             5 (68 cores)\n",
      "NOTE:       total memory            510.65G\n",
      "NOTE:       memory                  352.40M (0.07%)\n"
     ]
    },
    {
     "name": "stdout",
     "output_type": "stream",
     "text": [
      "[1] \"end lecture_tables_aggregation monostream\"\n",
      "[1] \"2020-04-28 17:02:04 UTC\"\n"
     ]
    },
    {
     "name": "stderr",
     "output_type": "stream",
     "text": [
      "NOTE: Executing action 'table.columnInfo'.\n",
      "NOTE: Action 'table.columnInfo' used (Total process time):\n",
      "NOTE:       real time               0.008240 seconds\n",
      "NOTE:       cpu time                0.016541 seconds (200.74%)\n",
      "NOTE:       total nodes             5 (68 cores)\n",
      "NOTE:       total memory            510.65G\n",
      "NOTE:       memory                  2.51M (0.00%)\n"
     ]
    },
    {
     "name": "stdout",
     "output_type": "stream",
     "text": [
      "[1] \"Taille table d'agregation\"\n"
     ]
    },
    {
     "name": "stderr",
     "output_type": "stream",
     "text": [
      "NOTE: Executing action 'simple.numRows'.\n",
      "NOTE: Action 'simple.numRows' used (Total process time):\n",
      "NOTE:       real time               0.009370 seconds\n",
      "NOTE:       cpu time                0.020601 seconds (219.86%)\n",
      "NOTE:       total nodes             5 (68 cores)\n",
      "NOTE:       total memory            510.65G\n",
      "NOTE:       memory                  2.20M (0.00%)\n"
     ]
    },
    {
     "name": "stdout",
     "output_type": "stream",
     "text": [
      "[1] 157620504        10\n",
      " [1] \"CODE\"         \"MONTANT\"      \"OBS_STATUS\"   \"CONF_STATUS\"  \"PERIODE_DEB\" \n",
      " [6] \"REVISION_DEB\" \"PERIODE_FIN\"  \"REVISION_FIN\" \"NUMERO\"       \"tablename\"   \n",
      "[1] \"lecture_tables_mixte monostream\"\n",
      "[1] \"2020-04-28 17:02:04 UTC\"\n",
      "[1] \"38 GB\"\n",
      "[1] \"end lecture_tables_mixte monostream\"\n",
      "[1] \"2020-04-28 17:02:04 UTC\"\n",
      "NULL\n",
      "NULL\n",
      "[1] \"2020-04-28 17:02:04 UTC\"\n",
      "[1] \"PARAMETRAGE CODE SERIE\"\n",
      "[1] \"APPLICATION PARAMETRAGE CODE SERIE\"\n",
      "[1] \"application_plan_parametrage_aggregation_code_serie_mensuel monostream\"\n",
      "[1] \"2020-04-28 17:02:04 UTC\"\n",
      "[1] \"2020-04-28 17:02:04 UTC\"\n",
      "[1] \"Renomage de variables et traitement d'espace dans les chaines de caratere\"\n",
      "[1] \"2020-04-28 17:02:04 UTC\"\n",
      "[1] \"Preparation de la jointure des tables PlanAggregationParametre, AggregationMensuelleTouteCategorie\"\n",
      "[1] \"2020-04-28 17:02:04 UTC\"\n",
      "[1] \"Jointure des tables PlanAggregationParametre, AggregationMensuelleTouteCategorie\"\n"
     ]
    },
    {
     "name": "stderr",
     "output_type": "stream",
     "text": [
      "NOTE: Executing action 'fedSql.execDirect'.\n",
      " \n",
      "Methods for full query plan\n",
      "----------------------------\n",
      "Number of Joins Performed is : 1\n",
      "        HashJoin (LEFT) \n",
      "          SeqScan from CASUSER(sebastien).AGG_MENS_TEMP \n",
      "          SeqScan from CASUSER(sebastien).PLANAGGPARAM \n",
      " \n",
      "Methods for stage 1\n",
      "--------------------\n",
      "        HashJoin (LEFT) \n",
      "          SeqScan from CASUSER(sebastien).AGG_MENS_TEMP \n",
      "          SeqScan from CASUSER(sebastien).PLANAGGPARAM \n",
      " \n",
      "NOTE: Table TMP_AGG was created in caslib CASUSER(sebastien) with 157704151 rows returned.\n",
      "NOTE: Action 'fedSql.execDirect' used (Total process time):\n",
      "NOTE:       real time               47.698715 seconds\n",
      "NOTE:       cpu time                1733.856002 seconds (3635.02%)\n",
      "NOTE:       data movement time      0.944304 seconds\n",
      "NOTE:       total nodes             5 (68 cores)\n",
      "NOTE:       total memory            510.65G\n",
      "NOTE:       memory                  9.92G (1.94%)\n",
      "NOTE:       bytes moved             596.02M\n"
     ]
    },
    {
     "name": "stdout",
     "output_type": "stream",
     "text": [
      "[1] \"Taille de la jointure\"\n",
      "[1] \"2020-04-28 17:02:52 UTC\"\n",
      "[1] \"Calcul des montants ponderes cumules par code_sortie\"\n"
     ]
    },
    {
     "name": "stderr",
     "output_type": "stream",
     "text": [
      "NOTE: Executing action 'aggregation.aggregate'.\n",
      "NOTE: Action 'aggregation.aggregate' used (Total process time):\n",
      "NOTE:       real time               212.921671 seconds\n",
      "NOTE:       cpu time                2124.034947 seconds (997.57%)\n",
      "NOTE:       total nodes             5 (68 cores)\n",
      "NOTE:       total memory            510.65G\n",
      "NOTE:       memory                  113.26G (22.18%)\n",
      "NOTE: Executing action 'table.columnInfo'.\n",
      "NOTE: Action 'table.columnInfo' used (Total process time):\n",
      "NOTE:       real time               0.022728 seconds\n",
      "NOTE:       cpu time                0.020221 seconds (88.97%)\n",
      "NOTE:       total nodes             5 (68 cores)\n",
      "NOTE:       total memory            510.65G\n",
      "NOTE:       memory                  2.49M (0.00%)\n"
     ]
    },
    {
     "name": "stdout",
     "output_type": "stream",
     "text": [
      "[1] \" TAILLE TABLE CalculAggregationCodeSerieMensuel\"\n"
     ]
    },
    {
     "name": "stderr",
     "output_type": "stream",
     "text": [
      "NOTE: Executing action 'simple.numRows'.\n",
      "NOTE: Action 'simple.numRows' used (Total process time):\n",
      "NOTE:       real time               0.012906 seconds\n",
      "NOTE:       cpu time                0.025184 seconds (195.13%)\n",
      "NOTE:       total nodes             5 (68 cores)\n",
      "NOTE:       total memory            510.65G\n",
      "NOTE:       memory                  2.18M (0.00%)\n"
     ]
    },
    {
     "name": "stdout",
     "output_type": "stream",
     "text": [
      "[1] 3536105       8\n",
      "[1] \"2020-04-28 17:06:25 UTC\"\n",
      "[1] \"CODE\"         \"CONF_STATUS\"  \"OBS_STATUS\"   \"PERIODE_DEB\"  \"PERIODE_FIN\" \n",
      "[6] \"REVISION_DEB\" \"REVISION_FIN\" \"MONTANT\"     \n"
     ]
    },
    {
     "name": "stderr",
     "output_type": "stream",
     "text": [
      "NOTE: Executing action 'dataStep.runCode'.\n",
      "NOTE: Action 'dataStep.runCode' used (Total process time):\n",
      "NOTE:       real time               0.262697 seconds\n",
      "NOTE:       cpu time                7.323621 seconds (2787.86%)\n",
      "NOTE:       total nodes             5 (68 cores)\n",
      "NOTE:       total memory            510.65G\n",
      "NOTE:       memory                  215.46M (0.04%)\n"
     ]
    }
   ],
   "source": [
    "traitement_principal(freq, RevFin, PeriodeFin, planAggregation,ReferencePiZones, Repertoire, ConnectionSecureDB)"
   ]
  },
  {
   "cell_type": "code",
   "execution_count": 67,
   "metadata": {},
   "outputs": [
    {
     "name": "stderr",
     "output_type": "stream",
     "text": [
      "NOTE: Executing action 'table.dropTable'.\n",
      "NOTE: Action 'table.dropTable' used (Total process time):\n",
      "NOTE:       real time               0.020749 seconds\n",
      "NOTE:       cpu time                0.022945 seconds (110.58%)\n",
      "NOTE:       total nodes             5 (68 cores)\n",
      "NOTE:       total memory            510.65G\n",
      "NOTE:       memory                  1.40M (0.00%)\n"
     ]
    },
    {
     "data": {
      "text/html": [
       "<ol>\n",
       "</ol>\n"
      ],
      "text/latex": [
       "\\begin{enumerate}\n",
       "\\end{enumerate}\n"
      ],
      "text/markdown": [
       "\n",
       "\n"
      ],
      "text/plain": [
       "list()"
      ]
     },
     "metadata": {},
     "output_type": "display_data"
    },
    {
     "name": "stderr",
     "output_type": "stream",
     "text": [
      "NOTE: Executing action 'table.promote'.\n",
      "ERROR: There is no session-scope table AGG_FINALE in caslib CASUSER(sebastien) of Cloud Analytic Services.\n",
      "ERROR: The action stopped due to errors.\n",
      "NOTE: Action 'table.promote' used (Total process time):\n",
      "NOTE:       real time               0.009480 seconds\n",
      "NOTE:       cpu time                0.016041 seconds (169.21%)\n",
      "NOTE:       total nodes             5 (68 cores)\n",
      "NOTE:       total memory            510.65G\n",
      "NOTE:       memory                  1.40M (0.00%)\n"
     ]
    },
    {
     "data": {
      "text/html": [
       "<ol>\n",
       "</ol>\n"
      ],
      "text/latex": [
       "\\begin{enumerate}\n",
       "\\end{enumerate}\n"
      ],
      "text/markdown": [
       "\n",
       "\n"
      ],
      "text/plain": [
       "list()"
      ]
     },
     "metadata": {},
     "output_type": "display_data"
    },
    {
     "name": "stderr",
     "output_type": "stream",
     "text": [
      "NOTE: Executing action 'table.loadTable'.\n",
      "ERROR: The file or path 'AGG_FINALE' is not available in the file system.\n",
      "NOTE: Action 'table.loadTable' used (Total process time):\n",
      "NOTE:       real time               0.024050 seconds\n",
      "NOTE:       cpu time                0.044555 seconds (185.26%)\n",
      "NOTE:       total nodes             5 (68 cores)\n",
      "NOTE:       total memory            510.65G\n",
      "NOTE:       memory                  3.46M (0.00%)\n",
      "NOTE: Executing action 'table.save'.\n",
      "ERROR: Table 'AGG_FINALE' could not be loaded.\n",
      "ERROR: Failure opening table 'AGG_FINALE': A table could not be loaded.\n",
      "ERROR: The action stopped due to errors.\n",
      "NOTE: Action 'table.save' used (Total process time):\n",
      "NOTE:       real time               0.000209 seconds\n",
      "NOTE:       cpu time                845.400366 seconds (404497782.78%)\n",
      "NOTE:       total nodes             5 (4 cores)\n",
      "NOTE:       total memory            39.14G\n",
      "NOTE:       memory                  0.00K (0.00%)\n"
     ]
    },
    {
     "data": {
      "text/html": [
       "<ol>\n",
       "</ol>\n"
      ],
      "text/latex": [
       "\\begin{enumerate}\n",
       "\\end{enumerate}\n"
      ],
      "text/markdown": [
       "\n",
       "\n"
      ],
      "text/plain": [
       "list()"
      ]
     },
     "metadata": {},
     "output_type": "display_data"
    }
   ],
   "source": [
    "# Promotion en memoire pour les utilisateurs et sauvegarde sur disque de la table resultante\n",
    "cas.table.dropTable(ConnectionSecureDB,name='AGG_FINALE',caslib='DNFS_BDF',quiet=TRUE)\n",
    "cas.table.promote(ConnectionSecureDB,caslib='casuser',name='AGG_FINALE',target='AGG_FINALE',targetLib='DNFS_BDF')\n",
    "cas.table.save(ConnectionSecureDB,table=list(name='AGG_FINALE',caslib=\"DNFS_BDF\") , caslib=\"DNFS_BDF\", name=\"AGG_FINALE.parquet\", replace=TRUE)"
   ]
  },
  {
   "cell_type": "code",
   "execution_count": 66,
   "metadata": {},
   "outputs": [
    {
     "name": "stderr",
     "output_type": "stream",
     "text": [
      "NOTE: Executing action 'table.dropTable'.\n",
      "NOTE: Action 'table.dropTable' used (Total process time):\n",
      "NOTE:       real time               3.391648 seconds\n",
      "NOTE:       cpu time                0.019788 seconds (0.58%)\n",
      "NOTE:       total nodes             5 (68 cores)\n",
      "NOTE:       total memory            510.65G\n",
      "NOTE:       memory                  1.40M (0.00%)\n"
     ]
    },
    {
     "data": {
      "text/html": [
       "<ol>\n",
       "</ol>\n"
      ],
      "text/latex": [
       "\\begin{enumerate}\n",
       "\\end{enumerate}\n"
      ],
      "text/markdown": [
       "\n",
       "\n"
      ],
      "text/plain": [
       "list()"
      ]
     },
     "metadata": {},
     "output_type": "display_data"
    },
    {
     "name": "stderr",
     "output_type": "stream",
     "text": [
      "NOTE: Executing action 'table.promote'.\n",
      "NOTE: Cloud Analytic Services promoted table TMP_AGG in caslib CASUSER(sebastien) to table TMP_AGG in caslib DNFS_BDF.\n",
      "NOTE: Action 'table.promote' used (Total process time):\n",
      "NOTE:       real time               0.400056 seconds\n",
      "NOTE:       cpu time                1.371431 seconds (342.81%)\n",
      "NOTE:       total nodes             5 (68 cores)\n",
      "NOTE:       total memory            510.65G\n",
      "NOTE:       memory                  3.40M (0.00%)\n"
     ]
    },
    {
     "data": {
      "text/html": [
       "<ol>\n",
       "</ol>\n"
      ],
      "text/latex": [
       "\\begin{enumerate}\n",
       "\\end{enumerate}\n"
      ],
      "text/markdown": [
       "\n",
       "\n"
      ],
      "text/plain": [
       "list()"
      ]
     },
     "metadata": {},
     "output_type": "display_data"
    },
    {
     "name": "stderr",
     "output_type": "stream",
     "text": [
      "NOTE: Executing action 'table.save'.\n",
      "NOTE: Cloud Analytic Services saved the file TMP_AGG.parquet in caslib DNFS_BDF.\n",
      "NOTE: Action 'table.save' used (Total process time):\n",
      "NOTE:       real time               210.665959 seconds\n",
      "NOTE:       cpu time                299.327642 seconds (142.09%)\n",
      "NOTE:       total nodes             5 (68 cores)\n",
      "NOTE:       total memory            510.65G\n",
      "NOTE:       memory                  3.34G (0.65%)\n"
     ]
    },
    {
     "data": {
      "text/html": [
       "<dl>\n",
       "\t<dt>$caslib</dt>\n",
       "\t\t<dd>'DNFS_BDF'</dd>\n",
       "\t<dt>$name</dt>\n",
       "\t\t<dd>'TMP_AGG.parquet'</dd>\n",
       "</dl>\n"
      ],
      "text/latex": [
       "\\begin{description}\n",
       "\\item[\\$caslib] 'DNFS\\_BDF'\n",
       "\\item[\\$name] 'TMP\\_AGG.parquet'\n",
       "\\end{description}\n"
      ],
      "text/markdown": [
       "$caslib\n",
       ":   'DNFS_BDF'\n",
       "$name\n",
       ":   'TMP_AGG.parquet'\n",
       "\n",
       "\n"
      ],
      "text/plain": [
       "$caslib\n",
       "[1] \"DNFS_BDF\"\n",
       "\n",
       "$name\n",
       "[1] \"TMP_AGG.parquet\"\n"
      ]
     },
     "metadata": {},
     "output_type": "display_data"
    },
    {
     "name": "stdout",
     "output_type": "stream",
     "text": [
      "Time difference of 21.73624 mins\n"
     ]
    }
   ],
   "source": [
    "cas.table.dropTable(ConnectionSecureDB,name='TMP_AGG',caslib='DNFS_BDF',quiet=TRUE)\n",
    "cas.table.promote(ConnectionSecureDB,caslib='casuser',name='TMP_AGG',target='TMP_AGG',targetLib='DNFS_BDF')\n",
    "cas.table.save(ConnectionSecureDB,table=list(name='TMP_AGG',caslib=\"DNFS_BDF\"),  caslib=\"DNFS_BDF\", name=\"TMP_AGG.parquet\", replace=TRUE)\n",
    "\n",
    "Duree <- Sys.time() - HeureDebut\n",
    "\n",
    "print(Duree)"
   ]
  },
  {
   "cell_type": "code",
   "execution_count": 68,
   "metadata": {},
   "outputs": [
    {
     "data": {
      "text/html": [
       "0"
      ],
      "text/latex": [
       "0"
      ],
      "text/markdown": [
       "0"
      ],
      "text/plain": [
       "[1] 0"
      ]
     },
     "metadata": {},
     "output_type": "display_data"
    }
   ],
   "source": [
    "# Ferme la session SAS Viya en cours\n",
    "cas.terminate(conn)"
   ]
  },
  {
   "cell_type": "markdown",
   "metadata": {
    "jupyter": {
     "outputs_hidden": true
    }
   },
   "source": [
    "# Fin du notebook"
   ]
  }
 ],
 "metadata": {
  "kernelspec": {
   "display_name": "R",
   "language": "R",
   "name": "ir"
  },
  "language_info": {
   "codemirror_mode": "r",
   "file_extension": ".r",
   "mimetype": "text/x-r-source",
   "name": "R",
   "pygments_lexer": "r",
   "version": "3.6.1"
  }
 },
 "nbformat": 4,
 "nbformat_minor": 4
}
