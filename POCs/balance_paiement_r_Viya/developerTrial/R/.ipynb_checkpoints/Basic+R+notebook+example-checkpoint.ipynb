{
 "cells": [
  {
   "cell_type": "markdown",
   "metadata": {},
   "source": [
    "# Overview\n",
    "This is a simple end to end example of how you can use SAS Viya for analysis\n",
    "The example follows these steps:\n",
    "1. Importing the needed R packages\n",
    "1. Starting a CAS session on an already running CAS server\n",
    "1. Load the needed CAS Action Sets\n",
    "1. Loading data from the local file system to the CAS server\n",
    "1. Explore the data\n",
    "1. Impute missing values\n",
    "1. Partition the data into training and validation partitions\n",
    "1. Build a decision tree\n",
    "1. Build a neural network\n",
    "1. Build a decision forest\n",
    "1. Build a gradient boost\n",
    "1. Assess the models\n",
    "1. Build ROC charts"
   ]
  },
  {
   "cell_type": "markdown",
   "metadata": {},
   "source": [
    "# Set Up the R Notebook for Analysis\n",
    "\n",
    "\n",
    "## Documentation Links:\n",
    "* [SAS® Viya™ 3.5: System Programming Guide](https://go.documentation.sas.com/?docsetId=caspg&docsetTarget=titlepage.htm&docsetVersion=3.5&locale=en)\n",
    "* [Getting Started with SAS® Viya™ 3.5 for R](https://go.documentation.sas.com/?docsetId=caspg3r&docsetTarget=titlepage.htm&docsetVersion=3.5&locale=en)\n",
    "\n",
    "Load the needed packages to complete analysis"
   ]
  },
  {
   "cell_type": "code",
   "execution_count": 7,
   "metadata": {
    "collapsed": false,
    "jupyter": {
     "outputs_hidden": false
    }
   },
   "outputs": [
    {
     "name": "stderr",
     "output_type": "stream",
     "text": [
      "\n",
      "Attaching package: ‘dplyr’\n",
      "\n",
      "The following objects are masked from ‘package:stats’:\n",
      "\n",
      "    filter, lag\n",
      "\n",
      "The following objects are masked from ‘package:base’:\n",
      "\n",
      "    intersect, setdiff, setequal, union\n",
      "\n"
     ]
    }
   ],
   "source": [
    "# Load necessary packages\n",
    "library('swat')\n",
    "library('ggplot2')\n",
    "library('reshape2')\n",
    "library('dplyr')\n",
    "options(cas.print.messages = FALSE)"
   ]
  },
  {
   "cell_type": "markdown",
   "metadata": {},
   "source": [
    "# Connect to CAS\n",
    "\n",
    "* Documentation to [Connect and Start a Session](http://go.documentation.sas.com/?cdcId=vdmmlcdc&cdcVersion=8.11&docsetId=caspg3r&docsetTarget=p0paczu3x2qu0wn1p94ees7y5ls8.htm&locale=en)\n",
    "\n",
    "This is the simpliest way to connect to CAS for more details see the [documentation] "
   ]
  },
  {
   "cell_type": "code",
   "execution_count": 8,
   "metadata": {
    "collapsed": false,
    "jupyter": {
     "outputs_hidden": false
    }
   },
   "outputs": [
    {
     "name": "stderr",
     "output_type": "stream",
     "text": [
      "NOTE: Connecting to CAS and generating CAS action functions for loaded\n",
      "      action sets...\n",
      "NOTE: To generate the functions with signatures (for tab completion), set \n",
      "      options(cas.gen.function.sig=TRUE).\n"
     ]
    }
   ],
   "source": [
    "Sys.setenv(CAS_CLIENT_SSL_CA_LIST = \"/opt/sas/viya/config/etc/SASSecurityCertificateFramework/cacerts/trustedcerts.pem\")\n",
    "conn <- CAS('controller', 5570)"
   ]
  },
  {
   "cell_type": "markdown",
   "metadata": {},
   "source": [
    "# Load Actionsets\n",
    "\n",
    "* Documentation for [How to Run Actions](http://go.documentation.sas.com/?cdcId=vdmmlcdc&cdcVersion=8.11&docsetId=caspg3r&docsetTarget=p11zy53gvlofvsn1glguw9vuuhru.htm&locale=en)"
   ]
  },
  {
   "cell_type": "code",
   "execution_count": 9,
   "metadata": {
    "collapsed": false,
    "jupyter": {
     "outputs_hidden": false
    }
   },
   "outputs": [],
   "source": [
    "actionsets <- c('sampling', 'fedsql', 'decisionTree', 'neuralNet', 'percentile')\n",
    "for(i in actionsets){\n",
    "    loadActionSet(conn, i)\n",
    "}"
   ]
  },
  {
   "cell_type": "markdown",
   "metadata": {},
   "source": [
    "# Load data from CSV\n",
    "For this trial you cannot add files to the system"
   ]
  },
  {
   "cell_type": "code",
   "execution_count": 10,
   "metadata": {
    "collapsed": false,
    "jupyter": {
     "outputs_hidden": false
    }
   },
   "outputs": [],
   "source": [
    "castbl <- cas.read.csv(conn, 'http://support.sas.com/documentation/onlinedoc/viya/exampledatasets/hmeq.csv')"
   ]
  },
  {
   "cell_type": "markdown",
   "metadata": {},
   "source": [
    "# Explore the data"
   ]
  },
  {
   "cell_type": "code",
   "execution_count": 11,
   "metadata": {
    "collapsed": false,
    "jupyter": {
     "outputs_hidden": false
    }
   },
   "outputs": [
    {
     "data": {
      "text/html": [
       "<table>\n",
       "<thead><tr><th scope=col>BAD</th><th scope=col>LOAN</th><th scope=col>MORTDUE</th><th scope=col>VALUE</th><th scope=col>REASON</th><th scope=col>JOB</th><th scope=col>YOJ</th><th scope=col>DEROG</th><th scope=col>DELINQ</th><th scope=col>CLAGE</th><th scope=col>NINQ</th><th scope=col>CLNO</th><th scope=col>DEBTINC</th></tr></thead>\n",
       "<tbody>\n",
       "\t<tr><td>1        </td><td>1100     </td><td>25860    </td><td> 39025   </td><td>HomeImp  </td><td>Other    </td><td>10.5     </td><td>  0      </td><td>  0      </td><td> 94.36667</td><td>  1      </td><td>  9      </td><td>     NaN </td></tr>\n",
       "\t<tr><td>1        </td><td>1300     </td><td>70053    </td><td> 68400   </td><td>HomeImp  </td><td>Other    </td><td> 7.0     </td><td>  0      </td><td>  2      </td><td>121.83333</td><td>  0      </td><td> 14      </td><td>     NaN </td></tr>\n",
       "\t<tr><td>1        </td><td>1500     </td><td>13500    </td><td> 16700   </td><td>HomeImp  </td><td>Other    </td><td> 4.0     </td><td>  0      </td><td>  0      </td><td>149.46667</td><td>  1      </td><td> 10      </td><td>     NaN </td></tr>\n",
       "\t<tr><td>1        </td><td>1500     </td><td>  NaN    </td><td>   NaN   </td><td>         </td><td>         </td><td> NaN     </td><td>NaN      </td><td>NaN      </td><td>      NaN</td><td>NaN      </td><td>NaN      </td><td>     NaN </td></tr>\n",
       "\t<tr><td>0        </td><td>1700     </td><td>97800    </td><td>112000   </td><td>HomeImp  </td><td>Office   </td><td> 3.0     </td><td>  0      </td><td>  0      </td><td> 93.33333</td><td>  0      </td><td> 14      </td><td>     NaN </td></tr>\n",
       "\t<tr><td>1        </td><td>1700     </td><td>30548    </td><td> 40320   </td><td>HomeImp  </td><td>Other    </td><td> 9.0     </td><td>  0      </td><td>  0      </td><td>101.46600</td><td>  1      </td><td>  8      </td><td>37.11361 </td></tr>\n",
       "</tbody>\n",
       "</table>\n"
      ],
      "text/latex": [
       "\\begin{tabular}{r|lllllllllllll}\n",
       " BAD & LOAN & MORTDUE & VALUE & REASON & JOB & YOJ & DEROG & DELINQ & CLAGE & NINQ & CLNO & DEBTINC\\\\\n",
       "\\hline\n",
       "\t 1         & 1100      & 25860     &  39025    & HomeImp   & Other     & 10.5      &   0       &   0       &  94.36667 &   1       &   9       &      NaN \\\\\n",
       "\t 1         & 1300      & 70053     &  68400    & HomeImp   & Other     &  7.0      &   0       &   2       & 121.83333 &   0       &  14       &      NaN \\\\\n",
       "\t 1         & 1500      & 13500     &  16700    & HomeImp   & Other     &  4.0      &   0       &   0       & 149.46667 &   1       &  10       &      NaN \\\\\n",
       "\t 1         & 1500      &   NaN     &    NaN    &           &           &  NaN      & NaN       & NaN       &       NaN & NaN       & NaN       &      NaN \\\\\n",
       "\t 0         & 1700      & 97800     & 112000    & HomeImp   & Office    &  3.0      &   0       &   0       &  93.33333 &   0       &  14       &      NaN \\\\\n",
       "\t 1         & 1700      & 30548     &  40320    & HomeImp   & Other     &  9.0      &   0       &   0       & 101.46600 &   1       &   8       & 37.11361 \\\\\n",
       "\\end{tabular}\n"
      ],
      "text/markdown": [
       "\n",
       "| BAD | LOAN | MORTDUE | VALUE | REASON | JOB | YOJ | DEROG | DELINQ | CLAGE | NINQ | CLNO | DEBTINC |\n",
       "|---|---|---|---|---|---|---|---|---|---|---|---|---|\n",
       "| 1         | 1100      | 25860     |  39025    | HomeImp   | Other     | 10.5      |   0       |   0       |  94.36667 |   1       |   9       |      NaN  |\n",
       "| 1         | 1300      | 70053     |  68400    | HomeImp   | Other     |  7.0      |   0       |   2       | 121.83333 |   0       |  14       |      NaN  |\n",
       "| 1         | 1500      | 13500     |  16700    | HomeImp   | Other     |  4.0      |   0       |   0       | 149.46667 |   1       |  10       |      NaN  |\n",
       "| 1         | 1500      |   NaN     |    NaN    |           |           |  NaN      | NaN       | NaN       |       NaN | NaN       | NaN       |      NaN  |\n",
       "| 0         | 1700      | 97800     | 112000    | HomeImp   | Office    |  3.0      |   0       |   0       |  93.33333 |   0       |  14       |      NaN  |\n",
       "| 1         | 1700      | 30548     |  40320    | HomeImp   | Other     |  9.0      |   0       |   0       | 101.46600 |   1       |   8       | 37.11361  |\n",
       "\n"
      ],
      "text/plain": [
       "  BAD LOAN MORTDUE VALUE  REASON  JOB    YOJ  DEROG DELINQ CLAGE     NINQ CLNO\n",
       "1 1   1100 25860    39025 HomeImp Other  10.5   0     0     94.36667   1    9 \n",
       "2 1   1300 70053    68400 HomeImp Other   7.0   0     2    121.83333   0   14 \n",
       "3 1   1500 13500    16700 HomeImp Other   4.0   0     0    149.46667   1   10 \n",
       "4 1   1500   NaN      NaN                 NaN NaN   NaN          NaN NaN  NaN \n",
       "5 0   1700 97800   112000 HomeImp Office  3.0   0     0     93.33333   0   14 \n",
       "6 1   1700 30548    40320 HomeImp Other   9.0   0     0    101.46600   1    8 \n",
       "  DEBTINC \n",
       "1      NaN\n",
       "2      NaN\n",
       "3      NaN\n",
       "4      NaN\n",
       "5      NaN\n",
       "6 37.11361"
      ]
     },
     "metadata": {},
     "output_type": "display_data"
    }
   ],
   "source": [
    "head(castbl)"
   ]
  },
  {
   "cell_type": "code",
   "execution_count": 12,
   "metadata": {
    "collapsed": false,
    "jupyter": {
     "outputs_hidden": false
    }
   },
   "outputs": [
    {
     "name": "stderr",
     "output_type": "stream",
     "text": [
      "Selecting by Frequency\n"
     ]
    },
    {
     "data": {
      "text/plain": [
       "      BAD              LOAN          MORTDUE           VALUE       \n",
       " Min.   :0.0000   Min.   : 1100   Min.   :  2063   Min.   :  8000  \n",
       " 1st Qu.:0.0000   1st Qu.:11100   1st Qu.: 46268   1st Qu.: 66069  \n",
       " Median :0.0000   Median :16300   Median : 65019   Median : 89236  \n",
       " Mean   :0.1995   Mean   :18608   Mean   : 73761   Mean   :101776  \n",
       " 3rd Qu.:0.0000   3rd Qu.:23300   3rd Qu.: 91491   3rd Qu.:119832  \n",
       " Max.   :1.0000   Max.   :89900   Max.   :399550   Max.   :855909  \n",
       "                                  NA's   :   518   NA's   :   112  \n",
       "     REASON          JOB            YOJ              DEROG         \n",
       " DebtCon:3928   Other  :2388   Min.   :  0.000   Min.   :  0.0000  \n",
       " HomeImp:1780   ProfExe:1276   1st Qu.:  3.000   1st Qu.:  0.0000  \n",
       " NA's   : 252   Office : 948   Median :  7.000   Median :  0.0000  \n",
       "                Mgr    : 767   Mean   :  8.922   Mean   :  0.2546  \n",
       "                Self   : 193   3rd Qu.: 13.000   3rd Qu.:  0.0000  \n",
       "                NA's   : 279   Max.   : 41.000   Max.   : 10.0000  \n",
       "                               NA's   :515.000   NA's   :708.0000  \n",
       "     DELINQ             CLAGE             NINQ              CLNO      \n",
       " Min.   :  0.0000   Min.   :   0.0   Min.   :  0.000   Min.   :  0.0  \n",
       " 1st Qu.:  0.0000   1st Qu.: 115.1   1st Qu.:  0.000   1st Qu.: 15.0  \n",
       " Median :  0.0000   Median : 173.5   Median :  1.000   Median : 20.0  \n",
       " Mean   :  0.4494   Mean   : 179.8   Mean   :  1.186   Mean   : 21.3  \n",
       " 3rd Qu.:  0.0000   3rd Qu.: 231.6   3rd Qu.:  2.000   3rd Qu.: 26.0  \n",
       " Max.   : 15.0000   Max.   :1168.2   Max.   : 17.000   Max.   : 71.0  \n",
       " NA's   :580.0000   NA's   : 308.0   NA's   :510.000   NA's   :222.0  \n",
       "    DEBTINC         \n",
       " Min.   :   0.5245  \n",
       " 1st Qu.:  29.1400  \n",
       " Median :  34.8183  \n",
       " Mean   :  33.7799  \n",
       " 3rd Qu.:  39.0031  \n",
       " Max.   : 203.3121  \n",
       " NA's   :1267.0000  "
      ]
     },
     "metadata": {},
     "output_type": "display_data"
    }
   ],
   "source": [
    "summary(castbl)"
   ]
  },
  {
   "cell_type": "markdown",
   "metadata": {},
   "source": [
    "## Visualize Numeric Variables"
   ]
  },
  {
   "cell_type": "code",
   "execution_count": 13,
   "metadata": {
    "collapsed": false,
    "jupyter": {
     "outputs_hidden": false
    }
   },
   "outputs": [
    {
     "name": "stderr",
     "output_type": "stream",
     "text": [
      "Warning message:\n",
      "“Removed 4740 rows containing non-finite values (stat_bin).”"
     ]
    },
    {
     "data": {
      "image/png": "[encoded data removed]",
      "text/plain": [
       "plot without title"
      ]
     },
     "metadata": {},
     "output_type": "display_data"
    }
   ],
   "source": [
    "# Bring data locally\n",
    "df <- to.casDataFrame(castbl, obs = nrow(castbl))\n",
    "# Use reshape2's melt to help with data formatting\n",
    "d <- melt(df[sapply(df, is.numeric)], id.vars=NULL)\n",
    "ggplot(d, aes(x = value)) +\n",
    "    facet_wrap(~variable,scales = 'free_x') +\n",
    "    geom_histogram(fill = 'blue', bins = 25)"
   ]
  },
  {
   "cell_type": "markdown",
   "metadata": {},
   "source": [
    "## Count Missing Values"
   ]
  },
  {
   "cell_type": "code",
   "execution_count": 14,
   "metadata": {
    "collapsed": false,
    "jupyter": {
     "outputs_hidden": false
    }
   },
   "outputs": [
    {
     "data": {
      "text/html": [
       "<table>\n",
       "<thead><tr><th scope=col>Column</th><th scope=col>NMiss</th></tr></thead>\n",
       "<tbody>\n",
       "\t<tr><td>BAD    </td><td>   0   </td></tr>\n",
       "\t<tr><td>LOAN   </td><td>   0   </td></tr>\n",
       "\t<tr><td>MORTDUE</td><td> 518   </td></tr>\n",
       "\t<tr><td>VALUE  </td><td> 112   </td></tr>\n",
       "\t<tr><td>REASON </td><td> 252   </td></tr>\n",
       "\t<tr><td>JOB    </td><td> 279   </td></tr>\n",
       "\t<tr><td>YOJ    </td><td> 515   </td></tr>\n",
       "\t<tr><td>DEROG  </td><td> 708   </td></tr>\n",
       "\t<tr><td>DELINQ </td><td> 580   </td></tr>\n",
       "\t<tr><td>CLAGE  </td><td> 308   </td></tr>\n",
       "\t<tr><td>NINQ   </td><td> 510   </td></tr>\n",
       "\t<tr><td>CLNO   </td><td> 222   </td></tr>\n",
       "\t<tr><td>DEBTINC</td><td>1267   </td></tr>\n",
       "</tbody>\n",
       "</table>\n"
      ],
      "text/latex": [
       "\\begin{tabular}{r|ll}\n",
       " Column & NMiss\\\\\n",
       "\\hline\n",
       "\t BAD     &    0   \\\\\n",
       "\t LOAN    &    0   \\\\\n",
       "\t MORTDUE &  518   \\\\\n",
       "\t VALUE   &  112   \\\\\n",
       "\t REASON  &  252   \\\\\n",
       "\t JOB     &  279   \\\\\n",
       "\t YOJ     &  515   \\\\\n",
       "\t DEROG   &  708   \\\\\n",
       "\t DELINQ  &  580   \\\\\n",
       "\t CLAGE   &  308   \\\\\n",
       "\t NINQ    &  510   \\\\\n",
       "\t CLNO    &  222   \\\\\n",
       "\t DEBTINC & 1267   \\\\\n",
       "\\end{tabular}\n"
      ],
      "text/markdown": [
       "\n",
       "| Column | NMiss |\n",
       "|---|---|\n",
       "| BAD     |    0    |\n",
       "| LOAN    |    0    |\n",
       "| MORTDUE |  518    |\n",
       "| VALUE   |  112    |\n",
       "| REASON  |  252    |\n",
       "| JOB     |  279    |\n",
       "| YOJ     |  515    |\n",
       "| DEROG   |  708    |\n",
       "| DELINQ  |  580    |\n",
       "| CLAGE   |  308    |\n",
       "| NINQ    |  510    |\n",
       "| CLNO    |  222    |\n",
       "| DEBTINC | 1267    |\n",
       "\n"
      ],
      "text/plain": [
       "   Column  NMiss\n",
       "1  BAD        0 \n",
       "2  LOAN       0 \n",
       "3  MORTDUE  518 \n",
       "4  VALUE    112 \n",
       "5  REASON   252 \n",
       "6  JOB      279 \n",
       "7  YOJ      515 \n",
       "8  DEROG    708 \n",
       "9  DELINQ   580 \n",
       "10 CLAGE    308 \n",
       "11 NINQ     510 \n",
       "12 CLNO     222 \n",
       "13 DEBTINC 1267 "
      ]
     },
     "metadata": {},
     "output_type": "display_data"
    }
   ],
   "source": [
    "# Get the number of missing values for all variables\n",
    "tbl <- cas.simple.distinct(castbl)$Distinct[,c('Column', 'NMiss')]\n",
    "tbl\n"
   ]
  },
  {
   "cell_type": "code",
   "execution_count": 15,
   "metadata": {
    "collapsed": false,
    "jupyter": {
     "outputs_hidden": false
    }
   },
   "outputs": [
    {
     "data": {
      "text/html": [
       "<dl class=dl-horizontal>\n",
       "\t<dt>BAD</dt>\n",
       "\t\t<dd>0</dd>\n",
       "\t<dt>LOAN</dt>\n",
       "\t\t<dd>0</dd>\n",
       "\t<dt>MORTDUE</dt>\n",
       "\t\t<dd>518</dd>\n",
       "\t<dt>VALUE</dt>\n",
       "\t\t<dd>112</dd>\n",
       "\t<dt>YOJ</dt>\n",
       "\t\t<dd>515</dd>\n",
       "\t<dt>DEROG</dt>\n",
       "\t\t<dd>708</dd>\n",
       "\t<dt>DELINQ</dt>\n",
       "\t\t<dd>580</dd>\n",
       "\t<dt>CLAGE</dt>\n",
       "\t\t<dd>308</dd>\n",
       "\t<dt>NINQ</dt>\n",
       "\t\t<dd>510</dd>\n",
       "\t<dt>CLNO</dt>\n",
       "\t\t<dd>222</dd>\n",
       "\t<dt>DEBTINC</dt>\n",
       "\t\t<dd>1267</dd>\n",
       "</dl>\n"
      ],
      "text/latex": [
       "\\begin{description*}\n",
       "\\item[BAD] 0\n",
       "\\item[LOAN] 0\n",
       "\\item[MORTDUE] 518\n",
       "\\item[VALUE] 112\n",
       "\\item[YOJ] 515\n",
       "\\item[DEROG] 708\n",
       "\\item[DELINQ] 580\n",
       "\\item[CLAGE] 308\n",
       "\\item[NINQ] 510\n",
       "\\item[CLNO] 222\n",
       "\\item[DEBTINC] 1267\n",
       "\\end{description*}\n"
      ],
      "text/markdown": [
       "BAD\n",
       ":   0LOAN\n",
       ":   0MORTDUE\n",
       ":   518VALUE\n",
       ":   112YOJ\n",
       ":   515DEROG\n",
       ":   708DELINQ\n",
       ":   580CLAGE\n",
       ":   308NINQ\n",
       ":   510CLNO\n",
       ":   222DEBTINC\n",
       ":   1267\n",
       "\n"
      ],
      "text/plain": [
       "    BAD    LOAN MORTDUE   VALUE     YOJ   DEROG  DELINQ   CLAGE    NINQ    CLNO \n",
       "      0       0     518     112     515     708     580     308     510     222 \n",
       "DEBTINC \n",
       "   1267 "
      ]
     },
     "metadata": {},
     "output_type": "display_data"
    }
   ],
   "source": [
    "# Easy way to get missing values for numeric variables\n",
    "cas.nmiss(castbl)"
   ]
  },
  {
   "cell_type": "code",
   "execution_count": 16,
   "metadata": {
    "collapsed": false,
    "jupyter": {
     "outputs_hidden": false
    }
   },
   "outputs": [
    {
     "data": {
      "image/png": "[encoded data removed]",
      "text/plain": [
       "plot without title"
      ]
     },
     "metadata": {},
     "output_type": "display_data"
    }
   ],
   "source": [
    "# Visualize the missing data\n",
    "tbl$PctMiss <- tbl$NMiss/nrow(castbl)\n",
    "ggplot(tbl, aes(Column, PctMiss)) +\n",
    "    geom_col(fill = 'blue') +\n",
    "    ggtitle('Pct Missing Values') +\n",
    "    theme(plot.title = element_text(hjust = 0.5))"
   ]
  },
  {
   "cell_type": "markdown",
   "metadata": {},
   "source": [
    "# Impute Missing Values"
   ]
  },
  {
   "cell_type": "code",
   "execution_count": 17,
   "metadata": {
    "collapsed": false,
    "jupyter": {
     "outputs_hidden": false
    }
   },
   "outputs": [
    {
     "data": {
      "text/html": [
       "<dl>\n",
       "\t<dt>$ImputeInfo</dt>\n",
       "\t\t<dd><table>\n",
       "<thead><tr><th scope=col>Variable</th><th scope=col>ImputeTech</th><th scope=col>ResultVar</th><th scope=col>N</th><th scope=col>NMiss</th><th scope=col>ImputedValueContinuous</th><th scope=col>ImputedValueNominal</th></tr></thead>\n",
       "<tbody>\n",
       "\t<tr><td>LOAN       </td><td>Median     </td><td>IMP_LOAN   </td><td>5960       </td><td>   0       </td><td>16300.00000</td><td>           </td></tr>\n",
       "\t<tr><td>MORTDUE    </td><td>Median     </td><td>IMP_MORTDUE</td><td>5442       </td><td> 518       </td><td>65019.00000</td><td>           </td></tr>\n",
       "\t<tr><td>VALUE      </td><td>Median     </td><td>IMP_VALUE  </td><td>5848       </td><td> 112       </td><td>89235.50000</td><td>           </td></tr>\n",
       "\t<tr><td>REASON     </td><td>Mode       </td><td>IMP_REASON </td><td>5708       </td><td> 252       </td><td>        NaN</td><td>DebtCon    </td></tr>\n",
       "\t<tr><td>JOB        </td><td>Mode       </td><td>IMP_JOB    </td><td>5681       </td><td> 279       </td><td>        NaN</td><td>Other      </td></tr>\n",
       "\t<tr><td>YOJ        </td><td>Median     </td><td>IMP_YOJ    </td><td>5445       </td><td> 515       </td><td>    7.00000</td><td>           </td></tr>\n",
       "\t<tr><td>DEROG      </td><td>Median     </td><td>IMP_DEROG  </td><td>5252       </td><td> 708       </td><td>    0.00000</td><td>           </td></tr>\n",
       "\t<tr><td>DELINQ     </td><td>Median     </td><td>IMP_DELINQ </td><td>5380       </td><td> 580       </td><td>    0.00000</td><td>           </td></tr>\n",
       "\t<tr><td>CLAGE      </td><td>Median     </td><td>IMP_CLAGE  </td><td>5652       </td><td> 308       </td><td>  173.46667</td><td>           </td></tr>\n",
       "\t<tr><td>NINQ       </td><td>Median     </td><td>IMP_NINQ   </td><td>5450       </td><td> 510       </td><td>    1.00000</td><td>           </td></tr>\n",
       "\t<tr><td>CLNO       </td><td>Median     </td><td>IMP_CLNO   </td><td>5738       </td><td> 222       </td><td>   20.00000</td><td>           </td></tr>\n",
       "\t<tr><td>DEBTINC    </td><td>Median     </td><td>IMP_DEBTINC</td><td>4693       </td><td>1267       </td><td>   34.81826</td><td>           </td></tr>\n",
       "</tbody>\n",
       "</table>\n",
       "</dd>\n",
       "\t<dt>$OutputCasTables</dt>\n",
       "\t\t<dd><table>\n",
       "<thead><tr><th scope=col>casLib</th><th scope=col>Name</th><th scope=col>Rows</th><th scope=col>Columns</th></tr></thead>\n",
       "<tbody>\n",
       "\t<tr><td>CASUSERHDFS(sebastien)</td><td>hmeq                  </td><td>5960                  </td><td>25                    </td></tr>\n",
       "</tbody>\n",
       "</table>\n",
       "</dd>\n",
       "</dl>\n"
      ],
      "text/latex": [
       "\\begin{description}\n",
       "\\item[\\$ImputeInfo] \\begin{tabular}{r|lllllll}\n",
       " Variable & ImputeTech & ResultVar & N & NMiss & ImputedValueContinuous & ImputedValueNominal\\\\\n",
       "\\hline\n",
       "\t LOAN          & Median        & IMP\\_LOAN    & 5960          &    0          & 16300.00000   &              \\\\\n",
       "\t MORTDUE       & Median        & IMP\\_MORTDUE & 5442          &  518          & 65019.00000   &              \\\\\n",
       "\t VALUE         & Median        & IMP\\_VALUE   & 5848          &  112          & 89235.50000   &              \\\\\n",
       "\t REASON        & Mode          & IMP\\_REASON  & 5708          &  252          &         NaN   & DebtCon      \\\\\n",
       "\t JOB           & Mode          & IMP\\_JOB     & 5681          &  279          &         NaN   & Other        \\\\\n",
       "\t YOJ           & Median        & IMP\\_YOJ     & 5445          &  515          &     7.00000   &              \\\\\n",
       "\t DEROG         & Median        & IMP\\_DEROG   & 5252          &  708          &     0.00000   &              \\\\\n",
       "\t DELINQ        & Median        & IMP\\_DELINQ  & 5380          &  580          &     0.00000   &              \\\\\n",
       "\t CLAGE         & Median        & IMP\\_CLAGE   & 5652          &  308          &   173.46667   &              \\\\\n",
       "\t NINQ          & Median        & IMP\\_NINQ    & 5450          &  510          &     1.00000   &              \\\\\n",
       "\t CLNO          & Median        & IMP\\_CLNO    & 5738          &  222          &    20.00000   &              \\\\\n",
       "\t DEBTINC       & Median        & IMP\\_DEBTINC & 4693          & 1267          &    34.81826   &              \\\\\n",
       "\\end{tabular}\n",
       "\n",
       "\\item[\\$OutputCasTables] \\begin{tabular}{r|llll}\n",
       " casLib & Name & Rows & Columns\\\\\n",
       "\\hline\n",
       "\t CASUSERHDFS(sebastien) & hmeq                   & 5960                   & 25                    \\\\\n",
       "\\end{tabular}\n",
       "\n",
       "\\end{description}\n"
      ],
      "text/markdown": [
       "$ImputeInfo\n",
       ":   \n",
       "| Variable | ImputeTech | ResultVar | N | NMiss | ImputedValueContinuous | ImputedValueNominal |\n",
       "|---|---|---|---|---|---|---|\n",
       "| LOAN        | Median      | IMP_LOAN    | 5960        |    0        | 16300.00000 |             |\n",
       "| MORTDUE     | Median      | IMP_MORTDUE | 5442        |  518        | 65019.00000 |             |\n",
       "| VALUE       | Median      | IMP_VALUE   | 5848        |  112        | 89235.50000 |             |\n",
       "| REASON      | Mode        | IMP_REASON  | 5708        |  252        |         NaN | DebtCon     |\n",
       "| JOB         | Mode        | IMP_JOB     | 5681        |  279        |         NaN | Other       |\n",
       "| YOJ         | Median      | IMP_YOJ     | 5445        |  515        |     7.00000 |             |\n",
       "| DEROG       | Median      | IMP_DEROG   | 5252        |  708        |     0.00000 |             |\n",
       "| DELINQ      | Median      | IMP_DELINQ  | 5380        |  580        |     0.00000 |             |\n",
       "| CLAGE       | Median      | IMP_CLAGE   | 5652        |  308        |   173.46667 |             |\n",
       "| NINQ        | Median      | IMP_NINQ    | 5450        |  510        |     1.00000 |             |\n",
       "| CLNO        | Median      | IMP_CLNO    | 5738        |  222        |    20.00000 |             |\n",
       "| DEBTINC     | Median      | IMP_DEBTINC | 4693        | 1267        |    34.81826 |             |\n",
       "\n",
       "\n",
       "$OutputCasTables\n",
       ":   \n",
       "| casLib | Name | Rows | Columns |\n",
       "|---|---|---|---|\n",
       "| CASUSERHDFS(sebastien) | hmeq                   | 5960                   | 25                     |\n",
       "\n",
       "\n",
       "\n",
       "\n"
      ],
      "text/plain": [
       "$ImputeInfo\n",
       "   Variable ImputeTech   ResultVar    N NMiss ImputedValueContinuous\n",
       "1      LOAN     Median    IMP_LOAN 5960     0            16300.00000\n",
       "2   MORTDUE     Median IMP_MORTDUE 5442   518            65019.00000\n",
       "3     VALUE     Median   IMP_VALUE 5848   112            89235.50000\n",
       "4    REASON       Mode  IMP_REASON 5708   252                    NaN\n",
       "5       JOB       Mode     IMP_JOB 5681   279                    NaN\n",
       "6       YOJ     Median     IMP_YOJ 5445   515                7.00000\n",
       "7     DEROG     Median   IMP_DEROG 5252   708                0.00000\n",
       "8    DELINQ     Median  IMP_DELINQ 5380   580                0.00000\n",
       "9     CLAGE     Median   IMP_CLAGE 5652   308              173.46667\n",
       "10     NINQ     Median    IMP_NINQ 5450   510                1.00000\n",
       "11     CLNO     Median    IMP_CLNO 5738   222               20.00000\n",
       "12  DEBTINC     Median IMP_DEBTINC 4693  1267               34.81826\n",
       "   ImputedValueNominal\n",
       "1                     \n",
       "2                     \n",
       "3                     \n",
       "4              DebtCon\n",
       "5                Other\n",
       "6                     \n",
       "7                     \n",
       "8                     \n",
       "9                     \n",
       "10                    \n",
       "11                    \n",
       "12                    \n",
       "\n",
       "$OutputCasTables\n",
       "                  casLib Name Rows Columns\n",
       "1 CASUSERHDFS(sebastien) hmeq 5960      25\n"
      ]
     },
     "metadata": {},
     "output_type": "display_data"
    }
   ],
   "source": [
    "# Impute missing values\n",
    "cas.dataPreprocess.impute(castbl,\n",
    "    methodContinuous = 'MEDIAN',\n",
    "    methodNominal = 'MODE',\n",
    "    inputs = colnames(castbl)[-1],\n",
    "    copyAllVars = TRUE,\n",
    "    casOut = list(name = 'hmeq', \n",
    "                replace = TRUE)\n",
    ")"
   ]
  },
  {
   "cell_type": "markdown",
   "metadata": {},
   "source": [
    "# Partition the data into Training and Validation"
   ]
  },
  {
   "cell_type": "code",
   "execution_count": 18,
   "metadata": {
    "collapsed": false,
    "jupyter": {
     "outputs_hidden": false
    }
   },
   "outputs": [
    {
     "data": {
      "text/html": [
       "<dl>\n",
       "\t<dt>$SRSFreq</dt>\n",
       "\t\t<dd><table>\n",
       "<thead><tr><th scope=col>NObs</th><th scope=col>NSamp</th></tr></thead>\n",
       "<tbody>\n",
       "\t<tr><td>5960</td><td>1788</td></tr>\n",
       "</tbody>\n",
       "</table>\n",
       "</dd>\n",
       "\t<dt>$OutputCasTables</dt>\n",
       "\t\t<dd><table>\n",
       "<thead><tr><th scope=col>casLib</th><th scope=col>Name</th><th scope=col>Label</th><th scope=col>Rows</th><th scope=col>Columns</th></tr></thead>\n",
       "<tbody>\n",
       "\t<tr><td>CASUSERHDFS(sebastien)</td><td>hmeq                  </td><td>                      </td><td>5960                  </td><td>26                    </td></tr>\n",
       "</tbody>\n",
       "</table>\n",
       "</dd>\n",
       "</dl>\n"
      ],
      "text/latex": [
       "\\begin{description}\n",
       "\\item[\\$SRSFreq] \\begin{tabular}{r|ll}\n",
       " NObs & NSamp\\\\\n",
       "\\hline\n",
       "\t 5960 & 1788\\\\\n",
       "\\end{tabular}\n",
       "\n",
       "\\item[\\$OutputCasTables] \\begin{tabular}{r|lllll}\n",
       " casLib & Name & Label & Rows & Columns\\\\\n",
       "\\hline\n",
       "\t CASUSERHDFS(sebastien) & hmeq                   &                        & 5960                   & 26                    \\\\\n",
       "\\end{tabular}\n",
       "\n",
       "\\end{description}\n"
      ],
      "text/markdown": [
       "$SRSFreq\n",
       ":   \n",
       "| NObs | NSamp |\n",
       "|---|---|\n",
       "| 5960 | 1788 |\n",
       "\n",
       "\n",
       "$OutputCasTables\n",
       ":   \n",
       "| casLib | Name | Label | Rows | Columns |\n",
       "|---|---|---|---|---|\n",
       "| CASUSERHDFS(sebastien) | hmeq                   |                        | 5960                   | 26                     |\n",
       "\n",
       "\n",
       "\n",
       "\n"
      ],
      "text/plain": [
       "$SRSFreq\n",
       "  NObs NSamp\n",
       "1 5960  1788\n",
       "\n",
       "$OutputCasTables\n",
       "                  casLib Name Label Rows Columns\n",
       "1 CASUSERHDFS(sebastien) hmeq       5960      26\n"
      ]
     },
     "metadata": {},
     "output_type": "display_data"
    }
   ],
   "source": [
    "# Partition the data\n",
    "cas.sampling.srs(conn,\n",
    "    table = 'hmeq',\n",
    "    samppct = 30,\n",
    "    partind = TRUE,\n",
    "    output = list(casOut = list(name = 'hmeq', replace = T), copyVars = 'ALL')\n",
    ")"
   ]
  },
  {
   "cell_type": "markdown",
   "metadata": {},
   "source": [
    "# Variable Mapping\n",
    "Define varibles with generic labels and reuse between model calls"
   ]
  },
  {
   "cell_type": "code",
   "execution_count": 19,
   "metadata": {
    "collapsed": false,
    "jupyter": {
     "outputs_hidden": false
    }
   },
   "outputs": [],
   "source": [
    "#Note: I do not want to hard code any of my variable names.\n",
    "indata <- 'hmeq'\n",
    "\n",
    "# Get variable info and types\n",
    "colinfo <- head(cas.table.columnInfo(conn, table = indata)$ColumnInfo, -1)\n",
    "\n",
    "# My target variable is the first column\n",
    "target <- colinfo$Column[1]\n",
    "\n",
    "# For models that can inherently handle missing values (ex: Decision Tree)\n",
    "inputs <- colinfo$Column[-1]\n",
    "nominals <- c(target, subset(colinfo, Type == 'varchar')$Column)\n",
    "\n",
    "# For models that cannot handle missing values (ex: Neural Network)\n",
    "imp.inputs <- grep('IMP_', inputs, value = T)\n",
    "imp.nominals <- c(target, grep('IMP_', nominals, value = T))"
   ]
  },
  {
   "cell_type": "markdown",
   "metadata": {},
   "source": [
    "# Build Models"
   ]
  },
  {
   "cell_type": "markdown",
   "metadata": {},
   "source": [
    "## Decision Tree"
   ]
  },
  {
   "cell_type": "code",
   "execution_count": 20,
   "metadata": {
    "collapsed": false,
    "jupyter": {
     "outputs_hidden": false
    }
   },
   "outputs": [
    {
     "data": {
      "text/html": [
       "<dl>\n",
       "\t<dt>$ModelInfo</dt>\n",
       "\t\t<dd><table>\n",
       "<thead><tr><th scope=col>Descr</th><th scope=col>Value</th></tr></thead>\n",
       "<tbody>\n",
       "\t<tr><td>Number of Tree Nodes        </td><td>  33.00000                  </td></tr>\n",
       "\t<tr><td>Max Number of Branches      </td><td>   2.00000                  </td></tr>\n",
       "\t<tr><td>Number of Levels            </td><td>   6.00000                  </td></tr>\n",
       "\t<tr><td>Number of Leaves            </td><td>  17.00000                  </td></tr>\n",
       "\t<tr><td>Number of Bins              </td><td>  50.00000                  </td></tr>\n",
       "\t<tr><td>Minimum Size of Leaves      </td><td>   5.00000                  </td></tr>\n",
       "\t<tr><td>Maximum Size of Leaves      </td><td>3106.00000                  </td></tr>\n",
       "\t<tr><td>Number of Variables         </td><td>  24.00000                  </td></tr>\n",
       "\t<tr><td>Confidence Level for Pruning</td><td>   0.25000                  </td></tr>\n",
       "\t<tr><td>Number of Observations Used </td><td>4172.00000                  </td></tr>\n",
       "\t<tr><td>Misclassification Error (%) </td><td>  12.82359                  </td></tr>\n",
       "</tbody>\n",
       "</table>\n",
       "</dd>\n",
       "\t<dt>$DTreeVarImpInfo</dt>\n",
       "\t\t<dd><table>\n",
       "<thead><tr><th scope=col>Variable</th><th scope=col>Importance</th><th scope=col>Std</th><th scope=col>Count</th></tr></thead>\n",
       "<tbody>\n",
       "\t<tr><td>DEBTINC    </td><td>497.792834 </td><td>232.4721297</td><td>2          </td></tr>\n",
       "\t<tr><td>DELINQ     </td><td> 29.633148 </td><td>  9.9031064</td><td>2          </td></tr>\n",
       "\t<tr><td>VALUE      </td><td> 28.397003 </td><td>  0.3695983</td><td>2          </td></tr>\n",
       "\t<tr><td>DEROG      </td><td> 19.860775 </td><td>  3.1762998</td><td>3          </td></tr>\n",
       "\t<tr><td>MORTDUE    </td><td> 12.406650 </td><td>  0.0000000</td><td>1          </td></tr>\n",
       "\t<tr><td>CLNO       </td><td>  7.896443 </td><td>  2.9110784</td><td>2          </td></tr>\n",
       "\t<tr><td>JOB        </td><td>  7.058824 </td><td>  0.0000000</td><td>1          </td></tr>\n",
       "\t<tr><td>IMP_VALUE  </td><td>  1.252174 </td><td>  0.0000000</td><td>1          </td></tr>\n",
       "\t<tr><td>CLAGE      </td><td>  1.206349 </td><td>  0.0000000</td><td>1          </td></tr>\n",
       "\t<tr><td>YOJ        </td><td>  0.299435 </td><td>  0.0000000</td><td>1          </td></tr>\n",
       "</tbody>\n",
       "</table>\n",
       "</dd>\n",
       "\t<dt>$OutputCasTables</dt>\n",
       "\t\t<dd><table>\n",
       "<thead><tr><th scope=col>casLib</th><th scope=col>Name</th><th scope=col>Rows</th><th scope=col>Columns</th></tr></thead>\n",
       "<tbody>\n",
       "\t<tr><td>CASUSERHDFS(sebastien)</td><td>dt_model              </td><td>33                    </td><td>36                    </td></tr>\n",
       "</tbody>\n",
       "</table>\n",
       "</dd>\n",
       "</dl>\n"
      ],
      "text/latex": [
       "\\begin{description}\n",
       "\\item[\\$ModelInfo] \\begin{tabular}{r|ll}\n",
       " Descr & Value\\\\\n",
       "\\hline\n",
       "\t Number of Tree Nodes         &   33.00000                  \\\\\n",
       "\t Max Number of Branches       &    2.00000                  \\\\\n",
       "\t Number of Levels             &    6.00000                  \\\\\n",
       "\t Number of Leaves             &   17.00000                  \\\\\n",
       "\t Number of Bins               &   50.00000                  \\\\\n",
       "\t Minimum Size of Leaves       &    5.00000                  \\\\\n",
       "\t Maximum Size of Leaves       & 3106.00000                  \\\\\n",
       "\t Number of Variables          &   24.00000                  \\\\\n",
       "\t Confidence Level for Pruning &    0.25000                  \\\\\n",
       "\t Number of Observations Used  & 4172.00000                  \\\\\n",
       "\t Misclassification Error (\\%)  &   12.82359                    \\\\\n",
       "\\end{tabular}\n",
       "\n",
       "\\item[\\$DTreeVarImpInfo] \\begin{tabular}{r|llll}\n",
       " Variable & Importance & Std & Count\\\\\n",
       "\\hline\n",
       "\t DEBTINC     & 497.792834  & 232.4721297 & 2          \\\\\n",
       "\t DELINQ      &  29.633148  &   9.9031064 & 2          \\\\\n",
       "\t VALUE       &  28.397003  &   0.3695983 & 2          \\\\\n",
       "\t DEROG       &  19.860775  &   3.1762998 & 3          \\\\\n",
       "\t MORTDUE     &  12.406650  &   0.0000000 & 1          \\\\\n",
       "\t CLNO        &   7.896443  &   2.9110784 & 2          \\\\\n",
       "\t JOB         &   7.058824  &   0.0000000 & 1          \\\\\n",
       "\t IMP\\_VALUE &   1.252174  &   0.0000000 & 1          \\\\\n",
       "\t CLAGE       &   1.206349  &   0.0000000 & 1          \\\\\n",
       "\t YOJ         &   0.299435  &   0.0000000 & 1          \\\\\n",
       "\\end{tabular}\n",
       "\n",
       "\\item[\\$OutputCasTables] \\begin{tabular}{r|llll}\n",
       " casLib & Name & Rows & Columns\\\\\n",
       "\\hline\n",
       "\t CASUSERHDFS(sebastien) & dt\\_model             & 33                     & 36                    \\\\\n",
       "\\end{tabular}\n",
       "\n",
       "\\end{description}\n"
      ],
      "text/markdown": [
       "$ModelInfo\n",
       ":   \n",
       "| Descr | Value |\n",
       "|---|---|\n",
       "| Number of Tree Nodes         |   33.00000                   |\n",
       "| Max Number of Branches       |    2.00000                   |\n",
       "| Number of Levels             |    6.00000                   |\n",
       "| Number of Leaves             |   17.00000                   |\n",
       "| Number of Bins               |   50.00000                   |\n",
       "| Minimum Size of Leaves       |    5.00000                   |\n",
       "| Maximum Size of Leaves       | 3106.00000                   |\n",
       "| Number of Variables          |   24.00000                   |\n",
       "| Confidence Level for Pruning |    0.25000                   |\n",
       "| Number of Observations Used  | 4172.00000                   |\n",
       "| Misclassification Error (%)  |   12.82359                   |\n",
       "\n",
       "\n",
       "$DTreeVarImpInfo\n",
       ":   \n",
       "| Variable | Importance | Std | Count |\n",
       "|---|---|---|---|\n",
       "| DEBTINC     | 497.792834  | 232.4721297 | 2           |\n",
       "| DELINQ      |  29.633148  |   9.9031064 | 2           |\n",
       "| VALUE       |  28.397003  |   0.3695983 | 2           |\n",
       "| DEROG       |  19.860775  |   3.1762998 | 3           |\n",
       "| MORTDUE     |  12.406650  |   0.0000000 | 1           |\n",
       "| CLNO        |   7.896443  |   2.9110784 | 2           |\n",
       "| JOB         |   7.058824  |   0.0000000 | 1           |\n",
       "| IMP_VALUE   |   1.252174  |   0.0000000 | 1           |\n",
       "| CLAGE       |   1.206349  |   0.0000000 | 1           |\n",
       "| YOJ         |   0.299435  |   0.0000000 | 1           |\n",
       "\n",
       "\n",
       "$OutputCasTables\n",
       ":   \n",
       "| casLib | Name | Rows | Columns |\n",
       "|---|---|---|---|\n",
       "| CASUSERHDFS(sebastien) | dt_model               | 33                     | 36                     |\n",
       "\n",
       "\n",
       "\n",
       "\n"
      ],
      "text/plain": [
       "$ModelInfo\n",
       "                          Descr      Value\n",
       "1          Number of Tree Nodes   33.00000\n",
       "2        Max Number of Branches    2.00000\n",
       "3              Number of Levels    6.00000\n",
       "4              Number of Leaves   17.00000\n",
       "5                Number of Bins   50.00000\n",
       "6        Minimum Size of Leaves    5.00000\n",
       "7        Maximum Size of Leaves 3106.00000\n",
       "8           Number of Variables   24.00000\n",
       "9  Confidence Level for Pruning    0.25000\n",
       "10  Number of Observations Used 4172.00000\n",
       "11  Misclassification Error (%)   12.82359\n",
       "\n",
       "$DTreeVarImpInfo\n",
       "    Variable Importance         Std Count\n",
       "1    DEBTINC 497.792834 232.4721297     2\n",
       "2     DELINQ  29.633148   9.9031064     2\n",
       "3      VALUE  28.397003   0.3695983     2\n",
       "4      DEROG  19.860775   3.1762998     3\n",
       "5    MORTDUE  12.406650   0.0000000     1\n",
       "6       CLNO   7.896443   2.9110784     2\n",
       "7        JOB   7.058824   0.0000000     1\n",
       "8  IMP_VALUE   1.252174   0.0000000     1\n",
       "9      CLAGE   1.206349   0.0000000     1\n",
       "10       YOJ   0.299435   0.0000000     1\n",
       "\n",
       "$OutputCasTables\n",
       "                  casLib     Name Rows Columns\n",
       "1 CASUSERHDFS(sebastien) dt_model   33      36\n"
      ]
     },
     "metadata": {},
     "output_type": "display_data"
    }
   ],
   "source": [
    "cas.decisionTree.dtreeTrain(conn,\n",
    "    table = list(name = indata, where = '_PartInd_ = 0'),\n",
    "    target = target,\n",
    "    inputs = inputs,\n",
    "    nominals = nominals,\n",
    "    varImp = TRUE,\n",
    "    casOut = list(name = 'dt_model', replace = TRUE)\n",
    ")"
   ]
  },
  {
   "cell_type": "markdown",
   "metadata": {},
   "source": [
    "## Forest"
   ]
  },
  {
   "cell_type": "code",
   "execution_count": 21,
   "metadata": {
    "collapsed": false,
    "jupyter": {
     "outputs_hidden": false
    }
   },
   "outputs": [
    {
     "data": {
      "text/html": [
       "<dl>\n",
       "\t<dt>$ModelInfo</dt>\n",
       "\t\t<dd><table>\n",
       "<thead><tr><th scope=col>Descr</th><th scope=col>Value</th></tr></thead>\n",
       "<tbody>\n",
       "\t<tr><td>Number of Trees                 </td><td>  50.00000                      </td></tr>\n",
       "\t<tr><td>Number of Selected Variables (M)</td><td>   5.00000                      </td></tr>\n",
       "\t<tr><td>Random Number Seed              </td><td>   0.00000                      </td></tr>\n",
       "\t<tr><td>Bootstrap Percentage (%)        </td><td>  63.21206                      </td></tr>\n",
       "\t<tr><td>Number of Bins                  </td><td>  50.00000                      </td></tr>\n",
       "\t<tr><td>Number of Variables             </td><td>  24.00000                      </td></tr>\n",
       "\t<tr><td>Confidence Level for Pruning    </td><td>   0.25000                      </td></tr>\n",
       "\t<tr><td>Max Number of Tree Nodes        </td><td>  39.00000                      </td></tr>\n",
       "\t<tr><td>Min Number of Tree Nodes        </td><td>  19.00000                      </td></tr>\n",
       "\t<tr><td>Max Number of Branches          </td><td>   2.00000                      </td></tr>\n",
       "\t<tr><td>Min Number of Branches          </td><td>   2.00000                      </td></tr>\n",
       "\t<tr><td>Max Number of Levels            </td><td>   6.00000                      </td></tr>\n",
       "\t<tr><td>Min Number of Levels            </td><td>   6.00000                      </td></tr>\n",
       "\t<tr><td>Max Number of Leaves            </td><td>  20.00000                      </td></tr>\n",
       "\t<tr><td>Min Number of Leaves            </td><td>  10.00000                      </td></tr>\n",
       "\t<tr><td>Maximum Size of Leaves          </td><td>2434.00000                      </td></tr>\n",
       "\t<tr><td>Minimum Size of Leaves          </td><td>   5.00000                      </td></tr>\n",
       "\t<tr><td>Out-of-Bag MCR (%)              </td><td>       NaN                      </td></tr>\n",
       "\t<tr><td>Average number of Leaves        </td><td>  14.80000                      </td></tr>\n",
       "</tbody>\n",
       "</table>\n",
       "</dd>\n",
       "\t<dt>$OutputCasTables</dt>\n",
       "\t\t<dd><table>\n",
       "<thead><tr><th scope=col>casLib</th><th scope=col>Name</th><th scope=col>Rows</th><th scope=col>Columns</th></tr></thead>\n",
       "<tbody>\n",
       "\t<tr><td>CASUSERHDFS(sebastien)</td><td>rf_model              </td><td>1430                  </td><td>42                    </td></tr>\n",
       "</tbody>\n",
       "</table>\n",
       "</dd>\n",
       "</dl>\n"
      ],
      "text/latex": [
       "\\begin{description}\n",
       "\\item[\\$ModelInfo] \\begin{tabular}{r|ll}\n",
       " Descr & Value\\\\\n",
       "\\hline\n",
       "\t Number of Trees                  &   50.00000                      \\\\\n",
       "\t Number of Selected Variables (M) &    5.00000                      \\\\\n",
       "\t Random Number Seed               &    0.00000                      \\\\\n",
       "\t Bootstrap Percentage (\\%)         &   63.21206                        \\\\\n",
       "\t Number of Bins                   &   50.00000                      \\\\\n",
       "\t Number of Variables              &   24.00000                      \\\\\n",
       "\t Confidence Level for Pruning     &    0.25000                      \\\\\n",
       "\t Max Number of Tree Nodes         &   39.00000                      \\\\\n",
       "\t Min Number of Tree Nodes         &   19.00000                      \\\\\n",
       "\t Max Number of Branches           &    2.00000                      \\\\\n",
       "\t Min Number of Branches           &    2.00000                      \\\\\n",
       "\t Max Number of Levels             &    6.00000                      \\\\\n",
       "\t Min Number of Levels             &    6.00000                      \\\\\n",
       "\t Max Number of Leaves             &   20.00000                      \\\\\n",
       "\t Min Number of Leaves             &   10.00000                      \\\\\n",
       "\t Maximum Size of Leaves           & 2434.00000                      \\\\\n",
       "\t Minimum Size of Leaves           &    5.00000                      \\\\\n",
       "\t Out-of-Bag MCR (\\%)               &        NaN                        \\\\\n",
       "\t Average number of Leaves         &   14.80000                      \\\\\n",
       "\\end{tabular}\n",
       "\n",
       "\\item[\\$OutputCasTables] \\begin{tabular}{r|llll}\n",
       " casLib & Name & Rows & Columns\\\\\n",
       "\\hline\n",
       "\t CASUSERHDFS(sebastien) & rf\\_model             & 1430                   & 42                    \\\\\n",
       "\\end{tabular}\n",
       "\n",
       "\\end{description}\n"
      ],
      "text/markdown": [
       "$ModelInfo\n",
       ":   \n",
       "| Descr | Value |\n",
       "|---|---|\n",
       "| Number of Trees                  |   50.00000                       |\n",
       "| Number of Selected Variables (M) |    5.00000                       |\n",
       "| Random Number Seed               |    0.00000                       |\n",
       "| Bootstrap Percentage (%)         |   63.21206                       |\n",
       "| Number of Bins                   |   50.00000                       |\n",
       "| Number of Variables              |   24.00000                       |\n",
       "| Confidence Level for Pruning     |    0.25000                       |\n",
       "| Max Number of Tree Nodes         |   39.00000                       |\n",
       "| Min Number of Tree Nodes         |   19.00000                       |\n",
       "| Max Number of Branches           |    2.00000                       |\n",
       "| Min Number of Branches           |    2.00000                       |\n",
       "| Max Number of Levels             |    6.00000                       |\n",
       "| Min Number of Levels             |    6.00000                       |\n",
       "| Max Number of Leaves             |   20.00000                       |\n",
       "| Min Number of Leaves             |   10.00000                       |\n",
       "| Maximum Size of Leaves           | 2434.00000                       |\n",
       "| Minimum Size of Leaves           |    5.00000                       |\n",
       "| Out-of-Bag MCR (%)               |        NaN                       |\n",
       "| Average number of Leaves         |   14.80000                       |\n",
       "\n",
       "\n",
       "$OutputCasTables\n",
       ":   \n",
       "| casLib | Name | Rows | Columns |\n",
       "|---|---|---|---|\n",
       "| CASUSERHDFS(sebastien) | rf_model               | 1430                   | 42                     |\n",
       "\n",
       "\n",
       "\n",
       "\n"
      ],
      "text/plain": [
       "$ModelInfo\n",
       "                              Descr      Value\n",
       "1                   Number of Trees   50.00000\n",
       "2  Number of Selected Variables (M)    5.00000\n",
       "3                Random Number Seed    0.00000\n",
       "4          Bootstrap Percentage (%)   63.21206\n",
       "5                    Number of Bins   50.00000\n",
       "6               Number of Variables   24.00000\n",
       "7      Confidence Level for Pruning    0.25000\n",
       "8          Max Number of Tree Nodes   39.00000\n",
       "9          Min Number of Tree Nodes   19.00000\n",
       "10           Max Number of Branches    2.00000\n",
       "11           Min Number of Branches    2.00000\n",
       "12             Max Number of Levels    6.00000\n",
       "13             Min Number of Levels    6.00000\n",
       "14             Max Number of Leaves   20.00000\n",
       "15             Min Number of Leaves   10.00000\n",
       "16           Maximum Size of Leaves 2434.00000\n",
       "17           Minimum Size of Leaves    5.00000\n",
       "18               Out-of-Bag MCR (%)        NaN\n",
       "19         Average number of Leaves   14.80000\n",
       "\n",
       "$OutputCasTables\n",
       "                  casLib     Name Rows Columns\n",
       "1 CASUSERHDFS(sebastien) rf_model 1430      42\n"
      ]
     },
     "metadata": {},
     "output_type": "display_data"
    }
   ],
   "source": [
    "# Train the forest model\n",
    "cas.decisionTree.forestTrain(conn,\n",
    "    table = list(name = indata, where = '_PartInd_ = 0'),\n",
    "    target = target,\n",
    "    inputs = inputs,\n",
    "    nominals = nominals,\n",
    "    casOut = list(name = 'rf_model', replace = TRUE)\n",
    ")"
   ]
  },
  {
   "cell_type": "markdown",
   "metadata": {},
   "source": [
    "## Gradient Boosting"
   ]
  },
  {
   "cell_type": "code",
   "execution_count": 22,
   "metadata": {
    "collapsed": false,
    "jupyter": {
     "outputs_hidden": false
    }
   },
   "outputs": [
    {
     "data": {
      "text/html": [
       "<dl>\n",
       "\t<dt>$ModelInfo</dt>\n",
       "\t\t<dd><table>\n",
       "<thead><tr><th scope=col>Descr</th><th scope=col>Value</th></tr></thead>\n",
       "<tbody>\n",
       "\t<tr><td>Number of Trees                 </td><td>  50.00                         </td></tr>\n",
       "\t<tr><td>Distribution                    </td><td>   2.00                         </td></tr>\n",
       "\t<tr><td>Learning Rate                   </td><td>   0.10                         </td></tr>\n",
       "\t<tr><td>Subsampling Rate                </td><td>   0.50                         </td></tr>\n",
       "\t<tr><td>Number of Selected Variables (M)</td><td>  24.00                         </td></tr>\n",
       "\t<tr><td>Number of Bins                  </td><td>  50.00                         </td></tr>\n",
       "\t<tr><td>Number of Variables             </td><td>  24.00                         </td></tr>\n",
       "\t<tr><td>Max Number of Tree Nodes        </td><td>  31.00                         </td></tr>\n",
       "\t<tr><td>Min Number of Tree Nodes        </td><td>  15.00                         </td></tr>\n",
       "\t<tr><td>Max Number of Branches          </td><td>   2.00                         </td></tr>\n",
       "\t<tr><td>Min Number of Branches          </td><td>   2.00                         </td></tr>\n",
       "\t<tr><td>Max Number of Levels            </td><td>   5.00                         </td></tr>\n",
       "\t<tr><td>Min Number of Levels            </td><td>   5.00                         </td></tr>\n",
       "\t<tr><td>Max Number of Leaves            </td><td>  16.00                         </td></tr>\n",
       "\t<tr><td>Min Number of Leaves            </td><td>   8.00                         </td></tr>\n",
       "\t<tr><td>Maximum Size of Leaves          </td><td>1883.00                         </td></tr>\n",
       "\t<tr><td>Minimum Size of Leaves          </td><td>   5.00                         </td></tr>\n",
       "\t<tr><td>Random Number Seed              </td><td>   0.00                         </td></tr>\n",
       "\t<tr><td>Lasso (L1) penalty              </td><td>   0.00                         </td></tr>\n",
       "\t<tr><td>Ridge (L2) penalty              </td><td>   1.00                         </td></tr>\n",
       "\t<tr><td>Actual Number of Trees          </td><td>  50.00                         </td></tr>\n",
       "\t<tr><td>Average number of Leaves        </td><td>  14.22                         </td></tr>\n",
       "</tbody>\n",
       "</table>\n",
       "</dd>\n",
       "\t<dt>$OutputCasTables</dt>\n",
       "\t\t<dd><table>\n",
       "<thead><tr><th scope=col>casLib</th><th scope=col>Name</th><th scope=col>Rows</th><th scope=col>Columns</th></tr></thead>\n",
       "<tbody>\n",
       "\t<tr><td>CASUSERHDFS(sebastien)</td><td>gbt_model             </td><td>1372                  </td><td>32                    </td></tr>\n",
       "</tbody>\n",
       "</table>\n",
       "</dd>\n",
       "</dl>\n"
      ],
      "text/latex": [
       "\\begin{description}\n",
       "\\item[\\$ModelInfo] \\begin{tabular}{r|ll}\n",
       " Descr & Value\\\\\n",
       "\\hline\n",
       "\t Number of Trees                  &   50.00                         \\\\\n",
       "\t Distribution                     &    2.00                         \\\\\n",
       "\t Learning Rate                    &    0.10                         \\\\\n",
       "\t Subsampling Rate                 &    0.50                         \\\\\n",
       "\t Number of Selected Variables (M) &   24.00                         \\\\\n",
       "\t Number of Bins                   &   50.00                         \\\\\n",
       "\t Number of Variables              &   24.00                         \\\\\n",
       "\t Max Number of Tree Nodes         &   31.00                         \\\\\n",
       "\t Min Number of Tree Nodes         &   15.00                         \\\\\n",
       "\t Max Number of Branches           &    2.00                         \\\\\n",
       "\t Min Number of Branches           &    2.00                         \\\\\n",
       "\t Max Number of Levels             &    5.00                         \\\\\n",
       "\t Min Number of Levels             &    5.00                         \\\\\n",
       "\t Max Number of Leaves             &   16.00                         \\\\\n",
       "\t Min Number of Leaves             &    8.00                         \\\\\n",
       "\t Maximum Size of Leaves           & 1883.00                         \\\\\n",
       "\t Minimum Size of Leaves           &    5.00                         \\\\\n",
       "\t Random Number Seed               &    0.00                         \\\\\n",
       "\t Lasso (L1) penalty               &    0.00                         \\\\\n",
       "\t Ridge (L2) penalty               &    1.00                         \\\\\n",
       "\t Actual Number of Trees           &   50.00                         \\\\\n",
       "\t Average number of Leaves         &   14.22                         \\\\\n",
       "\\end{tabular}\n",
       "\n",
       "\\item[\\$OutputCasTables] \\begin{tabular}{r|llll}\n",
       " casLib & Name & Rows & Columns\\\\\n",
       "\\hline\n",
       "\t CASUSERHDFS(sebastien) & gbt\\_model            & 1372                   & 32                    \\\\\n",
       "\\end{tabular}\n",
       "\n",
       "\\end{description}\n"
      ],
      "text/markdown": [
       "$ModelInfo\n",
       ":   \n",
       "| Descr | Value |\n",
       "|---|---|\n",
       "| Number of Trees                  |   50.00                          |\n",
       "| Distribution                     |    2.00                          |\n",
       "| Learning Rate                    |    0.10                          |\n",
       "| Subsampling Rate                 |    0.50                          |\n",
       "| Number of Selected Variables (M) |   24.00                          |\n",
       "| Number of Bins                   |   50.00                          |\n",
       "| Number of Variables              |   24.00                          |\n",
       "| Max Number of Tree Nodes         |   31.00                          |\n",
       "| Min Number of Tree Nodes         |   15.00                          |\n",
       "| Max Number of Branches           |    2.00                          |\n",
       "| Min Number of Branches           |    2.00                          |\n",
       "| Max Number of Levels             |    5.00                          |\n",
       "| Min Number of Levels             |    5.00                          |\n",
       "| Max Number of Leaves             |   16.00                          |\n",
       "| Min Number of Leaves             |    8.00                          |\n",
       "| Maximum Size of Leaves           | 1883.00                          |\n",
       "| Minimum Size of Leaves           |    5.00                          |\n",
       "| Random Number Seed               |    0.00                          |\n",
       "| Lasso (L1) penalty               |    0.00                          |\n",
       "| Ridge (L2) penalty               |    1.00                          |\n",
       "| Actual Number of Trees           |   50.00                          |\n",
       "| Average number of Leaves         |   14.22                          |\n",
       "\n",
       "\n",
       "$OutputCasTables\n",
       ":   \n",
       "| casLib | Name | Rows | Columns |\n",
       "|---|---|---|---|\n",
       "| CASUSERHDFS(sebastien) | gbt_model              | 1372                   | 32                     |\n",
       "\n",
       "\n",
       "\n",
       "\n"
      ],
      "text/plain": [
       "$ModelInfo\n",
       "                              Descr   Value\n",
       "1                   Number of Trees   50.00\n",
       "2                      Distribution    2.00\n",
       "3                     Learning Rate    0.10\n",
       "4                  Subsampling Rate    0.50\n",
       "5  Number of Selected Variables (M)   24.00\n",
       "6                    Number of Bins   50.00\n",
       "7               Number of Variables   24.00\n",
       "8          Max Number of Tree Nodes   31.00\n",
       "9          Min Number of Tree Nodes   15.00\n",
       "10           Max Number of Branches    2.00\n",
       "11           Min Number of Branches    2.00\n",
       "12             Max Number of Levels    5.00\n",
       "13             Min Number of Levels    5.00\n",
       "14             Max Number of Leaves   16.00\n",
       "15             Min Number of Leaves    8.00\n",
       "16           Maximum Size of Leaves 1883.00\n",
       "17           Minimum Size of Leaves    5.00\n",
       "18               Random Number Seed    0.00\n",
       "19               Lasso (L1) penalty    0.00\n",
       "20               Ridge (L2) penalty    1.00\n",
       "21           Actual Number of Trees   50.00\n",
       "22         Average number of Leaves   14.22\n",
       "\n",
       "$OutputCasTables\n",
       "                  casLib      Name Rows Columns\n",
       "1 CASUSERHDFS(sebastien) gbt_model 1372      32\n"
      ]
     },
     "metadata": {},
     "output_type": "display_data"
    }
   ],
   "source": [
    "cas.decisionTree.gbtreeTrain(conn,\n",
    "    table = list(name = indata, where = '_PartInd_ = 0'),\n",
    "    target = target,\n",
    "    inputs = inputs,\n",
    "    nominals = nominals,\n",
    "    casOut = list(name = 'gbt_model', replace = TRUE)\n",
    ")"
   ]
  },
  {
   "cell_type": "markdown",
   "metadata": {},
   "source": [
    "## Neural Network"
   ]
  },
  {
   "cell_type": "code",
   "execution_count": 23,
   "metadata": {
    "collapsed": false,
    "jupyter": {
     "outputs_hidden": false
    }
   },
   "outputs": [
    {
     "data": {
      "text/html": [
       "<dl>\n",
       "\t<dt>$OptIterHistory</dt>\n",
       "\t\t<dd><table>\n",
       "<thead><tr><th scope=col>Progress</th><th scope=col>Objective</th><th scope=col>Loss</th><th scope=col>FitError</th></tr></thead>\n",
       "<tbody>\n",
       "\t<tr><td> 1       </td><td>2.794649 </td><td>2.794649 </td><td>0.4458293</td></tr>\n",
       "\t<tr><td> 2       </td><td>1.996029 </td><td>1.996029 </td><td>0.2001438</td></tr>\n",
       "\t<tr><td> 3       </td><td>1.856819 </td><td>1.856819 </td><td>0.1982263</td></tr>\n",
       "\t<tr><td> 4       </td><td>1.644581 </td><td>1.644581 </td><td>0.1713806</td></tr>\n",
       "\t<tr><td> 5       </td><td>1.589595 </td><td>1.589595 </td><td>0.1646692</td></tr>\n",
       "\t<tr><td> 6       </td><td>1.569046 </td><td>1.569046 </td><td>0.1625120</td></tr>\n",
       "\t<tr><td> 7       </td><td>1.557040 </td><td>1.557040 </td><td>0.1601151</td></tr>\n",
       "\t<tr><td> 8       </td><td>1.535277 </td><td>1.535277 </td><td>0.1574784</td></tr>\n",
       "\t<tr><td> 9       </td><td>1.506865 </td><td>1.506865 </td><td>0.1550815</td></tr>\n",
       "\t<tr><td>10       </td><td>1.499063 </td><td>1.499063 </td><td>0.1543624</td></tr>\n",
       "</tbody>\n",
       "</table>\n",
       "</dd>\n",
       "\t<dt>$ConvergenceStatus</dt>\n",
       "\t\t<dd><table>\n",
       "<thead><tr><th scope=col>Reason</th></tr></thead>\n",
       "<tbody>\n",
       "\t<tr><td>The optimization exited on maximum iterations.</td></tr>\n",
       "</tbody>\n",
       "</table>\n",
       "</dd>\n",
       "\t<dt>$ModelInfo</dt>\n",
       "\t\t<dd><table>\n",
       "<thead><tr><th scope=col>Descr</th><th scope=col>Value</th></tr></thead>\n",
       "<tbody>\n",
       "\t<tr><td>Model                      </td><td>Neural Net                 </td></tr>\n",
       "\t<tr><td>Number of Observations Used</td><td>4172                       </td></tr>\n",
       "\t<tr><td>Number of Observations Read</td><td>4172                       </td></tr>\n",
       "\t<tr><td>Target/Response Variable   </td><td>BAD                        </td></tr>\n",
       "\t<tr><td>Number of Nodes            </td><td>27                         </td></tr>\n",
       "\t<tr><td>Number of Input Nodes      </td><td>18                         </td></tr>\n",
       "\t<tr><td>Number of Output Nodes     </td><td>2                          </td></tr>\n",
       "\t<tr><td>Number of Hidden Nodes     </td><td>7                          </td></tr>\n",
       "\t<tr><td>Number of Hidden Layers    </td><td>1                          </td></tr>\n",
       "\t<tr><td>Number of Weight Parameters</td><td>133                        </td></tr>\n",
       "\t<tr><td>Number of Bias Parameters  </td><td>9                          </td></tr>\n",
       "\t<tr><td>Architecture               </td><td>MLP                        </td></tr>\n",
       "\t<tr><td>Number of Neural Nets      </td><td>1                          </td></tr>\n",
       "\t<tr><td>Objective Value            </td><td>1.4990634459               </td></tr>\n",
       "</tbody>\n",
       "</table>\n",
       "</dd>\n",
       "\t<dt>$OutputCasTables</dt>\n",
       "\t\t<dd><table>\n",
       "<thead><tr><th scope=col>casLib</th><th scope=col>Name</th><th scope=col>Rows</th><th scope=col>Columns</th></tr></thead>\n",
       "<tbody>\n",
       "\t<tr><td>CASUSERHDFS(sebastien)</td><td>nn_model              </td><td>135                   </td><td>15                    </td></tr>\n",
       "</tbody>\n",
       "</table>\n",
       "</dd>\n",
       "</dl>\n"
      ],
      "text/latex": [
       "\\begin{description}\n",
       "\\item[\\$OptIterHistory] \\begin{tabular}{r|llll}\n",
       " Progress & Objective & Loss & FitError\\\\\n",
       "\\hline\n",
       "\t  1        & 2.794649  & 2.794649  & 0.4458293\\\\\n",
       "\t  2        & 1.996029  & 1.996029  & 0.2001438\\\\\n",
       "\t  3        & 1.856819  & 1.856819  & 0.1982263\\\\\n",
       "\t  4        & 1.644581  & 1.644581  & 0.1713806\\\\\n",
       "\t  5        & 1.589595  & 1.589595  & 0.1646692\\\\\n",
       "\t  6        & 1.569046  & 1.569046  & 0.1625120\\\\\n",
       "\t  7        & 1.557040  & 1.557040  & 0.1601151\\\\\n",
       "\t  8        & 1.535277  & 1.535277  & 0.1574784\\\\\n",
       "\t  9        & 1.506865  & 1.506865  & 0.1550815\\\\\n",
       "\t 10        & 1.499063  & 1.499063  & 0.1543624\\\\\n",
       "\\end{tabular}\n",
       "\n",
       "\\item[\\$ConvergenceStatus] \\begin{tabular}{r|l}\n",
       " Reason\\\\\n",
       "\\hline\n",
       "\t The optimization exited on maximum iterations.\\\\\n",
       "\\end{tabular}\n",
       "\n",
       "\\item[\\$ModelInfo] \\begin{tabular}{r|ll}\n",
       " Descr & Value\\\\\n",
       "\\hline\n",
       "\t Model                       & Neural Net                 \\\\\n",
       "\t Number of Observations Used & 4172                       \\\\\n",
       "\t Number of Observations Read & 4172                       \\\\\n",
       "\t Target/Response Variable    & BAD                        \\\\\n",
       "\t Number of Nodes             & 27                         \\\\\n",
       "\t Number of Input Nodes       & 18                         \\\\\n",
       "\t Number of Output Nodes      & 2                          \\\\\n",
       "\t Number of Hidden Nodes      & 7                          \\\\\n",
       "\t Number of Hidden Layers     & 1                          \\\\\n",
       "\t Number of Weight Parameters & 133                        \\\\\n",
       "\t Number of Bias Parameters   & 9                          \\\\\n",
       "\t Architecture                & MLP                        \\\\\n",
       "\t Number of Neural Nets       & 1                          \\\\\n",
       "\t Objective Value             & 1.4990634459               \\\\\n",
       "\\end{tabular}\n",
       "\n",
       "\\item[\\$OutputCasTables] \\begin{tabular}{r|llll}\n",
       " casLib & Name & Rows & Columns\\\\\n",
       "\\hline\n",
       "\t CASUSERHDFS(sebastien) & nn\\_model             & 135                    & 15                    \\\\\n",
       "\\end{tabular}\n",
       "\n",
       "\\end{description}\n"
      ],
      "text/markdown": [
       "$OptIterHistory\n",
       ":   \n",
       "| Progress | Objective | Loss | FitError |\n",
       "|---|---|---|---|\n",
       "|  1        | 2.794649  | 2.794649  | 0.4458293 |\n",
       "|  2        | 1.996029  | 1.996029  | 0.2001438 |\n",
       "|  3        | 1.856819  | 1.856819  | 0.1982263 |\n",
       "|  4        | 1.644581  | 1.644581  | 0.1713806 |\n",
       "|  5        | 1.589595  | 1.589595  | 0.1646692 |\n",
       "|  6        | 1.569046  | 1.569046  | 0.1625120 |\n",
       "|  7        | 1.557040  | 1.557040  | 0.1601151 |\n",
       "|  8        | 1.535277  | 1.535277  | 0.1574784 |\n",
       "|  9        | 1.506865  | 1.506865  | 0.1550815 |\n",
       "| 10        | 1.499063  | 1.499063  | 0.1543624 |\n",
       "\n",
       "\n",
       "$ConvergenceStatus\n",
       ":   \n",
       "| Reason |\n",
       "|---|\n",
       "| The optimization exited on maximum iterations. |\n",
       "\n",
       "\n",
       "$ModelInfo\n",
       ":   \n",
       "| Descr | Value |\n",
       "|---|---|\n",
       "| Model                       | Neural Net                  |\n",
       "| Number of Observations Used | 4172                        |\n",
       "| Number of Observations Read | 4172                        |\n",
       "| Target/Response Variable    | BAD                         |\n",
       "| Number of Nodes             | 27                          |\n",
       "| Number of Input Nodes       | 18                          |\n",
       "| Number of Output Nodes      | 2                           |\n",
       "| Number of Hidden Nodes      | 7                           |\n",
       "| Number of Hidden Layers     | 1                           |\n",
       "| Number of Weight Parameters | 133                         |\n",
       "| Number of Bias Parameters   | 9                           |\n",
       "| Architecture                | MLP                         |\n",
       "| Number of Neural Nets       | 1                           |\n",
       "| Objective Value             | 1.4990634459                |\n",
       "\n",
       "\n",
       "$OutputCasTables\n",
       ":   \n",
       "| casLib | Name | Rows | Columns |\n",
       "|---|---|---|---|\n",
       "| CASUSERHDFS(sebastien) | nn_model               | 135                    | 15                     |\n",
       "\n",
       "\n",
       "\n",
       "\n"
      ],
      "text/plain": [
       "$OptIterHistory\n",
       "   Progress Objective     Loss  FitError\n",
       "1         1  2.794649 2.794649 0.4458293\n",
       "2         2  1.996029 1.996029 0.2001438\n",
       "3         3  1.856819 1.856819 0.1982263\n",
       "4         4  1.644581 1.644581 0.1713806\n",
       "5         5  1.589595 1.589595 0.1646692\n",
       "6         6  1.569046 1.569046 0.1625120\n",
       "7         7  1.557040 1.557040 0.1601151\n",
       "8         8  1.535277 1.535277 0.1574784\n",
       "9         9  1.506865 1.506865 0.1550815\n",
       "10       10  1.499063 1.499063 0.1543624\n",
       "\n",
       "$ConvergenceStatus\n",
       "                                          Reason\n",
       "1 The optimization exited on maximum iterations.\n",
       "\n",
       "$ModelInfo\n",
       "                         Descr        Value\n",
       "1                        Model   Neural Net\n",
       "2  Number of Observations Used         4172\n",
       "3  Number of Observations Read         4172\n",
       "4     Target/Response Variable          BAD\n",
       "5              Number of Nodes           27\n",
       "6        Number of Input Nodes           18\n",
       "7       Number of Output Nodes            2\n",
       "8       Number of Hidden Nodes            7\n",
       "9      Number of Hidden Layers            1\n",
       "10 Number of Weight Parameters          133\n",
       "11   Number of Bias Parameters            9\n",
       "12                Architecture          MLP\n",
       "13       Number of Neural Nets            1\n",
       "14             Objective Value 1.4990634459\n",
       "\n",
       "$OutputCasTables\n",
       "                  casLib     Name Rows Columns\n",
       "1 CASUSERHDFS(sebastien) nn_model  135      15\n"
      ]
     },
     "metadata": {},
     "output_type": "display_data"
    }
   ],
   "source": [
    "cas.neuralNet.annTrain(conn,\n",
    "    table = list(name = indata, where = '_PartInd_ = 0'),\n",
    "    target = target,\n",
    "    inputs = imp.inputs,\n",
    "    hidden = 7,\n",
    "    nominals = imp.nominals,\n",
    "    casOut = list(name = 'nn_model', replace = TRUE)\n",
    ")"
   ]
  },
  {
   "cell_type": "markdown",
   "metadata": {},
   "source": [
    "# Score the Models"
   ]
  },
  {
   "cell_type": "code",
   "execution_count": 24,
   "metadata": {
    "collapsed": false,
    "jupyter": {
     "outputs_hidden": false
    }
   },
   "outputs": [
    {
     "data": {
      "text/html": [
       "<ol>\n",
       "\t<li><dl>\n",
       "\t<dt>$OutputCasTables</dt>\n",
       "\t\t<dd><table>\n",
       "<thead><tr><th scope=col>casLib</th><th scope=col>Name</th><th scope=col>Rows</th><th scope=col>Columns</th></tr></thead>\n",
       "<tbody>\n",
       "\t<tr><td>CASUSERHDFS(sebastien)</td><td>dt_scored             </td><td>5960                  </td><td>16                    </td></tr>\n",
       "</tbody>\n",
       "</table>\n",
       "</dd>\n",
       "\t<dt>$ScoreInfo</dt>\n",
       "\t\t<dd><table>\n",
       "<thead><tr><th scope=col>Descr</th><th scope=col>Value</th></tr></thead>\n",
       "<tbody>\n",
       "\t<tr><td>Number of Observations Read     </td><td>                            5960</td></tr>\n",
       "\t<tr><td>Number of Observations Used     </td><td>                            5960</td></tr>\n",
       "\t<tr><td>Misclassification Error (%)     </td><td>                    12.852348993</td></tr>\n",
       "</tbody>\n",
       "</table>\n",
       "</dd>\n",
       "</dl>\n",
       "</li>\n",
       "\t<li><dl>\n",
       "\t<dt>$OutputCasTables</dt>\n",
       "\t\t<dd><table>\n",
       "<thead><tr><th scope=col>casLib</th><th scope=col>Name</th><th scope=col>Rows</th><th scope=col>Columns</th></tr></thead>\n",
       "<tbody>\n",
       "\t<tr><td>CASUSERHDFS(sebastien)</td><td>rf_scored             </td><td>5960                  </td><td>9                     </td></tr>\n",
       "</tbody>\n",
       "</table>\n",
       "</dd>\n",
       "\t<dt>$ScoreInfo</dt>\n",
       "\t\t<dd><table>\n",
       "<thead><tr><th scope=col>Descr</th><th scope=col>Value</th></tr></thead>\n",
       "<tbody>\n",
       "\t<tr><td>Number of Observations Read     </td><td>                            5960</td></tr>\n",
       "\t<tr><td>Number of Observations Used     </td><td>                            5960</td></tr>\n",
       "\t<tr><td>Misclassification Error (%)     </td><td>                    13.506711409</td></tr>\n",
       "</tbody>\n",
       "</table>\n",
       "</dd>\n",
       "</dl>\n",
       "</li>\n",
       "\t<li><dl>\n",
       "\t<dt>$OutputCasTables</dt>\n",
       "\t\t<dd><table>\n",
       "<thead><tr><th scope=col>casLib</th><th scope=col>Name</th><th scope=col>Rows</th><th scope=col>Columns</th></tr></thead>\n",
       "<tbody>\n",
       "\t<tr><td>CASUSERHDFS(sebastien)</td><td>gbt_scored            </td><td>5960                  </td><td>8                     </td></tr>\n",
       "</tbody>\n",
       "</table>\n",
       "</dd>\n",
       "\t<dt>$ScoreInfo</dt>\n",
       "\t\t<dd><table>\n",
       "<thead><tr><th scope=col>Descr</th><th scope=col>Value</th></tr></thead>\n",
       "<tbody>\n",
       "\t<tr><td>Number of Observations Read     </td><td>                            5960</td></tr>\n",
       "\t<tr><td>Number of Observations Used     </td><td>                            5960</td></tr>\n",
       "\t<tr><td>Misclassification Error (%)     </td><td>                    8.0704697987</td></tr>\n",
       "</tbody>\n",
       "</table>\n",
       "</dd>\n",
       "\t<dt>$ErrorMetricInfo</dt>\n",
       "\t\t<dd><table>\n",
       "<thead><tr><th scope=col>TreeID</th><th scope=col>Trees</th><th scope=col>NLeaves</th><th scope=col>MCR</th><th scope=col>LogLoss</th><th scope=col>ASE</th><th scope=col>RASE</th><th scope=col>MAXAE</th></tr></thead>\n",
       "<tbody>\n",
       "\t<tr><td> 0        </td><td> 1        </td><td> 16       </td><td>0.19949664</td><td>0.4603837 </td><td>0.14623147</td><td>0.3824022 </td><td>0.8140545 </td></tr>\n",
       "\t<tr><td> 1        </td><td> 2        </td><td> 29       </td><td>0.19949664</td><td>0.4301968 </td><td>0.13504254</td><td>0.3674813 </td><td>0.8284328 </td></tr>\n",
       "\t<tr><td> 2        </td><td> 3        </td><td> 39       </td><td>0.19949664</td><td>0.4062008 </td><td>0.12574545</td><td>0.3546061 </td><td>0.8404973 </td></tr>\n",
       "\t<tr><td> 3        </td><td> 4        </td><td> 55       </td><td>0.19949664</td><td>0.3860805 </td><td>0.11800282</td><td>0.3435154 </td><td>0.8542575 </td></tr>\n",
       "\t<tr><td> 4        </td><td> 5        </td><td> 69       </td><td>0.19580537</td><td>0.3692548 </td><td>0.11139258</td><td>0.3337553 </td><td>0.8645895 </td></tr>\n",
       "\t<tr><td> 5        </td><td> 6        </td><td> 85       </td><td>0.15906040</td><td>0.3550958 </td><td>0.10599238</td><td>0.3255647 </td><td>0.8745527 </td></tr>\n",
       "\t<tr><td> 6        </td><td> 7        </td><td>101       </td><td>0.14614094</td><td>0.3426573 </td><td>0.10130336</td><td>0.3182819 </td><td>0.8837443 </td></tr>\n",
       "\t<tr><td> 7        </td><td> 8        </td><td>116       </td><td>0.13657718</td><td>0.3318259 </td><td>0.09743704</td><td>0.3121491 </td><td>0.8922849 </td></tr>\n",
       "\t<tr><td> 8        </td><td> 9        </td><td>131       </td><td>0.12701342</td><td>0.3227283 </td><td>0.09414100</td><td>0.3068240 </td><td>0.9000633 </td></tr>\n",
       "\t<tr><td> 9        </td><td>10        </td><td>147       </td><td>0.12013423</td><td>0.3144798 </td><td>0.09119440</td><td>0.3019841 </td><td>0.9069685 </td></tr>\n",
       "\t<tr><td>10        </td><td>11        </td><td>161       </td><td>0.11526846</td><td>0.3076276 </td><td>0.08879509</td><td>0.2979851 </td><td>0.9139652 </td></tr>\n",
       "\t<tr><td>11        </td><td>12        </td><td>176       </td><td>0.11023490</td><td>0.3016428 </td><td>0.08666851</td><td>0.2943952 </td><td>0.9185238 </td></tr>\n",
       "\t<tr><td>12        </td><td>13        </td><td>191       </td><td>0.10654362</td><td>0.2964216 </td><td>0.08504690</td><td>0.2916280 </td><td>0.9252202 </td></tr>\n",
       "\t<tr><td>13        </td><td>14        </td><td>207       </td><td>0.10352349</td><td>0.2908837 </td><td>0.08326264</td><td>0.2885527 </td><td>0.9299765 </td></tr>\n",
       "\t<tr><td>14        </td><td>15        </td><td>222       </td><td>0.10151007</td><td>0.2864346 </td><td>0.08188736</td><td>0.2861597 </td><td>0.9341551 </td></tr>\n",
       "\t<tr><td>15        </td><td>16        </td><td>237       </td><td>0.10218121</td><td>0.2826904 </td><td>0.08082260</td><td>0.2842932 </td><td>0.9379097 </td></tr>\n",
       "\t<tr><td>16        </td><td>17        </td><td>252       </td><td>0.10083893</td><td>0.2786869 </td><td>0.07964230</td><td>0.2822097 </td><td>0.9429536 </td></tr>\n",
       "\t<tr><td>17        </td><td>18        </td><td>268       </td><td>0.09949664</td><td>0.2750531 </td><td>0.07862108</td><td>0.2803945 </td><td>0.9462319 </td></tr>\n",
       "\t<tr><td>18        </td><td>19        </td><td>283       </td><td>0.09798658</td><td>0.2717276 </td><td>0.07763713</td><td>0.2786344 </td><td>0.9494399 </td></tr>\n",
       "\t<tr><td>19        </td><td>20        </td><td>299       </td><td>0.09765101</td><td>0.2680388 </td><td>0.07656290</td><td>0.2767000 </td><td>0.9535297 </td></tr>\n",
       "\t<tr><td>20        </td><td>21        </td><td>314       </td><td>0.09714765</td><td>0.2649041 </td><td>0.07566117</td><td>0.2750658 </td><td>0.9563635 </td></tr>\n",
       "\t<tr><td>21        </td><td>22        </td><td>327       </td><td>0.09681208</td><td>0.2621596 </td><td>0.07493945</td><td>0.2737507 </td><td>0.9582940 </td></tr>\n",
       "\t<tr><td>22        </td><td>23        </td><td>343       </td><td>0.09731544</td><td>0.2586739 </td><td>0.07388276</td><td>0.2718138 </td><td>0.9611379 </td></tr>\n",
       "\t<tr><td>23        </td><td>24        </td><td>358       </td><td>0.09513423</td><td>0.2560823 </td><td>0.07306659</td><td>0.2703083 </td><td>0.9636616 </td></tr>\n",
       "\t<tr><td>24        </td><td>25        </td><td>372       </td><td>0.09345638</td><td>0.2532257 </td><td>0.07215893</td><td>0.2686241 </td><td>0.9655026 </td></tr>\n",
       "\t<tr><td>25        </td><td>26        </td><td>386       </td><td>0.09278523</td><td>0.2508334 </td><td>0.07145644</td><td>0.2673134 </td><td>0.9669232 </td></tr>\n",
       "\t<tr><td>26        </td><td>27        </td><td>400       </td><td>0.09228188</td><td>0.2481299 </td><td>0.07065425</td><td>0.2658087 </td><td>0.9684207 </td></tr>\n",
       "\t<tr><td>27        </td><td>28        </td><td>416       </td><td>0.09211409</td><td>0.2460884 </td><td>0.07012237</td><td>0.2648063 </td><td>0.9700428 </td></tr>\n",
       "\t<tr><td>28        </td><td>29        </td><td>432       </td><td>0.09144295</td><td>0.2434052 </td><td>0.06930925</td><td>0.2632665 </td><td>0.9699020 </td></tr>\n",
       "\t<tr><td>29        </td><td>30        </td><td>442       </td><td>0.08926174</td><td>0.2417387 </td><td>0.06883718</td><td>0.2623684 </td><td>0.9711486 </td></tr>\n",
       "\t<tr><td>30        </td><td>31        </td><td>458       </td><td>0.08859060</td><td>0.2391678 </td><td>0.06803790</td><td>0.2608408 </td><td>0.9722691 </td></tr>\n",
       "\t<tr><td>31        </td><td>32        </td><td>474       </td><td>0.08808725</td><td>0.2379837 </td><td>0.06783613</td><td>0.2604537 </td><td>0.9748077 </td></tr>\n",
       "\t<tr><td>32        </td><td>33        </td><td>488       </td><td>0.08791946</td><td>0.2362999 </td><td>0.06730621</td><td>0.2594344 </td><td>0.9751518 </td></tr>\n",
       "\t<tr><td>33        </td><td>34        </td><td>504       </td><td>0.08842282</td><td>0.2349315 </td><td>0.06701392</td><td>0.2588705 </td><td>0.9758202 </td></tr>\n",
       "\t<tr><td>34        </td><td>35        </td><td>513       </td><td>0.08741611</td><td>0.2335314 </td><td>0.06653903</td><td>0.2579516 </td><td>0.9763886 </td></tr>\n",
       "\t<tr><td>35        </td><td>36        </td><td>528       </td><td>0.08590604</td><td>0.2316202 </td><td>0.06594437</td><td>0.2567964 </td><td>0.9770635 </td></tr>\n",
       "\t<tr><td>36        </td><td>37        </td><td>542       </td><td>0.08540268</td><td>0.2302256 </td><td>0.06552769</td><td>0.2559838 </td><td>0.9777453 </td></tr>\n",
       "\t<tr><td>37        </td><td>38        </td><td>553       </td><td>0.08607383</td><td>0.2290313 </td><td>0.06522922</td><td>0.2554001 </td><td>0.9785892 </td></tr>\n",
       "\t<tr><td>38        </td><td>39        </td><td>569       </td><td>0.08540268</td><td>0.2273382 </td><td>0.06469007</td><td>0.2543424 </td><td>0.9794025 </td></tr>\n",
       "\t<tr><td>39        </td><td>40        </td><td>584       </td><td>0.08422819</td><td>0.2257082 </td><td>0.06422354</td><td>0.2534236 </td><td>0.9802024 </td></tr>\n",
       "\t<tr><td>40        </td><td>41        </td><td>592       </td><td>0.08389262</td><td>0.2247993 </td><td>0.06397018</td><td>0.2529233 </td><td>0.9805281 </td></tr>\n",
       "\t<tr><td>41        </td><td>42        </td><td>601       </td><td>0.08389262</td><td>0.2238373 </td><td>0.06369687</td><td>0.2523824 </td><td>0.9812550 </td></tr>\n",
       "\t<tr><td>42        </td><td>43        </td><td>616       </td><td>0.08439597</td><td>0.2225432 </td><td>0.06337692</td><td>0.2517477 </td><td>0.9812140 </td></tr>\n",
       "\t<tr><td>43        </td><td>44        </td><td>627       </td><td>0.08322148</td><td>0.2214059 </td><td>0.06305154</td><td>0.2511007 </td><td>0.9817081 </td></tr>\n",
       "\t<tr><td>44        </td><td>45        </td><td>641       </td><td>0.08288591</td><td>0.2197735 </td><td>0.06255106</td><td>0.2501021 </td><td>0.9809284 </td></tr>\n",
       "\t<tr><td>45        </td><td>46        </td><td>656       </td><td>0.08221477</td><td>0.2184898 </td><td>0.06228685</td><td>0.2495733 </td><td>0.9813032 </td></tr>\n",
       "\t<tr><td>46        </td><td>47        </td><td>670       </td><td>0.08187919</td><td>0.2173248 </td><td>0.06193095</td><td>0.2488593 </td><td>0.9816335 </td></tr>\n",
       "\t<tr><td>47        </td><td>48        </td><td>686       </td><td>0.08120805</td><td>0.2161159 </td><td>0.06160070</td><td>0.2481949 </td><td>0.9819062 </td></tr>\n",
       "\t<tr><td>48        </td><td>49        </td><td>696       </td><td>0.08104027</td><td>0.2152671 </td><td>0.06141349</td><td>0.2478175 </td><td>0.9831542 </td></tr>\n",
       "\t<tr><td>49        </td><td>50        </td><td>711       </td><td>0.08070470</td><td>0.2137488 </td><td>0.06098589</td><td>0.2469532 </td><td>0.9827086 </td></tr>\n",
       "</tbody>\n",
       "</table>\n",
       "</dd>\n",
       "</dl>\n",
       "</li>\n",
       "\t<li><dl>\n",
       "\t<dt>$OutputCasTables</dt>\n",
       "\t\t<dd><table>\n",
       "<thead><tr><th scope=col>casLib</th><th scope=col>Name</th><th scope=col>Rows</th><th scope=col>Columns</th></tr></thead>\n",
       "<tbody>\n",
       "\t<tr><td>CASUSERHDFS(sebastien)</td><td>nn_scored             </td><td>5960                  </td><td>6                     </td></tr>\n",
       "</tbody>\n",
       "</table>\n",
       "</dd>\n",
       "\t<dt>$ScoreInfo</dt>\n",
       "\t\t<dd><table>\n",
       "<thead><tr><th scope=col>Descr</th><th scope=col>Value</th></tr></thead>\n",
       "<tbody>\n",
       "\t<tr><td>Number of Observations Read     </td><td>                            5960</td></tr>\n",
       "\t<tr><td>Number of Observations Used     </td><td>                            5960</td></tr>\n",
       "\t<tr><td>Misclassification Error (%)     </td><td>                    15.419463087</td></tr>\n",
       "</tbody>\n",
       "</table>\n",
       "</dd>\n",
       "</dl>\n",
       "</li>\n",
       "</ol>\n"
      ],
      "text/latex": [
       "\\begin{enumerate}\n",
       "\\item \\begin{description}\n",
       "\\item[\\$OutputCasTables] \\begin{tabular}{r|llll}\n",
       " casLib & Name & Rows & Columns\\\\\n",
       "\\hline\n",
       "\t CASUSERHDFS(sebastien) & dt\\_scored            & 5960                   & 16                    \\\\\n",
       "\\end{tabular}\n",
       "\n",
       "\\item[\\$ScoreInfo] \\begin{tabular}{r|ll}\n",
       " Descr & Value\\\\\n",
       "\\hline\n",
       "\t Number of Observations Read      &                             5960\\\\\n",
       "\t Number of Observations Used      &                             5960\\\\\n",
       "\t Misclassification Error (\\%)    &                     12.852348993\\\\\n",
       "\\end{tabular}\n",
       "\n",
       "\\end{description}\n",
       "\n",
       "\\item \\begin{description}\n",
       "\\item[\\$OutputCasTables] \\begin{tabular}{r|llll}\n",
       " casLib & Name & Rows & Columns\\\\\n",
       "\\hline\n",
       "\t CASUSERHDFS(sebastien) & rf\\_scored            & 5960                   & 9                     \\\\\n",
       "\\end{tabular}\n",
       "\n",
       "\\item[\\$ScoreInfo] \\begin{tabular}{r|ll}\n",
       " Descr & Value\\\\\n",
       "\\hline\n",
       "\t Number of Observations Read      &                             5960\\\\\n",
       "\t Number of Observations Used      &                             5960\\\\\n",
       "\t Misclassification Error (\\%)    &                     13.506711409\\\\\n",
       "\\end{tabular}\n",
       "\n",
       "\\end{description}\n",
       "\n",
       "\\item \\begin{description}\n",
       "\\item[\\$OutputCasTables] \\begin{tabular}{r|llll}\n",
       " casLib & Name & Rows & Columns\\\\\n",
       "\\hline\n",
       "\t CASUSERHDFS(sebastien) & gbt\\_scored           & 5960                   & 8                     \\\\\n",
       "\\end{tabular}\n",
       "\n",
       "\\item[\\$ScoreInfo] \\begin{tabular}{r|ll}\n",
       " Descr & Value\\\\\n",
       "\\hline\n",
       "\t Number of Observations Read      &                             5960\\\\\n",
       "\t Number of Observations Used      &                             5960\\\\\n",
       "\t Misclassification Error (\\%)    &                     8.0704697987\\\\\n",
       "\\end{tabular}\n",
       "\n",
       "\\item[\\$ErrorMetricInfo] \\begin{tabular}{r|llllllll}\n",
       " TreeID & Trees & NLeaves & MCR & LogLoss & ASE & RASE & MAXAE\\\\\n",
       "\\hline\n",
       "\t  0         &  1         &  16        & 0.19949664 & 0.4603837  & 0.14623147 & 0.3824022  & 0.8140545 \\\\\n",
       "\t  1         &  2         &  29        & 0.19949664 & 0.4301968  & 0.13504254 & 0.3674813  & 0.8284328 \\\\\n",
       "\t  2         &  3         &  39        & 0.19949664 & 0.4062008  & 0.12574545 & 0.3546061  & 0.8404973 \\\\\n",
       "\t  3         &  4         &  55        & 0.19949664 & 0.3860805  & 0.11800282 & 0.3435154  & 0.8542575 \\\\\n",
       "\t  4         &  5         &  69        & 0.19580537 & 0.3692548  & 0.11139258 & 0.3337553  & 0.8645895 \\\\\n",
       "\t  5         &  6         &  85        & 0.15906040 & 0.3550958  & 0.10599238 & 0.3255647  & 0.8745527 \\\\\n",
       "\t  6         &  7         & 101        & 0.14614094 & 0.3426573  & 0.10130336 & 0.3182819  & 0.8837443 \\\\\n",
       "\t  7         &  8         & 116        & 0.13657718 & 0.3318259  & 0.09743704 & 0.3121491  & 0.8922849 \\\\\n",
       "\t  8         &  9         & 131        & 0.12701342 & 0.3227283  & 0.09414100 & 0.3068240  & 0.9000633 \\\\\n",
       "\t  9         & 10         & 147        & 0.12013423 & 0.3144798  & 0.09119440 & 0.3019841  & 0.9069685 \\\\\n",
       "\t 10         & 11         & 161        & 0.11526846 & 0.3076276  & 0.08879509 & 0.2979851  & 0.9139652 \\\\\n",
       "\t 11         & 12         & 176        & 0.11023490 & 0.3016428  & 0.08666851 & 0.2943952  & 0.9185238 \\\\\n",
       "\t 12         & 13         & 191        & 0.10654362 & 0.2964216  & 0.08504690 & 0.2916280  & 0.9252202 \\\\\n",
       "\t 13         & 14         & 207        & 0.10352349 & 0.2908837  & 0.08326264 & 0.2885527  & 0.9299765 \\\\\n",
       "\t 14         & 15         & 222        & 0.10151007 & 0.2864346  & 0.08188736 & 0.2861597  & 0.9341551 \\\\\n",
       "\t 15         & 16         & 237        & 0.10218121 & 0.2826904  & 0.08082260 & 0.2842932  & 0.9379097 \\\\\n",
       "\t 16         & 17         & 252        & 0.10083893 & 0.2786869  & 0.07964230 & 0.2822097  & 0.9429536 \\\\\n",
       "\t 17         & 18         & 268        & 0.09949664 & 0.2750531  & 0.07862108 & 0.2803945  & 0.9462319 \\\\\n",
       "\t 18         & 19         & 283        & 0.09798658 & 0.2717276  & 0.07763713 & 0.2786344  & 0.9494399 \\\\\n",
       "\t 19         & 20         & 299        & 0.09765101 & 0.2680388  & 0.07656290 & 0.2767000  & 0.9535297 \\\\\n",
       "\t 20         & 21         & 314        & 0.09714765 & 0.2649041  & 0.07566117 & 0.2750658  & 0.9563635 \\\\\n",
       "\t 21         & 22         & 327        & 0.09681208 & 0.2621596  & 0.07493945 & 0.2737507  & 0.9582940 \\\\\n",
       "\t 22         & 23         & 343        & 0.09731544 & 0.2586739  & 0.07388276 & 0.2718138  & 0.9611379 \\\\\n",
       "\t 23         & 24         & 358        & 0.09513423 & 0.2560823  & 0.07306659 & 0.2703083  & 0.9636616 \\\\\n",
       "\t 24         & 25         & 372        & 0.09345638 & 0.2532257  & 0.07215893 & 0.2686241  & 0.9655026 \\\\\n",
       "\t 25         & 26         & 386        & 0.09278523 & 0.2508334  & 0.07145644 & 0.2673134  & 0.9669232 \\\\\n",
       "\t 26         & 27         & 400        & 0.09228188 & 0.2481299  & 0.07065425 & 0.2658087  & 0.9684207 \\\\\n",
       "\t 27         & 28         & 416        & 0.09211409 & 0.2460884  & 0.07012237 & 0.2648063  & 0.9700428 \\\\\n",
       "\t 28         & 29         & 432        & 0.09144295 & 0.2434052  & 0.06930925 & 0.2632665  & 0.9699020 \\\\\n",
       "\t 29         & 30         & 442        & 0.08926174 & 0.2417387  & 0.06883718 & 0.2623684  & 0.9711486 \\\\\n",
       "\t 30         & 31         & 458        & 0.08859060 & 0.2391678  & 0.06803790 & 0.2608408  & 0.9722691 \\\\\n",
       "\t 31         & 32         & 474        & 0.08808725 & 0.2379837  & 0.06783613 & 0.2604537  & 0.9748077 \\\\\n",
       "\t 32         & 33         & 488        & 0.08791946 & 0.2362999  & 0.06730621 & 0.2594344  & 0.9751518 \\\\\n",
       "\t 33         & 34         & 504        & 0.08842282 & 0.2349315  & 0.06701392 & 0.2588705  & 0.9758202 \\\\\n",
       "\t 34         & 35         & 513        & 0.08741611 & 0.2335314  & 0.06653903 & 0.2579516  & 0.9763886 \\\\\n",
       "\t 35         & 36         & 528        & 0.08590604 & 0.2316202  & 0.06594437 & 0.2567964  & 0.9770635 \\\\\n",
       "\t 36         & 37         & 542        & 0.08540268 & 0.2302256  & 0.06552769 & 0.2559838  & 0.9777453 \\\\\n",
       "\t 37         & 38         & 553        & 0.08607383 & 0.2290313  & 0.06522922 & 0.2554001  & 0.9785892 \\\\\n",
       "\t 38         & 39         & 569        & 0.08540268 & 0.2273382  & 0.06469007 & 0.2543424  & 0.9794025 \\\\\n",
       "\t 39         & 40         & 584        & 0.08422819 & 0.2257082  & 0.06422354 & 0.2534236  & 0.9802024 \\\\\n",
       "\t 40         & 41         & 592        & 0.08389262 & 0.2247993  & 0.06397018 & 0.2529233  & 0.9805281 \\\\\n",
       "\t 41         & 42         & 601        & 0.08389262 & 0.2238373  & 0.06369687 & 0.2523824  & 0.9812550 \\\\\n",
       "\t 42         & 43         & 616        & 0.08439597 & 0.2225432  & 0.06337692 & 0.2517477  & 0.9812140 \\\\\n",
       "\t 43         & 44         & 627        & 0.08322148 & 0.2214059  & 0.06305154 & 0.2511007  & 0.9817081 \\\\\n",
       "\t 44         & 45         & 641        & 0.08288591 & 0.2197735  & 0.06255106 & 0.2501021  & 0.9809284 \\\\\n",
       "\t 45         & 46         & 656        & 0.08221477 & 0.2184898  & 0.06228685 & 0.2495733  & 0.9813032 \\\\\n",
       "\t 46         & 47         & 670        & 0.08187919 & 0.2173248  & 0.06193095 & 0.2488593  & 0.9816335 \\\\\n",
       "\t 47         & 48         & 686        & 0.08120805 & 0.2161159  & 0.06160070 & 0.2481949  & 0.9819062 \\\\\n",
       "\t 48         & 49         & 696        & 0.08104027 & 0.2152671  & 0.06141349 & 0.2478175  & 0.9831542 \\\\\n",
       "\t 49         & 50         & 711        & 0.08070470 & 0.2137488  & 0.06098589 & 0.2469532  & 0.9827086 \\\\\n",
       "\\end{tabular}\n",
       "\n",
       "\\end{description}\n",
       "\n",
       "\\item \\begin{description}\n",
       "\\item[\\$OutputCasTables] \\begin{tabular}{r|llll}\n",
       " casLib & Name & Rows & Columns\\\\\n",
       "\\hline\n",
       "\t CASUSERHDFS(sebastien) & nn\\_scored            & 5960                   & 6                     \\\\\n",
       "\\end{tabular}\n",
       "\n",
       "\\item[\\$ScoreInfo] \\begin{tabular}{r|ll}\n",
       " Descr & Value\\\\\n",
       "\\hline\n",
       "\t Number of Observations Read      &                             5960\\\\\n",
       "\t Number of Observations Used      &                             5960\\\\\n",
       "\t Misclassification Error (\\%)    &                     15.419463087\\\\\n",
       "\\end{tabular}\n",
       "\n",
       "\\end{description}\n",
       "\n",
       "\\end{enumerate}\n"
      ],
      "text/markdown": [
       "1. $OutputCasTables\n",
       ":   \n",
       "| casLib | Name | Rows | Columns |\n",
       "|---|---|---|---|\n",
       "| CASUSERHDFS(sebastien) | dt_scored              | 5960                   | 16                     |\n",
       "\n",
       "\n",
       "$ScoreInfo\n",
       ":   \n",
       "| Descr | Value |\n",
       "|---|---|\n",
       "| Number of Observations Read      |                             5960 |\n",
       "| Number of Observations Used      |                             5960 |\n",
       "| Misclassification Error (%)      |                     12.852348993 |\n",
       "\n",
       "\n",
       "\n",
       "\n",
       "\n",
       "2. $OutputCasTables\n",
       ":   \n",
       "| casLib | Name | Rows | Columns |\n",
       "|---|---|---|---|\n",
       "| CASUSERHDFS(sebastien) | rf_scored              | 5960                   | 9                      |\n",
       "\n",
       "\n",
       "$ScoreInfo\n",
       ":   \n",
       "| Descr | Value |\n",
       "|---|---|\n",
       "| Number of Observations Read      |                             5960 |\n",
       "| Number of Observations Used      |                             5960 |\n",
       "| Misclassification Error (%)      |                     13.506711409 |\n",
       "\n",
       "\n",
       "\n",
       "\n",
       "\n",
       "3. $OutputCasTables\n",
       ":   \n",
       "| casLib | Name | Rows | Columns |\n",
       "|---|---|---|---|\n",
       "| CASUSERHDFS(sebastien) | gbt_scored             | 5960                   | 8                      |\n",
       "\n",
       "\n",
       "$ScoreInfo\n",
       ":   \n",
       "| Descr | Value |\n",
       "|---|---|\n",
       "| Number of Observations Read      |                             5960 |\n",
       "| Number of Observations Used      |                             5960 |\n",
       "| Misclassification Error (%)      |                     8.0704697987 |\n",
       "\n",
       "\n",
       "$ErrorMetricInfo\n",
       ":   \n",
       "| TreeID | Trees | NLeaves | MCR | LogLoss | ASE | RASE | MAXAE |\n",
       "|---|---|---|---|---|---|---|---|\n",
       "|  0         |  1         |  16        | 0.19949664 | 0.4603837  | 0.14623147 | 0.3824022  | 0.8140545  |\n",
       "|  1         |  2         |  29        | 0.19949664 | 0.4301968  | 0.13504254 | 0.3674813  | 0.8284328  |\n",
       "|  2         |  3         |  39        | 0.19949664 | 0.4062008  | 0.12574545 | 0.3546061  | 0.8404973  |\n",
       "|  3         |  4         |  55        | 0.19949664 | 0.3860805  | 0.11800282 | 0.3435154  | 0.8542575  |\n",
       "|  4         |  5         |  69        | 0.19580537 | 0.3692548  | 0.11139258 | 0.3337553  | 0.8645895  |\n",
       "|  5         |  6         |  85        | 0.15906040 | 0.3550958  | 0.10599238 | 0.3255647  | 0.8745527  |\n",
       "|  6         |  7         | 101        | 0.14614094 | 0.3426573  | 0.10130336 | 0.3182819  | 0.8837443  |\n",
       "|  7         |  8         | 116        | 0.13657718 | 0.3318259  | 0.09743704 | 0.3121491  | 0.8922849  |\n",
       "|  8         |  9         | 131        | 0.12701342 | 0.3227283  | 0.09414100 | 0.3068240  | 0.9000633  |\n",
       "|  9         | 10         | 147        | 0.12013423 | 0.3144798  | 0.09119440 | 0.3019841  | 0.9069685  |\n",
       "| 10         | 11         | 161        | 0.11526846 | 0.3076276  | 0.08879509 | 0.2979851  | 0.9139652  |\n",
       "| 11         | 12         | 176        | 0.11023490 | 0.3016428  | 0.08666851 | 0.2943952  | 0.9185238  |\n",
       "| 12         | 13         | 191        | 0.10654362 | 0.2964216  | 0.08504690 | 0.2916280  | 0.9252202  |\n",
       "| 13         | 14         | 207        | 0.10352349 | 0.2908837  | 0.08326264 | 0.2885527  | 0.9299765  |\n",
       "| 14         | 15         | 222        | 0.10151007 | 0.2864346  | 0.08188736 | 0.2861597  | 0.9341551  |\n",
       "| 15         | 16         | 237        | 0.10218121 | 0.2826904  | 0.08082260 | 0.2842932  | 0.9379097  |\n",
       "| 16         | 17         | 252        | 0.10083893 | 0.2786869  | 0.07964230 | 0.2822097  | 0.9429536  |\n",
       "| 17         | 18         | 268        | 0.09949664 | 0.2750531  | 0.07862108 | 0.2803945  | 0.9462319  |\n",
       "| 18         | 19         | 283        | 0.09798658 | 0.2717276  | 0.07763713 | 0.2786344  | 0.9494399  |\n",
       "| 19         | 20         | 299        | 0.09765101 | 0.2680388  | 0.07656290 | 0.2767000  | 0.9535297  |\n",
       "| 20         | 21         | 314        | 0.09714765 | 0.2649041  | 0.07566117 | 0.2750658  | 0.9563635  |\n",
       "| 21         | 22         | 327        | 0.09681208 | 0.2621596  | 0.07493945 | 0.2737507  | 0.9582940  |\n",
       "| 22         | 23         | 343        | 0.09731544 | 0.2586739  | 0.07388276 | 0.2718138  | 0.9611379  |\n",
       "| 23         | 24         | 358        | 0.09513423 | 0.2560823  | 0.07306659 | 0.2703083  | 0.9636616  |\n",
       "| 24         | 25         | 372        | 0.09345638 | 0.2532257  | 0.07215893 | 0.2686241  | 0.9655026  |\n",
       "| 25         | 26         | 386        | 0.09278523 | 0.2508334  | 0.07145644 | 0.2673134  | 0.9669232  |\n",
       "| 26         | 27         | 400        | 0.09228188 | 0.2481299  | 0.07065425 | 0.2658087  | 0.9684207  |\n",
       "| 27         | 28         | 416        | 0.09211409 | 0.2460884  | 0.07012237 | 0.2648063  | 0.9700428  |\n",
       "| 28         | 29         | 432        | 0.09144295 | 0.2434052  | 0.06930925 | 0.2632665  | 0.9699020  |\n",
       "| 29         | 30         | 442        | 0.08926174 | 0.2417387  | 0.06883718 | 0.2623684  | 0.9711486  |\n",
       "| 30         | 31         | 458        | 0.08859060 | 0.2391678  | 0.06803790 | 0.2608408  | 0.9722691  |\n",
       "| 31         | 32         | 474        | 0.08808725 | 0.2379837  | 0.06783613 | 0.2604537  | 0.9748077  |\n",
       "| 32         | 33         | 488        | 0.08791946 | 0.2362999  | 0.06730621 | 0.2594344  | 0.9751518  |\n",
       "| 33         | 34         | 504        | 0.08842282 | 0.2349315  | 0.06701392 | 0.2588705  | 0.9758202  |\n",
       "| 34         | 35         | 513        | 0.08741611 | 0.2335314  | 0.06653903 | 0.2579516  | 0.9763886  |\n",
       "| 35         | 36         | 528        | 0.08590604 | 0.2316202  | 0.06594437 | 0.2567964  | 0.9770635  |\n",
       "| 36         | 37         | 542        | 0.08540268 | 0.2302256  | 0.06552769 | 0.2559838  | 0.9777453  |\n",
       "| 37         | 38         | 553        | 0.08607383 | 0.2290313  | 0.06522922 | 0.2554001  | 0.9785892  |\n",
       "| 38         | 39         | 569        | 0.08540268 | 0.2273382  | 0.06469007 | 0.2543424  | 0.9794025  |\n",
       "| 39         | 40         | 584        | 0.08422819 | 0.2257082  | 0.06422354 | 0.2534236  | 0.9802024  |\n",
       "| 40         | 41         | 592        | 0.08389262 | 0.2247993  | 0.06397018 | 0.2529233  | 0.9805281  |\n",
       "| 41         | 42         | 601        | 0.08389262 | 0.2238373  | 0.06369687 | 0.2523824  | 0.9812550  |\n",
       "| 42         | 43         | 616        | 0.08439597 | 0.2225432  | 0.06337692 | 0.2517477  | 0.9812140  |\n",
       "| 43         | 44         | 627        | 0.08322148 | 0.2214059  | 0.06305154 | 0.2511007  | 0.9817081  |\n",
       "| 44         | 45         | 641        | 0.08288591 | 0.2197735  | 0.06255106 | 0.2501021  | 0.9809284  |\n",
       "| 45         | 46         | 656        | 0.08221477 | 0.2184898  | 0.06228685 | 0.2495733  | 0.9813032  |\n",
       "| 46         | 47         | 670        | 0.08187919 | 0.2173248  | 0.06193095 | 0.2488593  | 0.9816335  |\n",
       "| 47         | 48         | 686        | 0.08120805 | 0.2161159  | 0.06160070 | 0.2481949  | 0.9819062  |\n",
       "| 48         | 49         | 696        | 0.08104027 | 0.2152671  | 0.06141349 | 0.2478175  | 0.9831542  |\n",
       "| 49         | 50         | 711        | 0.08070470 | 0.2137488  | 0.06098589 | 0.2469532  | 0.9827086  |\n",
       "\n",
       "\n",
       "\n",
       "\n",
       "\n",
       "4. $OutputCasTables\n",
       ":   \n",
       "| casLib | Name | Rows | Columns |\n",
       "|---|---|---|---|\n",
       "| CASUSERHDFS(sebastien) | nn_scored              | 5960                   | 6                      |\n",
       "\n",
       "\n",
       "$ScoreInfo\n",
       ":   \n",
       "| Descr | Value |\n",
       "|---|---|\n",
       "| Number of Observations Read      |                             5960 |\n",
       "| Number of Observations Used      |                             5960 |\n",
       "| Misclassification Error (%)      |                     15.419463087 |\n",
       "\n",
       "\n",
       "\n",
       "\n",
       "\n",
       "\n",
       "\n"
      ],
      "text/plain": [
       "[[1]]\n",
       "[[1]]$OutputCasTables\n",
       "                  casLib      Name Rows Columns\n",
       "1 CASUSERHDFS(sebastien) dt_scored 5960      16\n",
       "\n",
       "[[1]]$ScoreInfo\n",
       "                        Descr                            Value\n",
       "1 Number of Observations Read                             5960\n",
       "2 Number of Observations Used                             5960\n",
       "3 Misclassification Error (%)                     12.852348993\n",
       "\n",
       "\n",
       "[[2]]\n",
       "[[2]]$OutputCasTables\n",
       "                  casLib      Name Rows Columns\n",
       "1 CASUSERHDFS(sebastien) rf_scored 5960       9\n",
       "\n",
       "[[2]]$ScoreInfo\n",
       "                        Descr                            Value\n",
       "1 Number of Observations Read                             5960\n",
       "2 Number of Observations Used                             5960\n",
       "3 Misclassification Error (%)                     13.506711409\n",
       "\n",
       "\n",
       "[[3]]\n",
       "[[3]]$OutputCasTables\n",
       "                  casLib       Name Rows Columns\n",
       "1 CASUSERHDFS(sebastien) gbt_scored 5960       8\n",
       "\n",
       "[[3]]$ScoreInfo\n",
       "                        Descr                            Value\n",
       "1 Number of Observations Read                             5960\n",
       "2 Number of Observations Used                             5960\n",
       "3 Misclassification Error (%)                     8.0704697987\n",
       "\n",
       "[[3]]$ErrorMetricInfo\n",
       "   TreeID Trees NLeaves        MCR   LogLoss        ASE      RASE     MAXAE\n",
       "1       0     1      16 0.19949664 0.4603837 0.14623147 0.3824022 0.8140545\n",
       "2       1     2      29 0.19949664 0.4301968 0.13504254 0.3674813 0.8284328\n",
       "3       2     3      39 0.19949664 0.4062008 0.12574545 0.3546061 0.8404973\n",
       "4       3     4      55 0.19949664 0.3860805 0.11800282 0.3435154 0.8542575\n",
       "5       4     5      69 0.19580537 0.3692548 0.11139258 0.3337553 0.8645895\n",
       "6       5     6      85 0.15906040 0.3550958 0.10599238 0.3255647 0.8745527\n",
       "7       6     7     101 0.14614094 0.3426573 0.10130336 0.3182819 0.8837443\n",
       "8       7     8     116 0.13657718 0.3318259 0.09743704 0.3121491 0.8922849\n",
       "9       8     9     131 0.12701342 0.3227283 0.09414100 0.3068240 0.9000633\n",
       "10      9    10     147 0.12013423 0.3144798 0.09119440 0.3019841 0.9069685\n",
       "11     10    11     161 0.11526846 0.3076276 0.08879509 0.2979851 0.9139652\n",
       "12     11    12     176 0.11023490 0.3016428 0.08666851 0.2943952 0.9185238\n",
       "13     12    13     191 0.10654362 0.2964216 0.08504690 0.2916280 0.9252202\n",
       "14     13    14     207 0.10352349 0.2908837 0.08326264 0.2885527 0.9299765\n",
       "15     14    15     222 0.10151007 0.2864346 0.08188736 0.2861597 0.9341551\n",
       "16     15    16     237 0.10218121 0.2826904 0.08082260 0.2842932 0.9379097\n",
       "17     16    17     252 0.10083893 0.2786869 0.07964230 0.2822097 0.9429536\n",
       "18     17    18     268 0.09949664 0.2750531 0.07862108 0.2803945 0.9462319\n",
       "19     18    19     283 0.09798658 0.2717276 0.07763713 0.2786344 0.9494399\n",
       "20     19    20     299 0.09765101 0.2680388 0.07656290 0.2767000 0.9535297\n",
       "21     20    21     314 0.09714765 0.2649041 0.07566117 0.2750658 0.9563635\n",
       "22     21    22     327 0.09681208 0.2621596 0.07493945 0.2737507 0.9582940\n",
       "23     22    23     343 0.09731544 0.2586739 0.07388276 0.2718138 0.9611379\n",
       "24     23    24     358 0.09513423 0.2560823 0.07306659 0.2703083 0.9636616\n",
       "25     24    25     372 0.09345638 0.2532257 0.07215893 0.2686241 0.9655026\n",
       "26     25    26     386 0.09278523 0.2508334 0.07145644 0.2673134 0.9669232\n",
       "27     26    27     400 0.09228188 0.2481299 0.07065425 0.2658087 0.9684207\n",
       "28     27    28     416 0.09211409 0.2460884 0.07012237 0.2648063 0.9700428\n",
       "29     28    29     432 0.09144295 0.2434052 0.06930925 0.2632665 0.9699020\n",
       "30     29    30     442 0.08926174 0.2417387 0.06883718 0.2623684 0.9711486\n",
       "31     30    31     458 0.08859060 0.2391678 0.06803790 0.2608408 0.9722691\n",
       "32     31    32     474 0.08808725 0.2379837 0.06783613 0.2604537 0.9748077\n",
       "33     32    33     488 0.08791946 0.2362999 0.06730621 0.2594344 0.9751518\n",
       "34     33    34     504 0.08842282 0.2349315 0.06701392 0.2588705 0.9758202\n",
       "35     34    35     513 0.08741611 0.2335314 0.06653903 0.2579516 0.9763886\n",
       "36     35    36     528 0.08590604 0.2316202 0.06594437 0.2567964 0.9770635\n",
       "37     36    37     542 0.08540268 0.2302256 0.06552769 0.2559838 0.9777453\n",
       "38     37    38     553 0.08607383 0.2290313 0.06522922 0.2554001 0.9785892\n",
       "39     38    39     569 0.08540268 0.2273382 0.06469007 0.2543424 0.9794025\n",
       "40     39    40     584 0.08422819 0.2257082 0.06422354 0.2534236 0.9802024\n",
       "41     40    41     592 0.08389262 0.2247993 0.06397018 0.2529233 0.9805281\n",
       "42     41    42     601 0.08389262 0.2238373 0.06369687 0.2523824 0.9812550\n",
       "43     42    43     616 0.08439597 0.2225432 0.06337692 0.2517477 0.9812140\n",
       "44     43    44     627 0.08322148 0.2214059 0.06305154 0.2511007 0.9817081\n",
       "45     44    45     641 0.08288591 0.2197735 0.06255106 0.2501021 0.9809284\n",
       "46     45    46     656 0.08221477 0.2184898 0.06228685 0.2495733 0.9813032\n",
       "47     46    47     670 0.08187919 0.2173248 0.06193095 0.2488593 0.9816335\n",
       "48     47    48     686 0.08120805 0.2161159 0.06160070 0.2481949 0.9819062\n",
       "49     48    49     696 0.08104027 0.2152671 0.06141349 0.2478175 0.9831542\n",
       "50     49    50     711 0.08070470 0.2137488 0.06098589 0.2469532 0.9827086\n",
       "\n",
       "\n",
       "[[4]]\n",
       "[[4]]$OutputCasTables\n",
       "                  casLib      Name Rows Columns\n",
       "1 CASUSERHDFS(sebastien) nn_scored 5960       6\n",
       "\n",
       "[[4]]$ScoreInfo\n",
       "                        Descr                            Value\n",
       "1 Number of Observations Read                             5960\n",
       "2 Number of Observations Used                             5960\n",
       "3 Misclassification Error (%)                     15.419463087\n",
       "\n"
      ]
     },
     "metadata": {},
     "output_type": "display_data"
    }
   ],
   "source": [
    "models <- c('dt','rf','gbt','nn')\n",
    "scores <- c(cas.decisionTree.dtreeScore, cas.decisionTree.forestScore, \n",
    "            cas.decisionTree.gbtreeScore, cas.neuralNet.annScore)\n",
    "names(scores) <- models\n",
    "\n",
    "# Function to help automate prediction process on new data\n",
    "score.params <- function(model){return(list(\n",
    "    object       = defCasTable(conn, indata),\n",
    "    modelTable   = list(name = paste0(model, '_model')),\n",
    "    copyVars     = list(target, '_PartInd_'),\n",
    "    assessonerow = TRUE,\n",
    "    casOut       = list(name = paste0(model, '_scored'), replace = T)\n",
    "))}\n",
    "lapply(models, function(x) {do.call(scores[[x]], score.params(x))})"
   ]
  },
  {
   "cell_type": "markdown",
   "metadata": {},
   "source": [
    "# Assess Models"
   ]
  },
  {
   "cell_type": "markdown",
   "metadata": {},
   "source": [
    "## Confusion Matrix"
   ]
  },
  {
   "cell_type": "code",
   "execution_count": 25,
   "metadata": {
    "collapsed": false,
    "jupyter": {
     "outputs_hidden": false
    }
   },
   "outputs": [
    {
     "data": {
      "text/html": [
       "<table>\n",
       "<thead><tr><th scope=col>Model</th><th scope=col>TP</th><th scope=col>FP</th><th scope=col>FN</th><th scope=col>TN</th></tr></thead>\n",
       "<tbody>\n",
       "\t<tr><td>Decision Tree    </td><td>268              </td><td>145              </td><td> 86              </td><td>1289             </td></tr>\n",
       "\t<tr><td>Random Forest    </td><td>115              </td><td>  7              </td><td>239              </td><td>1427             </td></tr>\n",
       "\t<tr><td>Gradient Boosting</td><td>246              </td><td> 50              </td><td>108              </td><td>1384             </td></tr>\n",
       "\t<tr><td>Neural Network   </td><td>102              </td><td> 23              </td><td>252              </td><td>1411             </td></tr>\n",
       "</tbody>\n",
       "</table>\n"
      ],
      "text/latex": [
       "\\begin{tabular}{r|lllll}\n",
       " Model & TP & FP & FN & TN\\\\\n",
       "\\hline\n",
       "\t Decision Tree     & 268               & 145               &  86               & 1289             \\\\\n",
       "\t Random Forest     & 115               &   7               & 239               & 1427             \\\\\n",
       "\t Gradient Boosting & 246               &  50               & 108               & 1384             \\\\\n",
       "\t Neural Network    & 102               &  23               & 252               & 1411             \\\\\n",
       "\\end{tabular}\n"
      ],
      "text/markdown": [
       "\n",
       "| Model | TP | FP | FN | TN |\n",
       "|---|---|---|---|---|\n",
       "| Decision Tree     | 268               | 145               |  86               | 1289              |\n",
       "| Random Forest     | 115               |   7               | 239               | 1427              |\n",
       "| Gradient Boosting | 246               |  50               | 108               | 1384              |\n",
       "| Neural Network    | 102               |  23               | 252               | 1411              |\n",
       "\n"
      ],
      "text/plain": [
       "  Model             TP  FP  FN  TN  \n",
       "1 Decision Tree     268 145  86 1289\n",
       "2 Random Forest     115   7 239 1427\n",
       "3 Gradient Boosting 246  50 108 1384\n",
       "4 Neural Network    102  23 252 1411"
      ]
     },
     "metadata": {},
     "output_type": "display_data"
    }
   ],
   "source": [
    "# Load the percentile actionset for scoring\n",
    "loadActionSet(conn, 'percentile')\n",
    "\n",
    "# Useful function for model assessment\n",
    "assess.model <- function(model){\n",
    "    cas.percentile.assess(conn,\n",
    "        table    = list(name = paste0(model,'_scored'), \n",
    "                        where = '_PartInd_ = 1'),\n",
    "        inputs   = paste0('_', model, '_P_           1'),\n",
    "        response = target,\n",
    "        event    = '1')\n",
    "}\n",
    "\n",
    "model.names <- c('Decision Tree', 'Random Forest', \n",
    "                 'Gradient Boosting', 'Neural Network')\n",
    "roc.df <- data.frame()\n",
    "for (i in 1:length(models)){\n",
    "    tmp <- (assess.model(models[i]))$ROCInfo\n",
    "    tmp$Model <- model.names[i] \n",
    "    roc.df <- rbind(roc.df, tmp)\n",
    "}\n",
    "\n",
    "# Manipulate the dataframe\n",
    "compare <- subset(roc.df, round(roc.df$CutOff, 2) == 0.5)\n",
    "rownames(compare) <- NULL\n",
    "compare[,c('Model','TP','FP','FN','TN')]"
   ]
  },
  {
   "cell_type": "markdown",
   "metadata": {},
   "source": [
    "## Misclassification"
   ]
  },
  {
   "cell_type": "code",
   "execution_count": 26,
   "metadata": {
    "collapsed": false,
    "jupyter": {
     "outputs_hidden": false
    }
   },
   "outputs": [
    {
     "data": {
      "text/html": [
       "<table>\n",
       "<thead><tr><th scope=col>Model</th><th scope=col>Misclassification</th></tr></thead>\n",
       "<tbody>\n",
       "\t<tr><td>Gradient Boosting</td><td>0.08836689       </td></tr>\n",
       "\t<tr><td>Decision Tree    </td><td>0.12919463       </td></tr>\n",
       "\t<tr><td>Random Forest    </td><td>0.13758389       </td></tr>\n",
       "\t<tr><td>Neural Network   </td><td>0.15380313       </td></tr>\n",
       "</tbody>\n",
       "</table>\n"
      ],
      "text/latex": [
       "\\begin{tabular}{r|ll}\n",
       " Model & Misclassification\\\\\n",
       "\\hline\n",
       "\t Gradient Boosting & 0.08836689       \\\\\n",
       "\t Decision Tree     & 0.12919463       \\\\\n",
       "\t Random Forest     & 0.13758389       \\\\\n",
       "\t Neural Network    & 0.15380313       \\\\\n",
       "\\end{tabular}\n"
      ],
      "text/markdown": [
       "\n",
       "| Model | Misclassification |\n",
       "|---|---|\n",
       "| Gradient Boosting | 0.08836689        |\n",
       "| Decision Tree     | 0.12919463        |\n",
       "| Random Forest     | 0.13758389        |\n",
       "| Neural Network    | 0.15380313        |\n",
       "\n"
      ],
      "text/plain": [
       "  Model             Misclassification\n",
       "1 Gradient Boosting 0.08836689       \n",
       "2 Decision Tree     0.12919463       \n",
       "3 Random Forest     0.13758389       \n",
       "4 Neural Network    0.15380313       "
      ]
     },
     "metadata": {},
     "output_type": "display_data"
    }
   ],
   "source": [
    "# Build a dataframe to compare the misclassification rates\n",
    "compare$Misclassification <- 1 - compare$ACC\n",
    "miss <- compare[order(compare$Misclassification), c('Model','Misclassification')]\n",
    "rownames(miss) <- NULL\n",
    "miss"
   ]
  },
  {
   "cell_type": "markdown",
   "metadata": {},
   "source": [
    "## ROC"
   ]
  },
  {
   "cell_type": "code",
   "execution_count": 27,
   "metadata": {
    "collapsed": false,
    "jupyter": {
     "outputs_hidden": false
    }
   },
   "outputs": [
    {
     "data": {
      "image/png": "[encoded data removed]",
      "text/plain": [
       "plot without title"
      ]
     },
     "metadata": {},
     "output_type": "display_data"
    }
   ],
   "source": [
    "# Add a new column to be used as the ROC curve label\n",
    "roc.df$Models <- paste(roc.df$Model, round(roc.df$C, 3), sep = ' - ')\n",
    "\n",
    "# Create the ROC curve\n",
    "ggplot(data = roc.df[c('FPR', 'Sensitivity', 'Models')],\n",
    "    aes(x = as.numeric(FPR), y = as.numeric(Sensitivity), colour = Models)) +\n",
    "    geom_line() +\n",
    "    labs(x = 'False Positive Rate', y = 'True Positive Rate')"
   ]
  },
  {
   "cell_type": "markdown",
   "metadata": {},
   "source": [
    "## End the session"
   ]
  },
  {
   "cell_type": "code",
   "execution_count": 28,
   "metadata": {
    "collapsed": false,
    "jupyter": {
     "outputs_hidden": false
    }
   },
   "outputs": [
    {
     "data": {
      "text/html": [
       "<ol>\n",
       "</ol>\n"
      ],
      "text/latex": [
       "\\begin{enumerate}\n",
       "\\end{enumerate}\n"
      ],
      "text/markdown": [
       "\n",
       "\n"
      ],
      "text/plain": [
       "list()"
      ]
     },
     "metadata": {},
     "output_type": "display_data"
    }
   ],
   "source": [
    "# End the session\n",
    "cas.session.endSession(conn)"
   ]
  },
  {
   "cell_type": "code",
   "execution_count": null,
   "metadata": {
    "collapsed": true,
    "jupyter": {
     "outputs_hidden": true
    }
   },
   "outputs": [],
   "source": []
  }
 ],
 "metadata": {
  "kernelspec": {
   "display_name": "R",
   "language": "R",
   "name": "ir"
  },
  "language_info": {
   "codemirror_mode": "r",
   "file_extension": ".r",
   "mimetype": "text/x-r-source",
   "name": "R",
   "pygments_lexer": "r",
   "version": "3.6.1"
  }
 },
 "nbformat": 4,
 "nbformat_minor": 4
}
