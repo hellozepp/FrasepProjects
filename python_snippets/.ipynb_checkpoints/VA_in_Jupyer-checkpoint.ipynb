{
 "cells": [
  {
   "cell_type": "markdown",
   "metadata": {},
   "source": [
    "# Visual Anlalytics in Jupyter Notebooks"
   ]
  },
  {
   "cell_type": "code",
   "execution_count": null,
   "metadata": {},
   "outputs": [],
   "source": [
    "from IPython.display import display, HTML"
   ]
  },
  {
   "cell_type": "markdown",
   "metadata": {},
   "source": [
    "### Content Delivery Network"
   ]
  },
  {
   "cell_type": "code",
   "execution_count": 2,
   "metadata": {
    "collapsed": false,
    "jupyter": {
     "outputs_hidden": false
    }
   },
   "outputs": [
    {
     "data": {
      "text/html": [
       "<script async src=\"https://unpkg.com/@sassoftware/va-report-components@0.3/dist/umd/va-report-components.js\"></script>"
      ],
      "text/plain": [
       "<IPython.core.display.HTML object>"
      ]
     },
     "execution_count": 2,
     "metadata": {},
     "output_type": "execute_result"
    }
   ],
   "source": [
    "HTML('<script async src=\"https://unpkg.com/@sassoftware/va-report-components@0.3/dist/umd/va-report-components.js\"></script>')"
   ]
  },
  {
   "cell_type": "markdown",
   "metadata": {},
   "source": [
    "### CSS style"
   ]
  },
  {
   "cell_type": "code",
   "execution_count": 3,
   "metadata": {},
   "outputs": [],
   "source": [
    "style_css = '''<style>\n",
    "  .exploreResults {\n",
    "    width: 100%;\n",
    "    height: 20em;\n",
    "  }\n",
    "</style>'''"
   ]
  },
  {
   "cell_type": "markdown",
   "metadata": {},
   "source": [
    "### Examples"
   ]
  },
  {
   "cell_type": "code",
   "execution_count": 4,
   "metadata": {},
   "outputs": [
    {
     "data": {
      "text/html": [
       "<style>\n",
       "  .exploreResults {\n",
       "    width: 100%;\n",
       "    height: 20em;\n",
       "  }\n",
       "</style>\n",
       "<sas-report-object objectName=\"ve503\" \n",
       " authenticationType=\"guest\"\n",
       " url=\"http://sasserver.demo.sas.com\"\n",
       " reportUri=\"/reports/reports/35e0f439-eda0-4a90-b61b-b40194c524cd\"\n",
       " class=\"exploreResults\"\n",
       "></sas-report-object>"
      ],
      "text/plain": [
       "<IPython.core.display.HTML object>"
      ]
     },
     "execution_count": 4,
     "metadata": {},
     "output_type": "execute_result"
    }
   ],
   "source": [
    "HTML(style_css+'''\n",
    "<sas-report-object objectName=\"ve503\" \n",
    " authenticationType=\"guest\"\n",
    " url=\"http://sasserver.demo.sas.com\"\n",
    " reportUri=\"/reports/reports/35e0f439-eda0-4a90-b61b-b40194c524cd\"\n",
    " class=\"exploreResults\"\n",
    "></sas-report-object>''')"
   ]
  },
  {
   "cell_type": "code",
   "execution_count": 5,
   "metadata": {},
   "outputs": [
    {
     "data": {
      "text/html": [
       "<style>\n",
       "  .exploreResults {\n",
       "    width: 100%;\n",
       "    height: 20em;\n",
       "  }\n",
       "</style>\n",
       "<sas-report-object objectName=\"ve475\"\n",
       " authenticationType=\"guest\"\n",
       " url=\"http://sasserver.demo.sas.com\"\n",
       " reportUri=\"/reports/reports/35e0f439-eda0-4a90-b61b-b40194c524cd\"\n",
       " class=\"exploreResults\"\n",
       "></sas-report-object>"
      ],
      "text/plain": [
       "<IPython.core.display.HTML object>"
      ]
     },
     "execution_count": 5,
     "metadata": {},
     "output_type": "execute_result"
    }
   ],
   "source": [
    "HTML(style_css+'''\n",
    "<sas-report-object objectName=\"ve475\"\n",
    " authenticationType=\"guest\"\n",
    " url=\"http://sasserver.demo.sas.com\"\n",
    " reportUri=\"/reports/reports/35e0f439-eda0-4a90-b61b-b40194c524cd\"\n",
    " class=\"exploreResults\"\n",
    "></sas-report-object>''')"
   ]
  }
 ],
 "metadata": {
  "kernelspec": {
   "display_name": "Python 3",
   "language": "python",
   "name": "python3"
  },
  "language_info": {
   "codemirror_mode": {
    "name": "ipython",
    "version": 3
   },
   "file_extension": ".py",
   "mimetype": "text/x-python",
   "name": "python",
   "nbconvert_exporter": "python",
   "pygments_lexer": "ipython3",
   "version": "3.7.4"
  }
 },
 "nbformat": 4,
 "nbformat_minor": 4
}
