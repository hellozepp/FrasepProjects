{
 "cells": [
  {
   "cell_type": "markdown",
   "metadata": {},
   "source": [
    "# Visual Anlalytics in Jupyter Notebooks"
   ]
  },
  {
   "cell_type": "code",
   "execution_count": 7,
   "metadata": {},
   "outputs": [],
   "source": [
    "from IPython.display import display, HTML"
   ]
  },
  {
   "cell_type": "markdown",
   "metadata": {},
   "source": [
    "### Content Delivery Network"
   ]
  },
  {
   "cell_type": "code",
   "execution_count": 24,
   "metadata": {},
   "outputs": [
    {
     "data": {
      "text/html": [
       "<script async src=\"https://unpkg.com/@sassoftware/va-report-components@0.18.0/dist/umd/va-report-components.js\"></script>"
      ],
      "text/plain": [
       "<IPython.core.display.HTML object>"
      ]
     },
     "execution_count": 24,
     "metadata": {},
     "output_type": "execute_result"
    }
   ],
   "source": [
    "HTML('<script async src=\"https://unpkg.com/@sassoftware/va-report-components@0.18.0/dist/umd/va-report-components.js\"></script>')"
   ]
  },
  {
   "cell_type": "markdown",
   "metadata": {},
   "source": [
    "### CSS style"
   ]
  },
  {
   "cell_type": "code",
   "execution_count": 25,
   "metadata": {},
   "outputs": [],
   "source": [
    "style_css = '''<style>\n",
    "  .exploreResults {\n",
    "    width: 100%;\n",
    "    height: 30%;\n",
    "  }\n",
    "</style>'''"
   ]
  },
  {
   "cell_type": "code",
   "execution_count": 26,
   "metadata": {},
   "outputs": [
    {
     "data": {
      "text/html": [
       "<style>\n",
       "  .exploreResults {\n",
       "    width: 100%;\n",
       "    height: 30%;\n",
       "  }\n",
       "</style>\n",
       "<sas-report-object objectName=\"ve152\"\n",
       " authenticationType=\"guest\"\n",
       " url=\"https://frasepviya35smp.cloud.com\"\n",
       " reportUri=\"/reports/reports/cbf97b0a-457d-4b4f-8913-547e0cdf390c\"\n",
       "></sas-report-object>"
      ],
      "text/plain": [
       "<IPython.core.display.HTML object>"
      ]
     },
     "execution_count": 26,
     "metadata": {},
     "output_type": "execute_result"
    }
   ],
   "source": [
    "HTML(style_css+'''\n",
    "<sas-report-object objectName=\"ve152\"\n",
    " authenticationType=\"guest\"\n",
    " url=\"https://frasepviya35smp.cloud.com\"\n",
    " reportUri=\"/reports/reports/cbf97b0a-457d-4b4f-8913-547e0cdf390c\"\n",
    "></sas-report-object>''')"
   ]
  }
 ],
 "metadata": {
  "kernelspec": {
   "display_name": "Python 3",
   "language": "python",
   "name": "python3"
  },
  "language_info": {
   "codemirror_mode": {
    "name": "ipython",
    "version": 3
   },
   "file_extension": ".py",
   "mimetype": "text/x-python",
   "name": "python",
   "nbconvert_exporter": "python",
   "pygments_lexer": "ipython3",
   "version": "3.8.3"
  }
 },
 "nbformat": 4,
 "nbformat_minor": 4
}
