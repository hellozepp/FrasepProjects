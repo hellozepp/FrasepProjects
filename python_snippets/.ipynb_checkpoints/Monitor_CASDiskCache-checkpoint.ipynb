{
 "cells": [
  {
   "cell_type": "code",
   "execution_count": 70,
   "metadata": {},
   "outputs": [],
   "source": [
    "import pandas as pd\n",
    "import os\n",
    "import swat\n",
    "from tabulate import tabulate\n",
    "import time\n",
    "from pprint import pprint"
   ]
  },
  {
   "cell_type": "code",
   "execution_count": 71,
   "metadata": {},
   "outputs": [
    {
     "name": "stderr",
     "output_type": "stream",
     "text": [
      "ERROR: Connection failed. Server returned: SAS Logon Manager authentication failed: Access denied.\n"
     ]
    },
    {
     "ename": "SWATError",
     "evalue": "Could not connect to 'frasepviya35smp' on port 5570.",
     "output_type": "error",
     "traceback": [
      "\u001b[0;31m---------------------------------------------------------------------------\u001b[0m",
      "\u001b[0;31mSystemError\u001b[0m                               Traceback (most recent call last)",
      "\u001b[0;32m/opt/anaconda/lib/python3.7/site-packages/swat/cas/connection.py\u001b[0m in \u001b[0;36m__init__\u001b[0;34m(self, hostname, port, username, password, session, locale, nworkers, name, authinfo, protocol, **kwargs)\u001b[0m\n\u001b[1;32m    302\u001b[0m                 \u001b[0;32melse\u001b[0m\u001b[0;34m:\u001b[0m\u001b[0;34m\u001b[0m\u001b[0;34m\u001b[0m\u001b[0m\n\u001b[0;32m--> 303\u001b[0;31m                     \u001b[0mself\u001b[0m\u001b[0;34m.\u001b[0m\u001b[0m_sw_connection\u001b[0m \u001b[0;34m=\u001b[0m \u001b[0mclib\u001b[0m\u001b[0;34m.\u001b[0m\u001b[0mSW_CASConnection\u001b[0m\u001b[0;34m(\u001b[0m\u001b[0;34m*\u001b[0m\u001b[0mparams\u001b[0m\u001b[0;34m)\u001b[0m\u001b[0;34m\u001b[0m\u001b[0;34m\u001b[0m\u001b[0m\n\u001b[0m\u001b[1;32m    304\u001b[0m \u001b[0;34m\u001b[0m\u001b[0m\n",
      "\u001b[0;32m/opt/anaconda/lib/python3.7/site-packages/swat/clib.py\u001b[0m in \u001b[0;36mSW_CASConnection\u001b[0;34m(*args, **kwargs)\u001b[0m\n\u001b[1;32m    102\u001b[0m         \u001b[0m_import_pyswat\u001b[0m\u001b[0;34m(\u001b[0m\u001b[0;34m)\u001b[0m\u001b[0;34m\u001b[0m\u001b[0;34m\u001b[0m\u001b[0m\n\u001b[0;32m--> 103\u001b[0;31m     \u001b[0;32mreturn\u001b[0m \u001b[0m_pyswat\u001b[0m\u001b[0;34m.\u001b[0m\u001b[0mSW_CASConnection\u001b[0m\u001b[0;34m(\u001b[0m\u001b[0;34m*\u001b[0m\u001b[0margs\u001b[0m\u001b[0;34m,\u001b[0m \u001b[0;34m**\u001b[0m\u001b[0mkwargs\u001b[0m\u001b[0;34m)\u001b[0m\u001b[0;34m\u001b[0m\u001b[0;34m\u001b[0m\u001b[0m\n\u001b[0m\u001b[1;32m    104\u001b[0m \u001b[0;34m\u001b[0m\u001b[0m\n",
      "\u001b[0;31mSystemError\u001b[0m: <class 'py37swat.SW_CASConnection'> returned NULL without setting an error",
      "\nDuring handling of the above exception, another exception occurred:\n",
      "\u001b[0;31mSWATError\u001b[0m                                 Traceback (most recent call last)",
      "\u001b[0;32m<ipython-input-71-7ed534bb6875>\u001b[0m in \u001b[0;36m<module>\u001b[0;34m\u001b[0m\n\u001b[1;32m      2\u001b[0m \u001b[0mcashost\u001b[0m\u001b[0;34m=\u001b[0m\u001b[0;34m'frasepviya35smp'\u001b[0m\u001b[0;34m\u001b[0m\u001b[0;34m\u001b[0m\u001b[0m\n\u001b[1;32m      3\u001b[0m \u001b[0mcasport\u001b[0m\u001b[0;34m=\u001b[0m\u001b[0;36m5570\u001b[0m\u001b[0;34m\u001b[0m\u001b[0;34m\u001b[0m\u001b[0m\n\u001b[0;32m----> 4\u001b[0;31m \u001b[0ms\u001b[0m \u001b[0;34m=\u001b[0m \u001b[0mswat\u001b[0m\u001b[0;34m.\u001b[0m\u001b[0mCAS\u001b[0m\u001b[0;34m(\u001b[0m\u001b[0mcashost\u001b[0m\u001b[0;34m,\u001b[0m \u001b[0mcasport\u001b[0m\u001b[0;34m)\u001b[0m\u001b[0;34m\u001b[0m\u001b[0;34m\u001b[0m\u001b[0m\n\u001b[0m",
      "\u001b[0;32m/opt/anaconda/lib/python3.7/site-packages/swat/cas/connection.py\u001b[0m in \u001b[0;36m__init__\u001b[0;34m(self, hostname, port, username, password, session, locale, nworkers, name, authinfo, protocol, **kwargs)\u001b[0m\n\u001b[1;32m    308\u001b[0m \u001b[0;34m\u001b[0m\u001b[0m\n\u001b[1;32m    309\u001b[0m         \u001b[0;32mexcept\u001b[0m \u001b[0mSystemError\u001b[0m\u001b[0;34m:\u001b[0m\u001b[0;34m\u001b[0m\u001b[0;34m\u001b[0m\u001b[0m\n\u001b[0;32m--> 310\u001b[0;31m             \u001b[0;32mraise\u001b[0m \u001b[0mSWATError\u001b[0m\u001b[0;34m(\u001b[0m\u001b[0mself\u001b[0m\u001b[0;34m.\u001b[0m\u001b[0m_sw_error\u001b[0m\u001b[0;34m.\u001b[0m\u001b[0mgetLastErrorMessage\u001b[0m\u001b[0;34m(\u001b[0m\u001b[0;34m)\u001b[0m\u001b[0;34m)\u001b[0m\u001b[0;34m\u001b[0m\u001b[0;34m\u001b[0m\u001b[0m\n\u001b[0m\u001b[1;32m    311\u001b[0m \u001b[0;34m\u001b[0m\u001b[0m\n\u001b[1;32m    312\u001b[0m         \u001b[0;31m# Set up index origin for error messages\u001b[0m\u001b[0;34m\u001b[0m\u001b[0;34m\u001b[0m\u001b[0;34m\u001b[0m\u001b[0m\n",
      "\u001b[0;31mSWATError\u001b[0m: Could not connect to 'frasepviya35smp' on port 5570."
     ]
    }
   ],
   "source": [
    "os.environ['CAS_CLIENT_SSL_CA_LIST'] = '/opt/sas/viya/config/etc/SASSecurityCertificateFramework/cacerts/trustedcerts.pem'\n",
    "cashost='frasepviya35smp'\n",
    "casport=5570\n",
    "s = swat.CAS(cashost, casport)"
   ]
  },
  {
   "cell_type": "code",
   "execution_count": 65,
   "metadata": {},
   "outputs": [
    {
     "data": {
      "text/html": [
       "<div class=\"cas-results-key\"><b>&#167; diskCacheInfo</b></div>\n",
       "<div class=\"cas-results-body\">\n",
       "<div>\n",
       "<style scoped>\n",
       "    .dataframe tbody tr th:only-of-type {\n",
       "        vertical-align: middle;\n",
       "    }\n",
       "\n",
       "    .dataframe tbody tr th {\n",
       "        vertical-align: top;\n",
       "    }\n",
       "\n",
       "    .dataframe thead th {\n",
       "        text-align: right;\n",
       "    }\n",
       "</style>\n",
       "<table border=\"1\" class=\"dataframe\"><caption>Result table containing CAS_DISK_CACHE information</caption>\n",
       "  <thead>\n",
       "    <tr style=\"text-align: right;\">\n",
       "      <th title=\"\"></th>\n",
       "      <th title=\"Node\">node</th>\n",
       "      <th title=\"NodePath\">path</th>\n",
       "      <th title=\"Capacity\">FS_size</th>\n",
       "      <th title=\"Free_Mem\">FS_free</th>\n",
       "      <th title=\"%_Used\">FS_usage</th>\n",
       "    </tr>\n",
       "  </thead>\n",
       "  <tbody>\n",
       "    <tr>\n",
       "      <th>0</th>\n",
       "      <td>frasepviya35smp.c.sas-frasep.int</td>\n",
       "      <td>/tmpl</td>\n",
       "      <td>299 Gb</td>\n",
       "      <td>186 Gb</td>\n",
       "      <td>37.8</td>\n",
       "    </tr>\n",
       "  </tbody>\n",
       "</table>\n",
       "</div>\n",
       "</div>\n",
       "<div class=\"cas-output-area\"></div>\n",
       "<p class=\"cas-results-performance\"><small><span class=\"cas-elapsed\">elapsed 0.000452s</span> &#183; <span class=\"cas-user\">user 0.000249s</span> &#183; <span class=\"cas-sys\">sys 0.000145s</span> &#183; <span class=\"cas-memory\">mem 0.322MB</span></small></p>"
      ],
      "text/plain": [
       "[diskCacheInfo]\n",
       "\n",
       " Result table containing CAS_DISK_CACHE information\n",
       " \n",
       "                                node   path   FS_size   FS_free FS_usage\n",
       " 0  frasepviya35smp.c.sas-frasep.int  /tmpl    299 Gb    186 Gb     37.8\n",
       "\n",
       "+ Elapsed: 0.000452s, user: 0.000249s, sys: 0.000145s, mem: 0.322mb"
      ]
     },
     "execution_count": 65,
     "metadata": {},
     "output_type": "execute_result"
    }
   ],
   "source": [
    "# get CAS_DISK_CACHE usage\n",
    "# s.accessControl.assumeRole(adminRole=\"superuser\")  # superuser role reqd  \n",
    "results = s.builtins.getCacheInfo()                 # returns dictionary, table\n",
    "results"
   ]
  },
  {
   "cell_type": "code",
   "execution_count": 68,
   "metadata": {},
   "outputs": [
    {
     "name": "stdout",
     "output_type": "stream",
     "text": [
      " 44.0  % \n",
      " 44.7  % \n",
      " 45.4  % \n",
      " 46.1  % \n",
      " 46.5  % \n",
      " 46.8  % \n",
      " 47.0  % \n",
      " 47.1  % \n",
      " 47.2  % \n",
      " 47.2  % \n",
      " 47.2  % \n",
      " 47.2  % \n",
      " 47.2  % \n",
      " 47.2  % \n",
      " 47.3  % \n",
      " 47.3  % \n",
      " 47.3  % \n",
      " 47.3  % \n",
      " 47.3  % \n",
      " 47.3  % \n",
      " 47.3  % \n",
      " 47.4  % \n",
      " 47.4  % \n",
      " 47.4  % \n",
      " 47.4  % \n",
      " 47.4  % \n",
      " 47.4  % \n",
      " 47.4  % \n",
      " 47.5  % \n",
      " 47.5  % \n",
      " 47.5  % \n",
      " 47.5  % \n",
      " 47.5  % \n",
      " 47.5  % \n",
      " 47.5  % \n",
      " 47.5  % \n",
      " 47.6  % \n",
      " 47.6  % \n",
      " 47.6  % \n",
      " 47.6  % \n",
      " 47.6  % \n",
      " 47.6  % \n",
      " 47.6  % \n",
      " 47.6  % \n",
      " 47.7  % \n",
      " 47.7  % \n",
      " 47.7  % \n",
      " 47.7  % \n",
      " 47.7  % \n",
      " 47.7  % \n",
      " 47.7  % \n",
      " 47.7  % \n",
      " 47.8  % \n",
      " 47.8  % \n",
      " 47.8  % \n",
      " 47.8  % \n",
      " 47.9  % \n",
      " 47.9  % \n",
      " 47.9  % \n",
      " 48.0  % \n",
      " 48.0  % \n",
      " 48.0  % \n",
      " 48.1  % \n",
      " 48.1  % \n",
      " 48.1  % \n",
      " 48.2  % \n",
      " 48.2  % \n",
      " 48.3  % \n",
      " 48.3  % \n",
      " 48.3  % \n",
      " 48.4  % \n",
      " 48.4  % \n",
      " 48.5  % \n",
      " 48.5  % \n",
      " 48.6  % \n",
      " 48.6  % \n",
      " 48.7  % \n",
      " 48.7  % \n",
      " 48.8  % \n",
      " 48.8  % \n",
      " 48.8  % \n",
      " 48.9  % \n",
      " 48.9  % \n",
      " 49.0  % \n",
      " 49.0  % \n",
      " 49.1  % \n",
      " 49.1  % \n",
      " 49.2  % \n",
      " 49.2  % \n",
      " 49.3  % \n",
      " 49.3  % \n",
      " 49.3  % \n",
      " 49.4  % \n",
      " 49.4  % \n",
      " 49.5  % \n",
      " 49.5  % \n",
      " 49.6  % \n",
      " 49.6  % \n",
      " 49.7  % \n",
      " 49.7  % \n",
      " 49.8  % \n",
      " 49.8  % \n",
      " 49.9  % \n",
      " 49.9  % \n",
      " 49.9  % \n"
     ]
    },
    {
     "ename": "KeyboardInterrupt",
     "evalue": "",
     "output_type": "error",
     "traceback": [
      "\u001b[0;31m---------------------------------------------------------------------------\u001b[0m",
      "\u001b[0;31mKeyboardInterrupt\u001b[0m                         Traceback (most recent call last)",
      "\u001b[0;32m<ipython-input-68-c8470c6b631a>\u001b[0m in \u001b[0;36m<module>\u001b[0;34m\u001b[0m\n\u001b[1;32m      2\u001b[0m     \u001b[0mresults\u001b[0m \u001b[0;34m=\u001b[0m \u001b[0ms\u001b[0m\u001b[0;34m.\u001b[0m\u001b[0mbuiltins\u001b[0m\u001b[0;34m.\u001b[0m\u001b[0mgetCacheInfo\u001b[0m\u001b[0;34m(\u001b[0m\u001b[0;34m)\u001b[0m\u001b[0;34m\u001b[0m\u001b[0;34m\u001b[0m\u001b[0m\n\u001b[1;32m      3\u001b[0m     \u001b[0mprint\u001b[0m\u001b[0;34m(\u001b[0m\u001b[0mresults\u001b[0m\u001b[0;34m.\u001b[0m\u001b[0mdiskCacheInfo\u001b[0m\u001b[0;34m.\u001b[0m\u001b[0mFS_usage\u001b[0m\u001b[0;34m.\u001b[0m\u001b[0mvalues\u001b[0m\u001b[0;34m[\u001b[0m\u001b[0;36m0\u001b[0m\u001b[0;34m]\u001b[0m\u001b[0;34m,\u001b[0m\u001b[0;34m\" % \"\u001b[0m\u001b[0;34m)\u001b[0m\u001b[0;34m\u001b[0m\u001b[0;34m\u001b[0m\u001b[0m\n\u001b[0;32m----> 4\u001b[0;31m     \u001b[0mtime\u001b[0m\u001b[0;34m.\u001b[0m\u001b[0msleep\u001b[0m\u001b[0;34m(\u001b[0m\u001b[0;36m1\u001b[0m\u001b[0;34m)\u001b[0m\u001b[0;34m\u001b[0m\u001b[0;34m\u001b[0m\u001b[0m\n\u001b[0m",
      "\u001b[0;31mKeyboardInterrupt\u001b[0m: "
     ]
    }
   ],
   "source": [
    "while True:\n",
    "    results = s.builtins.getCacheInfo()\n",
    "    print(results.diskCacheInfo.FS_usage.values[0],\" % \")\n",
    "    time.sleep(1)"
   ]
  },
  {
   "cell_type": "code",
   "execution_count": 17,
   "metadata": {},
   "outputs": [
    {
     "name": "stdout",
     "output_type": "stream",
     "text": [
      "('diskCacheInfo',                                node   path   FS_size   FS_free FS_usage\n",
      "0  frasepviya35smp.c.sas-frasep.int  /tmpl    299 Gb    186 Gb     37.6)\n",
      "-------------------------------------------------------------------------------------------\n"
     ]
    }
   ],
   "source": [
    "# display table with CAS_DISK_CACHE usage stats\n",
    "print(tabulate(results,headers='firstrow'))"
   ]
  },
  {
   "cell_type": "code",
   "execution_count": 69,
   "metadata": {},
   "outputs": [],
   "source": [
    "sess.close()"
   ]
  },
  {
   "cell_type": "code",
   "execution_count": null,
   "metadata": {},
   "outputs": [],
   "source": []
  }
 ],
 "metadata": {
  "kernelspec": {
   "display_name": "Python 3",
   "language": "python",
   "name": "python3"
  },
  "language_info": {
   "codemirror_mode": {
    "name": "ipython",
    "version": 3
   },
   "file_extension": ".py",
   "mimetype": "text/x-python",
   "name": "python",
   "nbconvert_exporter": "python",
   "pygments_lexer": "ipython3",
   "version": "3.7.6"
  }
 },
 "nbformat": 4,
 "nbformat_minor": 4
}
