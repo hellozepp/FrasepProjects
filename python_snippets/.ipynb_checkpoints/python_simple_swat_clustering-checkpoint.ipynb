{
 "cells": [
  {
   "cell_type": "code",
   "execution_count": 48,
   "metadata": {},
   "outputs": [],
   "source": [
    "import pandas as pd\n",
    "import os\n",
    "import swat\n",
    "import matplotlib.pyplot as plt"
   ]
  },
  {
   "cell_type": "code",
   "execution_count": 5,
   "metadata": {
    "collapsed": true,
    "jupyter": {
     "outputs_hidden": true
    }
   },
   "outputs": [
    {
     "name": "stdout",
     "output_type": "stream",
     "text": [
      "NOTE: 'CASUSER(viyademo01)' is now the active caslib.\n",
      "NOTE: Action 'sessionProp.setSessOpt' used (Total process time):\n",
      "NOTE:       real time               0.000375 seconds\n",
      "NOTE:       cpu time                0.000358 seconds (95.47%)\n",
      "NOTE:       total nodes             1 (16 cores)\n",
      "NOTE:       total memory            62.67G\n",
      "NOTE:       memory                  262.06K (0.00%)\n"
     ]
    },
    {
     "data": {
      "text/html": [
       "<div class=\"cas-output-area\"></div>\n",
       "<p class=\"cas-results-performance\"><small><span class=\"cas-elapsed\">elapsed 0.000375s</span> &#183; <span class=\"cas-sys\">sys 0.000358s</span> &#183; <span class=\"cas-memory\">mem 0.256MB</span></small></p>"
      ],
      "text/plain": [
       "+ Elapsed: 0.000375s, sys: 0.000358s, mem: 0.256mb"
      ]
     },
     "execution_count": 5,
     "metadata": {},
     "output_type": "execute_result"
    }
   ],
   "source": [
    "#os.environ['CAS_CLIENT_SSL_CA_LIST'] = '/opt/sas/viya/config/etc/SASSecurityCertificateFramework/cacerts/trustedcerts.pem'\n",
    "cashost='frasepviya35smp'\n",
    "casport=5570\n",
    "s = swat.CAS(cashost, casport)\n",
    "s.sessionProp.setSessOpt(metrics=\"TRUE\", timeout=1800, caslib='casuser', messageLevel=\"ALL\")"
   ]
  },
  {
   "cell_type": "code",
   "execution_count": 7,
   "metadata": {
    "collapsed": true,
    "jupyter": {
     "outputs_hidden": true
    }
   },
   "outputs": [
    {
     "name": "stdout",
     "output_type": "stream",
     "text": [
      "NOTE: Executing action 'builtins.loadActionSet'.\n",
      "NOTE: Added action set 'clustering'.\n",
      "NOTE: Action 'builtins.loadActionSet' used (Total process time):\n",
      "NOTE:       real time               0.003634 seconds\n",
      "NOTE:       cpu time                0.003594 seconds (98.90%)\n",
      "NOTE:       total nodes             1 (16 cores)\n",
      "NOTE:       total memory            62.67G\n",
      "NOTE:       memory                  215.91K (0.00%)\n",
      "NOTE: Executing action 'builtins.loadActionSet'.\n",
      "NOTE: Added action set 'modelPublishing'.\n",
      "NOTE: Action 'builtins.loadActionSet' used (Total process time):\n",
      "NOTE:       real time               0.006579 seconds\n",
      "NOTE:       cpu time                0.002110 seconds (32.07%)\n",
      "NOTE:       total nodes             1 (16 cores)\n",
      "NOTE:       total memory            62.67G\n",
      "NOTE:       memory                  228.06K (0.00%)\n"
     ]
    },
    {
     "data": {
      "text/html": [
       "<div class=\"cas-results-key\"><b>&#167; actionset</b></div>\n",
       "<div class=\"cas-results-body\">\n",
       "<div>modelPublishing</div>\n",
       "</div>\n",
       "<div class=\"cas-output-area\"></div>\n",
       "<p class=\"cas-results-performance\"><small><span class=\"cas-elapsed\">elapsed 0.00658s</span> &#183; <span class=\"cas-user\">user 0.000372s</span> &#183; <span class=\"cas-sys\">sys 0.00174s</span> &#183; <span class=\"cas-memory\">mem 0.223MB</span></small></p>"
      ],
      "text/plain": [
       "[actionset]\n",
       "\n",
       " 'modelPublishing'\n",
       "\n",
       "+ Elapsed: 0.00658s, user: 0.000372s, sys: 0.00174s, mem: 0.223mb"
      ]
     },
     "execution_count": 7,
     "metadata": {},
     "output_type": "execute_result"
    }
   ],
   "source": [
    "s.loadactionset('clustering')\n",
    "s.loadactionset('modelPublishing')"
   ]
  },
  {
   "cell_type": "code",
   "execution_count": 9,
   "metadata": {
    "collapsed": true,
    "jupyter": {
     "outputs_hidden": true
    }
   },
   "outputs": [
    {
     "name": "stdout",
     "output_type": "stream",
     "text": [
      "NOTE: Executing action 'table.loadTable'.\n",
      "NOTE: Cloud Analytic Services made the uploaded file available as table IRIS in caslib CASUSER(viyademo01).\n",
      "NOTE: Action 'table.loadTable' used (Total process time):\n",
      "NOTE:       real time               0.001728 seconds\n",
      "NOTE:       cpu time                0.003642 seconds (210.76%)\n",
      "NOTE:       total nodes             1 (16 cores)\n",
      "NOTE:       total memory            62.67G\n",
      "NOTE:       memory                  33.23M (0.05%)\n",
      "NOTE: The table IRIS has been created in caslib CASUSER(viyademo01) from binary data uploaded to Cloud Analytic Services.\n",
      "NOTE: Action 'table.upload' used (Total process time):\n",
      "NOTE:       real time               0.003906 seconds\n",
      "NOTE:       cpu time                0.005806 seconds (148.64%)\n",
      "NOTE:       total nodes             1 (16 cores)\n",
      "NOTE:       total memory            62.67G\n",
      "NOTE:       memory                  33.23M (0.05%)\n"
     ]
    }
   ],
   "source": [
    "mytab = s.upload_file('http://support.sas.com/documentation/onlinedoc/viya/exampledatasets/iris.csv', casout='iris')"
   ]
  },
  {
   "cell_type": "code",
   "execution_count": 20,
   "metadata": {
    "collapsed": true,
    "jupyter": {
     "outputs_hidden": true
    }
   },
   "outputs": [
    {
     "name": "stdout",
     "output_type": "stream",
     "text": [
      "NOTE: Executing action 'table.columnInfo'.\n",
      "NOTE: Action 'table.columnInfo' used (Total process time):\n",
      "NOTE:       real time               0.001134 seconds\n",
      "NOTE:       cpu time                0.001042 seconds (91.89%)\n",
      "NOTE:       total nodes             1 (16 cores)\n",
      "NOTE:       total memory            62.67G\n",
      "NOTE:       memory                  834.28K (0.00%)\n"
     ]
    },
    {
     "data": {
      "text/html": [
       "<div class=\"cas-results-key\"><b>&#167; ColumnInfo</b></div>\n",
       "<div class=\"cas-results-body\">\n",
       "<div>\n",
       "<style scoped>\n",
       "    .dataframe tbody tr th:only-of-type {\n",
       "        vertical-align: middle;\n",
       "    }\n",
       "\n",
       "    .dataframe tbody tr th {\n",
       "        vertical-align: top;\n",
       "    }\n",
       "\n",
       "    .dataframe thead th {\n",
       "        text-align: right;\n",
       "    }\n",
       "</style>\n",
       "<table border=\"1\" class=\"dataframe\">\n",
       "  <thead>\n",
       "    <tr style=\"text-align: right;\">\n",
       "      <th title=\"\"></th>\n",
       "      <th title=\"Column\">Column</th>\n",
       "      <th title=\"Label\">Label</th>\n",
       "      <th title=\"ID\">ID</th>\n",
       "      <th title=\"Type\">Type</th>\n",
       "      <th title=\"RawLength\">RawLength</th>\n",
       "      <th title=\"FormattedLength\">FormattedLength</th>\n",
       "      <th title=\"Format\">Format</th>\n",
       "      <th title=\"NFL\">NFL</th>\n",
       "      <th title=\"NFD\">NFD</th>\n",
       "    </tr>\n",
       "  </thead>\n",
       "  <tbody>\n",
       "    <tr>\n",
       "      <td>0</td>\n",
       "      <td>Sepal Length</td>\n",
       "      <td></td>\n",
       "      <td>1</td>\n",
       "      <td>double</td>\n",
       "      <td>8</td>\n",
       "      <td>12</td>\n",
       "      <td></td>\n",
       "      <td>0</td>\n",
       "      <td>0</td>\n",
       "    </tr>\n",
       "    <tr>\n",
       "      <td>1</td>\n",
       "      <td>Sepal Width</td>\n",
       "      <td></td>\n",
       "      <td>2</td>\n",
       "      <td>double</td>\n",
       "      <td>8</td>\n",
       "      <td>12</td>\n",
       "      <td></td>\n",
       "      <td>0</td>\n",
       "      <td>0</td>\n",
       "    </tr>\n",
       "    <tr>\n",
       "      <td>2</td>\n",
       "      <td>Petal Length</td>\n",
       "      <td></td>\n",
       "      <td>3</td>\n",
       "      <td>double</td>\n",
       "      <td>8</td>\n",
       "      <td>12</td>\n",
       "      <td></td>\n",
       "      <td>0</td>\n",
       "      <td>0</td>\n",
       "    </tr>\n",
       "    <tr>\n",
       "      <td>3</td>\n",
       "      <td>Petal Width</td>\n",
       "      <td></td>\n",
       "      <td>4</td>\n",
       "      <td>double</td>\n",
       "      <td>8</td>\n",
       "      <td>12</td>\n",
       "      <td></td>\n",
       "      <td>0</td>\n",
       "      <td>0</td>\n",
       "    </tr>\n",
       "    <tr>\n",
       "      <td>4</td>\n",
       "      <td>Species</td>\n",
       "      <td></td>\n",
       "      <td>5</td>\n",
       "      <td>varchar</td>\n",
       "      <td>10</td>\n",
       "      <td>10</td>\n",
       "      <td></td>\n",
       "      <td>0</td>\n",
       "      <td>0</td>\n",
       "    </tr>\n",
       "    <tr>\n",
       "      <td>5</td>\n",
       "      <td>Index</td>\n",
       "      <td></td>\n",
       "      <td>6</td>\n",
       "      <td>double</td>\n",
       "      <td>8</td>\n",
       "      <td>12</td>\n",
       "      <td></td>\n",
       "      <td>0</td>\n",
       "      <td>0</td>\n",
       "    </tr>\n",
       "  </tbody>\n",
       "</table>\n",
       "</div>\n",
       "</div>\n",
       "<div class=\"cas-output-area\"></div>\n",
       "<p class=\"cas-results-performance\"><small><span class=\"cas-elapsed\">elapsed 0.00113s</span> &#183; <span class=\"cas-user\">user 0.00104s</span> &#183; <span class=\"cas-memory\">mem 0.815MB</span></small></p>"
      ],
      "text/plain": [
       "[ColumnInfo]\n",
       "\n",
       "          Column Label  ID     Type  RawLength  FormattedLength Format  NFL  NFD\n",
       " 0  Sepal Length         1   double          8               12           0    0\n",
       " 1   Sepal Width         2   double          8               12           0    0\n",
       " 2  Petal Length         3   double          8               12           0    0\n",
       " 3   Petal Width         4   double          8               12           0    0\n",
       " 4       Species         5  varchar         10               10           0    0\n",
       " 5         Index         6   double          8               12           0    0\n",
       "\n",
       "+ Elapsed: 0.00113s, user: 0.00104s, mem: 0.815mb"
      ]
     },
     "execution_count": 20,
     "metadata": {},
     "output_type": "execute_result"
    }
   ],
   "source": [
    "s.columninfo(table='iris')"
   ]
  },
  {
   "cell_type": "code",
   "execution_count": 49,
   "metadata": {
    "collapsed": true,
    "jupyter": {
     "outputs_hidden": true
    }
   },
   "outputs": [
    {
     "name": "stdout",
     "output_type": "stream",
     "text": [
      "NOTE: Executing action 'clustering.kClus'.\n",
      "NOTE: Using SEED=534.\n",
      "NOTE: Running for input data for K 2.\n",
      "NOTE: Clustering is finished. STOPVALUE is satisfied for STOPCRITERION=CLUSTER_CHANGE.\n",
      "NOTE: The CAS table 'ClusterCenters' in caslib 'CASUSER(viyademo01)' has 2 rows and 6 columns.\n",
      "NOTE: The CAS table 'ClusterSum' in caslib 'CASUSER(viyademo01)' has 2 rows and 9 columns.\n",
      "NOTE: The CAS table 'DescStats' in caslib 'CASUSER(viyademo01)' has 4 rows and 3 columns.\n",
      "NOTE: The CAS table 'IterStats' in caslib 'CASUSER(viyademo01)' has 4 rows and 4 columns.\n",
      "NOTE: The CAS table 'WithinClusStats' in caslib 'CASUSER(viyademo01)' has 8 rows and 4 columns.\n",
      "NOTE: The CAS table 'modelInfo' in caslib 'CASUSER(viyademo01)' has 10 rows and 3 columns.\n",
      "NOTE: The CAS table 'nobs' in caslib 'CASUSER(viyademo01)' has 2 rows and 2 columns.\n",
      "NOTE: Action 'clustering.kClus' used (Total process time):\n",
      "NOTE:       real time               0.021111 seconds\n",
      "NOTE:       cpu time                0.019271 seconds (91.28%)\n",
      "NOTE:       total nodes             1 (16 cores)\n",
      "NOTE:       total memory            62.67G\n",
      "NOTE:       memory                  4.66M (0.01%)\n"
     ]
    },
    {
     "data": {
      "text/html": [
       "<div class=\"cas-results-key\"><b>&#167; outputSize</b></div>\n",
       "<div class=\"cas-results-body\">\n",
       "<div>{'outputNObs': 150.0, 'outputNVars': 7}</div>\n",
       "</div>\n",
       "<div class=\"cas-results-key\"><hr/><b>&#167; ModelInfo</b></div>\n",
       "<div class=\"cas-results-body\">\n",
       "<div>\n",
       "<style scoped>\n",
       "    .dataframe tbody tr th:only-of-type {\n",
       "        vertical-align: middle;\n",
       "    }\n",
       "\n",
       "    .dataframe tbody tr th {\n",
       "        vertical-align: top;\n",
       "    }\n",
       "\n",
       "    .dataframe thead th {\n",
       "        text-align: right;\n",
       "    }\n",
       "</style>\n",
       "<table border=\"1\" class=\"dataframe\"><caption>Model Information</caption>\n",
       "  <thead>\n",
       "    <tr style=\"text-align: right;\">\n",
       "      <th title=\"\"></th>\n",
       "      <th title=\"RowId\">RowId</th>\n",
       "      <th title=\"Parameter\">Parameter</th>\n",
       "      <th title=\"Setting\">Setting</th>\n",
       "    </tr>\n",
       "  </thead>\n",
       "  <tbody>\n",
       "    <tr>\n",
       "      <td>0</td>\n",
       "      <td>Clustering_Algorithm</td>\n",
       "      <td>Clustering Algorithm</td>\n",
       "      <td>K-means</td>\n",
       "    </tr>\n",
       "    <tr>\n",
       "      <td>1</td>\n",
       "      <td>Maximum_Iterations</td>\n",
       "      <td>Maximum Iterations</td>\n",
       "      <td>40</td>\n",
       "    </tr>\n",
       "    <tr>\n",
       "      <td>2</td>\n",
       "      <td>Stop_Criterion</td>\n",
       "      <td>Stop Criterion</td>\n",
       "      <td>Cluster Change</td>\n",
       "    </tr>\n",
       "    <tr>\n",
       "      <td>3</td>\n",
       "      <td>Stop_Criterion_Value</td>\n",
       "      <td>Stop Criterion Value</td>\n",
       "      <td>0</td>\n",
       "    </tr>\n",
       "    <tr>\n",
       "      <td>4</td>\n",
       "      <td>Clusters</td>\n",
       "      <td>Clusters</td>\n",
       "      <td>2</td>\n",
       "    </tr>\n",
       "    <tr>\n",
       "      <td>5</td>\n",
       "      <td>Initialization</td>\n",
       "      <td>Initialization</td>\n",
       "      <td>Rand</td>\n",
       "    </tr>\n",
       "    <tr>\n",
       "      <td>6</td>\n",
       "      <td>Seed</td>\n",
       "      <td>Seed</td>\n",
       "      <td>534</td>\n",
       "    </tr>\n",
       "    <tr>\n",
       "      <td>7</td>\n",
       "      <td>Distance_For_Interval_Variables</td>\n",
       "      <td>Distance for Interval Variables</td>\n",
       "      <td>Euclidean</td>\n",
       "    </tr>\n",
       "    <tr>\n",
       "      <td>8</td>\n",
       "      <td>Standardization</td>\n",
       "      <td>Standardization</td>\n",
       "      <td>None</td>\n",
       "    </tr>\n",
       "    <tr>\n",
       "      <td>9</td>\n",
       "      <td>Interval_Imputation</td>\n",
       "      <td>Interval Imputation</td>\n",
       "      <td>None</td>\n",
       "    </tr>\n",
       "  </tbody>\n",
       "</table>\n",
       "</div>\n",
       "</div>\n",
       "<div class=\"cas-results-key\"><hr/><b>&#167; ClusterSum</b></div>\n",
       "<div class=\"cas-results-body\">\n",
       "<div>\n",
       "<style scoped>\n",
       "    .dataframe tbody tr th:only-of-type {\n",
       "        vertical-align: middle;\n",
       "    }\n",
       "\n",
       "    .dataframe tbody tr th {\n",
       "        vertical-align: top;\n",
       "    }\n",
       "\n",
       "    .dataframe thead th {\n",
       "        text-align: right;\n",
       "    }\n",
       "</style>\n",
       "<table border=\"1\" class=\"dataframe\"><caption>Cluster Summary</caption>\n",
       "  <thead>\n",
       "    <tr style=\"text-align: right;\">\n",
       "      <th title=\"\"></th>\n",
       "      <th title=\"Cluster\">Cluster</th>\n",
       "      <th title=\"Frequency\">Frequency</th>\n",
       "      <th title=\"MinDist\">MinDist</th>\n",
       "      <th title=\"MaxDist\">MaxDist</th>\n",
       "      <th title=\"AvgDist\">AvgDist</th>\n",
       "      <th title=\"SSE\">SSE</th>\n",
       "      <th title=\"StdDeviation\">StdDeviation</th>\n",
       "      <th title=\"NearestClus\">NearestClus</th>\n",
       "      <th title=\"DBtwCentroids\">DBtwCentroids</th>\n",
       "    </tr>\n",
       "  </thead>\n",
       "  <tbody>\n",
       "    <tr>\n",
       "      <td>0</td>\n",
       "      <td>1</td>\n",
       "      <td>97.0</td>\n",
       "      <td>0.221618</td>\n",
       "      <td>2.484476</td>\n",
       "      <td>1.003464</td>\n",
       "      <td>123.795876</td>\n",
       "      <td>1.129711</td>\n",
       "      <td>2.0</td>\n",
       "      <td>3.926685</td>\n",
       "    </tr>\n",
       "    <tr>\n",
       "      <td>1</td>\n",
       "      <td>2</td>\n",
       "      <td>53.0</td>\n",
       "      <td>0.115511</td>\n",
       "      <td>2.156417</td>\n",
       "      <td>0.586192</td>\n",
       "      <td>28.572830</td>\n",
       "      <td>0.734241</td>\n",
       "      <td>1.0</td>\n",
       "      <td>3.926685</td>\n",
       "    </tr>\n",
       "  </tbody>\n",
       "</table>\n",
       "</div>\n",
       "</div>\n",
       "<div class=\"cas-output-area\"></div>\n",
       "<p class=\"cas-results-performance\"><small><span class=\"cas-elapsed\">elapsed 0.0211s</span> &#183; <span class=\"cas-user\">user 0.0131s</span> &#183; <span class=\"cas-sys\">sys 0.00615s</span> &#183; <span class=\"cas-memory\">mem 4.66MB</span></small></p>"
      ],
      "text/plain": [
       "[outputSize]\n",
       "\n",
       " {'outputNObs': 150.0, 'outputNVars': 7}\n",
       "\n",
       "[ModelInfo]\n",
       "\n",
       " Model Information\n",
       " \n",
       "                              RowId                        Parameter         Setting\n",
       " 0             Clustering_Algorithm             Clustering Algorithm         K-means\n",
       " 1               Maximum_Iterations               Maximum Iterations              40\n",
       " 2                   Stop_Criterion                   Stop Criterion  Cluster Change\n",
       " 3             Stop_Criterion_Value             Stop Criterion Value               0\n",
       " 4                         Clusters                         Clusters               2\n",
       " 5                   Initialization                   Initialization            Rand\n",
       " 6                             Seed                             Seed             534\n",
       " 7  Distance_For_Interval_Variables  Distance for Interval Variables       Euclidean\n",
       " 8                  Standardization                  Standardization            None\n",
       " 9              Interval_Imputation              Interval Imputation            None\n",
       "\n",
       "[ClusterSum]\n",
       "\n",
       " Cluster Summary\n",
       " \n",
       "    Cluster  Frequency   MinDist   MaxDist   AvgDist         SSE  StdDeviation  NearestClus  DBtwCentroids\n",
       " 0        1       97.0  0.221618  2.484476  1.003464  123.795876      1.129711          2.0       3.926685\n",
       " 1        2       53.0  0.115511  2.156417  0.586192   28.572830      0.734241          1.0       3.926685\n",
       "\n",
       "+ Elapsed: 0.0211s, user: 0.0131s, sys: 0.00615s, mem: 4.66mb"
      ]
     },
     "execution_count": 49,
     "metadata": {},
     "output_type": "execute_result"
    }
   ],
   "source": [
    "s.kclus(table={\"name\":\"iris\"},\n",
    "        inputs={\"Sepal Length\", \"Sepal Width\", \"Petal Length\", \"Petal Width\"},\n",
    "        nClusters=2,\n",
    "        seed=534,\n",
    "        maxIters=40,\n",
    "        init=\"RAND\",\n",
    "        outputTables={\"names\":{\"nobs\":\"nobs\",\n",
    "                               \"modelInfo\":\"modelInfo\",\n",
    "                               \"ClusterSum\":\"ClusterSum\",\n",
    "                               \"IterStats\":\"IterStats\",\n",
    "                               \"DescStats\":\"DescStats\",\n",
    "                               \"WithinClusStats\":\"WithinClusStats\",\n",
    "                               \"ClusterCenters\":\"ClusterCenters\"}},\n",
    "        display={\"names\":[\"modelInfo\",\"ClusterSum\"]},\n",
    "        code={\"casOut\":{\"name\":\"tmp_model_cas_table\"}},\n",
    "        output={\"casout\":{\"name\":\"score_out\", \"replace\":\"TRUE\"},\"copyvars\":{\"Sepal Length\", \"Sepal Width\",\"Petal Length\", \"Petal Width\", \"Species\"}})"
   ]
  },
  {
   "cell_type": "code",
   "execution_count": 55,
   "metadata": {},
   "outputs": [],
   "source": [
    "tbl_kclus_scores = s.CASTable('score_out', replace=True)\n",
    "dfKclusScores = tbl_kclus_scores.to_frame()"
   ]
  },
  {
   "cell_type": "code",
   "execution_count": 56,
   "metadata": {},
   "outputs": [
    {
     "data": {
      "text/html": [
       "<div>\n",
       "<style scoped>\n",
       "    .dataframe tbody tr th:only-of-type {\n",
       "        vertical-align: middle;\n",
       "    }\n",
       "\n",
       "    .dataframe tbody tr th {\n",
       "        vertical-align: top;\n",
       "    }\n",
       "\n",
       "    .dataframe thead th {\n",
       "        text-align: right;\n",
       "    }\n",
       "</style>\n",
       "<table border=\"1\" class=\"dataframe\"><caption>Selected Rows from Table SCORE_OUT</caption>\n",
       "  <thead>\n",
       "    <tr style=\"text-align: right;\">\n",
       "      <th title=\"\"></th>\n",
       "      <th title=\"Species\">Species</th>\n",
       "      <th title=\"Sepal Length\">Sepal Length</th>\n",
       "      <th title=\"Petal Length\">Petal Length</th>\n",
       "      <th title=\"Petal Width\">Petal Width</th>\n",
       "      <th title=\"Sepal Width\">Sepal Width</th>\n",
       "      <th title=\"_CLUSTER_ID_\">_CLUSTER_ID_</th>\n",
       "      <th title=\"_DISTANCE_\">_DISTANCE_</th>\n",
       "    </tr>\n",
       "  </thead>\n",
       "  <tbody>\n",
       "    <tr>\n",
       "      <td>0</td>\n",
       "      <td>setosa</td>\n",
       "      <td>5.1</td>\n",
       "      <td>1.4</td>\n",
       "      <td>0.2</td>\n",
       "      <td>3.5</td>\n",
       "      <td>2.0</td>\n",
       "      <td>0.250176</td>\n",
       "    </tr>\n",
       "    <tr>\n",
       "      <td>1</td>\n",
       "      <td>setosa</td>\n",
       "      <td>4.9</td>\n",
       "      <td>1.4</td>\n",
       "      <td>0.2</td>\n",
       "      <td>3.0</td>\n",
       "      <td>2.0</td>\n",
       "      <td>0.418604</td>\n",
       "    </tr>\n",
       "    <tr>\n",
       "      <td>2</td>\n",
       "      <td>setosa</td>\n",
       "      <td>4.7</td>\n",
       "      <td>1.3</td>\n",
       "      <td>0.2</td>\n",
       "      <td>3.2</td>\n",
       "      <td>2.0</td>\n",
       "      <td>0.442488</td>\n",
       "    </tr>\n",
       "    <tr>\n",
       "      <td>3</td>\n",
       "      <td>setosa</td>\n",
       "      <td>4.6</td>\n",
       "      <td>1.5</td>\n",
       "      <td>0.2</td>\n",
       "      <td>3.1</td>\n",
       "      <td>2.0</td>\n",
       "      <td>0.494062</td>\n",
       "    </tr>\n",
       "    <tr>\n",
       "      <td>4</td>\n",
       "      <td>setosa</td>\n",
       "      <td>5.0</td>\n",
       "      <td>1.4</td>\n",
       "      <td>0.2</td>\n",
       "      <td>3.6</td>\n",
       "      <td>2.0</td>\n",
       "      <td>0.302729</td>\n",
       "    </tr>\n",
       "  </tbody>\n",
       "</table>\n",
       "</div>"
      ],
      "text/plain": [
       "Selected Rows from Table SCORE_OUT\n",
       "\n",
       "  Species  Sepal Length  Petal Length  Petal Width  Sepal Width  _CLUSTER_ID_  _DISTANCE_\n",
       "0  setosa           5.1           1.4          0.2          3.5           2.0    0.250176\n",
       "1  setosa           4.9           1.4          0.2          3.0           2.0    0.418604\n",
       "2  setosa           4.7           1.3          0.2          3.2           2.0    0.442488\n",
       "3  setosa           4.6           1.5          0.2          3.1           2.0    0.494062\n",
       "4  setosa           5.0           1.4          0.2          3.6           2.0    0.302729"
      ]
     },
     "execution_count": 56,
     "metadata": {},
     "output_type": "execute_result"
    }
   ],
   "source": [
    "dfKclusScores.head()"
   ]
  },
  {
   "cell_type": "code",
   "execution_count": 60,
   "metadata": {},
   "outputs": [],
   "source": [
    "# define and map colors\n",
    "colors = ['#DF2020', '#81DF20']\n",
    "dfKclusScores['c'] = dfKclusScores._CLUSTER_ID_.map({1:colors[0], 2:colors[1]})"
   ]
  },
  {
   "cell_type": "code",
   "execution_count": 63,
   "metadata": {},
   "outputs": [
    {
     "data": {
      "text/plain": [
       "<matplotlib.collections.PathCollection at 0x7f6fae1216a0>"
      ]
     },
     "execution_count": 63,
     "metadata": {},
     "output_type": "execute_result"
    },
    {
     "data": {
      "image/png": "[encoded data removed]",
      "text/plain": [
       "<Figure size 432x288 with 1 Axes>"
      ]
     },
     "metadata": {
      "needs_background": "light"
     },
     "output_type": "display_data"
    }
   ],
   "source": [
    "plt.scatter(dfKclusScores[\"Sepal Length\"], dfKclusScores[\"Petal Length\"], c=dfKclusScores.c, alpha = 0.6, s=10)"
   ]
  },
  {
   "cell_type": "code",
   "execution_count": 64,
   "metadata": {},
   "outputs": [
    {
     "name": "stdout",
     "output_type": "stream",
     "text": [
      "NOTE: Executing action 'dataStep.runCodeTable'.\n",
      "NOTE: Action 'dataStep.runCodeTable' used (Total process time):\n",
      "NOTE:       real time               0.012461 seconds\n",
      "NOTE:       cpu time                0.065579 seconds (526.27%)\n",
      "NOTE:       total nodes             1 (16 cores)\n",
      "NOTE:       total memory            62.67G\n",
      "NOTE:       memory                  11.62M (0.02%)\n"
     ]
    },
    {
     "data": {
      "text/html": [
       "<div class=\"cas-results-key\"><b>&#167; InputCasTables</b></div>\n",
       "<div class=\"cas-results-body\">\n",
       "<div>\n",
       "<style scoped>\n",
       "    .dataframe tbody tr th:only-of-type {\n",
       "        vertical-align: middle;\n",
       "    }\n",
       "\n",
       "    .dataframe tbody tr th {\n",
       "        vertical-align: top;\n",
       "    }\n",
       "\n",
       "    .dataframe thead th {\n",
       "        text-align: right;\n",
       "    }\n",
       "</style>\n",
       "<table border=\"1\" class=\"dataframe\">\n",
       "  <thead>\n",
       "    <tr style=\"text-align: right;\">\n",
       "      <th title=\"\"></th>\n",
       "      <th title=\"CAS Library\">casLib</th>\n",
       "      <th title=\"Name\">Name</th>\n",
       "      <th title=\"Number of Rows\">Rows</th>\n",
       "      <th title=\"Number of Columns\">Columns</th>\n",
       "      <th title=\"Table\">casTable</th>\n",
       "    </tr>\n",
       "  </thead>\n",
       "  <tbody>\n",
       "    <tr>\n",
       "      <td>0</td>\n",
       "      <td>CASUSER(viyademo01)</td>\n",
       "      <td>IRIS</td>\n",
       "      <td>150</td>\n",
       "      <td>6</td>\n",
       "      <td>CASTable('IRIS', caslib='CASUSER(viyademo01)')</td>\n",
       "    </tr>\n",
       "  </tbody>\n",
       "</table>\n",
       "</div>\n",
       "</div>\n",
       "<div class=\"cas-results-key\"><hr/><b>&#167; OutputCasTables</b></div>\n",
       "<div class=\"cas-results-body\">\n",
       "<div>\n",
       "<style scoped>\n",
       "    .dataframe tbody tr th:only-of-type {\n",
       "        vertical-align: middle;\n",
       "    }\n",
       "\n",
       "    .dataframe tbody tr th {\n",
       "        vertical-align: top;\n",
       "    }\n",
       "\n",
       "    .dataframe thead th {\n",
       "        text-align: right;\n",
       "    }\n",
       "</style>\n",
       "<table border=\"1\" class=\"dataframe\">\n",
       "  <thead>\n",
       "    <tr style=\"text-align: right;\">\n",
       "      <th title=\"\"></th>\n",
       "      <th title=\"CAS Library\">casLib</th>\n",
       "      <th title=\"Name\">Name</th>\n",
       "      <th title=\"Number of Rows\">Rows</th>\n",
       "      <th title=\"Number of Columns\">Columns</th>\n",
       "      <th title=\"Number of Rows Appended\">Append</th>\n",
       "      <th title=\"Promoted\">Promoted</th>\n",
       "      <th title=\"Table\">casTable</th>\n",
       "    </tr>\n",
       "  </thead>\n",
       "  <tbody>\n",
       "    <tr>\n",
       "      <td>0</td>\n",
       "      <td>CASUSER(viyademo01)</td>\n",
       "      <td>scored_iris_clusters</td>\n",
       "      <td>150</td>\n",
       "      <td>9</td>\n",
       "      <td>NaN</td>\n",
       "      <td>N</td>\n",
       "      <td>CASTable('scored_iris_clusters', caslib='CASUS...</td>\n",
       "    </tr>\n",
       "  </tbody>\n",
       "</table>\n",
       "</div>\n",
       "</div>\n",
       "<div class=\"cas-output-area\"></div>\n",
       "<p class=\"cas-results-performance\"><small><span class=\"cas-elapsed\">elapsed 0.0125s</span> &#183; <span class=\"cas-user\">user 0.0405s</span> &#183; <span class=\"cas-sys\">sys 0.0251s</span> &#183; <span class=\"cas-memory\">mem 11.6MB</span></small></p>"
      ],
      "text/plain": [
       "[InputCasTables]\n",
       "\n",
       "                 casLib  Name  Rows  Columns                                        casTable\n",
       " 0  CASUSER(viyademo01)  IRIS   150        6  CASTable('IRIS', caslib='CASUSER(viyademo01)')\n",
       "\n",
       "[OutputCasTables]\n",
       "\n",
       "                 casLib                  Name  Rows  Columns  Append Promoted                                           casTable\n",
       " 0  CASUSER(viyademo01)  scored_iris_clusters   150        9     NaN        N  CASTable('scored_iris_clusters', caslib='CASUS...\n",
       "\n",
       "+ Elapsed: 0.0125s, user: 0.0405s, sys: 0.0251s, mem: 11.6mb"
      ]
     },
     "execution_count": 64,
     "metadata": {},
     "output_type": "execute_result"
    }
   ],
   "source": [
    "s.dataStep.runCodeTable(\n",
    "casout={\"caslib\":\"casuser\",\"name\":\"scored_iris_clusters\"},\n",
    "codeTable={\"caslib\":\"casuser\",\"name\":\"tmp_model_cas_table\"},\n",
    "table={\"caslib\":\"casuser\",\"name\":\"iris\"})"
   ]
  },
  {
   "cell_type": "code",
   "execution_count": 65,
   "metadata": {},
   "outputs": [],
   "source": [
    "# CASTable view on megacorp\n",
    "tbl_kclus_scores2 = s.CASTable(caslib=\"casuser\", name=\"scored_iris_clusters\", replace=True)\n",
    "dfKclusScores2 = tbl_kclus_scores2.to_frame()"
   ]
  },
  {
   "cell_type": "code",
   "execution_count": 66,
   "metadata": {},
   "outputs": [
    {
     "data": {
      "text/html": [
       "<div>\n",
       "<style scoped>\n",
       "    .dataframe tbody tr th:only-of-type {\n",
       "        vertical-align: middle;\n",
       "    }\n",
       "\n",
       "    .dataframe tbody tr th {\n",
       "        vertical-align: top;\n",
       "    }\n",
       "\n",
       "    .dataframe thead th {\n",
       "        text-align: right;\n",
       "    }\n",
       "</style>\n",
       "<table border=\"1\" class=\"dataframe\"><caption>Selected Rows from Table SCORED_IRIS_CLUSTERS</caption>\n",
       "  <thead>\n",
       "    <tr style=\"text-align: right;\">\n",
       "      <th title=\"\"></th>\n",
       "      <th title=\"Sepal Length\">Sepal Length</th>\n",
       "      <th title=\"Sepal Width\">Sepal Width</th>\n",
       "      <th title=\"Petal Length\">Petal Length</th>\n",
       "      <th title=\"Petal Width\">Petal Width</th>\n",
       "      <th title=\"Species\">Species</th>\n",
       "      <th title=\"Index\">Index</th>\n",
       "      <th title=\"Warnings\">_WARN_</th>\n",
       "      <th title=\"Cluster ID\">_CLUSTER_ID_</th>\n",
       "      <th title=\"Distance to Centroid\">_DISTANCE_</th>\n",
       "    </tr>\n",
       "  </thead>\n",
       "  <tbody>\n",
       "    <tr>\n",
       "      <td>0</td>\n",
       "      <td>5.1</td>\n",
       "      <td>3.5</td>\n",
       "      <td>1.4</td>\n",
       "      <td>0.2</td>\n",
       "      <td>setosa</td>\n",
       "      <td>1.0</td>\n",
       "      <td></td>\n",
       "      <td>2.0</td>\n",
       "      <td>0.250176</td>\n",
       "    </tr>\n",
       "    <tr>\n",
       "      <td>1</td>\n",
       "      <td>4.9</td>\n",
       "      <td>3.0</td>\n",
       "      <td>1.4</td>\n",
       "      <td>0.2</td>\n",
       "      <td>setosa</td>\n",
       "      <td>2.0</td>\n",
       "      <td></td>\n",
       "      <td>2.0</td>\n",
       "      <td>0.418604</td>\n",
       "    </tr>\n",
       "    <tr>\n",
       "      <td>2</td>\n",
       "      <td>4.7</td>\n",
       "      <td>3.2</td>\n",
       "      <td>1.3</td>\n",
       "      <td>0.2</td>\n",
       "      <td>setosa</td>\n",
       "      <td>3.0</td>\n",
       "      <td></td>\n",
       "      <td>2.0</td>\n",
       "      <td>0.442488</td>\n",
       "    </tr>\n",
       "    <tr>\n",
       "      <td>3</td>\n",
       "      <td>4.6</td>\n",
       "      <td>3.1</td>\n",
       "      <td>1.5</td>\n",
       "      <td>0.2</td>\n",
       "      <td>setosa</td>\n",
       "      <td>4.0</td>\n",
       "      <td></td>\n",
       "      <td>2.0</td>\n",
       "      <td>0.494062</td>\n",
       "    </tr>\n",
       "    <tr>\n",
       "      <td>4</td>\n",
       "      <td>5.0</td>\n",
       "      <td>3.6</td>\n",
       "      <td>1.4</td>\n",
       "      <td>0.2</td>\n",
       "      <td>setosa</td>\n",
       "      <td>5.0</td>\n",
       "      <td></td>\n",
       "      <td>2.0</td>\n",
       "      <td>0.302729</td>\n",
       "    </tr>\n",
       "  </tbody>\n",
       "</table>\n",
       "</div>"
      ],
      "text/plain": [
       "Selected Rows from Table SCORED_IRIS_CLUSTERS\n",
       "\n",
       "   Sepal Length  Sepal Width  Petal Length  Petal Width Species  Index _WARN_  _CLUSTER_ID_  _DISTANCE_\n",
       "0           5.1          3.5           1.4          0.2  setosa    1.0                  2.0    0.250176\n",
       "1           4.9          3.0           1.4          0.2  setosa    2.0                  2.0    0.418604\n",
       "2           4.7          3.2           1.3          0.2  setosa    3.0                  2.0    0.442488\n",
       "3           4.6          3.1           1.5          0.2  setosa    4.0                  2.0    0.494062\n",
       "4           5.0          3.6           1.4          0.2  setosa    5.0                  2.0    0.302729"
      ]
     },
     "execution_count": 66,
     "metadata": {},
     "output_type": "execute_result"
    }
   ],
   "source": [
    "dfKclusScores2.head()"
   ]
  },
  {
   "cell_type": "code",
   "execution_count": 67,
   "metadata": {},
   "outputs": [
    {
     "data": {
      "text/plain": [
       "<matplotlib.collections.PathCollection at 0x7f6fae0c77f0>"
      ]
     },
     "execution_count": 67,
     "metadata": {},
     "output_type": "execute_result"
    },
    {
     "data": {
      "image/png": "[encoded data removed]",
      "text/plain": [
       "<Figure size 432x288 with 1 Axes>"
      ]
     },
     "metadata": {
      "needs_background": "light"
     },
     "output_type": "display_data"
    }
   ],
   "source": [
    "# define and map colors\n",
    "colors = ['#DF2020', '#81DF20']\n",
    "dfKclusScores2['c'] = dfKclusScores2._CLUSTER_ID_.map({1:colors[0], 2:colors[1]})\n",
    "plt.scatter(dfKclusScores2[\"Sepal Length\"], dfKclusScores2[\"Petal Length\"], c=dfKclusScores2.c, alpha = 0.6, s=10)"
   ]
  },
  {
   "cell_type": "code",
   "execution_count": 68,
   "metadata": {},
   "outputs": [],
   "source": [
    "s.close()"
   ]
  },
  {
   "cell_type": "code",
   "execution_count": null,
   "metadata": {},
   "outputs": [],
   "source": []
  }
 ],
 "metadata": {
  "kernelspec": {
   "display_name": "Python 3",
   "language": "python",
   "name": "python3"
  },
  "language_info": {
   "codemirror_mode": {
    "name": "ipython",
    "version": 3
   },
   "file_extension": ".py",
   "mimetype": "text/x-python",
   "name": "python",
   "nbconvert_exporter": "python",
   "pygments_lexer": "ipython3",
   "version": "3.8.3"
  }
 },
 "nbformat": 4,
 "nbformat_minor": 4
}
