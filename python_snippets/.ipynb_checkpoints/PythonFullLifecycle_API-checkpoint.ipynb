{
 "cells": [
  {
   "cell_type": "code",
   "execution_count": 1,
   "metadata": {},
   "outputs": [],
   "source": [
    "import pandas as pd\n",
    "import os\n",
    "import sklearn.datasets\n",
    "import swat\n",
    "\n",
    "from sklearn.tree import DecisionTreeRegressor\n",
    "from sklearn.linear_model import LinearRegression\n",
    "from sklearn.model_selection import train_test_split\n",
    "\n",
    "from sasctl import Session\n",
    "from sasctl.tasks import register_model, publish_model\n",
    "from sasctl.services import model_repository as mr\n",
    "from sasctl.services import model_management as mm"
   ]
  },
  {
   "cell_type": "markdown",
   "metadata": {},
   "source": [
    "## Establish a session with SAS Viya"
   ]
  },
  {
   "cell_type": "code",
   "execution_count": 2,
   "metadata": {},
   "outputs": [
    {
     "data": {
      "text/plain": [
       "<sasctl.core.Session at 0x7fc520b62588>"
      ]
     },
     "execution_count": 2,
     "metadata": {},
     "output_type": "execute_result"
    }
   ],
   "source": [
    "os.environ['CAS_CLIENT_SSL_CA_LIST'] = '/opt/sas/viya/config/etc/SASSecurityCertificateFramework/cacerts/trustedcerts.pem'\n",
    "s = swat.CAS('frasepviya34.aws.sas.com', 8777, username='viyademo01', password='demopw', protocol='https')\n",
    "Session(s)"
   ]
  },
  {
   "cell_type": "code",
   "execution_count": 3,
   "metadata": {},
   "outputs": [],
   "source": [
    "project = 'Boston Housing'\n",
    "model_name = 'Boston Regression'"
   ]
  },
  {
   "cell_type": "markdown",
   "metadata": {},
   "source": [
    "# Fit a linear regression model using sci-kit learn"
   ]
  },
  {
   "cell_type": "code",
   "execution_count": 4,
   "metadata": {},
   "outputs": [
    {
     "data": {
      "text/plain": [
       "LinearRegression(copy_X=True, fit_intercept=True, n_jobs=1, normalize=False)"
      ]
     },
     "execution_count": 4,
     "metadata": {},
     "output_type": "execute_result"
    }
   ],
   "source": [
    "data = sklearn.datasets.load_boston()\n",
    "X = pd.DataFrame(data.data, columns=data.feature_names)\n",
    "y = pd.DataFrame(data.target, columns=['Price'])\n",
    "\n",
    "X_train, X_test, y_train, y_test = train_test_split(X, y, test_size=0.3)\n",
    "\n",
    "lm = LinearRegression()\n",
    "lm.fit(X_train, y_train)"
   ]
  },
  {
   "cell_type": "markdown",
   "metadata": {},
   "source": [
    "# Push python dataframe training table to cas for future performance testing in CAS"
   ]
  },
  {
   "cell_type": "code",
   "execution_count": 5,
   "metadata": {},
   "outputs": [],
   "source": [
    "data_dataframe = pd.DataFrame(data.data)"
   ]
  },
  {
   "cell_type": "code",
   "execution_count": 6,
   "metadata": {},
   "outputs": [],
   "source": [
    "s.upload(data_dataframe,casout=\"boston\")"
   ]
  },
  {
   "cell_type": "code",
   "execution_count": 8,
   "metadata": {},
   "outputs": [
    {
     "data": {
      "text/html": [
       "<div class=\"cas-output-area\"></div>\n",
       "<p class=\"cas-results-performance\"><small><span class=\"cas-elapsed\">elapsed 0.000957s</span> &#183; <span class=\"cas-sys\">sys 0.000903s</span> &#183; <span class=\"cas-memory\">mem 0.322MB</span></small></p>"
      ],
      "text/plain": [
       "+ Elapsed: 0.000957s, sys: 0.000903s, mem: 0.322mb"
      ]
     },
     "execution_count": 8,
     "metadata": {},
     "output_type": "execute_result"
    }
   ],
   "source": [
    "s.promote(name=\"boston\", targetCaslib=\"PUBLIC\")"
   ]
  },
  {
   "cell_type": "code",
   "execution_count": 9,
   "metadata": {},
   "outputs": [
    {
     "name": "stdout",
     "output_type": "stream",
     "text": [
      "NOTE: Cloud Analytic Services saved the file boston.sashdat in caslib Public.\n"
     ]
    },
    {
     "data": {
      "text/html": [
       "<div class=\"cas-results-key\"><b>&#167; caslib</b></div>\n",
       "<div class=\"cas-results-body\">\n",
       "<div>Public</div>\n",
       "</div>\n",
       "<div class=\"cas-results-key\"><hr/><b>&#167; name</b></div>\n",
       "<div class=\"cas-results-body\">\n",
       "<div>boston.sashdat</div>\n",
       "</div>\n",
       "<div class=\"cas-output-area\"></div>\n",
       "<p class=\"cas-results-performance\"><small><span class=\"cas-elapsed\">elapsed 0.00361s</span> &#183; <span class=\"cas-user\">user 0.000283s</span> &#183; <span class=\"cas-sys\">sys 0.00158s</span> &#183; <span class=\"cas-memory\">mem 16.8MB</span></small></p>"
      ],
      "text/plain": [
       "[caslib]\n",
       "\n",
       " 'Public'\n",
       "\n",
       "[name]\n",
       "\n",
       " 'boston.sashdat'\n",
       "\n",
       "+ Elapsed: 0.00361s, user: 0.000283s, sys: 0.00158s, mem: 16.8mb"
      ]
     },
     "execution_count": 9,
     "metadata": {},
     "output_type": "execute_result"
    }
   ],
   "source": [
    "s.table.save(table=dict(name='boston', caslib='PUBLIC'), caslib='PUBLIC', name='boston.sashdat', replace=True)"
   ]
  },
  {
   "cell_type": "markdown",
   "metadata": {},
   "source": [
    "# Register the model in SAS Model Manager"
   ]
  },
  {
   "cell_type": "code",
   "execution_count": 10,
   "metadata": {},
   "outputs": [
    {
     "data": {
      "text/plain": [
       "<class 'sasctl.core.RestObj'>(headers={'Date': 'Fri, 11 Oct 2019 08:04:07 GMT', 'Server': 'Apache/2.4', 'Content-Security-Policy': \"default-src 'self'; script-src 'self' 'unsafe-inline' 'unsafe-eval'; img-src 'self' *.sas.com blob: data:; style-src 'self' 'unsafe-inline'; child-src 'self' blob: data: mailto:;\", 'Last-Modified': 'Fri, 11 Oct 2019 08:04:07 GMT', 'ETag': 'W/\"16da94ab0c3\"', 'Cache-Control': 'no-cache, no-store, max-age=0, must-revalidate', 'Pragma': 'no-cache', 'Expires': '0', 'Strict-Transport-Security': 'max-age=31536000 ; includeSubDomains', 'X-Frame-Options': 'SAMEORIGIN', 'Content-Type': 'application/vnd.sas.models.model+json;charset=UTF-8', 'X-Content-Type-Options': 'nosniff', 'X-XSS-Protection': '1; mode=block', 'Vary': 'User-Agent', 'Keep-Alive': 'timeout=5, max=95', 'Connection': 'Keep-Alive', 'Transfer-Encoding': 'chunked'}, data={'creationTimeStamp': '2019-10-11T08:04:06.875Z', 'modifiedTimeStamp': '2019-10-11T08:04:06.875Z', 'createdBy': 'viyademo01', 'modifiedBy': 'viyademo01', 'links': [{'method': 'GET', 'rel': 'self', 'href': '/modelRepository/models/8cbb5ef6-1c10-4405-80e3-2641e14eb8f4', 'uri': '/modelRepository/models/8cbb5ef6-1c10-4405-80e3-2641e14eb8f4', 'type': 'application/vnd.sas.models.model'}, {'method': 'GET', 'rel': 'alternate', 'href': '/modelRepository/models/8cbb5ef6-1c10-4405-80e3-2641e14eb8f4', 'uri': '/modelRepository/models/8cbb5ef6-1c10-4405-80e3-2641e14eb8f4', 'type': 'application/vnd.sas.models.model.summary'}, {'method': 'PUT', 'rel': 'update', 'href': '/modelRepository/models/8cbb5ef6-1c10-4405-80e3-2641e14eb8f4', 'uri': '/modelRepository/models/8cbb5ef6-1c10-4405-80e3-2641e14eb8f4', 'type': 'application/vnd.sas.models.model'}, {'method': 'DELETE', 'rel': 'delete', 'href': '/modelRepository/models/8cbb5ef6-1c10-4405-80e3-2641e14eb8f4', 'uri': '/modelRepository/models/8cbb5ef6-1c10-4405-80e3-2641e14eb8f4'}, {'method': 'GET', 'rel': 'contents', 'href': '/modelRepository/models/8cbb5ef6-1c10-4405-80e3-2641e14eb8f4/contents', 'uri': '/modelRepository/models/8cbb5ef6-1c10-4405-80e3-2641e14eb8f4/contents', 'type': 'application/vnd.sas.models.model'}], 'version': 2, 'id': '8cbb5ef6-1c10-4405-80e3-2641e14eb8f4', 'name': 'Boston Regression', 'description': 'LinearRegression(copy_X=True, fit_intercept=True, n_jobs=1, normalize=False)', 'location': '/Model Repositories/Public', 'projectId': '60ec636b-76e2-4fb8-bbad-8a010914e932', 'projectName': 'Boston Housing', 'projectVersionId': 'e3f0e7b2-4985-4b2c-9764-ba5dfb1df0ff', 'projectVersionName': 'Version 1', 'projectVersionNum': '1.0', 'folderId': 'd8756394-36b8-42c7-911c-d5b01ed7dd22', 'indirectFolderId': 'd8756394-36b8-42c7-911c-d5b01ed7dd22', 'repositoryId': 'edd9df9b-46ae-4178-8ac2-e3b2974efffa', 'function': 'Prediction', 'algorithm': 'Linear regression', 'tool': 'Python 3.6', 'scoreCodeType': 'ds2MultiType', 'trainCodeType': 'Python', 'modeler': 'viyademo01', 'suggestedChampion': False, 'candidateChampion': False, 'role': 'plain', 'immutable': False, 'properties': [{'name': 'copy_X', 'value': 'True', 'type': 'string'}, {'name': 'fit_intercept', 'value': 'True', 'type': 'string'}, {'name': 'n_jobs', 'value': '1', 'type': 'string'}, {'name': 'normalize', 'value': 'False', 'type': 'string'}], 'inputVariables': [{'creationTimeStamp': '2019-10-11T08:04:07.041Z', 'modifiedTimeStamp': '2019-10-11T08:04:07.041Z', 'createdBy': 'viyademo01', 'modifiedBy': 'viyademo01', 'links': [{'method': 'GET', 'rel': 'up', 'href': '/modelRepository/models/8cbb5ef6-1c10-4405-80e3-2641e14eb8f4/variables/0ffa8974-0552-4667-83a0-9d79e8d82e09', 'uri': '/modelRepository/models/8cbb5ef6-1c10-4405-80e3-2641e14eb8f4/variables', 'type': 'application/vnd.sas.collection', 'itemType': 'application/vnd.sas.models.variable'}, {'method': 'GET', 'rel': 'self', 'href': '/modelRepository/models/8cbb5ef6-1c10-4405-80e3-2641e14eb8f4/variables/0ffa8974-0552-4667-83a0-9d79e8d82e09', 'uri': '/modelRepository/models/8cbb5ef6-1c10-4405-80e3-2641e14eb8f4/variables/0ffa8974-0552-4667-83a0-9d79e8d82e09', 'type': 'application/vnd.sas.models.variable'}, {'method': 'PUT', 'rel': 'update', 'href': '/modelRepository/models/8cbb5ef6-1c10-4405-80e3-2641e14eb8f4/variables/0ffa8974-0552-4667-83a0-9d79e8d82e09', 'uri': '/modelRepository/models/8cbb5ef6-1c10-4405-80e3-2641e14eb8f4/variables/0ffa8974-0552-4667-83a0-9d79e8d82e09', 'type': 'application/vnd.sas.models.variable'}, {'method': 'DELETE', 'rel': 'delete', 'href': '/modelRepository/models/8cbb5ef6-1c10-4405-80e3-2641e14eb8f4/variables/0ffa8974-0552-4667-83a0-9d79e8d82e09', 'uri': '/modelRepository/models/8cbb5ef6-1c10-4405-80e3-2641e14eb8f4/variables/0ffa8974-0552-4667-83a0-9d79e8d82e09'}], 'version': 2, 'id': '0ffa8974-0552-4667-83a0-9d79e8d82e09', 'name': 'CRIM', 'role': 'input', 'type': 'decimal'}, {'creationTimeStamp': '2019-10-11T08:04:07.041Z', 'modifiedTimeStamp': '2019-10-11T08:04:07.041Z', 'createdBy': 'viyademo01', 'modifiedBy': 'viyademo01', 'links': [{'method': 'GET', 'rel': 'up', 'href': '/modelRepository/models/8cbb5ef6-1c10-4405-80e3-2641e14eb8f4/variables/3896e603-a0a7-4ceb-a695-44d5beddeb67', 'uri': '/modelRepository/models/8cbb5ef6-1c10-4405-80e3-2641e14eb8f4/variables', 'type': 'application/vnd.sas.collection', 'itemType': 'application/vnd.sas.models.variable'}, {'method': 'GET', 'rel': 'self', 'href': '/modelRepository/models/8cbb5ef6-1c10-4405-80e3-2641e14eb8f4/variables/3896e603-a0a7-4ceb-a695-44d5beddeb67', 'uri': '/modelRepository/models/8cbb5ef6-1c10-4405-80e3-2641e14eb8f4/variables/3896e603-a0a7-4ceb-a695-44d5beddeb67', 'type': 'application/vnd.sas.models.variable'}, {'method': 'PUT', 'rel': 'update', 'href': '/modelRepository/models/8cbb5ef6-1c10-4405-80e3-2641e14eb8f4/variables/3896e603-a0a7-4ceb-a695-44d5beddeb67', 'uri': '/modelRepository/models/8cbb5ef6-1c10-4405-80e3-2641e14eb8f4/variables/3896e603-a0a7-4ceb-a695-44d5beddeb67', 'type': 'application/vnd.sas.models.variable'}, {'method': 'DELETE', 'rel': 'delete', 'href': '/modelRepository/models/8cbb5ef6-1c10-4405-80e3-2641e14eb8f4/variables/3896e603-a0a7-4ceb-a695-44d5beddeb67', 'uri': '/modelRepository/models/8cbb5ef6-1c10-4405-80e3-2641e14eb8f4/variables/3896e603-a0a7-4ceb-a695-44d5beddeb67'}], 'version': 2, 'id': '3896e603-a0a7-4ceb-a695-44d5beddeb67', 'name': 'ZN', 'role': 'input', 'type': 'decimal'}, {'creationTimeStamp': '2019-10-11T08:04:07.041Z', 'modifiedTimeStamp': '2019-10-11T08:04:07.041Z', 'createdBy': 'viyademo01', 'modifiedBy': 'viyademo01', 'links': [{'method': 'GET', 'rel': 'up', 'href': '/modelRepository/models/8cbb5ef6-1c10-4405-80e3-2641e14eb8f4/variables/ccefc8dd-7fe9-43bc-a663-b7c3a00b8985', 'uri': '/modelRepository/models/8cbb5ef6-1c10-4405-80e3-2641e14eb8f4/variables', 'type': 'application/vnd.sas.collection', 'itemType': 'application/vnd.sas.models.variable'}, {'method': 'GET', 'rel': 'self', 'href': '/modelRepository/models/8cbb5ef6-1c10-4405-80e3-2641e14eb8f4/variables/ccefc8dd-7fe9-43bc-a663-b7c3a00b8985', 'uri': '/modelRepository/models/8cbb5ef6-1c10-4405-80e3-2641e14eb8f4/variables/ccefc8dd-7fe9-43bc-a663-b7c3a00b8985', 'type': 'application/vnd.sas.models.variable'}, {'method': 'PUT', 'rel': 'update', 'href': '/modelRepository/models/8cbb5ef6-1c10-4405-80e3-2641e14eb8f4/variables/ccefc8dd-7fe9-43bc-a663-b7c3a00b8985', 'uri': '/modelRepository/models/8cbb5ef6-1c10-4405-80e3-2641e14eb8f4/variables/ccefc8dd-7fe9-43bc-a663-b7c3a00b8985', 'type': 'application/vnd.sas.models.variable'}, {'method': 'DELETE', 'rel': 'delete', 'href': '/modelRepository/models/8cbb5ef6-1c10-4405-80e3-2641e14eb8f4/variables/ccefc8dd-7fe9-43bc-a663-b7c3a00b8985', 'uri': '/modelRepository/models/8cbb5ef6-1c10-4405-80e3-2641e14eb8f4/variables/ccefc8dd-7fe9-43bc-a663-b7c3a00b8985'}], 'version': 2, 'id': 'ccefc8dd-7fe9-43bc-a663-b7c3a00b8985', 'name': 'INDUS', 'role': 'input', 'type': 'decimal'}, {'creationTimeStamp': '2019-10-11T08:04:07.041Z', 'modifiedTimeStamp': '2019-10-11T08:04:07.041Z', 'createdBy': 'viyademo01', 'modifiedBy': 'viyademo01', 'links': [{'method': 'GET', 'rel': 'up', 'href': '/modelRepository/models/8cbb5ef6-1c10-4405-80e3-2641e14eb8f4/variables/92b317a8-ce5e-4a0b-9e03-bc631d627858', 'uri': '/modelRepository/models/8cbb5ef6-1c10-4405-80e3-2641e14eb8f4/variables', 'type': 'application/vnd.sas.collection', 'itemType': 'application/vnd.sas.models.variable'}, {'method': 'GET', 'rel': 'self', 'href': '/modelRepository/models/8cbb5ef6-1c10-4405-80e3-2641e14eb8f4/variables/92b317a8-ce5e-4a0b-9e03-bc631d627858', 'uri': '/modelRepository/models/8cbb5ef6-1c10-4405-80e3-2641e14eb8f4/variables/92b317a8-ce5e-4a0b-9e03-bc631d627858', 'type': 'application/vnd.sas.models.variable'}, {'method': 'PUT', 'rel': 'update', 'href': '/modelRepository/models/8cbb5ef6-1c10-4405-80e3-2641e14eb8f4/variables/92b317a8-ce5e-4a0b-9e03-bc631d627858', 'uri': '/modelRepository/models/8cbb5ef6-1c10-4405-80e3-2641e14eb8f4/variables/92b317a8-ce5e-4a0b-9e03-bc631d627858', 'type': 'application/vnd.sas.models.variable'}, {'method': 'DELETE', 'rel': 'delete', 'href': '/modelRepository/models/8cbb5ef6-1c10-4405-80e3-2641e14eb8f4/variables/92b317a8-ce5e-4a0b-9e03-bc631d627858', 'uri': '/modelRepository/models/8cbb5ef6-1c10-4405-80e3-2641e14eb8f4/variables/92b317a8-ce5e-4a0b-9e03-bc631d627858'}], 'version': 2, 'id': '92b317a8-ce5e-4a0b-9e03-bc631d627858', 'name': 'CHAS', 'role': 'input', 'type': 'decimal'}, {'creationTimeStamp': '2019-10-11T08:04:07.041Z', 'modifiedTimeStamp': '2019-10-11T08:04:07.041Z', 'createdBy': 'viyademo01', 'modifiedBy': 'viyademo01', 'links': [{'method': 'GET', 'rel': 'up', 'href': '/modelRepository/models/8cbb5ef6-1c10-4405-80e3-2641e14eb8f4/variables/3cd3d074-1c58-4d2a-a0c2-ca1d983547c8', 'uri': '/modelRepository/models/8cbb5ef6-1c10-4405-80e3-2641e14eb8f4/variables', 'type': 'application/vnd.sas.collection', 'itemType': 'application/vnd.sas.models.variable'}, {'method': 'GET', 'rel': 'self', 'href': '/modelRepository/models/8cbb5ef6-1c10-4405-80e3-2641e14eb8f4/variables/3cd3d074-1c58-4d2a-a0c2-ca1d983547c8', 'uri': '/modelRepository/models/8cbb5ef6-1c10-4405-80e3-2641e14eb8f4/variables/3cd3d074-1c58-4d2a-a0c2-ca1d983547c8', 'type': 'application/vnd.sas.models.variable'}, {'method': 'PUT', 'rel': 'update', 'href': '/modelRepository/models/8cbb5ef6-1c10-4405-80e3-2641e14eb8f4/variables/3cd3d074-1c58-4d2a-a0c2-ca1d983547c8', 'uri': '/modelRepository/models/8cbb5ef6-1c10-4405-80e3-2641e14eb8f4/variables/3cd3d074-1c58-4d2a-a0c2-ca1d983547c8', 'type': 'application/vnd.sas.models.variable'}, {'method': 'DELETE', 'rel': 'delete', 'href': '/modelRepository/models/8cbb5ef6-1c10-4405-80e3-2641e14eb8f4/variables/3cd3d074-1c58-4d2a-a0c2-ca1d983547c8', 'uri': '/modelRepository/models/8cbb5ef6-1c10-4405-80e3-2641e14eb8f4/variables/3cd3d074-1c58-4d2a-a0c2-ca1d983547c8'}], 'version': 2, 'id': '3cd3d074-1c58-4d2a-a0c2-ca1d983547c8', 'name': 'NOX', 'role': 'input', 'type': 'decimal'}, {'creationTimeStamp': '2019-10-11T08:04:07.041Z', 'modifiedTimeStamp': '2019-10-11T08:04:07.041Z', 'createdBy': 'viyademo01', 'modifiedBy': 'viyademo01', 'links': [{'method': 'GET', 'rel': 'up', 'href': '/modelRepository/models/8cbb5ef6-1c10-4405-80e3-2641e14eb8f4/variables/4a58e467-eee1-4f8f-a0f5-0c550f8de188', 'uri': '/modelRepository/models/8cbb5ef6-1c10-4405-80e3-2641e14eb8f4/variables', 'type': 'application/vnd.sas.collection', 'itemType': 'application/vnd.sas.models.variable'}, {'method': 'GET', 'rel': 'self', 'href': '/modelRepository/models/8cbb5ef6-1c10-4405-80e3-2641e14eb8f4/variables/4a58e467-eee1-4f8f-a0f5-0c550f8de188', 'uri': '/modelRepository/models/8cbb5ef6-1c10-4405-80e3-2641e14eb8f4/variables/4a58e467-eee1-4f8f-a0f5-0c550f8de188', 'type': 'application/vnd.sas.models.variable'}, {'method': 'PUT', 'rel': 'update', 'href': '/modelRepository/models/8cbb5ef6-1c10-4405-80e3-2641e14eb8f4/variables/4a58e467-eee1-4f8f-a0f5-0c550f8de188', 'uri': '/modelRepository/models/8cbb5ef6-1c10-4405-80e3-2641e14eb8f4/variables/4a58e467-eee1-4f8f-a0f5-0c550f8de188', 'type': 'application/vnd.sas.models.variable'}, {'method': 'DELETE', 'rel': 'delete', 'href': '/modelRepository/models/8cbb5ef6-1c10-4405-80e3-2641e14eb8f4/variables/4a58e467-eee1-4f8f-a0f5-0c550f8de188', 'uri': '/modelRepository/models/8cbb5ef6-1c10-4405-80e3-2641e14eb8f4/variables/4a58e467-eee1-4f8f-a0f5-0c550f8de188'}], 'version': 2, 'id': '4a58e467-eee1-4f8f-a0f5-0c550f8de188', 'name': 'RM', 'role': 'input', 'type': 'decimal'}, {'creationTimeStamp': '2019-10-11T08:04:07.041Z', 'modifiedTimeStamp': '2019-10-11T08:04:07.041Z', 'createdBy': 'viyademo01', 'modifiedBy': 'viyademo01', 'links': [{'method': 'GET', 'rel': 'up', 'href': '/modelRepository/models/8cbb5ef6-1c10-4405-80e3-2641e14eb8f4/variables/dee0a638-2add-4d49-a033-3db709391561', 'uri': '/modelRepository/models/8cbb5ef6-1c10-4405-80e3-2641e14eb8f4/variables', 'type': 'application/vnd.sas.collection', 'itemType': 'application/vnd.sas.models.variable'}, {'method': 'GET', 'rel': 'self', 'href': '/modelRepository/models/8cbb5ef6-1c10-4405-80e3-2641e14eb8f4/variables/dee0a638-2add-4d49-a033-3db709391561', 'uri': '/modelRepository/models/8cbb5ef6-1c10-4405-80e3-2641e14eb8f4/variables/dee0a638-2add-4d49-a033-3db709391561', 'type': 'application/vnd.sas.models.variable'}, {'method': 'PUT', 'rel': 'update', 'href': '/modelRepository/models/8cbb5ef6-1c10-4405-80e3-2641e14eb8f4/variables/dee0a638-2add-4d49-a033-3db709391561', 'uri': '/modelRepository/models/8cbb5ef6-1c10-4405-80e3-2641e14eb8f4/variables/dee0a638-2add-4d49-a033-3db709391561', 'type': 'application/vnd.sas.models.variable'}, {'method': 'DELETE', 'rel': 'delete', 'href': '/modelRepository/models/8cbb5ef6-1c10-4405-80e3-2641e14eb8f4/variables/dee0a638-2add-4d49-a033-3db709391561', 'uri': '/modelRepository/models/8cbb5ef6-1c10-4405-80e3-2641e14eb8f4/variables/dee0a638-2add-4d49-a033-3db709391561'}], 'version': 2, 'id': 'dee0a638-2add-4d49-a033-3db709391561', 'name': 'AGE', 'role': 'input', 'type': 'decimal'}, {'creationTimeStamp': '2019-10-11T08:04:07.042Z', 'modifiedTimeStamp': '2019-10-11T08:04:07.042Z', 'createdBy': 'viyademo01', 'modifiedBy': 'viyademo01', 'links': [{'method': 'GET', 'rel': 'up', 'href': '/modelRepository/models/8cbb5ef6-1c10-4405-80e3-2641e14eb8f4/variables/4ea5cc8f-560e-4107-9364-332a66eecc66', 'uri': '/modelRepository/models/8cbb5ef6-1c10-4405-80e3-2641e14eb8f4/variables', 'type': 'application/vnd.sas.collection', 'itemType': 'application/vnd.sas.models.variable'}, {'method': 'GET', 'rel': 'self', 'href': '/modelRepository/models/8cbb5ef6-1c10-4405-80e3-2641e14eb8f4/variables/4ea5cc8f-560e-4107-9364-332a66eecc66', 'uri': '/modelRepository/models/8cbb5ef6-1c10-4405-80e3-2641e14eb8f4/variables/4ea5cc8f-560e-4107-9364-332a66eecc66', 'type': 'application/vnd.sas.models.variable'}, {'method': 'PUT', 'rel': 'update', 'href': '/modelRepository/models/8cbb5ef6-1c10-4405-80e3-2641e14eb8f4/variables/4ea5cc8f-560e-4107-9364-332a66eecc66', 'uri': '/modelRepository/models/8cbb5ef6-1c10-4405-80e3-2641e14eb8f4/variables/4ea5cc8f-560e-4107-9364-332a66eecc66', 'type': 'application/vnd.sas.models.variable'}, {'method': 'DELETE', 'rel': 'delete', 'href': '/modelRepository/models/8cbb5ef6-1c10-4405-80e3-2641e14eb8f4/variables/4ea5cc8f-560e-4107-9364-332a66eecc66', 'uri': '/modelRepository/models/8cbb5ef6-1c10-4405-80e3-2641e14eb8f4/variables/4ea5cc8f-560e-4107-9364-332a66eecc66'}], 'version': 2, 'id': '4ea5cc8f-560e-4107-9364-332a66eecc66', 'name': 'DIS', 'role': 'input', 'type': 'decimal'}, {'creationTimeStamp': '2019-10-11T08:04:07.042Z', 'modifiedTimeStamp': '2019-10-11T08:04:07.042Z', 'createdBy': 'viyademo01', 'modifiedBy': 'viyademo01', 'links': [{'method': 'GET', 'rel': 'up', 'href': '/modelRepository/models/8cbb5ef6-1c10-4405-80e3-2641e14eb8f4/variables/48f38477-75f4-4c3d-9431-a4092f322a05', 'uri': '/modelRepository/models/8cbb5ef6-1c10-4405-80e3-2641e14eb8f4/variables', 'type': 'application/vnd.sas.collection', 'itemType': 'application/vnd.sas.models.variable'}, {'method': 'GET', 'rel': 'self', 'href': '/modelRepository/models/8cbb5ef6-1c10-4405-80e3-2641e14eb8f4/variables/48f38477-75f4-4c3d-9431-a4092f322a05', 'uri': '/modelRepository/models/8cbb5ef6-1c10-4405-80e3-2641e14eb8f4/variables/48f38477-75f4-4c3d-9431-a4092f322a05', 'type': 'application/vnd.sas.models.variable'}, {'method': 'PUT', 'rel': 'update', 'href': '/modelRepository/models/8cbb5ef6-1c10-4405-80e3-2641e14eb8f4/variables/48f38477-75f4-4c3d-9431-a4092f322a05', 'uri': '/modelRepository/models/8cbb5ef6-1c10-4405-80e3-2641e14eb8f4/variables/48f38477-75f4-4c3d-9431-a4092f322a05', 'type': 'application/vnd.sas.models.variable'}, {'method': 'DELETE', 'rel': 'delete', 'href': '/modelRepository/models/8cbb5ef6-1c10-4405-80e3-2641e14eb8f4/variables/48f38477-75f4-4c3d-9431-a4092f322a05', 'uri': '/modelRepository/models/8cbb5ef6-1c10-4405-80e3-2641e14eb8f4/variables/48f38477-75f4-4c3d-9431-a4092f322a05'}], 'version': 2, 'id': '48f38477-75f4-4c3d-9431-a4092f322a05', 'name': 'RAD', 'role': 'input', 'type': 'decimal'}, {'creationTimeStamp': '2019-10-11T08:04:07.042Z', 'modifiedTimeStamp': '2019-10-11T08:04:07.042Z', 'createdBy': 'viyademo01', 'modifiedBy': 'viyademo01', 'links': [{'method': 'GET', 'rel': 'up', 'href': '/modelRepository/models/8cbb5ef6-1c10-4405-80e3-2641e14eb8f4/variables/5abb229f-9c1b-4d25-ba1a-5fa60eb9ac5a', 'uri': '/modelRepository/models/8cbb5ef6-1c10-4405-80e3-2641e14eb8f4/variables', 'type': 'application/vnd.sas.collection', 'itemType': 'application/vnd.sas.models.variable'}, {'method': 'GET', 'rel': 'self', 'href': '/modelRepository/models/8cbb5ef6-1c10-4405-80e3-2641e14eb8f4/variables/5abb229f-9c1b-4d25-ba1a-5fa60eb9ac5a', 'uri': '/modelRepository/models/8cbb5ef6-1c10-4405-80e3-2641e14eb8f4/variables/5abb229f-9c1b-4d25-ba1a-5fa60eb9ac5a', 'type': 'application/vnd.sas.models.variable'}, {'method': 'PUT', 'rel': 'update', 'href': '/modelRepository/models/8cbb5ef6-1c10-4405-80e3-2641e14eb8f4/variables/5abb229f-9c1b-4d25-ba1a-5fa60eb9ac5a', 'uri': '/modelRepository/models/8cbb5ef6-1c10-4405-80e3-2641e14eb8f4/variables/5abb229f-9c1b-4d25-ba1a-5fa60eb9ac5a', 'type': 'application/vnd.sas.models.variable'}, {'method': 'DELETE', 'rel': 'delete', 'href': '/modelRepository/models/8cbb5ef6-1c10-4405-80e3-2641e14eb8f4/variables/5abb229f-9c1b-4d25-ba1a-5fa60eb9ac5a', 'uri': '/modelRepository/models/8cbb5ef6-1c10-4405-80e3-2641e14eb8f4/variables/5abb229f-9c1b-4d25-ba1a-5fa60eb9ac5a'}], 'version': 2, 'id': '5abb229f-9c1b-4d25-ba1a-5fa60eb9ac5a', 'name': 'TAX', 'role': 'input', 'type': 'decimal'}, {'creationTimeStamp': '2019-10-11T08:04:07.042Z', 'modifiedTimeStamp': '2019-10-11T08:04:07.042Z', 'createdBy': 'viyademo01', 'modifiedBy': 'viyademo01', 'links': [{'method': 'GET', 'rel': 'up', 'href': '/modelRepository/models/8cbb5ef6-1c10-4405-80e3-2641e14eb8f4/variables/a0cdf090-318f-48a8-a616-c984dc548fb0', 'uri': '/modelRepository/models/8cbb5ef6-1c10-4405-80e3-2641e14eb8f4/variables', 'type': 'application/vnd.sas.collection', 'itemType': 'application/vnd.sas.models.variable'}, {'method': 'GET', 'rel': 'self', 'href': '/modelRepository/models/8cbb5ef6-1c10-4405-80e3-2641e14eb8f4/variables/a0cdf090-318f-48a8-a616-c984dc548fb0', 'uri': '/modelRepository/models/8cbb5ef6-1c10-4405-80e3-2641e14eb8f4/variables/a0cdf090-318f-48a8-a616-c984dc548fb0', 'type': 'application/vnd.sas.models.variable'}, {'method': 'PUT', 'rel': 'update', 'href': '/modelRepository/models/8cbb5ef6-1c10-4405-80e3-2641e14eb8f4/variables/a0cdf090-318f-48a8-a616-c984dc548fb0', 'uri': '/modelRepository/models/8cbb5ef6-1c10-4405-80e3-2641e14eb8f4/variables/a0cdf090-318f-48a8-a616-c984dc548fb0', 'type': 'application/vnd.sas.models.variable'}, {'method': 'DELETE', 'rel': 'delete', 'href': '/modelRepository/models/8cbb5ef6-1c10-4405-80e3-2641e14eb8f4/variables/a0cdf090-318f-48a8-a616-c984dc548fb0', 'uri': '/modelRepository/models/8cbb5ef6-1c10-4405-80e3-2641e14eb8f4/variables/a0cdf090-318f-48a8-a616-c984dc548fb0'}], 'version': 2, 'id': 'a0cdf090-318f-48a8-a616-c984dc548fb0', 'name': 'PTRATIO', 'role': 'input', 'type': 'decimal'}, {'creationTimeStamp': '2019-10-11T08:04:07.042Z', 'modifiedTimeStamp': '2019-10-11T08:04:07.042Z', 'createdBy': 'viyademo01', 'modifiedBy': 'viyademo01', 'links': [{'method': 'GET', 'rel': 'up', 'href': '/modelRepository/models/8cbb5ef6-1c10-4405-80e3-2641e14eb8f4/variables/e179621a-e1f1-45b4-8ba6-53e8d23aa7d9', 'uri': '/modelRepository/models/8cbb5ef6-1c10-4405-80e3-2641e14eb8f4/variables', 'type': 'application/vnd.sas.collection', 'itemType': 'application/vnd.sas.models.variable'}, {'method': 'GET', 'rel': 'self', 'href': '/modelRepository/models/8cbb5ef6-1c10-4405-80e3-2641e14eb8f4/variables/e179621a-e1f1-45b4-8ba6-53e8d23aa7d9', 'uri': '/modelRepository/models/8cbb5ef6-1c10-4405-80e3-2641e14eb8f4/variables/e179621a-e1f1-45b4-8ba6-53e8d23aa7d9', 'type': 'application/vnd.sas.models.variable'}, {'method': 'PUT', 'rel': 'update', 'href': '/modelRepository/models/8cbb5ef6-1c10-4405-80e3-2641e14eb8f4/variables/e179621a-e1f1-45b4-8ba6-53e8d23aa7d9', 'uri': '/modelRepository/models/8cbb5ef6-1c10-4405-80e3-2641e14eb8f4/variables/e179621a-e1f1-45b4-8ba6-53e8d23aa7d9', 'type': 'application/vnd.sas.models.variable'}, {'method': 'DELETE', 'rel': 'delete', 'href': '/modelRepository/models/8cbb5ef6-1c10-4405-80e3-2641e14eb8f4/variables/e179621a-e1f1-45b4-8ba6-53e8d23aa7d9', 'uri': '/modelRepository/models/8cbb5ef6-1c10-4405-80e3-2641e14eb8f4/variables/e179621a-e1f1-45b4-8ba6-53e8d23aa7d9'}], 'version': 2, 'id': 'e179621a-e1f1-45b4-8ba6-53e8d23aa7d9', 'name': 'B', 'role': 'input', 'type': 'decimal'}, {'creationTimeStamp': '2019-10-11T08:04:07.042Z', 'modifiedTimeStamp': '2019-10-11T08:04:07.042Z', 'createdBy': 'viyademo01', 'modifiedBy': 'viyademo01', 'links': [{'method': 'GET', 'rel': 'up', 'href': '/modelRepository/models/8cbb5ef6-1c10-4405-80e3-2641e14eb8f4/variables/ba325d59-a989-47fa-ab4f-930612d99410', 'uri': '/modelRepository/models/8cbb5ef6-1c10-4405-80e3-2641e14eb8f4/variables', 'type': 'application/vnd.sas.collection', 'itemType': 'application/vnd.sas.models.variable'}, {'method': 'GET', 'rel': 'self', 'href': '/modelRepository/models/8cbb5ef6-1c10-4405-80e3-2641e14eb8f4/variables/ba325d59-a989-47fa-ab4f-930612d99410', 'uri': '/modelRepository/models/8cbb5ef6-1c10-4405-80e3-2641e14eb8f4/variables/ba325d59-a989-47fa-ab4f-930612d99410', 'type': 'application/vnd.sas.models.variable'}, {'method': 'PUT', 'rel': 'update', 'href': '/modelRepository/models/8cbb5ef6-1c10-4405-80e3-2641e14eb8f4/variables/ba325d59-a989-47fa-ab4f-930612d99410', 'uri': '/modelRepository/models/8cbb5ef6-1c10-4405-80e3-2641e14eb8f4/variables/ba325d59-a989-47fa-ab4f-930612d99410', 'type': 'application/vnd.sas.models.variable'}, {'method': 'DELETE', 'rel': 'delete', 'href': '/modelRepository/models/8cbb5ef6-1c10-4405-80e3-2641e14eb8f4/variables/ba325d59-a989-47fa-ab4f-930612d99410', 'uri': '/modelRepository/models/8cbb5ef6-1c10-4405-80e3-2641e14eb8f4/variables/ba325d59-a989-47fa-ab4f-930612d99410'}], 'version': 2, 'id': 'ba325d59-a989-47fa-ab4f-930612d99410', 'name': 'LSTAT', 'role': 'input', 'type': 'decimal'}], 'outputVariables': [{'creationTimeStamp': '2019-10-11T08:04:07.042Z', 'modifiedTimeStamp': '2019-10-11T08:04:07.042Z', 'createdBy': 'viyademo01', 'modifiedBy': 'viyademo01', 'links': [{'method': 'GET', 'rel': 'up', 'href': '/modelRepository/models/8cbb5ef6-1c10-4405-80e3-2641e14eb8f4/variables/88c2d33b-7a4b-4906-b3cd-14a26dcf8aa2', 'uri': '/modelRepository/models/8cbb5ef6-1c10-4405-80e3-2641e14eb8f4/variables', 'type': 'application/vnd.sas.collection', 'itemType': 'application/vnd.sas.models.variable'}, {'method': 'GET', 'rel': 'self', 'href': '/modelRepository/models/8cbb5ef6-1c10-4405-80e3-2641e14eb8f4/variables/88c2d33b-7a4b-4906-b3cd-14a26dcf8aa2', 'uri': '/modelRepository/models/8cbb5ef6-1c10-4405-80e3-2641e14eb8f4/variables/88c2d33b-7a4b-4906-b3cd-14a26dcf8aa2', 'type': 'application/vnd.sas.models.variable'}, {'method': 'PUT', 'rel': 'update', 'href': '/modelRepository/models/8cbb5ef6-1c10-4405-80e3-2641e14eb8f4/variables/88c2d33b-7a4b-4906-b3cd-14a26dcf8aa2', 'uri': '/modelRepository/models/8cbb5ef6-1c10-4405-80e3-2641e14eb8f4/variables/88c2d33b-7a4b-4906-b3cd-14a26dcf8aa2', 'type': 'application/vnd.sas.models.variable'}, {'method': 'DELETE', 'rel': 'delete', 'href': '/modelRepository/models/8cbb5ef6-1c10-4405-80e3-2641e14eb8f4/variables/88c2d33b-7a4b-4906-b3cd-14a26dcf8aa2', 'uri': '/modelRepository/models/8cbb5ef6-1c10-4405-80e3-2641e14eb8f4/variables/88c2d33b-7a4b-4906-b3cd-14a26dcf8aa2'}], 'version': 2, 'id': '88c2d33b-7a4b-4906-b3cd-14a26dcf8aa2', 'name': 'var1', 'role': 'output', 'type': 'decimal'}], 'modelVersions': [], 'modelVersionName': '1.0', 'retrainable': False, 'tags': [], 'globalTags': []})"
      ]
     },
     "execution_count": 10,
     "metadata": {},
     "output_type": "execute_result"
    }
   ],
   "source": [
    "register_model(lm,\n",
    "               model_name,\n",
    "               input=X_train,       # Use X to determine model inputs\n",
    "               project=project,     # Register in \"Iris\" project\n",
    "               force=True)          # Create project if it doesn't exist"
   ]
  },
  {
   "cell_type": "markdown",
   "metadata": {},
   "source": [
    "## Update SAS Model Manager project properties"
   ]
  },
  {
   "cell_type": "code",
   "execution_count": 11,
   "metadata": {},
   "outputs": [],
   "source": [
    "project = mr.get_project(project)\n",
    "\n",
    "project['function'] = 'prediction'\n",
    "project['targetLevel'] = 'interval'\n",
    "project['targetVariable'] = 'Price'\n",
    "project['predictionVariable'] = 'var1'\n",
    "\n",
    "project = mr.update_project(project)"
   ]
  },
  {
   "cell_type": "markdown",
   "metadata": {},
   "source": [
    "# Instruct the project to look for tables in the \"Public\" CAS library with names starting with \"boston_\" and use these tables to track model performance over time."
   ]
  },
  {
   "cell_type": "code",
   "execution_count": 12,
   "metadata": {},
   "outputs": [
    {
     "data": {
      "text/plain": [
       "<class 'sasctl.core.RestObj'>(headers={'Date': 'Fri, 11 Oct 2019 08:04:15 GMT', 'Server': 'Apache/2.4', 'Content-Security-Policy': \"default-src 'self'; script-src 'self' 'unsafe-inline' 'unsafe-eval'; img-src 'self' *.sas.com blob: data:; style-src 'self' 'unsafe-inline'; child-src 'self' blob: data: mailto:;\", 'Location': '/modelManagement/performanceTasks/152ba39c-cfcf-443f-ae89-1f4600585902', 'ETag': '\"k1luhfnj\"', 'Last-Modified': 'Fri, 11 Oct 2019 08:04:15 GMT', 'Cache-Control': 'no-cache, no-store, max-age=0, must-revalidate', 'Pragma': 'no-cache', 'Expires': '0', 'Strict-Transport-Security': 'max-age=31536000 ; includeSubDomains', 'X-Frame-Options': 'SAMEORIGIN', 'Content-Type': 'application/vnd.sas.models.performance.task+json;charset=UTF-8', 'X-Content-Type-Options': 'nosniff', 'X-XSS-Protection': '1; mode=block', 'Vary': 'User-Agent', 'Keep-Alive': 'timeout=5, max=85', 'Connection': 'Keep-Alive', 'Transfer-Encoding': 'chunked'}, data={'creationTimeStamp': '2019-10-11T08:04:15.870Z', 'modifiedTimeStamp': '2019-10-11T08:04:15.871Z', 'createdBy': 'viyademo01', 'modifiedBy': 'viyademo01', 'links': [{'method': 'GET', 'rel': 'self', 'href': '/modelManagement/performanceTasks/152ba39c-cfcf-443f-ae89-1f4600585902', 'uri': '/modelManagement/performanceTasks/152ba39c-cfcf-443f-ae89-1f4600585902'}], 'version': 2, 'id': '152ba39c-cfcf-443f-ae89-1f4600585902', 'projectId': '60ec636b-76e2-4fb8-bbad-8a010914e932', 'modelIds': ['8cbb5ef6-1c10-4405-80e3-2641e14eb8f4'], 'name': 'Boston Regression Performance', 'description': 'Performance definition for model Boston Regression', 'outputVariables': ['var1'], 'inputVariables': ['AGE', 'B', 'CHAS', 'CRIM', 'DIS', 'INDUS', 'LSTAT', 'NOX', 'PTRATIO', 'RAD', 'RM', 'TAX', 'ZN'], 'scoreExecutionRequired': False, 'performanceResultSaved': True, 'traceOn': False, 'maxBins': 10, 'resultLibrary': 'ModelPerformanceData', 'casServerId': 'cas-shared-default', 'dataLibrary': 'Public', 'dataPrefix': 'boston', 'includeAllData': False, 'loadPerformanceResult': False, 'championMonitored': False, 'challengerMonitored': False})"
      ]
     },
     "execution_count": 12,
     "metadata": {},
     "output_type": "execute_result"
    }
   ],
   "source": [
    "mm.create_performance_definition(model_name, 'Public', 'boston')"
   ]
  },
  {
   "cell_type": "markdown",
   "metadata": {},
   "source": [
    "## Publish the model to the real-time scoring engine"
   ]
  },
  {
   "cell_type": "code",
   "execution_count": 13,
   "metadata": {},
   "outputs": [
    {
     "ename": "RuntimeError",
     "evalue": "Failed to publish model 'Boston Regression': ERROR===Cannot create the module. The specified module with name \"BostonRegression\" is already in use.",
     "output_type": "error",
     "traceback": [
      "\u001b[0;31m---------------------------------------------------------------------------\u001b[0m",
      "\u001b[0;31mRuntimeError\u001b[0m                              Traceback (most recent call last)",
      "\u001b[0;32m<ipython-input-13-53ab1dda9c6e>\u001b[0m in \u001b[0;36m<module>\u001b[0;34m()\u001b[0m\n\u001b[0;32m----> 1\u001b[0;31m \u001b[0mmodule_lm\u001b[0m \u001b[0;34m=\u001b[0m \u001b[0mpublish_model\u001b[0m\u001b[0;34m(\u001b[0m\u001b[0mmodel_name\u001b[0m\u001b[0;34m,\u001b[0m \u001b[0;34m'maslocal'\u001b[0m\u001b[0;34m)\u001b[0m\u001b[0;34m\u001b[0m\u001b[0m\n\u001b[0m",
      "\u001b[0;32m/opt/anaconda3/lib/python3.6/site-packages/sasctl/tasks.py\u001b[0m in \u001b[0;36mpublish_model\u001b[0;34m(model, destination, code, max_retries, replace, **kwargs)\u001b[0m\n\u001b[1;32m    360\u001b[0m         \u001b[0mlog\u001b[0m \u001b[0;34m=\u001b[0m \u001b[0mrequest_link\u001b[0m\u001b[0;34m(\u001b[0m\u001b[0mjob\u001b[0m\u001b[0;34m,\u001b[0m \u001b[0;34m'publishingLog'\u001b[0m\u001b[0;34m)\u001b[0m\u001b[0;34m\u001b[0m\u001b[0m\n\u001b[1;32m    361\u001b[0m         raise RuntimeError(\"Failed to publish model '%s': %s\"\n\u001b[0;32m--> 362\u001b[0;31m                            % (model, log.log))\n\u001b[0m\u001b[1;32m    363\u001b[0m \u001b[0;34m\u001b[0m\u001b[0m\n\u001b[1;32m    364\u001b[0m     \u001b[0;31m# Raise exception if unknown status received\u001b[0m\u001b[0;34m\u001b[0m\u001b[0;34m\u001b[0m\u001b[0m\n",
      "\u001b[0;31mRuntimeError\u001b[0m: Failed to publish model 'Boston Regression': ERROR===Cannot create the module. The specified module with name \"BostonRegression\" is already in use."
     ]
    }
   ],
   "source": [
    "module_lm = publish_model(model_name, 'maslocal')"
   ]
  },
  {
   "cell_type": "markdown",
   "metadata": {},
   "source": [
    "## Select the first row of training data"
   ]
  },
  {
   "cell_type": "code",
   "execution_count": 91,
   "metadata": {},
   "outputs": [],
   "source": [
    "x = X.iloc[0, :]"
   ]
  },
  {
   "cell_type": "markdown",
   "metadata": {},
   "source": [
    "## Call the published module and score the record"
   ]
  },
  {
   "cell_type": "code",
   "execution_count": 97,
   "metadata": {},
   "outputs": [
    {
     "name": "stdout",
     "output_type": "stream",
     "text": [
      "None\n"
     ]
    }
   ],
   "source": [
    "result = module_lm.score(**x)\n",
    "print(result)"
   ]
  },
  {
   "cell_type": "markdown",
   "metadata": {},
   "source": [
    "## Build a second model"
   ]
  },
  {
   "cell_type": "code",
   "execution_count": 38,
   "metadata": {},
   "outputs": [],
   "source": [
    "dt = DecisionTreeRegressor()\n",
    "dt.fit(X_train, y_train)"
   ]
  },
  {
   "cell_type": "markdown",
   "metadata": {},
   "source": [
    "# Register the second model in Model Manager"
   ]
  },
  {
   "cell_type": "code",
   "execution_count": 38,
   "metadata": {},
   "outputs": [],
   "source": [
    "model_dt = register_model(dt, 'Decision Tree', project, input=X)"
   ]
  },
  {
   "cell_type": "code",
   "execution_count": 104,
   "metadata": {},
   "outputs": [
    {
     "ename": "NameError",
     "evalue": "name 'sasctl' is not defined",
     "output_type": "error",
     "traceback": [
      "\u001b[0;31m---------------------------------------------------------------------------\u001b[0m",
      "\u001b[0;31mNameError\u001b[0m                                 Traceback (most recent call last)",
      "\u001b[0;32m<ipython-input-104-b0b9c12add74>\u001b[0m in \u001b[0;36m<module>\u001b[0;34m()\u001b[0m\n\u001b[0;32m----> 1\u001b[0;31m \u001b[0msasctl\u001b[0m\u001b[0;34m.\u001b[0m\u001b[0mhelp\u001b[0m\u001b[0;34m(\u001b[0m\u001b[0;34m)\u001b[0m\u001b[0;34m\u001b[0m\u001b[0m\n\u001b[0m",
      "\u001b[0;31mNameError\u001b[0m: name 'sasctl' is not defined"
     ]
    }
   ],
   "source": []
  },
  {
   "cell_type": "markdown",
   "metadata": {},
   "source": [
    "# Publish from Model Manager -> MAS"
   ]
  },
  {
   "cell_type": "code",
   "execution_count": 38,
   "metadata": {},
   "outputs": [],
   "source": [
    "module_dt = publish_model(model_dt, 'maslocal')"
   ]
  },
  {
   "cell_type": "markdown",
   "metadata": {},
   "source": [
    "# Use MAS to score some new data"
   ]
  },
  {
   "cell_type": "code",
   "execution_count": 38,
   "metadata": {},
   "outputs": [
    {
     "ename": "RuntimeError",
     "evalue": "Failed to publish model 'Boston Regression': ERROR===Cannot create the module. The specified module with name \"BostonRegression\" is already in use.",
     "output_type": "error",
     "traceback": [
      "\u001b[0;31m---------------------------------------------------------------------------\u001b[0m",
      "\u001b[0;31mRuntimeError\u001b[0m                              Traceback (most recent call last)",
      "\u001b[0;32m<ipython-input-38-8598b1fd159e>\u001b[0m in \u001b[0;36m<module>\u001b[0;34m()\u001b[0m\n\u001b[1;32m      1\u001b[0m \u001b[0;31m# Publish the model to the real-time scoring engine\u001b[0m\u001b[0;34m\u001b[0m\u001b[0;34m\u001b[0m\u001b[0m\n\u001b[0;32m----> 2\u001b[0;31m \u001b[0mmodule_lm\u001b[0m \u001b[0;34m=\u001b[0m \u001b[0mpublish_model\u001b[0m\u001b[0;34m(\u001b[0m\u001b[0mmodel_name\u001b[0m\u001b[0;34m,\u001b[0m \u001b[0;34m'maslocal'\u001b[0m\u001b[0;34m)\u001b[0m\u001b[0;34m\u001b[0m\u001b[0m\n\u001b[0m\u001b[1;32m      3\u001b[0m \u001b[0;34m\u001b[0m\u001b[0m\n\u001b[1;32m      4\u001b[0m \u001b[0;31m# Select the first row of training data\u001b[0m\u001b[0;34m\u001b[0m\u001b[0;34m\u001b[0m\u001b[0m\n\u001b[1;32m      5\u001b[0m \u001b[0mx\u001b[0m \u001b[0;34m=\u001b[0m \u001b[0mX\u001b[0m\u001b[0;34m.\u001b[0m\u001b[0miloc\u001b[0m\u001b[0;34m[\u001b[0m\u001b[0;36m0\u001b[0m\u001b[0;34m,\u001b[0m \u001b[0;34m:\u001b[0m\u001b[0;34m]\u001b[0m\u001b[0;34m\u001b[0m\u001b[0m\n",
      "\u001b[0;32m/opt/anaconda3/lib/python3.6/site-packages/sasctl/tasks.py\u001b[0m in \u001b[0;36mpublish_model\u001b[0;34m(model, destination, code, max_retries, replace, **kwargs)\u001b[0m\n\u001b[1;32m    360\u001b[0m         \u001b[0mlog\u001b[0m \u001b[0;34m=\u001b[0m \u001b[0mrequest_link\u001b[0m\u001b[0;34m(\u001b[0m\u001b[0mjob\u001b[0m\u001b[0;34m,\u001b[0m \u001b[0;34m'publishingLog'\u001b[0m\u001b[0;34m)\u001b[0m\u001b[0;34m\u001b[0m\u001b[0m\n\u001b[1;32m    361\u001b[0m         raise RuntimeError(\"Failed to publish model '%s': %s\"\n\u001b[0;32m--> 362\u001b[0;31m                            % (model, log.log))\n\u001b[0m\u001b[1;32m    363\u001b[0m \u001b[0;34m\u001b[0m\u001b[0m\n\u001b[1;32m    364\u001b[0m     \u001b[0;31m# Raise exception if unknown status received\u001b[0m\u001b[0;34m\u001b[0m\u001b[0;34m\u001b[0m\u001b[0m\n",
      "\u001b[0;31mRuntimeError\u001b[0m: Failed to publish model 'Boston Regression': ERROR===Cannot create the module. The specified module with name \"BostonRegression\" is already in use."
     ]
    }
   ],
   "source": [
    "result = module_dt.score(**x)\n",
    "print(result)"
   ]
  },
  {
   "cell_type": "markdown",
   "metadata": {},
   "source": [
    "# Train a gradient boosting with SAS"
   ]
  },
  {
   "cell_type": "code",
   "execution_count": 89,
   "metadata": {},
   "outputs": [
    {
     "ename": "AttributeError",
     "evalue": "startswith",
     "output_type": "error",
     "traceback": [
      "\u001b[0;31m---------------------------------------------------------------------------\u001b[0m",
      "\u001b[0;31mKeyError\u001b[0m                                  Traceback (most recent call last)",
      "\u001b[0;32m/opt/anaconda3/lib/python3.6/site-packages/sklearn/utils/__init__.py\u001b[0m in \u001b[0;36m__getattr__\u001b[0;34m(self, key)\u001b[0m\n\u001b[1;32m     60\u001b[0m         \u001b[0;32mtry\u001b[0m\u001b[0;34m:\u001b[0m\u001b[0;34m\u001b[0m\u001b[0m\n\u001b[0;32m---> 61\u001b[0;31m             \u001b[0;32mreturn\u001b[0m \u001b[0mself\u001b[0m\u001b[0;34m[\u001b[0m\u001b[0mkey\u001b[0m\u001b[0;34m]\u001b[0m\u001b[0;34m\u001b[0m\u001b[0m\n\u001b[0m\u001b[1;32m     62\u001b[0m         \u001b[0;32mexcept\u001b[0m \u001b[0mKeyError\u001b[0m\u001b[0;34m:\u001b[0m\u001b[0;34m\u001b[0m\u001b[0m\n",
      "\u001b[0;31mKeyError\u001b[0m: 'startswith'",
      "\nDuring handling of the above exception, another exception occurred:\n",
      "\u001b[0;31mAttributeError\u001b[0m                            Traceback (most recent call last)",
      "\u001b[0;32m<ipython-input-89-ec374a1b9503>\u001b[0m in \u001b[0;36m<module>\u001b[0;34m()\u001b[0m\n\u001b[1;32m      1\u001b[0m \u001b[0mtraindata\u001b[0m\u001b[0;34m=\u001b[0m\u001b[0mdata\u001b[0m\u001b[0;34m;\u001b[0m\u001b[0;34m\u001b[0m\u001b[0m\n\u001b[0;32m----> 2\u001b[0;31m \u001b[0ms\u001b[0m\u001b[0;34m.\u001b[0m\u001b[0mupload_frame\u001b[0m\u001b[0;34m(\u001b[0m\u001b[0mtraindata\u001b[0m\u001b[0;34m,\u001b[0m\u001b[0mcasout\u001b[0m\u001b[0;34m=\u001b[0m\u001b[0;34m'boston_train'\u001b[0m\u001b[0;34m)\u001b[0m\u001b[0;34m\u001b[0m\u001b[0m\n\u001b[0m",
      "\u001b[0;32m/opt/anaconda3/lib/python3.6/site-packages/swat/cas/connection.py\u001b[0m in \u001b[0;36mupload_frame\u001b[0;34m(self, data, importoptions, casout, **kwargs)\u001b[0m\n\u001b[1;32m   1494\u001b[0m \u001b[0;34m\u001b[0m\u001b[0m\n\u001b[1;32m   1495\u001b[0m         out = self.upload(data, importoptions=importoptions,\n\u001b[0;32m-> 1496\u001b[0;31m                           casout=casout, **kwargs)\n\u001b[0m\u001b[1;32m   1497\u001b[0m \u001b[0;34m\u001b[0m\u001b[0m\n\u001b[1;32m   1498\u001b[0m         \u001b[0;32mif\u001b[0m \u001b[0mout\u001b[0m\u001b[0;34m.\u001b[0m\u001b[0mseverity\u001b[0m \u001b[0;34m>\u001b[0m \u001b[0;36m1\u001b[0m\u001b[0;34m:\u001b[0m\u001b[0;34m\u001b[0m\u001b[0m\n",
      "\u001b[0;32m/opt/anaconda3/lib/python3.6/site-packages/swat/cas/connection.py\u001b[0m in \u001b[0;36mupload\u001b[0;34m(self, data, importoptions, casout, **kwargs)\u001b[0m\n\u001b[1;32m   1356\u001b[0m                 \u001b[0mdf_dtypes\u001b[0m \u001b[0;34m=\u001b[0m \u001b[0mself\u001b[0m\u001b[0;34m.\u001b[0m\u001b[0m_extract_dtypes\u001b[0m\u001b[0;34m(\u001b[0m\u001b[0mdata\u001b[0m\u001b[0;34m)\u001b[0m\u001b[0;34m\u001b[0m\u001b[0m\n\u001b[1;32m   1357\u001b[0m \u001b[0;34m\u001b[0m\u001b[0m\n\u001b[0;32m-> 1358\u001b[0;31m         \u001b[0;32melif\u001b[0m \u001b[0mdata\u001b[0m\u001b[0;34m.\u001b[0m\u001b[0mstartswith\u001b[0m\u001b[0;34m(\u001b[0m\u001b[0;34m'http://'\u001b[0m\u001b[0;34m)\u001b[0m \u001b[0;32mor\u001b[0m\u001b[0;31m \u001b[0m\u001b[0;31m\\\u001b[0m\u001b[0;34m\u001b[0m\u001b[0m\n\u001b[0m\u001b[1;32m   1359\u001b[0m                 \u001b[0mdata\u001b[0m\u001b[0;34m.\u001b[0m\u001b[0mstartswith\u001b[0m\u001b[0;34m(\u001b[0m\u001b[0;34m'https://'\u001b[0m\u001b[0;34m)\u001b[0m \u001b[0;32mor\u001b[0m\u001b[0;31m \u001b[0m\u001b[0;31m\\\u001b[0m\u001b[0;34m\u001b[0m\u001b[0m\n\u001b[1;32m   1360\u001b[0m                 \u001b[0mdata\u001b[0m\u001b[0;34m.\u001b[0m\u001b[0mstartswith\u001b[0m\u001b[0;34m(\u001b[0m\u001b[0;34m'ftp://'\u001b[0m\u001b[0;34m)\u001b[0m\u001b[0;34m:\u001b[0m\u001b[0;34m\u001b[0m\u001b[0m\n",
      "\u001b[0;32m/opt/anaconda3/lib/python3.6/site-packages/sklearn/utils/__init__.py\u001b[0m in \u001b[0;36m__getattr__\u001b[0;34m(self, key)\u001b[0m\n\u001b[1;32m     61\u001b[0m             \u001b[0;32mreturn\u001b[0m \u001b[0mself\u001b[0m\u001b[0;34m[\u001b[0m\u001b[0mkey\u001b[0m\u001b[0;34m]\u001b[0m\u001b[0;34m\u001b[0m\u001b[0m\n\u001b[1;32m     62\u001b[0m         \u001b[0;32mexcept\u001b[0m \u001b[0mKeyError\u001b[0m\u001b[0;34m:\u001b[0m\u001b[0;34m\u001b[0m\u001b[0m\n\u001b[0;32m---> 63\u001b[0;31m             \u001b[0;32mraise\u001b[0m \u001b[0mAttributeError\u001b[0m\u001b[0;34m(\u001b[0m\u001b[0mkey\u001b[0m\u001b[0;34m)\u001b[0m\u001b[0;34m\u001b[0m\u001b[0m\n\u001b[0m\u001b[1;32m     64\u001b[0m \u001b[0;34m\u001b[0m\u001b[0m\n\u001b[1;32m     65\u001b[0m     \u001b[0;32mdef\u001b[0m \u001b[0m__setstate__\u001b[0m\u001b[0;34m(\u001b[0m\u001b[0mself\u001b[0m\u001b[0;34m,\u001b[0m \u001b[0mstate\u001b[0m\u001b[0;34m)\u001b[0m\u001b[0;34m:\u001b[0m\u001b[0;34m\u001b[0m\u001b[0m\n",
      "\u001b[0;31mAttributeError\u001b[0m: startswith"
     ]
    }
   ],
   "source": [
    "traindata=data;\n",
    "s.upload_frame(traindata,casout='boston_train')"
   ]
  },
  {
   "cell_type": "code",
   "execution_count": 58,
   "metadata": {},
   "outputs": [],
   "source": [
    "tbl = s.CASTable('boston_train')"
   ]
  },
  {
   "cell_type": "code",
   "execution_count": 66,
   "metadata": {},
   "outputs": [],
   "source": [
    "list(tbl.columns)"
   ]
  },
  {
   "cell_type": "code",
   "execution_count": 72,
   "metadata": {},
   "outputs": [
    {
     "data": {
      "text/plain": [
       "Index(['Price'], dtype='object')"
      ]
     },
     "execution_count": 72,
     "metadata": {},
     "output_type": "execute_result"
    }
   ],
   "source": [
    "y.columns"
   ]
  },
  {
   "cell_type": "code",
   "execution_count": 73,
   "metadata": {},
   "outputs": [
    {
     "name": "stdout",
     "output_type": "stream",
     "text": [
      "NOTE: Added action set 'decisionTree'.\n",
      "ERROR: Cannot convert parameter 'target' from value_list to string.\n",
      "ERROR: The action stopped due to errors.\n"
     ]
    },
    {
     "data": {
      "text/html": [
       "<div class=\"cas-output-area\"></div>\n",
       "<p class=\"cas-results-performance\"><small><span class=\"cas-elapsed\">elapsed 9.7e-05s</span> &#183; <span class=\"cas-user\">user 0.415s</span> &#183; <span class=\"cas-sys\">sys 0.508s</span></small></p>"
      ],
      "text/plain": [
       "+ Elapsed: 9.7e-05s, user: 0.415s, sys: 0.508s"
      ]
     },
     "execution_count": 73,
     "metadata": {},
     "output_type": "execute_result"
    }
   ],
   "source": [
    "s.loadactionset('decisionTree')\n",
    "tbl.decisiontree.gbtreetrain(target='Price'list(y.columns)'',\n",
    "                             inputs=list(tbl.columns),\n",
    "                             savestate='gradboost_astore')"
   ]
  },
  {
   "cell_type": "code",
   "execution_count": 14,
   "metadata": {},
   "outputs": [],
   "source": [
    "s.close()"
   ]
  },
  {
   "cell_type": "code",
   "execution_count": null,
   "metadata": {},
   "outputs": [],
   "source": []
  }
 ],
 "metadata": {
  "kernelspec": {
   "display_name": "Python 3",
   "language": "python",
   "name": "python3"
  },
  "language_info": {
   "codemirror_mode": {
    "name": "ipython",
    "version": 3
   },
   "file_extension": ".py",
   "mimetype": "text/x-python",
   "name": "python",
   "nbconvert_exporter": "python",
   "pygments_lexer": "ipython3",
   "version": "3.6.5"
  }
 },
 "nbformat": 4,
 "nbformat_minor": 2
}
