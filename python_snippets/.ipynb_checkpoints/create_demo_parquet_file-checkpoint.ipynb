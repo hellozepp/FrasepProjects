{
 "cells": [
  {
   "cell_type": "code",
   "execution_count": 7,
   "id": "7b3e1b08",
   "metadata": {},
   "outputs": [],
   "source": [
    "import numpy as np\n",
    "import pandas as pd\n",
    "import pyarrow as pa\n",
    "import os\n",
    "import swat"
   ]
  },
  {
   "cell_type": "code",
   "execution_count": 8,
   "id": "510ebf0b-2140-435b-abb3-dafe1acca176",
   "metadata": {},
   "outputs": [
    {
     "name": "stdout",
     "output_type": "stream",
     "text": [
      "NOTE: 'CASUSER(viyademo01)' is now the active caslib.\n",
      "NOTE: Action 'sessionProp.setSessOpt' used (Total process time):\n",
      "NOTE:       real time               0.000306 seconds\n",
      "NOTE:       cpu time                0.000290 seconds (94.77%)\n",
      "NOTE:       total nodes             1 (16 cores)\n",
      "NOTE:       total memory            125.75G\n",
      "NOTE:       memory                  262.06K (0.00%)\n"
     ]
    },
    {
     "data": {
      "text/html": [
       "<div class=\"cas-output-area\"></div>\n",
       "<p class=\"cas-results-performance\"><small><span class=\"cas-elapsed\">elapsed 0.000306s</span> &#183; <span class=\"cas-user\">user 0.000182s</span> &#183; <span class=\"cas-sys\">sys 0.000108s</span> &#183; <span class=\"cas-memory\">mem 0.256MB</span></small></p>"
      ],
      "text/plain": [
       "+ Elapsed: 0.000306s, user: 0.000182s, sys: 0.000108s, mem: 0.256mb"
      ]
     },
     "execution_count": 8,
     "metadata": {},
     "output_type": "execute_result"
    }
   ],
   "source": [
    "os.environ['CAS_CLIENT_SSL_CA_LIST'] = '/opt/sas/viya/config/etc/SASSecurityCertificateFramework/cacerts/trustedcerts.pem'\n",
    "#os.environ['CAS_CLIENT_SSL_CA_LIST'] = '/mnt/c/Users/frasep/OneDrive - SAS/Mes Documents/Dossiers/Demoing/My_Azure_Environments/terraform_monoserver/cacerts/'\n",
    "\n",
    "cashost='frasepviya35smp.cloud.com'\n",
    "casport=5570\n",
    "s = swat.CAS(cashost, casport)\n",
    "s.sessionProp.setSessOpt(timeout=1800, caslib='casuser', messageLevel=\"ALL\", metrics='true')"
   ]
  },
  {
   "cell_type": "code",
   "execution_count": 4,
   "id": "639c4143-4299-414f-bbba-503624ebec6e",
   "metadata": {},
   "outputs": [],
   "source": [
    "df = pd.DataFrame({'one': [-1, np.nan, 2.5],\n",
    "                   'two': ['foo', 'bar', 'baz'],\n",
    "                   'three': [True, False, True]},\n",
    "                    index=list('abc'))\n",
    "\n",
    "\n",
    "table = pa.Table.from_pandas(df)"
   ]
  },
  {
   "cell_type": "code",
   "execution_count": 2,
   "id": "8578eb10",
   "metadata": {},
   "outputs": [],
   "source": [
    "import pyarrow.parquet as pq"
   ]
  },
  {
   "cell_type": "code",
   "execution_count": 6,
   "id": "32db2996",
   "metadata": {},
   "outputs": [],
   "source": [
    "pq.write_table(table, 'c://my_local_data/example.parquet')"
   ]
  },
  {
   "cell_type": "code",
   "execution_count": 9,
   "id": "8a359bd1-62af-494b-a546-95bcfc57f5c9",
   "metadata": {},
   "outputs": [
    {
     "name": "stdout",
     "output_type": "stream",
     "text": [
      "NOTE: Executing action 'table.addCaslib'.\n",
      "NOTE: 'AzureDL' is now the active caslib.\n",
      "NOTE: Cloud Analytic Services added the caslib 'AzureDL'.\n",
      "NOTE: Action 'table.addCaslib' used (Total process time):\n",
      "NOTE:       real time               0.001008 seconds\n",
      "NOTE:       cpu time                0.000972 seconds (96.43%)\n",
      "NOTE:       total nodes             1 (16 cores)\n",
      "NOTE:       total memory            125.75G\n",
      "NOTE:       memory                  765.13K (0.00%)\n"
     ]
    },
    {
     "data": {
      "text/html": [
       "<div class=\"cas-results-key\"><b>&#167; CASLibInfo</b></div>\n",
       "<div class=\"cas-results-body\">\n",
       "<div>\n",
       "<style scoped>\n",
       "    .dataframe tbody tr th:only-of-type {\n",
       "        vertical-align: middle;\n",
       "    }\n",
       "\n",
       "    .dataframe tbody tr th {\n",
       "        vertical-align: top;\n",
       "    }\n",
       "\n",
       "    .dataframe thead th {\n",
       "        text-align: right;\n",
       "    }\n",
       "</style>\n",
       "<table border=\"1\" class=\"dataframe\">\n",
       "  <thead>\n",
       "    <tr style=\"text-align: right;\">\n",
       "      <th title=\"\"></th>\n",
       "      <th title=\"Name\">Name</th>\n",
       "      <th title=\"Type\">Type</th>\n",
       "      <th title=\"Description\">Description</th>\n",
       "      <th title=\"Path\">Path</th>\n",
       "      <th title=\"Definition\">Definition</th>\n",
       "      <th title=\"Subdirs\">Subdirs</th>\n",
       "      <th title=\"Local\">Local</th>\n",
       "      <th title=\"Active\">Active</th>\n",
       "      <th title=\"Personal\">Personal</th>\n",
       "      <th title=\"Hidden\">Hidden</th>\n",
       "      <th title=\"Transient\">Transient</th>\n",
       "    </tr>\n",
       "  </thead>\n",
       "  <tbody>\n",
       "    <tr>\n",
       "      <td>0</td>\n",
       "      <td>AzureDL</td>\n",
       "      <td>adls</td>\n",
       "      <td></td>\n",
       "      <td>/</td>\n",
       "      <td>timeout = 50000</td>\n",
       "      <td>1.0</td>\n",
       "      <td>1.0</td>\n",
       "      <td>1.0</td>\n",
       "      <td>0.0</td>\n",
       "      <td>0.0</td>\n",
       "      <td>0.0</td>\n",
       "    </tr>\n",
       "    <tr>\n",
       "      <td>1</td>\n",
       "      <td>AzureDL</td>\n",
       "      <td></td>\n",
       "      <td></td>\n",
       "      <td></td>\n",
       "      <td>accountName = 'frasepstorage'</td>\n",
       "      <td>NaN</td>\n",
       "      <td>NaN</td>\n",
       "      <td>NaN</td>\n",
       "      <td>NaN</td>\n",
       "      <td>NaN</td>\n",
       "      <td>NaN</td>\n",
       "    </tr>\n",
       "    <tr>\n",
       "      <td>2</td>\n",
       "      <td>AzureDL</td>\n",
       "      <td></td>\n",
       "      <td></td>\n",
       "      <td></td>\n",
       "      <td>fileSystem = 'datalake'</td>\n",
       "      <td>NaN</td>\n",
       "      <td>NaN</td>\n",
       "      <td>NaN</td>\n",
       "      <td>NaN</td>\n",
       "      <td>NaN</td>\n",
       "      <td>NaN</td>\n",
       "    </tr>\n",
       "    <tr>\n",
       "      <td>3</td>\n",
       "      <td>AzureDL</td>\n",
       "      <td></td>\n",
       "      <td></td>\n",
       "      <td></td>\n",
       "      <td>tenantId = 'b1c14d5c-3625-45b3-a430-9552373a0c2f'</td>\n",
       "      <td>NaN</td>\n",
       "      <td>NaN</td>\n",
       "      <td>NaN</td>\n",
       "      <td>NaN</td>\n",
       "      <td>NaN</td>\n",
       "      <td>NaN</td>\n",
       "    </tr>\n",
       "    <tr>\n",
       "      <td>4</td>\n",
       "      <td>AzureDL</td>\n",
       "      <td></td>\n",
       "      <td></td>\n",
       "      <td></td>\n",
       "      <td>applicationId = 'e7af42e8-3ca8-47bb-97ce-ac764...</td>\n",
       "      <td>NaN</td>\n",
       "      <td>NaN</td>\n",
       "      <td>NaN</td>\n",
       "      <td>NaN</td>\n",
       "      <td>NaN</td>\n",
       "      <td>NaN</td>\n",
       "    </tr>\n",
       "  </tbody>\n",
       "</table>\n",
       "</div>\n",
       "</div>\n",
       "<div class=\"cas-output-area\"></div>\n",
       "<p class=\"cas-results-performance\"><small><span class=\"cas-elapsed\">elapsed 0.00101s</span> &#183; <span class=\"cas-user\">user 0.000972s</span> &#183; <span class=\"cas-memory\">mem 0.747MB</span></small></p>"
      ],
      "text/plain": [
       "[CASLibInfo]\n",
       "\n",
       "       Name  Type Description Path                                         Definition  Subdirs  Local  Active  Personal  Hidden  Transient\n",
       " 0  AzureDL  adls                /                                    timeout = 50000      1.0    1.0     1.0       0.0     0.0        0.0\n",
       " 1  AzureDL                                             accountName = 'frasepstorage'      NaN    NaN     NaN       NaN     NaN        NaN\n",
       " 2  AzureDL                                                   fileSystem = 'datalake'      NaN    NaN     NaN       NaN     NaN        NaN\n",
       " 3  AzureDL                         tenantId = 'b1c14d5c-3625-45b3-a430-9552373a0c2f'      NaN    NaN     NaN       NaN     NaN        NaN\n",
       " 4  AzureDL                         applicationId = 'e7af42e8-3ca8-47bb-97ce-ac764...      NaN    NaN     NaN       NaN     NaN        NaN\n",
       "\n",
       "+ Elapsed: 0.00101s, user: 0.000972s, mem: 0.747mb"
      ]
     },
     "execution_count": 9,
     "metadata": {},
     "output_type": "execute_result"
    }
   ],
   "source": [
    "s.table.addcaslib(name=\"AzureDL\", dataSource={\"srctype\":\"adls\", \"accountname\":'frasepstorage',\"filesystem\":\"datalake\", \"tenantid\":\"b1c14d5c-3625-45b3-a430-9552373a0c2f\",\"applicationId\":\"e7af42e8-3ca8-47bb-97ce-ac764019be3a\",\"timeout\":\"50000\"}, path=\"/\", subDirectories=\"True\", session=\"True\")"
   ]
  },
  {
   "cell_type": "code",
   "execution_count": 10,
   "id": "cf4c4db7-35e5-4abd-af4b-7d7c0677fab3",
   "metadata": {},
   "outputs": [],
   "source": [
    "s.table.loadtable(caslib=\"AzureDL\", path=\"megacorp5_4m.orc\", casout=\"megacorp5_4m\");"
   ]
  },
  {
   "cell_type": "code",
   "execution_count": 10,
   "id": "812d2d9c-a831-4e9e-965d-697d09a4f660",
   "metadata": {},
   "outputs": [
    {
     "name": "stdout",
     "output_type": "stream",
     "text": [
      "NOTE: Executing action 'table.loadTable'.\n",
      "NOTE: Cloud Analytic Services made the external data from megacorp5_4m.orc available as table MEGACORP5_4M in caslib AzureDL.\n",
      "NOTE: Action 'table.loadTable' used (Total process time):\n",
      "NOTE:       real time               20.469345 seconds\n",
      "NOTE:       cpu time                17.041895 seconds (83.26%)\n",
      "NOTE:       total nodes             1 (16 cores)\n",
      "NOTE:       total memory            125.75G\n",
      "NOTE:       memory                  31.23M (0.02%)\n"
     ]
    }
   ],
   "source": []
  },
  {
   "cell_type": "code",
   "execution_count": 11,
   "id": "9d80f5de-7f41-4fe3-ac79-43db911e7e92",
   "metadata": {},
   "outputs": [],
   "source": [
    "# data file\n",
    "indata = 'megacorp5_4m'\n",
    "\n",
    "# CASTable view\n",
    "castbl = s.CASTable(indata,caslib='Azuredl')"
   ]
  },
  {
   "cell_type": "code",
   "execution_count": 14,
   "id": "f4787156-99ec-4fca-a797-42ca7d3b2ab2",
   "metadata": {},
   "outputs": [],
   "source": [
    "my_tab = castbl.to_frame(table=dict(name=indata, caslib='Azuredl'))"
   ]
  },
  {
   "cell_type": "code",
   "execution_count": 18,
   "id": "dd60ddf1-c146-47df-93d4-d2482429fc8a",
   "metadata": {},
   "outputs": [],
   "source": [
    "pq.write_table(my_tab, '/mnt/demo/dnfs/megacorp5_4m.parquet',use_dictionary='false')"
   ]
  },
  {
   "cell_type": "code",
   "execution_count": 21,
   "id": "9876896c-518e-4418-b0cf-4bdd4283f17e",
   "metadata": {},
   "outputs": [
    {
     "name": "stdout",
     "output_type": "stream",
     "text": [
      "113M\t/mnt/demo/dnfs/megacorp5_4m.parquet\n",
      "\n"
     ]
    }
   ],
   "source": [
    "stream = os.popen(\"du -sh /mnt/demo/dnfs/megacorp5_4m.parquet\")\n",
    "output = stream.read()\n",
    "print(output)"
   ]
  },
  {
   "cell_type": "code",
   "execution_count": 25,
   "id": "581d91fa-787c-409e-ac4d-33d5b34cfb81",
   "metadata": {},
   "outputs": [],
   "source": [
    "my_tab.to_parquet('/mnt/demo/dnfs/megacorp5_4m.parquet')\n",
    "# https://pandas.pydata.org/docs/reference/api/pandas.DataFrame.to_parquet.html"
   ]
  },
  {
   "cell_type": "code",
   "execution_count": 22,
   "id": "8d88a6a3",
   "metadata": {},
   "outputs": [
    {
     "data": {
      "text/plain": [
       "Index(['Date', 'DateByYear', 'DateByMonth', 'DayOfWeek', 'FacilityID',\n",
       "       'Facility', 'FacilityType', 'FacilityAge', 'EmployeesUsed',\n",
       "       'FacilityRegion', 'FacilityState', 'FacilityCity', 'UnitID', 'Unit',\n",
       "       'UnitDowntime', 'UnitAge', 'UnitLifespan', 'UnitLifespanLimit',\n",
       "       'UnitReliability', 'UnitStatus', 'UnitCapacity', 'UnitYieldTarget',\n",
       "       'UnitYieldActual', 'UnitYieldRate', 'ProductBrand', 'ProductLine',\n",
       "       'ProductID', 'Product', 'ProductDescription', 'ProductPriceTarget',\n",
       "       'ProductPriceActual', 'ProductMaterialCost', 'ProductQuality', 'Profit',\n",
       "       'Revenue', 'Expenses', 'ExpensesCapital', 'ExpensesOperational',\n",
       "       'ExpensesMaterial', 'ExpensesStaffing', 'RegionLongitude',\n",
       "       'RegionLatitude', 'StateLongitude', 'StateLatitude', 'CityLongitude',\n",
       "       'CityLatitude'],\n",
       "      dtype='object')"
      ]
     },
     "execution_count": 22,
     "metadata": {},
     "output_type": "execute_result"
    }
   ],
   "source": [
    "my_tab.columns"
   ]
  },
  {
   "cell_type": "code",
   "execution_count": 23,
   "id": "0a5f8276",
   "metadata": {},
   "outputs": [
    {
     "data": {
      "text/plain": [
       "swat.dataframe.SASDataFrame"
      ]
     },
     "execution_count": 23,
     "metadata": {},
     "output_type": "execute_result"
    }
   ],
   "source": [
    "type(my_tab)"
   ]
  },
  {
   "cell_type": "code",
   "execution_count": 26,
   "id": "d5a05ec5",
   "metadata": {},
   "outputs": [],
   "source": [
    "s.close()"
   ]
  },
  {
   "cell_type": "code",
   "execution_count": null,
   "id": "a6913043",
   "metadata": {},
   "outputs": [],
   "source": []
  }
 ],
 "metadata": {
  "kernelspec": {
   "display_name": "Python 3",
   "language": "python",
   "name": "python3"
  },
  "language_info": {
   "codemirror_mode": {
    "name": "ipython",
    "version": 3
   },
   "file_extension": ".py",
   "mimetype": "text/x-python",
   "name": "python",
   "nbconvert_exporter": "python",
   "pygments_lexer": "ipython3",
   "version": "3.8.8"
  }
 },
 "nbformat": 4,
 "nbformat_minor": 5
}
