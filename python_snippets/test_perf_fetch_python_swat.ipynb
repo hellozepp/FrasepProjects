{
 "cells": [
  {
   "cell_type": "code",
   "execution_count": 1,
   "id": "af0f47bb-bfdc-4422-b4a8-fa4ce1fac39a",
   "metadata": {},
   "outputs": [],
   "source": [
    "import pandas as pd\n",
    "import os\n",
    "import swat\n",
    "from tabulate import tabulate\n",
    "import time\n",
    "from pprint import pprint\n",
    "import sys"
   ]
  },
  {
   "cell_type": "code",
   "execution_count": 2,
   "id": "6973537a-8aa1-4a8b-abcd-1973b1e23de5",
   "metadata": {},
   "outputs": [
    {
     "data": {
      "text/plain": [
       "17729"
      ]
     },
     "execution_count": 2,
     "metadata": {},
     "output_type": "execute_result"
    }
   ],
   "source": [
    "os.getpid()"
   ]
  },
  {
   "cell_type": "code",
   "execution_count": 3,
   "id": "e5d853c0-b499-448c-acc9-e726f9d02f8b",
   "metadata": {},
   "outputs": [],
   "source": [
    "def my_function():\n",
    "    process_id = os.getpid()\n",
    "    pmapcmd = \"pmap \"+str(process_id)+\" | grep total | cut -b15- | cut -f1 -d'K'\"\n",
    "    stream = os.popen(pmapcmd)\n",
    "    return(int(stream.read().lstrip()))"
   ]
  },
  {
   "cell_type": "code",
   "execution_count": 4,
   "id": "74fe03f4-3761-43a1-a097-6785217dd2ad",
   "metadata": {},
   "outputs": [
    {
     "data": {
      "text/plain": [
       "1091868"
      ]
     },
     "execution_count": 4,
     "metadata": {},
     "output_type": "execute_result"
    }
   ],
   "source": [
    "my_function()"
   ]
  },
  {
   "cell_type": "code",
   "execution_count": 5,
   "id": "5d2b34e7-1c26-40d2-a38e-e0230a8d24ec",
   "metadata": {},
   "outputs": [
    {
     "name": "stdout",
     "output_type": "stream",
     "text": [
      "NOTE: 'CASUSER(viyademo01)' is now the active caslib.\n",
      "NOTE: Action 'sessionProp.setSessOpt' used (Total process time):\n",
      "NOTE:       real time               0.000299 seconds\n",
      "NOTE:       cpu time                0.000287 seconds (95.99%)\n",
      "NOTE:       total nodes             1 (16 cores)\n",
      "NOTE:       total memory            125.75G\n",
      "NOTE:       memory                  265.19K (0.00%)\n"
     ]
    },
    {
     "data": {
      "text/html": [
       "<div class=\"cas-output-area\"></div>\n",
       "<p class=\"cas-results-performance\"><small><span class=\"cas-elapsed\">elapsed 0.000299s</span> &#183; <span class=\"cas-user\">user 0.000217s</span> &#183; <span class=\"cas-sys\">sys 7e-05s</span> &#183; <span class=\"cas-memory\">mem 0.259MB</span></small></p>"
      ],
      "text/plain": [
       "+ Elapsed: 0.000299s, user: 0.000217s, sys: 7e-05s, mem: 0.259mb"
      ]
     },
     "execution_count": 5,
     "metadata": {},
     "output_type": "execute_result"
    }
   ],
   "source": [
    "os.environ['CAS_CLIENT_SSL_CA_LIST'] = '/opt/sas/viya/config/etc/SASSecurityCertificateFramework/cacerts/trustedcerts.pem'\n",
    "cashost='frasepviya35smp.cloud.com'\n",
    "casport=5570\n",
    "s = swat.CAS(cashost, casport)\n",
    "s.sessionProp.setSessOpt(metrics=\"TRUE\", timeout=1800, caslib='casuser', messageLevel=\"ALL\")"
   ]
  },
  {
   "cell_type": "code",
   "execution_count": 37,
   "id": "b8bb87a8-0a2a-4f54-9617-c60eea687d40",
   "metadata": {},
   "outputs": [],
   "source": [
    "castbl = s.CASTable(caslib=\"public\", name=\"test_data2\")"
   ]
  },
  {
   "cell_type": "code",
   "execution_count": 39,
   "id": "bfd9f7c8-e0a4-4fc4-88ae-9f618539c084",
   "metadata": {},
   "outputs": [
    {
     "data": {
      "text/plain": [
       "(1000000, 11)"
      ]
     },
     "execution_count": 39,
     "metadata": {},
     "output_type": "execute_result"
    }
   ],
   "source": [
    "castbl.shape"
   ]
  },
  {
   "cell_type": "code",
   "execution_count": 43,
   "id": "6ed256e0-f10a-41cc-93a6-790890a5e4fa",
   "metadata": {},
   "outputs": [
    {
     "data": {
      "text/plain": [
       "48"
      ]
     },
     "execution_count": 43,
     "metadata": {},
     "output_type": "execute_result"
    }
   ],
   "source": [
    "sys.getsizeof(castbl)"
   ]
  },
  {
   "cell_type": "code",
   "execution_count": 44,
   "id": "8ed11e2b-48c9-4dd3-9529-0f15d5596ec9",
   "metadata": {},
   "outputs": [],
   "source": [
    "castbl_pd = castbl.to_frame()"
   ]
  },
  {
   "cell_type": "code",
   "execution_count": 45,
   "id": "8b4bed8e-9c60-43b5-b2e5-44bf4faf1126",
   "metadata": {},
   "outputs": [
    {
     "data": {
      "text/plain": [
       "2023548"
      ]
     },
     "execution_count": 45,
     "metadata": {},
     "output_type": "execute_result"
    }
   ],
   "source": [
    "my_function()"
   ]
  },
  {
   "cell_type": "code",
   "execution_count": 6,
   "id": "d2a7e709-9cf0-4f64-8ce5-901151265249",
   "metadata": {},
   "outputs": [],
   "source": [
    "castbl2 = s.CASTable(caslib=\"public\", name=\"test_data3\")"
   ]
  },
  {
   "cell_type": "code",
   "execution_count": 7,
   "id": "32492b15-ee05-403a-9398-2564e08af047",
   "metadata": {},
   "outputs": [],
   "source": [
    "castbl2_pd = castbl2.to_frame()"
   ]
  },
  {
   "cell_type": "code",
   "execution_count": 8,
   "id": "6cc59d77-4e67-4acf-93d4-21536f449671",
   "metadata": {},
   "outputs": [
    {
     "data": {
      "text/plain": [
       "7515748"
      ]
     },
     "execution_count": 8,
     "metadata": {},
     "output_type": "execute_result"
    }
   ],
   "source": [
    "my_function()"
   ]
  },
  {
   "cell_type": "code",
   "execution_count": 9,
   "id": "169ab245-203d-4dee-b9da-1cf45ff4ef5c",
   "metadata": {},
   "outputs": [
    {
     "data": {
      "text/plain": [
       "5012437266"
      ]
     },
     "execution_count": 9,
     "metadata": {},
     "output_type": "execute_result"
    }
   ],
   "source": [
    "sys.getsizeof(castbl2_pd)"
   ]
  },
  {
   "cell_type": "code",
   "execution_count": 10,
   "id": "0bf91eab-6523-41f9-8655-d12a0deaa461",
   "metadata": {},
   "outputs": [
    {
     "data": {
      "text/plain": [
       "(10000000, 11)"
      ]
     },
     "execution_count": 10,
     "metadata": {},
     "output_type": "execute_result"
    }
   ],
   "source": [
    "castbl2_pd.shape"
   ]
  },
  {
   "cell_type": "code",
   "execution_count": 11,
   "id": "28a1ecca-7132-474e-b37c-81c2616ea064",
   "metadata": {},
   "outputs": [],
   "source": [
    "s.close()"
   ]
  }
 ],
 "metadata": {
  "kernelspec": {
   "display_name": "Python 3",
   "language": "python",
   "name": "python3"
  },
  "language_info": {
   "codemirror_mode": {
    "name": "ipython",
    "version": 3
   },
   "file_extension": ".py",
   "mimetype": "text/x-python",
   "name": "python",
   "nbconvert_exporter": "python",
   "pygments_lexer": "ipython3",
   "version": "3.8.8"
  }
 },
 "nbformat": 4,
 "nbformat_minor": 5
}
