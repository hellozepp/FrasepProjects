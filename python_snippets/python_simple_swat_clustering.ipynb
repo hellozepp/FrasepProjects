{
 "cells": [
  {
   "cell_type": "markdown",
   "metadata": {},
   "source": [
    "## 1) LIBRARY IMPORT AND SAS VIYA CONNECTION"
   ]
  },
  {
   "cell_type": "code",
   "execution_count": 1,
   "metadata": {},
   "outputs": [],
   "source": [
    "import pandas as pd\n",
    "import os\n",
    "import swat\n",
    "import matplotlib.pyplot as plt"
   ]
  },
  {
   "cell_type": "code",
   "execution_count": 2,
   "metadata": {},
   "outputs": [
    {
     "name": "stdout",
     "output_type": "stream",
     "text": [
      "NOTE: 'CASUSER(viyademo01)' is now the active caslib.\n",
      "NOTE: Action 'sessionProp.setSessOpt' used (Total process time):\n",
      "NOTE:       real time               0.000326 seconds\n",
      "NOTE:       cpu time                0.000311 seconds (95.40%)\n",
      "NOTE:       total nodes             1 (16 cores)\n",
      "NOTE:       total memory            125.75G\n",
      "NOTE:       memory                  265.19K (0.00%)\n"
     ]
    },
    {
     "data": {
      "text/html": [
       "<div class=\"cas-output-area\"></div>\n",
       "<p class=\"cas-results-performance\"><small><span class=\"cas-elapsed\">elapsed 0.000326s</span> &#183; <span class=\"cas-user\">user 0.000311s</span> &#183; <span class=\"cas-memory\">mem 0.259MB</span></small></p>"
      ],
      "text/plain": [
       "+ Elapsed: 0.000326s, user: 0.000311s, mem: 0.259mb"
      ]
     },
     "execution_count": 2,
     "metadata": {},
     "output_type": "execute_result"
    }
   ],
   "source": [
    "os.environ['CAS_CLIENT_SSL_CA_LIST'] = '/opt/sas/viya/config/etc/SASSecurityCertificateFramework/cacerts/trustedcerts.pem'\n",
    "cashost='frasepviya35smp.cloud.com'\n",
    "casport=5570\n",
    "s = swat.CAS(cashost, casport)\n",
    "s.sessionProp.setSessOpt(metrics=\"TRUE\", timeout=1800, caslib='casuser', messageLevel=\"ALL\")"
   ]
  },
  {
   "cell_type": "code",
   "execution_count": 3,
   "metadata": {},
   "outputs": [
    {
     "name": "stdout",
     "output_type": "stream",
     "text": [
      "NOTE: Executing action 'builtins.loadActionSet'.\n",
      "NOTE: Added action set 'clustering'.\n",
      "NOTE: Action 'builtins.loadActionSet' used (Total process time):\n",
      "NOTE:       real time               0.002202 seconds\n",
      "NOTE:       cpu time                0.002175 seconds (98.77%)\n",
      "NOTE:       total nodes             1 (16 cores)\n",
      "NOTE:       total memory            125.75G\n",
      "NOTE:       memory                  213.78K (0.00%)\n",
      "NOTE: Executing action 'builtins.loadActionSet'.\n",
      "NOTE: Added action set 'modelPublishing'.\n",
      "NOTE: Action 'builtins.loadActionSet' used (Total process time):\n",
      "NOTE:       real time               0.106935 seconds\n",
      "NOTE:       cpu time                0.001974 seconds (1.85%)\n",
      "NOTE:       total nodes             1 (16 cores)\n",
      "NOTE:       total memory            125.75G\n",
      "NOTE:       memory                  226.94K (0.00%)\n"
     ]
    },
    {
     "data": {
      "text/html": [
       "<div class=\"cas-results-key\"><b>&#167; actionset</b></div>\n",
       "<div class=\"cas-results-body\">\n",
       "<div>modelPublishing</div>\n",
       "</div>\n",
       "<div class=\"cas-output-area\"></div>\n",
       "<p class=\"cas-results-performance\"><small><span class=\"cas-elapsed\">elapsed 0.107s</span> &#183; <span class=\"cas-user\">user 0.00166s</span> &#183; <span class=\"cas-sys\">sys 0.000316s</span> &#183; <span class=\"cas-memory\">mem 0.222MB</span></small></p>"
      ],
      "text/plain": [
       "[actionset]\n",
       "\n",
       " 'modelPublishing'\n",
       "\n",
       "+ Elapsed: 0.107s, user: 0.00166s, sys: 0.000316s, mem: 0.222mb"
      ]
     },
     "execution_count": 3,
     "metadata": {},
     "output_type": "execute_result"
    }
   ],
   "source": [
    "s.loadactionset('clustering')\n",
    "s.loadactionset('modelPublishing')"
   ]
  },
  {
   "cell_type": "markdown",
   "metadata": {},
   "source": [
    "## 2) UPLOAD IRIS SAMPLE FILE"
   ]
  },
  {
   "cell_type": "code",
   "execution_count": 4,
   "metadata": {},
   "outputs": [
    {
     "name": "stdout",
     "output_type": "stream",
     "text": [
      "NOTE: Executing action 'table.loadTable'.\n",
      "NOTE: Cloud Analytic Services made the uploaded file available as table IRIS in caslib CASUSER(viyademo01).\n",
      "NOTE: Action 'table.loadTable' used (Total process time):\n",
      "NOTE:       real time               0.002960 seconds\n",
      "NOTE:       cpu time                0.007355 seconds (248.48%)\n",
      "NOTE:       total nodes             1 (16 cores)\n",
      "NOTE:       total memory            125.75G\n",
      "NOTE:       memory                  33.24M (0.03%)\n",
      "NOTE: The table IRIS has been created in caslib CASUSER(viyademo01) from binary data uploaded to Cloud Analytic Services.\n",
      "NOTE: Action 'table.upload' used (Total process time):\n",
      "NOTE:       real time               0.005986 seconds\n",
      "NOTE:       cpu time                0.010298 seconds (172.03%)\n",
      "NOTE:       total nodes             1 (16 cores)\n",
      "NOTE:       total memory            125.75G\n",
      "NOTE:       memory                  33.24M (0.03%)\n"
     ]
    }
   ],
   "source": [
    "mytab = s.upload_file('http://support.sas.com/documentation/onlinedoc/viya/exampledatasets/iris.csv', casout='iris')"
   ]
  },
  {
   "cell_type": "code",
   "execution_count": 5,
   "metadata": {},
   "outputs": [
    {
     "name": "stdout",
     "output_type": "stream",
     "text": [
      "NOTE: Executing action 'table.columnInfo'.\n",
      "NOTE: Action 'table.columnInfo' used (Total process time):\n",
      "NOTE:       real time               0.000969 seconds\n",
      "NOTE:       cpu time                0.000920 seconds (94.94%)\n",
      "NOTE:       total nodes             1 (16 cores)\n",
      "NOTE:       total memory            125.75G\n",
      "NOTE:       memory                  828.28K (0.00%)\n"
     ]
    },
    {
     "data": {
      "text/html": [
       "<div class=\"cas-results-key\"><b>&#167; ColumnInfo</b></div>\n",
       "<div class=\"cas-results-body\">\n",
       "<div>\n",
       "<style scoped>\n",
       "    .dataframe tbody tr th:only-of-type {\n",
       "        vertical-align: middle;\n",
       "    }\n",
       "\n",
       "    .dataframe tbody tr th {\n",
       "        vertical-align: top;\n",
       "    }\n",
       "\n",
       "    .dataframe thead th {\n",
       "        text-align: right;\n",
       "    }\n",
       "</style>\n",
       "<table border=\"1\" class=\"dataframe\">\n",
       "  <thead>\n",
       "    <tr style=\"text-align: right;\">\n",
       "      <th title=\"\"></th>\n",
       "      <th title=\"Column\">Column</th>\n",
       "      <th title=\"Label\">Label</th>\n",
       "      <th title=\"ID\">ID</th>\n",
       "      <th title=\"Type\">Type</th>\n",
       "      <th title=\"RawLength\">RawLength</th>\n",
       "      <th title=\"FormattedLength\">FormattedLength</th>\n",
       "      <th title=\"Format\">Format</th>\n",
       "      <th title=\"NFL\">NFL</th>\n",
       "      <th title=\"NFD\">NFD</th>\n",
       "    </tr>\n",
       "  </thead>\n",
       "  <tbody>\n",
       "    <tr>\n",
       "      <td>0</td>\n",
       "      <td>Sepal Length</td>\n",
       "      <td></td>\n",
       "      <td>1</td>\n",
       "      <td>double</td>\n",
       "      <td>8</td>\n",
       "      <td>12</td>\n",
       "      <td></td>\n",
       "      <td>0</td>\n",
       "      <td>0</td>\n",
       "    </tr>\n",
       "    <tr>\n",
       "      <td>1</td>\n",
       "      <td>Sepal Width</td>\n",
       "      <td></td>\n",
       "      <td>2</td>\n",
       "      <td>double</td>\n",
       "      <td>8</td>\n",
       "      <td>12</td>\n",
       "      <td></td>\n",
       "      <td>0</td>\n",
       "      <td>0</td>\n",
       "    </tr>\n",
       "    <tr>\n",
       "      <td>2</td>\n",
       "      <td>Petal Length</td>\n",
       "      <td></td>\n",
       "      <td>3</td>\n",
       "      <td>double</td>\n",
       "      <td>8</td>\n",
       "      <td>12</td>\n",
       "      <td></td>\n",
       "      <td>0</td>\n",
       "      <td>0</td>\n",
       "    </tr>\n",
       "    <tr>\n",
       "      <td>3</td>\n",
       "      <td>Petal Width</td>\n",
       "      <td></td>\n",
       "      <td>4</td>\n",
       "      <td>double</td>\n",
       "      <td>8</td>\n",
       "      <td>12</td>\n",
       "      <td></td>\n",
       "      <td>0</td>\n",
       "      <td>0</td>\n",
       "    </tr>\n",
       "    <tr>\n",
       "      <td>4</td>\n",
       "      <td>Species</td>\n",
       "      <td></td>\n",
       "      <td>5</td>\n",
       "      <td>varchar</td>\n",
       "      <td>10</td>\n",
       "      <td>10</td>\n",
       "      <td></td>\n",
       "      <td>0</td>\n",
       "      <td>0</td>\n",
       "    </tr>\n",
       "    <tr>\n",
       "      <td>5</td>\n",
       "      <td>Index</td>\n",
       "      <td></td>\n",
       "      <td>6</td>\n",
       "      <td>double</td>\n",
       "      <td>8</td>\n",
       "      <td>12</td>\n",
       "      <td></td>\n",
       "      <td>0</td>\n",
       "      <td>0</td>\n",
       "    </tr>\n",
       "  </tbody>\n",
       "</table>\n",
       "</div>\n",
       "</div>\n",
       "<div class=\"cas-output-area\"></div>\n",
       "<p class=\"cas-results-performance\"><small><span class=\"cas-elapsed\">elapsed 0.000969s</span> &#183; <span class=\"cas-user\">user 0.00092s</span> &#183; <span class=\"cas-memory\">mem 0.809MB</span></small></p>"
      ],
      "text/plain": [
       "[ColumnInfo]\n",
       "\n",
       "          Column Label  ID     Type  RawLength  FormattedLength Format  NFL  NFD\n",
       " 0  Sepal Length         1   double          8               12           0    0\n",
       " 1   Sepal Width         2   double          8               12           0    0\n",
       " 2  Petal Length         3   double          8               12           0    0\n",
       " 3   Petal Width         4   double          8               12           0    0\n",
       " 4       Species         5  varchar         10               10           0    0\n",
       " 5         Index         6   double          8               12           0    0\n",
       "\n",
       "+ Elapsed: 0.000969s, user: 0.00092s, mem: 0.809mb"
      ]
     },
     "execution_count": 5,
     "metadata": {},
     "output_type": "execute_result"
    }
   ],
   "source": [
    "s.columninfo(table='iris')"
   ]
  },
  {
   "cell_type": "markdown",
   "metadata": {},
   "source": [
    "## 3) TRAIN THE UNSUPERVISED KMEANS MODEL SCORE ANDS SAVE THE SCORING CODE FOR PRODUCTION INFERENCES"
   ]
  },
  {
   "cell_type": "code",
   "execution_count": 6,
   "metadata": {},
   "outputs": [
    {
     "name": "stdout",
     "output_type": "stream",
     "text": [
      "NOTE: Executing action 'clustering.kClus'.\n",
      "NOTE: Using SEED=534.\n",
      "NOTE: Running for input data for K 6.\n",
      "NOTE: Clustering is finished. STOPVALUE is satisfied for STOPCRITERION=CLUSTER_CHANGE.\n",
      "NOTE: Number of observations is zero for 1 cluster. Running clustering with 5 clusters.\n",
      "NOTE: The CAS table 'ClusterCenters' in caslib 'CASUSER(viyademo01)' has 5 rows and 6 columns.\n",
      "NOTE: The CAS table 'ClusterSum' in caslib 'CASUSER(viyademo01)' has 5 rows and 9 columns.\n",
      "NOTE: The CAS table 'DescStats' in caslib 'CASUSER(viyademo01)' has 4 rows and 3 columns.\n",
      "NOTE: The CAS table 'IterStats' in caslib 'CASUSER(viyademo01)' has 7 rows and 4 columns.\n",
      "NOTE: The CAS table 'WithinClusStats' in caslib 'CASUSER(viyademo01)' has 20 rows and 4 columns.\n",
      "NOTE: The CAS table 'modelInfo' in caslib 'CASUSER(viyademo01)' has 10 rows and 3 columns.\n",
      "NOTE: The CAS table 'nobs' in caslib 'CASUSER(viyademo01)' has 2 rows and 2 columns.\n",
      "NOTE: Action 'clustering.kClus' used (Total process time):\n",
      "NOTE:       real time               0.022571 seconds\n",
      "NOTE:       cpu time                0.032037 seconds (141.94%)\n",
      "NOTE:       total nodes             1 (16 cores)\n",
      "NOTE:       total memory            125.75G\n",
      "NOTE:       memory                  4.63M (0.00%)\n"
     ]
    },
    {
     "data": {
      "text/html": [
       "<div class=\"cas-results-key\"><b>&#167; outputSize</b></div>\n",
       "<div class=\"cas-results-body\">\n",
       "<div>{'outputNObs': 150.0, 'outputNVars': 7}</div>\n",
       "</div>\n",
       "<div class=\"cas-results-key\"><hr/><b>&#167; ModelInfo</b></div>\n",
       "<div class=\"cas-results-body\">\n",
       "<div>\n",
       "<style scoped>\n",
       "    .dataframe tbody tr th:only-of-type {\n",
       "        vertical-align: middle;\n",
       "    }\n",
       "\n",
       "    .dataframe tbody tr th {\n",
       "        vertical-align: top;\n",
       "    }\n",
       "\n",
       "    .dataframe thead th {\n",
       "        text-align: right;\n",
       "    }\n",
       "</style>\n",
       "<table border=\"1\" class=\"dataframe\"><caption>Model Information</caption>\n",
       "  <thead>\n",
       "    <tr style=\"text-align: right;\">\n",
       "      <th title=\"\"></th>\n",
       "      <th title=\"RowId\">RowId</th>\n",
       "      <th title=\"Parameter\">Parameter</th>\n",
       "      <th title=\"Setting\">Setting</th>\n",
       "    </tr>\n",
       "  </thead>\n",
       "  <tbody>\n",
       "    <tr>\n",
       "      <td>0</td>\n",
       "      <td>Clustering_Algorithm</td>\n",
       "      <td>Clustering Algorithm</td>\n",
       "      <td>K-means</td>\n",
       "    </tr>\n",
       "    <tr>\n",
       "      <td>1</td>\n",
       "      <td>Maximum_Iterations</td>\n",
       "      <td>Maximum Iterations</td>\n",
       "      <td>40</td>\n",
       "    </tr>\n",
       "    <tr>\n",
       "      <td>2</td>\n",
       "      <td>Stop_Criterion</td>\n",
       "      <td>Stop Criterion</td>\n",
       "      <td>Cluster Change</td>\n",
       "    </tr>\n",
       "    <tr>\n",
       "      <td>3</td>\n",
       "      <td>Stop_Criterion_Value</td>\n",
       "      <td>Stop Criterion Value</td>\n",
       "      <td>0</td>\n",
       "    </tr>\n",
       "    <tr>\n",
       "      <td>4</td>\n",
       "      <td>Clusters</td>\n",
       "      <td>Clusters</td>\n",
       "      <td>6</td>\n",
       "    </tr>\n",
       "    <tr>\n",
       "      <td>5</td>\n",
       "      <td>Initialization</td>\n",
       "      <td>Initialization</td>\n",
       "      <td>Rand</td>\n",
       "    </tr>\n",
       "    <tr>\n",
       "      <td>6</td>\n",
       "      <td>Seed</td>\n",
       "      <td>Seed</td>\n",
       "      <td>534</td>\n",
       "    </tr>\n",
       "    <tr>\n",
       "      <td>7</td>\n",
       "      <td>Distance_For_Interval_Variables</td>\n",
       "      <td>Distance for Interval Variables</td>\n",
       "      <td>Euclidean</td>\n",
       "    </tr>\n",
       "    <tr>\n",
       "      <td>8</td>\n",
       "      <td>Standardization</td>\n",
       "      <td>Standardization</td>\n",
       "      <td>None</td>\n",
       "    </tr>\n",
       "    <tr>\n",
       "      <td>9</td>\n",
       "      <td>Interval_Imputation</td>\n",
       "      <td>Interval Imputation</td>\n",
       "      <td>None</td>\n",
       "    </tr>\n",
       "  </tbody>\n",
       "</table>\n",
       "</div>\n",
       "</div>\n",
       "<div class=\"cas-results-key\"><hr/><b>&#167; ClusterSum</b></div>\n",
       "<div class=\"cas-results-body\">\n",
       "<div>\n",
       "<style scoped>\n",
       "    .dataframe tbody tr th:only-of-type {\n",
       "        vertical-align: middle;\n",
       "    }\n",
       "\n",
       "    .dataframe tbody tr th {\n",
       "        vertical-align: top;\n",
       "    }\n",
       "\n",
       "    .dataframe thead th {\n",
       "        text-align: right;\n",
       "    }\n",
       "</style>\n",
       "<table border=\"1\" class=\"dataframe\"><caption>Cluster Summary</caption>\n",
       "  <thead>\n",
       "    <tr style=\"text-align: right;\">\n",
       "      <th title=\"\"></th>\n",
       "      <th title=\"Cluster\">Cluster</th>\n",
       "      <th title=\"Frequency\">Frequency</th>\n",
       "      <th title=\"MinDist\">MinDist</th>\n",
       "      <th title=\"MaxDist\">MaxDist</th>\n",
       "      <th title=\"AvgDist\">AvgDist</th>\n",
       "      <th title=\"SSE\">SSE</th>\n",
       "      <th title=\"StdDeviation\">StdDeviation</th>\n",
       "      <th title=\"NearestClus\">NearestClus</th>\n",
       "      <th title=\"DBtwCentroids\">DBtwCentroids</th>\n",
       "    </tr>\n",
       "  </thead>\n",
       "  <tbody>\n",
       "    <tr>\n",
       "      <td>0</td>\n",
       "      <td>1</td>\n",
       "      <td>4.0</td>\n",
       "      <td>0.035355</td>\n",
       "      <td>0.375832</td>\n",
       "      <td>0.229811</td>\n",
       "      <td>0.295000</td>\n",
       "      <td>0.271570</td>\n",
       "      <td>6.0</td>\n",
       "      <td>1.111415</td>\n",
       "    </tr>\n",
       "    <tr>\n",
       "      <td>1</td>\n",
       "      <td>2</td>\n",
       "      <td>40.0</td>\n",
       "      <td>0.191393</td>\n",
       "      <td>0.943203</td>\n",
       "      <td>0.555836</td>\n",
       "      <td>13.624750</td>\n",
       "      <td>0.583626</td>\n",
       "      <td>6.0</td>\n",
       "      <td>1.051041</td>\n",
       "    </tr>\n",
       "    <tr>\n",
       "      <td>2</td>\n",
       "      <td>3</td>\n",
       "      <td>32.0</td>\n",
       "      <td>0.221258</td>\n",
       "      <td>1.416935</td>\n",
       "      <td>0.699982</td>\n",
       "      <td>18.703438</td>\n",
       "      <td>0.764515</td>\n",
       "      <td>3.0</td>\n",
       "      <td>1.347843</td>\n",
       "    </tr>\n",
       "    <tr>\n",
       "      <td>3</td>\n",
       "      <td>4</td>\n",
       "      <td>50.0</td>\n",
       "      <td>0.059933</td>\n",
       "      <td>1.239351</td>\n",
       "      <td>0.484132</td>\n",
       "      <td>15.240400</td>\n",
       "      <td>0.552094</td>\n",
       "      <td>1.0</td>\n",
       "      <td>2.267078</td>\n",
       "    </tr>\n",
       "    <tr>\n",
       "      <td>4</td>\n",
       "      <td>5</td>\n",
       "      <td>24.0</td>\n",
       "      <td>0.132419</td>\n",
       "      <td>0.963519</td>\n",
       "      <td>0.426897</td>\n",
       "      <td>5.219167</td>\n",
       "      <td>0.466332</td>\n",
       "      <td>3.0</td>\n",
       "      <td>1.051041</td>\n",
       "    </tr>\n",
       "  </tbody>\n",
       "</table>\n",
       "</div>\n",
       "</div>\n",
       "<div class=\"cas-output-area\"></div>\n",
       "<p class=\"cas-results-performance\"><small><span class=\"cas-elapsed\">elapsed 0.0226s</span> &#183; <span class=\"cas-user\">user 0.02s</span> &#183; <span class=\"cas-sys\">sys 0.012s</span> &#183; <span class=\"cas-memory\">mem 4.63MB</span></small></p>"
      ],
      "text/plain": [
       "[outputSize]\n",
       "\n",
       " {'outputNObs': 150.0, 'outputNVars': 7}\n",
       "\n",
       "[ModelInfo]\n",
       "\n",
       " Model Information\n",
       " \n",
       "                              RowId                        Parameter         Setting\n",
       " 0             Clustering_Algorithm             Clustering Algorithm         K-means\n",
       " 1               Maximum_Iterations               Maximum Iterations              40\n",
       " 2                   Stop_Criterion                   Stop Criterion  Cluster Change\n",
       " 3             Stop_Criterion_Value             Stop Criterion Value               0\n",
       " 4                         Clusters                         Clusters               6\n",
       " 5                   Initialization                   Initialization            Rand\n",
       " 6                             Seed                             Seed             534\n",
       " 7  Distance_For_Interval_Variables  Distance for Interval Variables       Euclidean\n",
       " 8                  Standardization                  Standardization            None\n",
       " 9              Interval_Imputation              Interval Imputation            None\n",
       "\n",
       "[ClusterSum]\n",
       "\n",
       " Cluster Summary\n",
       " \n",
       "    Cluster  Frequency   MinDist   MaxDist   AvgDist        SSE  StdDeviation  NearestClus  DBtwCentroids\n",
       " 0        1        4.0  0.035355  0.375832  0.229811   0.295000      0.271570          6.0       1.111415\n",
       " 1        2       40.0  0.191393  0.943203  0.555836  13.624750      0.583626          6.0       1.051041\n",
       " 2        3       32.0  0.221258  1.416935  0.699982  18.703438      0.764515          3.0       1.347843\n",
       " 3        4       50.0  0.059933  1.239351  0.484132  15.240400      0.552094          1.0       2.267078\n",
       " 4        5       24.0  0.132419  0.963519  0.426897   5.219167      0.466332          3.0       1.051041\n",
       "\n",
       "+ Elapsed: 0.0226s, user: 0.02s, sys: 0.012s, mem: 4.63mb"
      ]
     },
     "execution_count": 6,
     "metadata": {},
     "output_type": "execute_result"
    }
   ],
   "source": [
    "s.kclus(table={\"name\":\"iris\"},\n",
    "        inputs={\"Sepal Length\", \"Sepal Width\", \"Petal Length\", \"Petal Width\"},\n",
    "        nClusters=6,\n",
    "        seed=534,\n",
    "        maxIters=40,\n",
    "        init=\"RAND\",\n",
    "        outputTables={\"names\":{\"nobs\":\"nobs\",\n",
    "                               \"modelInfo\":\"modelInfo\",\n",
    "                               \"ClusterSum\":\"ClusterSum\",\n",
    "                               \"IterStats\":\"IterStats\",\n",
    "                               \"DescStats\":\"DescStats\",\n",
    "                               \"WithinClusStats\":\"WithinClusStats\",\n",
    "                               \"ClusterCenters\":\"ClusterCenters\"}},\n",
    "        display={\"names\":[\"modelInfo\",\"ClusterSum\"]},\n",
    "        code={\"casOut\":{\"name\":\"tmp_model_cas_table\"}},\n",
    "        output={\"casout\":{\"name\":\"score_out\", \"replace\":\"TRUE\"},\"copyvars\":{\"Sepal Length\", \"Sepal Width\",\"Petal Length\", \"Petal Width\", \"Species\"}})"
   ]
  },
  {
   "cell_type": "code",
   "execution_count": 7,
   "metadata": {},
   "outputs": [],
   "source": [
    "tbl_kclus_scores = s.CASTable('score_out', replace=True)\n",
    "dfKclusScores = tbl_kclus_scores.to_frame()"
   ]
  },
  {
   "cell_type": "code",
   "execution_count": 8,
   "metadata": {},
   "outputs": [],
   "source": [
    "# define and map colors\n",
    "colors = ['#DF2020', '#81DF20']\n",
    "dfKclusScores['c'] = dfKclusScores._CLUSTER_ID_.map({1:colors[0], 2:colors[1]})"
   ]
  },
  {
   "cell_type": "code",
   "execution_count": 9,
   "metadata": {},
   "outputs": [
    {
     "ename": "ValueError",
     "evalue": "'c' argument must be a color, a sequence of colors, or a sequence of numbers, not 0          NaN\n1          NaN\n2          NaN\n3          NaN\n4          NaN\n        ...   \n145    #81DF20\n146    #81DF20\n147        NaN\n148        NaN\n149        NaN\nName: Fetch, Length: 150, dtype: object",
     "output_type": "error",
     "traceback": [
      "\u001b[0;31m-----------------------------\u001b[0m",
      "\u001b[0;31mValueError\u001b[0mTraceback (most recent call last)",
      "\u001b[0;32m/opt/anaconda3/lib/python3.8/site-packages/matplotlib/axes/_axes.py\u001b[0m in \u001b[0;36m_parse_scatter_color_args\u001b[0;34m(c, edgecolors, kwargs, xsize, get_next_color_func)\u001b[0m\n\u001b[1;32m   4290\u001b[0m             \u001b[0;32mtry\u001b[0m\u001b[0;34m:\u001b[0m  \u001b[0;31m# Is 'c' acceptable as PathCollection facecolors?\u001b[0m\u001b[0;34m\u001b[0m\u001b[0;34m\u001b[0m\u001b[0m\n\u001b[0;32m-> 4291\u001b[0;31m                 \u001b[0mcolors\u001b[0m \u001b[0;34m=\u001b[0m \u001b[0mmcolors\u001b[0m\u001b[0;34m.\u001b[0m\u001b[0mto_rgba_array\u001b[0m\u001b[0;34m(\u001b[0m\u001b[0mc\u001b[0m\u001b[0;34m)\u001b[0m\u001b[0;34m\u001b[0m\u001b[0;34m\u001b[0m\u001b[0m\n\u001b[0m\u001b[1;32m   4292\u001b[0m             \u001b[0;32mexcept\u001b[0m \u001b[0;34m(\u001b[0m\u001b[0mTypeError\u001b[0m\u001b[0;34m,\u001b[0m \u001b[0mValueError\u001b[0m\u001b[0;34m)\u001b[0m \u001b[0;32mas\u001b[0m \u001b[0merr\u001b[0m\u001b[0;34m:\u001b[0m\u001b[0;34m\u001b[0m\u001b[0;34m\u001b[0m\u001b[0m\n",
      "\u001b[0;32m/opt/anaconda3/lib/python3.8/site-packages/matplotlib/colors.py\u001b[0m in \u001b[0;36mto_rgba_array\u001b[0;34m(c, alpha)\u001b[0m\n\u001b[1;32m    340\u001b[0m     \u001b[0;32melse\u001b[0m\u001b[0;34m:\u001b[0m\u001b[0;34m\u001b[0m\u001b[0;34m\u001b[0m\u001b[0m\n\u001b[0;32m--> 341\u001b[0;31m         \u001b[0;32mreturn\u001b[0m \u001b[0mnp\u001b[0m\u001b[0;34m.\u001b[0m\u001b[0marray\u001b[0m\u001b[0;34m(\u001b[0m\u001b[0;34m[\u001b[0m\u001b[0mto_rgba\u001b[0m\u001b[0;34m(\u001b[0m\u001b[0mcc\u001b[0m\u001b[0;34m,\u001b[0m \u001b[0malpha\u001b[0m\u001b[0;34m)\u001b[0m \u001b[0;32mfor\u001b[0m \u001b[0mcc\u001b[0m \u001b[0;32min\u001b[0m \u001b[0mc\u001b[0m\u001b[0;34m]\u001b[0m\u001b[0;34m)\u001b[0m\u001b[0;34m\u001b[0m\u001b[0;34m\u001b[0m\u001b[0m\n\u001b[0m\u001b[1;32m    342\u001b[0m \u001b[0;34m\u001b[0m\u001b[0m\n",
      "\u001b[0;32m/opt/anaconda3/lib/python3.8/site-packages/matplotlib/colors.py\u001b[0m in \u001b[0;36m<listcomp>\u001b[0;34m(.0)\u001b[0m\n\u001b[1;32m    340\u001b[0m     \u001b[0;32melse\u001b[0m\u001b[0;34m:\u001b[0m\u001b[0;34m\u001b[0m\u001b[0;34m\u001b[0m\u001b[0m\n\u001b[0;32m--> 341\u001b[0;31m         \u001b[0;32mreturn\u001b[0m \u001b[0mnp\u001b[0m\u001b[0;34m.\u001b[0m\u001b[0marray\u001b[0m\u001b[0;34m(\u001b[0m\u001b[0;34m[\u001b[0m\u001b[0mto_rgba\u001b[0m\u001b[0;34m(\u001b[0m\u001b[0mcc\u001b[0m\u001b[0;34m,\u001b[0m \u001b[0malpha\u001b[0m\u001b[0;34m)\u001b[0m \u001b[0;32mfor\u001b[0m \u001b[0mcc\u001b[0m \u001b[0;32min\u001b[0m \u001b[0mc\u001b[0m\u001b[0;34m]\u001b[0m\u001b[0;34m)\u001b[0m\u001b[0;34m\u001b[0m\u001b[0;34m\u001b[0m\u001b[0m\n\u001b[0m\u001b[1;32m    342\u001b[0m \u001b[0;34m\u001b[0m\u001b[0m\n",
      "\u001b[0;32m/opt/anaconda3/lib/python3.8/site-packages/matplotlib/colors.py\u001b[0m in \u001b[0;36mto_rgba\u001b[0;34m(c, alpha)\u001b[0m\n\u001b[1;32m    188\u001b[0m     \u001b[0;32mif\u001b[0m \u001b[0mrgba\u001b[0m \u001b[0;32mis\u001b[0m \u001b[0;32mNone\u001b[0m\u001b[0;34m:\u001b[0m  \u001b[0;31m# Suppress exception chaining of cache lookup failure.\u001b[0m\u001b[0;34m\u001b[0m\u001b[0;34m\u001b[0m\u001b[0m\n\u001b[0;32m--> 189\u001b[0;31m         \u001b[0mrgba\u001b[0m \u001b[0;34m=\u001b[0m \u001b[0m_to_rgba_no_colorcycle\u001b[0m\u001b[0;34m(\u001b[0m\u001b[0mc\u001b[0m\u001b[0;34m,\u001b[0m \u001b[0malpha\u001b[0m\u001b[0;34m)\u001b[0m\u001b[0;34m\u001b[0m\u001b[0;34m\u001b[0m\u001b[0m\n\u001b[0m\u001b[1;32m    190\u001b[0m         \u001b[0;32mtry\u001b[0m\u001b[0;34m:\u001b[0m\u001b[0;34m\u001b[0m\u001b[0;34m\u001b[0m\u001b[0m\n",
      "\u001b[0;32m/opt/anaconda3/lib/python3.8/site-packages/matplotlib/colors.py\u001b[0m in \u001b[0;36m_to_rgba_no_colorcycle\u001b[0;34m(c, alpha)\u001b[0m\n\u001b[1;32m    262\u001b[0m     \u001b[0;32mif\u001b[0m \u001b[0;32mnot\u001b[0m \u001b[0mnp\u001b[0m\u001b[0;34m.\u001b[0m\u001b[0miterable\u001b[0m\u001b[0;34m(\u001b[0m\u001b[0mc\u001b[0m\u001b[0;34m)\u001b[0m\u001b[0;34m:\u001b[0m\u001b[0;34m\u001b[0m\u001b[0;34m\u001b[0m\u001b[0m\n\u001b[0;32m--> 263\u001b[0;31m         \u001b[0;32mraise\u001b[0m \u001b[0mValueError\u001b[0m\u001b[0;34m(\u001b[0m\u001b[0;34mf\"Invalid RGBA argument: {orig_c!r}\"\u001b[0m\u001b[0;34m)\u001b[0m\u001b[0;34m\u001b[0m\u001b[0;34m\u001b[0m\u001b[0m\n\u001b[0m\u001b[1;32m    264\u001b[0m     \u001b[0;32mif\u001b[0m \u001b[0mlen\u001b[0m\u001b[0;34m(\u001b[0m\u001b[0mc\u001b[0m\u001b[0;34m)\u001b[0m \u001b[0;32mnot\u001b[0m \u001b[0;32min\u001b[0m \u001b[0;34m[\u001b[0m\u001b[0;36m3\u001b[0m\u001b[0;34m,\u001b[0m \u001b[0;36m4\u001b[0m\u001b[0;34m]\u001b[0m\u001b[0;34m:\u001b[0m\u001b[0;34m\u001b[0m\u001b[0;34m\u001b[0m\u001b[0m\n",
      "\u001b[0;31mValueError\u001b[0m: Invalid RGBA argument: nan",
      "\nThe above exception was the direct cause of the following exception:\n",
      "\u001b[0;31mValueError\u001b[0mTraceback (most recent call last)",
      "\u001b[0;32m<ipython-input-9-1c10bbf54bf9>\u001b[0m in \u001b[0;36m<module>\u001b[0;34m\u001b[0m\n\u001b[0;32m----> 1\u001b[0;31m \u001b[0mplt\u001b[0m\u001b[0;34m.\u001b[0m\u001b[0mscatter\u001b[0m\u001b[0;34m(\u001b[0m\u001b[0mdfKclusScores\u001b[0m\u001b[0;34m[\u001b[0m\u001b[0;34m\"Sepal Length\"\u001b[0m\u001b[0;34m]\u001b[0m\u001b[0;34m,\u001b[0m \u001b[0mdfKclusScores\u001b[0m\u001b[0;34m[\u001b[0m\u001b[0;34m\"Petal Length\"\u001b[0m\u001b[0;34m]\u001b[0m\u001b[0;34m,\u001b[0m \u001b[0mc\u001b[0m\u001b[0;34m=\u001b[0m\u001b[0mdfKclusScores\u001b[0m\u001b[0;34m.\u001b[0m\u001b[0mc\u001b[0m\u001b[0;34m,\u001b[0m \u001b[0malpha\u001b[0m \u001b[0;34m=\u001b[0m \u001b[0;36m0.6\u001b[0m\u001b[0;34m,\u001b[0m \u001b[0ms\u001b[0m\u001b[0;34m=\u001b[0m\u001b[0;36m10\u001b[0m\u001b[0;34m)\u001b[0m\u001b[0;34m\u001b[0m\u001b[0;34m\u001b[0m\u001b[0m\n\u001b[0m",
      "\u001b[0;32m/opt/anaconda3/lib/python3.8/site-packages/matplotlib/pyplot.py\u001b[0m in \u001b[0;36mscatter\u001b[0;34m(x, y, s, c, marker, cmap, norm, vmin, vmax, alpha, linewidths, verts, edgecolors, plotnonfinite, data, **kwargs)\u001b[0m\n\u001b[1;32m   2888\u001b[0m         \u001b[0mverts\u001b[0m\u001b[0;34m=\u001b[0m\u001b[0mcbook\u001b[0m\u001b[0;34m.\u001b[0m\u001b[0mdeprecation\u001b[0m\u001b[0;34m.\u001b[0m\u001b[0m_deprecated_parameter\u001b[0m\u001b[0;34m,\u001b[0m\u001b[0;34m\u001b[0m\u001b[0;34m\u001b[0m\u001b[0m\n\u001b[1;32m   2889\u001b[0m         edgecolors=None, *, plotnonfinite=False, data=None, **kwargs):\n\u001b[0;32m-> 2890\u001b[0;31m     __ret = gca().scatter(\n\u001b[0m\u001b[1;32m   2891\u001b[0m         \u001b[0mx\u001b[0m\u001b[0;34m,\u001b[0m \u001b[0my\u001b[0m\u001b[0;34m,\u001b[0m \u001b[0ms\u001b[0m\u001b[0;34m=\u001b[0m\u001b[0ms\u001b[0m\u001b[0;34m,\u001b[0m \u001b[0mc\u001b[0m\u001b[0;34m=\u001b[0m\u001b[0mc\u001b[0m\u001b[0;34m,\u001b[0m \u001b[0mmarker\u001b[0m\u001b[0;34m=\u001b[0m\u001b[0mmarker\u001b[0m\u001b[0;34m,\u001b[0m \u001b[0mcmap\u001b[0m\u001b[0;34m=\u001b[0m\u001b[0mcmap\u001b[0m\u001b[0;34m,\u001b[0m \u001b[0mnorm\u001b[0m\u001b[0;34m=\u001b[0m\u001b[0mnorm\u001b[0m\u001b[0;34m,\u001b[0m\u001b[0;34m\u001b[0m\u001b[0;34m\u001b[0m\u001b[0m\n\u001b[1;32m   2892\u001b[0m         \u001b[0mvmin\u001b[0m\u001b[0;34m=\u001b[0m\u001b[0mvmin\u001b[0m\u001b[0;34m,\u001b[0m \u001b[0mvmax\u001b[0m\u001b[0;34m=\u001b[0m\u001b[0mvmax\u001b[0m\u001b[0;34m,\u001b[0m \u001b[0malpha\u001b[0m\u001b[0;34m=\u001b[0m\u001b[0malpha\u001b[0m\u001b[0;34m,\u001b[0m \u001b[0mlinewidths\u001b[0m\u001b[0;34m=\u001b[0m\u001b[0mlinewidths\u001b[0m\u001b[0;34m,\u001b[0m\u001b[0;34m\u001b[0m\u001b[0;34m\u001b[0m\u001b[0m\n",
      "\u001b[0;32m/opt/anaconda3/lib/python3.8/site-packages/matplotlib/__init__.py\u001b[0m in \u001b[0;36minner\u001b[0;34m(ax, data, *args, **kwargs)\u001b[0m\n\u001b[1;32m   1445\u001b[0m     \u001b[0;32mdef\u001b[0m \u001b[0minner\u001b[0m\u001b[0;34m(\u001b[0m\u001b[0max\u001b[0m\u001b[0;34m,\u001b[0m \u001b[0;34m*\u001b[0m\u001b[0margs\u001b[0m\u001b[0;34m,\u001b[0m \u001b[0mdata\u001b[0m\u001b[0;34m=\u001b[0m\u001b[0;32mNone\u001b[0m\u001b[0;34m,\u001b[0m \u001b[0;34m**\u001b[0m\u001b[0mkwargs\u001b[0m\u001b[0;34m)\u001b[0m\u001b[0;34m:\u001b[0m\u001b[0;34m\u001b[0m\u001b[0;34m\u001b[0m\u001b[0m\n\u001b[1;32m   1446\u001b[0m         \u001b[0;32mif\u001b[0m \u001b[0mdata\u001b[0m \u001b[0;32mis\u001b[0m \u001b[0;32mNone\u001b[0m\u001b[0;34m:\u001b[0m\u001b[0;34m\u001b[0m\u001b[0;34m\u001b[0m\u001b[0m\n\u001b[0;32m-> 1447\u001b[0;31m             \u001b[0;32mreturn\u001b[0m \u001b[0mfunc\u001b[0m\u001b[0;34m(\u001b[0m\u001b[0max\u001b[0m\u001b[0;34m,\u001b[0m \u001b[0;34m*\u001b[0m\u001b[0mmap\u001b[0m\u001b[0;34m(\u001b[0m\u001b[0msanitize_sequence\u001b[0m\u001b[0;34m,\u001b[0m \u001b[0margs\u001b[0m\u001b[0;34m)\u001b[0m\u001b[0;34m,\u001b[0m \u001b[0;34m**\u001b[0m\u001b[0mkwargs\u001b[0m\u001b[0;34m)\u001b[0m\u001b[0;34m\u001b[0m\u001b[0;34m\u001b[0m\u001b[0m\n\u001b[0m\u001b[1;32m   1448\u001b[0m \u001b[0;34m\u001b[0m\u001b[0m\n\u001b[1;32m   1449\u001b[0m         \u001b[0mbound\u001b[0m \u001b[0;34m=\u001b[0m \u001b[0mnew_sig\u001b[0m\u001b[0;34m.\u001b[0m\u001b[0mbind\u001b[0m\u001b[0;34m(\u001b[0m\u001b[0max\u001b[0m\u001b[0;34m,\u001b[0m \u001b[0;34m*\u001b[0m\u001b[0margs\u001b[0m\u001b[0;34m,\u001b[0m \u001b[0;34m**\u001b[0m\u001b[0mkwargs\u001b[0m\u001b[0;34m)\u001b[0m\u001b[0;34m\u001b[0m\u001b[0;34m\u001b[0m\u001b[0m\n",
      "\u001b[0;32m/opt/anaconda3/lib/python3.8/site-packages/matplotlib/cbook/deprecation.py\u001b[0m in \u001b[0;36mwrapper\u001b[0;34m(*inner_args, **inner_kwargs)\u001b[0m\n\u001b[1;32m    409\u001b[0m                          \u001b[0;32melse\u001b[0m \u001b[0mdeprecation_addendum\u001b[0m\u001b[0;34m,\u001b[0m\u001b[0;34m\u001b[0m\u001b[0;34m\u001b[0m\u001b[0m\n\u001b[1;32m    410\u001b[0m                 **kwargs)\n\u001b[0;32m--> 411\u001b[0;31m         \u001b[0;32mreturn\u001b[0m \u001b[0mfunc\u001b[0m\u001b[0;34m(\u001b[0m\u001b[0;34m*\u001b[0m\u001b[0minner_args\u001b[0m\u001b[0;34m,\u001b[0m \u001b[0;34m**\u001b[0m\u001b[0minner_kwargs\u001b[0m\u001b[0;34m)\u001b[0m\u001b[0;34m\u001b[0m\u001b[0;34m\u001b[0m\u001b[0m\n\u001b[0m\u001b[1;32m    412\u001b[0m \u001b[0;34m\u001b[0m\u001b[0m\n\u001b[1;32m    413\u001b[0m     \u001b[0;32mreturn\u001b[0m \u001b[0mwrapper\u001b[0m\u001b[0;34m\u001b[0m\u001b[0;34m\u001b[0m\u001b[0m\n",
      "\u001b[0;32m/opt/anaconda3/lib/python3.8/site-packages/matplotlib/axes/_axes.py\u001b[0m in \u001b[0;36mscatter\u001b[0;34m(self, x, y, s, c, marker, cmap, norm, vmin, vmax, alpha, linewidths, verts, edgecolors, plotnonfinite, **kwargs)\u001b[0m\n\u001b[1;32m   4449\u001b[0m \u001b[0;34m\u001b[0m\u001b[0m\n\u001b[1;32m   4450\u001b[0m         \u001b[0mc\u001b[0m\u001b[0;34m,\u001b[0m \u001b[0mcolors\u001b[0m\u001b[0;34m,\u001b[0m \u001b[0medgecolors\u001b[0m \u001b[0;34m=\u001b[0m\u001b[0;31m \u001b[0m\u001b[0;31m\\\u001b[0m\u001b[0;34m\u001b[0m\u001b[0;34m\u001b[0m\u001b[0m\n\u001b[0;32m-> 4451\u001b[0;31m             self._parse_scatter_color_args(\n\u001b[0m\u001b[1;32m   4452\u001b[0m                 \u001b[0mc\u001b[0m\u001b[0;34m,\u001b[0m \u001b[0medgecolors\u001b[0m\u001b[0;34m,\u001b[0m \u001b[0mkwargs\u001b[0m\u001b[0;34m,\u001b[0m \u001b[0mx\u001b[0m\u001b[0;34m.\u001b[0m\u001b[0msize\u001b[0m\u001b[0;34m,\u001b[0m\u001b[0;34m\u001b[0m\u001b[0;34m\u001b[0m\u001b[0m\n\u001b[1;32m   4453\u001b[0m                 get_next_color_func=self._get_patches_for_fill.get_next_color)\n",
      "\u001b[0;32m/opt/anaconda3/lib/python3.8/site-packages/matplotlib/axes/_axes.py\u001b[0m in \u001b[0;36m_parse_scatter_color_args\u001b[0;34m(c, edgecolors, kwargs, xsize, get_next_color_func)\u001b[0m\n\u001b[1;32m   4298\u001b[0m                     \u001b[0;31m# Both the mapping *and* the RGBA conversion failed: pretty\u001b[0m\u001b[0;34m\u001b[0m\u001b[0;34m\u001b[0m\u001b[0;34m\u001b[0m\u001b[0m\n\u001b[1;32m   4299\u001b[0m                     \u001b[0;31m# severe failure => one may appreciate a verbose feedback.\u001b[0m\u001b[0;34m\u001b[0m\u001b[0;34m\u001b[0m\u001b[0;34m\u001b[0m\u001b[0m\n\u001b[0;32m-> 4300\u001b[0;31m                     raise ValueError(\n\u001b[0m\u001b[1;32m   4301\u001b[0m                         \u001b[0;34mf\"'c' argument must be a color, a sequence of colors, \"\u001b[0m\u001b[0;34m\u001b[0m\u001b[0;34m\u001b[0m\u001b[0m\n\u001b[1;32m   4302\u001b[0m                         f\"or a sequence of numbers, not {c}\") from err\n",
      "\u001b[0;31mValueError\u001b[0m: 'c' argument must be a color, a sequence of colors, or a sequence of numbers, not 0          NaN\n1          NaN\n2          NaN\n3          NaN\n4          NaN\n        ...   \n145    #81DF20\n146    #81DF20\n147        NaN\n148        NaN\n149        NaN\nName: Fetch, Length: 150, dtype: object"
     ]
    },
    {
     "data": {
      "image/png": "[encoded data removed]",
      "text/plain": [
       "<Figure size 432x288 with 1 Axes>"
      ]
     },
     "metadata": {
      "needs_background": "light"
     },
     "output_type": "display_data"
    }
   ],
   "source": [
    "plt.scatter(dfKclusScores[\"Sepal Length\"], dfKclusScores[\"Petal Length\"], c=dfKclusScores.c, alpha = 0.6, s=10)"
   ]
  },
  {
   "cell_type": "markdown",
   "metadata": {},
   "source": [
    "## 4) APPLY SAVED SCORING CODE TO A NEW INPUT DATA TABLE"
   ]
  },
  {
   "cell_type": "code",
   "execution_count": null,
   "metadata": {},
   "outputs": [],
   "source": [
    "s.dataStep.runCodeTable(\n",
    "    casout={\"caslib\":\"casuser\",\"name\":\"scored_iris_clusters\"},\n",
    "    codeTable={\"caslib\":\"casuser\",\"name\":\"tmp_model_cas_table\"},\n",
    "    table={\"caslib\":\"casuser\",\"name\":\"iris\"}\n",
    ")"
   ]
  },
  {
   "cell_type": "code",
   "execution_count": null,
   "metadata": {},
   "outputs": [],
   "source": [
    "# CASTable view on megacorp\n",
    "tbl_kclus_scores2 = s.CASTable(caslib=\"casuser\", name=\"scored_iris_clusters\", replace=True)\n",
    "dfKclusScores2 = tbl_kclus_scores2.to_frame()"
   ]
  },
  {
   "cell_type": "code",
   "execution_count": null,
   "metadata": {},
   "outputs": [],
   "source": [
    "dfKclusScores2.head()"
   ]
  },
  {
   "cell_type": "code",
   "execution_count": null,
   "metadata": {},
   "outputs": [],
   "source": [
    "# define and map colors\n",
    "colors = ['#DF2020', '#81DF20']\n",
    "dfKclusScores2['c'] = dfKclusScores2._CLUSTER_ID_.map({1:colors[0], 2:colors[1]})\n",
    "plt.scatter(dfKclusScores2[\"Sepal Length\"], dfKclusScores2[\"Petal Length\"], c=dfKclusScores2.c, alpha = 0.6, s=10)"
   ]
  },
  {
   "cell_type": "code",
   "execution_count": null,
   "metadata": {},
   "outputs": [],
   "source": [
    "s.close()"
   ]
  },
  {
   "cell_type": "code",
   "execution_count": null,
   "metadata": {},
   "outputs": [],
   "source": []
  }
 ],
 "metadata": {
  "kernelspec": {
   "display_name": "Python 3",
   "language": "python",
   "name": "python3"
  },
  "language_info": {
   "codemirror_mode": {
    "name": "ipython",
    "version": 3
   },
   "file_extension": ".py",
   "mimetype": "text/x-python",
   "name": "python",
   "nbconvert_exporter": "python",
   "pygments_lexer": "ipython3",
   "version": "3.8.8"
  }
 },
 "nbformat": 4,
 "nbformat_minor": 4
}
