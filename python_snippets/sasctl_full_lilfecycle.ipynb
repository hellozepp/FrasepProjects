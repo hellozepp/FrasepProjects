{
 "cells": [
  {
   "cell_type": "code",
   "execution_count": 1,
   "metadata": {},
   "outputs": [],
   "source": [
    "import pandas as pd\n",
    "import sklearn.datasets\n",
    "from sklearn.tree import DecisionTreeRegressor\n",
    "from sklearn.linear_model import LinearRegression\n",
    "from sklearn.model_selection import train_test_split\n",
    "\n",
    "from sasctl import Session\n",
    "from sasctl.tasks import register_model, publish_model, update_model_performance\n",
    "from sasctl.services import model_repository as mr\n",
    "from sasctl.services import model_management as mm"
   ]
  },
  {
   "cell_type": "code",
   "execution_count": 2,
   "metadata": {},
   "outputs": [],
   "source": [
    "data = sklearn.datasets.load_boston()\n",
    "X = pd.DataFrame(data.data, columns=data.feature_names)\n",
    "y = pd.DataFrame(data.target, columns=['Price'])\n",
    "\n",
    "X_train, X_test, y_train, y_test = train_test_split(X, y, test_size=0.3)"
   ]
  },
  {
   "cell_type": "code",
   "execution_count": 6,
   "metadata": {},
   "outputs": [],
   "source": [
    "# Establish a session with SAS Viya\n",
    "Session('http://frasepviya35smp', 'viyademo01', 'demopw')\n",
    "\n",
    "project = 'Boston Housing'\n",
    "model_name = 'Boston Regression'"
   ]
  },
  {
   "cell_type": "code",
   "execution_count": 8,
   "metadata": {
    "collapsed": true,
    "jupyter": {
     "outputs_hidden": true
    }
   },
   "outputs": [
    {
     "data": {
      "text/plain": [
       "<class 'sasctl.core.RestObj'>(headers={'Date': 'Tue, 21 Jul 2020 09:39:38 GMT', 'Server': 'Apache/2.4', 'Content-Security-Policy': \"default-src 'self'; script-src 'self' 'unsafe-inline' 'unsafe-eval'; img-src 'self' *.sas.com blob: data:; style-src 'self' 'unsafe-inline'; child-src 'self' blob: data: mailto:;\", 'Last-Modified': 'Tue, 21 Jul 2020 09:39:39 GMT', 'ETag': 'W/\"173cdc9d60b\"', 'Cache-Control': 'no-cache, no-store, max-age=0, must-revalidate', 'Pragma': 'no-cache', 'Expires': '0', 'X-Frame-Options': 'SAMEORIGIN', 'Content-Type': 'application/vnd.sas.models.model+json;charset=UTF-8', 'X-Content-Type-Options': 'nosniff', 'X-XSS-Protection': '1; mode=block', 'Vary': 'User-Agent', 'Keep-Alive': 'timeout=5, max=94', 'Connection': 'Keep-Alive', 'Transfer-Encoding': 'chunked'}, data={'creationTimeStamp': '2020-07-21T09:39:39.165Z', 'modifiedTimeStamp': '2020-07-21T09:39:39.165Z', 'createdBy': 'viyademo01', 'modifiedBy': 'viyademo01', 'links': [{'method': 'GET', 'rel': 'self', 'href': '/modelRepository/models/85a7ddfc-8b39-4072-9ed7-565db327e97d', 'uri': '/modelRepository/models/85a7ddfc-8b39-4072-9ed7-565db327e97d', 'type': 'application/vnd.sas.models.model'}, {'method': 'GET', 'rel': 'alternate', 'href': '/modelRepository/models/85a7ddfc-8b39-4072-9ed7-565db327e97d', 'uri': '/modelRepository/models/85a7ddfc-8b39-4072-9ed7-565db327e97d', 'type': 'application/vnd.sas.models.model.summary'}, {'method': 'PUT', 'rel': 'update', 'href': '/modelRepository/models/85a7ddfc-8b39-4072-9ed7-565db327e97d', 'uri': '/modelRepository/models/85a7ddfc-8b39-4072-9ed7-565db327e97d', 'type': 'application/vnd.sas.models.model'}, {'method': 'DELETE', 'rel': 'delete', 'href': '/modelRepository/models/85a7ddfc-8b39-4072-9ed7-565db327e97d', 'uri': '/modelRepository/models/85a7ddfc-8b39-4072-9ed7-565db327e97d'}, {'method': 'GET', 'rel': 'contents', 'href': '/modelRepository/models/85a7ddfc-8b39-4072-9ed7-565db327e97d/contents', 'uri': '/modelRepository/models/85a7ddfc-8b39-4072-9ed7-565db327e97d/contents', 'type': 'application/vnd.sas.models.model'}], 'version': 2, 'id': '85a7ddfc-8b39-4072-9ed7-565db327e97d', 'name': 'Boston Regression', 'description': 'LinearRegression(copy_X=True, fit_intercept=True, n_jobs=None, normalize=False)', 'location': '/Model Repositories/Public', 'projectId': '04859705-5637-4828-abd4-28f324f48dd4', 'projectName': 'Boston Housing', 'projectVersionId': 'a75358e4-fad5-4e66-9b3b-1a45ffd8b195', 'projectVersionName': 'Version 1', 'projectVersionNum': '1.0', 'folderId': '2eac948f-067a-4229-a56f-9397cb29af0e', 'indirectFolderId': '2eac948f-067a-4229-a56f-9397cb29af0e', 'repositoryId': 'e45e49f9-9143-4880-97ec-26be77449682', 'function': 'prediction', 'algorithm': 'Linear regression', 'tool': 'Python 3.7', 'scoreCodeType': 'ds2MultiType', 'trainCodeType': 'Python', 'targetLevel': 'INTERVAL', 'modeler': 'viyademo01', 'suggestedChampion': False, 'candidateChampion': False, 'role': 'plain', 'immutable': False, 'properties': [{'name': 'copy_X', 'value': 'True', 'type': 'string'}, {'name': 'fit_intercept', 'value': 'True', 'type': 'string'}, {'name': 'n_jobs', 'value': 'None', 'type': 'string'}, {'name': 'normalize', 'value': 'False', 'type': 'string'}, {'name': 'env_alabaster', 'value': '0.7.12', 'type': 'string'}, {'name': 'env_alembic', 'value': '1.4.2', 'type': 'string'}, {'name': 'env_anaconda-client', 'value': '1.7.2', 'type': 'string'}, {'name': 'env_anaconda-navigator', 'value': '1.9.12', 'type': 'string'}, {'name': 'env_anaconda-project', 'value': '0.8.3', 'type': 'string'}, {'name': 'env_argh', 'value': '0.26.2', 'type': 'string'}, {'name': 'env_asn1crypto', 'value': '1.3.0', 'type': 'string'}, {'name': 'env_astroid', 'value': '2.3.3', 'type': 'string'}, {'name': 'env_astropy', 'value': '4.0', 'type': 'string'}, {'name': 'env_async-generator', 'value': '1.10', 'type': 'string'}, {'name': 'env_atomicwrites', 'value': '1.3.0', 'type': 'string'}, {'name': 'env_attrs', 'value': '19.3.0', 'type': 'string'}, {'name': 'env_autopep8', 'value': '1.4.4', 'type': 'string'}, {'name': 'env_Babel', 'value': '2.8.0', 'type': 'string'}, {'name': 'env_backcall', 'value': '0.1.0', 'type': 'string'}, {'name': 'env_backports.functools-lru-cache', 'value': '1.6.1', 'type': 'string'}, {'name': 'env_backports.shutil-get-terminal-size', 'value': '1.0.0', 'type': 'string'}, {'name': 'env_backports.tempfile', 'value': '1.0', 'type': 'string'}, {'name': 'env_backports.weakref', 'value': '1.0.post1', 'type': 'string'}, {'name': 'env_beautifulsoup4', 'value': '4.8.2', 'type': 'string'}, {'name': 'env_bitarray', 'value': '1.2.1', 'type': 'string'}, {'name': 'env_bkcharts', 'value': '0.2', 'type': 'string'}, {'name': 'env_bleach', 'value': '3.1.0', 'type': 'string'}, {'name': 'env_blinker', 'value': '1.4', 'type': 'string'}, {'name': 'env_bokeh', 'value': '1.4.0', 'type': 'string'}, {'name': 'env_boto', 'value': '2.49.0', 'type': 'string'}, {'name': 'env_Bottleneck', 'value': '1.3.2', 'type': 'string'}, {'name': 'env_certifi', 'value': '2019.11.28', 'type': 'string'}, {'name': 'env_certipy', 'value': '0.1.3', 'type': 'string'}, {'name': 'env_cffi', 'value': '1.14.0', 'type': 'string'}, {'name': 'env_chardet', 'value': '3.0.4', 'type': 'string'}, {'name': 'env_Click', 'value': '7.0', 'type': 'string'}, {'name': 'env_cloudpickle', 'value': '1.3.0', 'type': 'string'}, {'name': 'env_clyent', 'value': '1.2.2', 'type': 'string'}, {'name': 'env_colorama', 'value': '0.4.3', 'type': 'string'}, {'name': 'env_conda', 'value': '4.8.3', 'type': 'string'}, {'name': 'env_conda-build', 'value': '3.18.11', 'type': 'string'}, {'name': 'env_conda-package-handling', 'value': '1.6.0', 'type': 'string'}, {'name': 'env_conda-verify', 'value': '3.4.2', 'type': 'string'}, {'name': 'env_contextlib2', 'value': '0.6.0.post1', 'type': 'string'}, {'name': 'env_cryptography', 'value': '2.8', 'type': 'string'}, {'name': 'env_cycler', 'value': '0.10.0', 'type': 'string'}, {'name': 'env_Cython', 'value': '0.29.15', 'type': 'string'}, {'name': 'env_cytoolz', 'value': '0.10.1', 'type': 'string'}, {'name': 'env_dask', 'value': '2.11.0', 'type': 'string'}, {'name': 'env_decorator', 'value': '4.4.1', 'type': 'string'}, {'name': 'env_defusedxml', 'value': '0.6.0', 'type': 'string'}, {'name': 'env_diff-match-patch', 'value': '20181111', 'type': 'string'}, {'name': 'env_distributed', 'value': '2.11.0', 'type': 'string'}, {'name': 'env_docutils', 'value': '0.16', 'type': 'string'}, {'name': 'env_entrypoints', 'value': '0.3', 'type': 'string'}, {'name': 'env_et-xmlfile', 'value': '1.0.1', 'type': 'string'}, {'name': 'env_fastcache', 'value': '1.1.0', 'type': 'string'}, {'name': 'env_filelock', 'value': '3.0.12', 'type': 'string'}, {'name': 'env_flake8', 'value': '3.7.9', 'type': 'string'}, {'name': 'env_Flask', 'value': '1.1.1', 'type': 'string'}, {'name': 'env_fsspec', 'value': '0.6.2', 'type': 'string'}, {'name': 'env_future', 'value': '0.18.2', 'type': 'string'}, {'name': 'env_gevent', 'value': '1.4.0', 'type': 'string'}, {'name': 'env_gitdb', 'value': '4.0.5', 'type': 'string'}, {'name': 'env_GitPython', 'value': '3.1.3', 'type': 'string'}, {'name': 'env_glob2', 'value': '0.7', 'type': 'string'}, {'name': 'env_gmpy2', 'value': '2.0.8', 'type': 'string'}, {'name': 'env_greenlet', 'value': '0.4.15', 'type': 'string'}, {'name': 'env_h5py', 'value': '2.10.0', 'type': 'string'}, {'name': 'env_HeapDict', 'value': '1.0.1', 'type': 'string'}, {'name': 'env_html5lib', 'value': '1.0.1', 'type': 'string'}, {'name': 'env_hypothesis', 'value': '5.5.4', 'type': 'string'}, {'name': 'env_idna', 'value': '2.8', 'type': 'string'}, {'name': 'env_imageio', 'value': '2.6.1', 'type': 'string'}, {'name': 'env_imagesize', 'value': '1.2.0', 'type': 'string'}, {'name': 'env_importlib-metadata', 'value': '1.5.0', 'type': 'string'}, {'name': 'env_intervaltree', 'value': '3.0.2', 'type': 'string'}, {'name': 'env_ipykernel', 'value': '5.1.4', 'type': 'string'}, {'name': 'env_ipython', 'value': '7.12.0', 'type': 'string'}, {'name': 'env_ipython-genutils', 'value': '0.2.0', 'type': 'string'}, {'name': 'env_ipywidgets', 'value': '7.5.1', 'type': 'string'}, {'name': 'env_isort', 'value': '4.3.21', 'type': 'string'}, {'name': 'env_itsdangerous', 'value': '1.1.0', 'type': 'string'}, {'name': 'env_jdcal', 'value': '1.4.1', 'type': 'string'}, {'name': 'env_jedi', 'value': '0.14.1', 'type': 'string'}, {'name': 'env_jeepney', 'value': '0.4.2', 'type': 'string'}, {'name': 'env_Jinja2', 'value': '2.11.1', 'type': 'string'}, {'name': 'env_joblib', 'value': '0.14.1', 'type': 'string'}, {'name': 'env_json5', 'value': '0.9.1', 'type': 'string'}, {'name': 'env_jsonschema', 'value': '3.2.0', 'type': 'string'}, {'name': 'env_jupyter', 'value': '1.0.0', 'type': 'string'}, {'name': 'env_jupyter-client', 'value': '5.3.4', 'type': 'string'}, {'name': 'env_jupyter-console', 'value': '6.1.0', 'type': 'string'}, {'name': 'env_jupyter-core', 'value': '4.6.1', 'type': 'string'}, {'name': 'env_jupyter-telemetry', 'value': '0.0.5', 'type': 'string'}, {'name': 'env_jupyterhub', 'value': '1.1.0', 'type': 'string'}, {'name': 'env_jupyterlab', 'value': '1.2.6', 'type': 'string'}, {'name': 'env_jupyterlab-git', 'value': '0.20.0', 'type': 'string'}, {'name': 'env_jupyterlab-server', 'value': '1.0.6', 'type': 'string'}, {'name': 'env_keyring', 'value': '21.1.0', 'type': 'string'}, {'name': 'env_kiwisolver', 'value': '1.1.0', 'type': 'string'}, {'name': 'env_lazy-object-proxy', 'value': '1.4.3', 'type': 'string'}, {'name': 'env_libarchive-c', 'value': '2.8', 'type': 'string'}, {'name': 'env_lief', 'value': '0.9.0', 'type': 'string'}, {'name': 'env_llvmlite', 'value': '0.31.0', 'type': 'string'}, {'name': 'env_locket', 'value': '0.2.0', 'type': 'string'}, {'name': 'env_lxml', 'value': '4.5.0', 'type': 'string'}, {'name': 'env_Mako', 'value': '1.1.0', 'type': 'string'}, {'name': 'env_MarkupSafe', 'value': '1.1.1', 'type': 'string'}, {'name': 'env_matplotlib', 'value': '3.1.3', 'type': 'string'}, {'name': 'env_mccabe', 'value': '0.6.1', 'type': 'string'}, {'name': 'env_mistune', 'value': '0.8.4', 'type': 'string'}, {'name': 'env_mkl-fft', 'value': '1.0.15', 'type': 'string'}, {'name': 'env_mkl-random', 'value': '1.1.0', 'type': 'string'}, {'name': 'env_mkl-service', 'value': '2.3.0', 'type': 'string'}, {'name': 'env_mock', 'value': '4.0.1', 'type': 'string'}, {'name': 'env_more-itertools', 'value': '8.2.0', 'type': 'string'}, {'name': 'env_mpmath', 'value': '1.1.0', 'type': 'string'}, {'name': 'env_msgpack', 'value': '0.6.1', 'type': 'string'}, {'name': 'env_multipledispatch', 'value': '0.6.0', 'type': 'string'}, {'name': 'env_navigator-updater', 'value': '0.2.1', 'type': 'string'}, {'name': 'env_nbconvert', 'value': '5.6.1', 'type': 'string'}, {'name': 'env_nbdime', 'value': '2.0.0', 'type': 'string'}, {'name': 'env_nbformat', 'value': '5.0.4', 'type': 'string'}, {'name': 'env_networkx', 'value': '2.4', 'type': 'string'}, {'name': 'env_nltk', 'value': '3.4.5', 'type': 'string'}, {'name': 'env_nose', 'value': '1.3.7', 'type': 'string'}, {'name': 'env_notebook', 'value': '6.0.3', 'type': 'string'}, {'name': 'env_numba', 'value': '0.48.0', 'type': 'string'}, {'name': 'env_numexpr', 'value': '2.7.1', 'type': 'string'}, {'name': 'env_numpy', 'value': '1.18.1', 'type': 'string'}, {'name': 'env_numpydoc', 'value': '0.9.2', 'type': 'string'}, {'name': 'env_oauthlib', 'value': '3.0.1', 'type': 'string'}, {'name': 'env_olefile', 'value': '0.46', 'type': 'string'}, {'name': 'env_openpyxl', 'value': '3.0.3', 'type': 'string'}, {'name': 'env_packaging', 'value': '20.1', 'type': 'string'}, {'name': 'env_pamela', 'value': '1.0.0', 'type': 'string'}, {'name': 'env_pandas', 'value': '1.0.1', 'type': 'string'}, {'name': 'env_pandocfilters', 'value': '1.4.2', 'type': 'string'}, {'name': 'env_parso', 'value': '0.5.2', 'type': 'string'}, {'name': 'env_partd', 'value': '1.1.0', 'type': 'string'}, {'name': 'env_path', 'value': '13.1.0', 'type': 'string'}, {'name': 'env_pathlib2', 'value': '2.3.5', 'type': 'string'}, {'name': 'env_pathtools', 'value': '0.1.2', 'type': 'string'}, {'name': 'env_patsy', 'value': '0.5.1', 'type': 'string'}, {'name': 'env_pep8', 'value': '1.7.1', 'type': 'string'}, {'name': 'env_pexpect', 'value': '4.8.0', 'type': 'string'}, {'name': 'env_pickleshare', 'value': '0.7.5', 'type': 'string'}, {'name': 'env_picklezip-mm', 'value': '1.0', 'type': 'string'}, {'name': 'env_Pillow', 'value': '7.0.0', 'type': 'string'}, {'name': 'env_pip', 'value': '20.0.2', 'type': 'string'}, {'name': 'env_pkginfo', 'value': '1.5.0.1', 'type': 'string'}, {'name': 'env_pluggy', 'value': '0.13.1', 'type': 'string'}, {'name': 'env_ply', 'value': '3.11', 'type': 'string'}, {'name': 'env_prometheus-client', 'value': '0.7.1', 'type': 'string'}, {'name': 'env_prompt-toolkit', 'value': '3.0.3', 'type': 'string'}, {'name': 'env_psutil', 'value': '5.6.7', 'type': 'string'}, {'name': 'env_ptyprocess', 'value': '0.6.0', 'type': 'string'}, {'name': 'env_py', 'value': '1.8.1', 'type': 'string'}, {'name': 'env_pycodestyle', 'value': '2.5.0', 'type': 'string'}, {'name': 'env_pycosat', 'value': '0.6.3', 'type': 'string'}, {'name': 'env_pycparser', 'value': '2.19', 'type': 'string'}, {'name': 'env_pycrypto', 'value': '2.6.1', 'type': 'string'}, {'name': 'env_pycurl', 'value': '7.43.0.5', 'type': 'string'}, {'name': 'env_pydocstyle', 'value': '4.0.1', 'type': 'string'}, {'name': 'env_pyflakes', 'value': '2.1.1', 'type': 'string'}, {'name': 'env_Pygments', 'value': '2.5.2', 'type': 'string'}, {'name': 'env_PyJWT', 'value': '1.7.1', 'type': 'string'}, {'name': 'env_pylint', 'value': '2.4.4', 'type': 'string'}, {'name': 'env_pyodbc', 'value': '=4.0.0-unsupported', 'type': 'string'}, {'name': 'env_pyOpenSSL', 'value': '19.1.0', 'type': 'string'}, {'name': 'env_pyparsing', 'value': '2.4.6', 'type': 'string'}, {'name': 'env_pyrsistent', 'value': '0.15.7', 'type': 'string'}, {'name': 'env_PySocks', 'value': '1.7.1', 'type': 'string'}, {'name': 'env_pytest', 'value': '5.3.5', 'type': 'string'}, {'name': 'env_pytest-arraydiff', 'value': '0.3', 'type': 'string'}, {'name': 'env_pytest-astropy', 'value': '0.8.0', 'type': 'string'}, {'name': 'env_pytest-astropy-header', 'value': '0.1.2', 'type': 'string'}, {'name': 'env_pytest-doctestplus', 'value': '0.5.0', 'type': 'string'}, {'name': 'env_pytest-openfiles', 'value': '0.4.0', 'type': 'string'}, {'name': 'env_pytest-remotedata', 'value': '0.3.2', 'type': 'string'}, {'name': 'env_python-dateutil', 'value': '2.8.1', 'type': 'string'}, {'name': 'env_python-editor', 'value': '1.0.4', 'type': 'string'}, {'name': 'env_python-json-logger', 'value': '0.1.11', 'type': 'string'}, {'name': 'env_python-jsonrpc-server', 'value': '0.3.4', 'type': 'string'}, {'name': 'env_python-language-server', 'value': '0.31.7', 'type': 'string'}, {'name': 'env_pytz', 'value': '2019.3', 'type': 'string'}, {'name': 'env_PyWavelets', 'value': '1.1.1', 'type': 'string'}, {'name': 'env_pyxdg', 'value': '0.26', 'type': 'string'}, {'name': 'env_PyYAML', 'value': '5.3', 'type': 'string'}, {'name': 'env_pyzmq', 'value': '18.1.1', 'type': 'string'}, {'name': 'env_QDarkStyle', 'value': '2.8', 'type': 'string'}, {'name': 'env_QtAwesome', 'value': '0.6.1', 'type': 'string'}, {'name': 'env_qtconsole', 'value': '4.6.0', 'type': 'string'}, {'name': 'env_QtPy', 'value': '1.9.0', 'type': 'string'}, {'name': 'env_requests', 'value': '2.22.0', 'type': 'string'}, {'name': 'env_rope', 'value': '0.16.0', 'type': 'string'}, {'name': 'env_Rtree', 'value': '0.9.3', 'type': 'string'}, {'name': 'env_ruamel-yaml', 'value': '0.15.87', 'type': 'string'}, {'name': 'env_ruamel.yaml.clib', 'value': '0.2.0', 'type': 'string'}, {'name': 'env_sasctl', 'value': '1.5.3', 'type': 'string'}, {'name': 'env_scikit-image', 'value': '0.16.2', 'type': 'string'}, {'name': 'env_scikit-learn', 'value': '0.22.1', 'type': 'string'}, {'name': 'env_scipy', 'value': '1.4.1', 'type': 'string'}, {'name': 'env_seaborn', 'value': '0.10.0', 'type': 'string'}, {'name': 'env_SecretStorage', 'value': '3.1.2', 'type': 'string'}, {'name': 'env_Send2Trash', 'value': '1.5.0', 'type': 'string'}, {'name': 'env_setuptools', 'value': '45.2.0.post20200210', 'type': 'string'}, {'name': 'env_simplegeneric', 'value': '0.8.1', 'type': 'string'}, {'name': 'env_singledispatch', 'value': '3.4.0.3', 'type': 'string'}, {'name': 'env_six', 'value': '1.14.0', 'type': 'string'}, {'name': 'env_smmap', 'value': '3.0.4', 'type': 'string'}, {'name': 'env_snowballstemmer', 'value': '2.0.0', 'type': 'string'}, {'name': 'env_sortedcollections', 'value': '1.1.2', 'type': 'string'}, {'name': 'env_sortedcontainers', 'value': '2.1.0', 'type': 'string'}, {'name': 'env_soupsieve', 'value': '1.9.5', 'type': 'string'}, {'name': 'env_Sphinx', 'value': '2.4.0', 'type': 'string'}, {'name': 'env_sphinxcontrib-applehelp', 'value': '1.0.1', 'type': 'string'}, {'name': 'env_sphinxcontrib-devhelp', 'value': '1.0.1', 'type': 'string'}, {'name': 'env_sphinxcontrib-htmlhelp', 'value': '1.0.2', 'type': 'string'}, {'name': 'env_sphinxcontrib-jsmath', 'value': '1.0.1', 'type': 'string'}, {'name': 'env_sphinxcontrib-qthelp', 'value': '1.0.2', 'type': 'string'}, {'name': 'env_sphinxcontrib-serializinghtml', 'value': '1.1.3', 'type': 'string'}, {'name': 'env_sphinxcontrib-websupport', 'value': '1.2.0', 'type': 'string'}, {'name': 'env_spyder', 'value': '4.0.1', 'type': 'string'}, {'name': 'env_spyder-kernels', 'value': '1.8.1', 'type': 'string'}, {'name': 'env_SQLAlchemy', 'value': '1.3.13', 'type': 'string'}, {'name': 'env_statsmodels', 'value': '0.11.0', 'type': 'string'}, {'name': 'env_swat', 'value': '1.6.1', 'type': 'string'}, {'name': 'env_sympy', 'value': '1.5.1', 'type': 'string'}, {'name': 'env_tables', 'value': '3.6.1', 'type': 'string'}, {'name': 'env_tblib', 'value': '1.6.0', 'type': 'string'}, {'name': 'env_terminado', 'value': '0.8.3', 'type': 'string'}, {'name': 'env_testpath', 'value': '0.4.4', 'type': 'string'}, {'name': 'env_toolz', 'value': '0.10.0', 'type': 'string'}, {'name': 'env_tornado', 'value': '6.0.3', 'type': 'string'}, {'name': 'env_tqdm', 'value': '4.42.1', 'type': 'string'}, {'name': 'env_traitlets', 'value': '4.3.3', 'type': 'string'}, {'name': 'env_ujson', 'value': '1.35', 'type': 'string'}, {'name': 'env_unicodecsv', 'value': '0.14.1', 'type': 'string'}, {'name': 'env_urllib3', 'value': '1.25.8', 'type': 'string'}, {'name': 'env_watchdog', 'value': '0.10.2', 'type': 'string'}, {'name': 'env_wcwidth', 'value': '0.1.8', 'type': 'string'}, {'name': 'env_webencodings', 'value': '0.5.1', 'type': 'string'}, {'name': 'env_Werkzeug', 'value': '1.0.0', 'type': 'string'}, {'name': 'env_wheel', 'value': '0.34.2', 'type': 'string'}, {'name': 'env_widgetsnbextension', 'value': '3.5.1', 'type': 'string'}, {'name': 'env_wrapt', 'value': '1.11.2', 'type': 'string'}, {'name': 'env_wurlitzer', 'value': '2.0.0', 'type': 'string'}, {'name': 'env_xlrd', 'value': '1.2.0', 'type': 'string'}, {'name': 'env_XlsxWriter', 'value': '1.2.7', 'type': 'string'}, {'name': 'env_xlwt', 'value': '1.3.0', 'type': 'string'}, {'name': 'env_xmltodict', 'value': '0.12.0', 'type': 'string'}, {'name': 'env_yapf', 'value': '0.28.0', 'type': 'string'}, {'name': 'env_zict', 'value': '1.0.0', 'type': 'string'}, {'name': 'env_zipp', 'value': '2.2.0', 'type': 'string'}], 'inputVariables': [{'creationTimeStamp': '2020-07-21T09:39:39.343Z', 'modifiedTimeStamp': '2020-07-21T09:39:39.343Z', 'createdBy': 'viyademo01', 'modifiedBy': 'viyademo01', 'links': [{'method': 'GET', 'rel': 'up', 'href': '/modelRepository/models/85a7ddfc-8b39-4072-9ed7-565db327e97d/variables/4dd2ae32-745b-48bf-8539-6bc80629d2e8', 'uri': '/modelRepository/models/85a7ddfc-8b39-4072-9ed7-565db327e97d/variables', 'type': 'application/vnd.sas.collection', 'itemType': 'application/vnd.sas.models.variable'}, {'method': 'GET', 'rel': 'self', 'href': '/modelRepository/models/85a7ddfc-8b39-4072-9ed7-565db327e97d/variables/4dd2ae32-745b-48bf-8539-6bc80629d2e8', 'uri': '/modelRepository/models/85a7ddfc-8b39-4072-9ed7-565db327e97d/variables/4dd2ae32-745b-48bf-8539-6bc80629d2e8', 'type': 'application/vnd.sas.models.variable'}, {'method': 'PUT', 'rel': 'update', 'href': '/modelRepository/models/85a7ddfc-8b39-4072-9ed7-565db327e97d/variables/4dd2ae32-745b-48bf-8539-6bc80629d2e8', 'uri': '/modelRepository/models/85a7ddfc-8b39-4072-9ed7-565db327e97d/variables/4dd2ae32-745b-48bf-8539-6bc80629d2e8', 'type': 'application/vnd.sas.models.variable'}, {'method': 'DELETE', 'rel': 'delete', 'href': '/modelRepository/models/85a7ddfc-8b39-4072-9ed7-565db327e97d/variables/4dd2ae32-745b-48bf-8539-6bc80629d2e8', 'uri': '/modelRepository/models/85a7ddfc-8b39-4072-9ed7-565db327e97d/variables/4dd2ae32-745b-48bf-8539-6bc80629d2e8'}], 'version': 2, 'id': '4dd2ae32-745b-48bf-8539-6bc80629d2e8', 'name': 'CRIM', 'role': 'input', 'type': 'decimal'}, {'creationTimeStamp': '2020-07-21T09:39:39.343Z', 'modifiedTimeStamp': '2020-07-21T09:39:39.343Z', 'createdBy': 'viyademo01', 'modifiedBy': 'viyademo01', 'links': [{'method': 'GET', 'rel': 'up', 'href': '/modelRepository/models/85a7ddfc-8b39-4072-9ed7-565db327e97d/variables/28913477-f7d5-4e76-951a-7d43dbbb8fd1', 'uri': '/modelRepository/models/85a7ddfc-8b39-4072-9ed7-565db327e97d/variables', 'type': 'application/vnd.sas.collection', 'itemType': 'application/vnd.sas.models.variable'}, {'method': 'GET', 'rel': 'self', 'href': '/modelRepository/models/85a7ddfc-8b39-4072-9ed7-565db327e97d/variables/28913477-f7d5-4e76-951a-7d43dbbb8fd1', 'uri': '/modelRepository/models/85a7ddfc-8b39-4072-9ed7-565db327e97d/variables/28913477-f7d5-4e76-951a-7d43dbbb8fd1', 'type': 'application/vnd.sas.models.variable'}, {'method': 'PUT', 'rel': 'update', 'href': '/modelRepository/models/85a7ddfc-8b39-4072-9ed7-565db327e97d/variables/28913477-f7d5-4e76-951a-7d43dbbb8fd1', 'uri': '/modelRepository/models/85a7ddfc-8b39-4072-9ed7-565db327e97d/variables/28913477-f7d5-4e76-951a-7d43dbbb8fd1', 'type': 'application/vnd.sas.models.variable'}, {'method': 'DELETE', 'rel': 'delete', 'href': '/modelRepository/models/85a7ddfc-8b39-4072-9ed7-565db327e97d/variables/28913477-f7d5-4e76-951a-7d43dbbb8fd1', 'uri': '/modelRepository/models/85a7ddfc-8b39-4072-9ed7-565db327e97d/variables/28913477-f7d5-4e76-951a-7d43dbbb8fd1'}], 'version': 2, 'id': '28913477-f7d5-4e76-951a-7d43dbbb8fd1', 'name': 'ZN', 'role': 'input', 'type': 'decimal'}, {'creationTimeStamp': '2020-07-21T09:39:39.343Z', 'modifiedTimeStamp': '2020-07-21T09:39:39.343Z', 'createdBy': 'viyademo01', 'modifiedBy': 'viyademo01', 'links': [{'method': 'GET', 'rel': 'up', 'href': '/modelRepository/models/85a7ddfc-8b39-4072-9ed7-565db327e97d/variables/a6624bea-cd49-42d0-97aa-dd047432301d', 'uri': '/modelRepository/models/85a7ddfc-8b39-4072-9ed7-565db327e97d/variables', 'type': 'application/vnd.sas.collection', 'itemType': 'application/vnd.sas.models.variable'}, {'method': 'GET', 'rel': 'self', 'href': '/modelRepository/models/85a7ddfc-8b39-4072-9ed7-565db327e97d/variables/a6624bea-cd49-42d0-97aa-dd047432301d', 'uri': '/modelRepository/models/85a7ddfc-8b39-4072-9ed7-565db327e97d/variables/a6624bea-cd49-42d0-97aa-dd047432301d', 'type': 'application/vnd.sas.models.variable'}, {'method': 'PUT', 'rel': 'update', 'href': '/modelRepository/models/85a7ddfc-8b39-4072-9ed7-565db327e97d/variables/a6624bea-cd49-42d0-97aa-dd047432301d', 'uri': '/modelRepository/models/85a7ddfc-8b39-4072-9ed7-565db327e97d/variables/a6624bea-cd49-42d0-97aa-dd047432301d', 'type': 'application/vnd.sas.models.variable'}, {'method': 'DELETE', 'rel': 'delete', 'href': '/modelRepository/models/85a7ddfc-8b39-4072-9ed7-565db327e97d/variables/a6624bea-cd49-42d0-97aa-dd047432301d', 'uri': '/modelRepository/models/85a7ddfc-8b39-4072-9ed7-565db327e97d/variables/a6624bea-cd49-42d0-97aa-dd047432301d'}], 'version': 2, 'id': 'a6624bea-cd49-42d0-97aa-dd047432301d', 'name': 'INDUS', 'role': 'input', 'type': 'decimal'}, {'creationTimeStamp': '2020-07-21T09:39:39.343Z', 'modifiedTimeStamp': '2020-07-21T09:39:39.343Z', 'createdBy': 'viyademo01', 'modifiedBy': 'viyademo01', 'links': [{'method': 'GET', 'rel': 'up', 'href': '/modelRepository/models/85a7ddfc-8b39-4072-9ed7-565db327e97d/variables/2c38a201-a7f2-4ccc-8bc1-454b7324caf0', 'uri': '/modelRepository/models/85a7ddfc-8b39-4072-9ed7-565db327e97d/variables', 'type': 'application/vnd.sas.collection', 'itemType': 'application/vnd.sas.models.variable'}, {'method': 'GET', 'rel': 'self', 'href': '/modelRepository/models/85a7ddfc-8b39-4072-9ed7-565db327e97d/variables/2c38a201-a7f2-4ccc-8bc1-454b7324caf0', 'uri': '/modelRepository/models/85a7ddfc-8b39-4072-9ed7-565db327e97d/variables/2c38a201-a7f2-4ccc-8bc1-454b7324caf0', 'type': 'application/vnd.sas.models.variable'}, {'method': 'PUT', 'rel': 'update', 'href': '/modelRepository/models/85a7ddfc-8b39-4072-9ed7-565db327e97d/variables/2c38a201-a7f2-4ccc-8bc1-454b7324caf0', 'uri': '/modelRepository/models/85a7ddfc-8b39-4072-9ed7-565db327e97d/variables/2c38a201-a7f2-4ccc-8bc1-454b7324caf0', 'type': 'application/vnd.sas.models.variable'}, {'method': 'DELETE', 'rel': 'delete', 'href': '/modelRepository/models/85a7ddfc-8b39-4072-9ed7-565db327e97d/variables/2c38a201-a7f2-4ccc-8bc1-454b7324caf0', 'uri': '/modelRepository/models/85a7ddfc-8b39-4072-9ed7-565db327e97d/variables/2c38a201-a7f2-4ccc-8bc1-454b7324caf0'}], 'version': 2, 'id': '2c38a201-a7f2-4ccc-8bc1-454b7324caf0', 'name': 'CHAS', 'role': 'input', 'type': 'decimal'}, {'creationTimeStamp': '2020-07-21T09:39:39.343Z', 'modifiedTimeStamp': '2020-07-21T09:39:39.343Z', 'createdBy': 'viyademo01', 'modifiedBy': 'viyademo01', 'links': [{'method': 'GET', 'rel': 'up', 'href': '/modelRepository/models/85a7ddfc-8b39-4072-9ed7-565db327e97d/variables/a1d7bc01-248e-4740-a8ba-26432e642d80', 'uri': '/modelRepository/models/85a7ddfc-8b39-4072-9ed7-565db327e97d/variables', 'type': 'application/vnd.sas.collection', 'itemType': 'application/vnd.sas.models.variable'}, {'method': 'GET', 'rel': 'self', 'href': '/modelRepository/models/85a7ddfc-8b39-4072-9ed7-565db327e97d/variables/a1d7bc01-248e-4740-a8ba-26432e642d80', 'uri': '/modelRepository/models/85a7ddfc-8b39-4072-9ed7-565db327e97d/variables/a1d7bc01-248e-4740-a8ba-26432e642d80', 'type': 'application/vnd.sas.models.variable'}, {'method': 'PUT', 'rel': 'update', 'href': '/modelRepository/models/85a7ddfc-8b39-4072-9ed7-565db327e97d/variables/a1d7bc01-248e-4740-a8ba-26432e642d80', 'uri': '/modelRepository/models/85a7ddfc-8b39-4072-9ed7-565db327e97d/variables/a1d7bc01-248e-4740-a8ba-26432e642d80', 'type': 'application/vnd.sas.models.variable'}, {'method': 'DELETE', 'rel': 'delete', 'href': '/modelRepository/models/85a7ddfc-8b39-4072-9ed7-565db327e97d/variables/a1d7bc01-248e-4740-a8ba-26432e642d80', 'uri': '/modelRepository/models/85a7ddfc-8b39-4072-9ed7-565db327e97d/variables/a1d7bc01-248e-4740-a8ba-26432e642d80'}], 'version': 2, 'id': 'a1d7bc01-248e-4740-a8ba-26432e642d80', 'name': 'NOX', 'role': 'input', 'type': 'decimal'}, {'creationTimeStamp': '2020-07-21T09:39:39.343Z', 'modifiedTimeStamp': '2020-07-21T09:39:39.343Z', 'createdBy': 'viyademo01', 'modifiedBy': 'viyademo01', 'links': [{'method': 'GET', 'rel': 'up', 'href': '/modelRepository/models/85a7ddfc-8b39-4072-9ed7-565db327e97d/variables/be478234-3d93-4db7-a01a-001fc4ed4a07', 'uri': '/modelRepository/models/85a7ddfc-8b39-4072-9ed7-565db327e97d/variables', 'type': 'application/vnd.sas.collection', 'itemType': 'application/vnd.sas.models.variable'}, {'method': 'GET', 'rel': 'self', 'href': '/modelRepository/models/85a7ddfc-8b39-4072-9ed7-565db327e97d/variables/be478234-3d93-4db7-a01a-001fc4ed4a07', 'uri': '/modelRepository/models/85a7ddfc-8b39-4072-9ed7-565db327e97d/variables/be478234-3d93-4db7-a01a-001fc4ed4a07', 'type': 'application/vnd.sas.models.variable'}, {'method': 'PUT', 'rel': 'update', 'href': '/modelRepository/models/85a7ddfc-8b39-4072-9ed7-565db327e97d/variables/be478234-3d93-4db7-a01a-001fc4ed4a07', 'uri': '/modelRepository/models/85a7ddfc-8b39-4072-9ed7-565db327e97d/variables/be478234-3d93-4db7-a01a-001fc4ed4a07', 'type': 'application/vnd.sas.models.variable'}, {'method': 'DELETE', 'rel': 'delete', 'href': '/modelRepository/models/85a7ddfc-8b39-4072-9ed7-565db327e97d/variables/be478234-3d93-4db7-a01a-001fc4ed4a07', 'uri': '/modelRepository/models/85a7ddfc-8b39-4072-9ed7-565db327e97d/variables/be478234-3d93-4db7-a01a-001fc4ed4a07'}], 'version': 2, 'id': 'be478234-3d93-4db7-a01a-001fc4ed4a07', 'name': 'RM', 'role': 'input', 'type': 'decimal'}, {'creationTimeStamp': '2020-07-21T09:39:39.343Z', 'modifiedTimeStamp': '2020-07-21T09:39:39.343Z', 'createdBy': 'viyademo01', 'modifiedBy': 'viyademo01', 'links': [{'method': 'GET', 'rel': 'up', 'href': '/modelRepository/models/85a7ddfc-8b39-4072-9ed7-565db327e97d/variables/f4008b1f-fc6d-4341-b68b-4e8f3b82c7bb', 'uri': '/modelRepository/models/85a7ddfc-8b39-4072-9ed7-565db327e97d/variables', 'type': 'application/vnd.sas.collection', 'itemType': 'application/vnd.sas.models.variable'}, {'method': 'GET', 'rel': 'self', 'href': '/modelRepository/models/85a7ddfc-8b39-4072-9ed7-565db327e97d/variables/f4008b1f-fc6d-4341-b68b-4e8f3b82c7bb', 'uri': '/modelRepository/models/85a7ddfc-8b39-4072-9ed7-565db327e97d/variables/f4008b1f-fc6d-4341-b68b-4e8f3b82c7bb', 'type': 'application/vnd.sas.models.variable'}, {'method': 'PUT', 'rel': 'update', 'href': '/modelRepository/models/85a7ddfc-8b39-4072-9ed7-565db327e97d/variables/f4008b1f-fc6d-4341-b68b-4e8f3b82c7bb', 'uri': '/modelRepository/models/85a7ddfc-8b39-4072-9ed7-565db327e97d/variables/f4008b1f-fc6d-4341-b68b-4e8f3b82c7bb', 'type': 'application/vnd.sas.models.variable'}, {'method': 'DELETE', 'rel': 'delete', 'href': '/modelRepository/models/85a7ddfc-8b39-4072-9ed7-565db327e97d/variables/f4008b1f-fc6d-4341-b68b-4e8f3b82c7bb', 'uri': '/modelRepository/models/85a7ddfc-8b39-4072-9ed7-565db327e97d/variables/f4008b1f-fc6d-4341-b68b-4e8f3b82c7bb'}], 'version': 2, 'id': 'f4008b1f-fc6d-4341-b68b-4e8f3b82c7bb', 'name': 'AGE', 'role': 'input', 'type': 'decimal'}, {'creationTimeStamp': '2020-07-21T09:39:39.343Z', 'modifiedTimeStamp': '2020-07-21T09:39:39.343Z', 'createdBy': 'viyademo01', 'modifiedBy': 'viyademo01', 'links': [{'method': 'GET', 'rel': 'up', 'href': '/modelRepository/models/85a7ddfc-8b39-4072-9ed7-565db327e97d/variables/4604bf74-6863-4029-8f1a-73faa2c5c67e', 'uri': '/modelRepository/models/85a7ddfc-8b39-4072-9ed7-565db327e97d/variables', 'type': 'application/vnd.sas.collection', 'itemType': 'application/vnd.sas.models.variable'}, {'method': 'GET', 'rel': 'self', 'href': '/modelRepository/models/85a7ddfc-8b39-4072-9ed7-565db327e97d/variables/4604bf74-6863-4029-8f1a-73faa2c5c67e', 'uri': '/modelRepository/models/85a7ddfc-8b39-4072-9ed7-565db327e97d/variables/4604bf74-6863-4029-8f1a-73faa2c5c67e', 'type': 'application/vnd.sas.models.variable'}, {'method': 'PUT', 'rel': 'update', 'href': '/modelRepository/models/85a7ddfc-8b39-4072-9ed7-565db327e97d/variables/4604bf74-6863-4029-8f1a-73faa2c5c67e', 'uri': '/modelRepository/models/85a7ddfc-8b39-4072-9ed7-565db327e97d/variables/4604bf74-6863-4029-8f1a-73faa2c5c67e', 'type': 'application/vnd.sas.models.variable'}, {'method': 'DELETE', 'rel': 'delete', 'href': '/modelRepository/models/85a7ddfc-8b39-4072-9ed7-565db327e97d/variables/4604bf74-6863-4029-8f1a-73faa2c5c67e', 'uri': '/modelRepository/models/85a7ddfc-8b39-4072-9ed7-565db327e97d/variables/4604bf74-6863-4029-8f1a-73faa2c5c67e'}], 'version': 2, 'id': '4604bf74-6863-4029-8f1a-73faa2c5c67e', 'name': 'DIS', 'role': 'input', 'type': 'decimal'}, {'creationTimeStamp': '2020-07-21T09:39:39.343Z', 'modifiedTimeStamp': '2020-07-21T09:39:39.343Z', 'createdBy': 'viyademo01', 'modifiedBy': 'viyademo01', 'links': [{'method': 'GET', 'rel': 'up', 'href': '/modelRepository/models/85a7ddfc-8b39-4072-9ed7-565db327e97d/variables/de178e44-96b0-4f46-88dd-fc6dcfc6368e', 'uri': '/modelRepository/models/85a7ddfc-8b39-4072-9ed7-565db327e97d/variables', 'type': 'application/vnd.sas.collection', 'itemType': 'application/vnd.sas.models.variable'}, {'method': 'GET', 'rel': 'self', 'href': '/modelRepository/models/85a7ddfc-8b39-4072-9ed7-565db327e97d/variables/de178e44-96b0-4f46-88dd-fc6dcfc6368e', 'uri': '/modelRepository/models/85a7ddfc-8b39-4072-9ed7-565db327e97d/variables/de178e44-96b0-4f46-88dd-fc6dcfc6368e', 'type': 'application/vnd.sas.models.variable'}, {'method': 'PUT', 'rel': 'update', 'href': '/modelRepository/models/85a7ddfc-8b39-4072-9ed7-565db327e97d/variables/de178e44-96b0-4f46-88dd-fc6dcfc6368e', 'uri': '/modelRepository/models/85a7ddfc-8b39-4072-9ed7-565db327e97d/variables/de178e44-96b0-4f46-88dd-fc6dcfc6368e', 'type': 'application/vnd.sas.models.variable'}, {'method': 'DELETE', 'rel': 'delete', 'href': '/modelRepository/models/85a7ddfc-8b39-4072-9ed7-565db327e97d/variables/de178e44-96b0-4f46-88dd-fc6dcfc6368e', 'uri': '/modelRepository/models/85a7ddfc-8b39-4072-9ed7-565db327e97d/variables/de178e44-96b0-4f46-88dd-fc6dcfc6368e'}], 'version': 2, 'id': 'de178e44-96b0-4f46-88dd-fc6dcfc6368e', 'name': 'RAD', 'role': 'input', 'type': 'decimal'}, {'creationTimeStamp': '2020-07-21T09:39:39.343Z', 'modifiedTimeStamp': '2020-07-21T09:39:39.343Z', 'createdBy': 'viyademo01', 'modifiedBy': 'viyademo01', 'links': [{'method': 'GET', 'rel': 'up', 'href': '/modelRepository/models/85a7ddfc-8b39-4072-9ed7-565db327e97d/variables/aba8edee-e7ec-4249-989e-2e037cc03c71', 'uri': '/modelRepository/models/85a7ddfc-8b39-4072-9ed7-565db327e97d/variables', 'type': 'application/vnd.sas.collection', 'itemType': 'application/vnd.sas.models.variable'}, {'method': 'GET', 'rel': 'self', 'href': '/modelRepository/models/85a7ddfc-8b39-4072-9ed7-565db327e97d/variables/aba8edee-e7ec-4249-989e-2e037cc03c71', 'uri': '/modelRepository/models/85a7ddfc-8b39-4072-9ed7-565db327e97d/variables/aba8edee-e7ec-4249-989e-2e037cc03c71', 'type': 'application/vnd.sas.models.variable'}, {'method': 'PUT', 'rel': 'update', 'href': '/modelRepository/models/85a7ddfc-8b39-4072-9ed7-565db327e97d/variables/aba8edee-e7ec-4249-989e-2e037cc03c71', 'uri': '/modelRepository/models/85a7ddfc-8b39-4072-9ed7-565db327e97d/variables/aba8edee-e7ec-4249-989e-2e037cc03c71', 'type': 'application/vnd.sas.models.variable'}, {'method': 'DELETE', 'rel': 'delete', 'href': '/modelRepository/models/85a7ddfc-8b39-4072-9ed7-565db327e97d/variables/aba8edee-e7ec-4249-989e-2e037cc03c71', 'uri': '/modelRepository/models/85a7ddfc-8b39-4072-9ed7-565db327e97d/variables/aba8edee-e7ec-4249-989e-2e037cc03c71'}], 'version': 2, 'id': 'aba8edee-e7ec-4249-989e-2e037cc03c71', 'name': 'TAX', 'role': 'input', 'type': 'decimal'}, {'creationTimeStamp': '2020-07-21T09:39:39.343Z', 'modifiedTimeStamp': '2020-07-21T09:39:39.343Z', 'createdBy': 'viyademo01', 'modifiedBy': 'viyademo01', 'links': [{'method': 'GET', 'rel': 'up', 'href': '/modelRepository/models/85a7ddfc-8b39-4072-9ed7-565db327e97d/variables/05d8f80d-a9e2-4f27-a24d-90c07dc2a114', 'uri': '/modelRepository/models/85a7ddfc-8b39-4072-9ed7-565db327e97d/variables', 'type': 'application/vnd.sas.collection', 'itemType': 'application/vnd.sas.models.variable'}, {'method': 'GET', 'rel': 'self', 'href': '/modelRepository/models/85a7ddfc-8b39-4072-9ed7-565db327e97d/variables/05d8f80d-a9e2-4f27-a24d-90c07dc2a114', 'uri': '/modelRepository/models/85a7ddfc-8b39-4072-9ed7-565db327e97d/variables/05d8f80d-a9e2-4f27-a24d-90c07dc2a114', 'type': 'application/vnd.sas.models.variable'}, {'method': 'PUT', 'rel': 'update', 'href': '/modelRepository/models/85a7ddfc-8b39-4072-9ed7-565db327e97d/variables/05d8f80d-a9e2-4f27-a24d-90c07dc2a114', 'uri': '/modelRepository/models/85a7ddfc-8b39-4072-9ed7-565db327e97d/variables/05d8f80d-a9e2-4f27-a24d-90c07dc2a114', 'type': 'application/vnd.sas.models.variable'}, {'method': 'DELETE', 'rel': 'delete', 'href': '/modelRepository/models/85a7ddfc-8b39-4072-9ed7-565db327e97d/variables/05d8f80d-a9e2-4f27-a24d-90c07dc2a114', 'uri': '/modelRepository/models/85a7ddfc-8b39-4072-9ed7-565db327e97d/variables/05d8f80d-a9e2-4f27-a24d-90c07dc2a114'}], 'version': 2, 'id': '05d8f80d-a9e2-4f27-a24d-90c07dc2a114', 'name': 'PTRATIO', 'role': 'input', 'type': 'decimal'}, {'creationTimeStamp': '2020-07-21T09:39:39.343Z', 'modifiedTimeStamp': '2020-07-21T09:39:39.343Z', 'createdBy': 'viyademo01', 'modifiedBy': 'viyademo01', 'links': [{'method': 'GET', 'rel': 'up', 'href': '/modelRepository/models/85a7ddfc-8b39-4072-9ed7-565db327e97d/variables/542b4396-b97f-48b2-8221-f97ae4c887ed', 'uri': '/modelRepository/models/85a7ddfc-8b39-4072-9ed7-565db327e97d/variables', 'type': 'application/vnd.sas.collection', 'itemType': 'application/vnd.sas.models.variable'}, {'method': 'GET', 'rel': 'self', 'href': '/modelRepository/models/85a7ddfc-8b39-4072-9ed7-565db327e97d/variables/542b4396-b97f-48b2-8221-f97ae4c887ed', 'uri': '/modelRepository/models/85a7ddfc-8b39-4072-9ed7-565db327e97d/variables/542b4396-b97f-48b2-8221-f97ae4c887ed', 'type': 'application/vnd.sas.models.variable'}, {'method': 'PUT', 'rel': 'update', 'href': '/modelRepository/models/85a7ddfc-8b39-4072-9ed7-565db327e97d/variables/542b4396-b97f-48b2-8221-f97ae4c887ed', 'uri': '/modelRepository/models/85a7ddfc-8b39-4072-9ed7-565db327e97d/variables/542b4396-b97f-48b2-8221-f97ae4c887ed', 'type': 'application/vnd.sas.models.variable'}, {'method': 'DELETE', 'rel': 'delete', 'href': '/modelRepository/models/85a7ddfc-8b39-4072-9ed7-565db327e97d/variables/542b4396-b97f-48b2-8221-f97ae4c887ed', 'uri': '/modelRepository/models/85a7ddfc-8b39-4072-9ed7-565db327e97d/variables/542b4396-b97f-48b2-8221-f97ae4c887ed'}], 'version': 2, 'id': '542b4396-b97f-48b2-8221-f97ae4c887ed', 'name': 'B', 'role': 'input', 'type': 'decimal'}, {'creationTimeStamp': '2020-07-21T09:39:39.343Z', 'modifiedTimeStamp': '2020-07-21T09:39:39.343Z', 'createdBy': 'viyademo01', 'modifiedBy': 'viyademo01', 'links': [{'method': 'GET', 'rel': 'up', 'href': '/modelRepository/models/85a7ddfc-8b39-4072-9ed7-565db327e97d/variables/bc7e8dae-c78c-4d30-861d-f53a4b014716', 'uri': '/modelRepository/models/85a7ddfc-8b39-4072-9ed7-565db327e97d/variables', 'type': 'application/vnd.sas.collection', 'itemType': 'application/vnd.sas.models.variable'}, {'method': 'GET', 'rel': 'self', 'href': '/modelRepository/models/85a7ddfc-8b39-4072-9ed7-565db327e97d/variables/bc7e8dae-c78c-4d30-861d-f53a4b014716', 'uri': '/modelRepository/models/85a7ddfc-8b39-4072-9ed7-565db327e97d/variables/bc7e8dae-c78c-4d30-861d-f53a4b014716', 'type': 'application/vnd.sas.models.variable'}, {'method': 'PUT', 'rel': 'update', 'href': '/modelRepository/models/85a7ddfc-8b39-4072-9ed7-565db327e97d/variables/bc7e8dae-c78c-4d30-861d-f53a4b014716', 'uri': '/modelRepository/models/85a7ddfc-8b39-4072-9ed7-565db327e97d/variables/bc7e8dae-c78c-4d30-861d-f53a4b014716', 'type': 'application/vnd.sas.models.variable'}, {'method': 'DELETE', 'rel': 'delete', 'href': '/modelRepository/models/85a7ddfc-8b39-4072-9ed7-565db327e97d/variables/bc7e8dae-c78c-4d30-861d-f53a4b014716', 'uri': '/modelRepository/models/85a7ddfc-8b39-4072-9ed7-565db327e97d/variables/bc7e8dae-c78c-4d30-861d-f53a4b014716'}], 'version': 2, 'id': 'bc7e8dae-c78c-4d30-861d-f53a4b014716', 'name': 'LSTAT', 'role': 'input', 'type': 'decimal'}], 'outputVariables': [{'creationTimeStamp': '2020-07-21T09:39:39.343Z', 'modifiedTimeStamp': '2020-07-21T09:39:39.343Z', 'createdBy': 'viyademo01', 'modifiedBy': 'viyademo01', 'links': [{'method': 'GET', 'rel': 'up', 'href': '/modelRepository/models/85a7ddfc-8b39-4072-9ed7-565db327e97d/variables/80e84b4f-4fb3-41bb-95b0-98e7306de464', 'uri': '/modelRepository/models/85a7ddfc-8b39-4072-9ed7-565db327e97d/variables', 'type': 'application/vnd.sas.collection', 'itemType': 'application/vnd.sas.models.variable'}, {'method': 'GET', 'rel': 'self', 'href': '/modelRepository/models/85a7ddfc-8b39-4072-9ed7-565db327e97d/variables/80e84b4f-4fb3-41bb-95b0-98e7306de464', 'uri': '/modelRepository/models/85a7ddfc-8b39-4072-9ed7-565db327e97d/variables/80e84b4f-4fb3-41bb-95b0-98e7306de464', 'type': 'application/vnd.sas.models.variable'}, {'method': 'PUT', 'rel': 'update', 'href': '/modelRepository/models/85a7ddfc-8b39-4072-9ed7-565db327e97d/variables/80e84b4f-4fb3-41bb-95b0-98e7306de464', 'uri': '/modelRepository/models/85a7ddfc-8b39-4072-9ed7-565db327e97d/variables/80e84b4f-4fb3-41bb-95b0-98e7306de464', 'type': 'application/vnd.sas.models.variable'}, {'method': 'DELETE', 'rel': 'delete', 'href': '/modelRepository/models/85a7ddfc-8b39-4072-9ed7-565db327e97d/variables/80e84b4f-4fb3-41bb-95b0-98e7306de464', 'uri': '/modelRepository/models/85a7ddfc-8b39-4072-9ed7-565db327e97d/variables/80e84b4f-4fb3-41bb-95b0-98e7306de464'}], 'version': 2, 'id': '80e84b4f-4fb3-41bb-95b0-98e7306de464', 'name': 'var1', 'role': 'output', 'type': 'decimal'}], 'modelVersions': [], 'modelVersionName': '1.0', 'retrainable': False, 'tags': [], 'globalTags': []})"
      ]
     },
     "execution_count": 8,
     "metadata": {},
     "output_type": "execute_result"
    }
   ],
   "source": [
    "# Fit a linear regression model using sci-kit learn\n",
    "lm = LinearRegression()\n",
    "lm.fit(X_train, y_train)\n",
    "\n",
    "# Register the model in SAS Model Manager\n",
    "register_model(lm,\n",
    "               model_name,\n",
    "               input=X_train,       # Use X to determine model inputs\n",
    "               project=project,     # Register in \"Boston Housing\" project\n",
    "               force=True)          # Create project if it doesn't exist\n"
   ]
  },
  {
   "cell_type": "code",
   "execution_count": 9,
   "metadata": {},
   "outputs": [],
   "source": [
    "# Update project properties.  Target variable must be set before performance\n",
    "# definitions can be created.\n",
    "project = mr.get_project(project)\n",
    "project['targetVariable'] = 'Price'\n",
    "project = mr.update_project(project)"
   ]
  },
  {
   "cell_type": "code",
   "execution_count": 11,
   "metadata": {},
   "outputs": [],
   "source": [
    "# Publish the model to the real-time scoring engine\n",
    "module_lm = publish_model(model_name, 'maslocal')"
   ]
  },
  {
   "cell_type": "code",
   "execution_count": 16,
   "metadata": {},
   "outputs": [
    {
     "data": {
      "text/plain": [
       "CRIM         0.04417\n",
       "ZN          70.00000\n",
       "INDUS        2.24000\n",
       "CHAS         0.00000\n",
       "NOX          0.40000\n",
       "RM           6.87100\n",
       "AGE         47.40000\n",
       "DIS          7.82780\n",
       "RAD          5.00000\n",
       "TAX        358.00000\n",
       "PTRATIO     14.80000\n",
       "B          390.86000\n",
       "LSTAT        6.07000\n",
       "Name: 300, dtype: float64"
      ]
     },
     "execution_count": 16,
     "metadata": {},
     "output_type": "execute_result"
    }
   ],
   "source": [
    "# Select the first row of testing data\n",
    "x = X_test.iloc[0, :]\n",
    "x"
   ]
  },
  {
   "cell_type": "code",
   "execution_count": 17,
   "metadata": {},
   "outputs": [
    {
     "name": "stdout",
     "output_type": "stream",
     "text": [
      "None\n"
     ]
    }
   ],
   "source": [
    "# Call the published module and score the record\n",
    "result = module_lm.predict(x)\n",
    "print(result)"
   ]
  },
  {
   "cell_type": "code",
   "execution_count": 18,
   "metadata": {},
   "outputs": [
    {
     "data": {
      "text/plain": [
       "DecisionTreeRegressor(ccp_alpha=0.0, criterion='mse', max_depth=None,\n",
       "                      max_features=None, max_leaf_nodes=None,\n",
       "                      min_impurity_decrease=0.0, min_impurity_split=None,\n",
       "                      min_samples_leaf=1, min_samples_split=2,\n",
       "                      min_weight_fraction_leaf=0.0, presort='deprecated',\n",
       "                      random_state=None, splitter='best')"
      ]
     },
     "execution_count": 18,
     "metadata": {},
     "output_type": "execute_result"
    }
   ],
   "source": [
    "# Build a second model\n",
    "dt = DecisionTreeRegressor()\n",
    "dt.fit(X_train, y_train)"
   ]
  },
  {
   "cell_type": "code",
   "execution_count": 19,
   "metadata": {},
   "outputs": [],
   "source": [
    "# Register the second model in Model Manager\n",
    "model_dt = register_model(dt, 'Decision Tree', project, input=X)"
   ]
  },
  {
   "cell_type": "code",
   "execution_count": 21,
   "metadata": {},
   "outputs": [],
   "source": [
    "# Publish from Model Manager -> MAS\n",
    "module_dt = publish_model(model_dt, 'maslocal')"
   ]
  },
  {
   "cell_type": "code",
   "execution_count": 22,
   "metadata": {},
   "outputs": [
    {
     "name": "stdout",
     "output_type": "stream",
     "text": [
      "None\n"
     ]
    }
   ],
   "source": [
    "# Use MAS to score some new data\n",
    "result = module_dt.predict(x)\n",
    "print(result)"
   ]
  },
  {
   "cell_type": "code",
   "execution_count": 24,
   "metadata": {},
   "outputs": [
    {
     "ename": "HTTPError",
     "evalue": "HTTP Error 409: {\"errorCode\":21307,\"message\":\"The performance task is already running.\",\"details\":[\"traceId: 1b653d97d9682bbb\",\"path: /modelManagement/performanceTasks/573a5799-c7e5-4e66-bcd1-607f585b5f65\"],\"links\":[],\"version\":2,\"httpStatusCode\":409}",
     "output_type": "error",
     "traceback": [
      "\u001b[0;31m---------------------------------------------------------------------------\u001b[0m",
      "\u001b[0;31mHTTPError\u001b[0m                                 Traceback (most recent call last)",
      "\u001b[0;32m<ipython-input-24-9fe6fad7ccc0>\u001b[0m in \u001b[0;36m<module>\u001b[0;34m\u001b[0m\n\u001b[1;32m     14\u001b[0m \u001b[0;32mfor\u001b[0m \u001b[0mperiod\u001b[0m \u001b[0;32min\u001b[0m \u001b[0;34m(\u001b[0m\u001b[0;34m'q1'\u001b[0m\u001b[0;34m,\u001b[0m \u001b[0;34m'q2'\u001b[0m\u001b[0;34m,\u001b[0m \u001b[0;34m'q3'\u001b[0m\u001b[0;34m,\u001b[0m \u001b[0;34m'q4'\u001b[0m\u001b[0;34m)\u001b[0m\u001b[0;34m:\u001b[0m\u001b[0;34m\u001b[0m\u001b[0;34m\u001b[0m\u001b[0m\n\u001b[1;32m     15\u001b[0m     \u001b[0msample\u001b[0m \u001b[0;34m=\u001b[0m \u001b[0mperf_df\u001b[0m\u001b[0;34m.\u001b[0m\u001b[0msample\u001b[0m\u001b[0;34m(\u001b[0m\u001b[0mfrac\u001b[0m\u001b[0;34m=\u001b[0m\u001b[0;36m0.2\u001b[0m\u001b[0;34m)\u001b[0m\u001b[0;34m\u001b[0m\u001b[0;34m\u001b[0m\u001b[0m\n\u001b[0;32m---> 16\u001b[0;31m     \u001b[0mupdate_model_performance\u001b[0m\u001b[0;34m(\u001b[0m\u001b[0msample\u001b[0m\u001b[0;34m,\u001b[0m \u001b[0mmodel_name\u001b[0m\u001b[0;34m,\u001b[0m \u001b[0mperiod\u001b[0m\u001b[0;34m)\u001b[0m\u001b[0;34m\u001b[0m\u001b[0;34m\u001b[0m\u001b[0m\n\u001b[0m",
      "\u001b[0;32m/opt/anaconda/lib/python3.7/site-packages/sasctl/tasks.py\u001b[0m in \u001b[0;36mupdate_model_performance\u001b[0;34m(data, model, label, refresh)\u001b[0m\n\u001b[1;32m    691\u001b[0m     \u001b[0;31m# Execute the definition if requested\u001b[0m\u001b[0;34m\u001b[0m\u001b[0;34m\u001b[0m\u001b[0;34m\u001b[0m\u001b[0m\n\u001b[1;32m    692\u001b[0m     \u001b[0;32mif\u001b[0m \u001b[0mrefresh\u001b[0m\u001b[0;34m:\u001b[0m\u001b[0;34m\u001b[0m\u001b[0;34m\u001b[0m\u001b[0m\n\u001b[0;32m--> 693\u001b[0;31m         \u001b[0mmm\u001b[0m\u001b[0;34m.\u001b[0m\u001b[0mexecute_performance_definition\u001b[0m\u001b[0;34m(\u001b[0m\u001b[0mperf_def\u001b[0m\u001b[0;34m)\u001b[0m\u001b[0;34m\u001b[0m\u001b[0;34m\u001b[0m\u001b[0m\n\u001b[0m\u001b[1;32m    694\u001b[0m \u001b[0;34m\u001b[0m\u001b[0m\n\u001b[1;32m    695\u001b[0m     \u001b[0;32mreturn\u001b[0m \u001b[0mtbl\u001b[0m\u001b[0;34m\u001b[0m\u001b[0;34m\u001b[0m\u001b[0m\n",
      "\u001b[0;32m/opt/anaconda/lib/python3.7/site-packages/sasctl/_services/model_management.py\u001b[0m in \u001b[0;36mexecute_performance_definition\u001b[0;34m(cls, definition)\u001b[0m\n\u001b[1;32m    242\u001b[0m         \u001b[0mdefinition\u001b[0m \u001b[0;34m=\u001b[0m \u001b[0mcls\u001b[0m\u001b[0;34m.\u001b[0m\u001b[0mget_performance_definition\u001b[0m\u001b[0;34m(\u001b[0m\u001b[0mdefinition\u001b[0m\u001b[0;34m)\u001b[0m\u001b[0;34m\u001b[0m\u001b[0;34m\u001b[0m\u001b[0m\n\u001b[1;32m    243\u001b[0m \u001b[0;34m\u001b[0m\u001b[0m\n\u001b[0;32m--> 244\u001b[0;31m         \u001b[0;32mreturn\u001b[0m \u001b[0mcls\u001b[0m\u001b[0;34m.\u001b[0m\u001b[0mpost\u001b[0m\u001b[0;34m(\u001b[0m\u001b[0;34m'/performanceTasks/%s'\u001b[0m \u001b[0;34m%\u001b[0m \u001b[0mdefinition\u001b[0m\u001b[0;34m.\u001b[0m\u001b[0mid\u001b[0m\u001b[0;34m)\u001b[0m\u001b[0;34m\u001b[0m\u001b[0;34m\u001b[0m\u001b[0m\n\u001b[0m\u001b[1;32m    245\u001b[0m \u001b[0;34m\u001b[0m\u001b[0m\n\u001b[1;32m    246\u001b[0m     \u001b[0;34m@\u001b[0m\u001b[0mclassmethod\u001b[0m\u001b[0;34m\u001b[0m\u001b[0;34m\u001b[0m\u001b[0m\n",
      "\u001b[0;32m/opt/anaconda/lib/python3.7/site-packages/sasctl/_services/service.py\u001b[0m in \u001b[0;36mpost\u001b[0;34m(cls, *args, **kwargs)\u001b[0m\n\u001b[1;32m    115\u001b[0m     \u001b[0;32mdef\u001b[0m \u001b[0mpost\u001b[0m\u001b[0;34m(\u001b[0m\u001b[0mcls\u001b[0m\u001b[0;34m,\u001b[0m \u001b[0;34m*\u001b[0m\u001b[0margs\u001b[0m\u001b[0;34m,\u001b[0m \u001b[0;34m**\u001b[0m\u001b[0mkwargs\u001b[0m\u001b[0;34m)\u001b[0m\u001b[0;34m:\u001b[0m\u001b[0;34m\u001b[0m\u001b[0;34m\u001b[0m\u001b[0m\n\u001b[1;32m    116\u001b[0m         \u001b[0;34m\"\"\"Send a POST request.\"\"\"\u001b[0m\u001b[0;34m\u001b[0m\u001b[0;34m\u001b[0m\u001b[0m\n\u001b[0;32m--> 117\u001b[0;31m         \u001b[0;32mreturn\u001b[0m \u001b[0mcls\u001b[0m\u001b[0;34m.\u001b[0m\u001b[0mrequest\u001b[0m\u001b[0;34m(\u001b[0m\u001b[0;34m'post'\u001b[0m\u001b[0;34m,\u001b[0m \u001b[0;34m*\u001b[0m\u001b[0margs\u001b[0m\u001b[0;34m,\u001b[0m \u001b[0;34m**\u001b[0m\u001b[0mkwargs\u001b[0m\u001b[0;34m)\u001b[0m\u001b[0;34m\u001b[0m\u001b[0;34m\u001b[0m\u001b[0m\n\u001b[0m\u001b[1;32m    118\u001b[0m \u001b[0;34m\u001b[0m\u001b[0m\n\u001b[1;32m    119\u001b[0m     \u001b[0;34m@\u001b[0m\u001b[0mclassmethod\u001b[0m\u001b[0;34m\u001b[0m\u001b[0;34m\u001b[0m\u001b[0m\n",
      "\u001b[0;32m/opt/anaconda/lib/python3.7/site-packages/sasctl/_services/service.py\u001b[0m in \u001b[0;36mrequest\u001b[0;34m(cls, verb, path, session, raw, format, **kwargs)\u001b[0m\n\u001b[1;32m     95\u001b[0m             \u001b[0mpath\u001b[0m \u001b[0;34m=\u001b[0m \u001b[0mcls\u001b[0m\u001b[0;34m.\u001b[0m\u001b[0m_SERVICE_ROOT\u001b[0m \u001b[0;34m+\u001b[0m \u001b[0;34m'/'\u001b[0m \u001b[0;34m+\u001b[0m \u001b[0mpath\u001b[0m\u001b[0;34m\u001b[0m\u001b[0;34m\u001b[0m\u001b[0m\n\u001b[1;32m     96\u001b[0m \u001b[0;34m\u001b[0m\u001b[0m\n\u001b[0;32m---> 97\u001b[0;31m         \u001b[0;32mreturn\u001b[0m \u001b[0mcore\u001b[0m\u001b[0;34m.\u001b[0m\u001b[0mrequest\u001b[0m\u001b[0;34m(\u001b[0m\u001b[0mverb\u001b[0m\u001b[0;34m,\u001b[0m \u001b[0mpath\u001b[0m\u001b[0;34m,\u001b[0m \u001b[0msession\u001b[0m\u001b[0;34m,\u001b[0m \u001b[0mraw\u001b[0m\u001b[0;34m,\u001b[0m \u001b[0mformat\u001b[0m\u001b[0;34m,\u001b[0m \u001b[0;34m**\u001b[0m\u001b[0mkwargs\u001b[0m\u001b[0;34m)\u001b[0m\u001b[0;34m\u001b[0m\u001b[0;34m\u001b[0m\u001b[0m\n\u001b[0m\u001b[1;32m     98\u001b[0m \u001b[0;34m\u001b[0m\u001b[0m\n\u001b[1;32m     99\u001b[0m     \u001b[0;34m@\u001b[0m\u001b[0mclassmethod\u001b[0m\u001b[0;34m\u001b[0m\u001b[0;34m\u001b[0m\u001b[0m\n",
      "\u001b[0;32m/opt/anaconda/lib/python3.7/site-packages/sasctl/core.py\u001b[0m in \u001b[0;36mrequest\u001b[0;34m(verb, path, session, raw, format, **kwargs)\u001b[0m\n\u001b[1;32m   1067\u001b[0m     \u001b[0;32mif\u001b[0m \u001b[0;36m400\u001b[0m \u001b[0;34m<=\u001b[0m \u001b[0mresponse\u001b[0m\u001b[0;34m.\u001b[0m\u001b[0mstatus_code\u001b[0m \u001b[0;34m<=\u001b[0m \u001b[0;36m599\u001b[0m\u001b[0;34m:\u001b[0m\u001b[0;34m\u001b[0m\u001b[0;34m\u001b[0m\u001b[0m\n\u001b[1;32m   1068\u001b[0m         raise HTTPError(response.url, response.status_code, response.text,\n\u001b[0;32m-> 1069\u001b[0;31m                         response.headers, None)\n\u001b[0m\u001b[1;32m   1070\u001b[0m \u001b[0;34m\u001b[0m\u001b[0m\n\u001b[1;32m   1071\u001b[0m     \u001b[0;31m# Return the raw response if requested\u001b[0m\u001b[0;34m\u001b[0m\u001b[0;34m\u001b[0m\u001b[0;34m\u001b[0m\u001b[0m\n",
      "\u001b[0;31mHTTPError\u001b[0m: HTTP Error 409: {\"errorCode\":21307,\"message\":\"The performance task is already running.\",\"details\":[\"traceId: 1b653d97d9682bbb\",\"path: /modelManagement/performanceTasks/573a5799-c7e5-4e66-bcd1-607f585b5f65\"],\"links\":[],\"version\":2,\"httpStatusCode\":409}"
     ]
    }
   ],
   "source": [
    "# Instruct the project to look for tables in the \"Public\" CAS library with\n",
    "# names starting with \"boston_\" and use these tables to track model\n",
    "# performance over time.\n",
    "mm.create_performance_definition(model_name, 'Public', 'boston')\n",
    "\n",
    "# Model Manager can track model performance over time if provided with\n",
    "# historical model observations & predictions.  SIMULATE historical data by\n",
    "# repeatedly sampling from the test set.\n",
    "perf_df = X_test.copy()\n",
    "perf_df['var1'] = lm.predict(X_test)\n",
    "perf_df['Price'] = y\n",
    "\n",
    "# For each (simulated) historical period, upload model results\n",
    "for period in ('q1', 'q2', 'q3', 'q4'):\n",
    "    sample = perf_df.sample(frac=0.2)\n",
    "    update_model_performance(sample, model_name, period)"
   ]
  }
 ],
 "metadata": {
  "kernelspec": {
   "display_name": "Python 3",
   "language": "python",
   "name": "python3"
  },
  "language_info": {
   "codemirror_mode": {
    "name": "ipython",
    "version": 3
   },
   "file_extension": ".py",
   "mimetype": "text/x-python",
   "name": "python",
   "nbconvert_exporter": "python",
   "pygments_lexer": "ipython3",
   "version": "3.7.6"
  }
 },
 "nbformat": 4,
 "nbformat_minor": 4
}
