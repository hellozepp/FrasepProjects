{
 "cells": [
  {
   "cell_type": "code",
   "execution_count": 22,
   "metadata": {},
   "outputs": [],
   "source": [
    "import swat\n",
    "import os\n",
    "from sasctl import Session\n",
    "from sasctl.tasks import register_model, publish_model\n",
    "from sasctl.services import model_repository"
   ]
  },
  {
   "cell_type": "code",
   "execution_count": 23,
   "metadata": {},
   "outputs": [],
   "source": [
    "# Connect to the CAS server\n",
    "os.environ['CAS_CLIENT_SSL_CA_LIST'] = '/opt/sas/viya/config/etc/SASSecurityCertificateFramework/cacerts/trustedcerts.pem'\n",
    "s = swat.CAS('frasepviya35smp', 5570)"
   ]
  },
  {
   "cell_type": "code",
   "execution_count": 24,
   "metadata": {},
   "outputs": [
    {
     "name": "stdout",
     "output_type": "stream",
     "text": [
      "NOTE: 'Public' is now the active caslib.\n"
     ]
    }
   ],
   "source": [
    "# Define default session caslib\n",
    "s.sessionprop.setsessopt(caslib='Public')\n",
    "\n",
    "# Name the CAS table\n",
    "indata = 'HMEQ_TRAIN'\n",
    "\n",
    "# Declare python CASTable view on CAS in-memory table\n",
    "castbl = s.CASTable(indata)"
   ]
  },
  {
   "cell_type": "code",
   "execution_count": 25,
   "metadata": {},
   "outputs": [
    {
     "data": {
      "text/html": [
       "<div>\n",
       "<style scoped>\n",
       "    .dataframe tbody tr th:only-of-type {\n",
       "        vertical-align: middle;\n",
       "    }\n",
       "\n",
       "    .dataframe tbody tr th {\n",
       "        vertical-align: top;\n",
       "    }\n",
       "\n",
       "    .dataframe thead th {\n",
       "        text-align: right;\n",
       "    }\n",
       "</style>\n",
       "<table border=\"1\" class=\"dataframe\">\n",
       "  <thead>\n",
       "    <tr style=\"text-align: right;\">\n",
       "      <th title=\"\"></th>\n",
       "      <th title=\"BAD\">BAD</th>\n",
       "      <th title=\"LOAN\">LOAN</th>\n",
       "      <th title=\"MORTDUE\">MORTDUE</th>\n",
       "      <th title=\"VALUE\">VALUE</th>\n",
       "      <th title=\"YOJ\">YOJ</th>\n",
       "      <th title=\"DEROG\">DEROG</th>\n",
       "      <th title=\"DELINQ\">DELINQ</th>\n",
       "      <th title=\"CLAGE\">CLAGE</th>\n",
       "      <th title=\"NINQ\">NINQ</th>\n",
       "      <th title=\"CLNO\">CLNO</th>\n",
       "      <th title=\"DEBTINC\">DEBTINC</th>\n",
       "    </tr>\n",
       "  </thead>\n",
       "  <tbody>\n",
       "    <tr>\n",
       "      <th>count</th>\n",
       "      <td>2381.000000</td>\n",
       "      <td>2381.000000</td>\n",
       "      <td>2178.000000</td>\n",
       "      <td>2339.000000</td>\n",
       "      <td>2184.000000</td>\n",
       "      <td>2105.000000</td>\n",
       "      <td>2153.000000</td>\n",
       "      <td>2255.000000</td>\n",
       "      <td>2189.000000</td>\n",
       "      <td>2290.000000</td>\n",
       "      <td>1873.000000</td>\n",
       "    </tr>\n",
       "    <tr>\n",
       "      <th>mean</th>\n",
       "      <td>0.199916</td>\n",
       "      <td>18216.463671</td>\n",
       "      <td>73888.350849</td>\n",
       "      <td>102594.821005</td>\n",
       "      <td>8.851671</td>\n",
       "      <td>0.230404</td>\n",
       "      <td>0.449141</td>\n",
       "      <td>178.606762</td>\n",
       "      <td>1.172225</td>\n",
       "      <td>21.217467</td>\n",
       "      <td>33.473330</td>\n",
       "    </tr>\n",
       "    <tr>\n",
       "      <th>std</th>\n",
       "      <td>0.400021</td>\n",
       "      <td>10669.354029</td>\n",
       "      <td>43967.539209</td>\n",
       "      <td>58102.560140</td>\n",
       "      <td>7.520705</td>\n",
       "      <td>0.754975</td>\n",
       "      <td>1.094231</td>\n",
       "      <td>85.735499</td>\n",
       "      <td>1.721473</td>\n",
       "      <td>10.055845</td>\n",
       "      <td>8.228359</td>\n",
       "    </tr>\n",
       "    <tr>\n",
       "      <th>min</th>\n",
       "      <td>0.000000</td>\n",
       "      <td>1300.000000</td>\n",
       "      <td>2619.000000</td>\n",
       "      <td>9100.000000</td>\n",
       "      <td>0.000000</td>\n",
       "      <td>0.000000</td>\n",
       "      <td>0.000000</td>\n",
       "      <td>0.000000</td>\n",
       "      <td>0.000000</td>\n",
       "      <td>0.000000</td>\n",
       "      <td>0.524499</td>\n",
       "    </tr>\n",
       "    <tr>\n",
       "      <th>25%</th>\n",
       "      <td>0.000000</td>\n",
       "      <td>10800.000000</td>\n",
       "      <td>46057.000000</td>\n",
       "      <td>66410.000000</td>\n",
       "      <td>3.000000</td>\n",
       "      <td>0.000000</td>\n",
       "      <td>0.000000</td>\n",
       "      <td>115.136885</td>\n",
       "      <td>0.000000</td>\n",
       "      <td>15.000000</td>\n",
       "      <td>28.638063</td>\n",
       "    </tr>\n",
       "    <tr>\n",
       "      <th>50%</th>\n",
       "      <td>0.000000</td>\n",
       "      <td>16000.000000</td>\n",
       "      <td>64811.000000</td>\n",
       "      <td>89079.000000</td>\n",
       "      <td>7.000000</td>\n",
       "      <td>0.000000</td>\n",
       "      <td>0.000000</td>\n",
       "      <td>172.696685</td>\n",
       "      <td>1.000000</td>\n",
       "      <td>20.000000</td>\n",
       "      <td>34.644922</td>\n",
       "    </tr>\n",
       "    <tr>\n",
       "      <th>75%</th>\n",
       "      <td>0.000000</td>\n",
       "      <td>23000.000000</td>\n",
       "      <td>92487.000000</td>\n",
       "      <td>121382.000000</td>\n",
       "      <td>13.000000</td>\n",
       "      <td>0.000000</td>\n",
       "      <td>0.000000</td>\n",
       "      <td>229.177959</td>\n",
       "      <td>2.000000</td>\n",
       "      <td>26.000000</td>\n",
       "      <td>38.942760</td>\n",
       "    </tr>\n",
       "    <tr>\n",
       "      <th>max</th>\n",
       "      <td>1.000000</td>\n",
       "      <td>89000.000000</td>\n",
       "      <td>369874.000000</td>\n",
       "      <td>855909.000000</td>\n",
       "      <td>41.000000</td>\n",
       "      <td>10.000000</td>\n",
       "      <td>10.000000</td>\n",
       "      <td>1168.233561</td>\n",
       "      <td>14.000000</td>\n",
       "      <td>71.000000</td>\n",
       "      <td>143.949605</td>\n",
       "    </tr>\n",
       "  </tbody>\n",
       "</table>\n",
       "</div>"
      ],
      "text/plain": [
       "               BAD          LOAN        MORTDUE          VALUE          YOJ  \\\n",
       "count  2381.000000   2381.000000    2178.000000    2339.000000  2184.000000   \n",
       "mean      0.199916  18216.463671   73888.350849  102594.821005     8.851671   \n",
       "std       0.400021  10669.354029   43967.539209   58102.560140     7.520705   \n",
       "min       0.000000   1300.000000    2619.000000    9100.000000     0.000000   \n",
       "25%       0.000000  10800.000000   46057.000000   66410.000000     3.000000   \n",
       "50%       0.000000  16000.000000   64811.000000   89079.000000     7.000000   \n",
       "75%       0.000000  23000.000000   92487.000000  121382.000000    13.000000   \n",
       "max       1.000000  89000.000000  369874.000000  855909.000000    41.000000   \n",
       "\n",
       "             DEROG       DELINQ        CLAGE         NINQ         CLNO  \\\n",
       "count  2105.000000  2153.000000  2255.000000  2189.000000  2290.000000   \n",
       "mean      0.230404     0.449141   178.606762     1.172225    21.217467   \n",
       "std       0.754975     1.094231    85.735499     1.721473    10.055845   \n",
       "min       0.000000     0.000000     0.000000     0.000000     0.000000   \n",
       "25%       0.000000     0.000000   115.136885     0.000000    15.000000   \n",
       "50%       0.000000     0.000000   172.696685     1.000000    20.000000   \n",
       "75%       0.000000     0.000000   229.177959     2.000000    26.000000   \n",
       "max      10.000000    10.000000  1168.233561    14.000000    71.000000   \n",
       "\n",
       "           DEBTINC  \n",
       "count  1873.000000  \n",
       "mean     33.473330  \n",
       "std       8.228359  \n",
       "min       0.524499  \n",
       "25%      28.638063  \n",
       "50%      34.644922  \n",
       "75%      38.942760  \n",
       "max     143.949605  "
      ]
     },
     "execution_count": 25,
     "metadata": {},
     "output_type": "execute_result"
    }
   ],
   "source": [
    "castbl.describe()"
   ]
  },
  {
   "cell_type": "markdown",
   "metadata": {},
   "source": [
    "# Train a gradient boosting model to identify iris species."
   ]
  },
  {
   "cell_type": "code",
   "execution_count": 26,
   "metadata": {},
   "outputs": [
    {
     "name": "stdout",
     "output_type": "stream",
     "text": [
      "NOTE: Added action set 'decisionTree'.\n",
      "NOTE: 916779 bytes were written to the table \"gradboost_astore\" in the caslib \"Public\".\n"
     ]
    }
   ],
   "source": [
    "s.loadactionset('decisionTree')\n",
    "castbl.decisiontree.gbtreetrain(target='BAD',\n",
    "                             inputs=['BAD','LOAN','MORTDUE','VALUE','YOJ','DEROG','DELINQ','CLAGE','NINQ','CLNO','DEBTINC'],\n",
    "                             savestate='gradboost_astore')\n",
    "\n",
    "# Establish a reference to the newly created ASTORE table.\n",
    "astore = s.CASTable('gradboost_astore')"
   ]
  },
  {
   "cell_type": "markdown",
   "metadata": {},
   "source": [
    "# Register the model in the central repository for versioning and deployment"
   ]
  },
  {
   "cell_type": "code",
   "execution_count": 27,
   "metadata": {},
   "outputs": [
    {
     "name": "stdout",
     "output_type": "stream",
     "text": [
      "NOTE: Added action set 'astore'.\n",
      "NOTE: Cloud Analytic Services saved the file _8158653793EB4429BA7DCAC28.sashdat in caslib ModelStore.\n"
     ]
    }
   ],
   "source": [
    "with Session('frasepviya35smp', 'viyademo01', 'demopw'):\n",
    "    # Register the trained model by providing:\n",
    "    #  - the ASTORE containing the model\n",
    "    #  - a name for the model\n",
    "    #  - a name for the project\n",
    "    #\n",
    "    # NOTE: the force=True option will create the project if it does not exist.\n",
    "    model = register_model(astore, 'Gradient Boosting Astore SWAT', 'HMEQ_Modeling', force=True)"
   ]
  },
  {
   "cell_type": "code",
   "execution_count": 37,
   "metadata": {},
   "outputs": [
    {
     "ename": "ValueError",
     "evalue": "Could not find ETag for update of {'function': 'Classification'}.",
     "output_type": "error",
     "traceback": [
      "\u001b[0;31m---------------------------------------------------------------------------\u001b[0m",
      "\u001b[0;31mValueError\u001b[0m                                Traceback (most recent call last)",
      "\u001b[0;32m<ipython-input-37-ef935d3b2b35>\u001b[0m in \u001b[0;36m<module>\u001b[0;34m\u001b[0m\n\u001b[1;32m      1\u001b[0m \u001b[0;32mwith\u001b[0m \u001b[0mSession\u001b[0m\u001b[0;34m(\u001b[0m\u001b[0;34m'frasepviya35smp'\u001b[0m\u001b[0;34m,\u001b[0m \u001b[0;34m'viyademo01'\u001b[0m\u001b[0;34m,\u001b[0m \u001b[0;34m'demopw'\u001b[0m\u001b[0;34m)\u001b[0m\u001b[0;34m:\u001b[0m\u001b[0;34m\u001b[0m\u001b[0;34m\u001b[0m\u001b[0m\n\u001b[0;32m----> 2\u001b[0;31m     \u001b[0mmodel_repository\u001b[0m\u001b[0;34m.\u001b[0m\u001b[0mupdate_model\u001b[0m\u001b[0;34m(\u001b[0m\u001b[0mdict\u001b[0m\u001b[0;34m(\u001b[0m\u001b[0mfunction\u001b[0m\u001b[0;34m=\u001b[0m\u001b[0;34m'Classification'\u001b[0m\u001b[0;34m)\u001b[0m\u001b[0;34m)\u001b[0m\u001b[0;34m\u001b[0m\u001b[0;34m\u001b[0m\u001b[0m\n\u001b[0m",
      "\u001b[0;32m/opt/anaconda3/lib/python3.8/site-packages/sasctl/_services/service.py\u001b[0m in \u001b[0;36mupdate_item\u001b[0;34m(cls, item)\u001b[0m\n\u001b[1;32m    281\u001b[0m             \u001b[0mheaders\u001b[0m \u001b[0;34m=\u001b[0m \u001b[0mgetattr\u001b[0m\u001b[0;34m(\u001b[0m\u001b[0mitem\u001b[0m\u001b[0;34m,\u001b[0m \u001b[0;34m'_headers'\u001b[0m\u001b[0;34m,\u001b[0m \u001b[0;32mNone\u001b[0m\u001b[0;34m)\u001b[0m\u001b[0;34m\u001b[0m\u001b[0;34m\u001b[0m\u001b[0m\n\u001b[1;32m    282\u001b[0m             \u001b[0;32mif\u001b[0m \u001b[0mheaders\u001b[0m \u001b[0;32mis\u001b[0m \u001b[0;32mNone\u001b[0m \u001b[0;32mor\u001b[0m \u001b[0mheaders\u001b[0m\u001b[0;34m.\u001b[0m\u001b[0mget\u001b[0m\u001b[0;34m(\u001b[0m\u001b[0;34m'etag'\u001b[0m\u001b[0;34m)\u001b[0m \u001b[0;32mis\u001b[0m \u001b[0;32mNone\u001b[0m\u001b[0;34m:\u001b[0m\u001b[0;34m\u001b[0m\u001b[0;34m\u001b[0m\u001b[0m\n\u001b[0;32m--> 283\u001b[0;31m                 raise ValueError(\n\u001b[0m\u001b[1;32m    284\u001b[0m                     'Could not find ETag for update of %s.' % item)\n\u001b[1;32m    285\u001b[0m \u001b[0;34m\u001b[0m\u001b[0m\n",
      "\u001b[0;31mValueError\u001b[0m: Could not find ETag for update of {'function': 'Classification'}."
     ]
    }
   ],
   "source": [
    "with Session('frasepviya35smp', 'viyademo01', 'demopw'):\n",
    "    model_repository.update_model(dict(function='Classification'))"
   ]
  },
  {
   "cell_type": "markdown",
   "metadata": {},
   "source": [
    "# Optional : trigger model deployement and scoring from Python API"
   ]
  },
  {
   "cell_type": "code",
   "execution_count": 12,
   "metadata": {},
   "outputs": [
    {
     "name": "stdout",
     "output_type": "stream",
     "text": [
      "NOTE: Added action set 'decisionTree'.\n",
      "NOTE: 918707 bytes were written to the table \"gradboost_astore\" in the caslib \"Public\".\n",
      "NOTE: Added action set 'astore'.\n",
      "NOTE: Cloud Analytic Services saved the file _C2ADBCAAC4C2425389E5B4C23.sashdat in caslib ModelStore.\n"
     ]
    }
   ],
   "source": [
    "with Session('frasepviya35smp', 'viyademo01', 'demopw'):\n",
    "    module = publish_model(model, 'maslocal')\n",
    "\n",
    "    # sasctl wraps the published module with Python methods corresponding to the various steps defined in the module (like \"predict\").\n",
    "    response = module.score(SepalLength=5.1, SepalWidth=3.5, PetalLength=1.4, PetalWidth=0.2)"
   ]
  },
  {
   "cell_type": "code",
   "execution_count": 13,
   "metadata": {},
   "outputs": [],
   "source": [
    "s.close()"
   ]
  }
 ],
 "metadata": {
  "kernelspec": {
   "display_name": "Python 3",
   "language": "python",
   "name": "python3"
  },
  "language_info": {
   "codemirror_mode": {
    "name": "ipython",
    "version": 3
   },
   "file_extension": ".py",
   "mimetype": "text/x-python",
   "name": "python",
   "nbconvert_exporter": "python",
   "pygments_lexer": "ipython3",
   "version": "3.8.3"
  }
 },
 "nbformat": 4,
 "nbformat_minor": 4
}
