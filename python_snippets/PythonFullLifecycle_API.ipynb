{
 "cells": [
  {
   "cell_type": "code",
   "execution_count": 1,
   "metadata": {},
   "outputs": [],
   "source": [
    "import pandas as pd\n",
    "import os\n",
    "import sklearn.datasets\n",
    "import swat\n",
    "\n",
    "from sklearn.tree import DecisionTreeRegressor\n",
    "from sklearn.linear_model import LinearRegression\n",
    "from sklearn.model_selection import train_test_split\n",
    "\n",
    "from sasctl import Session\n",
    "from sasctl.tasks import register_model, publish_model\n",
    "from sasctl.services import model_repository as mr\n",
    "from sasctl.services import model_management as mm"
   ]
  },
  {
   "cell_type": "markdown",
   "metadata": {},
   "source": [
    "## Establish a session with SAS Viya"
   ]
  },
  {
   "cell_type": "code",
   "execution_count": 2,
   "metadata": {},
   "outputs": [
    {
     "data": {
      "text/plain": [
       "<sasctl.core.Session at 0x7fe51fb9d9d0>"
      ]
     },
     "execution_count": 2,
     "metadata": {},
     "output_type": "execute_result"
    }
   ],
   "source": [
    "os.environ['CAS_CLIENT_SSL_CA_LIST'] = '/opt/sas/viya/config/etc/SASSecurityCertificateFramework/cacerts/trustedcerts.pem'\n",
    "s = swat.CAS('frasepviya35smp', 8777, username='viyademo01', password='demopw', protocol='https')\n",
    "Session(s)"
   ]
  },
  {
   "cell_type": "code",
   "execution_count": 3,
   "metadata": {},
   "outputs": [],
   "source": [
    "project = 'Boston Housing'\n",
    "model_name = 'Boston Regression'"
   ]
  },
  {
   "cell_type": "markdown",
   "metadata": {},
   "source": [
    "# Fit a linear regression model using sci-kit learn"
   ]
  },
  {
   "cell_type": "code",
   "execution_count": 4,
   "metadata": {},
   "outputs": [
    {
     "data": {
      "text/plain": [
       "LinearRegression(copy_X=True, fit_intercept=True, n_jobs=None, normalize=False)"
      ]
     },
     "execution_count": 4,
     "metadata": {},
     "output_type": "execute_result"
    }
   ],
   "source": [
    "data = sklearn.datasets.load_boston()\n",
    "X = pd.DataFrame(data.data, columns=data.feature_names)\n",
    "y = pd.DataFrame(data.target, columns=['Price'])\n",
    "\n",
    "X_train, X_test, y_train, y_test = train_test_split(X, y, test_size=0.3)\n",
    "\n",
    "lm = LinearRegression()\n",
    "lm.fit(X_train, y_train)"
   ]
  },
  {
   "cell_type": "markdown",
   "metadata": {},
   "source": [
    "# Push python dataframe training table to cas for future performance testing in CAS"
   ]
  },
  {
   "cell_type": "code",
   "execution_count": 5,
   "metadata": {},
   "outputs": [],
   "source": [
    "data_dataframe = pd.DataFrame(data.data)"
   ]
  },
  {
   "cell_type": "code",
   "execution_count": 6,
   "metadata": {},
   "outputs": [
    {
     "name": "stdout",
     "output_type": "stream",
     "text": [
      "NOTE: Cloud Analytic Services made the uploaded file available as table BOSTON in caslib CASUSER(viyademo01).\n",
      "NOTE: The table BOSTON has been created in caslib CASUSER(viyademo01) from binary data uploaded to Cloud Analytic Services.\n"
     ]
    },
    {
     "data": {
      "text/html": [
       "<div class=\"cas-results-key\"><b>&#167; caslib</b></div>\n",
       "<div class=\"cas-results-body\">\n",
       "<div>CASUSER(viyademo01)</div>\n",
       "</div>\n",
       "<div class=\"cas-results-key\"><hr/><b>&#167; tableName</b></div>\n",
       "<div class=\"cas-results-body\">\n",
       "<div>BOSTON</div>\n",
       "</div>\n",
       "<div class=\"cas-results-key\"><hr/><b>&#167; casTable</b></div>\n",
       "<div class=\"cas-results-body\">\n",
       "<div>CASTable('BOSTON', caslib='CASUSER(viyademo01)')</div>\n",
       "</div>\n",
       "<div class=\"cas-output-area\"></div>\n",
       "<p class=\"cas-results-performance\"><small><span class=\"cas-elapsed\">elapsed 0.00905s</span> &#183; <span class=\"cas-user\">user 0.0129s</span> &#183; <span class=\"cas-sys\">sys 0.0136s</span> &#183; <span class=\"cas-memory\">mem 33.7MB</span></small></p>"
      ],
      "text/plain": [
       "[caslib]\n",
       "\n",
       " 'CASUSER(viyademo01)'\n",
       "\n",
       "[tableName]\n",
       "\n",
       " 'BOSTON'\n",
       "\n",
       "[casTable]\n",
       "\n",
       " CASTable('BOSTON', caslib='CASUSER(viyademo01)')\n",
       "\n",
       "+ Elapsed: 0.00905s, user: 0.0129s, sys: 0.0136s, mem: 33.7mb"
      ]
     },
     "execution_count": 6,
     "metadata": {},
     "output_type": "execute_result"
    }
   ],
   "source": [
    "s.upload(data_dataframe,casout=\"boston\")"
   ]
  },
  {
   "cell_type": "code",
   "execution_count": 7,
   "metadata": {},
   "outputs": [
    {
     "name": "stdout",
     "output_type": "stream",
     "text": [
      "NOTE: Cloud Analytic Services promoted table BOSTON in caslib CASUSER(viyademo01) to table boston in caslib PUBLIC.\n"
     ]
    },
    {
     "data": {
      "text/html": [
       "<div class=\"cas-output-area\"></div>\n",
       "<p class=\"cas-results-performance\"><small><span class=\"cas-elapsed\">elapsed 0.00138s</span> &#183; <span class=\"cas-sys\">sys 0.00108s</span> &#183; <span class=\"cas-memory\">mem 0.331MB</span></small></p>"
      ],
      "text/plain": [
       "+ Elapsed: 0.00138s, sys: 0.00108s, mem: 0.331mb"
      ]
     },
     "execution_count": 7,
     "metadata": {},
     "output_type": "execute_result"
    }
   ],
   "source": [
    "s.promote(name=\"boston\", targetCaslib=\"PUBLIC\")"
   ]
  },
  {
   "cell_type": "code",
   "execution_count": 8,
   "metadata": {},
   "outputs": [
    {
     "name": "stdout",
     "output_type": "stream",
     "text": [
      "NOTE: Cloud Analytic Services saved the file boston.sashdat in caslib Public.\n"
     ]
    },
    {
     "data": {
      "text/html": [
       "<div class=\"cas-results-key\"><b>&#167; caslib</b></div>\n",
       "<div class=\"cas-results-body\">\n",
       "<div>Public</div>\n",
       "</div>\n",
       "<div class=\"cas-results-key\"><hr/><b>&#167; name</b></div>\n",
       "<div class=\"cas-results-body\">\n",
       "<div>boston.sashdat</div>\n",
       "</div>\n",
       "<div class=\"cas-output-area\"></div>\n",
       "<p class=\"cas-results-performance\"><small><span class=\"cas-elapsed\">elapsed 0.00532s</span> &#183; <span class=\"cas-user\">user 0.00131s</span> &#183; <span class=\"cas-sys\">sys 0.00125s</span> &#183; <span class=\"cas-memory\">mem 16.9MB</span></small></p>"
      ],
      "text/plain": [
       "[caslib]\n",
       "\n",
       " 'Public'\n",
       "\n",
       "[name]\n",
       "\n",
       " 'boston.sashdat'\n",
       "\n",
       "+ Elapsed: 0.00532s, user: 0.00131s, sys: 0.00125s, mem: 16.9mb"
      ]
     },
     "execution_count": 8,
     "metadata": {},
     "output_type": "execute_result"
    }
   ],
   "source": [
    "s.table.save(table=dict(name='boston', caslib='PUBLIC'), caslib='PUBLIC', name='boston.sashdat', replace=True)"
   ]
  },
  {
   "cell_type": "markdown",
   "metadata": {},
   "source": [
    "# Register the model in SAS Model Manager"
   ]
  },
  {
   "cell_type": "code",
   "execution_count": 9,
   "metadata": {
    "collapsed": true,
    "jupyter": {
     "outputs_hidden": true
    }
   },
   "outputs": [
    {
     "data": {
      "text/plain": [
       "<class 'sasctl.core.RestObj'>(headers={'Date': 'Tue, 21 Jul 2020 09:08:38 GMT', 'Server': 'Apache/2.4', 'Content-Security-Policy': \"default-src 'self'; script-src 'self' 'unsafe-inline' 'unsafe-eval'; img-src 'self' *.sas.com blob: data:; style-src 'self' 'unsafe-inline'; child-src 'self' blob: data: mailto:;\", 'Last-Modified': 'Tue, 21 Jul 2020 09:08:39 GMT', 'ETag': 'W/\"1735decd899\"', 'Cache-Control': 'no-cache, no-store, max-age=0, must-revalidate', 'Pragma': 'no-cache', 'Expires': '0', 'Strict-Transport-Security': 'max-age=31536000 ; includeSubDomains', 'X-Frame-Options': 'SAMEORIGIN', 'Content-Type': 'application/vnd.sas.models.model+json;charset=UTF-8', 'X-Content-Type-Options': 'nosniff', 'X-XSS-Protection': '1; mode=block', 'Vary': 'User-Agent', 'Keep-Alive': 'timeout=5, max=94', 'Connection': 'Keep-Alive', 'Transfer-Encoding': 'chunked'}, data={'creationTimeStamp': '2020-07-21T09:08:38.343Z', 'modifiedTimeStamp': '2020-07-21T09:08:38.343Z', 'createdBy': 'viyademo01', 'modifiedBy': 'viyademo01', 'links': [{'method': 'GET', 'rel': 'self', 'href': '/modelRepository/models/8c29ce9e-0536-4b19-8bef-6b3e24ffb12e', 'uri': '/modelRepository/models/8c29ce9e-0536-4b19-8bef-6b3e24ffb12e', 'type': 'application/vnd.sas.models.model'}, {'method': 'GET', 'rel': 'alternate', 'href': '/modelRepository/models/8c29ce9e-0536-4b19-8bef-6b3e24ffb12e', 'uri': '/modelRepository/models/8c29ce9e-0536-4b19-8bef-6b3e24ffb12e', 'type': 'application/vnd.sas.models.model.summary'}, {'method': 'PUT', 'rel': 'update', 'href': '/modelRepository/models/8c29ce9e-0536-4b19-8bef-6b3e24ffb12e', 'uri': '/modelRepository/models/8c29ce9e-0536-4b19-8bef-6b3e24ffb12e', 'type': 'application/vnd.sas.models.model'}, {'method': 'DELETE', 'rel': 'delete', 'href': '/modelRepository/models/8c29ce9e-0536-4b19-8bef-6b3e24ffb12e', 'uri': '/modelRepository/models/8c29ce9e-0536-4b19-8bef-6b3e24ffb12e'}, {'method': 'GET', 'rel': 'contents', 'href': '/modelRepository/models/8c29ce9e-0536-4b19-8bef-6b3e24ffb12e/contents', 'uri': '/modelRepository/models/8c29ce9e-0536-4b19-8bef-6b3e24ffb12e/contents', 'type': 'application/vnd.sas.models.model'}], 'version': 2, 'id': '8c29ce9e-0536-4b19-8bef-6b3e24ffb12e', 'name': 'Boston Regression', 'description': 'LinearRegression(copy_X=True, fit_intercept=True, n_jobs=None, normalize=False)', 'location': '/Model Repositories/Public', 'projectId': 'e33946f3-6e45-473e-9320-88f30a92ba57', 'projectName': 'Boston Housing', 'projectVersionId': 'd0649e1d-f067-4681-988f-24897e3aae45', 'projectVersionName': 'Version 1', 'projectVersionNum': '1.0', 'folderId': '2eac948f-067a-4229-a56f-9397cb29af0e', 'indirectFolderId': '2eac948f-067a-4229-a56f-9397cb29af0e', 'repositoryId': 'e45e49f9-9143-4880-97ec-26be77449682', 'function': 'prediction', 'algorithm': 'Linear regression', 'tool': 'Python 3.7', 'scoreCodeType': 'ds2MultiType', 'trainCodeType': 'Python', 'targetLevel': 'INTERVAL', 'modeler': 'viyademo01', 'suggestedChampion': False, 'candidateChampion': False, 'role': 'plain', 'immutable': False, 'properties': [{'name': 'copy_X', 'value': 'True', 'type': 'string'}, {'name': 'fit_intercept', 'value': 'True', 'type': 'string'}, {'name': 'n_jobs', 'value': 'None', 'type': 'string'}, {'name': 'normalize', 'value': 'False', 'type': 'string'}, {'name': 'env_alabaster', 'value': '0.7.12', 'type': 'string'}, {'name': 'env_alembic', 'value': '1.4.2', 'type': 'string'}, {'name': 'env_anaconda-client', 'value': '1.7.2', 'type': 'string'}, {'name': 'env_anaconda-navigator', 'value': '1.9.12', 'type': 'string'}, {'name': 'env_anaconda-project', 'value': '0.8.3', 'type': 'string'}, {'name': 'env_argh', 'value': '0.26.2', 'type': 'string'}, {'name': 'env_asn1crypto', 'value': '1.3.0', 'type': 'string'}, {'name': 'env_astroid', 'value': '2.3.3', 'type': 'string'}, {'name': 'env_astropy', 'value': '4.0', 'type': 'string'}, {'name': 'env_async-generator', 'value': '1.10', 'type': 'string'}, {'name': 'env_atomicwrites', 'value': '1.3.0', 'type': 'string'}, {'name': 'env_attrs', 'value': '19.3.0', 'type': 'string'}, {'name': 'env_autopep8', 'value': '1.4.4', 'type': 'string'}, {'name': 'env_Babel', 'value': '2.8.0', 'type': 'string'}, {'name': 'env_backcall', 'value': '0.1.0', 'type': 'string'}, {'name': 'env_backports.functools-lru-cache', 'value': '1.6.1', 'type': 'string'}, {'name': 'env_backports.shutil-get-terminal-size', 'value': '1.0.0', 'type': 'string'}, {'name': 'env_backports.tempfile', 'value': '1.0', 'type': 'string'}, {'name': 'env_backports.weakref', 'value': '1.0.post1', 'type': 'string'}, {'name': 'env_beautifulsoup4', 'value': '4.8.2', 'type': 'string'}, {'name': 'env_bitarray', 'value': '1.2.1', 'type': 'string'}, {'name': 'env_bkcharts', 'value': '0.2', 'type': 'string'}, {'name': 'env_bleach', 'value': '3.1.0', 'type': 'string'}, {'name': 'env_blinker', 'value': '1.4', 'type': 'string'}, {'name': 'env_bokeh', 'value': '1.4.0', 'type': 'string'}, {'name': 'env_boto', 'value': '2.49.0', 'type': 'string'}, {'name': 'env_Bottleneck', 'value': '1.3.2', 'type': 'string'}, {'name': 'env_certifi', 'value': '2019.11.28', 'type': 'string'}, {'name': 'env_certipy', 'value': '0.1.3', 'type': 'string'}, {'name': 'env_cffi', 'value': '1.14.0', 'type': 'string'}, {'name': 'env_chardet', 'value': '3.0.4', 'type': 'string'}, {'name': 'env_Click', 'value': '7.0', 'type': 'string'}, {'name': 'env_cloudpickle', 'value': '1.3.0', 'type': 'string'}, {'name': 'env_clyent', 'value': '1.2.2', 'type': 'string'}, {'name': 'env_colorama', 'value': '0.4.3', 'type': 'string'}, {'name': 'env_conda', 'value': '4.8.3', 'type': 'string'}, {'name': 'env_conda-build', 'value': '3.18.11', 'type': 'string'}, {'name': 'env_conda-package-handling', 'value': '1.6.0', 'type': 'string'}, {'name': 'env_conda-verify', 'value': '3.4.2', 'type': 'string'}, {'name': 'env_contextlib2', 'value': '0.6.0.post1', 'type': 'string'}, {'name': 'env_cryptography', 'value': '2.8', 'type': 'string'}, {'name': 'env_cycler', 'value': '0.10.0', 'type': 'string'}, {'name': 'env_Cython', 'value': '0.29.15', 'type': 'string'}, {'name': 'env_cytoolz', 'value': '0.10.1', 'type': 'string'}, {'name': 'env_dask', 'value': '2.11.0', 'type': 'string'}, {'name': 'env_decorator', 'value': '4.4.1', 'type': 'string'}, {'name': 'env_defusedxml', 'value': '0.6.0', 'type': 'string'}, {'name': 'env_diff-match-patch', 'value': '20181111', 'type': 'string'}, {'name': 'env_distributed', 'value': '2.11.0', 'type': 'string'}, {'name': 'env_docutils', 'value': '0.16', 'type': 'string'}, {'name': 'env_entrypoints', 'value': '0.3', 'type': 'string'}, {'name': 'env_et-xmlfile', 'value': '1.0.1', 'type': 'string'}, {'name': 'env_fastcache', 'value': '1.1.0', 'type': 'string'}, {'name': 'env_filelock', 'value': '3.0.12', 'type': 'string'}, {'name': 'env_flake8', 'value': '3.7.9', 'type': 'string'}, {'name': 'env_Flask', 'value': '1.1.1', 'type': 'string'}, {'name': 'env_fsspec', 'value': '0.6.2', 'type': 'string'}, {'name': 'env_future', 'value': '0.18.2', 'type': 'string'}, {'name': 'env_gevent', 'value': '1.4.0', 'type': 'string'}, {'name': 'env_gitdb', 'value': '4.0.5', 'type': 'string'}, {'name': 'env_GitPython', 'value': '3.1.3', 'type': 'string'}, {'name': 'env_glob2', 'value': '0.7', 'type': 'string'}, {'name': 'env_gmpy2', 'value': '2.0.8', 'type': 'string'}, {'name': 'env_greenlet', 'value': '0.4.15', 'type': 'string'}, {'name': 'env_h5py', 'value': '2.10.0', 'type': 'string'}, {'name': 'env_HeapDict', 'value': '1.0.1', 'type': 'string'}, {'name': 'env_html5lib', 'value': '1.0.1', 'type': 'string'}, {'name': 'env_hypothesis', 'value': '5.5.4', 'type': 'string'}, {'name': 'env_idna', 'value': '2.8', 'type': 'string'}, {'name': 'env_imageio', 'value': '2.6.1', 'type': 'string'}, {'name': 'env_imagesize', 'value': '1.2.0', 'type': 'string'}, {'name': 'env_importlib-metadata', 'value': '1.5.0', 'type': 'string'}, {'name': 'env_intervaltree', 'value': '3.0.2', 'type': 'string'}, {'name': 'env_ipykernel', 'value': '5.1.4', 'type': 'string'}, {'name': 'env_ipython', 'value': '7.12.0', 'type': 'string'}, {'name': 'env_ipython-genutils', 'value': '0.2.0', 'type': 'string'}, {'name': 'env_ipywidgets', 'value': '7.5.1', 'type': 'string'}, {'name': 'env_isort', 'value': '4.3.21', 'type': 'string'}, {'name': 'env_itsdangerous', 'value': '1.1.0', 'type': 'string'}, {'name': 'env_jdcal', 'value': '1.4.1', 'type': 'string'}, {'name': 'env_jedi', 'value': '0.14.1', 'type': 'string'}, {'name': 'env_jeepney', 'value': '0.4.2', 'type': 'string'}, {'name': 'env_Jinja2', 'value': '2.11.1', 'type': 'string'}, {'name': 'env_joblib', 'value': '0.14.1', 'type': 'string'}, {'name': 'env_json5', 'value': '0.9.1', 'type': 'string'}, {'name': 'env_jsonschema', 'value': '3.2.0', 'type': 'string'}, {'name': 'env_jupyter', 'value': '1.0.0', 'type': 'string'}, {'name': 'env_jupyter-client', 'value': '5.3.4', 'type': 'string'}, {'name': 'env_jupyter-console', 'value': '6.1.0', 'type': 'string'}, {'name': 'env_jupyter-core', 'value': '4.6.1', 'type': 'string'}, {'name': 'env_jupyter-telemetry', 'value': '0.0.5', 'type': 'string'}, {'name': 'env_jupyterhub', 'value': '1.1.0', 'type': 'string'}, {'name': 'env_jupyterlab', 'value': '1.2.6', 'type': 'string'}, {'name': 'env_jupyterlab-git', 'value': '0.20.0', 'type': 'string'}, {'name': 'env_jupyterlab-server', 'value': '1.0.6', 'type': 'string'}, {'name': 'env_keyring', 'value': '21.1.0', 'type': 'string'}, {'name': 'env_kiwisolver', 'value': '1.1.0', 'type': 'string'}, {'name': 'env_lazy-object-proxy', 'value': '1.4.3', 'type': 'string'}, {'name': 'env_libarchive-c', 'value': '2.8', 'type': 'string'}, {'name': 'env_lief', 'value': '0.9.0', 'type': 'string'}, {'name': 'env_llvmlite', 'value': '0.31.0', 'type': 'string'}, {'name': 'env_locket', 'value': '0.2.0', 'type': 'string'}, {'name': 'env_lxml', 'value': '4.5.0', 'type': 'string'}, {'name': 'env_Mako', 'value': '1.1.0', 'type': 'string'}, {'name': 'env_MarkupSafe', 'value': '1.1.1', 'type': 'string'}, {'name': 'env_matplotlib', 'value': '3.1.3', 'type': 'string'}, {'name': 'env_mccabe', 'value': '0.6.1', 'type': 'string'}, {'name': 'env_mistune', 'value': '0.8.4', 'type': 'string'}, {'name': 'env_mkl-fft', 'value': '1.0.15', 'type': 'string'}, {'name': 'env_mkl-random', 'value': '1.1.0', 'type': 'string'}, {'name': 'env_mkl-service', 'value': '2.3.0', 'type': 'string'}, {'name': 'env_mock', 'value': '4.0.1', 'type': 'string'}, {'name': 'env_more-itertools', 'value': '8.2.0', 'type': 'string'}, {'name': 'env_mpmath', 'value': '1.1.0', 'type': 'string'}, {'name': 'env_msgpack', 'value': '0.6.1', 'type': 'string'}, {'name': 'env_multipledispatch', 'value': '0.6.0', 'type': 'string'}, {'name': 'env_navigator-updater', 'value': '0.2.1', 'type': 'string'}, {'name': 'env_nbconvert', 'value': '5.6.1', 'type': 'string'}, {'name': 'env_nbdime', 'value': '2.0.0', 'type': 'string'}, {'name': 'env_nbformat', 'value': '5.0.4', 'type': 'string'}, {'name': 'env_networkx', 'value': '2.4', 'type': 'string'}, {'name': 'env_nltk', 'value': '3.4.5', 'type': 'string'}, {'name': 'env_nose', 'value': '1.3.7', 'type': 'string'}, {'name': 'env_notebook', 'value': '6.0.3', 'type': 'string'}, {'name': 'env_numba', 'value': '0.48.0', 'type': 'string'}, {'name': 'env_numexpr', 'value': '2.7.1', 'type': 'string'}, {'name': 'env_numpy', 'value': '1.18.1', 'type': 'string'}, {'name': 'env_numpydoc', 'value': '0.9.2', 'type': 'string'}, {'name': 'env_oauthlib', 'value': '3.0.1', 'type': 'string'}, {'name': 'env_olefile', 'value': '0.46', 'type': 'string'}, {'name': 'env_openpyxl', 'value': '3.0.3', 'type': 'string'}, {'name': 'env_packaging', 'value': '20.1', 'type': 'string'}, {'name': 'env_pamela', 'value': '1.0.0', 'type': 'string'}, {'name': 'env_pandas', 'value': '1.0.1', 'type': 'string'}, {'name': 'env_pandocfilters', 'value': '1.4.2', 'type': 'string'}, {'name': 'env_parso', 'value': '0.5.2', 'type': 'string'}, {'name': 'env_partd', 'value': '1.1.0', 'type': 'string'}, {'name': 'env_path', 'value': '13.1.0', 'type': 'string'}, {'name': 'env_pathlib2', 'value': '2.3.5', 'type': 'string'}, {'name': 'env_pathtools', 'value': '0.1.2', 'type': 'string'}, {'name': 'env_patsy', 'value': '0.5.1', 'type': 'string'}, {'name': 'env_pep8', 'value': '1.7.1', 'type': 'string'}, {'name': 'env_pexpect', 'value': '4.8.0', 'type': 'string'}, {'name': 'env_pickleshare', 'value': '0.7.5', 'type': 'string'}, {'name': 'env_picklezip-mm', 'value': '1.0', 'type': 'string'}, {'name': 'env_Pillow', 'value': '7.0.0', 'type': 'string'}, {'name': 'env_pip', 'value': '20.0.2', 'type': 'string'}, {'name': 'env_pkginfo', 'value': '1.5.0.1', 'type': 'string'}, {'name': 'env_pluggy', 'value': '0.13.1', 'type': 'string'}, {'name': 'env_ply', 'value': '3.11', 'type': 'string'}, {'name': 'env_prometheus-client', 'value': '0.7.1', 'type': 'string'}, {'name': 'env_prompt-toolkit', 'value': '3.0.3', 'type': 'string'}, {'name': 'env_psutil', 'value': '5.6.7', 'type': 'string'}, {'name': 'env_ptyprocess', 'value': '0.6.0', 'type': 'string'}, {'name': 'env_py', 'value': '1.8.1', 'type': 'string'}, {'name': 'env_pycodestyle', 'value': '2.5.0', 'type': 'string'}, {'name': 'env_pycosat', 'value': '0.6.3', 'type': 'string'}, {'name': 'env_pycparser', 'value': '2.19', 'type': 'string'}, {'name': 'env_pycrypto', 'value': '2.6.1', 'type': 'string'}, {'name': 'env_pycurl', 'value': '7.43.0.5', 'type': 'string'}, {'name': 'env_pydocstyle', 'value': '4.0.1', 'type': 'string'}, {'name': 'env_pyflakes', 'value': '2.1.1', 'type': 'string'}, {'name': 'env_Pygments', 'value': '2.5.2', 'type': 'string'}, {'name': 'env_PyJWT', 'value': '1.7.1', 'type': 'string'}, {'name': 'env_pylint', 'value': '2.4.4', 'type': 'string'}, {'name': 'env_pyodbc', 'value': '=4.0.0-unsupported', 'type': 'string'}, {'name': 'env_pyOpenSSL', 'value': '19.1.0', 'type': 'string'}, {'name': 'env_pyparsing', 'value': '2.4.6', 'type': 'string'}, {'name': 'env_pyrsistent', 'value': '0.15.7', 'type': 'string'}, {'name': 'env_PySocks', 'value': '1.7.1', 'type': 'string'}, {'name': 'env_pytest', 'value': '5.3.5', 'type': 'string'}, {'name': 'env_pytest-arraydiff', 'value': '0.3', 'type': 'string'}, {'name': 'env_pytest-astropy', 'value': '0.8.0', 'type': 'string'}, {'name': 'env_pytest-astropy-header', 'value': '0.1.2', 'type': 'string'}, {'name': 'env_pytest-doctestplus', 'value': '0.5.0', 'type': 'string'}, {'name': 'env_pytest-openfiles', 'value': '0.4.0', 'type': 'string'}, {'name': 'env_pytest-remotedata', 'value': '0.3.2', 'type': 'string'}, {'name': 'env_python-dateutil', 'value': '2.8.1', 'type': 'string'}, {'name': 'env_python-editor', 'value': '1.0.4', 'type': 'string'}, {'name': 'env_python-json-logger', 'value': '0.1.11', 'type': 'string'}, {'name': 'env_python-jsonrpc-server', 'value': '0.3.4', 'type': 'string'}, {'name': 'env_python-language-server', 'value': '0.31.7', 'type': 'string'}, {'name': 'env_pytz', 'value': '2019.3', 'type': 'string'}, {'name': 'env_PyWavelets', 'value': '1.1.1', 'type': 'string'}, {'name': 'env_pyxdg', 'value': '0.26', 'type': 'string'}, {'name': 'env_PyYAML', 'value': '5.3', 'type': 'string'}, {'name': 'env_pyzmq', 'value': '18.1.1', 'type': 'string'}, {'name': 'env_QDarkStyle', 'value': '2.8', 'type': 'string'}, {'name': 'env_QtAwesome', 'value': '0.6.1', 'type': 'string'}, {'name': 'env_qtconsole', 'value': '4.6.0', 'type': 'string'}, {'name': 'env_QtPy', 'value': '1.9.0', 'type': 'string'}, {'name': 'env_requests', 'value': '2.22.0', 'type': 'string'}, {'name': 'env_rope', 'value': '0.16.0', 'type': 'string'}, {'name': 'env_Rtree', 'value': '0.9.3', 'type': 'string'}, {'name': 'env_ruamel-yaml', 'value': '0.15.87', 'type': 'string'}, {'name': 'env_ruamel.yaml.clib', 'value': '0.2.0', 'type': 'string'}, {'name': 'env_sasctl', 'value': '1.5.1', 'type': 'string'}, {'name': 'env_scikit-image', 'value': '0.16.2', 'type': 'string'}, {'name': 'env_scikit-learn', 'value': '0.22.1', 'type': 'string'}, {'name': 'env_scipy', 'value': '1.4.1', 'type': 'string'}, {'name': 'env_seaborn', 'value': '0.10.0', 'type': 'string'}, {'name': 'env_SecretStorage', 'value': '3.1.2', 'type': 'string'}, {'name': 'env_Send2Trash', 'value': '1.5.0', 'type': 'string'}, {'name': 'env_setuptools', 'value': '45.2.0.post20200210', 'type': 'string'}, {'name': 'env_simplegeneric', 'value': '0.8.1', 'type': 'string'}, {'name': 'env_singledispatch', 'value': '3.4.0.3', 'type': 'string'}, {'name': 'env_six', 'value': '1.14.0', 'type': 'string'}, {'name': 'env_smmap', 'value': '3.0.4', 'type': 'string'}, {'name': 'env_snowballstemmer', 'value': '2.0.0', 'type': 'string'}, {'name': 'env_sortedcollections', 'value': '1.1.2', 'type': 'string'}, {'name': 'env_sortedcontainers', 'value': '2.1.0', 'type': 'string'}, {'name': 'env_soupsieve', 'value': '1.9.5', 'type': 'string'}, {'name': 'env_Sphinx', 'value': '2.4.0', 'type': 'string'}, {'name': 'env_sphinxcontrib-applehelp', 'value': '1.0.1', 'type': 'string'}, {'name': 'env_sphinxcontrib-devhelp', 'value': '1.0.1', 'type': 'string'}, {'name': 'env_sphinxcontrib-htmlhelp', 'value': '1.0.2', 'type': 'string'}, {'name': 'env_sphinxcontrib-jsmath', 'value': '1.0.1', 'type': 'string'}, {'name': 'env_sphinxcontrib-qthelp', 'value': '1.0.2', 'type': 'string'}, {'name': 'env_sphinxcontrib-serializinghtml', 'value': '1.1.3', 'type': 'string'}, {'name': 'env_sphinxcontrib-websupport', 'value': '1.2.0', 'type': 'string'}, {'name': 'env_spyder', 'value': '4.0.1', 'type': 'string'}, {'name': 'env_spyder-kernels', 'value': '1.8.1', 'type': 'string'}, {'name': 'env_SQLAlchemy', 'value': '1.3.13', 'type': 'string'}, {'name': 'env_statsmodels', 'value': '0.11.0', 'type': 'string'}, {'name': 'env_swat', 'value': '1.6.1', 'type': 'string'}, {'name': 'env_sympy', 'value': '1.5.1', 'type': 'string'}, {'name': 'env_tables', 'value': '3.6.1', 'type': 'string'}, {'name': 'env_tblib', 'value': '1.6.0', 'type': 'string'}, {'name': 'env_terminado', 'value': '0.8.3', 'type': 'string'}, {'name': 'env_testpath', 'value': '0.4.4', 'type': 'string'}, {'name': 'env_toolz', 'value': '0.10.0', 'type': 'string'}, {'name': 'env_tornado', 'value': '6.0.3', 'type': 'string'}, {'name': 'env_tqdm', 'value': '4.42.1', 'type': 'string'}, {'name': 'env_traitlets', 'value': '4.3.3', 'type': 'string'}, {'name': 'env_ujson', 'value': '1.35', 'type': 'string'}, {'name': 'env_unicodecsv', 'value': '0.14.1', 'type': 'string'}, {'name': 'env_urllib3', 'value': '1.25.8', 'type': 'string'}, {'name': 'env_watchdog', 'value': '0.10.2', 'type': 'string'}, {'name': 'env_wcwidth', 'value': '0.1.8', 'type': 'string'}, {'name': 'env_webencodings', 'value': '0.5.1', 'type': 'string'}, {'name': 'env_Werkzeug', 'value': '1.0.0', 'type': 'string'}, {'name': 'env_wheel', 'value': '0.34.2', 'type': 'string'}, {'name': 'env_widgetsnbextension', 'value': '3.5.1', 'type': 'string'}, {'name': 'env_wrapt', 'value': '1.11.2', 'type': 'string'}, {'name': 'env_wurlitzer', 'value': '2.0.0', 'type': 'string'}, {'name': 'env_xlrd', 'value': '1.2.0', 'type': 'string'}, {'name': 'env_XlsxWriter', 'value': '1.2.7', 'type': 'string'}, {'name': 'env_xlwt', 'value': '1.3.0', 'type': 'string'}, {'name': 'env_xmltodict', 'value': '0.12.0', 'type': 'string'}, {'name': 'env_yapf', 'value': '0.28.0', 'type': 'string'}, {'name': 'env_zict', 'value': '1.0.0', 'type': 'string'}, {'name': 'env_zipp', 'value': '2.2.0', 'type': 'string'}], 'inputVariables': [{'creationTimeStamp': '2020-07-21T09:08:38.574Z', 'modifiedTimeStamp': '2020-07-21T09:08:38.574Z', 'createdBy': 'viyademo01', 'modifiedBy': 'viyademo01', 'links': [{'method': 'GET', 'rel': 'up', 'href': '/modelRepository/models/8c29ce9e-0536-4b19-8bef-6b3e24ffb12e/variables/2b3bb483-54b2-432f-a8fe-4b32d7507ab8', 'uri': '/modelRepository/models/8c29ce9e-0536-4b19-8bef-6b3e24ffb12e/variables', 'type': 'application/vnd.sas.collection', 'itemType': 'application/vnd.sas.models.variable'}, {'method': 'GET', 'rel': 'self', 'href': '/modelRepository/models/8c29ce9e-0536-4b19-8bef-6b3e24ffb12e/variables/2b3bb483-54b2-432f-a8fe-4b32d7507ab8', 'uri': '/modelRepository/models/8c29ce9e-0536-4b19-8bef-6b3e24ffb12e/variables/2b3bb483-54b2-432f-a8fe-4b32d7507ab8', 'type': 'application/vnd.sas.models.variable'}, {'method': 'PUT', 'rel': 'update', 'href': '/modelRepository/models/8c29ce9e-0536-4b19-8bef-6b3e24ffb12e/variables/2b3bb483-54b2-432f-a8fe-4b32d7507ab8', 'uri': '/modelRepository/models/8c29ce9e-0536-4b19-8bef-6b3e24ffb12e/variables/2b3bb483-54b2-432f-a8fe-4b32d7507ab8', 'type': 'application/vnd.sas.models.variable'}, {'method': 'DELETE', 'rel': 'delete', 'href': '/modelRepository/models/8c29ce9e-0536-4b19-8bef-6b3e24ffb12e/variables/2b3bb483-54b2-432f-a8fe-4b32d7507ab8', 'uri': '/modelRepository/models/8c29ce9e-0536-4b19-8bef-6b3e24ffb12e/variables/2b3bb483-54b2-432f-a8fe-4b32d7507ab8'}], 'version': 2, 'id': '2b3bb483-54b2-432f-a8fe-4b32d7507ab8', 'name': 'CRIM', 'role': 'input', 'type': 'decimal'}, {'creationTimeStamp': '2020-07-21T09:08:38.575Z', 'modifiedTimeStamp': '2020-07-21T09:08:38.575Z', 'createdBy': 'viyademo01', 'modifiedBy': 'viyademo01', 'links': [{'method': 'GET', 'rel': 'up', 'href': '/modelRepository/models/8c29ce9e-0536-4b19-8bef-6b3e24ffb12e/variables/1b28cb36-b4ad-4f0a-8977-d100c2a1a42e', 'uri': '/modelRepository/models/8c29ce9e-0536-4b19-8bef-6b3e24ffb12e/variables', 'type': 'application/vnd.sas.collection', 'itemType': 'application/vnd.sas.models.variable'}, {'method': 'GET', 'rel': 'self', 'href': '/modelRepository/models/8c29ce9e-0536-4b19-8bef-6b3e24ffb12e/variables/1b28cb36-b4ad-4f0a-8977-d100c2a1a42e', 'uri': '/modelRepository/models/8c29ce9e-0536-4b19-8bef-6b3e24ffb12e/variables/1b28cb36-b4ad-4f0a-8977-d100c2a1a42e', 'type': 'application/vnd.sas.models.variable'}, {'method': 'PUT', 'rel': 'update', 'href': '/modelRepository/models/8c29ce9e-0536-4b19-8bef-6b3e24ffb12e/variables/1b28cb36-b4ad-4f0a-8977-d100c2a1a42e', 'uri': '/modelRepository/models/8c29ce9e-0536-4b19-8bef-6b3e24ffb12e/variables/1b28cb36-b4ad-4f0a-8977-d100c2a1a42e', 'type': 'application/vnd.sas.models.variable'}, {'method': 'DELETE', 'rel': 'delete', 'href': '/modelRepository/models/8c29ce9e-0536-4b19-8bef-6b3e24ffb12e/variables/1b28cb36-b4ad-4f0a-8977-d100c2a1a42e', 'uri': '/modelRepository/models/8c29ce9e-0536-4b19-8bef-6b3e24ffb12e/variables/1b28cb36-b4ad-4f0a-8977-d100c2a1a42e'}], 'version': 2, 'id': '1b28cb36-b4ad-4f0a-8977-d100c2a1a42e', 'name': 'ZN', 'role': 'input', 'type': 'decimal'}, {'creationTimeStamp': '2020-07-21T09:08:38.575Z', 'modifiedTimeStamp': '2020-07-21T09:08:38.575Z', 'createdBy': 'viyademo01', 'modifiedBy': 'viyademo01', 'links': [{'method': 'GET', 'rel': 'up', 'href': '/modelRepository/models/8c29ce9e-0536-4b19-8bef-6b3e24ffb12e/variables/a94407a2-5957-4de4-a074-5f706de6ac25', 'uri': '/modelRepository/models/8c29ce9e-0536-4b19-8bef-6b3e24ffb12e/variables', 'type': 'application/vnd.sas.collection', 'itemType': 'application/vnd.sas.models.variable'}, {'method': 'GET', 'rel': 'self', 'href': '/modelRepository/models/8c29ce9e-0536-4b19-8bef-6b3e24ffb12e/variables/a94407a2-5957-4de4-a074-5f706de6ac25', 'uri': '/modelRepository/models/8c29ce9e-0536-4b19-8bef-6b3e24ffb12e/variables/a94407a2-5957-4de4-a074-5f706de6ac25', 'type': 'application/vnd.sas.models.variable'}, {'method': 'PUT', 'rel': 'update', 'href': '/modelRepository/models/8c29ce9e-0536-4b19-8bef-6b3e24ffb12e/variables/a94407a2-5957-4de4-a074-5f706de6ac25', 'uri': '/modelRepository/models/8c29ce9e-0536-4b19-8bef-6b3e24ffb12e/variables/a94407a2-5957-4de4-a074-5f706de6ac25', 'type': 'application/vnd.sas.models.variable'}, {'method': 'DELETE', 'rel': 'delete', 'href': '/modelRepository/models/8c29ce9e-0536-4b19-8bef-6b3e24ffb12e/variables/a94407a2-5957-4de4-a074-5f706de6ac25', 'uri': '/modelRepository/models/8c29ce9e-0536-4b19-8bef-6b3e24ffb12e/variables/a94407a2-5957-4de4-a074-5f706de6ac25'}], 'version': 2, 'id': 'a94407a2-5957-4de4-a074-5f706de6ac25', 'name': 'INDUS', 'role': 'input', 'type': 'decimal'}, {'creationTimeStamp': '2020-07-21T09:08:38.575Z', 'modifiedTimeStamp': '2020-07-21T09:08:38.575Z', 'createdBy': 'viyademo01', 'modifiedBy': 'viyademo01', 'links': [{'method': 'GET', 'rel': 'up', 'href': '/modelRepository/models/8c29ce9e-0536-4b19-8bef-6b3e24ffb12e/variables/845812b8-c247-4248-96b2-3650635af01b', 'uri': '/modelRepository/models/8c29ce9e-0536-4b19-8bef-6b3e24ffb12e/variables', 'type': 'application/vnd.sas.collection', 'itemType': 'application/vnd.sas.models.variable'}, {'method': 'GET', 'rel': 'self', 'href': '/modelRepository/models/8c29ce9e-0536-4b19-8bef-6b3e24ffb12e/variables/845812b8-c247-4248-96b2-3650635af01b', 'uri': '/modelRepository/models/8c29ce9e-0536-4b19-8bef-6b3e24ffb12e/variables/845812b8-c247-4248-96b2-3650635af01b', 'type': 'application/vnd.sas.models.variable'}, {'method': 'PUT', 'rel': 'update', 'href': '/modelRepository/models/8c29ce9e-0536-4b19-8bef-6b3e24ffb12e/variables/845812b8-c247-4248-96b2-3650635af01b', 'uri': '/modelRepository/models/8c29ce9e-0536-4b19-8bef-6b3e24ffb12e/variables/845812b8-c247-4248-96b2-3650635af01b', 'type': 'application/vnd.sas.models.variable'}, {'method': 'DELETE', 'rel': 'delete', 'href': '/modelRepository/models/8c29ce9e-0536-4b19-8bef-6b3e24ffb12e/variables/845812b8-c247-4248-96b2-3650635af01b', 'uri': '/modelRepository/models/8c29ce9e-0536-4b19-8bef-6b3e24ffb12e/variables/845812b8-c247-4248-96b2-3650635af01b'}], 'version': 2, 'id': '845812b8-c247-4248-96b2-3650635af01b', 'name': 'CHAS', 'role': 'input', 'type': 'decimal'}, {'creationTimeStamp': '2020-07-21T09:08:38.575Z', 'modifiedTimeStamp': '2020-07-21T09:08:38.575Z', 'createdBy': 'viyademo01', 'modifiedBy': 'viyademo01', 'links': [{'method': 'GET', 'rel': 'up', 'href': '/modelRepository/models/8c29ce9e-0536-4b19-8bef-6b3e24ffb12e/variables/956387f0-d79f-453d-9a49-44aa90ebcd8a', 'uri': '/modelRepository/models/8c29ce9e-0536-4b19-8bef-6b3e24ffb12e/variables', 'type': 'application/vnd.sas.collection', 'itemType': 'application/vnd.sas.models.variable'}, {'method': 'GET', 'rel': 'self', 'href': '/modelRepository/models/8c29ce9e-0536-4b19-8bef-6b3e24ffb12e/variables/956387f0-d79f-453d-9a49-44aa90ebcd8a', 'uri': '/modelRepository/models/8c29ce9e-0536-4b19-8bef-6b3e24ffb12e/variables/956387f0-d79f-453d-9a49-44aa90ebcd8a', 'type': 'application/vnd.sas.models.variable'}, {'method': 'PUT', 'rel': 'update', 'href': '/modelRepository/models/8c29ce9e-0536-4b19-8bef-6b3e24ffb12e/variables/956387f0-d79f-453d-9a49-44aa90ebcd8a', 'uri': '/modelRepository/models/8c29ce9e-0536-4b19-8bef-6b3e24ffb12e/variables/956387f0-d79f-453d-9a49-44aa90ebcd8a', 'type': 'application/vnd.sas.models.variable'}, {'method': 'DELETE', 'rel': 'delete', 'href': '/modelRepository/models/8c29ce9e-0536-4b19-8bef-6b3e24ffb12e/variables/956387f0-d79f-453d-9a49-44aa90ebcd8a', 'uri': '/modelRepository/models/8c29ce9e-0536-4b19-8bef-6b3e24ffb12e/variables/956387f0-d79f-453d-9a49-44aa90ebcd8a'}], 'version': 2, 'id': '956387f0-d79f-453d-9a49-44aa90ebcd8a', 'name': 'NOX', 'role': 'input', 'type': 'decimal'}, {'creationTimeStamp': '2020-07-21T09:08:38.575Z', 'modifiedTimeStamp': '2020-07-21T09:08:38.575Z', 'createdBy': 'viyademo01', 'modifiedBy': 'viyademo01', 'links': [{'method': 'GET', 'rel': 'up', 'href': '/modelRepository/models/8c29ce9e-0536-4b19-8bef-6b3e24ffb12e/variables/55c9bb93-faba-4d7a-84ca-de8d6279748d', 'uri': '/modelRepository/models/8c29ce9e-0536-4b19-8bef-6b3e24ffb12e/variables', 'type': 'application/vnd.sas.collection', 'itemType': 'application/vnd.sas.models.variable'}, {'method': 'GET', 'rel': 'self', 'href': '/modelRepository/models/8c29ce9e-0536-4b19-8bef-6b3e24ffb12e/variables/55c9bb93-faba-4d7a-84ca-de8d6279748d', 'uri': '/modelRepository/models/8c29ce9e-0536-4b19-8bef-6b3e24ffb12e/variables/55c9bb93-faba-4d7a-84ca-de8d6279748d', 'type': 'application/vnd.sas.models.variable'}, {'method': 'PUT', 'rel': 'update', 'href': '/modelRepository/models/8c29ce9e-0536-4b19-8bef-6b3e24ffb12e/variables/55c9bb93-faba-4d7a-84ca-de8d6279748d', 'uri': '/modelRepository/models/8c29ce9e-0536-4b19-8bef-6b3e24ffb12e/variables/55c9bb93-faba-4d7a-84ca-de8d6279748d', 'type': 'application/vnd.sas.models.variable'}, {'method': 'DELETE', 'rel': 'delete', 'href': '/modelRepository/models/8c29ce9e-0536-4b19-8bef-6b3e24ffb12e/variables/55c9bb93-faba-4d7a-84ca-de8d6279748d', 'uri': '/modelRepository/models/8c29ce9e-0536-4b19-8bef-6b3e24ffb12e/variables/55c9bb93-faba-4d7a-84ca-de8d6279748d'}], 'version': 2, 'id': '55c9bb93-faba-4d7a-84ca-de8d6279748d', 'name': 'RM', 'role': 'input', 'type': 'decimal'}, {'creationTimeStamp': '2020-07-21T09:08:38.576Z', 'modifiedTimeStamp': '2020-07-21T09:08:38.576Z', 'createdBy': 'viyademo01', 'modifiedBy': 'viyademo01', 'links': [{'method': 'GET', 'rel': 'up', 'href': '/modelRepository/models/8c29ce9e-0536-4b19-8bef-6b3e24ffb12e/variables/8ba5bc93-4dae-4a90-b41e-c0dae14bb0c3', 'uri': '/modelRepository/models/8c29ce9e-0536-4b19-8bef-6b3e24ffb12e/variables', 'type': 'application/vnd.sas.collection', 'itemType': 'application/vnd.sas.models.variable'}, {'method': 'GET', 'rel': 'self', 'href': '/modelRepository/models/8c29ce9e-0536-4b19-8bef-6b3e24ffb12e/variables/8ba5bc93-4dae-4a90-b41e-c0dae14bb0c3', 'uri': '/modelRepository/models/8c29ce9e-0536-4b19-8bef-6b3e24ffb12e/variables/8ba5bc93-4dae-4a90-b41e-c0dae14bb0c3', 'type': 'application/vnd.sas.models.variable'}, {'method': 'PUT', 'rel': 'update', 'href': '/modelRepository/models/8c29ce9e-0536-4b19-8bef-6b3e24ffb12e/variables/8ba5bc93-4dae-4a90-b41e-c0dae14bb0c3', 'uri': '/modelRepository/models/8c29ce9e-0536-4b19-8bef-6b3e24ffb12e/variables/8ba5bc93-4dae-4a90-b41e-c0dae14bb0c3', 'type': 'application/vnd.sas.models.variable'}, {'method': 'DELETE', 'rel': 'delete', 'href': '/modelRepository/models/8c29ce9e-0536-4b19-8bef-6b3e24ffb12e/variables/8ba5bc93-4dae-4a90-b41e-c0dae14bb0c3', 'uri': '/modelRepository/models/8c29ce9e-0536-4b19-8bef-6b3e24ffb12e/variables/8ba5bc93-4dae-4a90-b41e-c0dae14bb0c3'}], 'version': 2, 'id': '8ba5bc93-4dae-4a90-b41e-c0dae14bb0c3', 'name': 'AGE', 'role': 'input', 'type': 'decimal'}, {'creationTimeStamp': '2020-07-21T09:08:38.576Z', 'modifiedTimeStamp': '2020-07-21T09:08:38.576Z', 'createdBy': 'viyademo01', 'modifiedBy': 'viyademo01', 'links': [{'method': 'GET', 'rel': 'up', 'href': '/modelRepository/models/8c29ce9e-0536-4b19-8bef-6b3e24ffb12e/variables/af089a35-6f7f-4199-8188-45df84e4be25', 'uri': '/modelRepository/models/8c29ce9e-0536-4b19-8bef-6b3e24ffb12e/variables', 'type': 'application/vnd.sas.collection', 'itemType': 'application/vnd.sas.models.variable'}, {'method': 'GET', 'rel': 'self', 'href': '/modelRepository/models/8c29ce9e-0536-4b19-8bef-6b3e24ffb12e/variables/af089a35-6f7f-4199-8188-45df84e4be25', 'uri': '/modelRepository/models/8c29ce9e-0536-4b19-8bef-6b3e24ffb12e/variables/af089a35-6f7f-4199-8188-45df84e4be25', 'type': 'application/vnd.sas.models.variable'}, {'method': 'PUT', 'rel': 'update', 'href': '/modelRepository/models/8c29ce9e-0536-4b19-8bef-6b3e24ffb12e/variables/af089a35-6f7f-4199-8188-45df84e4be25', 'uri': '/modelRepository/models/8c29ce9e-0536-4b19-8bef-6b3e24ffb12e/variables/af089a35-6f7f-4199-8188-45df84e4be25', 'type': 'application/vnd.sas.models.variable'}, {'method': 'DELETE', 'rel': 'delete', 'href': '/modelRepository/models/8c29ce9e-0536-4b19-8bef-6b3e24ffb12e/variables/af089a35-6f7f-4199-8188-45df84e4be25', 'uri': '/modelRepository/models/8c29ce9e-0536-4b19-8bef-6b3e24ffb12e/variables/af089a35-6f7f-4199-8188-45df84e4be25'}], 'version': 2, 'id': 'af089a35-6f7f-4199-8188-45df84e4be25', 'name': 'DIS', 'role': 'input', 'type': 'decimal'}, {'creationTimeStamp': '2020-07-21T09:08:38.576Z', 'modifiedTimeStamp': '2020-07-21T09:08:38.576Z', 'createdBy': 'viyademo01', 'modifiedBy': 'viyademo01', 'links': [{'method': 'GET', 'rel': 'up', 'href': '/modelRepository/models/8c29ce9e-0536-4b19-8bef-6b3e24ffb12e/variables/4f73c200-9428-4c93-a557-2909cc58da3e', 'uri': '/modelRepository/models/8c29ce9e-0536-4b19-8bef-6b3e24ffb12e/variables', 'type': 'application/vnd.sas.collection', 'itemType': 'application/vnd.sas.models.variable'}, {'method': 'GET', 'rel': 'self', 'href': '/modelRepository/models/8c29ce9e-0536-4b19-8bef-6b3e24ffb12e/variables/4f73c200-9428-4c93-a557-2909cc58da3e', 'uri': '/modelRepository/models/8c29ce9e-0536-4b19-8bef-6b3e24ffb12e/variables/4f73c200-9428-4c93-a557-2909cc58da3e', 'type': 'application/vnd.sas.models.variable'}, {'method': 'PUT', 'rel': 'update', 'href': '/modelRepository/models/8c29ce9e-0536-4b19-8bef-6b3e24ffb12e/variables/4f73c200-9428-4c93-a557-2909cc58da3e', 'uri': '/modelRepository/models/8c29ce9e-0536-4b19-8bef-6b3e24ffb12e/variables/4f73c200-9428-4c93-a557-2909cc58da3e', 'type': 'application/vnd.sas.models.variable'}, {'method': 'DELETE', 'rel': 'delete', 'href': '/modelRepository/models/8c29ce9e-0536-4b19-8bef-6b3e24ffb12e/variables/4f73c200-9428-4c93-a557-2909cc58da3e', 'uri': '/modelRepository/models/8c29ce9e-0536-4b19-8bef-6b3e24ffb12e/variables/4f73c200-9428-4c93-a557-2909cc58da3e'}], 'version': 2, 'id': '4f73c200-9428-4c93-a557-2909cc58da3e', 'name': 'RAD', 'role': 'input', 'type': 'decimal'}, {'creationTimeStamp': '2020-07-21T09:08:38.576Z', 'modifiedTimeStamp': '2020-07-21T09:08:38.576Z', 'createdBy': 'viyademo01', 'modifiedBy': 'viyademo01', 'links': [{'method': 'GET', 'rel': 'up', 'href': '/modelRepository/models/8c29ce9e-0536-4b19-8bef-6b3e24ffb12e/variables/967248f6-0032-40e3-951a-5b5410441ffb', 'uri': '/modelRepository/models/8c29ce9e-0536-4b19-8bef-6b3e24ffb12e/variables', 'type': 'application/vnd.sas.collection', 'itemType': 'application/vnd.sas.models.variable'}, {'method': 'GET', 'rel': 'self', 'href': '/modelRepository/models/8c29ce9e-0536-4b19-8bef-6b3e24ffb12e/variables/967248f6-0032-40e3-951a-5b5410441ffb', 'uri': '/modelRepository/models/8c29ce9e-0536-4b19-8bef-6b3e24ffb12e/variables/967248f6-0032-40e3-951a-5b5410441ffb', 'type': 'application/vnd.sas.models.variable'}, {'method': 'PUT', 'rel': 'update', 'href': '/modelRepository/models/8c29ce9e-0536-4b19-8bef-6b3e24ffb12e/variables/967248f6-0032-40e3-951a-5b5410441ffb', 'uri': '/modelRepository/models/8c29ce9e-0536-4b19-8bef-6b3e24ffb12e/variables/967248f6-0032-40e3-951a-5b5410441ffb', 'type': 'application/vnd.sas.models.variable'}, {'method': 'DELETE', 'rel': 'delete', 'href': '/modelRepository/models/8c29ce9e-0536-4b19-8bef-6b3e24ffb12e/variables/967248f6-0032-40e3-951a-5b5410441ffb', 'uri': '/modelRepository/models/8c29ce9e-0536-4b19-8bef-6b3e24ffb12e/variables/967248f6-0032-40e3-951a-5b5410441ffb'}], 'version': 2, 'id': '967248f6-0032-40e3-951a-5b5410441ffb', 'name': 'TAX', 'role': 'input', 'type': 'decimal'}, {'creationTimeStamp': '2020-07-21T09:08:38.576Z', 'modifiedTimeStamp': '2020-07-21T09:08:38.576Z', 'createdBy': 'viyademo01', 'modifiedBy': 'viyademo01', 'links': [{'method': 'GET', 'rel': 'up', 'href': '/modelRepository/models/8c29ce9e-0536-4b19-8bef-6b3e24ffb12e/variables/0d77b6ad-ea0c-45c7-8069-52bf890573ce', 'uri': '/modelRepository/models/8c29ce9e-0536-4b19-8bef-6b3e24ffb12e/variables', 'type': 'application/vnd.sas.collection', 'itemType': 'application/vnd.sas.models.variable'}, {'method': 'GET', 'rel': 'self', 'href': '/modelRepository/models/8c29ce9e-0536-4b19-8bef-6b3e24ffb12e/variables/0d77b6ad-ea0c-45c7-8069-52bf890573ce', 'uri': '/modelRepository/models/8c29ce9e-0536-4b19-8bef-6b3e24ffb12e/variables/0d77b6ad-ea0c-45c7-8069-52bf890573ce', 'type': 'application/vnd.sas.models.variable'}, {'method': 'PUT', 'rel': 'update', 'href': '/modelRepository/models/8c29ce9e-0536-4b19-8bef-6b3e24ffb12e/variables/0d77b6ad-ea0c-45c7-8069-52bf890573ce', 'uri': '/modelRepository/models/8c29ce9e-0536-4b19-8bef-6b3e24ffb12e/variables/0d77b6ad-ea0c-45c7-8069-52bf890573ce', 'type': 'application/vnd.sas.models.variable'}, {'method': 'DELETE', 'rel': 'delete', 'href': '/modelRepository/models/8c29ce9e-0536-4b19-8bef-6b3e24ffb12e/variables/0d77b6ad-ea0c-45c7-8069-52bf890573ce', 'uri': '/modelRepository/models/8c29ce9e-0536-4b19-8bef-6b3e24ffb12e/variables/0d77b6ad-ea0c-45c7-8069-52bf890573ce'}], 'version': 2, 'id': '0d77b6ad-ea0c-45c7-8069-52bf890573ce', 'name': 'PTRATIO', 'role': 'input', 'type': 'decimal'}, {'creationTimeStamp': '2020-07-21T09:08:38.576Z', 'modifiedTimeStamp': '2020-07-21T09:08:38.576Z', 'createdBy': 'viyademo01', 'modifiedBy': 'viyademo01', 'links': [{'method': 'GET', 'rel': 'up', 'href': '/modelRepository/models/8c29ce9e-0536-4b19-8bef-6b3e24ffb12e/variables/c91d684c-8ffd-43f3-9656-d9972f896053', 'uri': '/modelRepository/models/8c29ce9e-0536-4b19-8bef-6b3e24ffb12e/variables', 'type': 'application/vnd.sas.collection', 'itemType': 'application/vnd.sas.models.variable'}, {'method': 'GET', 'rel': 'self', 'href': '/modelRepository/models/8c29ce9e-0536-4b19-8bef-6b3e24ffb12e/variables/c91d684c-8ffd-43f3-9656-d9972f896053', 'uri': '/modelRepository/models/8c29ce9e-0536-4b19-8bef-6b3e24ffb12e/variables/c91d684c-8ffd-43f3-9656-d9972f896053', 'type': 'application/vnd.sas.models.variable'}, {'method': 'PUT', 'rel': 'update', 'href': '/modelRepository/models/8c29ce9e-0536-4b19-8bef-6b3e24ffb12e/variables/c91d684c-8ffd-43f3-9656-d9972f896053', 'uri': '/modelRepository/models/8c29ce9e-0536-4b19-8bef-6b3e24ffb12e/variables/c91d684c-8ffd-43f3-9656-d9972f896053', 'type': 'application/vnd.sas.models.variable'}, {'method': 'DELETE', 'rel': 'delete', 'href': '/modelRepository/models/8c29ce9e-0536-4b19-8bef-6b3e24ffb12e/variables/c91d684c-8ffd-43f3-9656-d9972f896053', 'uri': '/modelRepository/models/8c29ce9e-0536-4b19-8bef-6b3e24ffb12e/variables/c91d684c-8ffd-43f3-9656-d9972f896053'}], 'version': 2, 'id': 'c91d684c-8ffd-43f3-9656-d9972f896053', 'name': 'B', 'role': 'input', 'type': 'decimal'}, {'creationTimeStamp': '2020-07-21T09:08:38.576Z', 'modifiedTimeStamp': '2020-07-21T09:08:38.576Z', 'createdBy': 'viyademo01', 'modifiedBy': 'viyademo01', 'links': [{'method': 'GET', 'rel': 'up', 'href': '/modelRepository/models/8c29ce9e-0536-4b19-8bef-6b3e24ffb12e/variables/6cf90e16-3a9c-4a18-8cb2-f8c4f85d3bdb', 'uri': '/modelRepository/models/8c29ce9e-0536-4b19-8bef-6b3e24ffb12e/variables', 'type': 'application/vnd.sas.collection', 'itemType': 'application/vnd.sas.models.variable'}, {'method': 'GET', 'rel': 'self', 'href': '/modelRepository/models/8c29ce9e-0536-4b19-8bef-6b3e24ffb12e/variables/6cf90e16-3a9c-4a18-8cb2-f8c4f85d3bdb', 'uri': '/modelRepository/models/8c29ce9e-0536-4b19-8bef-6b3e24ffb12e/variables/6cf90e16-3a9c-4a18-8cb2-f8c4f85d3bdb', 'type': 'application/vnd.sas.models.variable'}, {'method': 'PUT', 'rel': 'update', 'href': '/modelRepository/models/8c29ce9e-0536-4b19-8bef-6b3e24ffb12e/variables/6cf90e16-3a9c-4a18-8cb2-f8c4f85d3bdb', 'uri': '/modelRepository/models/8c29ce9e-0536-4b19-8bef-6b3e24ffb12e/variables/6cf90e16-3a9c-4a18-8cb2-f8c4f85d3bdb', 'type': 'application/vnd.sas.models.variable'}, {'method': 'DELETE', 'rel': 'delete', 'href': '/modelRepository/models/8c29ce9e-0536-4b19-8bef-6b3e24ffb12e/variables/6cf90e16-3a9c-4a18-8cb2-f8c4f85d3bdb', 'uri': '/modelRepository/models/8c29ce9e-0536-4b19-8bef-6b3e24ffb12e/variables/6cf90e16-3a9c-4a18-8cb2-f8c4f85d3bdb'}], 'version': 2, 'id': '6cf90e16-3a9c-4a18-8cb2-f8c4f85d3bdb', 'name': 'LSTAT', 'role': 'input', 'type': 'decimal'}], 'outputVariables': [{'creationTimeStamp': '2020-07-21T09:08:38.577Z', 'modifiedTimeStamp': '2020-07-21T09:08:38.577Z', 'createdBy': 'viyademo01', 'modifiedBy': 'viyademo01', 'links': [{'method': 'GET', 'rel': 'up', 'href': '/modelRepository/models/8c29ce9e-0536-4b19-8bef-6b3e24ffb12e/variables/3b8f4109-f8c8-4ea2-beb2-e092267658f0', 'uri': '/modelRepository/models/8c29ce9e-0536-4b19-8bef-6b3e24ffb12e/variables', 'type': 'application/vnd.sas.collection', 'itemType': 'application/vnd.sas.models.variable'}, {'method': 'GET', 'rel': 'self', 'href': '/modelRepository/models/8c29ce9e-0536-4b19-8bef-6b3e24ffb12e/variables/3b8f4109-f8c8-4ea2-beb2-e092267658f0', 'uri': '/modelRepository/models/8c29ce9e-0536-4b19-8bef-6b3e24ffb12e/variables/3b8f4109-f8c8-4ea2-beb2-e092267658f0', 'type': 'application/vnd.sas.models.variable'}, {'method': 'PUT', 'rel': 'update', 'href': '/modelRepository/models/8c29ce9e-0536-4b19-8bef-6b3e24ffb12e/variables/3b8f4109-f8c8-4ea2-beb2-e092267658f0', 'uri': '/modelRepository/models/8c29ce9e-0536-4b19-8bef-6b3e24ffb12e/variables/3b8f4109-f8c8-4ea2-beb2-e092267658f0', 'type': 'application/vnd.sas.models.variable'}, {'method': 'DELETE', 'rel': 'delete', 'href': '/modelRepository/models/8c29ce9e-0536-4b19-8bef-6b3e24ffb12e/variables/3b8f4109-f8c8-4ea2-beb2-e092267658f0', 'uri': '/modelRepository/models/8c29ce9e-0536-4b19-8bef-6b3e24ffb12e/variables/3b8f4109-f8c8-4ea2-beb2-e092267658f0'}], 'version': 2, 'id': '3b8f4109-f8c8-4ea2-beb2-e092267658f0', 'name': 'var1', 'role': 'output', 'type': 'decimal'}], 'modelVersions': [], 'modelVersionName': '1.0', 'retrainable': False, 'tags': [], 'globalTags': []})"
      ]
     },
     "execution_count": 9,
     "metadata": {},
     "output_type": "execute_result"
    }
   ],
   "source": [
    "register_model(lm,\n",
    "               model_name,\n",
    "               input=X_train,       # Use X to determine model inputs\n",
    "               project=project,     # Register in \"Iris\" project\n",
    "               force=True)          # Create project if it doesn't exist"
   ]
  },
  {
   "cell_type": "markdown",
   "metadata": {},
   "source": [
    "## Update SAS Model Manager project properties"
   ]
  },
  {
   "cell_type": "code",
   "execution_count": 10,
   "metadata": {},
   "outputs": [],
   "source": [
    "project = mr.get_project(project)\n",
    "\n",
    "project['function'] = 'prediction'\n",
    "project['targetLevel'] = 'interval'\n",
    "project['targetVariable'] = 'Price'\n",
    "project['predictionVariable'] = 'var1'\n",
    "\n",
    "project = mr.update_project(project)"
   ]
  },
  {
   "cell_type": "markdown",
   "metadata": {},
   "source": [
    "# Instruct the project to look for tables in the \"Public\" CAS library with names starting with \"boston_\" and use these tables to track model performance over time."
   ]
  },
  {
   "cell_type": "code",
   "execution_count": 11,
   "metadata": {
    "collapsed": true,
    "jupyter": {
     "outputs_hidden": true
    }
   },
   "outputs": [
    {
     "data": {
      "text/plain": [
       "<class 'sasctl.core.RestObj'>(headers={'Date': 'Tue, 21 Jul 2020 09:08:57 GMT', 'Server': 'Apache/2.4', 'Content-Security-Policy': \"default-src 'self'; script-src 'self' 'unsafe-inline' 'unsafe-eval'; img-src 'self' *.sas.com blob: data:; style-src 'self' 'unsafe-inline'; child-src 'self' blob: data: mailto:;\", 'Location': '/modelManagement/performanceTasks/1f8ed609-019a-4ff0-ad47-197193da44c5', 'ETag': '\"kcvpuioj\"', 'Last-Modified': 'Tue, 21 Jul 2020 09:08:55 GMT', 'Cache-Control': 'no-cache, no-store, max-age=0, must-revalidate', 'Pragma': 'no-cache', 'Expires': '0', 'Strict-Transport-Security': 'max-age=31536000 ; includeSubDomains', 'X-Frame-Options': 'SAMEORIGIN', 'Content-Type': 'application/vnd.sas.models.performance.task+json;charset=UTF-8', 'X-Content-Type-Options': 'nosniff', 'X-XSS-Protection': '1; mode=block', 'Vary': 'User-Agent', 'Keep-Alive': 'timeout=5, max=97', 'Connection': 'Keep-Alive', 'Transfer-Encoding': 'chunked'}, data={'creationTimeStamp': '2020-07-21T09:08:55.699Z', 'modifiedTimeStamp': '2020-07-21T09:08:55.699Z', 'createdBy': 'viyademo01', 'modifiedBy': 'viyademo01', 'links': [{'method': 'GET', 'rel': 'self', 'href': '/modelManagement/performanceTasks/1f8ed609-019a-4ff0-ad47-197193da44c5', 'uri': '/modelManagement/performanceTasks/1f8ed609-019a-4ff0-ad47-197193da44c5'}], 'version': 2, 'id': '1f8ed609-019a-4ff0-ad47-197193da44c5', 'projectId': 'e33946f3-6e45-473e-9320-88f30a92ba57', 'modelIds': ['8c29ce9e-0536-4b19-8bef-6b3e24ffb12e'], 'name': 'Boston Regression Performance', 'description': 'Performance definition for model Boston Regression', 'outputVariables': ['var1'], 'inputVariables': ['AGE', 'B', 'CHAS', 'CRIM', 'DIS', 'INDUS', 'LSTAT', 'NOX', 'PTRATIO', 'RAD', 'RM', 'TAX', 'ZN'], 'scoreExecutionRequired': False, 'performanceResultSaved': True, 'traceOn': False, 'maxBins': 10, 'resultLibrary': 'ModelPerformanceData', 'casServerId': 'cas-shared-default', 'dataLibrary': 'Public', 'dataPrefix': 'boston', 'includeAllData': False, 'loadPerformanceResult': False, 'championMonitored': False, 'challengerMonitored': False})"
      ]
     },
     "execution_count": 11,
     "metadata": {},
     "output_type": "execute_result"
    }
   ],
   "source": [
    "mm.create_performance_definition(model_name, 'Public', 'boston')"
   ]
  },
  {
   "cell_type": "markdown",
   "metadata": {},
   "source": [
    "## Publish the model to the real-time scoring engine"
   ]
  },
  {
   "cell_type": "code",
   "execution_count": 12,
   "metadata": {},
   "outputs": [],
   "source": [
    "module_lm = publish_model(model_name, 'maslocal')"
   ]
  },
  {
   "cell_type": "markdown",
   "metadata": {},
   "source": [
    "## Select the first row of training data"
   ]
  },
  {
   "cell_type": "code",
   "execution_count": 18,
   "metadata": {},
   "outputs": [
    {
     "name": "stdout",
     "output_type": "stream",
     "text": [
      "CRIM         0.00632\n",
      "ZN          18.00000\n",
      "INDUS        2.31000\n",
      "CHAS         0.00000\n",
      "NOX          0.53800\n",
      "RM           6.57500\n",
      "AGE         65.20000\n",
      "DIS          4.09000\n",
      "RAD          1.00000\n",
      "TAX        296.00000\n",
      "PTRATIO     15.30000\n",
      "B          396.90000\n",
      "LSTAT        4.98000\n",
      "Name: 0, dtype: float64\n"
     ]
    }
   ],
   "source": [
    "x = X.iloc[0, :]\n",
    "print(x)"
   ]
  },
  {
   "cell_type": "markdown",
   "metadata": {},
   "source": [
    "## Call the published module and score the record"
   ]
  },
  {
   "cell_type": "code",
   "execution_count": 21,
   "metadata": {},
   "outputs": [
    {
     "ename": "AttributeError",
     "evalue": "'RestObj' object has no attribute 'score'",
     "output_type": "error",
     "traceback": [
      "\u001b[0;31m---------------------------------------------------------------------------\u001b[0m",
      "\u001b[0;31mAttributeError\u001b[0m                            Traceback (most recent call last)",
      "\u001b[0;32m<ipython-input-21-dfc332afa56d>\u001b[0m in \u001b[0;36m<module>\u001b[0;34m\u001b[0m\n\u001b[0;32m----> 1\u001b[0;31m \u001b[0mresult\u001b[0m \u001b[0;34m=\u001b[0m \u001b[0mmodule_lm\u001b[0m\u001b[0;34m.\u001b[0m\u001b[0mscore\u001b[0m\u001b[0;34m(\u001b[0m\u001b[0;34m**\u001b[0m\u001b[0mx\u001b[0m\u001b[0;34m)\u001b[0m\u001b[0;34m\u001b[0m\u001b[0;34m\u001b[0m\u001b[0m\n\u001b[0m\u001b[1;32m      2\u001b[0m \u001b[0mprint\u001b[0m\u001b[0;34m(\u001b[0m\u001b[0mresult\u001b[0m\u001b[0;34m)\u001b[0m\u001b[0;34m\u001b[0m\u001b[0;34m\u001b[0m\u001b[0m\n",
      "\u001b[0;32m/opt/anaconda/lib/python3.7/site-packages/sasctl/core.py\u001b[0m in \u001b[0;36m__getattr__\u001b[0;34m(self, item)\u001b[0m\n\u001b[1;32m    186\u001b[0m \u001b[0;34m\u001b[0m\u001b[0m\n\u001b[1;32m    187\u001b[0m         raise AttributeError(\"'%s' object has no attribute '%s'\" % (\n\u001b[0;32m--> 188\u001b[0;31m             self.__class__.__name__, item))\n\u001b[0m\u001b[1;32m    189\u001b[0m \u001b[0;34m\u001b[0m\u001b[0m\n\u001b[1;32m    190\u001b[0m     \u001b[0;32mdef\u001b[0m \u001b[0m__repr__\u001b[0m\u001b[0;34m(\u001b[0m\u001b[0mself\u001b[0m\u001b[0;34m)\u001b[0m\u001b[0;34m:\u001b[0m\u001b[0;34m\u001b[0m\u001b[0;34m\u001b[0m\u001b[0m\n",
      "\u001b[0;31mAttributeError\u001b[0m: 'RestObj' object has no attribute 'score'"
     ]
    }
   ],
   "source": [
    "result = module_lm.score(**x)\n",
    "print(result)"
   ]
  },
  {
   "cell_type": "markdown",
   "metadata": {},
   "source": [
    "## Build a second model"
   ]
  },
  {
   "cell_type": "code",
   "execution_count": 22,
   "metadata": {},
   "outputs": [
    {
     "data": {
      "text/plain": [
       "DecisionTreeRegressor(ccp_alpha=0.0, criterion='mse', max_depth=None,\n",
       "                      max_features=None, max_leaf_nodes=None,\n",
       "                      min_impurity_decrease=0.0, min_impurity_split=None,\n",
       "                      min_samples_leaf=1, min_samples_split=2,\n",
       "                      min_weight_fraction_leaf=0.0, presort='deprecated',\n",
       "                      random_state=None, splitter='best')"
      ]
     },
     "execution_count": 22,
     "metadata": {},
     "output_type": "execute_result"
    }
   ],
   "source": [
    "dt = DecisionTreeRegressor()\n",
    "dt.fit(X_train, y_train)"
   ]
  },
  {
   "cell_type": "markdown",
   "metadata": {},
   "source": [
    "# Register the second model in Model Manager"
   ]
  },
  {
   "cell_type": "code",
   "execution_count": 23,
   "metadata": {},
   "outputs": [],
   "source": [
    "model_dt = register_model(dt, 'Decision Tree', project, input=X)"
   ]
  },
  {
   "cell_type": "markdown",
   "metadata": {},
   "source": [
    "# Publish from Model Manager -> MAS"
   ]
  },
  {
   "cell_type": "code",
   "execution_count": 24,
   "metadata": {},
   "outputs": [],
   "source": [
    "module_dt = publish_model(model_dt, 'maslocal')"
   ]
  },
  {
   "cell_type": "markdown",
   "metadata": {},
   "source": [
    "# Use MAS to score some new data"
   ]
  },
  {
   "cell_type": "code",
   "execution_count": 25,
   "metadata": {},
   "outputs": [
    {
     "ename": "AttributeError",
     "evalue": "'RestObj' object has no attribute 'score'",
     "output_type": "error",
     "traceback": [
      "\u001b[0;31m---------------------------------------------------------------------------\u001b[0m",
      "\u001b[0;31mAttributeError\u001b[0m                            Traceback (most recent call last)",
      "\u001b[0;32m<ipython-input-25-9159d22c40bd>\u001b[0m in \u001b[0;36m<module>\u001b[0;34m\u001b[0m\n\u001b[0;32m----> 1\u001b[0;31m \u001b[0mresult\u001b[0m \u001b[0;34m=\u001b[0m \u001b[0mmodule_dt\u001b[0m\u001b[0;34m.\u001b[0m\u001b[0mscore\u001b[0m\u001b[0;34m(\u001b[0m\u001b[0;34m**\u001b[0m\u001b[0mx\u001b[0m\u001b[0;34m)\u001b[0m\u001b[0;34m\u001b[0m\u001b[0;34m\u001b[0m\u001b[0m\n\u001b[0m\u001b[1;32m      2\u001b[0m \u001b[0mprint\u001b[0m\u001b[0;34m(\u001b[0m\u001b[0mresult\u001b[0m\u001b[0;34m)\u001b[0m\u001b[0;34m\u001b[0m\u001b[0;34m\u001b[0m\u001b[0m\n",
      "\u001b[0;32m/opt/anaconda/lib/python3.7/site-packages/sasctl/core.py\u001b[0m in \u001b[0;36m__getattr__\u001b[0;34m(self, item)\u001b[0m\n\u001b[1;32m    186\u001b[0m \u001b[0;34m\u001b[0m\u001b[0m\n\u001b[1;32m    187\u001b[0m         raise AttributeError(\"'%s' object has no attribute '%s'\" % (\n\u001b[0;32m--> 188\u001b[0;31m             self.__class__.__name__, item))\n\u001b[0m\u001b[1;32m    189\u001b[0m \u001b[0;34m\u001b[0m\u001b[0m\n\u001b[1;32m    190\u001b[0m     \u001b[0;32mdef\u001b[0m \u001b[0m__repr__\u001b[0m\u001b[0;34m(\u001b[0m\u001b[0mself\u001b[0m\u001b[0;34m)\u001b[0m\u001b[0;34m:\u001b[0m\u001b[0;34m\u001b[0m\u001b[0;34m\u001b[0m\u001b[0m\n",
      "\u001b[0;31mAttributeError\u001b[0m: 'RestObj' object has no attribute 'score'"
     ]
    }
   ],
   "source": [
    "result = module_dt.score(**x)\n",
    "print(result)"
   ]
  },
  {
   "cell_type": "markdown",
   "metadata": {},
   "source": [
    "# Train a gradient boosting with SAS"
   ]
  },
  {
   "cell_type": "code",
   "execution_count": 26,
   "metadata": {},
   "outputs": [
    {
     "ename": "AttributeError",
     "evalue": "startswith",
     "output_type": "error",
     "traceback": [
      "\u001b[0;31m---------------------------------------------------------------------------\u001b[0m",
      "\u001b[0;31mKeyError\u001b[0m                                  Traceback (most recent call last)",
      "\u001b[0;32m/opt/anaconda/lib/python3.7/site-packages/sklearn/utils/__init__.py\u001b[0m in \u001b[0;36m__getattr__\u001b[0;34m(self, key)\u001b[0m\n\u001b[1;32m    113\u001b[0m         \u001b[0;32mtry\u001b[0m\u001b[0;34m:\u001b[0m\u001b[0;34m\u001b[0m\u001b[0;34m\u001b[0m\u001b[0m\n\u001b[0;32m--> 114\u001b[0;31m             \u001b[0;32mreturn\u001b[0m \u001b[0mself\u001b[0m\u001b[0;34m[\u001b[0m\u001b[0mkey\u001b[0m\u001b[0;34m]\u001b[0m\u001b[0;34m\u001b[0m\u001b[0;34m\u001b[0m\u001b[0m\n\u001b[0m\u001b[1;32m    115\u001b[0m         \u001b[0;32mexcept\u001b[0m \u001b[0mKeyError\u001b[0m\u001b[0;34m:\u001b[0m\u001b[0;34m\u001b[0m\u001b[0;34m\u001b[0m\u001b[0m\n",
      "\u001b[0;31mKeyError\u001b[0m: 'startswith'",
      "\nDuring handling of the above exception, another exception occurred:\n",
      "\u001b[0;31mAttributeError\u001b[0m                            Traceback (most recent call last)",
      "\u001b[0;32m<ipython-input-26-ec374a1b9503>\u001b[0m in \u001b[0;36m<module>\u001b[0;34m\u001b[0m\n\u001b[1;32m      1\u001b[0m \u001b[0mtraindata\u001b[0m\u001b[0;34m=\u001b[0m\u001b[0mdata\u001b[0m\u001b[0;34m;\u001b[0m\u001b[0;34m\u001b[0m\u001b[0;34m\u001b[0m\u001b[0m\n\u001b[0;32m----> 2\u001b[0;31m \u001b[0ms\u001b[0m\u001b[0;34m.\u001b[0m\u001b[0mupload_frame\u001b[0m\u001b[0;34m(\u001b[0m\u001b[0mtraindata\u001b[0m\u001b[0;34m,\u001b[0m\u001b[0mcasout\u001b[0m\u001b[0;34m=\u001b[0m\u001b[0;34m'boston_train'\u001b[0m\u001b[0;34m)\u001b[0m\u001b[0;34m\u001b[0m\u001b[0;34m\u001b[0m\u001b[0m\n\u001b[0m",
      "\u001b[0;32m/opt/anaconda/lib/python3.7/site-packages/swat/cas/connection.py\u001b[0m in \u001b[0;36mupload_frame\u001b[0;34m(self, data, importoptions, casout, **kwargs)\u001b[0m\n\u001b[1;32m   1499\u001b[0m \u001b[0;34m\u001b[0m\u001b[0m\n\u001b[1;32m   1500\u001b[0m         out = self.upload(data, importoptions=importoptions,\n\u001b[0;32m-> 1501\u001b[0;31m                           casout=casout, **kwargs)\n\u001b[0m\u001b[1;32m   1502\u001b[0m \u001b[0;34m\u001b[0m\u001b[0m\n\u001b[1;32m   1503\u001b[0m         \u001b[0;32mif\u001b[0m \u001b[0mout\u001b[0m\u001b[0;34m.\u001b[0m\u001b[0mseverity\u001b[0m \u001b[0;34m>\u001b[0m \u001b[0;36m1\u001b[0m\u001b[0;34m:\u001b[0m\u001b[0;34m\u001b[0m\u001b[0;34m\u001b[0m\u001b[0m\n",
      "\u001b[0;32m/opt/anaconda/lib/python3.7/site-packages/swat/cas/connection.py\u001b[0m in \u001b[0;36mupload\u001b[0;34m(self, data, importoptions, casout, **kwargs)\u001b[0m\n\u001b[1;32m   1364\u001b[0m                 \u001b[0mimportoptions\u001b[0m\u001b[0;34m[\u001b[0m\u001b[0;34m'locale'\u001b[0m\u001b[0;34m]\u001b[0m \u001b[0;34m=\u001b[0m \u001b[0;34m'EN-us'\u001b[0m\u001b[0;34m\u001b[0m\u001b[0;34m\u001b[0m\u001b[0m\n\u001b[1;32m   1365\u001b[0m \u001b[0;34m\u001b[0m\u001b[0m\n\u001b[0;32m-> 1366\u001b[0;31m         \u001b[0;32melif\u001b[0m \u001b[0mdata\u001b[0m\u001b[0;34m.\u001b[0m\u001b[0mstartswith\u001b[0m\u001b[0;34m(\u001b[0m\u001b[0;34m'http://'\u001b[0m\u001b[0;34m)\u001b[0m \u001b[0;32mor\u001b[0m\u001b[0;31m \u001b[0m\u001b[0;31m\\\u001b[0m\u001b[0;34m\u001b[0m\u001b[0;34m\u001b[0m\u001b[0m\n\u001b[0m\u001b[1;32m   1367\u001b[0m                 \u001b[0mdata\u001b[0m\u001b[0;34m.\u001b[0m\u001b[0mstartswith\u001b[0m\u001b[0;34m(\u001b[0m\u001b[0;34m'https://'\u001b[0m\u001b[0;34m)\u001b[0m \u001b[0;32mor\u001b[0m\u001b[0;31m \u001b[0m\u001b[0;31m\\\u001b[0m\u001b[0;34m\u001b[0m\u001b[0;34m\u001b[0m\u001b[0m\n\u001b[1;32m   1368\u001b[0m                 \u001b[0mdata\u001b[0m\u001b[0;34m.\u001b[0m\u001b[0mstartswith\u001b[0m\u001b[0;34m(\u001b[0m\u001b[0;34m'ftp://'\u001b[0m\u001b[0;34m)\u001b[0m\u001b[0;34m:\u001b[0m\u001b[0;34m\u001b[0m\u001b[0;34m\u001b[0m\u001b[0m\n",
      "\u001b[0;32m/opt/anaconda/lib/python3.7/site-packages/sklearn/utils/__init__.py\u001b[0m in \u001b[0;36m__getattr__\u001b[0;34m(self, key)\u001b[0m\n\u001b[1;32m    114\u001b[0m             \u001b[0;32mreturn\u001b[0m \u001b[0mself\u001b[0m\u001b[0;34m[\u001b[0m\u001b[0mkey\u001b[0m\u001b[0;34m]\u001b[0m\u001b[0;34m\u001b[0m\u001b[0;34m\u001b[0m\u001b[0m\n\u001b[1;32m    115\u001b[0m         \u001b[0;32mexcept\u001b[0m \u001b[0mKeyError\u001b[0m\u001b[0;34m:\u001b[0m\u001b[0;34m\u001b[0m\u001b[0;34m\u001b[0m\u001b[0m\n\u001b[0;32m--> 116\u001b[0;31m             \u001b[0;32mraise\u001b[0m \u001b[0mAttributeError\u001b[0m\u001b[0;34m(\u001b[0m\u001b[0mkey\u001b[0m\u001b[0;34m)\u001b[0m\u001b[0;34m\u001b[0m\u001b[0;34m\u001b[0m\u001b[0m\n\u001b[0m\u001b[1;32m    117\u001b[0m \u001b[0;34m\u001b[0m\u001b[0m\n\u001b[1;32m    118\u001b[0m     \u001b[0;32mdef\u001b[0m \u001b[0m__setstate__\u001b[0m\u001b[0;34m(\u001b[0m\u001b[0mself\u001b[0m\u001b[0;34m,\u001b[0m \u001b[0mstate\u001b[0m\u001b[0;34m)\u001b[0m\u001b[0;34m:\u001b[0m\u001b[0;34m\u001b[0m\u001b[0;34m\u001b[0m\u001b[0m\n",
      "\u001b[0;31mAttributeError\u001b[0m: startswith"
     ]
    }
   ],
   "source": [
    "traindata=data;\n",
    "s.upload_frame(traindata,casout='boston_train')"
   ]
  },
  {
   "cell_type": "code",
   "execution_count": 58,
   "metadata": {},
   "outputs": [],
   "source": [
    "tbl = s.CASTable('boston_train')"
   ]
  },
  {
   "cell_type": "code",
   "execution_count": 66,
   "metadata": {},
   "outputs": [],
   "source": [
    "list(tbl.columns)"
   ]
  },
  {
   "cell_type": "code",
   "execution_count": 72,
   "metadata": {},
   "outputs": [
    {
     "data": {
      "text/plain": [
       "Index(['Price'], dtype='object')"
      ]
     },
     "execution_count": 72,
     "metadata": {},
     "output_type": "execute_result"
    }
   ],
   "source": [
    "y.columns"
   ]
  },
  {
   "cell_type": "code",
   "execution_count": 73,
   "metadata": {},
   "outputs": [
    {
     "name": "stdout",
     "output_type": "stream",
     "text": [
      "NOTE: Added action set 'decisionTree'.\n",
      "ERROR: Cannot convert parameter 'target' from value_list to string.\n",
      "ERROR: The action stopped due to errors.\n"
     ]
    },
    {
     "data": {
      "text/html": [
       "<div class=\"cas-output-area\"></div>\n",
       "<p class=\"cas-results-performance\"><small><span class=\"cas-elapsed\">elapsed 9.7e-05s</span> &#183; <span class=\"cas-user\">user 0.415s</span> &#183; <span class=\"cas-sys\">sys 0.508s</span></small></p>"
      ],
      "text/plain": [
       "+ Elapsed: 9.7e-05s, user: 0.415s, sys: 0.508s"
      ]
     },
     "execution_count": 73,
     "metadata": {},
     "output_type": "execute_result"
    }
   ],
   "source": [
    "s.loadactionset('decisionTree')\n",
    "tbl.decisiontree.gbtreetrain(target='Price'list(y.columns)'',\n",
    "                             inputs=list(tbl.columns),\n",
    "                             savestate='gradboost_astore')"
   ]
  },
  {
   "cell_type": "code",
   "execution_count": 14,
   "metadata": {},
   "outputs": [],
   "source": [
    "s.close()"
   ]
  },
  {
   "cell_type": "code",
   "execution_count": null,
   "metadata": {},
   "outputs": [],
   "source": []
  }
 ],
 "metadata": {
  "kernelspec": {
   "display_name": "Python 3",
   "language": "python",
   "name": "python3"
  },
  "language_info": {
   "codemirror_mode": {
    "name": "ipython",
    "version": 3
   },
   "file_extension": ".py",
   "mimetype": "text/x-python",
   "name": "python",
   "nbconvert_exporter": "python",
   "pygments_lexer": "ipython3",
   "version": "3.7.6"
  }
 },
 "nbformat": 4,
 "nbformat_minor": 4
}
