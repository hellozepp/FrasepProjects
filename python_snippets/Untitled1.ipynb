{
 "cells": [
  {
   "cell_type": "code",
   "execution_count": 1,
   "metadata": {},
   "outputs": [
    {
     "name": "stderr",
     "output_type": "stream",
     "text": [
      "SWAT 1.6.0.9000\n",
      "Registered S3 methods overwritten by 'ggplot2':\n",
      "  method         from \n",
      "  [.quosures     rlang\n",
      "  c.quosures     rlang\n",
      "  print.quosures rlang\n",
      "\n",
      "Attaching package: ‘dplyr’\n",
      "\n",
      "The following objects are masked from ‘package:stats’:\n",
      "\n",
      "    filter, lag\n",
      "\n",
      "The following objects are masked from ‘package:base’:\n",
      "\n",
      "    intersect, setdiff, setequal, union\n",
      "\n"
     ]
    }
   ],
   "source": [
    "library(swat)\n",
    "library(ggplot2)\n",
    "library(reshape2)\n",
    "library(dplyr)"
   ]
  },
  {
   "cell_type": "code",
   "execution_count": 2,
   "metadata": {},
   "outputs": [
    {
     "name": "stderr",
     "output_type": "stream",
     "text": [
      "NOTE: Connecting to CAS and generating CAS action functions for loaded\n",
      "      action sets...\n",
      "NOTE: To generate the functions with signatures (for tab completion), set \n",
      "      options(cas.gen.function.sig=TRUE).\n",
      "NOTE: 'CASUSER(viyademo01)' is now the active caslib.\n",
      "NOTE: Action 'sessionProp.setSessOpt' used (Total process time):\n",
      "NOTE:       real time               0.003776 seconds\n",
      "NOTE:       cpu time                0.003678 seconds (97.40%)\n",
      "NOTE:       total nodes             1 (32 cores)\n",
      "NOTE:       total memory            125.75G\n",
      "NOTE:       memory                  394.03K (0.00%)\n"
     ]
    },
    {
     "data": {
      "text/html": [
       "<ol>\n",
       "</ol>\n"
      ],
      "text/latex": [
       "\\begin{enumerate}\n",
       "\\end{enumerate}\n"
      ],
      "text/markdown": [
       "\n",
       "\n"
      ],
      "text/plain": [
       "list()"
      ]
     },
     "metadata": {},
     "output_type": "display_data"
    },
    {
     "name": "stderr",
     "output_type": "stream",
     "text": [
      "NOTE: Executing action 'session.listSessions'.\n",
      "NOTE: Action 'session.listSessions' used (Total process time):\n",
      "NOTE:       real time               0.000697 seconds\n",
      "NOTE:       cpu time                0.000639 seconds (91.68%)\n",
      "NOTE:       total nodes             1 (32 cores)\n",
      "NOTE:       total memory            125.75G\n",
      "NOTE:       memory                  314.69K (0.00%)\n"
     ]
    },
    {
     "data": {
      "text/html": [
       "<strong>$Session</strong> = <table>\n",
       "<thead><tr><th scope=col>SessionName</th><th scope=col>UUID</th><th scope=col>State</th><th scope=col>Authentication</th><th scope=col>Userid</th></tr></thead>\n",
       "<tbody>\n",
       "\t<tr><td>  Session:Sun Apr 25 20:03:39 2021  </td><td>1f9b9485-a9fe-1f4c-8c83-cce8ff711391</td><td>Connected                           </td><td>OAuth/External PAM                  </td><td>viyademo01                          </td></tr>\n",
       "</tbody>\n",
       "</table>\n"
      ],
      "text/latex": [
       "\\textbf{\\$Session} = \\begin{tabular}{r|lllll}\n",
       " SessionName & UUID & State & Authentication & Userid\\\\\n",
       "\\hline\n",
       "\t   Session:Sun Apr 25 20:03:39 2021   & 1f9b9485-a9fe-1f4c-8c83-cce8ff711391 & Connected                            & OAuth/External PAM                   & viyademo01                          \\\\\n",
       "\\end{tabular}\n"
      ],
      "text/markdown": [
       "**$Session** = \n",
       "| SessionName | UUID | State | Authentication | Userid |\n",
       "|---|---|---|---|---|\n",
       "|   Session:Sun Apr 25 20:03:39 2021   | 1f9b9485-a9fe-1f4c-8c83-cce8ff711391 | Connected                            | OAuth/External PAM                   | viyademo01                           |\n",
       "\n"
      ],
      "text/plain": [
       "$Session\n",
       "                         SessionName                                 UUID\n",
       "1   Session:Sun Apr 25 20:03:39 2021 1f9b9485-a9fe-1f4c-8c83-cce8ff711391\n",
       "      State     Authentication     Userid\n",
       "1 Connected OAuth/External PAM viyademo01\n"
      ]
     },
     "metadata": {},
     "output_type": "display_data"
    }
   ],
   "source": [
    "#Sys.setenv(CAS_CLIENT_SSL_CA_LIST = \"C://Users/frasep/OneDrive - SAS/Mes Documents/Dossiers/Demoing/My_Azure_Environments/frasepviya35smp/cacerts/trustedcerts.pem\")\n",
    "#Sys.setenv(CAS_CLIENT_SSL_CA_LIST = \"C://Users/frasep/OneDrive - SAS/Mes Documents/Dossiers/Demoing/My_Local_Environments/frasepviya35smp/frasepviya35smp.cloud.com/cacerts/trustedcerts.pem\")\n",
    "Sys.setenv(CAS_CLIENT_SSL_CA_LIST = \"/opt/sas/viya/config/etc/SASSecurityCertificateFramework/cacerts/trustedcerts.pem\")\n",
    "\n",
    "conn <- CAS('frasepviya35smp.cloud.com', 5570,\"viyademo01\",\"demopw\")\n",
    "\n",
    "# Activate metric tracing and other session parameters\n",
    "cas.sessionProp.setSessOpt(conn, metrics=TRUE, timeout=1800, caslib='casuser')\n",
    "\n",
    "cas.session.listSessions(conn)"
   ]
  },
  {
   "cell_type": "code",
   "execution_count": null,
   "metadata": {},
   "outputs": [
    {
     "data": {
      "text/plain": [
       "[1] \"2021-04-25 20:05:31 UTC\""
      ]
     },
     "metadata": {},
     "output_type": "display_data"
    },
    {
     "name": "stderr",
     "output_type": "stream",
     "text": [
      "NOTE: Executing action 'table.columnInfo'.\n",
      "NOTE: Action 'table.columnInfo' used (Total process time):\n",
      "NOTE:       real time               0.003868 seconds\n",
      "NOTE:       cpu time                0.003567 seconds (92.22%)\n",
      "NOTE:       total nodes             1 (32 cores)\n",
      "NOTE:       total memory            125.75G\n",
      "NOTE:       memory                  1.53M (0.00%)\n",
      "NOTE: Executing action 'table.fetch'.\n"
     ]
    }
   ],
   "source": [
    "Sys.time()\n",
    "tbl <- defCasTable(conn, tablename=\"sample_350columns\", caslib = \"PUBLIC\")\n",
    "tblR <- to.casDataFrame(tbl)\n",
    "Sys.time()\n",
    "# 23 min \n",
    "\n",
    "\n",
    "cas.session.endSession(conn)"
   ]
  }
 ],
 "metadata": {
  "kernelspec": {
   "display_name": "R",
   "language": "R",
   "name": "ir"
  },
  "language_info": {
   "codemirror_mode": "r",
   "file_extension": ".r",
   "mimetype": "text/x-r-source",
   "name": "R",
   "pygments_lexer": "r",
   "version": "3.6.1"
  }
 },
 "nbformat": 4,
 "nbformat_minor": 4
}
