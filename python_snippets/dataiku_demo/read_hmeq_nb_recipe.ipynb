# -------------------------------------------------------------------------------- NOTEBOOK-CELL: CODE_MAGIC_CELL
# Automatically replaced inline charts by "no-op" charts
# %pylab inline
import matplotlib
matplotlib.use("Agg")

# -------------------------------------------------------------------------------- NOTEBOOK-CELL: CODE
import dataiku
from dataiku import pandasutils as pdu
import pandas as pd
import os

# -------------------------------------------------------------------------------- NOTEBOOK-CELL: CODE
import swat

# -------------------------------------------------------------------------------- NOTEBOOK-CELL: CODE
# ### Establish securized connexion to SAS Viya Cloud Analytic Services

os.environ["CAS_CLIENT_SSL_CA_LIST"] = "/home/dataiku/frasepviya35smpcacert/trustedcerts.pem"
s = swat.CAS('frasepviya35smp.c.sas-frasep.internal', 5570, 'viyademo03')

# -------------------------------------------------------------------------------- NOTEBOOK-CELL: MARKDOWN
# ### Declare a view on existing CAS table defined on SAS Viya and cast it as a panda dataframe

# -------------------------------------------------------------------------------- NOTEBOOK-CELL: CODE
df1 = s.CASTable(name='hmeq_v2',caslib='public').to_frame()
df2 = s.CASTable(name='hmeq_customer',caslib='public').to_frame()

# -------------------------------------------------------------------------------- NOTEBOOK-CELL: CODE
# Recipe outputs
hmeq = dataiku.Dataset("hmeq")
hmeq.write_with_schema(df1)
hmeq_customer = dataiku.Dataset("hmeq_customer")
hmeq_customer.write_with_schema(df2)

# -------------------------------------------------------------------------------- NOTEBOOK-CELL: CODE
s.terminate()