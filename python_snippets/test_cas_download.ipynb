{
 "cells": [
  {
   "cell_type": "code",
   "execution_count": 3,
   "metadata": {},
   "outputs": [],
   "source": [
    "import swat\n",
    "import os\n",
    "from sasctl import Session\n",
    "from sasctl.tasks import register_model, publish_model\n",
    "from sasctl.services import model_repository"
   ]
  },
  {
   "cell_type": "markdown",
   "metadata": {},
   "source": [
    "# Connect to the CAS server"
   ]
  },
  {
   "cell_type": "code",
   "execution_count": 6,
   "metadata": {},
   "outputs": [
    {
     "name": "stdout",
     "output_type": "stream",
     "text": [
      "NOTE: 'Public' is now the active caslib.\n",
      "NOTE: Action 'sessionProp.setSessOpt' used (Total process time):\n",
      "NOTE:       real time               0.000270 seconds\n",
      "NOTE:       cpu time                0.000256 seconds (94.81%)\n",
      "NOTE:       total nodes             1 (16 cores)\n",
      "NOTE:       total memory            62.67G\n",
      "NOTE:       memory                  280.44K (0.00%)\n"
     ]
    },
    {
     "data": {
      "text/html": [
       "<div class=\"cas-output-area\"></div>\n",
       "<p class=\"cas-results-performance\"><small><span class=\"cas-elapsed\">elapsed 0.00027s</span> &#183; <span class=\"cas-user\">user 0.000154s</span> &#183; <span class=\"cas-sys\">sys 0.000102s</span> &#183; <span class=\"cas-memory\">mem 0.274MB</span></small></p>"
      ],
      "text/plain": [
       "+ Elapsed: 0.00027s, user: 0.000154s, sys: 0.000102s, mem: 0.274mb"
      ]
     },
     "execution_count": 6,
     "metadata": {},
     "output_type": "execute_result"
    }
   ],
   "source": [
    "os.environ['CAS_CLIENT_SSL_CA_LIST'] = '/opt/sas/viya/config/etc/SASSecurityCertificateFramework/cacerts/trustedcerts.pem'\n",
    "s = swat.CAS('frasepviya35smp', 5570)\n",
    "# Define default session caslib\n",
    "s.sessionprop.setsessopt(caslib='Public',metrics='true')"
   ]
  },
  {
   "cell_type": "code",
   "execution_count": 7,
   "metadata": {},
   "outputs": [],
   "source": [
    "# Name the existing CAS table to be used\n",
    "indata = 'HMEQ_TRAIN'\n",
    "\n",
    "# Declare python CASTable view on CAS in-memory table\n",
    "castbl = s.CASTable(indata)"
   ]
  },
  {
   "cell_type": "code",
   "execution_count": 9,
   "metadata": {},
   "outputs": [
    {
     "data": {
      "text/plain": [
       "(2381, 13)"
      ]
     },
     "execution_count": 9,
     "metadata": {},
     "output_type": "execute_result"
    }
   ],
   "source": [
    "castbl.shape"
   ]
  },
  {
   "cell_type": "code",
   "execution_count": 10,
   "metadata": {},
   "outputs": [
    {
     "data": {
      "text/html": [
       "<div>\n",
       "<style scoped>\n",
       "    .dataframe tbody tr th:only-of-type {\n",
       "        vertical-align: middle;\n",
       "    }\n",
       "\n",
       "    .dataframe tbody tr th {\n",
       "        vertical-align: top;\n",
       "    }\n",
       "\n",
       "    .dataframe thead th {\n",
       "        text-align: right;\n",
       "    }\n",
       "</style>\n",
       "<table border=\"1\" class=\"dataframe\">\n",
       "  <thead>\n",
       "    <tr style=\"text-align: right;\">\n",
       "      <th title=\"\"></th>\n",
       "      <th title=\"BAD\">BAD</th>\n",
       "      <th title=\"LOAN\">LOAN</th>\n",
       "      <th title=\"MORTDUE\">MORTDUE</th>\n",
       "      <th title=\"VALUE\">VALUE</th>\n",
       "      <th title=\"YOJ\">YOJ</th>\n",
       "      <th title=\"DEROG\">DEROG</th>\n",
       "      <th title=\"DELINQ\">DELINQ</th>\n",
       "      <th title=\"CLAGE\">CLAGE</th>\n",
       "      <th title=\"NINQ\">NINQ</th>\n",
       "      <th title=\"CLNO\">CLNO</th>\n",
       "      <th title=\"DEBTINC\">DEBTINC</th>\n",
       "    </tr>\n",
       "  </thead>\n",
       "  <tbody>\n",
       "    <tr>\n",
       "      <td>count</td>\n",
       "      <td>2381.000000</td>\n",
       "      <td>2381.000000</td>\n",
       "      <td>2178.000000</td>\n",
       "      <td>2339.000000</td>\n",
       "      <td>2184.000000</td>\n",
       "      <td>2105.000000</td>\n",
       "      <td>2153.000000</td>\n",
       "      <td>2255.000000</td>\n",
       "      <td>2189.000000</td>\n",
       "      <td>2290.000000</td>\n",
       "      <td>1873.000000</td>\n",
       "    </tr>\n",
       "    <tr>\n",
       "      <td>mean</td>\n",
       "      <td>0.199916</td>\n",
       "      <td>18216.463671</td>\n",
       "      <td>73888.350849</td>\n",
       "      <td>102594.821005</td>\n",
       "      <td>8.851671</td>\n",
       "      <td>0.230404</td>\n",
       "      <td>0.449141</td>\n",
       "      <td>178.606762</td>\n",
       "      <td>1.172225</td>\n",
       "      <td>21.217467</td>\n",
       "      <td>33.473330</td>\n",
       "    </tr>\n",
       "    <tr>\n",
       "      <td>std</td>\n",
       "      <td>0.400021</td>\n",
       "      <td>10669.354029</td>\n",
       "      <td>43967.539209</td>\n",
       "      <td>58102.560140</td>\n",
       "      <td>7.520705</td>\n",
       "      <td>0.754975</td>\n",
       "      <td>1.094231</td>\n",
       "      <td>85.735499</td>\n",
       "      <td>1.721473</td>\n",
       "      <td>10.055845</td>\n",
       "      <td>8.228359</td>\n",
       "    </tr>\n",
       "    <tr>\n",
       "      <td>min</td>\n",
       "      <td>0.000000</td>\n",
       "      <td>1300.000000</td>\n",
       "      <td>2619.000000</td>\n",
       "      <td>9100.000000</td>\n",
       "      <td>0.000000</td>\n",
       "      <td>0.000000</td>\n",
       "      <td>0.000000</td>\n",
       "      <td>0.000000</td>\n",
       "      <td>0.000000</td>\n",
       "      <td>0.000000</td>\n",
       "      <td>0.524499</td>\n",
       "    </tr>\n",
       "    <tr>\n",
       "      <td>25%</td>\n",
       "      <td>0.000000</td>\n",
       "      <td>10800.000000</td>\n",
       "      <td>46057.000000</td>\n",
       "      <td>66410.000000</td>\n",
       "      <td>3.000000</td>\n",
       "      <td>0.000000</td>\n",
       "      <td>0.000000</td>\n",
       "      <td>115.136885</td>\n",
       "      <td>0.000000</td>\n",
       "      <td>15.000000</td>\n",
       "      <td>28.638063</td>\n",
       "    </tr>\n",
       "    <tr>\n",
       "      <td>50%</td>\n",
       "      <td>0.000000</td>\n",
       "      <td>16000.000000</td>\n",
       "      <td>64811.000000</td>\n",
       "      <td>89079.000000</td>\n",
       "      <td>7.000000</td>\n",
       "      <td>0.000000</td>\n",
       "      <td>0.000000</td>\n",
       "      <td>172.696685</td>\n",
       "      <td>1.000000</td>\n",
       "      <td>20.000000</td>\n",
       "      <td>34.644922</td>\n",
       "    </tr>\n",
       "    <tr>\n",
       "      <td>75%</td>\n",
       "      <td>0.000000</td>\n",
       "      <td>23000.000000</td>\n",
       "      <td>92487.000000</td>\n",
       "      <td>121382.000000</td>\n",
       "      <td>13.000000</td>\n",
       "      <td>0.000000</td>\n",
       "      <td>0.000000</td>\n",
       "      <td>229.177959</td>\n",
       "      <td>2.000000</td>\n",
       "      <td>26.000000</td>\n",
       "      <td>38.942760</td>\n",
       "    </tr>\n",
       "    <tr>\n",
       "      <td>max</td>\n",
       "      <td>1.000000</td>\n",
       "      <td>89000.000000</td>\n",
       "      <td>369874.000000</td>\n",
       "      <td>855909.000000</td>\n",
       "      <td>41.000000</td>\n",
       "      <td>10.000000</td>\n",
       "      <td>10.000000</td>\n",
       "      <td>1168.233561</td>\n",
       "      <td>14.000000</td>\n",
       "      <td>71.000000</td>\n",
       "      <td>143.949605</td>\n",
       "    </tr>\n",
       "  </tbody>\n",
       "</table>\n",
       "</div>"
      ],
      "text/plain": [
       "               BAD          LOAN        MORTDUE          VALUE          YOJ        DEROG       DELINQ        CLAGE         NINQ         CLNO      DEBTINC\n",
       "count  2381.000000   2381.000000    2178.000000    2339.000000  2184.000000  2105.000000  2153.000000  2255.000000  2189.000000  2290.000000  1873.000000\n",
       "mean      0.199916  18216.463671   73888.350849  102594.821005     8.851671     0.230404     0.449141   178.606762     1.172225    21.217467    33.473330\n",
       "std       0.400021  10669.354029   43967.539209   58102.560140     7.520705     0.754975     1.094231    85.735499     1.721473    10.055845     8.228359\n",
       "min       0.000000   1300.000000    2619.000000    9100.000000     0.000000     0.000000     0.000000     0.000000     0.000000     0.000000     0.524499\n",
       "25%       0.000000  10800.000000   46057.000000   66410.000000     3.000000     0.000000     0.000000   115.136885     0.000000    15.000000    28.638063\n",
       "50%       0.000000  16000.000000   64811.000000   89079.000000     7.000000     0.000000     0.000000   172.696685     1.000000    20.000000    34.644922\n",
       "75%       0.000000  23000.000000   92487.000000  121382.000000    13.000000     0.000000     0.000000   229.177959     2.000000    26.000000    38.942760\n",
       "max       1.000000  89000.000000  369874.000000  855909.000000    41.000000    10.000000    10.000000  1168.233561    14.000000    71.000000   143.949605"
      ]
     },
     "execution_count": 10,
     "metadata": {},
     "output_type": "execute_result"
    }
   ],
   "source": [
    "castbl.describe()"
   ]
  },
  {
   "cell_type": "markdown",
   "metadata": {},
   "source": [
    "# Train a gradient boosting model to predict credit risk"
   ]
  },
  {
   "cell_type": "code",
   "execution_count": 11,
   "metadata": {},
   "outputs": [
    {
     "name": "stdout",
     "output_type": "stream",
     "text": [
      "NOTE: Executing action 'builtins.loadActionSet'.\n",
      "NOTE: Added action set 'decisionTree'.\n",
      "NOTE: Action 'builtins.loadActionSet' used (Total process time):\n",
      "NOTE:       real time               0.011006 seconds\n",
      "NOTE:       cpu time                0.002266 seconds (20.59%)\n",
      "NOTE:       total nodes             1 (16 cores)\n",
      "NOTE:       total memory            62.67G\n",
      "NOTE:       memory                  245.31K (0.00%)\n"
     ]
    },
    {
     "data": {
      "text/html": [
       "<div class=\"cas-results-key\"><b>&#167; actionset</b></div>\n",
       "<div class=\"cas-results-body\">\n",
       "<div>decisionTree</div>\n",
       "</div>\n",
       "<div class=\"cas-output-area\"></div>\n",
       "<p class=\"cas-results-performance\"><small><span class=\"cas-elapsed\">elapsed 0.011s</span> &#183; <span class=\"cas-user\">user 0.0014s</span> &#183; <span class=\"cas-sys\">sys 0.00087s</span> &#183; <span class=\"cas-memory\">mem 0.24MB</span></small></p>"
      ],
      "text/plain": [
       "[actionset]\n",
       "\n",
       " 'decisionTree'\n",
       "\n",
       "+ Elapsed: 0.011s, user: 0.0014s, sys: 0.00087s, mem: 0.24mb"
      ]
     },
     "execution_count": 11,
     "metadata": {},
     "output_type": "execute_result"
    }
   ],
   "source": [
    "s.loadactionset('decisionTree')"
   ]
  },
  {
   "cell_type": "code",
   "execution_count": 12,
   "metadata": {},
   "outputs": [
    {
     "name": "stdout",
     "output_type": "stream",
     "text": [
      "NOTE: Executing action 'decisionTree.gbtreeTrain'.\n",
      "NOTE: 908811 bytes were written to the table \"gradboost_astore\" in the caslib \"Public\".\n",
      "NOTE: Action 'decisionTree.gbtreeTrain' used (Total process time):\n",
      "NOTE:       real time               0.399389 seconds\n",
      "NOTE:       cpu time                0.525802 seconds (131.65%)\n",
      "NOTE:       total nodes             1 (16 cores)\n",
      "NOTE:       total memory            62.67G\n",
      "NOTE:       memory                  64.74M (0.10%)\n"
     ]
    }
   ],
   "source": [
    "castbl.decisiontree.gbtreetrain(target='BAD',\n",
    "                             inputs=['LOAN','MORTDUE','VALUE','YOJ','DEROG','DELINQ','CLAGE','NINQ','CLNO','DEBTINC'],\n",
    "                             nominals=['BAD'],\n",
    "                             savestate='gradboost_astore')\n",
    "\n",
    "# Establish a reference to the newly created ASTORE table.\n",
    "astore = s.CASTable('gradboost_astore')"
   ]
  },
  {
   "cell_type": "markdown",
   "metadata": {},
   "source": [
    "# Train a random forest model to predict credit risk"
   ]
  },
  {
   "cell_type": "code",
   "execution_count": 13,
   "metadata": {},
   "outputs": [
    {
     "name": "stdout",
     "output_type": "stream",
     "text": [
      "NOTE: Executing action 'decisionTree.forestTrain'.\n",
      "NOTE: 12834419 bytes were written to the table \"forest_astore\" in the caslib \"Public\".\n",
      "NOTE: Action 'decisionTree.forestTrain' used (Total process time):\n",
      "NOTE:       real time               1.023330 seconds\n",
      "NOTE:       cpu time                4.561973 seconds (445.80%)\n",
      "NOTE:       total nodes             1 (16 cores)\n",
      "NOTE:       total memory            62.67G\n",
      "NOTE:       memory                  170.63M (0.27%)\n"
     ]
    }
   ],
   "source": [
    "castbl.decisionTree.forestTrain(\n",
    "            inputs=['LOAN','MORTDUE','VALUE','YOJ','DEROG','DELINQ','CLAGE','NINQ','CLNO','DEBTINC'],\n",
    "            ntrees=100,\n",
    "            maxlevel=20,\n",
    "            bootstrap=0.6,\n",
    "            leafsize=5,\n",
    "            nbins=50,\n",
    "            vote='PROB',\n",
    "            seed=12345,\n",
    "            loh=0,\n",
    "            quantilebin='TRUE',\n",
    "            maxbranch=2,\n",
    "            missing='USEINSEARCH',\n",
    "            minuseinsearch=1,\n",
    "            target=\"BAD\",\n",
    "            nominals=['BAD'],\n",
    "            savestate={'name':'forest_astore','replace':'true'})\n",
    "\n",
    "astore = s.CASTable('forest_astore')"
   ]
  },
  {
   "cell_type": "markdown",
   "metadata": {},
   "source": [
    "# Register the model in the central repository for versioning and deployment"
   ]
  },
  {
   "cell_type": "code",
   "execution_count": 20,
   "metadata": {},
   "outputs": [
    {
     "name": "stdout",
     "output_type": "stream",
     "text": [
      "NOTE: Executing action 'builtins.loadActionSet'.\n",
      "NOTE: Added action set 'astore'.\n",
      "NOTE: Action 'builtins.loadActionSet' used (Total process time):\n",
      "NOTE:       real time               0.000823 seconds\n",
      "NOTE:       cpu time                0.000811 seconds (98.54%)\n",
      "NOTE:       total nodes             1 (16 cores)\n",
      "NOTE:       total memory            62.67G\n",
      "NOTE:       memory                  232.53K (0.00%)\n",
      "NOTE: Executing action 'astore.describe'.\n",
      "NOTE: Action 'astore.describe' used (Total process time):\n",
      "NOTE:       real time               0.171160 seconds\n",
      "NOTE:       cpu time                0.171107 seconds (99.97%)\n",
      "NOTE:       total nodes             1 (16 cores)\n",
      "NOTE:       total memory            62.67G\n",
      "NOTE:       memory                  6.86M (0.01%)\n",
      "NOTE: Executing action 'table.save'.\n",
      "NOTE: Cloud Analytic Services saved the file _561A0CC5215D4468BCFF0D74D.sashdat in caslib ModelStore.\n",
      "NOTE: Action 'table.save' used (Total process time):\n",
      "NOTE:       real time               0.066812 seconds\n",
      "NOTE:       cpu time                0.024052 seconds (36.00%)\n",
      "NOTE:       total nodes             1 (16 cores)\n",
      "NOTE:       total memory            62.67G\n",
      "NOTE:       memory                  16.54M (0.03%)\n"
     ]
    }
   ],
   "source": [
    "with Session('frasepviya35smp', 'viyademo01', 'demopw'):\n",
    "    model = register_model(astore, 'Random forest model', 'HMEQ_Modeling', force=True) "
   ]
  },
  {
   "cell_type": "code",
   "execution_count": 33,
   "metadata": {},
   "outputs": [],
   "source": [
    "training_code_file  = open(\"/home/viyademo01/FrasepProjects/python_snippets/HMEQ_Train_RegisterMM_Astore_GBM_Model.ipynb\", \"r\")"
   ]
  },
  {
   "cell_type": "code",
   "execution_count": 40,
   "metadata": {},
   "outputs": [
    {
     "name": "stdout",
     "output_type": "stream",
     "text": [
      "NOTE: Executing action 'builtins.loadActionSet'.\n",
      "NOTE: Added action set 'astore'.\n",
      "NOTE: Action 'builtins.loadActionSet' used (Total process time):\n",
      "NOTE:       real time               0.000425 seconds\n",
      "NOTE:       cpu time                0.000361 seconds (84.94%)\n",
      "NOTE:       total nodes             1 (16 cores)\n",
      "NOTE:       total memory            62.67G\n",
      "NOTE:       memory                  228.19K (0.00%)\n",
      "NOTE: Executing action 'astore.describe'.\n",
      "NOTE: Action 'astore.describe' used (Total process time):\n",
      "NOTE:       real time               0.144745 seconds\n",
      "NOTE:       cpu time                0.144717 seconds (99.98%)\n",
      "NOTE:       total nodes             1 (16 cores)\n",
      "NOTE:       total memory            62.67G\n",
      "NOTE:       memory                  6.89M (0.01%)\n",
      "NOTE: Executing action 'table.save'.\n",
      "NOTE: Cloud Analytic Services saved the file _6AC74FFF1E394B96A38DD0BA3.sashdat in caslib ModelStore.\n",
      "NOTE: Action 'table.save' used (Total process time):\n",
      "NOTE:       real time               0.064018 seconds\n",
      "NOTE:       cpu time                0.018753 seconds (29.29%)\n",
      "NOTE:       total nodes             1 (16 cores)\n",
      "NOTE:       total memory            62.67G\n",
      "NOTE:       memory                  16.56M (0.03%)\n"
     ]
    }
   ],
   "source": [
    "with Session('frasepviya35smp', 'viyademo01', 'demopw'):\n",
    "    model = register_model(astore, 'Random forest model', 'HMEQ_Modeling', force=True)\n",
    "    model_repository.add_model_content(model, file=training_code_file, name='traning_code.ipynb')"
   ]
  },
  {
   "cell_type": "markdown",
   "metadata": {},
   "source": [
    "# Optional : deploy the model on the SAS Viya realtime API engine for consumption in business applications"
   ]
  },
  {
   "cell_type": "code",
   "execution_count": 21,
   "metadata": {},
   "outputs": [],
   "source": [
    "with Session('frasepviya35smp', 'viyademo01', 'demopw'):\n",
    "    module = publish_model(model, 'maslocal',replace=1)"
   ]
  },
  {
   "cell_type": "markdown",
   "metadata": {},
   "source": [
    "# Optional : use the API to score data in Python"
   ]
  },
  {
   "cell_type": "code",
   "execution_count": 23,
   "metadata": {},
   "outputs": [
    {
     "data": {
      "text/plain": [
       "(0.5440674603174604, 0.4559325396825396, '1', '')"
      ]
     },
     "execution_count": 23,
     "metadata": {},
     "output_type": "execute_result"
    }
   ],
   "source": [
    "response = module.score(LOAN=10,MORTDUE=1,VALUE=1,YOJ=10,DEROG=1,DELINQ=10,CLAGE=1,NINQ=1,CLNO=1,DEBTINC=1)\n",
    "response"
   ]
  },
  {
   "cell_type": "code",
   "execution_count": 41,
   "metadata": {},
   "outputs": [],
   "source": [
    "s.close()"
   ]
  },
  {
   "cell_type": "code",
   "execution_count": null,
   "metadata": {},
   "outputs": [],
   "source": []
  }
 ],
 "metadata": {
  "kernelspec": {
   "display_name": "Python 3",
   "language": "python",
   "name": "python3"
  },
  "language_info": {
   "codemirror_mode": {
    "name": "ipython",
    "version": 3
   },
   "file_extension": ".py",
   "mimetype": "text/x-python",
   "name": "python",
   "nbconvert_exporter": "python",
   "pygments_lexer": "ipython3",
   "version": "3.8.3"
  }
 },
 "nbformat": 4,
 "nbformat_minor": 4
}