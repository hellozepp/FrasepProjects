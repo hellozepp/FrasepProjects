{
 "cells": [
  {
   "cell_type": "markdown",
   "id": "b92450e3-cfce-48ce-b2f6-857efb929de8",
   "metadata": {},
   "source": [
    "# Simple code using SAS Viya REST API to get a liveview of cas sessions with consumed resources by each one."
   ]
  },
  {
   "cell_type": "code",
   "execution_count": 31,
   "id": "0c71f2c3-981e-44b4-991a-ed9af2452574",
   "metadata": {},
   "outputs": [],
   "source": [
    "import requests"
   ]
  },
  {
   "cell_type": "code",
   "execution_count": 32,
   "id": "e1b5c281-d0fc-43d5-910e-e8d4e874c2af",
   "metadata": {
    "tags": []
   },
   "outputs": [],
   "source": [
    "domain = 'frasepviya35smp.cloud.com'\n",
    "cas_endpoint = '/cas-shared-default-http/cas'\n",
    "sessions_endpoint = '/sessions' # Get current sessions list\n",
    "sas_viya_appname = 'frasepapp'\n",
    "sas_viya_secret = 'frasepsecret'\n",
    "sas_viya_username = 'viyademo01'\n",
    "sas_viya_userpassword = 'demopw'"
   ]
  },
  {
   "cell_type": "markdown",
   "id": "f1e9ccb8-d4f5-4990-9589-d219abfc7a12",
   "metadata": {},
   "source": [
    "### Function to get SAS Viya authentication token"
   ]
  },
  {
   "cell_type": "code",
   "execution_count": 33,
   "id": "05c17708-8f56-4350-bbc3-7a38332340e2",
   "metadata": {},
   "outputs": [],
   "source": [
    "def obtainAccessTokenPythonUser(hostname, appName, secret, username, password):\n",
    "    url = \"http://\"+ str(hostname) +\"/SASLogon/oauth/token\"\n",
    "    headers = {\"Content-Type\":\"application/x-www-form-urlencoded\"}\n",
    "    data = \"grant_type=password&username=\" + str(username)+ \"&password=\" + str(password)\n",
    "    auth = (str(appName), str(secret)) \n",
    "    r = requests.post(url,headers=headers, data=data, timeout=30, auth = auth, verify=False)\n",
    "    if r.status_code == 200:\n",
    "      return r.json()['access_token']"
   ]
  },
  {
   "cell_type": "markdown",
   "id": "2613aef7-3982-4b7e-87aa-2e034de125f9",
   "metadata": {},
   "source": [
    "### Function to get the list of active cas session on a specific cas server"
   ]
  },
  {
   "cell_type": "code",
   "execution_count": 43,
   "id": "17d8def4-50d5-451a-bbee-a4fe1d5f3e76",
   "metadata": {},
   "outputs": [],
   "source": [
    "def getCasSessions(hostname, pythonAccessToken):\n",
    "    headers = {'Accept':'application/vnd.sas.cas.direct.session.list','Authorization': 'Bearer ' +str(pythonAccessToken)}\n",
    "    r = requests.get('http://' +str(hostname)+ '/cas-shared-default-http/cas/sessions', params={}, headers=headers, verify=False)\n",
    "    return r.json()"
   ]
  },
  {
   "cell_type": "markdown",
   "id": "8692e5c6-a571-492f-af3a-9b09edbd9bb8",
   "metadata": {
    "tags": []
   },
   "source": [
    "### Function to get the attributes of a given list of cas session on a specific cas server"
   ]
  },
  {
   "cell_type": "code",
   "execution_count": 35,
   "id": "c4259886-db14-464f-aa53-de2b8df4545e",
   "metadata": {
    "tags": []
   },
   "outputs": [],
   "source": [
    "def getCasSessionAttributes(hostname,pythonAccessToken,cas_session_list):\n",
    "    "
   ]
  },
  {
   "cell_type": "code",
   "execution_count": 35,
   "id": "9eab1b30-cfb7-45c7-b774-2da3f37dba62",
   "metadata": {
    "tags": []
   },
   "outputs": [],
   "source": [
    "sas_viya_token = obtainAccessTokenPythonUser(domain,sas_viya_appname, sas_viya_secret, sas_viya_username, sas_viya_userpassword)"
   ]
  },
  {
   "cell_type": "code",
   "execution_count": 44,
   "id": "94224cb2-14dd-4030-8391-77da0f089557",
   "metadata": {},
   "outputs": [],
   "source": [
    "cas_sessions = getCasSessions(domain,sas_viya_token)"
   ]
  }
 ],
 "metadata": {
  "kernelspec": {
   "display_name": "Python 3",
   "language": "python",
   "name": "python3"
  },
  "language_info": {
   "codemirror_mode": {
    "name": "ipython",
    "version": 3
   },
   "file_extension": ".py",
   "mimetype": "text/x-python",
   "name": "python",
   "nbconvert_exporter": "python",
   "pygments_lexer": "ipython3",
   "version": "3.8.8"
  }
 },
 "nbformat": 4,
 "nbformat_minor": 5
}
