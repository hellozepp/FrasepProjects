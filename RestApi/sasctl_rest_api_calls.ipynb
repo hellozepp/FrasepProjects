{
 "cells": [
  {
   "cell_type": "code",
   "execution_count": 6,
   "id": "dcd8dab8-17d6-4d52-b286-58547b46dd9f",
   "metadata": {},
   "outputs": [],
   "source": [
    "from pprint import pprint\n",
    "from sasctl import Session, get\n",
    "import json"
   ]
  },
  {
   "cell_type": "code",
   "execution_count": 34,
   "id": "639aa7f4-94a3-45cd-8f48-3492c12662b9",
   "metadata": {},
   "outputs": [
    {
     "name": "stdout",
     "output_type": "stream",
     "text": [
      "[<class 'sasctl.core.RestObj'>(headers={}, data={'version': 2, 'id': '64dda8eb-0692-ee41-909f-9df8e30a46c8', 'name': 'BENCHSESS:Fri Dec  3 18:25:32 2021', 'state': 'Connected', 'authenticationType': 'OAuth', 'owner': 'viyademo01', 'links': [{'method': 'GET', 'rel': 'up', 'href': '/casManagement/servers/cas-shared-default/sessions', 'uri': '/casManagement/servers/cas-shared-default/sessions', 'type': 'application/vnd.sas.collection', 'itemType': 'application/vnd.sas.cas.session.summary'}, {'method': 'GET', 'rel': 'self', 'href': '/casManagement/servers/cas-shared-default/sessions/64dda8eb-0692-ee41-909f-9df8e30a46c8', 'uri': '/casManagement/servers/cas-shared-default/sessions/64dda8eb-0692-ee41-909f-9df8e30a46c8', 'type': 'application/vnd.sas.cas.session.summary'}, {'method': 'DELETE', 'rel': 'delete', 'href': '/casManagement/servers/cas-shared-default/sessions/64dda8eb-0692-ee41-909f-9df8e30a46c8', 'uri': '/casManagement/servers/cas-shared-default/sessions/64dda8eb-0692-ee41-909f-9df8e30a46c8'}]}), <class 'sasctl.core.RestObj'>(headers={}, data={'version': 2, 'id': 'de33369b-1ef9-df4d-9754-7af028c16aec', 'name': 'casManagement sessions getSessionsSummaryCollection:Fri Dec  3 18:25:49 2021', 'state': 'Connected', 'authenticationType': 'OAuth', 'owner': 'viyademo01', 'links': [{'method': 'GET', 'rel': 'up', 'href': '/casManagement/servers/cas-shared-default/sessions', 'uri': '/casManagement/servers/cas-shared-default/sessions', 'type': 'application/vnd.sas.collection', 'itemType': 'application/vnd.sas.cas.session.summary'}, {'method': 'GET', 'rel': 'self', 'href': '/casManagement/servers/cas-shared-default/sessions/de33369b-1ef9-df4d-9754-7af028c16aec', 'uri': '/casManagement/servers/cas-shared-default/sessions/de33369b-1ef9-df4d-9754-7af028c16aec', 'type': 'application/vnd.sas.cas.session.summary'}, {'method': 'DELETE', 'rel': 'delete', 'href': '/casManagement/servers/cas-shared-default/sessions/de33369b-1ef9-df4d-9754-7af028c16aec', 'uri': '/casManagement/servers/cas-shared-default/sessions/de33369b-1ef9-df4d-9754-7af028c16aec'}]}), <class 'sasctl.core.RestObj'>(headers={}, data={'version': 2, 'id': 'c8ee1529-6b83-834d-954d-3a2d9001c0bd', 'name': 'py-session-1:Fri Dec  3 12:50:29 2021', 'state': 'Connected', 'authenticationType': 'OAuth/External PAM', 'owner': 'viyademo01', 'links': [{'method': 'GET', 'rel': 'up', 'href': '/casManagement/servers/cas-shared-default/sessions', 'uri': '/casManagement/servers/cas-shared-default/sessions', 'type': 'application/vnd.sas.collection', 'itemType': 'application/vnd.sas.cas.session.summary'}, {'method': 'GET', 'rel': 'self', 'href': '/casManagement/servers/cas-shared-default/sessions/c8ee1529-6b83-834d-954d-3a2d9001c0bd', 'uri': '/casManagement/servers/cas-shared-default/sessions/c8ee1529-6b83-834d-954d-3a2d9001c0bd', 'type': 'application/vnd.sas.cas.session.summary'}, {'method': 'DELETE', 'rel': 'delete', 'href': '/casManagement/servers/cas-shared-default/sessions/c8ee1529-6b83-834d-954d-3a2d9001c0bd', 'uri': '/casManagement/servers/cas-shared-default/sessions/c8ee1529-6b83-834d-954d-3a2d9001c0bd'}]})]\n"
     ]
    }
   ],
   "source": [
    "with Session('http://frasepviya35smp.cloud.com', 'viyademo01', 'demopw'):\n",
    "    sessions = get('/casManagement/servers/cas-shared-default/sessions')\n",
    "    pprint(sessions)"
   ]
  },
  {
   "cell_type": "code",
   "execution_count": 30,
   "id": "70407924-9655-4ef2-9a76-a07667f6cd10",
   "metadata": {},
   "outputs": [
    {
     "name": "stdout",
     "output_type": "stream",
     "text": [
      "{'authenticationType': 'OAuth',\n",
      " 'id': 'ebf152b3-8cc5-b540-ab76-11096086ce82',\n",
      " 'links': [{'href': '/casManagement/servers/cas-shared-default/sessions',\n",
      "            'itemType': 'application/vnd.sas.cas.session.summary',\n",
      "            'method': 'GET',\n",
      "            'rel': 'up',\n",
      "            'type': 'application/vnd.sas.collection',\n",
      "            'uri': '/casManagement/servers/cas-shared-default/sessions'},\n",
      "           {'href': '/casManagement/servers/cas-shared-default/sessions/ebf152b3-8cc5-b540-ab76-11096086ce82',\n",
      "            'method': 'GET',\n",
      "            'rel': 'self',\n",
      "            'type': 'application/vnd.sas.cas.session.summary',\n",
      "            'uri': '/casManagement/servers/cas-shared-default/sessions/ebf152b3-8cc5-b540-ab76-11096086ce82'},\n",
      "           {'href': '/casManagement/servers/cas-shared-default/sessions/ebf152b3-8cc5-b540-ab76-11096086ce82',\n",
      "            'method': 'DELETE',\n",
      "            'rel': 'delete',\n",
      "            'uri': '/casManagement/servers/cas-shared-default/sessions/ebf152b3-8cc5-b540-ab76-11096086ce82'},\n",
      "           {'href': '/casManagement/servers/cas-shared-default/sessions/ebf152b3-8cc5-b540-ab76-11096086ce82?action=start',\n",
      "            'itemType': 'text/plain',\n",
      "            'method': 'POST',\n",
      "            'rel': 'startPermissionsTransaction',\n",
      "            'uri': '/casManagement/servers/cas-shared-default/sessions/ebf152b3-8cc5-b540-ab76-11096086ce82?action=start'}],\n",
      " 'name': 'BENCHSESS:Fri Dec  3 17:47:51 2021',\n",
      " 'owner': 'viyademo01',\n",
      " 'state': 'Connected',\n",
      " 'transactionState': 'none',\n",
      " 'version': 2}\n"
     ]
    }
   ],
   "source": [
    "with Session('http://frasepviya35smp.cloud.com', 'viyademo01', 'demopw'):\n",
    "    sessions = get('/casManagement/servers/cas-shared-default/sessions/ebf152b3-8cc5-b540-ab76-11096086ce82')\n",
    "    pprint(sessions)"
   ]
  },
  {
   "cell_type": "code",
   "execution_count": 32,
   "id": "3c39563a-70a3-4c16-8d0d-16b559478b9d",
   "metadata": {},
   "outputs": [
    {
     "name": "stdout",
     "output_type": "stream",
     "text": [
      "None\n"
     ]
    }
   ],
   "source": [
    "with Session('http://frasepviya35smp.cloud.com', 'viyademo01', 'demopw'):\n",
    "    sessions = get('/casManagement/servers/cas-shared-default/sessions/ebf152b3-8cc5-b540-ab76-11096086ce82/nodes/metrics')\n",
    "    pprint(sessions)"
   ]
  },
  {
   "cell_type": "code",
   "execution_count": 24,
   "id": "7ff89e86-8434-4f4b-a843-113e6e8f4159",
   "metadata": {},
   "outputs": [
    {
     "name": "stdout",
     "output_type": "stream",
     "text": [
      "None\n"
     ]
    }
   ],
   "source": [
    "with Session('http://frasepviya35smp.cloud.com', 'viyademo01', 'demopw'):\n",
    "    sessions = get('/cas/cas/sessions')\n",
    "    pprint(sessions)"
   ]
  },
  {
   "cell_type": "code",
   "execution_count": 14,
   "id": "071300a1-88bc-46d6-92ed-c6fbf6cf8ce2",
   "metadata": {},
   "outputs": [
    {
     "data": {
      "text/plain": [
       "sasctl.core.PagedList"
      ]
     },
     "execution_count": 14,
     "metadata": {},
     "output_type": "execute_result"
    }
   ],
   "source": [
    "type(sessions)"
   ]
  },
  {
   "cell_type": "code",
   "execution_count": null,
   "id": "7dd8bfdc-416f-46d8-90ff-22d940e96f3c",
   "metadata": {},
   "outputs": [],
   "source": [
    "sessions."
   ]
  }
 ],
 "metadata": {
  "kernelspec": {
   "display_name": "Python 3",
   "language": "python",
   "name": "python3"
  },
  "language_info": {
   "codemirror_mode": {
    "name": "ipython",
    "version": 3
   },
   "file_extension": ".py",
   "mimetype": "text/x-python",
   "name": "python",
   "nbconvert_exporter": "python",
   "pygments_lexer": "ipython3",
   "version": "3.8.8"
  }
 },
 "nbformat": 4,
 "nbformat_minor": 5
}
