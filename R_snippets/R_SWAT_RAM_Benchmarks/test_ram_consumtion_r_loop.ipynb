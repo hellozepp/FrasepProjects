{
 "cells": [
  {
   "cell_type": "code",
   "execution_count": 32,
   "id": "9f9e853d-5cda-4c31-899b-33385d7435db",
   "metadata": {},
   "outputs": [
    {
     "name": "stderr",
     "output_type": "stream",
     "text": [
      "SWAT 1.6.3\n",
      "\n",
      "Attaching package: ‘dplyr’\n",
      "\n",
      "The following objects are masked from ‘package:stats’:\n",
      "\n",
      "    filter, lag\n",
      "\n",
      "The following objects are masked from ‘package:base’:\n",
      "\n",
      "    intersect, setdiff, setequal, union\n",
      "\n"
     ]
    }
   ],
   "source": [
    "library(swat) \n",
    "library(ggplot2)\n",
    "library(reshape2)\n",
    "library(dplyr)"
   ]
  },
  {
   "cell_type": "code",
   "execution_count": 33,
   "id": "3ba7ddf6-288d-4f34-8467-7ae8bb122f22",
   "metadata": {},
   "outputs": [],
   "source": [
    "# Function to get RAM used by the R session using pmap linux system function\n",
    "\n",
    "get.ram.used.by.session.process <- function() {\n",
    "    Rpid <- Sys.getpid()\n",
    "    pmapCmd <- paste0(\"pmap \",Rpid,\" | grep total | cut -b15-\")\n",
    "    a <- system(pmapCmd, intern = TRUE)\n",
    "    return(as.numeric(substr(a,2,nchar(a)-1)))\n",
    "}"
   ]
  },
  {
   "cell_type": "code",
   "execution_count": 34,
   "id": "5fd6c4e3-8839-4ef2-898b-802eb5c182c3",
   "metadata": {},
   "outputs": [
    {
     "data": {
      "text/html": [
       "1058460"
      ],
      "text/latex": [
       "1058460"
      ],
      "text/markdown": [
       "1058460"
      ],
      "text/plain": [
       "[1] 1058460"
      ]
     },
     "metadata": {},
     "output_type": "display_data"
    }
   ],
   "source": [
    "get.ram.used.by.session.process()"
   ]
  },
  {
   "cell_type": "code",
   "execution_count": 35,
   "id": "7f707b7d-c0f0-4580-90f6-955a6a73e535",
   "metadata": {},
   "outputs": [],
   "source": [
    "df_test1 <- data.frame(a = seq(1,1000000,by=1), b = LETTERS[1:8], x= month.abb[1:8], y = sample(10:200,80, replace = TRUE), z=letters[1:20])"
   ]
  },
  {
   "cell_type": "code",
   "execution_count": 22,
   "id": "7d7e7456-5739-45c7-9862-2f04d3b693c9",
   "metadata": {},
   "outputs": [
    {
     "data": {
      "text/plain": [
       "24004680 bytes"
      ]
     },
     "metadata": {},
     "output_type": "display_data"
    }
   ],
   "source": [
    "object.size(df_test1)"
   ]
  },
  {
   "cell_type": "code",
   "execution_count": 23,
   "id": "bbd32d7f-1fca-4d81-92dd-3827e6967581",
   "metadata": {},
   "outputs": [
    {
     "data": {
      "text/html": [
       "1000000"
      ],
      "text/latex": [
       "1000000"
      ],
      "text/markdown": [
       "1000000"
      ],
      "text/plain": [
       "[1] 1000000"
      ]
     },
     "metadata": {},
     "output_type": "display_data"
    }
   ],
   "source": [
    "nrow(df_test1)"
   ]
  },
  {
   "cell_type": "code",
   "execution_count": 96,
   "id": "62629176-05c9-4408-94a5-9acacaa55b93",
   "metadata": {},
   "outputs": [],
   "source": [
    "test_retrieve = function(input_df, commitsize) {\n",
    "    chunk_nb <- 1\n",
    "    results <- list()\n",
    "    idx <- 1\n",
    "    repeat {\n",
    "        end_index <- chunk_nb*commitsize\n",
    "        start_index <- end_index - commitsize+1\n",
    "        if ((start_index)>=(nrow(input_df))) break;\n",
    "        if (end_index>nrow(input_df)) end_index <- nrow(input_df) \n",
    "        result <- input_df[start_index:end_index,]\n",
    "        print(dim(result))\n",
    "        print(start_index)\n",
    "        print(end_index)\n",
    "        for (i in 1:length(result)) {\n",
    "            results[[idx]] <- result[[i]]\n",
    "            idx <- idx + 1\n",
    "        }\n",
    "        chunk_nb <- chunk_nb+1;\n",
    "    }\n",
    "    \n",
    "      out <- list()\n",
    "      for ( i in 1:length(results) ) {\n",
    "        if ( i == 1 ) {\n",
    "          keyname <- 'Fetch'\n",
    "        } else {\n",
    "          keyname <- paste('Fetch', i-1, sep='')\n",
    "        }\n",
    "        if ( is.null(results[keyname]) ) {\n",
    "          break\n",
    "        }\n",
    "        out[[i]] <- results[[keyname]]\n",
    "      }\n",
    "      out <- do.call('rbind', out)\n",
    "      rownames(out) <- NULL\n",
    "      return(out)\n",
    "}"
   ]
  },
  {
   "cell_type": "code",
   "execution_count": 87,
   "id": "43307dfc-9193-4931-8b6c-09103ede8f8a",
   "metadata": {},
   "outputs": [
    {
     "data": {
      "text/html": [
       "<ol class=list-inline>\n",
       "\t<li>1000000</li>\n",
       "\t<li>5</li>\n",
       "</ol>\n"
      ],
      "text/latex": [
       "\\begin{enumerate*}\n",
       "\\item 1000000\n",
       "\\item 5\n",
       "\\end{enumerate*}\n"
      ],
      "text/markdown": [
       "1. 1000000\n",
       "2. 5\n",
       "\n",
       "\n"
      ],
      "text/plain": [
       "[1] 1000000       5"
      ]
     },
     "metadata": {},
     "output_type": "display_data"
    }
   ],
   "source": [
    "dim(df_test1)"
   ]
  },
  {
   "cell_type": "code",
   "execution_count": 84,
   "id": "9a2806bf-8543-4cd8-9d07-ae953b6690fb",
   "metadata": {},
   "outputs": [
    {
     "data": {
      "text/html": [
       "1088648"
      ],
      "text/latex": [
       "1088648"
      ],
      "text/markdown": [
       "1088648"
      ],
      "text/plain": [
       "[1] 1088648"
      ]
     },
     "metadata": {},
     "output_type": "display_data"
    }
   ],
   "source": [
    "get.ram.used.by.session.process()"
   ]
  },
  {
   "cell_type": "code",
   "execution_count": 97,
   "id": "2536d73e-1e22-4477-a88e-daad07c46fb0",
   "metadata": {},
   "outputs": [
    {
     "name": "stdout",
     "output_type": "stream",
     "text": [
      "[1] 10000     5\n",
      "[1] 1\n",
      "[1] 10000\n",
      "[1] 10000     5\n",
      "[1] 10001\n",
      "[1] 20000\n",
      "[1] 10000     5\n",
      "[1] 20001\n",
      "[1] 30000\n",
      "[1] 10000     5\n",
      "[1] 30001\n",
      "[1] 40000\n",
      "[1] 10000     5\n",
      "[1] 40001\n",
      "[1] 50000\n",
      "[1] 10000     5\n",
      "[1] 50001\n",
      "[1] 60000\n",
      "[1] 10000     5\n",
      "[1] 60001\n",
      "[1] 70000\n",
      "[1] 10000     5\n",
      "[1] 70001\n",
      "[1] 80000\n",
      "[1] 10000     5\n",
      "[1] 80001\n",
      "[1] 90000\n",
      "[1] 10000     5\n",
      "[1] 90001\n",
      "[1] 1e+05\n",
      "[1] 10000     5\n",
      "[1] 100001\n",
      "[1] 110000\n",
      "[1] 10000     5\n",
      "[1] 110001\n",
      "[1] 120000\n",
      "[1] 10000     5\n",
      "[1] 120001\n",
      "[1] 130000\n",
      "[1] 10000     5\n",
      "[1] 130001\n",
      "[1] 140000\n",
      "[1] 10000     5\n",
      "[1] 140001\n",
      "[1] 150000\n",
      "[1] 10000     5\n",
      "[1] 150001\n",
      "[1] 160000\n",
      "[1] 10000     5\n",
      "[1] 160001\n",
      "[1] 170000\n",
      "[1] 10000     5\n",
      "[1] 170001\n",
      "[1] 180000\n",
      "[1] 10000     5\n",
      "[1] 180001\n",
      "[1] 190000\n",
      "[1] 10000     5\n",
      "[1] 190001\n",
      "[1] 2e+05\n",
      "[1] 10000     5\n",
      "[1] 200001\n",
      "[1] 210000\n",
      "[1] 10000     5\n",
      "[1] 210001\n",
      "[1] 220000\n",
      "[1] 10000     5\n",
      "[1] 220001\n",
      "[1] 230000\n",
      "[1] 10000     5\n",
      "[1] 230001\n",
      "[1] 240000\n",
      "[1] 10000     5\n",
      "[1] 240001\n",
      "[1] 250000\n",
      "[1] 10000     5\n",
      "[1] 250001\n",
      "[1] 260000\n",
      "[1] 10000     5\n",
      "[1] 260001\n",
      "[1] 270000\n",
      "[1] 10000     5\n",
      "[1] 270001\n",
      "[1] 280000\n",
      "[1] 10000     5\n",
      "[1] 280001\n",
      "[1] 290000\n",
      "[1] 10000     5\n",
      "[1] 290001\n",
      "[1] 3e+05\n",
      "[1] 10000     5\n",
      "[1] 300001\n",
      "[1] 310000\n",
      "[1] 10000     5\n",
      "[1] 310001\n",
      "[1] 320000\n",
      "[1] 10000     5\n",
      "[1] 320001\n",
      "[1] 330000\n",
      "[1] 10000     5\n",
      "[1] 330001\n",
      "[1] 340000\n",
      "[1] 10000     5\n",
      "[1] 340001\n",
      "[1] 350000\n",
      "[1] 10000     5\n",
      "[1] 350001\n",
      "[1] 360000\n",
      "[1] 10000     5\n",
      "[1] 360001\n",
      "[1] 370000\n",
      "[1] 10000     5\n",
      "[1] 370001\n",
      "[1] 380000\n",
      "[1] 10000     5\n",
      "[1] 380001\n",
      "[1] 390000\n",
      "[1] 10000     5\n",
      "[1] 390001\n",
      "[1] 4e+05\n",
      "[1] 10000     5\n",
      "[1] 400001\n",
      "[1] 410000\n",
      "[1] 10000     5\n",
      "[1] 410001\n",
      "[1] 420000\n",
      "[1] 10000     5\n",
      "[1] 420001\n",
      "[1] 430000\n",
      "[1] 10000     5\n",
      "[1] 430001\n",
      "[1] 440000\n",
      "[1] 10000     5\n",
      "[1] 440001\n",
      "[1] 450000\n",
      "[1] 10000     5\n",
      "[1] 450001\n",
      "[1] 460000\n",
      "[1] 10000     5\n",
      "[1] 460001\n",
      "[1] 470000\n",
      "[1] 10000     5\n",
      "[1] 470001\n",
      "[1] 480000\n",
      "[1] 10000     5\n",
      "[1] 480001\n",
      "[1] 490000\n",
      "[1] 10000     5\n",
      "[1] 490001\n",
      "[1] 5e+05\n",
      "[1] 10000     5\n",
      "[1] 500001\n",
      "[1] 510000\n",
      "[1] 10000     5\n",
      "[1] 510001\n",
      "[1] 520000\n",
      "[1] 10000     5\n",
      "[1] 520001\n",
      "[1] 530000\n",
      "[1] 10000     5\n",
      "[1] 530001\n",
      "[1] 540000\n",
      "[1] 10000     5\n",
      "[1] 540001\n",
      "[1] 550000\n",
      "[1] 10000     5\n",
      "[1] 550001\n",
      "[1] 560000\n",
      "[1] 10000     5\n",
      "[1] 560001\n",
      "[1] 570000\n",
      "[1] 10000     5\n",
      "[1] 570001\n",
      "[1] 580000\n",
      "[1] 10000     5\n",
      "[1] 580001\n",
      "[1] 590000\n",
      "[1] 10000     5\n",
      "[1] 590001\n",
      "[1] 6e+05\n",
      "[1] 10000     5\n",
      "[1] 600001\n",
      "[1] 610000\n",
      "[1] 10000     5\n",
      "[1] 610001\n",
      "[1] 620000\n",
      "[1] 10000     5\n",
      "[1] 620001\n",
      "[1] 630000\n",
      "[1] 10000     5\n",
      "[1] 630001\n",
      "[1] 640000\n",
      "[1] 10000     5\n",
      "[1] 640001\n",
      "[1] 650000\n",
      "[1] 10000     5\n",
      "[1] 650001\n",
      "[1] 660000\n",
      "[1] 10000     5\n",
      "[1] 660001\n",
      "[1] 670000\n",
      "[1] 10000     5\n",
      "[1] 670001\n",
      "[1] 680000\n",
      "[1] 10000     5\n",
      "[1] 680001\n",
      "[1] 690000\n",
      "[1] 10000     5\n",
      "[1] 690001\n",
      "[1] 7e+05\n",
      "[1] 10000     5\n",
      "[1] 700001\n",
      "[1] 710000\n",
      "[1] 10000     5\n",
      "[1] 710001\n",
      "[1] 720000\n",
      "[1] 10000     5\n",
      "[1] 720001\n",
      "[1] 730000\n",
      "[1] 10000     5\n",
      "[1] 730001\n",
      "[1] 740000\n",
      "[1] 10000     5\n",
      "[1] 740001\n",
      "[1] 750000\n",
      "[1] 10000     5\n",
      "[1] 750001\n",
      "[1] 760000\n",
      "[1] 10000     5\n",
      "[1] 760001\n",
      "[1] 770000\n",
      "[1] 10000     5\n",
      "[1] 770001\n",
      "[1] 780000\n",
      "[1] 10000     5\n",
      "[1] 780001\n",
      "[1] 790000\n",
      "[1] 10000     5\n",
      "[1] 790001\n",
      "[1] 8e+05\n",
      "[1] 10000     5\n",
      "[1] 800001\n",
      "[1] 810000\n",
      "[1] 10000     5\n",
      "[1] 810001\n",
      "[1] 820000\n",
      "[1] 10000     5\n",
      "[1] 820001\n",
      "[1] 830000\n",
      "[1] 10000     5\n",
      "[1] 830001\n",
      "[1] 840000\n",
      "[1] 10000     5\n",
      "[1] 840001\n",
      "[1] 850000\n",
      "[1] 10000     5\n",
      "[1] 850001\n",
      "[1] 860000\n",
      "[1] 10000     5\n",
      "[1] 860001\n",
      "[1] 870000\n",
      "[1] 10000     5\n",
      "[1] 870001\n",
      "[1] 880000\n",
      "[1] 10000     5\n",
      "[1] 880001\n",
      "[1] 890000\n",
      "[1] 10000     5\n",
      "[1] 890001\n",
      "[1] 9e+05\n",
      "[1] 10000     5\n",
      "[1] 900001\n",
      "[1] 910000\n",
      "[1] 10000     5\n",
      "[1] 910001\n",
      "[1] 920000\n",
      "[1] 10000     5\n",
      "[1] 920001\n",
      "[1] 930000\n",
      "[1] 10000     5\n",
      "[1] 930001\n",
      "[1] 940000\n",
      "[1] 10000     5\n",
      "[1] 940001\n",
      "[1] 950000\n",
      "[1] 10000     5\n",
      "[1] 950001\n",
      "[1] 960000\n",
      "[1] 10000     5\n",
      "[1] 960001\n",
      "[1] 970000\n",
      "[1] 10000     5\n",
      "[1] 970001\n",
      "[1] 980000\n",
      "[1] 10000     5\n",
      "[1] 980001\n",
      "[1] 990000\n",
      "[1] 10000     5\n",
      "[1] 990001\n",
      "[1] 1e+06\n"
     ]
    }
   ],
   "source": [
    "output <- test_retrieve(df_test1,10000)"
   ]
  },
  {
   "cell_type": "code",
   "execution_count": 90,
   "id": "ee60672d-e259-4b5f-840f-053567b29133",
   "metadata": {},
   "outputs": [
    {
     "data": {
      "text/html": [
       "1124864"
      ],
      "text/latex": [
       "1124864"
      ],
      "text/markdown": [
       "1124864"
      ],
      "text/plain": [
       "[1] 1124864"
      ]
     },
     "metadata": {},
     "output_type": "display_data"
    }
   ],
   "source": [
    "get.ram.used.by.session.process()"
   ]
  },
  {
   "cell_type": "code",
   "execution_count": 91,
   "id": "297a7bf8-5c1f-46bc-9c2e-14e47b4b73e0",
   "metadata": {},
   "outputs": [
    {
     "data": {
      "text/plain": [
       "0 bytes"
      ]
     },
     "metadata": {},
     "output_type": "display_data"
    }
   ],
   "source": [
    "object.size(output)"
   ]
  },
  {
   "cell_type": "code",
   "execution_count": 92,
   "id": "0ac30134-c108-4c78-a142-acea3eae058b",
   "metadata": {},
   "outputs": [
    {
     "data": {
      "text/plain": [
       "NULL"
      ]
     },
     "metadata": {},
     "output_type": "display_data"
    }
   ],
   "source": [
    "dim(output)"
   ]
  },
  {
   "cell_type": "code",
   "execution_count": 67,
   "id": "306571ce-400b-4f62-94c7-1fdd2d0f8304",
   "metadata": {},
   "outputs": [
    {
     "name": "stdout",
     "output_type": "stream",
     "text": [
      "List of 5\n",
      " $ : num [1:10000] 1 2 3 4 5 6 7 8 9 10 ...\n",
      " $ : Factor w/ 8 levels \"A\",\"B\",\"C\",\"D\",..: 1 2 3 4 5 6 7 8 1 2 ...\n",
      " $ : Factor w/ 8 levels \"Apr\",\"Aug\",\"Feb\",..: 4 3 7 1 8 6 5 2 4 3 ...\n",
      " $ : int [1:10000] 19 197 45 147 134 196 88 142 133 193 ...\n",
      " $ : Factor w/ 20 levels \"a\",\"b\",\"c\",\"d\",..: 1 2 3 4 5 6 7 8 9 10 ...\n"
     ]
    }
   ],
   "source": [
    "str(output)"
   ]
  },
  {
   "cell_type": "code",
   "execution_count": 66,
   "id": "fd265bd6-a1fe-467b-b18d-95ce27727884",
   "metadata": {},
   "outputs": [
    {
     "data": {
      "text/html": [
       "'list'"
      ],
      "text/latex": [
       "'list'"
      ],
      "text/markdown": [
       "'list'"
      ],
      "text/plain": [
       "[1] \"list\""
      ]
     },
     "metadata": {},
     "output_type": "display_data"
    }
   ],
   "source": [
    "class(output)"
   ]
  },
  {
   "cell_type": "code",
   "execution_count": 70,
   "id": "1370d91a-56cb-4d52-8c6b-61783917f032",
   "metadata": {},
   "outputs": [],
   "source": [
    "out <- rbind(output)"
   ]
  },
  {
   "cell_type": "code",
   "execution_count": 72,
   "id": "e685b6ad-d02d-4014-bd70-9e525f59d810",
   "metadata": {},
   "outputs": [
    {
     "data": {
      "text/html": [
       "<ol class=list-inline>\n",
       "\t<li>1</li>\n",
       "\t<li>5</li>\n",
       "</ol>\n"
      ],
      "text/latex": [
       "\\begin{enumerate*}\n",
       "\\item 1\n",
       "\\item 5\n",
       "\\end{enumerate*}\n"
      ],
      "text/markdown": [
       "1. 1\n",
       "2. 5\n",
       "\n",
       "\n"
      ],
      "text/plain": [
       "[1] 1 5"
      ]
     },
     "metadata": {},
     "output_type": "display_data"
    }
   ],
   "source": [
    "dim(out)"
   ]
  }
 ],
 "metadata": {
  "kernelspec": {
   "display_name": "R",
   "language": "R",
   "name": "ir"
  },
  "language_info": {
   "codemirror_mode": "r",
   "file_extension": ".r",
   "mimetype": "text/x-r-source",
   "name": "R",
   "pygments_lexer": "r",
   "version": "3.6.1"
  }
 },
 "nbformat": 4,
 "nbformat_minor": 5
}
