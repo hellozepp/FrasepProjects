{
 "cells": [
  {
   "cell_type": "code",
   "execution_count": 1,
   "metadata": {},
   "outputs": [
    {
     "name": "stderr",
     "output_type": "stream",
     "text": [
      "SWAT 1.6.1\n",
      "Registered S3 methods overwritten by 'ggplot2':\n",
      "  method         from \n",
      "  [.quosures     rlang\n",
      "  c.quosures     rlang\n",
      "  print.quosures rlang\n",
      "\n",
      "Attaching package: ‘dplyr’\n",
      "\n",
      "The following objects are masked from ‘package:stats’:\n",
      "\n",
      "    filter, lag\n",
      "\n",
      "The following objects are masked from ‘package:base’:\n",
      "\n",
      "    intersect, setdiff, setequal, union\n",
      "\n"
     ]
    }
   ],
   "source": [
    "library(swat)\n",
    "library(ggplot2)\n",
    "library(reshape2)\n",
    "library(dplyr)"
   ]
  },
  {
   "cell_type": "code",
   "execution_count": 2,
   "metadata": {},
   "outputs": [
    {
     "name": "stderr",
     "output_type": "stream",
     "text": [
      "NOTE: Connecting to CAS and generating CAS action functions for loaded\n",
      "      action sets...\n",
      "NOTE: To generate the functions with signatures (for tab completion), set \n",
      "      options(cas.gen.function.sig=TRUE).\n"
     ]
    }
   ],
   "source": [
    "Sys.setenv(CAS_CLIENT_SSL_CA_LIST = \"/opt/sas/viya/config/etc/SASSecurityCertificateFramework/cacerts/trustedcerts.pem\")\n",
    "conn <- CAS('frasepviya35smp.cloud.com', 5570)"
   ]
  },
  {
   "cell_type": "code",
   "execution_count": 3,
   "metadata": {},
   "outputs": [
    {
     "name": "stderr",
     "output_type": "stream",
     "text": [
      "NOTE: 'CASUSER(viyademo01)' is now the active caslib.\n",
      "NOTE: Action 'sessionProp.setSessOpt' used (Total process time):\n",
      "NOTE:       real time               0.003192 seconds\n",
      "NOTE:       cpu time                0.003140 seconds (98.37%)\n",
      "NOTE:       total nodes             1 (32 cores)\n",
      "NOTE:       total memory            125.75G\n",
      "NOTE:       memory                  394.03K (0.00%)\n"
     ]
    },
    {
     "data": {
      "text/html": [
       "<ol>\n",
       "</ol>\n"
      ],
      "text/latex": [
       "\\begin{enumerate}\n",
       "\\end{enumerate}\n"
      ],
      "text/markdown": [
       "\n",
       "\n"
      ],
      "text/plain": [
       "list()"
      ]
     },
     "metadata": {},
     "output_type": "display_data"
    }
   ],
   "source": [
    "# Activate metric tracing and other session parameters\n",
    "cas.sessionProp.setSessOpt(conn, metrics=TRUE, timeout=1800, caslib='casuser')"
   ]
  },
  {
   "cell_type": "code",
   "execution_count": 4,
   "metadata": {},
   "outputs": [
    {
     "data": {
      "text/plain": [
       "[1] \"2021-05-10 18:17:23 UTC\""
      ]
     },
     "metadata": {},
     "output_type": "display_data"
    },
    {
     "name": "stderr",
     "output_type": "stream",
     "text": [
      "NOTE: Executing action 'table.columnInfo'.\n",
      "NOTE: Action 'table.columnInfo' used (Total process time):\n",
      "NOTE:       real time               0.004999 seconds\n",
      "NOTE:       cpu time                0.004826 seconds (96.54%)\n",
      "NOTE:       total nodes             1 (32 cores)\n",
      "NOTE:       total memory            125.75G\n",
      "NOTE:       memory                  1.53M (0.00%)\n",
      "NOTE: Executing action 'table.fetch'.\n",
      "NOTE: Action 'table.fetch' used (Total process time):\n",
      "NOTE:       real time               2.468240 seconds\n",
      "NOTE:       cpu time                2.468269 seconds (100.00%)\n",
      "NOTE:       total nodes             1 (32 cores)\n",
      "NOTE:       total memory            125.75G\n",
      "NOTE:       memory                  23.63M (0.02%)\n"
     ]
    },
    {
     "data": {
      "text/plain": [
       "[1] \"2021-05-10 18:17:33 UTC\""
      ]
     },
     "metadata": {},
     "output_type": "display_data"
    }
   ],
   "source": [
    "Sys.time()\n",
    "tbl <- defCasTable(conn, tablename=\"sample_350columns\", caslib = \"PUBLIC\")\n",
    "tblR <- to.casDataFrame(tbl)\n",
    "Sys.time()"
   ]
  },
  {
   "cell_type": "code",
   "execution_count": 9,
   "metadata": {},
   "outputs": [
    {
     "data": {
      "text/html": [
       "<ol class=list-inline>\n",
       "\t<li>32556</li>\n",
       "\t<li>350</li>\n",
       "</ol>\n"
      ],
      "text/latex": [
       "\\begin{enumerate*}\n",
       "\\item 32556\n",
       "\\item 350\n",
       "\\end{enumerate*}\n"
      ],
      "text/markdown": [
       "1. 32556\n",
       "2. 350\n",
       "\n",
       "\n"
      ],
      "text/plain": [
       "[1] 32556   350"
      ]
     },
     "metadata": {},
     "output_type": "display_data"
    }
   ],
   "source": [
    "dim(tblR)"
   ]
  },
  {
   "cell_type": "code",
   "execution_count": 10,
   "metadata": {},
   "outputs": [
    {
     "name": "stderr",
     "output_type": "stream",
     "text": [
      "NOTE: Executing action 'session.endSession'.\n",
      "NOTE: Action 'session.endSession' used (Total process time):\n",
      "NOTE:       real time               0.000357 seconds\n",
      "NOTE:       cpu time                0.000328 seconds (91.88%)\n",
      "NOTE:       total nodes             1 (32 cores)\n",
      "NOTE:       total memory            125.75G\n",
      "NOTE:       memory                  208.81K (0.00%)\n"
     ]
    },
    {
     "data": {
      "text/html": [
       "<ol>\n",
       "</ol>\n"
      ],
      "text/latex": [
       "\\begin{enumerate}\n",
       "\\end{enumerate}\n"
      ],
      "text/markdown": [
       "\n",
       "\n"
      ],
      "text/plain": [
       "list()"
      ]
     },
     "metadata": {},
     "output_type": "display_data"
    }
   ],
   "source": [
    "cas.session.endSession(conn)"
   ]
  }
 ],
 "metadata": {
  "kernelspec": {
   "display_name": "R",
   "language": "R",
   "name": "ir"
  },
  "language_info": {
   "codemirror_mode": "r",
   "file_extension": ".r",
   "mimetype": "text/x-r-source",
   "name": "R",
   "pygments_lexer": "r",
   "version": "3.6.1"
  }
 },
 "nbformat": 4,
 "nbformat_minor": 4
}
