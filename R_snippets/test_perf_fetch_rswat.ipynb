{
 "cells": [
  {
   "cell_type": "code",
   "execution_count": 18,
   "metadata": {},
   "outputs": [],
   "source": [
    "library(swat)\n",
    "library(ggplot2)\n",
    "library(reshape2)\n",
    "library(dplyr)"
   ]
  },
  {
   "cell_type": "code",
   "execution_count": 19,
   "metadata": {},
   "outputs": [
    {
     "name": "stderr",
     "output_type": "stream",
     "text": [
      "NOTE: Connecting to CAS and generating CAS action functions for loaded\n",
      "      action sets...\n",
      "NOTE: To generate the functions with signatures (for tab completion), set \n",
      "      options(cas.gen.function.sig=TRUE).\n"
     ]
    }
   ],
   "source": [
    "Sys.setenv(CAS_CLIENT_SSL_CA_LIST = \"/opt/sas/viya/config/etc/SASSecurityCertificateFramework/cacerts/trustedcerts.pem\")\n",
    "conn <- CAS('frasepviya35smp.cloud.com', 5570)"
   ]
  },
  {
   "cell_type": "code",
   "execution_count": 20,
   "metadata": {},
   "outputs": [
    {
     "name": "stderr",
     "output_type": "stream",
     "text": [
      "NOTE: 'CASUSER(viyademo01)' is now the active caslib.\n",
      "NOTE: Action 'sessionProp.setSessOpt' used (Total process time):\n",
      "NOTE:       real time               0.000498 seconds\n",
      "NOTE:       cpu time                0.000489 seconds (98.19%)\n",
      "NOTE:       total nodes             1 (16 cores)\n",
      "NOTE:       total memory            125.75G\n",
      "NOTE:       memory                  280.44K (0.00%)\n"
     ]
    },
    {
     "data": {
      "text/html": [
       "<ol>\n",
       "</ol>\n"
      ],
      "text/latex": [
       "\\begin{enumerate}\n",
       "\\end{enumerate}\n"
      ],
      "text/markdown": [
       "\n",
       "\n"
      ],
      "text/plain": [
       "list()"
      ]
     },
     "metadata": {},
     "output_type": "display_data"
    }
   ],
   "source": [
    "# Activate metric tracing and other session parameters\n",
    "cas.sessionProp.setSessOpt(conn, metrics=TRUE, timeout=1800, caslib='casuser')"
   ]
  },
  {
   "cell_type": "code",
   "execution_count": 24,
   "metadata": {},
   "outputs": [
    {
     "data": {
      "text/plain": [
       "[1] \"2021-10-15 12:59:39 UTC\""
      ]
     },
     "metadata": {},
     "output_type": "display_data"
    },
    {
     "name": "stderr",
     "output_type": "stream",
     "text": [
      "NOTE: Executing action 'table.columnInfo'.\n",
      "NOTE: Action 'table.columnInfo' used (Total process time):\n",
      "NOTE:       real time               0.001117 seconds\n",
      "NOTE:       cpu time                0.001053 seconds (94.27%)\n",
      "NOTE:       total nodes             1 (16 cores)\n",
      "NOTE:       total memory            125.75G\n",
      "NOTE:       memory                  847.22K (0.00%)\n",
      "NOTE: Executing action 'table.fetch'.\n",
      "NOTE: Action 'table.fetch' used (Total process time):\n",
      "NOTE:       real time               0.055621 seconds\n",
      "NOTE:       cpu time                0.055572 seconds (99.91%)\n",
      "NOTE:       total nodes             1 (16 cores)\n",
      "NOTE:       total memory            125.75G\n",
      "NOTE:       memory                  2.58M (0.00%)\n"
     ]
    },
    {
     "data": {
      "text/plain": [
       "[1] \"2021-10-15 12:59:39 UTC\""
      ]
     },
     "metadata": {},
     "output_type": "display_data"
    }
   ],
   "source": [
    "Sys.time()\n",
    "tbl <- defCasTable(conn, tablename=\"megacorp5_4m\", caslib = \"AZUREDL\")\n",
    "tblR <- to.casDataFrame(tbl,obs = 10000)\n",
    "Sys.time()"
   ]
  },
  {
   "cell_type": "code",
   "execution_count": 28,
   "metadata": {},
   "outputs": [
    {
     "name": "stdout",
     "output_type": "stream",
     "text": [
      "'data.frame':\t10000 obs. of  46 variables:\n",
      "Formal class 'casDataFrame' [package \"swat\"] with 15 slots\n",
      "  ..@ .Data      :List of 46\n",
      "  .. ..$ : num  13916 13975 13909 14049 13975 ...\n",
      "  .. ..$ : num  13880 13880 13880 13880 13880 ...\n",
      "  .. ..$ : num  13911 13970 13880 14031 13970 ...\n",
      "  .. ..$ : num  6 2 6 6 2 4 5 5 4 5 ...\n",
      "  .. ..$ : num  45 45 45 45 45 45 45 45 45 45 ...\n",
      "  .. ..$ : chr  \"CA00045\" \"CA00045\" \"CA00045\" \"CA00045\" ...\n",
      "  .. ..$ : chr  \"Plant\" \"Plant\" \"Plant\" \"Plant\" ...\n",
      "  .. ..$ : num  2 2 2 2 2 2 2 2 2 2 ...\n",
      "  .. ..$ : num  0.0933 0.0989 0.2005 0.097 0.0989 ...\n",
      "  .. ..$ : chr  \"West\" \"West\" \"West\" \"West\" ...\n",
      "  .. ..$ : chr  \"CA\" \"CA\" \"CA\" \"CA\" ...\n",
      "  .. ..$ : chr  \"San Francisco\" \"San Francisco\" \"San Francisco\" \"San Francisco\" ...\n",
      "  .. ..$ : num  47 46 46 47 46 46 46 46 46 46 ...\n",
      "  .. ..$ : chr  \"NOVPR0000047\" \"NOVPR0000046\" \"NOVPR0000046\" \"NOVPR0000047\" ...\n",
      "  .. ..$ : num  0 0 0 0 0 0 0 0 0 0 ...\n",
      "  .. ..$ : num  2 2 2 2 2 2 2 2 2 2 ...\n",
      "  .. ..$ : num  0.833 0.833 0.833 0.833 0.833 ...\n",
      "  .. ..$ : num  0.3 0.3 0.3 0.3 0.3 ...\n",
      "  .. ..$ : num  0.92 0.917 0.922 0.913 0.917 ...\n",
      "  .. ..$ : chr  \"active\" \"active\" \"active\" \"active\" ...\n",
      "  .. ..$ : num  40 40 40 40 40 40 40 40 40 40 ...\n",
      "  .. ..$ : num  26 26 26 26 26 26 26 26 26 26 ...\n",
      "  .. ..$ : num  24 24 20 24 24 26 26 26 26 26 ...\n",
      "  .. ..$ : num  0.923 0.923 0.769 0.923 0.923 ...\n",
      "  .. ..$ : chr  \"Novelty\" \"Novelty\" \"Novelty\" \"Novelty\" ...\n",
      "  .. ..$ : chr  \"Promotional\" \"Promotional\" \"Promotional\" \"Promotional\" ...\n",
      "  .. ..$ : num  518862 560174 513026 619937 560189 ...\n",
      "  .. ..$ : chr  \"Plaque\" \"Plaque\" \"Plaque\" \"Plaque\" ...\n",
      "  .. ..$ : chr  \"Custom\" \"Custom\" \"Custom\" \"Custom\" ...\n",
      "  .. ..$ : num  61.8 61.8 61.8 61.8 61.8 ...\n",
      "  .. ..$ : num  61.8 61.8 61.8 61.8 61.8 ...\n",
      "  .. ..$ : num  51 51 51 51 51 ...\n",
      "  .. ..$ : num  1 1 1 1 1 1 1 1 1 1 ...\n",
      "  .. ..$ : num  347.24 0.78 227.69 90.28 0.78 ...\n",
      "  .. ..$ : num  407.7 61.8 298.4 151.1 61.8 ...\n",
      "  .. ..$ : num  60.5 61 70.7 60.8 61 ...\n",
      "  .. ..$ : num  0 0 0 0 0 0 0 0 0 0 ...\n",
      "  .. ..$ : num  2.69 2.74 4.15 2.72 2.74 ...\n",
      "  .. ..$ : num  55.2 55.2 66.3 55.2 55.2 ...\n",
      "  .. ..$ : num  6.83 7.29 15.57 7.13 7.29 ...\n",
      "  .. ..$ : num  -116 -116 -116 -116 -116 ...\n",
      "  .. ..$ : num  41.1 41.1 41.1 41.1 41.1 ...\n",
      "  .. ..$ : num  -120 -120 -120 -120 -120 ...\n",
      "  .. ..$ : num  37.3 37.3 37.3 37.3 37.3 ...\n",
      "  .. ..$ : num  -122 -122 -122 -122 -122 ...\n",
      "  .. ..$ : num  37.8 37.8 37.8 37.8 37.8 ...\n",
      "  ..@ name       : chr \"CityLatitude\"\n",
      "  ..@ label      : chr \"Selected Rows from Table MEGACORP5_4M\"\n",
      "  ..@ title      : chr \"Selected Rows from Table MEGACORP5_4M\"\n",
      "  ..@ attrs      :List of 3\n",
      "  .. ..$ Action    : chr \"fetch\"\n",
      "  .. ..$ Actionset : chr \"table\"\n",
      "  .. ..$ CreateTime: num 1.95e+09\n",
      "  ..@ col.labels : chr  \"\" \"\" \"\" \"\" ...\n",
      "  ..@ col.formats: chr  \"\" \"\" \"\" \"\" ...\n",
      "  ..@ col.attrs  : list()\n",
      "  ..@ col.sizes  :List of 92\n",
      "  .. ..$ : num 1\n",
      "  .. ..$ : int 1\n",
      "  .. ..$ : num 1\n",
      "  .. ..$ : int 1\n",
      "  .. ..$ : num 1\n",
      "  .. ..$ : int 1\n",
      "  .. ..$ : num 1\n",
      "  .. ..$ : int 1\n",
      "  .. ..$ : num 1\n",
      "  .. ..$ : int 1\n",
      "  .. ..$ : num 1\n",
      "  .. ..$ : int 1\n",
      "  .. ..$ : num 1\n",
      "  .. ..$ : int 1\n",
      "  .. ..$ : num 1\n",
      "  .. ..$ : int 1\n",
      "  .. ..$ : num 1\n",
      "  .. ..$ : int 1\n",
      "  .. ..$ : num 1\n",
      "  .. ..$ : int 1\n",
      "  .. ..$ : num 1\n",
      "  .. ..$ : int 1\n",
      "  .. ..$ : num 1\n",
      "  .. ..$ : int 1\n",
      "  .. ..$ : num 1\n",
      "  .. ..$ : int 1\n",
      "  .. ..$ : num 1\n",
      "  .. ..$ : int 1\n",
      "  .. ..$ : num 1\n",
      "  .. ..$ : int 1\n",
      "  .. ..$ : num 1\n",
      "  .. ..$ : int 1\n",
      "  .. ..$ : num 1\n",
      "  .. ..$ : int 1\n",
      "  .. ..$ : num 1\n",
      "  .. ..$ : int 1\n",
      "  .. ..$ : num 1\n",
      "  .. ..$ : int 1\n",
      "  .. ..$ : num 1\n",
      "  .. ..$ : int 1\n",
      "  .. ..$ : num 1\n",
      "  .. ..$ : int 1\n",
      "  .. ..$ : num 1\n",
      "  .. ..$ : int 1\n",
      "  .. ..$ : num 1\n",
      "  .. ..$ : int 1\n",
      "  .. ..$ : num 1\n",
      "  .. ..$ : int 1\n",
      "  .. ..$ : num 1\n",
      "  .. ..$ : int 1\n",
      "  .. ..$ : num 1\n",
      "  .. ..$ : int 1\n",
      "  .. ..$ : num 1\n",
      "  .. ..$ : int 1\n",
      "  .. ..$ : num 1\n",
      "  .. ..$ : int 1\n",
      "  .. ..$ : num 1\n",
      "  .. ..$ : int 1\n",
      "  .. ..$ : num 1\n",
      "  .. ..$ : int 1\n",
      "  .. ..$ : num 1\n",
      "  .. ..$ : int 1\n",
      "  .. ..$ : num 1\n",
      "  .. ..$ : int 1\n",
      "  .. ..$ : num 1\n",
      "  .. ..$ : int 1\n",
      "  .. ..$ : num 1\n",
      "  .. ..$ : int 1\n",
      "  .. ..$ : num 1\n",
      "  .. ..$ : int 1\n",
      "  .. ..$ : num 1\n",
      "  .. ..$ : int 1\n",
      "  .. ..$ : num 1\n",
      "  .. ..$ : int 1\n",
      "  .. ..$ : num 1\n",
      "  .. ..$ : int 1\n",
      "  .. ..$ : num 1\n",
      "  .. ..$ : int 1\n",
      "  .. ..$ : num 1\n",
      "  .. ..$ : int 1\n",
      "  .. ..$ : num 1\n",
      "  .. ..$ : int 1\n",
      "  .. ..$ : num 1\n",
      "  .. ..$ : int 1\n",
      "  .. ..$ : num 1\n",
      "  .. ..$ : int 1\n",
      "  .. ..$ : num 1\n",
      "  .. ..$ : int 1\n",
      "  .. ..$ : num 1\n",
      "  .. ..$ : int 1\n",
      "  .. ..$ : num 1\n",
      "  .. ..$ : int 1\n",
      "  ..@ col.types  : chr  \"double\" \"double\" \"double\" \"double\" ...\n",
      "  ..@ col.widths : int  8 8 8 8 8 7 5 8 8 5 ...\n",
      "  ..@ df         :'data.frame':\t10000 obs. of  46 variables:\n",
      "Formal class 'data.frame' [package \"\"] with 4 slots\n",
      "  .. .. ..@ .Data    :List of 46\n",
      "  .. .. .. ..$ : num  13916 13975 13909 14049 13975 ...\n",
      "  .. .. .. ..$ : num  13880 13880 13880 13880 13880 ...\n",
      "  .. .. .. ..$ : num  13911 13970 13880 14031 13970 ...\n",
      "  .. .. .. ..$ : num  6 2 6 6 2 4 5 5 4 5 ...\n",
      "  .. .. .. ..$ : num  45 45 45 45 45 45 45 45 45 45 ...\n",
      "  .. .. .. ..$ : chr  \"CA00045\" \"CA00045\" \"CA00045\" \"CA00045\" ...\n",
      "  .. .. .. ..$ : chr  \"Plant\" \"Plant\" \"Plant\" \"Plant\" ...\n",
      "  .. .. .. ..$ : num  2 2 2 2 2 2 2 2 2 2 ...\n",
      "  .. .. .. ..$ : num  0.0933 0.0989 0.2005 0.097 0.0989 ...\n",
      "  .. .. .. ..$ : chr  \"West\" \"West\" \"West\" \"West\" ...\n",
      "  .. .. .. ..$ : chr  \"CA\" \"CA\" \"CA\" \"CA\" ...\n",
      "  .. .. .. ..$ : chr  \"San Francisco\" \"San Francisco\" \"San Francisco\" \"San Francisco\" ...\n",
      "  .. .. .. ..$ : num  47 46 46 47 46 46 46 46 46 46 ...\n",
      "  .. .. .. ..$ : chr  \"NOVPR0000047\" \"NOVPR0000046\" \"NOVPR0000046\" \"NOVPR0000047\" ...\n",
      "  .. .. .. ..$ : num  0 0 0 0 0 0 0 0 0 0 ...\n",
      "  .. .. .. ..$ : num  2 2 2 2 2 2 2 2 2 2 ...\n",
      "  .. .. .. ..$ : num  0.833 0.833 0.833 0.833 0.833 ...\n",
      "  .. .. .. ..$ : num  0.3 0.3 0.3 0.3 0.3 ...\n",
      "  .. .. .. ..$ : num  0.92 0.917 0.922 0.913 0.917 ...\n",
      "  .. .. .. ..$ : chr  \"active\" \"active\" \"active\" \"active\" ...\n",
      "  .. .. .. ..$ : num  40 40 40 40 40 40 40 40 40 40 ...\n",
      "  .. .. .. ..$ : num  26 26 26 26 26 26 26 26 26 26 ...\n",
      "  .. .. .. ..$ : num  24 24 20 24 24 26 26 26 26 26 ...\n",
      "  .. .. .. ..$ : num  0.923 0.923 0.769 0.923 0.923 ...\n",
      "  .. .. .. ..$ : chr  \"Novelty\" \"Novelty\" \"Novelty\" \"Novelty\" ...\n",
      "  .. .. .. ..$ : chr  \"Promotional\" \"Promotional\" \"Promotional\" \"Promotional\" ...\n",
      "  .. .. .. ..$ : num  518862 560174 513026 619937 560189 ...\n",
      "  .. .. .. ..$ : chr  \"Plaque\" \"Plaque\" \"Plaque\" \"Plaque\" ...\n",
      "  .. .. .. ..$ : chr  \"Custom\" \"Custom\" \"Custom\" \"Custom\" ...\n",
      "  .. .. .. ..$ : num  61.8 61.8 61.8 61.8 61.8 ...\n",
      "  .. .. .. ..$ : num  61.8 61.8 61.8 61.8 61.8 ...\n",
      "  .. .. .. ..$ : num  51 51 51 51 51 ...\n",
      "  .. .. .. ..$ : num  1 1 1 1 1 1 1 1 1 1 ...\n",
      "  .. .. .. ..$ : num  347.24 0.78 227.69 90.28 0.78 ...\n",
      "  .. .. .. ..$ : num  407.7 61.8 298.4 151.1 61.8 ...\n",
      "  .. .. .. ..$ : num  60.5 61 70.7 60.8 61 ...\n",
      "  .. .. .. ..$ : num  0 0 0 0 0 0 0 0 0 0 ...\n",
      "  .. .. .. ..$ : num  2.69 2.74 4.15 2.72 2.74 ...\n",
      "  .. .. .. ..$ : num  55.2 55.2 66.3 55.2 55.2 ...\n",
      "  .. .. .. ..$ : num  6.83 7.29 15.57 7.13 7.29 ...\n",
      "  .. .. .. ..$ : num  -116 -116 -116 -116 -116 ...\n",
      "  .. .. .. ..$ : num  41.1 41.1 41.1 41.1 41.1 ...\n",
      "  .. .. .. ..$ : num  -120 -120 -120 -120 -120 ...\n",
      "  .. .. .. ..$ : num  37.3 37.3 37.3 37.3 37.3 ...\n",
      "  .. .. .. ..$ : num  -122 -122 -122 -122 -122 ...\n",
      "  .. .. .. ..$ : num  37.8 37.8 37.8 37.8 37.8 ...\n",
      "  .. .. ..@ names    : chr  \"Date\" \"DateByYear\" \"DateByMonth\" \"DayOfWeek\" ...\n",
      "  .. .. ..@ row.names: int  1 2 3 4 5 6 7 8 9 10 ...\n",
      "  .. .. ..@ .S3Class : chr \"data.frame\"\n",
      "  ..@ names      : chr  \"Date\" \"DateByYear\" \"DateByMonth\" \"DayOfWeek\" ...\n",
      "  ..@ row.names  : chr  \"1\" \"2\" \"3\" \"4\" ...\n",
      "  ..@ .S3Class   : chr \"data.frame\"\n"
     ]
    }
   ],
   "source": [
    "str(tblR)"
   ]
  },
  {
   "cell_type": "code",
   "execution_count": 26,
   "metadata": {},
   "outputs": [
    {
     "data": {
      "text/plain": [
       "8414560 bytes"
      ]
     },
     "metadata": {},
     "output_type": "display_data"
    }
   ],
   "source": [
    "object.size(tblR)\n",
    "# 3,618,733,968 bytes"
   ]
  },
  {
   "cell_type": "code",
   "execution_count": 13,
   "metadata": {},
   "outputs": [
    {
     "name": "stderr",
     "output_type": "stream",
     "text": [
      "NOTE: Executing action 'table.tableDetails'.\n",
      "NOTE: Action 'table.tableDetails' used (Total process time):\n",
      "NOTE:       real time               0.000958 seconds\n",
      "NOTE:       cpu time                0.000899 seconds (93.84%)\n",
      "NOTE:       total nodes             1 (16 cores)\n",
      "NOTE:       total memory            125.75G\n",
      "NOTE:       memory                  712.59K (0.00%)\n"
     ]
    },
    {
     "data": {
      "text/html": [
       "<strong>$TableDetails</strong> = <table>\n",
       "<thead><tr><th scope=col>Node</th><th scope=col>Blocks</th><th scope=col>Active</th><th scope=col>Rows</th><th scope=col>IndexSize</th><th scope=col>DataSize</th><th scope=col>VardataSize</th><th scope=col>CompressedSize</th><th scope=col>CompressionRatio</th><th scope=col>Mapped</th><th scope=col>MappedMemory</th><th scope=col>Unmapped</th><th scope=col>UnmappedMemory</th><th scope=col>Allocated</th><th scope=col>AllocatedMemory</th><th scope=col>DeletedRows</th></tr></thead>\n",
       "<tbody>\n",
       "\t<tr><td>ALL       </td><td>1795      </td><td>1795      </td><td>4522868   </td><td>0         </td><td>1881513088</td><td>0         </td><td>0         </td><td>0         </td><td>1795      </td><td>1881721360</td><td>0         </td><td>0         </td><td>0         </td><td>0         </td><td>0         </td></tr>\n",
       "</tbody>\n",
       "</table>\n"
      ],
      "text/latex": [
       "\\textbf{\\$TableDetails} = \\begin{tabular}{r|llllllllllllllll}\n",
       " Node & Blocks & Active & Rows & IndexSize & DataSize & VardataSize & CompressedSize & CompressionRatio & Mapped & MappedMemory & Unmapped & UnmappedMemory & Allocated & AllocatedMemory & DeletedRows\\\\\n",
       "\\hline\n",
       "\t ALL        & 1795       & 1795       & 4522868    & 0          & 1881513088 & 0          & 0          & 0          & 1795       & 1881721360 & 0          & 0          & 0          & 0          & 0         \\\\\n",
       "\\end{tabular}\n"
      ],
      "text/markdown": [
       "**$TableDetails** = \n",
       "| Node | Blocks | Active | Rows | IndexSize | DataSize | VardataSize | CompressedSize | CompressionRatio | Mapped | MappedMemory | Unmapped | UnmappedMemory | Allocated | AllocatedMemory | DeletedRows |\n",
       "|---|---|---|---|---|---|---|---|---|---|---|---|---|---|---|---|\n",
       "| ALL        | 1795       | 1795       | 4522868    | 0          | 1881513088 | 0          | 0          | 0          | 1795       | 1881721360 | 0          | 0          | 0          | 0          | 0          |\n",
       "\n"
      ],
      "text/plain": [
       "$TableDetails\n",
       "  Node Blocks Active    Rows IndexSize   DataSize VardataSize CompressedSize\n",
       "1  ALL   1795   1795 4522868         0 1881513088           0              0\n",
       "  CompressionRatio Mapped MappedMemory Unmapped UnmappedMemory Allocated\n",
       "1                0   1795   1881721360        0              0         0\n",
       "  AllocatedMemory DeletedRows\n",
       "1               0           0\n"
      ]
     },
     "metadata": {},
     "output_type": "display_data"
    }
   ],
   "source": [
    "cas.table.tableDetails(conn,name='megacorp5_4m',caslib='Azuredl')\n",
    "# 1,881,513,088 bytes"
   ]
  },
  {
   "cell_type": "code",
   "execution_count": 14,
   "metadata": {},
   "outputs": [],
   "source": [
    "tblRdf <- to.data.frame(tblR)"
   ]
  },
  {
   "cell_type": "code",
   "execution_count": 15,
   "metadata": {},
   "outputs": [
    {
     "data": {
      "text/plain": [
       "1664823064 bytes"
      ]
     },
     "metadata": {},
     "output_type": "display_data"
    }
   ],
   "source": [
    "object.size(tblRdf)\n",
    "# 1,664,823,064 bytes"
   ]
  },
  {
   "cell_type": "code",
   "execution_count": 17,
   "metadata": {},
   "outputs": [
    {
     "name": "stdout",
     "output_type": "stream",
     "text": [
      "[1] \"ERROR: Connection failed. Server returned: Session reconnect failed: Could not find the specified session.\"\n"
     ]
    },
    {
     "ename": "ERROR",
     "evalue": "Error in swat::errorcheck(sw_connection): An error occurred while sending request.\n",
     "output_type": "error",
     "traceback": [
      "Error in swat::errorcheck(sw_connection): An error occurred while sending request.\nTraceback:\n",
      "1. cas.session.endSession(conn)",
      "2. cas.session.endSession(conn)",
      "3. swat::runAction(CASorCASTab, \"session.endSession\", ...)",
      "4. do.call(\"casRetrieve\", pms)",
      "5. casRetrieve(caz = new(\"CAS\", .xData = <environment>), actn = \"session.endSession\")",
      "6. do.call(caz$retrieve, c(list(actn), args))",
      "7. (new(\"refMethodDef\", .Data = function (actn, ...) \n . {\n .     args <- list(...)\n .     datamsghandler <- NULL\n .     if (!is.null(args$datamsghandler)) {\n .         datamsghandler <- args$datamsghandler\n .     }\n .     args[[\"actn\"]] <- actn\n .     repeat {\n .         do.call(.self$invoke, args)\n .         output <- list()\n .         results <- list()\n .         msgs <- list()\n .         evts <- list()\n .         idx <- 1\n .         while (TRUE) {\n .             nextresp <- getnext(.self, datamsghandler = datamsghandler)\n .             if (is.null(nextresp$response)) \n .                 break\n .             while (TRUE) {\n .                 result <- getnext(nextresp$response)\n .                 if (is.null(result) || length(result) < 1) \n .                   break\n .                 for (i in 1:length(result)) {\n .                   key <- names(result[i])\n .                   if (is.null(key) || nchar(key) == 0) {\n .                     results[[idx]] <- result[[i]]\n .                     idx <- idx + 1\n .                   }\n .                   else if (substr(key, 1, 1) == \"$\") {\n .                     evts[[key]] <- result[[i]]\n .                   }\n .                   else {\n .                     results[[key]] <- result[[i]]\n .                   }\n .                 }\n .             }\n .             msgs <- c(msgs, nextresp$response$messages)\n .             output[[\"performance\"]] <- nextresp$response$performance\n .             output[[\"disposition\"]] <- nextresp$response$disposition\n .         }\n .         if (!is.null(output[[\"disposition\"]][[\"statusCode\"]]) && \n .             output[[\"disposition\"]][[\"statusCode\"]] != RETRY_ACTION_CODE) {\n .             break\n .         }\n .     }\n .     output[[\"messages\"]] <- msgs\n .     output[[\"results\"]] <- results\n .     output[[\"events\"]] <- evts\n .     .self$performance = output[[\"performance\"]]\n .     .self$severity = output[[\"disposition\"]][[\"severity\"]]\n .     .self$statusCode = output[[\"disposition\"]][[\"statusCode\"]]\n .     .self$reason = output[[\"disposition\"]][[\"reason\"]]\n .     .self$status = output[[\"disposition\"]][[\"status\"]]\n .     .self$messages = output[[\"messages\"]]\n .     .self$events = output[[\"events\"]]\n .     actn <- tolower(actn)\n .     if (actn == \"table.loadtable\" || actn == \"loadtable\" || actn == \n .         \"table.addcaslib\" || actn == \"addcaslib\") {\n .         .on_connection_updated(.self, \"\")\n .     }\n .     return(output)\n . }, mayCall = character(0), name = \"retrieve\", refClassName = \"CAS\", \n .     superClassMethod = \"\"))(\"session.endSession\", `_messageLevel` = \"note\")",
      "8. getnext(.self, datamsghandler = datamsghandler)",
      "9. do.call(connections[[1]]$getone, kwargs)",
      "10. (new(\"refMethodDef\", .Data = function (...) \n  . {\n  .     args <- list(...)\n  .     output <- NULL\n  .     datamsghandler <- NULL\n  .     if (!is.null(args$datamsghandler)) {\n  .         .self$enableDataMessages()\n  .         datamsghandler <- args$datamsghandler\n  .     }\n  .     sw_message <- sw_connection$receive()\n  .     swat::errorcheck(sw_connection)\n  .     if (!is.null(sw_message) && !sw_message$isNULL()) {\n  .         t <- sw_message$getType()\n  .         if (t == \"response\") {\n  .             sw_response <- sw_message$toResponse(sw_connection)\n  .             swat::errorcheck(sw_message)\n  .             if (!is.null(sw_response) && !sw_message$isNULL()) {\n  .                 output <- CASResponse$new(sw_response = sw_response)\n  .             }\n  .         }\n  .         else if (t == \"request\" && !is.null(datamsghandler)) {\n  .             sw_request <- sw_message$toRequest(sw_connection)\n  .             swat::errorcheck(sw_message)\n  .             if (!is.null(sw_request) && !sw_message$isNULL()) {\n  .                 output <- datamsghandler$call(CASRequest$new(sw_request = sw_request), \n  .                   .self)\n  .             }\n  .         }\n  .         else if (t == \"request\") {\n  .             sw_request <- sw_message$toRequest(sw_connection)\n  .             swat::errorcheck(sw_message)\n  .             if (!is.null(sw_request) && !sw_message$isNULL()) {\n  .                 output <- CASRequest$new(sw_request = sw_request)\n  .             }\n  .         }\n  .     }\n  .     if (!is.null(datamsghandler)) {\n  .         .self$disableDataMessages()\n  .     }\n  .     return(output)\n  . }, mayCall = character(0), name = \"getone\", refClassName = \"CAS\", \n  .     superClassMethod = \"\"))(datamsghandler = NULL)",
      "11. swat::errorcheck(sw_connection)",
      "12. stop(m[[1]])"
     ]
    }
   ],
   "source": [
    "cas.session.endSession(conn)"
   ]
  }
 ],
 "metadata": {
  "kernelspec": {
   "display_name": "R",
   "language": "R",
   "name": "ir"
  },
  "language_info": {
   "codemirror_mode": "r",
   "file_extension": ".r",
   "mimetype": "text/x-r-source",
   "name": "R",
   "pygments_lexer": "r",
   "version": "3.6.1"
  }
 },
 "nbformat": 4,
 "nbformat_minor": 4
}
