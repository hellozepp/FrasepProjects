{
 "cells": [
  {
   "cell_type": "markdown",
   "metadata": {},
   "source": [
    "# Notebook R d'exemple utilisant l'API SAS Viya"
   ]
  },
  {
   "cell_type": "markdown",
   "metadata": {},
   "source": [
    "## 1) On déclare la librairie SWAT permettant d'utiliser l'API R fournie par SAS Viya"
   ]
  },
  {
   "cell_type": "code",
   "execution_count": 1,
   "metadata": {},
   "outputs": [
    {
     "name": "stderr",
     "output_type": "stream",
     "text": [
      "SWAT 1.6.2\n"
     ]
    }
   ],
   "source": [
    "library(swat)"
   ]
  },
  {
   "cell_type": "markdown",
   "metadata": {},
   "source": [
    "## 2) Connexion au moteur CAS (Cloud Analytic Services) in-memory de la plateforme de Service Analytique SAS Viya"
   ]
  },
  {
   "cell_type": "code",
   "execution_count": 2,
   "metadata": {},
   "outputs": [
    {
     "name": "stderr",
     "output_type": "stream",
     "text": [
      "NOTE: Connecting to CAS and generating CAS action functions for loaded\n",
      "      action sets...\n",
      "NOTE: To generate the functions with signatures (for tab completion), set \n",
      "      options(cas.gen.function.sig=TRUE).\n",
      "NOTE: Added action set 'fedSql'.\n",
      "NOTE: Information for action set 'fedSql':\n",
      "NOTE:    fedSql\n",
      "NOTE:       execDirect - Submits a SAS FedSQL language statement for immediate execution\n",
      "NOTE: 'CASUSER(viyademo01)' is now the active caslib.\n"
     ]
    },
    {
     "data": {
      "text/html": [
       "<ol>\n",
       "</ol>\n"
      ],
      "text/latex": [
       "\\begin{enumerate}\n",
       "\\end{enumerate}\n"
      ],
      "text/markdown": [
       "\n",
       "\n"
      ],
      "text/plain": [
       "list()"
      ]
     },
     "metadata": {},
     "output_type": "display_data"
    }
   ],
   "source": [
    "#Sys.setenv(CAS_CLIENT_SSL_CA_LIST = \"/opt/viyacerts/trustedcerts.pem\")\n",
    "conn <- CAS('frasepviya35smp.cloud.com', 5570)\n",
    "\n",
    "# Activate session parameters if necessary\n",
    "loadActionSet(conn, \"fedSql\")\n",
    "cas.sessionProp.setSessOpt(conn, timeout=1800, caslib='casuser')"
   ]
  },
  {
   "cell_type": "markdown",
   "metadata": {},
   "source": [
    "## 3) On liste toutes les tables de SAS Viya visibles pour l'utlisateur (sécurité)  pour une librairie CAS particulière"
   ]
  },
  {
   "cell_type": "code",
   "execution_count": 3,
   "metadata": {},
   "outputs": [
    {
     "data": {
      "text/html": [
       "<ol class=list-inline>\n",
       "\t<li>'PROMO_EFFECTIVENESS_X_EFFECTS_2'</li>\n",
       "\t<li>'RAND_RETAILDEMO'</li>\n",
       "</ol>\n"
      ],
      "text/latex": [
       "\\begin{enumerate*}\n",
       "\\item 'PROMO\\_EFFECTIVENESS\\_X\\_EFFECTS\\_2'\n",
       "\\item 'RAND\\_RETAILDEMO'\n",
       "\\end{enumerate*}\n"
      ],
      "text/markdown": [
       "1. 'PROMO_EFFECTIVENESS_X_EFFECTS_2'\n",
       "2. 'RAND_RETAILDEMO'\n",
       "\n",
       "\n"
      ],
      "text/plain": [
       "[1] \"PROMO_EFFECTIVENESS_X_EFFECTS_2\" \"RAND_RETAILDEMO\"                "
      ]
     },
     "metadata": {},
     "output_type": "display_data"
    }
   ],
   "source": [
    "cas.table.tableInfo(conn,caslib=\"samples\")$TableInfo$Name"
   ]
  },
  {
   "cell_type": "markdown",
   "metadata": {},
   "source": [
    "## 4) On référence une table CAS dans l'environnement R et on peut déléguer les calculs à SAS Viya comme indiqué avec les quelques exemples ci-dessous"
   ]
  },
  {
   "cell_type": "code",
   "execution_count": 4,
   "metadata": {},
   "outputs": [],
   "source": [
    "# Table DTM_FACT_EJ : 30 Go, 61 millions de records\n",
    "casTbl <- defCasTable(conn, tablename=\"RAND_RETAILDEMO\", caslib=\"samples\")"
   ]
  },
  {
   "cell_type": "markdown",
   "metadata": {},
   "source": [
    "### 4.1 Certaines fonctions R de base sont automatiquement déléguée à SAS Viya pour l'exécution dans le moteur CAS via des actions natives (Logique de Wrapper)"
   ]
  },
  {
   "cell_type": "code",
   "execution_count": 5,
   "metadata": {},
   "outputs": [
    {
     "data": {
      "text/html": [
       "<table>\n",
       "<thead><tr><th scope=col>CustID</th><th scope=col>bucket</th><th scope=col>age</th><th scope=col>loyalty_card</th><th scope=col>Department</th><th scope=col>brand_name</th><th scope=col>Storechain</th><th scope=col>ChannelType</th><th scope=col>Class</th><th scope=col>StoreNum</th><th scope=col>...</th><th scope=col>Region_Long</th><th scope=col>Region_2</th><th scope=col>Region_2_Lat</th><th scope=col>Region_2_Long</th><th scope=col>State</th><th scope=col>State_Lat</th><th scope=col>State_Long</th><th scope=col>age_bucket</th><th scope=col>Storechain1</th><th scope=col>brand_name1</th></tr></thead>\n",
       "<tbody>\n",
       "\t<tr><td>1083863          </td><td>1                </td><td>NaN              </td><td>0                </td><td>health           </td><td>Pine             </td><td>GRAND            </td><td>Resale           </td><td>oral care        </td><td>736              </td><td>...              </td><td>-74.50           </td><td>US Atlantic Coast</td><td>40.3             </td><td>-74.50           </td><td>NY               </td><td>41.5435          </td><td>-74.6941         </td><td>18-25            </td><td>FAST             </td><td>Oak              </td></tr>\n",
       "\t<tr><td>1083863          </td><td>1                </td><td>NaN              </td><td>0                </td><td>kids             </td><td>Pine             </td><td>GRAND            </td><td>Resale           </td><td>kids_swimwear    </td><td>736              </td><td>...              </td><td>-74.50           </td><td>US Atlantic Coast</td><td>40.3             </td><td>-74.50           </td><td>NY               </td><td>41.5435          </td><td>-74.6941         </td><td>36-45            </td><td>GRAND            </td><td>Pine             </td></tr>\n",
       "\t<tr><td>1083863          </td><td>1                </td><td>NaN              </td><td>0                </td><td>men              </td><td>Pine             </td><td>GRAND            </td><td>Resale           </td><td>men_slippers     </td><td>736              </td><td>...              </td><td>-84.75           </td><td>US Midwest       </td><td>43.3             </td><td>-84.75           </td><td>IL               </td><td>41.2340          </td><td>-88.3961         </td><td>56-65            </td><td>MODA             </td><td>Maple            </td></tr>\n",
       "\t<tr><td>1083863          </td><td>2                </td><td>NaN              </td><td>0                </td><td>men              </td><td>Pine             </td><td>GRAND            </td><td>Internet         </td><td>men_underwear    </td><td>724              </td><td>...              </td><td>-74.50           </td><td>US Atlantic Coast</td><td>40.3             </td><td>-74.50           </td><td>NJ               </td><td>40.4403          </td><td>-74.4296         </td><td>46-55            </td><td>MODA             </td><td>Maple            </td></tr>\n",
       "\t<tr><td>1083883                                                  </td><td>2                                                        </td><td> 23                                                      </td><td>1                                                        </td><td>electronics                                              </td><td>Pine                                                     </td><td>GRAND                                                    </td><td><span style=white-space:pre-wrap>Store   </span>         </td><td>DVD &amp; Blu-ray                                        </td><td>757                                                      </td><td>...                                                      </td><td>-84.75                                                   </td><td><span style=white-space:pre-wrap>US Midwest       </span></td><td>43.3                                                     </td><td>-84.75                                                   </td><td>KS                                                       </td><td>38.4575                                                  </td><td>-96.5830                                                 </td><td><span style=white-space:pre-wrap>26-35  </span>          </td><td>GRAND                                                    </td><td>Pine                                                     </td></tr>\n",
       "\t<tr><td>1083883                                                  </td><td>2                                                        </td><td> 23                                                      </td><td>1                                                        </td><td><span style=white-space:pre-wrap>health     </span>      </td><td>Pine                                                     </td><td>GRAND                                                    </td><td>Internet                                                 </td><td><span style=white-space:pre-wrap>bath &amp; body  </span></td><td>376                                                      </td><td>...                                                      </td><td>-75.00                                                   </td><td><span style=white-space:pre-wrap>US Northeast     </span></td><td>42.0                                                     </td><td>-75.00                                                   </td><td>MA                                                       </td><td>42.2748                                                  </td><td>-71.3780                                                 </td><td>Over 65                                                  </td><td>GRAND                                                    </td><td>Pine                                                     </td></tr>\n",
       "</tbody>\n",
       "</table>\n"
      ],
      "text/latex": [
       "\\begin{tabular}{r|llllllllllllllllllllllllllllllllllllllll}\n",
       " CustID & bucket & age & loyalty\\_card & Department & brand\\_name & Storechain & ChannelType & Class & StoreNum & ... & Region\\_Long & Region\\_2 & Region\\_2\\_Lat & Region\\_2\\_Long & State & State\\_Lat & State\\_Long & age\\_bucket & Storechain1 & brand\\_name1\\\\\n",
       "\\hline\n",
       "\t 1083863           & 1                 & NaN               & 0                 & health            & Pine              & GRAND             & Resale            & oral care         & 736               & ...               & -74.50            & US Atlantic Coast & 40.3              & -74.50            & NY                & 41.5435           & -74.6941          & 18-25             & FAST              & Oak              \\\\\n",
       "\t 1083863           & 1                 & NaN               & 0                 & kids              & Pine              & GRAND             & Resale            & kids\\_swimwear   & 736               & ...               & -74.50            & US Atlantic Coast & 40.3              & -74.50            & NY                & 41.5435           & -74.6941          & 36-45             & GRAND             & Pine             \\\\\n",
       "\t 1083863           & 1                 & NaN               & 0                 & men               & Pine              & GRAND             & Resale            & men\\_slippers    & 736               & ...               & -84.75            & US Midwest        & 43.3              & -84.75            & IL                & 41.2340           & -88.3961          & 56-65             & MODA              & Maple            \\\\\n",
       "\t 1083863           & 2                 & NaN               & 0                 & men               & Pine              & GRAND             & Internet          & men\\_underwear   & 724               & ...               & -74.50            & US Atlantic Coast & 40.3              & -74.50            & NJ                & 40.4403           & -74.4296          & 46-55             & MODA              & Maple            \\\\\n",
       "\t 1083883           & 2                 &  23               & 1                 & electronics       & Pine              & GRAND             & Store             & DVD \\& Blu-ray   & 757               & ...               & -84.75            & US Midwest        & 43.3              & -84.75            & KS                & 38.4575           & -96.5830          & 26-35             & GRAND             & Pine             \\\\\n",
       "\t 1083883           & 2                 &  23               & 1                 & health            & Pine              & GRAND             & Internet          & bath \\& body     & 376               & ...               & -75.00            & US Northeast      & 42.0              & -75.00            & MA                & 42.2748           & -71.3780          & Over 65           & GRAND             & Pine             \\\\\n",
       "\\end{tabular}\n"
      ],
      "text/markdown": [
       "\n",
       "| CustID | bucket | age | loyalty_card | Department | brand_name | Storechain | ChannelType | Class | StoreNum | ... | Region_Long | Region_2 | Region_2_Lat | Region_2_Long | State | State_Lat | State_Long | age_bucket | Storechain1 | brand_name1 |\n",
       "|---|---|---|---|---|---|---|---|---|---|---|---|---|---|---|---|---|---|---|---|---|\n",
       "| 1083863           | 1                 | NaN               | 0                 | health            | Pine              | GRAND             | Resale            | oral care         | 736               | ...               | -74.50            | US Atlantic Coast | 40.3              | -74.50            | NY                | 41.5435           | -74.6941          | 18-25             | FAST              | Oak               |\n",
       "| 1083863           | 1                 | NaN               | 0                 | kids              | Pine              | GRAND             | Resale            | kids_swimwear     | 736               | ...               | -74.50            | US Atlantic Coast | 40.3              | -74.50            | NY                | 41.5435           | -74.6941          | 36-45             | GRAND             | Pine              |\n",
       "| 1083863           | 1                 | NaN               | 0                 | men               | Pine              | GRAND             | Resale            | men_slippers      | 736               | ...               | -84.75            | US Midwest        | 43.3              | -84.75            | IL                | 41.2340           | -88.3961          | 56-65             | MODA              | Maple             |\n",
       "| 1083863           | 2                 | NaN               | 0                 | men               | Pine              | GRAND             | Internet          | men_underwear     | 724               | ...               | -74.50            | US Atlantic Coast | 40.3              | -74.50            | NJ                | 40.4403           | -74.4296          | 46-55             | MODA              | Maple             |\n",
       "| 1083883           | 2                 |  23               | 1                 | electronics       | Pine              | GRAND             | Store             | DVD & Blu-ray     | 757               | ...               | -84.75            | US Midwest        | 43.3              | -84.75            | KS                | 38.4575           | -96.5830          | 26-35             | GRAND             | Pine              |\n",
       "| 1083883           | 2                 |  23               | 1                 | health            | Pine              | GRAND             | Internet          | bath & body       | 376               | ...               | -75.00            | US Northeast      | 42.0              | -75.00            | MA                | 42.2748           | -71.3780          | Over 65           | GRAND             | Pine              |\n",
       "\n"
      ],
      "text/plain": [
       "  CustID  bucket age loyalty_card Department  brand_name Storechain ChannelType\n",
       "1 1083863 1      NaN 0            health      Pine       GRAND      Resale     \n",
       "2 1083863 1      NaN 0            kids        Pine       GRAND      Resale     \n",
       "3 1083863 1      NaN 0            men         Pine       GRAND      Resale     \n",
       "4 1083863 2      NaN 0            men         Pine       GRAND      Internet   \n",
       "5 1083883 2       23 1            electronics Pine       GRAND      Store      \n",
       "6 1083883 2       23 1            health      Pine       GRAND      Internet   \n",
       "  Class         StoreNum ... Region_Long Region_2          Region_2_Lat\n",
       "1 oral care     736      ... -74.50      US Atlantic Coast 40.3        \n",
       "2 kids_swimwear 736      ... -74.50      US Atlantic Coast 40.3        \n",
       "3 men_slippers  736      ... -84.75      US Midwest        43.3        \n",
       "4 men_underwear 724      ... -74.50      US Atlantic Coast 40.3        \n",
       "5 DVD & Blu-ray 757      ... -84.75      US Midwest        43.3        \n",
       "6 bath & body   376      ... -75.00      US Northeast      42.0        \n",
       "  Region_2_Long State State_Lat State_Long age_bucket Storechain1 brand_name1\n",
       "1 -74.50        NY    41.5435   -74.6941   18-25      FAST        Oak        \n",
       "2 -74.50        NY    41.5435   -74.6941   36-45      GRAND       Pine       \n",
       "3 -84.75        IL    41.2340   -88.3961   56-65      MODA        Maple      \n",
       "4 -74.50        NJ    40.4403   -74.4296   46-55      MODA        Maple      \n",
       "5 -84.75        KS    38.4575   -96.5830   26-35      GRAND       Pine       \n",
       "6 -75.00        MA    42.2748   -71.3780   Over 65    GRAND       Pine       "
      ]
     },
     "metadata": {},
     "output_type": "display_data"
    }
   ],
   "source": [
    "head(casTbl)"
   ]
  },
  {
   "cell_type": "code",
   "execution_count": 6,
   "metadata": {},
   "outputs": [
    {
     "data": {
      "text/html": [
       "<ol class=list-inline>\n",
       "\t<li>'CustID'</li>\n",
       "\t<li>'bucket'</li>\n",
       "\t<li>'age'</li>\n",
       "\t<li>'loyalty_card'</li>\n",
       "\t<li>'Department'</li>\n",
       "\t<li>'brand_name'</li>\n",
       "\t<li>'Storechain'</li>\n",
       "\t<li>'ChannelType'</li>\n",
       "\t<li>'Class'</li>\n",
       "\t<li>'StoreNum'</li>\n",
       "\t<li>'Storeage'</li>\n",
       "\t<li>'trx_hr_char'</li>\n",
       "\t<li>'trx_dow_new'</li>\n",
       "\t<li>'trx_tod'</li>\n",
       "\t<li>'Date'</li>\n",
       "\t<li>'MDY'</li>\n",
       "\t<li>'Year'</li>\n",
       "\t<li>'Sales'</li>\n",
       "\t<li>'Cost'</li>\n",
       "\t<li>'mkt_bdgt'</li>\n",
       "\t<li>'Margin'</li>\n",
       "\t<li>'sss'</li>\n",
       "\t<li>'City'</li>\n",
       "\t<li>'City_Lat'</li>\n",
       "\t<li>'City_Long'</li>\n",
       "\t<li>'Country'</li>\n",
       "\t<li>'Country_Lat'</li>\n",
       "\t<li>'Country_Long'</li>\n",
       "\t<li>'Region'</li>\n",
       "\t<li>'Region_Lat'</li>\n",
       "\t<li>'Region_Long'</li>\n",
       "\t<li>'Region_2'</li>\n",
       "\t<li>'Region_2_Lat'</li>\n",
       "\t<li>'Region_2_Long'</li>\n",
       "\t<li>'State'</li>\n",
       "\t<li>'State_Lat'</li>\n",
       "\t<li>'State_Long'</li>\n",
       "\t<li>'age_bucket'</li>\n",
       "\t<li>'Storechain1'</li>\n",
       "\t<li>'brand_name1'</li>\n",
       "</ol>\n"
      ],
      "text/latex": [
       "\\begin{enumerate*}\n",
       "\\item 'CustID'\n",
       "\\item 'bucket'\n",
       "\\item 'age'\n",
       "\\item 'loyalty\\_card'\n",
       "\\item 'Department'\n",
       "\\item 'brand\\_name'\n",
       "\\item 'Storechain'\n",
       "\\item 'ChannelType'\n",
       "\\item 'Class'\n",
       "\\item 'StoreNum'\n",
       "\\item 'Storeage'\n",
       "\\item 'trx\\_hr\\_char'\n",
       "\\item 'trx\\_dow\\_new'\n",
       "\\item 'trx\\_tod'\n",
       "\\item 'Date'\n",
       "\\item 'MDY'\n",
       "\\item 'Year'\n",
       "\\item 'Sales'\n",
       "\\item 'Cost'\n",
       "\\item 'mkt\\_bdgt'\n",
       "\\item 'Margin'\n",
       "\\item 'sss'\n",
       "\\item 'City'\n",
       "\\item 'City\\_Lat'\n",
       "\\item 'City\\_Long'\n",
       "\\item 'Country'\n",
       "\\item 'Country\\_Lat'\n",
       "\\item 'Country\\_Long'\n",
       "\\item 'Region'\n",
       "\\item 'Region\\_Lat'\n",
       "\\item 'Region\\_Long'\n",
       "\\item 'Region\\_2'\n",
       "\\item 'Region\\_2\\_Lat'\n",
       "\\item 'Region\\_2\\_Long'\n",
       "\\item 'State'\n",
       "\\item 'State\\_Lat'\n",
       "\\item 'State\\_Long'\n",
       "\\item 'age\\_bucket'\n",
       "\\item 'Storechain1'\n",
       "\\item 'brand\\_name1'\n",
       "\\end{enumerate*}\n"
      ],
      "text/markdown": [
       "1. 'CustID'\n",
       "2. 'bucket'\n",
       "3. 'age'\n",
       "4. 'loyalty_card'\n",
       "5. 'Department'\n",
       "6. 'brand_name'\n",
       "7. 'Storechain'\n",
       "8. 'ChannelType'\n",
       "9. 'Class'\n",
       "10. 'StoreNum'\n",
       "11. 'Storeage'\n",
       "12. 'trx_hr_char'\n",
       "13. 'trx_dow_new'\n",
       "14. 'trx_tod'\n",
       "15. 'Date'\n",
       "16. 'MDY'\n",
       "17. 'Year'\n",
       "18. 'Sales'\n",
       "19. 'Cost'\n",
       "20. 'mkt_bdgt'\n",
       "21. 'Margin'\n",
       "22. 'sss'\n",
       "23. 'City'\n",
       "24. 'City_Lat'\n",
       "25. 'City_Long'\n",
       "26. 'Country'\n",
       "27. 'Country_Lat'\n",
       "28. 'Country_Long'\n",
       "29. 'Region'\n",
       "30. 'Region_Lat'\n",
       "31. 'Region_Long'\n",
       "32. 'Region_2'\n",
       "33. 'Region_2_Lat'\n",
       "34. 'Region_2_Long'\n",
       "35. 'State'\n",
       "36. 'State_Lat'\n",
       "37. 'State_Long'\n",
       "38. 'age_bucket'\n",
       "39. 'Storechain1'\n",
       "40. 'brand_name1'\n",
       "\n",
       "\n"
      ],
      "text/plain": [
       " [1] \"CustID\"        \"bucket\"        \"age\"           \"loyalty_card\" \n",
       " [5] \"Department\"    \"brand_name\"    \"Storechain\"    \"ChannelType\"  \n",
       " [9] \"Class\"         \"StoreNum\"      \"Storeage\"      \"trx_hr_char\"  \n",
       "[13] \"trx_dow_new\"   \"trx_tod\"       \"Date\"          \"MDY\"          \n",
       "[17] \"Year\"          \"Sales\"         \"Cost\"          \"mkt_bdgt\"     \n",
       "[21] \"Margin\"        \"sss\"           \"City\"          \"City_Lat\"     \n",
       "[25] \"City_Long\"     \"Country\"       \"Country_Lat\"   \"Country_Long\" \n",
       "[29] \"Region\"        \"Region_Lat\"    \"Region_Long\"   \"Region_2\"     \n",
       "[33] \"Region_2_Lat\"  \"Region_2_Long\" \"State\"         \"State_Lat\"    \n",
       "[37] \"State_Long\"    \"age_bucket\"    \"Storechain1\"   \"brand_name1\"  "
      ]
     },
     "metadata": {},
     "output_type": "display_data"
    }
   ],
   "source": [
    "names(casTbl)"
   ]
  },
  {
   "cell_type": "code",
   "execution_count": 7,
   "metadata": {},
   "outputs": [
    {
     "data": {
      "text/html": [
       "<ol class=list-inline>\n",
       "\t<li>930046</li>\n",
       "\t<li>40</li>\n",
       "</ol>\n"
      ],
      "text/latex": [
       "\\begin{enumerate*}\n",
       "\\item 930046\n",
       "\\item 40\n",
       "\\end{enumerate*}\n"
      ],
      "text/markdown": [
       "1. 930046\n",
       "2. 40\n",
       "\n",
       "\n"
      ],
      "text/plain": [
       "[1] 930046     40"
      ]
     },
     "metadata": {},
     "output_type": "display_data"
    }
   ],
   "source": [
    "dim(casTbl)"
   ]
  },
  {
   "cell_type": "code",
   "execution_count": 8,
   "metadata": {},
   "outputs": [
    {
     "data": {
      "text/html": [
       "<dl class=dl-horizontal>\n",
       "\t<dt>CustID</dt>\n",
       "\t\t<dd>18571781.3171682</dd>\n",
       "\t<dt>bucket</dt>\n",
       "\t\t<dd>1.58284536463788</dd>\n",
       "\t<dt>age</dt>\n",
       "\t\t<dd>43.5774106680073</dd>\n",
       "\t<dt>loyalty_card</dt>\n",
       "\t\t<dd>0.27589925659591</dd>\n",
       "\t<dt>StoreNum</dt>\n",
       "\t\t<dd>612.66809598665</dd>\n",
       "\t<dt>Storeage</dt>\n",
       "\t\t<dd>8.42347475286169</dd>\n",
       "\t<dt>Date</dt>\n",
       "\t\t<dd>18202.8510353251</dd>\n",
       "\t<dt>MDY</dt>\n",
       "\t\t<dd>32325.6951591642</dd>\n",
       "\t<dt>Year</dt>\n",
       "\t\t<dd>2009.14345957082</dd>\n",
       "\t<dt>Sales</dt>\n",
       "\t\t<dd>41.9758646346525</dd>\n",
       "\t<dt>Cost</dt>\n",
       "\t\t<dd>13.6474507712522</dd>\n",
       "\t<dt>mkt_bdgt</dt>\n",
       "\t\t<dd>657559.767494942</dd>\n",
       "\t<dt>Margin</dt>\n",
       "\t\t<dd>28.3733643282155</dd>\n",
       "\t<dt>sss</dt>\n",
       "\t\t<dd>86335.772485447</dd>\n",
       "\t<dt>City_Lat</dt>\n",
       "\t\t<dd>36.9108382765336</dd>\n",
       "\t<dt>City_Long</dt>\n",
       "\t\t<dd>-91.1945249908182</dd>\n",
       "\t<dt>Country_Lat</dt>\n",
       "\t\t<dd>37.0126270302688</dd>\n",
       "\t<dt>Country_Long</dt>\n",
       "\t\t<dd>-91.4508431925928</dd>\n",
       "\t<dt>Region_Lat</dt>\n",
       "\t\t<dd>39.3050685665071</dd>\n",
       "\t<dt>Region_Long</dt>\n",
       "\t\t<dd>-90.8519965679117</dd>\n",
       "\t<dt>Region_2_Lat</dt>\n",
       "\t\t<dd>39.3050685665071</dd>\n",
       "\t<dt>Region_2_Long</dt>\n",
       "\t\t<dd>-90.8519965679117</dd>\n",
       "\t<dt>State_Lat</dt>\n",
       "\t\t<dd>37.0126270302688</dd>\n",
       "\t<dt>State_Long</dt>\n",
       "\t\t<dd>-91.4508431925928</dd>\n",
       "</dl>\n"
      ],
      "text/latex": [
       "\\begin{description*}\n",
       "\\item[CustID] 18571781.3171682\n",
       "\\item[bucket] 1.58284536463788\n",
       "\\item[age] 43.5774106680073\n",
       "\\item[loyalty\\textbackslash{}\\_card] 0.27589925659591\n",
       "\\item[StoreNum] 612.66809598665\n",
       "\\item[Storeage] 8.42347475286169\n",
       "\\item[Date] 18202.8510353251\n",
       "\\item[MDY] 32325.6951591642\n",
       "\\item[Year] 2009.14345957082\n",
       "\\item[Sales] 41.9758646346525\n",
       "\\item[Cost] 13.6474507712522\n",
       "\\item[mkt\\textbackslash{}\\_bdgt] 657559.767494942\n",
       "\\item[Margin] 28.3733643282155\n",
       "\\item[sss] 86335.772485447\n",
       "\\item[City\\textbackslash{}\\_Lat] 36.9108382765336\n",
       "\\item[City\\textbackslash{}\\_Long] -91.1945249908182\n",
       "\\item[Country\\textbackslash{}\\_Lat] 37.0126270302688\n",
       "\\item[Country\\textbackslash{}\\_Long] -91.4508431925928\n",
       "\\item[Region\\textbackslash{}\\_Lat] 39.3050685665071\n",
       "\\item[Region\\textbackslash{}\\_Long] -90.8519965679117\n",
       "\\item[Region\\textbackslash{}\\_2\\textbackslash{}\\_Lat] 39.3050685665071\n",
       "\\item[Region\\textbackslash{}\\_2\\textbackslash{}\\_Long] -90.8519965679117\n",
       "\\item[State\\textbackslash{}\\_Lat] 37.0126270302688\n",
       "\\item[State\\textbackslash{}\\_Long] -91.4508431925928\n",
       "\\end{description*}\n"
      ],
      "text/markdown": [
       "CustID\n",
       ":   18571781.3171682bucket\n",
       ":   1.58284536463788age\n",
       ":   43.5774106680073loyalty_card\n",
       ":   0.27589925659591StoreNum\n",
       ":   612.66809598665Storeage\n",
       ":   8.42347475286169Date\n",
       ":   18202.8510353251MDY\n",
       ":   32325.6951591642Year\n",
       ":   2009.14345957082Sales\n",
       ":   41.9758646346525Cost\n",
       ":   13.6474507712522mkt_bdgt\n",
       ":   657559.767494942Margin\n",
       ":   28.3733643282155sss\n",
       ":   86335.772485447City_Lat\n",
       ":   36.9108382765336City_Long\n",
       ":   -91.1945249908182Country_Lat\n",
       ":   37.0126270302688Country_Long\n",
       ":   -91.4508431925928Region_Lat\n",
       ":   39.3050685665071Region_Long\n",
       ":   -90.8519965679117Region_2_Lat\n",
       ":   39.3050685665071Region_2_Long\n",
       ":   -90.8519965679117State_Lat\n",
       ":   37.0126270302688State_Long\n",
       ":   -91.4508431925928\n",
       "\n"
      ],
      "text/plain": [
       "       CustID        bucket           age  loyalty_card      StoreNum \n",
       " 1.857178e+07  1.582845e+00  4.357741e+01  2.758993e-01  6.126681e+02 \n",
       "     Storeage          Date           MDY          Year         Sales \n",
       " 8.423475e+00  1.820285e+04  3.232570e+04  2.009143e+03  4.197586e+01 \n",
       "         Cost      mkt_bdgt        Margin           sss      City_Lat \n",
       " 1.364745e+01  6.575598e+05  2.837336e+01  8.633577e+04  3.691084e+01 \n",
       "    City_Long   Country_Lat  Country_Long    Region_Lat   Region_Long \n",
       "-9.119452e+01  3.701263e+01 -9.145084e+01  3.930507e+01 -9.085200e+01 \n",
       " Region_2_Lat Region_2_Long     State_Lat    State_Long \n",
       " 3.930507e+01 -9.085200e+01  3.701263e+01 -9.145084e+01 "
      ]
     },
     "metadata": {},
     "output_type": "display_data"
    }
   ],
   "source": [
    "colMeans(casTbl)"
   ]
  },
  {
   "cell_type": "code",
   "execution_count": 9,
   "metadata": {},
   "outputs": [
    {
     "data": {
      "text/html": [
       "28.3733643282155"
      ],
      "text/latex": [
       "28.3733643282155"
      ],
      "text/markdown": [
       "28.3733643282155"
      ],
      "text/plain": [
       "[1] 28.37336"
      ]
     },
     "metadata": {},
     "output_type": "display_data"
    }
   ],
   "source": [
    "mean(casTbl$Margin)"
   ]
  },
  {
   "cell_type": "code",
   "execution_count": 10,
   "metadata": {},
   "outputs": [
    {
     "data": {
      "text/html": [
       "930046"
      ],
      "text/latex": [
       "930046"
      ],
      "text/markdown": [
       "930046"
      ],
      "text/plain": [
       "[1] 930046"
      ]
     },
     "metadata": {},
     "output_type": "display_data"
    }
   ],
   "source": [
    "nrow(casTbl)"
   ]
  },
  {
   "cell_type": "code",
   "execution_count": 11,
   "metadata": {},
   "outputs": [
    {
     "data": {
      "text/plain": [
       "     CustID             bucket           age             loyalty_card   \n",
       " Min.   :      19   Min.   :1.000   Min.   :    18.00   Min.   :0.0000  \n",
       " 1st Qu.: 5607946   1st Qu.:1.000   1st Qu.:    28.00   1st Qu.:0.0000  \n",
       " Median :13905944   Median :2.000   Median :    39.00   Median :0.0000  \n",
       " Mean   :18571781   Mean   :1.583   Mean   :    43.58   Mean   :0.2759  \n",
       " 3rd Qu.:31523532   3rd Qu.:2.000   3rd Qu.:    56.00   3rd Qu.:1.0000  \n",
       " Max.   :48188727   Max.   :3.000   Max.   :   140.00   Max.   :1.0000  \n",
       "                                    NA's   :673447.00                   \n",
       "       Department     brand_name     Storechain       ChannelType    \n",
       " electronics:152440   Maple: 82960   FAST :255628   Internet:778137  \n",
       " grocery    :157015   Oak  :255628   GRAND:609390   Resale  : 51586  \n",
       " health     :181439   Pine :591458   MODA : 65028   Store   :100323  \n",
       " kids       :123427                                                  \n",
       " men        :111311                                                  \n",
       " women      :204414                                                  \n",
       "                                                                     \n",
       "            Class          StoreNum         Storeage      trx_hr_char   \n",
       " bath & body   :47944   Min.   :   2.0   Min.   : 1.000   1 PM :105381  \n",
       " men_shoes     :25687   1st Qu.: 317.0   1st Qu.: 5.000   12 PM:105617  \n",
       " oils          :29687   Median : 602.0   Median : 8.000   2 PM :105348  \n",
       " oral care     :39434   Mean   : 612.7   Mean   : 8.423   3 PM :125253  \n",
       " women_handbags:44736   3rd Qu.: 900.0   3rd Qu.:11.000   4 PM :125277  \n",
       " women_tops    :36164   Max.   :1279.0   Max.   :29.000   9 AM : 81475  \n",
       "                                                          NA's :     9  \n",
       " trx_dow_new       trx_tod            Date            MDY             Year     \n",
       " FRI:146869   Afternoon:598896   Min.   :18111   Min.   : 4200   Min.   :2009  \n",
       " SAT:184388   Evening  : 96380   1st Qu.:18158   1st Qu.:29340   1st Qu.:2009  \n",
       " SUN:111876   Morning  :234770   Median :18206   Median :36540   Median :2009  \n",
       " THU:136986                      Mean   :18203   Mean   :32326   Mean   :2009  \n",
       " TUE:115596                      3rd Qu.:18247   3rd Qu.:40140   3rd Qu.:2009  \n",
       " WED:124087                      Max.   :18292   Max.   :43740   Max.   :2010  \n",
       "                                                                               \n",
       "     Sales               Cost           mkt_bdgt           Margin        \n",
       " Min.   :    0.00   Min.   :  0.00   Min.   :      0   Min.   :  -58.91  \n",
       " 1st Qu.:   21.00   1st Qu.:  8.00   1st Qu.:  22505   1st Qu.:   11.39  \n",
       " Median :   35.00   Median : 13.00   Median :  66028   Median :   22.27  \n",
       " Mean   :   41.98   Mean   : 13.65   Mean   : 657560   Mean   :   28.37  \n",
       " 3rd Qu.:   58.00   3rd Qu.: 18.00   3rd Qu.: 863544   3rd Qu.:   42.09  \n",
       " Max.   :12108.00   Max.   :150.00   Max.   :5094381   Max.   :12107.91  \n",
       "                                                                         \n",
       "      sss                   City          City_Lat       City_Long      \n",
       " Min.   :   703   Ann Arbor   :29193   Min.   :21.31   Min.   :-157.83  \n",
       " 1st Qu.:  1408   Baltimore   :30858   1st Qu.:33.52   1st Qu.: -97.33  \n",
       " Median : 93591   Dallas      :23543   Median :38.03   Median : -85.75  \n",
       " Mean   : 86336   Houston     :53772   Mean   :36.91   Mean   : -91.19  \n",
       " 3rd Qu.:146622   New York    :26584   3rd Qu.:40.70   3rd Qu.: -79.04  \n",
       " Max.   :199413   Philadelphia:27012   Max.   :47.67   Max.   : -70.96  \n",
       "                                                                        \n",
       "          Country        Country_Lat     Country_Long       Region      \n",
       " United States:930046   Min.   :21.18   Min.   :-157.57   US_AT:193034  \n",
       "                        1st Qu.:33.35   1st Qu.: -97.44   US_CS: 77539  \n",
       "                        Median :37.70   Median : -86.43   US_MW:177392  \n",
       "                        Mean   :37.01   Mean   : -91.45   US_SE:145949  \n",
       "                        3rd Qu.:41.23   3rd Qu.: -79.65   US_SW:132993  \n",
       "                        Max.   :47.35   Max.   : -71.38   US_WC:163250  \n",
       "                                                                        \n",
       "   Region_Lat     Region_Long                   Region_2       Region_2_Lat  \n",
       " Min.   :30.00   Min.   :-121.00   US Atlantic Coast:193034   Min.   :30.00  \n",
       " 1st Qu.:35.00   1st Qu.:-106.00   US Midwest       :177392   1st Qu.:35.00  \n",
       " Median :40.30   Median : -84.75   US South Central : 77539   Median :40.30  \n",
       " Mean   :39.31   Mean   : -90.85   US Southeast     :145949   Mean   :39.31  \n",
       " 3rd Qu.:43.30   3rd Qu.: -75.00   US Southwest     :132993   3rd Qu.:43.30  \n",
       " Max.   :47.00   Max.   : -74.50   US West Coast    :163250   Max.   :47.00  \n",
       "                                                                             \n",
       " Region_2_Long     State         State_Lat       State_Long     \n",
       " Min.   :-121.00   CA:104009   Min.   :21.18   Min.   :-157.57  \n",
       " 1st Qu.:-106.00   FL: 84169   1st Qu.:33.35   1st Qu.: -97.44  \n",
       " Median : -84.75   MI: 45795   Median :37.70   Median : -86.43  \n",
       " Mean   : -90.85   NJ: 43022   Mean   :37.01   Mean   : -91.45  \n",
       " 3rd Qu.: -75.00   PA: 43782   3rd Qu.:41.23   3rd Qu.: -79.65  \n",
       " Max.   : -74.50   TX: 99055   Max.   :47.35   Max.   : -71.38  \n",
       "                                                                \n",
       "   age_bucket     Storechain1    brand_name1   \n",
       " 18-25  :155398   FAST :285287   Maple:413938  \n",
       " 26-35  :166627   GRAND:299498   Oak  :257607  \n",
       " 36-45  :165783   MODA :345261   Pine :258501  \n",
       " 46-55  :160212                                \n",
       " 56-65  :155792                                \n",
       " Over 65:126234                                \n",
       "                                               "
      ]
     },
     "metadata": {},
     "output_type": "display_data"
    }
   ],
   "source": [
    "summary(casTbl)"
   ]
  },
  {
   "cell_type": "markdown",
   "metadata": {},
   "source": [
    "### 4.2) Les actions CAS plus avancées peuvent être invoquées directement en tant que nouvelles fonctions R disponibles (tout sera calculé à l'échelle dans le moteur CAS sans déplacer les données de l'environnement SAS Viya)"
   ]
  },
  {
   "cell_type": "code",
   "execution_count": 12,
   "metadata": {
    "scrolled": true
   },
   "outputs": [
    {
     "data": {
      "text/html": [
       "<strong>$Distinct</strong> = <table>\n",
       "<thead><tr><th scope=col>Column</th><th scope=col>NDistinct</th><th scope=col>NMiss</th><th scope=col>Trunc</th></tr></thead>\n",
       "<tbody>\n",
       "\t<tr><td>StoreNum</td><td>  1076  </td><td>0       </td><td>0       </td></tr>\n",
       "\t<tr><td>Year    </td><td>     2  </td><td>0       </td><td>0       </td></tr>\n",
       "\t<tr><td>CustID  </td><td>699816  </td><td>0       </td><td>0       </td></tr>\n",
       "</tbody>\n",
       "</table>\n"
      ],
      "text/latex": [
       "\\textbf{\\$Distinct} = \\begin{tabular}{r|llll}\n",
       " Column & NDistinct & NMiss & Trunc\\\\\n",
       "\\hline\n",
       "\t StoreNum &   1076   & 0        & 0       \\\\\n",
       "\t Year     &      2   & 0        & 0       \\\\\n",
       "\t CustID   & 699816   & 0        & 0       \\\\\n",
       "\\end{tabular}\n"
      ],
      "text/markdown": [
       "**$Distinct** = \n",
       "| Column | NDistinct | NMiss | Trunc |\n",
       "|---|---|---|---|\n",
       "| StoreNum |   1076   | 0        | 0        |\n",
       "| Year     |      2   | 0        | 0        |\n",
       "| CustID   | 699816   | 0        | 0        |\n",
       "\n"
      ],
      "text/plain": [
       "$Distinct\n",
       "    Column NDistinct NMiss Trunc\n",
       "1 StoreNum      1076     0     0\n",
       "2     Year         2     0     0\n",
       "3   CustID    699816     0     0\n"
      ]
     },
     "metadata": {},
     "output_type": "display_data"
    }
   ],
   "source": [
    "cas.simple.distinct(conn,  table = list(caslib=\"samples\",name=\"RAND_RETAILDEMO\"),  inputs = c(\"StoreNum\",\"YEAR\",\"CUSTID\"))"
   ]
  },
  {
   "cell_type": "code",
   "execution_count": 13,
   "metadata": {},
   "outputs": [
    {
     "data": {
      "text/html": [
       "<strong>$Frequency</strong> = <table>\n",
       "<thead><tr><th scope=col>Column</th><th scope=col>NumVar</th><th scope=col>FmtVar</th><th scope=col>Level</th><th scope=col>Frequency</th></tr></thead>\n",
       "<tbody>\n",
       "\t<tr><td>Year  </td><td>2009  </td><td>2009  </td><td>1     </td><td>796622</td></tr>\n",
       "\t<tr><td>Year  </td><td>2010  </td><td>2010  </td><td>1     </td><td>133424</td></tr>\n",
       "</tbody>\n",
       "</table>\n"
      ],
      "text/latex": [
       "\\textbf{\\$Frequency} = \\begin{tabular}{r|lllll}\n",
       " Column & NumVar & FmtVar & Level & Frequency\\\\\n",
       "\\hline\n",
       "\t Year   & 2009   & 2009   & 1      & 796622\\\\\n",
       "\t Year   & 2010   & 2010   & 1      & 133424\\\\\n",
       "\\end{tabular}\n"
      ],
      "text/markdown": [
       "**$Frequency** = \n",
       "| Column | NumVar | FmtVar | Level | Frequency |\n",
       "|---|---|---|---|---|\n",
       "| Year   | 2009   | 2009   | 1      | 796622 |\n",
       "| Year   | 2010   | 2010   | 1      | 133424 |\n",
       "\n"
      ],
      "text/plain": [
       "$Frequency\n",
       "  Column NumVar FmtVar Level Frequency\n",
       "1   Year   2009   2009     1    796622\n",
       "2   Year   2010   2010     1    133424\n"
      ]
     },
     "metadata": {},
     "output_type": "display_data"
    }
   ],
   "source": [
    "cas.simple.freq(conn, table = list(caslib=\"samples\",name=\"RAND_RETAILDEMO\"), inputs = c(\"YEAR\"))"
   ]
  },
  {
   "cell_type": "code",
   "execution_count": 14,
   "metadata": {},
   "outputs": [
    {
     "data": {
      "text/html": [
       "<strong>$`Result Set`</strong> = <table>\n",
       "<thead><tr><th scope=col>COUNT</th></tr></thead>\n",
       "<tbody>\n",
       "\t<tr><td>930046</td></tr>\n",
       "</tbody>\n",
       "</table>\n"
      ],
      "text/latex": [
       "\\textbf{\\$`Result Set`} = \\begin{tabular}{r|l}\n",
       " COUNT\\\\\n",
       "\\hline\n",
       "\t 930046\\\\\n",
       "\\end{tabular}\n"
      ],
      "text/markdown": [
       "**$`Result Set`** = \n",
       "| COUNT |\n",
       "|---|\n",
       "| 930046 |\n",
       "\n"
      ],
      "text/plain": [
       "$`Result Set`\n",
       "   COUNT\n",
       "1 930046\n"
      ]
     },
     "metadata": {},
     "output_type": "display_data"
    }
   ],
   "source": [
    "cas.fedSql.execDirect(conn, query=\"select count(*) from samples.RAND_RETAILDEMO\")"
   ]
  },
  {
   "cell_type": "markdown",
   "metadata": {},
   "source": [
    "## 5) On peut aussi récupérer les données de SAS Viya sous forme de dataframe R (en faisant attention à la volumétrie traitable par le moteur R). \n",
    "Ensuite fonctions et librairies R habituelles des utilisateurs pourront être utilisées. Les données pourront être par la suite envoyées simplement vers le serveur SAS Viya pour un partage sécurisé de ces données aux autres utilisateurs par exemple."
   ]
  },
  {
   "cell_type": "code",
   "execution_count": 16,
   "metadata": {},
   "outputs": [],
   "source": [
    "dfR <- to.casDataFrame(casTbl, obs = 100000)"
   ]
  },
  {
   "cell_type": "code",
   "execution_count": 17,
   "metadata": {},
   "outputs": [
    {
     "data": {
      "text/html": [
       "<table>\n",
       "<thead><tr><th scope=col>CustID</th><th scope=col>bucket</th><th scope=col>age</th><th scope=col>loyalty_card</th><th scope=col>Department</th><th scope=col>brand_name</th><th scope=col>Storechain</th><th scope=col>ChannelType</th><th scope=col>Class</th><th scope=col>StoreNum</th><th scope=col>...</th><th scope=col>Region_Long</th><th scope=col>Region_2</th><th scope=col>Region_2_Lat</th><th scope=col>Region_2_Long</th><th scope=col>State</th><th scope=col>State_Lat</th><th scope=col>State_Long</th><th scope=col>age_bucket</th><th scope=col>Storechain1</th><th scope=col>brand_name1</th></tr></thead>\n",
       "<tbody>\n",
       "\t<tr><td>1083863          </td><td>1                </td><td>NaN              </td><td>0                </td><td>health           </td><td>Pine             </td><td>GRAND            </td><td>Resale           </td><td>oral care        </td><td>736              </td><td>...              </td><td>-74.50           </td><td>US Atlantic Coast</td><td>40.3             </td><td>-74.50           </td><td>NY               </td><td>41.5435          </td><td>-74.6941         </td><td>18-25            </td><td>FAST             </td><td>Oak              </td></tr>\n",
       "\t<tr><td>1083863          </td><td>1                </td><td>NaN              </td><td>0                </td><td>kids             </td><td>Pine             </td><td>GRAND            </td><td>Resale           </td><td>kids_swimwear    </td><td>736              </td><td>...              </td><td>-74.50           </td><td>US Atlantic Coast</td><td>40.3             </td><td>-74.50           </td><td>NY               </td><td>41.5435          </td><td>-74.6941         </td><td>36-45            </td><td>GRAND            </td><td>Pine             </td></tr>\n",
       "\t<tr><td>1083863          </td><td>1                </td><td>NaN              </td><td>0                </td><td>men              </td><td>Pine             </td><td>GRAND            </td><td>Resale           </td><td>men_slippers     </td><td>736              </td><td>...              </td><td>-84.75           </td><td>US Midwest       </td><td>43.3             </td><td>-84.75           </td><td>IL               </td><td>41.2340          </td><td>-88.3961         </td><td>56-65            </td><td>MODA             </td><td>Maple            </td></tr>\n",
       "\t<tr><td>1083863          </td><td>2                </td><td>NaN              </td><td>0                </td><td>men              </td><td>Pine             </td><td>GRAND            </td><td>Internet         </td><td>men_underwear    </td><td>724              </td><td>...              </td><td>-74.50           </td><td>US Atlantic Coast</td><td>40.3             </td><td>-74.50           </td><td>NJ               </td><td>40.4403          </td><td>-74.4296         </td><td>46-55            </td><td>MODA             </td><td>Maple            </td></tr>\n",
       "\t<tr><td>1083883                                                  </td><td>2                                                        </td><td> 23                                                      </td><td>1                                                        </td><td>electronics                                              </td><td>Pine                                                     </td><td>GRAND                                                    </td><td><span style=white-space:pre-wrap>Store   </span>         </td><td>DVD &amp; Blu-ray                                        </td><td>757                                                      </td><td>...                                                      </td><td>-84.75                                                   </td><td><span style=white-space:pre-wrap>US Midwest       </span></td><td>43.3                                                     </td><td>-84.75                                                   </td><td>KS                                                       </td><td>38.4575                                                  </td><td>-96.5830                                                 </td><td><span style=white-space:pre-wrap>26-35  </span>          </td><td>GRAND                                                    </td><td>Pine                                                     </td></tr>\n",
       "\t<tr><td>1083883                                                  </td><td>2                                                        </td><td> 23                                                      </td><td>1                                                        </td><td><span style=white-space:pre-wrap>health     </span>      </td><td>Pine                                                     </td><td>GRAND                                                    </td><td>Internet                                                 </td><td><span style=white-space:pre-wrap>bath &amp; body  </span></td><td>376                                                      </td><td>...                                                      </td><td>-75.00                                                   </td><td><span style=white-space:pre-wrap>US Northeast     </span></td><td>42.0                                                     </td><td>-75.00                                                   </td><td>MA                                                       </td><td>42.2748                                                  </td><td>-71.3780                                                 </td><td>Over 65                                                  </td><td>GRAND                                                    </td><td>Pine                                                     </td></tr>\n",
       "</tbody>\n",
       "</table>\n"
      ],
      "text/latex": [
       "\\begin{tabular}{r|llllllllllllllllllllllllllllllllllllllll}\n",
       " CustID & bucket & age & loyalty\\_card & Department & brand\\_name & Storechain & ChannelType & Class & StoreNum & ... & Region\\_Long & Region\\_2 & Region\\_2\\_Lat & Region\\_2\\_Long & State & State\\_Lat & State\\_Long & age\\_bucket & Storechain1 & brand\\_name1\\\\\n",
       "\\hline\n",
       "\t 1083863           & 1                 & NaN               & 0                 & health            & Pine              & GRAND             & Resale            & oral care         & 736               & ...               & -74.50            & US Atlantic Coast & 40.3              & -74.50            & NY                & 41.5435           & -74.6941          & 18-25             & FAST              & Oak              \\\\\n",
       "\t 1083863           & 1                 & NaN               & 0                 & kids              & Pine              & GRAND             & Resale            & kids\\_swimwear   & 736               & ...               & -74.50            & US Atlantic Coast & 40.3              & -74.50            & NY                & 41.5435           & -74.6941          & 36-45             & GRAND             & Pine             \\\\\n",
       "\t 1083863           & 1                 & NaN               & 0                 & men               & Pine              & GRAND             & Resale            & men\\_slippers    & 736               & ...               & -84.75            & US Midwest        & 43.3              & -84.75            & IL                & 41.2340           & -88.3961          & 56-65             & MODA              & Maple            \\\\\n",
       "\t 1083863           & 2                 & NaN               & 0                 & men               & Pine              & GRAND             & Internet          & men\\_underwear   & 724               & ...               & -74.50            & US Atlantic Coast & 40.3              & -74.50            & NJ                & 40.4403           & -74.4296          & 46-55             & MODA              & Maple            \\\\\n",
       "\t 1083883           & 2                 &  23               & 1                 & electronics       & Pine              & GRAND             & Store             & DVD \\& Blu-ray   & 757               & ...               & -84.75            & US Midwest        & 43.3              & -84.75            & KS                & 38.4575           & -96.5830          & 26-35             & GRAND             & Pine             \\\\\n",
       "\t 1083883           & 2                 &  23               & 1                 & health            & Pine              & GRAND             & Internet          & bath \\& body     & 376               & ...               & -75.00            & US Northeast      & 42.0              & -75.00            & MA                & 42.2748           & -71.3780          & Over 65           & GRAND             & Pine             \\\\\n",
       "\\end{tabular}\n"
      ],
      "text/markdown": [
       "\n",
       "| CustID | bucket | age | loyalty_card | Department | brand_name | Storechain | ChannelType | Class | StoreNum | ... | Region_Long | Region_2 | Region_2_Lat | Region_2_Long | State | State_Lat | State_Long | age_bucket | Storechain1 | brand_name1 |\n",
       "|---|---|---|---|---|---|---|---|---|---|---|---|---|---|---|---|---|---|---|---|---|\n",
       "| 1083863           | 1                 | NaN               | 0                 | health            | Pine              | GRAND             | Resale            | oral care         | 736               | ...               | -74.50            | US Atlantic Coast | 40.3              | -74.50            | NY                | 41.5435           | -74.6941          | 18-25             | FAST              | Oak               |\n",
       "| 1083863           | 1                 | NaN               | 0                 | kids              | Pine              | GRAND             | Resale            | kids_swimwear     | 736               | ...               | -74.50            | US Atlantic Coast | 40.3              | -74.50            | NY                | 41.5435           | -74.6941          | 36-45             | GRAND             | Pine              |\n",
       "| 1083863           | 1                 | NaN               | 0                 | men               | Pine              | GRAND             | Resale            | men_slippers      | 736               | ...               | -84.75            | US Midwest        | 43.3              | -84.75            | IL                | 41.2340           | -88.3961          | 56-65             | MODA              | Maple             |\n",
       "| 1083863           | 2                 | NaN               | 0                 | men               | Pine              | GRAND             | Internet          | men_underwear     | 724               | ...               | -74.50            | US Atlantic Coast | 40.3              | -74.50            | NJ                | 40.4403           | -74.4296          | 46-55             | MODA              | Maple             |\n",
       "| 1083883           | 2                 |  23               | 1                 | electronics       | Pine              | GRAND             | Store             | DVD & Blu-ray     | 757               | ...               | -84.75            | US Midwest        | 43.3              | -84.75            | KS                | 38.4575           | -96.5830          | 26-35             | GRAND             | Pine              |\n",
       "| 1083883           | 2                 |  23               | 1                 | health            | Pine              | GRAND             | Internet          | bath & body       | 376               | ...               | -75.00            | US Northeast      | 42.0              | -75.00            | MA                | 42.2748           | -71.3780          | Over 65           | GRAND             | Pine              |\n",
       "\n"
      ],
      "text/plain": [
       "  CustID  bucket age loyalty_card Department  brand_name Storechain ChannelType\n",
       "1 1083863 1      NaN 0            health      Pine       GRAND      Resale     \n",
       "2 1083863 1      NaN 0            kids        Pine       GRAND      Resale     \n",
       "3 1083863 1      NaN 0            men         Pine       GRAND      Resale     \n",
       "4 1083863 2      NaN 0            men         Pine       GRAND      Internet   \n",
       "5 1083883 2       23 1            electronics Pine       GRAND      Store      \n",
       "6 1083883 2       23 1            health      Pine       GRAND      Internet   \n",
       "  Class         StoreNum ... Region_Long Region_2          Region_2_Lat\n",
       "1 oral care     736      ... -74.50      US Atlantic Coast 40.3        \n",
       "2 kids_swimwear 736      ... -74.50      US Atlantic Coast 40.3        \n",
       "3 men_slippers  736      ... -84.75      US Midwest        43.3        \n",
       "4 men_underwear 724      ... -74.50      US Atlantic Coast 40.3        \n",
       "5 DVD & Blu-ray 757      ... -84.75      US Midwest        43.3        \n",
       "6 bath & body   376      ... -75.00      US Northeast      42.0        \n",
       "  Region_2_Long State State_Lat State_Long age_bucket Storechain1 brand_name1\n",
       "1 -74.50        NY    41.5435   -74.6941   18-25      FAST        Oak        \n",
       "2 -74.50        NY    41.5435   -74.6941   36-45      GRAND       Pine       \n",
       "3 -84.75        IL    41.2340   -88.3961   56-65      MODA        Maple      \n",
       "4 -74.50        NJ    40.4403   -74.4296   46-55      MODA        Maple      \n",
       "5 -84.75        KS    38.4575   -96.5830   26-35      GRAND       Pine       \n",
       "6 -75.00        MA    42.2748   -71.3780   Over 65    GRAND       Pine       "
      ]
     },
     "metadata": {},
     "output_type": "display_data"
    }
   ],
   "source": [
    "head(dfR)"
   ]
  },
  {
   "cell_type": "code",
   "execution_count": 18,
   "metadata": {},
   "outputs": [
    {
     "data": {
      "text/html": [
       "<ol class=list-inline>\n",
       "\t<li>100000</li>\n",
       "\t<li>40</li>\n",
       "</ol>\n"
      ],
      "text/latex": [
       "\\begin{enumerate*}\n",
       "\\item 100000\n",
       "\\item 40\n",
       "\\end{enumerate*}\n"
      ],
      "text/markdown": [
       "1. 100000\n",
       "2. 40\n",
       "\n",
       "\n"
      ],
      "text/plain": [
       "[1] 100000     40"
      ]
     },
     "metadata": {},
     "output_type": "display_data"
    }
   ],
   "source": [
    "dim(dfR)"
   ]
  },
  {
   "cell_type": "code",
   "execution_count": 19,
   "metadata": {},
   "outputs": [
    {
     "data": {
      "text/plain": [
       "     CustID             bucket           age          loyalty_card   \n",
       " Min.   : 1083863   Min.   :1.000   Min.   : 18.00   Min.   :0.0000  \n",
       " 1st Qu.: 4829015   1st Qu.:1.000   1st Qu.: 28.00   1st Qu.:0.0000  \n",
       " Median : 5599582   Median :2.000   Median : 38.00   Median :0.0000  \n",
       " Mean   :14767304   Mean   :1.591   Mean   : 42.72   Mean   :0.2688  \n",
       " 3rd Qu.:28578964   3rd Qu.:2.000   3rd Qu.: 53.00   3rd Qu.:1.0000  \n",
       " Max.   :34410005   Max.   :3.000   Max.   :140.00   Max.   :1.0000  \n",
       "                                    NA's   :73124                    \n",
       "  Department         brand_name         Storechain        ChannelType       \n",
       " Length:100000      Length:100000      Length:100000      Length:100000     \n",
       " Class :character   Class :character   Class :character   Class :character  \n",
       " Mode  :character   Mode  :character   Mode  :character   Mode  :character  \n",
       "                                                                            \n",
       "                                                                            \n",
       "                                                                            \n",
       "                                                                            \n",
       "    Class              StoreNum         Storeage      trx_hr_char       \n",
       " Length:100000      Min.   :   2.0   Min.   : 1.000   Length:100000     \n",
       " Class :character   1st Qu.: 232.0   1st Qu.: 6.000   Class :character  \n",
       " Mode  :character   Median : 501.0   Median : 9.000   Mode  :character  \n",
       "                    Mean   : 549.7   Mean   : 9.329                     \n",
       "                    3rd Qu.: 819.0   3rd Qu.:12.000                     \n",
       "                    Max.   :1274.0   Max.   :29.000                     \n",
       "                                                                        \n",
       " trx_dow_new          trx_tod               Date            MDY       \n",
       " Length:100000      Length:100000      Min.   :18111   Min.   : 4200  \n",
       " Class :character   Class :character   1st Qu.:18157   1st Qu.:29340  \n",
       " Mode  :character   Mode  :character   Median :18203   Median :36540  \n",
       "                                       Mean   :18202   Mean   :32523  \n",
       "                                       3rd Qu.:18246   3rd Qu.:40140  \n",
       "                                       Max.   :18292   Max.   :43740  \n",
       "                                                                      \n",
       "      Year          Sales             Cost           mkt_bdgt      \n",
       " Min.   :2009   Min.   :  0.00   Min.   :  0.00   Min.   :      0  \n",
       " 1st Qu.:2009   1st Qu.: 21.00   1st Qu.:  8.00   1st Qu.:  19497  \n",
       " Median :2009   Median : 35.00   Median : 13.00   Median :  52832  \n",
       " Mean   :2009   Mean   : 41.09   Mean   : 13.41   Mean   : 559275  \n",
       " 3rd Qu.:2009   3rd Qu.: 57.00   3rd Qu.: 17.00   3rd Qu.: 352519  \n",
       " Max.   :2010   Max.   :500.00   Max.   :119.00   Max.   :5094381  \n",
       "                                                                   \n",
       "     Margin            sss             City              City_Lat    \n",
       " Min.   :-48.38   Min.   :   703   Length:100000      Min.   :21.31  \n",
       " 1st Qu.: 11.60   1st Qu.: 16811   Class :character   1st Qu.:32.80  \n",
       " Median : 22.16   Median :106533   Mode  :character   Median :37.54  \n",
       " Mean   : 27.73   Mean   : 95264                      Mean   :36.48  \n",
       " 3rd Qu.: 41.48   3rd Qu.:152323                      3rd Qu.:40.44  \n",
       " Max.   :500.00   Max.   :199413                      Max.   :47.67  \n",
       "                                                                     \n",
       "   City_Long         Country           Country_Lat     Country_Long    \n",
       " Min.   :-157.83   Length:100000      Min.   :21.18   Min.   :-157.57  \n",
       " 1st Qu.: -97.33   Class :character   1st Qu.:33.00   1st Qu.: -97.44  \n",
       " Median : -85.75   Mode  :character   Median :35.78   Median : -85.24  \n",
       " Mean   : -91.11                      Mean   :36.60   Mean   : -91.43  \n",
       " 3rd Qu.: -79.98                      3rd Qu.:40.49   3rd Qu.: -79.65  \n",
       " Max.   : -70.96                      Max.   :47.35   Max.   : -71.38  \n",
       "                                                                       \n",
       "    Region            Region_Lat     Region_Long        Region_2        \n",
       " Length:100000      Min.   :30.00   Min.   :-121.00   Length:100000     \n",
       " Class :character   1st Qu.:35.00   1st Qu.:-106.00   Class :character  \n",
       " Mode  :character   Median :40.30   Median : -84.75   Mode  :character  \n",
       "                    Mean   :39.03   Mean   : -91.07                     \n",
       "                    3rd Qu.:43.30   3rd Qu.: -79.00                     \n",
       "                    Max.   :47.00   Max.   : -74.50                     \n",
       "                                                                        \n",
       "  Region_2_Lat   Region_2_Long        State             State_Lat    \n",
       " Min.   :30.00   Min.   :-121.00   Length:100000      Min.   :21.18  \n",
       " 1st Qu.:35.00   1st Qu.:-106.00   Class :character   1st Qu.:33.00  \n",
       " Median :40.30   Median : -84.75   Mode  :character   Median :35.78  \n",
       " Mean   :39.03   Mean   : -91.07                      Mean   :36.60  \n",
       " 3rd Qu.:43.30   3rd Qu.: -79.00                      3rd Qu.:40.49  \n",
       " Max.   :47.00   Max.   : -74.50                      Max.   :47.35  \n",
       "                                                                     \n",
       "   State_Long       age_bucket        Storechain1        brand_name1       \n",
       " Min.   :-157.57   Length:100000      Length:100000      Length:100000     \n",
       " 1st Qu.: -97.44   Class :character   Class :character   Class :character  \n",
       " Median : -85.24   Mode  :character   Mode  :character   Mode  :character  \n",
       " Mean   : -91.43                                                           \n",
       " 3rd Qu.: -79.65                                                           \n",
       " Max.   : -71.38                                                           \n",
       "                                                                           "
      ]
     },
     "metadata": {},
     "output_type": "display_data"
    }
   ],
   "source": [
    "summary(dfR)"
   ]
  },
  {
   "cell_type": "code",
   "execution_count": 23,
   "metadata": {},
   "outputs": [
    {
     "data": {
      "image/png": "[encoded data removed]",
      "text/plain": [
       "plot without title"
      ]
     },
     "metadata": {},
     "output_type": "display_data"
    }
   ],
   "source": [
    "plot(dfR[c(\"Date\",\"Margin\")])"
   ]
  },
  {
   "cell_type": "markdown",
   "metadata": {},
   "source": [
    "# On ferme le session en cours sur l'environnement SAS Viya (sinon un timeout sera appliqué pour fermer automatiquement la session  sur inactivité)"
   ]
  },
  {
   "cell_type": "code",
   "execution_count": 24,
   "metadata": {},
   "outputs": [
    {
     "data": {
      "text/html": [
       "<ol>\n",
       "</ol>\n"
      ],
      "text/latex": [
       "\\begin{enumerate}\n",
       "\\end{enumerate}\n"
      ],
      "text/markdown": [
       "\n",
       "\n"
      ],
      "text/plain": [
       "list()"
      ]
     },
     "metadata": {},
     "output_type": "display_data"
    }
   ],
   "source": [
    "cas.session.endSession(conn)"
   ]
  }
 ],
 "metadata": {
  "kernelspec": {
   "display_name": "R",
   "language": "R",
   "name": "ir"
  },
  "language_info": {
   "codemirror_mode": "r",
   "file_extension": ".r",
   "mimetype": "text/x-r-source",
   "name": "R",
   "pygments_lexer": "r",
   "version": "3.6.1"
  }
 },
 "nbformat": 4,
 "nbformat_minor": 4
}
