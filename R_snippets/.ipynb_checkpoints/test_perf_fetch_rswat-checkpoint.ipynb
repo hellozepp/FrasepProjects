{
 "cells": [
  {
   "cell_type": "code",
   "execution_count": 1,
   "metadata": {},
   "outputs": [
    {
     "name": "stderr",
     "output_type": "stream",
     "text": [
      "SWAT 1.6.3\n",
      "Registered S3 methods overwritten by 'ggplot2':\n",
      "  method         from \n",
      "  [.quosures     rlang\n",
      "  c.quosures     rlang\n",
      "  print.quosures rlang\n",
      "\n",
      "Attaching package: ‘dplyr’\n",
      "\n",
      "The following objects are masked from ‘package:stats’:\n",
      "\n",
      "    filter, lag\n",
      "\n",
      "The following objects are masked from ‘package:base’:\n",
      "\n",
      "    intersect, setdiff, setequal, union\n",
      "\n"
     ]
    }
   ],
   "source": [
    "library(swat)\n",
    "library(ggplot2)\n",
    "library(reshape2)\n",
    "library(dplyr)"
   ]
  },
  {
   "cell_type": "code",
   "execution_count": 2,
   "metadata": {},
   "outputs": [
    {
     "name": "stderr",
     "output_type": "stream",
     "text": [
      "NOTE: Connecting to CAS and generating CAS action functions for loaded\n",
      "      action sets...\n",
      "NOTE: To generate the functions with signatures (for tab completion), set \n",
      "      options(cas.gen.function.sig=TRUE).\n"
     ]
    }
   ],
   "source": [
    "Sys.setenv(CAS_CLIENT_SSL_CA_LIST = \"/opt/sas/viya/config/etc/SASSecurityCertificateFramework/cacerts/trustedcerts.pem\")\n",
    "conn <- CAS('frasepviya35smp.cloud.com', 5570)"
   ]
  },
  {
   "cell_type": "code",
   "execution_count": 3,
   "metadata": {},
   "outputs": [
    {
     "name": "stderr",
     "output_type": "stream",
     "text": [
      "NOTE: 'CASUSER(viyademo01)' is now the active caslib.\n",
      "NOTE: Action 'sessionProp.setSessOpt' used (Total process time):\n",
      "NOTE:       real time               0.000442 seconds\n",
      "NOTE:       cpu time                0.000420 seconds (95.02%)\n",
      "NOTE:       total nodes             1 (16 cores)\n",
      "NOTE:       total memory            125.75G\n",
      "NOTE:       memory                  280.44K (0.00%)\n"
     ]
    },
    {
     "data": {
      "text/html": [
       "<ol>\n",
       "</ol>\n"
      ],
      "text/latex": [
       "\\begin{enumerate}\n",
       "\\end{enumerate}\n"
      ],
      "text/markdown": [
       "\n",
       "\n"
      ],
      "text/plain": [
       "list()"
      ]
     },
     "metadata": {},
     "output_type": "display_data"
    }
   ],
   "source": [
    "# Activate metric tracing and other session parameters\n",
    "cas.sessionProp.setSessOpt(conn, metrics=TRUE, timeout=1800, caslib='casuser')"
   ]
  },
  {
   "cell_type": "code",
   "execution_count": 6,
   "metadata": {},
   "outputs": [
    {
     "data": {
      "text/plain": [
       "[1] \"2021-10-15 08:14:51 UTC\""
      ]
     },
     "metadata": {},
     "output_type": "display_data"
    },
    {
     "name": "stderr",
     "output_type": "stream",
     "text": [
      "NOTE: Executing action 'table.columnInfo'.\n",
      "NOTE: Action 'table.columnInfo' used (Total process time):\n",
      "NOTE:       real time               0.001082 seconds\n",
      "NOTE:       cpu time                0.001006 seconds (92.98%)\n",
      "NOTE:       total nodes             1 (16 cores)\n",
      "NOTE:       total memory            125.75G\n",
      "NOTE:       memory                  856.09K (0.00%)\n",
      "NOTE: Executing action 'table.fetch'.\n",
      "NOTE: Action 'table.fetch' used (Total process time):\n",
      "NOTE:       real time               117.196063 seconds\n",
      "NOTE:       cpu time                24.641672 seconds (21.03%)\n",
      "NOTE:       total nodes             1 (16 cores)\n",
      "NOTE:       total memory            125.75G\n",
      "NOTE:       memory                  141.14M (0.11%)\n"
     ]
    },
    {
     "data": {
      "text/plain": [
       "[1] \"2021-10-15 08:17:33 UTC\""
      ]
     },
     "metadata": {},
     "output_type": "display_data"
    }
   ],
   "source": [
    "Sys.time()\n",
    "tbl <- defCasTable(conn, tablename=\"megacorp5_4m\", caslib = \"AZUREDL\")\n",
    "tblR <- to.casDataFrame(tbl,obs = 10000000000)\n",
    "Sys.time()"
   ]
  },
  {
   "cell_type": "code",
   "execution_count": 8,
   "metadata": {},
   "outputs": [
    {
     "data": {
      "text/html": [
       "<ol class=list-inline>\n",
       "\t<li>4522868</li>\n",
       "\t<li>46</li>\n",
       "</ol>\n"
      ],
      "text/latex": [
       "\\begin{enumerate*}\n",
       "\\item 4522868\n",
       "\\item 46\n",
       "\\end{enumerate*}\n"
      ],
      "text/markdown": [
       "1. 4522868\n",
       "2. 46\n",
       "\n",
       "\n"
      ],
      "text/plain": [
       "[1] 4522868      46"
      ]
     },
     "metadata": {},
     "output_type": "display_data"
    }
   ],
   "source": [
    "dim(tblR)"
   ]
  },
  {
   "cell_type": "code",
   "execution_count": 9,
   "metadata": {},
   "outputs": [
    {
     "data": {
      "text/plain": [
       "3618733968 bytes"
      ]
     },
     "metadata": {},
     "output_type": "display_data"
    }
   ],
   "source": [
    "object.size(tblR)\n",
    "# 3,618,733,968 bytes"
   ]
  },
  {
   "cell_type": "code",
   "execution_count": 13,
   "metadata": {},
   "outputs": [
    {
     "name": "stderr",
     "output_type": "stream",
     "text": [
      "NOTE: Executing action 'table.tableDetails'.\n",
      "NOTE: Action 'table.tableDetails' used (Total process time):\n",
      "NOTE:       real time               0.000958 seconds\n",
      "NOTE:       cpu time                0.000899 seconds (93.84%)\n",
      "NOTE:       total nodes             1 (16 cores)\n",
      "NOTE:       total memory            125.75G\n",
      "NOTE:       memory                  712.59K (0.00%)\n"
     ]
    },
    {
     "data": {
      "text/html": [
       "<strong>$TableDetails</strong> = <table>\n",
       "<thead><tr><th scope=col>Node</th><th scope=col>Blocks</th><th scope=col>Active</th><th scope=col>Rows</th><th scope=col>IndexSize</th><th scope=col>DataSize</th><th scope=col>VardataSize</th><th scope=col>CompressedSize</th><th scope=col>CompressionRatio</th><th scope=col>Mapped</th><th scope=col>MappedMemory</th><th scope=col>Unmapped</th><th scope=col>UnmappedMemory</th><th scope=col>Allocated</th><th scope=col>AllocatedMemory</th><th scope=col>DeletedRows</th></tr></thead>\n",
       "<tbody>\n",
       "\t<tr><td>ALL       </td><td>1795      </td><td>1795      </td><td>4522868   </td><td>0         </td><td>1881513088</td><td>0         </td><td>0         </td><td>0         </td><td>1795      </td><td>1881721360</td><td>0         </td><td>0         </td><td>0         </td><td>0         </td><td>0         </td></tr>\n",
       "</tbody>\n",
       "</table>\n"
      ],
      "text/latex": [
       "\\textbf{\\$TableDetails} = \\begin{tabular}{r|llllllllllllllll}\n",
       " Node & Blocks & Active & Rows & IndexSize & DataSize & VardataSize & CompressedSize & CompressionRatio & Mapped & MappedMemory & Unmapped & UnmappedMemory & Allocated & AllocatedMemory & DeletedRows\\\\\n",
       "\\hline\n",
       "\t ALL        & 1795       & 1795       & 4522868    & 0          & 1881513088 & 0          & 0          & 0          & 1795       & 1881721360 & 0          & 0          & 0          & 0          & 0         \\\\\n",
       "\\end{tabular}\n"
      ],
      "text/markdown": [
       "**$TableDetails** = \n",
       "| Node | Blocks | Active | Rows | IndexSize | DataSize | VardataSize | CompressedSize | CompressionRatio | Mapped | MappedMemory | Unmapped | UnmappedMemory | Allocated | AllocatedMemory | DeletedRows |\n",
       "|---|---|---|---|---|---|---|---|---|---|---|---|---|---|---|---|\n",
       "| ALL        | 1795       | 1795       | 4522868    | 0          | 1881513088 | 0          | 0          | 0          | 1795       | 1881721360 | 0          | 0          | 0          | 0          | 0          |\n",
       "\n"
      ],
      "text/plain": [
       "$TableDetails\n",
       "  Node Blocks Active    Rows IndexSize   DataSize VardataSize CompressedSize\n",
       "1  ALL   1795   1795 4522868         0 1881513088           0              0\n",
       "  CompressionRatio Mapped MappedMemory Unmapped UnmappedMemory Allocated\n",
       "1                0   1795   1881721360        0              0         0\n",
       "  AllocatedMemory DeletedRows\n",
       "1               0           0\n"
      ]
     },
     "metadata": {},
     "output_type": "display_data"
    }
   ],
   "source": [
    "cas.table.tableDetails(conn,name='megacorp5_4m',caslib='Azuredl')\n",
    "# 1,881,513,088 bytes"
   ]
  },
  {
   "cell_type": "code",
   "execution_count": 14,
   "metadata": {},
   "outputs": [],
   "source": [
    "tblRdf <- to.data.frame(tblR)"
   ]
  },
  {
   "cell_type": "code",
   "execution_count": 15,
   "metadata": {},
   "outputs": [
    {
     "data": {
      "text/plain": [
       "1664823064 bytes"
      ]
     },
     "metadata": {},
     "output_type": "display_data"
    }
   ],
   "source": [
    "object.size(tblRdf)\n",
    "# 1,664,823,064 bytes"
   ]
  },
  {
   "cell_type": "code",
   "execution_count": 16,
   "metadata": {},
   "outputs": [
    {
     "name": "stderr",
     "output_type": "stream",
     "text": [
      "NOTE: Executing action 'session.endSession'.\n",
      "NOTE: Action 'session.endSession' used (Total process time):\n",
      "NOTE:       real time               0.000316 seconds\n",
      "NOTE:       cpu time                0.000300 seconds (94.94%)\n",
      "NOTE:       total nodes             1 (16 cores)\n",
      "NOTE:       total memory            125.75G\n",
      "NOTE:       memory                  227.16K (0.00%)\n"
     ]
    },
    {
     "data": {
      "text/html": [
       "<ol>\n",
       "</ol>\n"
      ],
      "text/latex": [
       "\\begin{enumerate}\n",
       "\\end{enumerate}\n"
      ],
      "text/markdown": [
       "\n",
       "\n"
      ],
      "text/plain": [
       "list()"
      ]
     },
     "metadata": {},
     "output_type": "display_data"
    }
   ],
   "source": [
    "cas.session.endSession(conn)"
   ]
  }
 ],
 "metadata": {
  "kernelspec": {
   "display_name": "R",
   "language": "R",
   "name": "ir"
  },
  "language_info": {
   "codemirror_mode": "r",
   "file_extension": ".r",
   "mimetype": "text/x-r-source",
   "name": "R",
   "pygments_lexer": "r",
   "version": "3.6.1"
  }
 },
 "nbformat": 4,
 "nbformat_minor": 4
}
