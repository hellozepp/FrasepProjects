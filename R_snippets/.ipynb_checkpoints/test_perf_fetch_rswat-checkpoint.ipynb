{
 "cells": [
  {
   "cell_type": "markdown",
   "metadata": {},
   "source": [
    "# PMAP = 883812K"
   ]
  },
  {
   "cell_type": "code",
   "execution_count": 1,
   "metadata": {},
   "outputs": [
    {
     "name": "stderr",
     "output_type": "stream",
     "text": [
      "SWAT 1.6.3\n",
      "Registered S3 methods overwritten by 'ggplot2':\n",
      "  method         from \n",
      "  [.quosures     rlang\n",
      "  c.quosures     rlang\n",
      "  print.quosures rlang\n",
      "\n",
      "Attaching package: ‘dplyr’\n",
      "\n",
      "The following objects are masked from ‘package:stats’:\n",
      "\n",
      "    filter, lag\n",
      "\n",
      "The following objects are masked from ‘package:base’:\n",
      "\n",
      "    intersect, setdiff, setequal, union\n",
      "\n"
     ]
    }
   ],
   "source": [
    "library(swat)\n",
    "library(ggplot2)\n",
    "library(reshape2)\n",
    "library(dplyr)"
   ]
  },
  {
   "cell_type": "code",
   "execution_count": 2,
   "metadata": {},
   "outputs": [
    {
     "name": "stderr",
     "output_type": "stream",
     "text": [
      "NOTE: Connecting to CAS and generating CAS action functions for loaded\n",
      "      action sets...\n",
      "NOTE: To generate the functions with signatures (for tab completion), set \n",
      "      options(cas.gen.function.sig=TRUE).\n"
     ]
    }
   ],
   "source": [
    "Sys.setenv(CAS_CLIENT_SSL_CA_LIST = \"/opt/sas/viya/config/etc/SASSecurityCertificateFramework/cacerts/trustedcerts.pem\")\n",
    "conn <- CAS('frasepviya35smp.cloud.com', 5570)"
   ]
  },
  {
   "cell_type": "code",
   "execution_count": 3,
   "metadata": {},
   "outputs": [
    {
     "name": "stderr",
     "output_type": "stream",
     "text": [
      "NOTE: 'CASUSER(viyademo01)' is now the active caslib.\n",
      "NOTE: Action 'sessionProp.setSessOpt' used (Total process time):\n",
      "NOTE:       real time               0.000422 seconds\n",
      "NOTE:       cpu time                0.000392 seconds (92.89%)\n",
      "NOTE:       total nodes             1 (16 cores)\n",
      "NOTE:       total memory            125.75G\n",
      "NOTE:       memory                  280.44K (0.00%)\n"
     ]
    },
    {
     "data": {
      "text/html": [
       "<ol>\n",
       "</ol>\n"
      ],
      "text/latex": [
       "\\begin{enumerate}\n",
       "\\end{enumerate}\n"
      ],
      "text/markdown": [
       "\n",
       "\n"
      ],
      "text/plain": [
       "list()"
      ]
     },
     "metadata": {},
     "output_type": "display_data"
    }
   ],
   "source": [
    "# Activate metric tracing and other session parameters\n",
    "cas.sessionProp.setSessOpt(conn, metrics=TRUE, timeout=1800, caslib='casuser')"
   ]
  },
  {
   "cell_type": "code",
   "execution_count": 6,
   "metadata": {},
   "outputs": [],
   "source": [
    "#' Convert a CAS Table to a R Data Frame (Download)\n",
    "#'\n",
    "#' Downloads the in-memory table that is referenced by\n",
    "#' the CASTable object and stores it as a data.frame\n",
    "#' in R. This function is used to download datasets from CAS.\n",
    "#'\n",
    "#' @param ct The CASTable object to download.\n",
    "#' @param obs Number of rows to download, by default 32768\n",
    "#' \n",
    "#' @return Returns a data.frame object that contains\n",
    "#'         a copy of the in-memory data.\n",
    "#' @export\n",
    "#' @rawRd % Copyright SAS Institute\n",
    "#'\n",
    "#' @examples\n",
    "#' \\dontrun{\n",
    "#' rdf = to.r.data.frame(CASTable)\n",
    "#' }\n",
    "#' \n",
    "\n",
    "to.r.data.frame <-  function(ct, obs=32768) {\n",
    "  if (class(ct) != 'CASTable') {\n",
    "    stop(\"The first parameter must be a CASTable object\")\n",
    "  }\n",
    "\n",
    "  tp = gen.table.parm(ct)\n",
    "  fv = c(tp$vars, tp$computedVars)\n",
    "  fv = fv[fv != \"\"]\n",
    "  if (sum(nchar(ct@XcomputedVars)))\n",
    "    for (Xcmp in ct@XcomputedVars)\n",
    "      if (!(Xcmp %in% ct@computedVars))\n",
    "        fv = fv[fv != Xcmp]\n",
    "\n",
    "  if (length(tp$orderby))\n",
    "    res <- casRetrieve(ct@conn, 'table.fetch', table=tp, fetchVars=fv, index=FALSE, from=1, to=obs, maxRows=1000, sortby=tp$orderby)\n",
    "  else\n",
    "    res <- casRetrieve(ct@conn, 'table.fetch', table=tp, fetchVars=fv, index=FALSE, from=1, to=obs, maxRows=1000)\n",
    "\n",
    "  out <- list()\n",
    "  for ( i in 1:length(res$results) ) {\n",
    "    if ( i == 1 ) {\n",
    "      keyname <- 'Fetch'\n",
    "    } else {\n",
    "      keyname <- paste('Fetch', i-1, sep='')\n",
    "    }\n",
    "    if ( is.null(res$results[keyname]) ) {\n",
    "      break\n",
    "    }\n",
    "    out[[i]] <- res$results[[keyname]]\n",
    "  }\n",
    "\n",
    "\n",
    "  out <- do.call('rbind', out)\n",
    "  rownames(out) <- NULL\n",
    "\n",
    "  return( out )\n",
    "}"
   ]
  },
  {
   "cell_type": "markdown",
   "metadata": {},
   "source": [
    "# PMAP =1149728K"
   ]
  },
  {
   "cell_type": "code",
   "execution_count": 8,
   "metadata": {},
   "outputs": [
    {
     "data": {
      "text/plain": [
       "[1] \"2022-01-05 13:54:50 UTC\""
      ]
     },
     "metadata": {},
     "output_type": "display_data"
    },
    {
     "name": "stderr",
     "output_type": "stream",
     "text": [
      "NOTE: Executing action 'table.columnInfo'.\n",
      "NOTE: Action 'table.columnInfo' used (Total process time):\n",
      "NOTE:       real time               0.001186 seconds\n",
      "NOTE:       cpu time                0.001096 seconds (92.41%)\n",
      "NOTE:       total nodes             1 (16 cores)\n",
      "NOTE:       total memory            125.75G\n",
      "NOTE:       memory                  1.16M (0.00%)\n",
      "NOTE: Executing action 'table.fetch'.\n",
      "NOTE: Action 'table.fetch' used (Total process time):\n",
      "NOTE:       real time               0.601971 seconds\n",
      "NOTE:       cpu time                0.601920 seconds (99.99%)\n",
      "NOTE:       total nodes             1 (16 cores)\n",
      "NOTE:       total memory            125.75G\n",
      "NOTE:       memory                  5.12M (0.00%)\n"
     ]
    },
    {
     "data": {
      "text/plain": [
       "[1] \"2022-01-05 13:54:51 UTC\""
      ]
     },
     "metadata": {},
     "output_type": "display_data"
    }
   ],
   "source": [
    "Sys.time()\n",
    "tbl <- defCasTable(conn, tablename=\"test_data1\", caslib = \"public\")\n",
    "tblR <- to.r.data.frame(tbl,obs = 1000000000000)\n",
    "Sys.time()"
   ]
  },
  {
   "cell_type": "code",
   "execution_count": 9,
   "metadata": {},
   "outputs": [
    {
     "data": {
      "text/plain": [
       "16074744 bytes"
      ]
     },
     "metadata": {},
     "output_type": "display_data"
    }
   ],
   "source": [
    "object.size(tblR)"
   ]
  },
  {
   "cell_type": "markdown",
   "metadata": {},
   "source": [
    "# PMAP = 1289200K  (linux command used : sudo pmap <R PID> | grep total)"
   ]
  },
  {
   "cell_type": "code",
   "execution_count": 10,
   "metadata": {},
   "outputs": [
    {
     "data": {
      "text/plain": [
       "[1] \"2022-01-05 14:00:17 UTC\""
      ]
     },
     "metadata": {},
     "output_type": "display_data"
    },
    {
     "name": "stderr",
     "output_type": "stream",
     "text": [
      "NOTE: Executing action 'table.columnInfo'.\n",
      "NOTE: Action 'table.columnInfo' used (Total process time):\n",
      "NOTE:       real time               0.006326 seconds\n",
      "NOTE:       cpu time                0.000961 seconds (15.19%)\n",
      "NOTE:       total nodes             1 (16 cores)\n",
      "NOTE:       total memory            125.75G\n",
      "NOTE:       memory                  1.17M (0.00%)\n",
      "NOTE: Executing action 'table.fetch'.\n",
      "NOTE: Action 'table.fetch' used (Total process time):\n",
      "NOTE:       real time               10.071165 seconds\n",
      "NOTE:       cpu time                6.033218 seconds (59.91%)\n",
      "NOTE:       total nodes             1 (16 cores)\n",
      "NOTE:       total memory            125.75G\n",
      "NOTE:       memory                  32.87M (0.03%)\n"
     ]
    },
    {
     "data": {
      "text/plain": [
       "[1] \"2022-01-05 14:00:33 UTC\""
      ]
     },
     "metadata": {},
     "output_type": "display_data"
    }
   ],
   "source": [
    "Sys.time()\n",
    "tbl <- defCasTable(conn, tablename=\"test_data2\", caslib = \"public\")\n",
    "tblR <- to.r.data.frame(tbl,obs = 1000000000000)\n",
    "Sys.time()"
   ]
  },
  {
   "cell_type": "markdown",
   "metadata": {},
   "source": [
    "# PMAP = 2418656K (linux command used : sudo pmap <R PID> | grep total)"
   ]
  },
  {
   "cell_type": "code",
   "execution_count": 13,
   "metadata": {},
   "outputs": [
    {
     "data": {
      "text/plain": [
       "[1] \"2022-01-05 14:19:38 UTC\""
      ]
     },
     "metadata": {},
     "output_type": "display_data"
    },
    {
     "name": "stderr",
     "output_type": "stream",
     "text": [
      "NOTE: Executing action 'table.columnInfo'.\n",
      "NOTE: Action 'table.columnInfo' used (Total process time):\n",
      "NOTE:       real time               0.001148 seconds\n",
      "NOTE:       cpu time                0.001048 seconds (91.29%)\n",
      "NOTE:       total nodes             1 (16 cores)\n",
      "NOTE:       total memory            125.75G\n",
      "NOTE:       memory                  1.17M (0.00%)\n",
      "NOTE: Executing action 'table.fetch'.\n",
      "NOTE: Action 'table.fetch' used (Total process time):\n",
      "NOTE:       real time               109.366772 seconds\n",
      "NOTE:       cpu time                60.876181 seconds (55.66%)\n",
      "NOTE:       total nodes             1 (16 cores)\n",
      "NOTE:       total memory            125.75G\n",
      "NOTE:       memory                  311.06M (0.24%)\n"
     ]
    },
    {
     "data": {
      "text/plain": [
       "[1] \"2022-01-05 14:22:10 UTC\""
      ]
     },
     "metadata": {},
     "output_type": "display_data"
    }
   ],
   "source": [
    "Sys.time()\n",
    "tbl <- defCasTable(conn, tablename=\"test_data3\", caslib = \"public\")\n",
    "tblR <- to.r.data.frame(tbl,obs = 1000000000000)\n",
    "Sys.time()"
   ]
  },
  {
   "cell_type": "markdown",
   "metadata": {},
   "source": [
    "# PMAP = 14769484K (linux command used : sudo pmap <R PID> | grep total)"
   ]
  },
  {
   "cell_type": "code",
   "execution_count": 14,
   "metadata": {},
   "outputs": [
    {
     "data": {
      "text/plain": [
       "891535000 bytes"
      ]
     },
     "metadata": {},
     "output_type": "display_data"
    }
   ],
   "source": [
    "object.size(tblR)\n",
    "# 3,618,733,968 bytes"
   ]
  },
  {
   "cell_type": "code",
   "execution_count": 15,
   "metadata": {},
   "outputs": [
    {
     "name": "stderr",
     "output_type": "stream",
     "text": [
      "NOTE: Executing action 'session.endSession'.\n",
      "NOTE: Action 'session.endSession' used (Total process time):\n",
      "NOTE:       real time               0.000307 seconds\n",
      "NOTE:       cpu time                0.000293 seconds (95.44%)\n",
      "NOTE:       total nodes             1 (16 cores)\n",
      "NOTE:       total memory            125.75G\n",
      "NOTE:       memory                  227.16K (0.00%)\n"
     ]
    },
    {
     "data": {
      "text/html": [
       "<ol>\n",
       "</ol>\n"
      ],
      "text/latex": [
       "\\begin{enumerate}\n",
       "\\end{enumerate}\n"
      ],
      "text/markdown": [
       "\n",
       "\n"
      ],
      "text/plain": [
       "list()"
      ]
     },
     "metadata": {},
     "output_type": "display_data"
    }
   ],
   "source": [
    "cas.session.endSession(conn)"
   ]
  },
  {
   "cell_type": "code",
   "execution_count": null,
   "metadata": {},
   "outputs": [],
   "source": []
  }
 ],
 "metadata": {
  "kernelspec": {
   "display_name": "R",
   "language": "R",
   "name": "ir"
  },
  "language_info": {
   "codemirror_mode": "r",
   "file_extension": ".r",
   "mimetype": "text/x-r-source",
   "name": "R",
   "pygments_lexer": "r",
   "version": "3.6.1"
  }
 },
 "nbformat": 4,
 "nbformat_minor": 4
}
