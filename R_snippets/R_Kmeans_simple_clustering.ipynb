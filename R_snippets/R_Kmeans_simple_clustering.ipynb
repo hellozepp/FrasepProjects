{
 "cells": [
  {
   "cell_type": "markdown",
   "metadata": {},
   "source": [
    "# Notebook R d'exemple utilisant l'API SAS Viya"
   ]
  },
  {
   "cell_type": "markdown",
   "metadata": {},
   "source": [
    "## 1) On déclare la librairie SWAT permettant d'utiliser l'API R fournie par SAS Viya"
   ]
  },
  {
   "cell_type": "code",
   "execution_count": 45,
   "metadata": {},
   "outputs": [],
   "source": [
    "library(swat)\n",
    "library(ggplot2)"
   ]
  },
  {
   "cell_type": "markdown",
   "metadata": {},
   "source": [
    "## 2) Connexion au moteur CAS (Cloud Analytic Services) in-memory de la plateforme de Service Analytique SAS Viya"
   ]
  },
  {
   "cell_type": "code",
   "execution_count": 46,
   "metadata": {},
   "outputs": [
    {
     "name": "stderr",
     "output_type": "stream",
     "text": [
      "NOTE: Connecting to CAS and generating CAS action functions for loaded\n",
      "      action sets...\n",
      "NOTE: To generate the functions with signatures (for tab completion), set \n",
      "      options(cas.gen.function.sig=TRUE).\n",
      "NOTE: Added action set 'fedSql'.\n",
      "NOTE: Information for action set 'fedSql':\n",
      "NOTE:    fedSql\n",
      "NOTE:       execDirect - Submits a SAS FedSQL language statement for immediate execution\n",
      "NOTE: Added action set 'clustering'.\n",
      "NOTE: Information for action set 'clustering':\n",
      "NOTE:    clustering\n",
      "NOTE:       kClus - Provides k-means clustering\n",
      "NOTE: Added action set 'datastep'.\n",
      "NOTE: Information for action set 'dataStep':\n",
      "NOTE:    dataStep\n",
      "NOTE:       runCodeTable - Runs DATA step code stored in a CAS table\n",
      "NOTE:       runCode - Runs DATA step code\n",
      "NOTE: 'CASUSER(viyademo01)' is now the active caslib.\n"
     ]
    },
    {
     "data": {
      "text/html": [
       "<ol>\n",
       "</ol>\n"
      ],
      "text/latex": [
       "\\begin{enumerate}\n",
       "\\end{enumerate}\n"
      ],
      "text/markdown": [
       "\n",
       "\n"
      ],
      "text/plain": [
       "list()"
      ]
     },
     "metadata": {},
     "output_type": "display_data"
    }
   ],
   "source": [
    "#Sys.setenv(CAS_CLIENT_SSL_CA_LIST = \"/opt/viyacerts/trustedcerts.pem\")\n",
    "conn <- CAS('frasepviya35smp.cloud.com', 5570)\n",
    "\n",
    "# Activate session parameters if necessary\n",
    "loadActionSet(conn, \"fedSql\")\n",
    "loadActionSet(conn, \"clustering\")\n",
    "loadActionSet(conn, \"datastep\")\n",
    "\n",
    "cas.sessionProp.setSessOpt(conn, timeout=1800, caslib='casuser')"
   ]
  },
  {
   "cell_type": "code",
   "execution_count": 47,
   "metadata": {},
   "outputs": [
    {
     "name": "stdout",
     "output_type": "stream",
     "text": [
      "[1] \"NOTE: Cloud Analytic Services made the uploaded file available as table IRIS in caslib CASUSER(viyademo01).\"\n"
     ]
    }
   ],
   "source": [
    "castbl <- cas.read.csv(conn, 'http://support.sas.com/documentation/onlinedoc/viya/exampledatasets/iris.csv')"
   ]
  },
  {
   "cell_type": "code",
   "execution_count": 48,
   "metadata": {},
   "outputs": [
    {
     "data": {
      "text/html": [
       "<ol class=list-inline>\n",
       "\t<li>'Sepal.Length'</li>\n",
       "\t<li>'Sepal.Width'</li>\n",
       "\t<li>'Petal.Length'</li>\n",
       "\t<li>'Petal.Width'</li>\n",
       "\t<li>'Species'</li>\n",
       "\t<li>'Index'</li>\n",
       "</ol>\n"
      ],
      "text/latex": [
       "\\begin{enumerate*}\n",
       "\\item 'Sepal.Length'\n",
       "\\item 'Sepal.Width'\n",
       "\\item 'Petal.Length'\n",
       "\\item 'Petal.Width'\n",
       "\\item 'Species'\n",
       "\\item 'Index'\n",
       "\\end{enumerate*}\n"
      ],
      "text/markdown": [
       "1. 'Sepal.Length'\n",
       "2. 'Sepal.Width'\n",
       "3. 'Petal.Length'\n",
       "4. 'Petal.Width'\n",
       "5. 'Species'\n",
       "6. 'Index'\n",
       "\n",
       "\n"
      ],
      "text/plain": [
       "[1] \"Sepal.Length\" \"Sepal.Width\"  \"Petal.Length\" \"Petal.Width\"  \"Species\"     \n",
       "[6] \"Index\"       "
      ]
     },
     "metadata": {},
     "output_type": "display_data"
    }
   ],
   "source": [
    "names(castbl)"
   ]
  },
  {
   "cell_type": "code",
   "execution_count": 49,
   "metadata": {},
   "outputs": [
    {
     "name": "stderr",
     "output_type": "stream",
     "text": [
      "NOTE: Using SEED=534.\n",
      "NOTE: Running for input data for K 2.\n",
      "NOTE: Clustering is finished. STOPVALUE is satisfied for STOPCRITERION=CLUSTER_CHANGE.\n"
     ]
    },
    {
     "data": {
      "text/html": [
       "<dl>\n",
       "\t<dt>$outputSize</dt>\n",
       "\t\t<dd><dl>\n",
       "\t<dt>$outputNObs</dt>\n",
       "\t\t<dd>150</dd>\n",
       "\t<dt>$outputNVars</dt>\n",
       "\t\t<dd>8</dd>\n",
       "</dl>\n",
       "</dd>\n",
       "\t<dt>$NObs</dt>\n",
       "\t\t<dd><table>\n",
       "<thead><tr><th scope=col>Type</th><th scope=col>N</th></tr></thead>\n",
       "<tbody>\n",
       "\t<tr><td>Number of Observations Read</td><td>150                        </td></tr>\n",
       "\t<tr><td>Number of Observations Used</td><td>150                        </td></tr>\n",
       "</tbody>\n",
       "</table>\n",
       "</dd>\n",
       "\t<dt>$ModelInfo</dt>\n",
       "\t\t<dd><table>\n",
       "<thead><tr><th scope=col>RowId</th><th scope=col>Parameter</th><th scope=col>Setting</th></tr></thead>\n",
       "<tbody>\n",
       "\t<tr><td>Clustering_Algorithm           </td><td>Clustering Algorithm           </td><td>K-means                        </td></tr>\n",
       "\t<tr><td>Maximum_Iterations             </td><td>Maximum Iterations             </td><td>10                             </td></tr>\n",
       "\t<tr><td>Stop_Criterion                 </td><td>Stop Criterion                 </td><td>Cluster Change                 </td></tr>\n",
       "\t<tr><td>Stop_Criterion_Value           </td><td>Stop Criterion Value           </td><td>0                              </td></tr>\n",
       "\t<tr><td>Clusters                       </td><td>Clusters                       </td><td>2                              </td></tr>\n",
       "\t<tr><td>Initialization                 </td><td>Initialization                 </td><td>Rand                           </td></tr>\n",
       "\t<tr><td>Seed                           </td><td>Seed                           </td><td>534                            </td></tr>\n",
       "\t<tr><td>Distance_For_Interval_Variables</td><td>Distance for Interval Variables</td><td>Euclidean                      </td></tr>\n",
       "\t<tr><td>Standardization                </td><td>Standardization                </td><td>Std                            </td></tr>\n",
       "\t<tr><td>Interval_Imputation            </td><td>Interval Imputation            </td><td>Mean                           </td></tr>\n",
       "</tbody>\n",
       "</table>\n",
       "</dd>\n",
       "\t<dt>$DescStats</dt>\n",
       "\t\t<dd><table>\n",
       "<thead><tr><th scope=col>Variable</th><th scope=col>Mean</th><th scope=col>StdDev</th></tr></thead>\n",
       "<tbody>\n",
       "\t<tr><td>Sepal.Length</td><td>5.843333    </td><td>0.8280661   </td></tr>\n",
       "\t<tr><td>Sepal.Width </td><td>3.054000    </td><td>0.4335943   </td></tr>\n",
       "\t<tr><td>Petal.Length</td><td>3.758667    </td><td>1.7644204   </td></tr>\n",
       "\t<tr><td>Petal.Width </td><td>1.198667    </td><td>0.7631607   </td></tr>\n",
       "</tbody>\n",
       "</table>\n",
       "</dd>\n",
       "\t<dt>$WithinClusStats</dt>\n",
       "\t\t<dd><table>\n",
       "<thead><tr><th scope=col>Variable</th><th scope=col>Cluster</th><th scope=col>Mean</th><th scope=col>StdDev</th></tr></thead>\n",
       "<tbody>\n",
       "\t<tr><td>Sepal.Length</td><td>1           </td><td> 0.5055957  </td><td>0.8004608   </td></tr>\n",
       "\t<tr><td>            </td><td>2           </td><td>-1.0111914  </td><td>0.4256782   </td></tr>\n",
       "\t<tr><td>Sepal.Width </td><td>1           </td><td>-0.4197472  </td><td>0.7674248   </td></tr>\n",
       "\t<tr><td>            </td><td>2           </td><td> 0.8394944  </td><td>0.8787578   </td></tr>\n",
       "\t<tr><td>Petal.Length</td><td>1           </td><td> 0.6502607  </td><td>0.4679035   </td></tr>\n",
       "\t<tr><td>            </td><td>2           </td><td>-1.3005215  </td><td>0.0983389   </td></tr>\n",
       "\t<tr><td>Petal.Width </td><td>1           </td><td> 0.6254689  </td><td>0.5565911   </td></tr>\n",
       "\t<tr><td>            </td><td>2           </td><td>-1.2509379  </td><td>0.1404809   </td></tr>\n",
       "</tbody>\n",
       "</table>\n",
       "</dd>\n",
       "\t<dt>$ClusterSum</dt>\n",
       "\t\t<dd><table>\n",
       "<thead><tr><th scope=col>Cluster</th><th scope=col>Frequency</th><th scope=col>MinDist</th><th scope=col>MaxDist</th><th scope=col>AvgDist</th><th scope=col>SSE</th><th scope=col>StdDeviation</th><th scope=col>NearestClus</th><th scope=col>DBtwCentroids</th></tr></thead>\n",
       "<tbody>\n",
       "\t<tr><td>1         </td><td>100       </td><td>0.25137522</td><td>3.064436  </td><td>1.1811502 </td><td>174.08215 </td><td>1.3194019 </td><td>2         </td><td>3.34855   </td></tr>\n",
       "\t<tr><td>2         </td><td> 50       </td><td>0.07427151</td><td>2.652510  </td><td>0.8197914 </td><td> 48.15831 </td><td>0.9814103 </td><td>1         </td><td>3.34855   </td></tr>\n",
       "</tbody>\n",
       "</table>\n",
       "</dd>\n",
       "\t<dt>$ClusterCenters</dt>\n",
       "\t\t<dd><table>\n",
       "<thead><tr><th scope=col>_ITERATION_</th><th scope=col>_CLUSTER_ID_</th><th scope=col>Sepal.Length</th><th scope=col>Sepal.Width</th><th scope=col>Petal.Length</th><th scope=col>Petal.Width</th><th scope=col>S_Sepal_Length</th><th scope=col>S_Sepal_Width</th><th scope=col>S_Petal_Length</th><th scope=col>S_Petal_Width</th></tr></thead>\n",
       "<tbody>\n",
       "\t<tr><td>5         </td><td>1         </td><td>6.262     </td><td>2.872     </td><td>4.906     </td><td>1.676     </td><td> 0.5055957</td><td>-0.4197472</td><td> 0.6502607</td><td> 0.6254689</td></tr>\n",
       "\t<tr><td>5         </td><td>2         </td><td>5.006     </td><td>3.418     </td><td>1.464     </td><td>0.244     </td><td>-1.0111914</td><td> 0.8394944</td><td>-1.3005215</td><td>-1.2509379</td></tr>\n",
       "</tbody>\n",
       "</table>\n",
       "</dd>\n",
       "\t<dt>$IterStats</dt>\n",
       "\t\t<dd><table>\n",
       "<thead><tr><th scope=col>IterationNum</th><th scope=col>IterationSSE</th><th scope=col>SSEChange</th><th scope=col>StopCriterion</th></tr></thead>\n",
       "<tbody>\n",
       "\t<tr><td>0          </td><td>576.1982   </td><td>        NaN</td><td>     NaN   </td></tr>\n",
       "\t<tr><td>1          </td><td>317.9806   </td><td>-258.217596</td><td>13.33333   </td></tr>\n",
       "\t<tr><td>2          </td><td>265.0254   </td><td> -52.955146</td><td>10.00000   </td></tr>\n",
       "\t<tr><td>3          </td><td>232.6914   </td><td> -32.334019</td><td> 4.00000   </td></tr>\n",
       "\t<tr><td>4          </td><td>223.9428   </td><td>  -8.748636</td><td> 2.00000   </td></tr>\n",
       "\t<tr><td>5          </td><td>222.2405   </td><td>  -1.702298</td><td> 0.00000   </td></tr>\n",
       "</tbody>\n",
       "</table>\n",
       "</dd>\n",
       "</dl>\n"
      ],
      "text/latex": [
       "\\begin{description}\n",
       "\\item[\\$outputSize] \\begin{description}\n",
       "\\item[\\$outputNObs] 150\n",
       "\\item[\\$outputNVars] 8\n",
       "\\end{description}\n",
       "\n",
       "\\item[\\$NObs] \\begin{tabular}{r|ll}\n",
       " Type & N\\\\\n",
       "\\hline\n",
       "\t Number of Observations Read & 150                        \\\\\n",
       "\t Number of Observations Used & 150                        \\\\\n",
       "\\end{tabular}\n",
       "\n",
       "\\item[\\$ModelInfo] \\begin{tabular}{r|lll}\n",
       " RowId & Parameter & Setting\\\\\n",
       "\\hline\n",
       "\t Clustering\\_Algorithm            & Clustering Algorithm              & K-means                          \\\\\n",
       "\t Maximum\\_Iterations              & Maximum Iterations                & 10                               \\\\\n",
       "\t Stop\\_Criterion                  & Stop Criterion                    & Cluster Change                   \\\\\n",
       "\t Stop\\_Criterion\\_Value            & Stop Criterion Value                & 0                                  \\\\\n",
       "\t Clusters                        & Clusters                        & 2                              \\\\\n",
       "\t Initialization                  & Initialization                  & Rand                           \\\\\n",
       "\t Seed                            & Seed                            & 534                            \\\\\n",
       "\t Distance\\_For\\_Interval\\_Variables & Distance for Interval Variables       & Euclidean                            \\\\\n",
       "\t Standardization                 & Standardization                 & Std                            \\\\\n",
       "\t Interval\\_Imputation             & Interval Imputation               & Mean                             \\\\\n",
       "\\end{tabular}\n",
       "\n",
       "\\item[\\$DescStats] \\begin{tabular}{r|lll}\n",
       " Variable & Mean & StdDev\\\\\n",
       "\\hline\n",
       "\t Sepal.Length & 5.843333     & 0.8280661   \\\\\n",
       "\t Sepal.Width  & 3.054000     & 0.4335943   \\\\\n",
       "\t Petal.Length & 3.758667     & 1.7644204   \\\\\n",
       "\t Petal.Width  & 1.198667     & 0.7631607   \\\\\n",
       "\\end{tabular}\n",
       "\n",
       "\\item[\\$WithinClusStats] \\begin{tabular}{r|llll}\n",
       " Variable & Cluster & Mean & StdDev\\\\\n",
       "\\hline\n",
       "\t Sepal.Length & 1            &  0.5055957   & 0.8004608   \\\\\n",
       "\t              & 2            & -1.0111914   & 0.4256782   \\\\\n",
       "\t Sepal.Width  & 1            & -0.4197472   & 0.7674248   \\\\\n",
       "\t              & 2            &  0.8394944   & 0.8787578   \\\\\n",
       "\t Petal.Length & 1            &  0.6502607   & 0.4679035   \\\\\n",
       "\t              & 2            & -1.3005215   & 0.0983389   \\\\\n",
       "\t Petal.Width  & 1            &  0.6254689   & 0.5565911   \\\\\n",
       "\t              & 2            & -1.2509379   & 0.1404809   \\\\\n",
       "\\end{tabular}\n",
       "\n",
       "\\item[\\$ClusterSum] \\begin{tabular}{r|lllllllll}\n",
       " Cluster & Frequency & MinDist & MaxDist & AvgDist & SSE & StdDeviation & NearestClus & DBtwCentroids\\\\\n",
       "\\hline\n",
       "\t 1          & 100        & 0.25137522 & 3.064436   & 1.1811502  & 174.08215  & 1.3194019  & 2          & 3.34855   \\\\\n",
       "\t 2          &  50        & 0.07427151 & 2.652510   & 0.8197914  &  48.15831  & 0.9814103  & 1          & 3.34855   \\\\\n",
       "\\end{tabular}\n",
       "\n",
       "\\item[\\$ClusterCenters] \\begin{tabular}{r|llllllllll}\n",
       " \\_ITERATION\\_ & \\_CLUSTER\\_ID\\_ & Sepal.Length & Sepal.Width & Petal.Length & Petal.Width & S\\_Sepal\\_Length & S\\_Sepal\\_Width & S\\_Petal\\_Length & S\\_Petal\\_Width\\\\\n",
       "\\hline\n",
       "\t 5          & 1          & 6.262      & 2.872      & 4.906      & 1.676      &  0.5055957 & -0.4197472 &  0.6502607 &  0.6254689\\\\\n",
       "\t 5          & 2          & 5.006      & 3.418      & 1.464      & 0.244      & -1.0111914 &  0.8394944 & -1.3005215 & -1.2509379\\\\\n",
       "\\end{tabular}\n",
       "\n",
       "\\item[\\$IterStats] \\begin{tabular}{r|llll}\n",
       " IterationNum & IterationSSE & SSEChange & StopCriterion\\\\\n",
       "\\hline\n",
       "\t 0           & 576.1982    &         NaN &      NaN   \\\\\n",
       "\t 1           & 317.9806    & -258.217596 & 13.33333   \\\\\n",
       "\t 2           & 265.0254    &  -52.955146 & 10.00000   \\\\\n",
       "\t 3           & 232.6914    &  -32.334019 &  4.00000   \\\\\n",
       "\t 4           & 223.9428    &   -8.748636 &  2.00000   \\\\\n",
       "\t 5           & 222.2405    &   -1.702298 &  0.00000   \\\\\n",
       "\\end{tabular}\n",
       "\n",
       "\\end{description}\n"
      ],
      "text/markdown": [
       "$outputSize\n",
       ":   $outputNObs\n",
       ":   150\n",
       "$outputNVars\n",
       ":   8\n",
       "\n",
       "\n",
       "\n",
       "$NObs\n",
       ":   \n",
       "| Type | N |\n",
       "|---|---|\n",
       "| Number of Observations Read | 150                         |\n",
       "| Number of Observations Used | 150                         |\n",
       "\n",
       "\n",
       "$ModelInfo\n",
       ":   \n",
       "| RowId | Parameter | Setting |\n",
       "|---|---|---|\n",
       "| Clustering_Algorithm            | Clustering Algorithm            | K-means                         |\n",
       "| Maximum_Iterations              | Maximum Iterations              | 10                              |\n",
       "| Stop_Criterion                  | Stop Criterion                  | Cluster Change                  |\n",
       "| Stop_Criterion_Value            | Stop Criterion Value            | 0                               |\n",
       "| Clusters                        | Clusters                        | 2                               |\n",
       "| Initialization                  | Initialization                  | Rand                            |\n",
       "| Seed                            | Seed                            | 534                             |\n",
       "| Distance_For_Interval_Variables | Distance for Interval Variables | Euclidean                       |\n",
       "| Standardization                 | Standardization                 | Std                             |\n",
       "| Interval_Imputation             | Interval Imputation             | Mean                            |\n",
       "\n",
       "\n",
       "$DescStats\n",
       ":   \n",
       "| Variable | Mean | StdDev |\n",
       "|---|---|---|\n",
       "| Sepal.Length | 5.843333     | 0.8280661    |\n",
       "| Sepal.Width  | 3.054000     | 0.4335943    |\n",
       "| Petal.Length | 3.758667     | 1.7644204    |\n",
       "| Petal.Width  | 1.198667     | 0.7631607    |\n",
       "\n",
       "\n",
       "$WithinClusStats\n",
       ":   \n",
       "| Variable | Cluster | Mean | StdDev |\n",
       "|---|---|---|---|\n",
       "| Sepal.Length | 1            |  0.5055957   | 0.8004608    |\n",
       "|              | 2            | -1.0111914   | 0.4256782    |\n",
       "| Sepal.Width  | 1            | -0.4197472   | 0.7674248    |\n",
       "|              | 2            |  0.8394944   | 0.8787578    |\n",
       "| Petal.Length | 1            |  0.6502607   | 0.4679035    |\n",
       "|              | 2            | -1.3005215   | 0.0983389    |\n",
       "| Petal.Width  | 1            |  0.6254689   | 0.5565911    |\n",
       "|              | 2            | -1.2509379   | 0.1404809    |\n",
       "\n",
       "\n",
       "$ClusterSum\n",
       ":   \n",
       "| Cluster | Frequency | MinDist | MaxDist | AvgDist | SSE | StdDeviation | NearestClus | DBtwCentroids |\n",
       "|---|---|---|---|---|---|---|---|---|\n",
       "| 1          | 100        | 0.25137522 | 3.064436   | 1.1811502  | 174.08215  | 1.3194019  | 2          | 3.34855    |\n",
       "| 2          |  50        | 0.07427151 | 2.652510   | 0.8197914  |  48.15831  | 0.9814103  | 1          | 3.34855    |\n",
       "\n",
       "\n",
       "$ClusterCenters\n",
       ":   \n",
       "| _ITERATION_ | _CLUSTER_ID_ | Sepal.Length | Sepal.Width | Petal.Length | Petal.Width | S_Sepal_Length | S_Sepal_Width | S_Petal_Length | S_Petal_Width |\n",
       "|---|---|---|---|---|---|---|---|---|---|\n",
       "| 5          | 1          | 6.262      | 2.872      | 4.906      | 1.676      |  0.5055957 | -0.4197472 |  0.6502607 |  0.6254689 |\n",
       "| 5          | 2          | 5.006      | 3.418      | 1.464      | 0.244      | -1.0111914 |  0.8394944 | -1.3005215 | -1.2509379 |\n",
       "\n",
       "\n",
       "$IterStats\n",
       ":   \n",
       "| IterationNum | IterationSSE | SSEChange | StopCriterion |\n",
       "|---|---|---|---|\n",
       "| 0           | 576.1982    |         NaN |      NaN    |\n",
       "| 1           | 317.9806    | -258.217596 | 13.33333    |\n",
       "| 2           | 265.0254    |  -52.955146 | 10.00000    |\n",
       "| 3           | 232.6914    |  -32.334019 |  4.00000    |\n",
       "| 4           | 223.9428    |   -8.748636 |  2.00000    |\n",
       "| 5           | 222.2405    |   -1.702298 |  0.00000    |\n",
       "\n",
       "\n",
       "\n",
       "\n"
      ],
      "text/plain": [
       "$outputSize\n",
       "$outputSize$outputNObs\n",
       "[1] 150\n",
       "\n",
       "$outputSize$outputNVars\n",
       "[1] 8\n",
       "\n",
       "\n",
       "$NObs\n",
       "                         Type   N\n",
       "1 Number of Observations Read 150\n",
       "2 Number of Observations Used 150\n",
       "\n",
       "$ModelInfo\n",
       "                             RowId                       Parameter\n",
       "1             Clustering_Algorithm            Clustering Algorithm\n",
       "2               Maximum_Iterations              Maximum Iterations\n",
       "3                   Stop_Criterion                  Stop Criterion\n",
       "4             Stop_Criterion_Value            Stop Criterion Value\n",
       "5                         Clusters                        Clusters\n",
       "6                   Initialization                  Initialization\n",
       "7                             Seed                            Seed\n",
       "8  Distance_For_Interval_Variables Distance for Interval Variables\n",
       "9                  Standardization                 Standardization\n",
       "10             Interval_Imputation             Interval Imputation\n",
       "          Setting\n",
       "1         K-means\n",
       "2              10\n",
       "3  Cluster Change\n",
       "4               0\n",
       "5               2\n",
       "6            Rand\n",
       "7             534\n",
       "8       Euclidean\n",
       "9             Std\n",
       "10           Mean\n",
       "\n",
       "$DescStats\n",
       "      Variable     Mean    StdDev\n",
       "1 Sepal.Length 5.843333 0.8280661\n",
       "2  Sepal.Width 3.054000 0.4335943\n",
       "3 Petal.Length 3.758667 1.7644204\n",
       "4  Petal.Width 1.198667 0.7631607\n",
       "\n",
       "$WithinClusStats\n",
       "      Variable Cluster       Mean    StdDev\n",
       "1 Sepal.Length       1  0.5055957 0.8004608\n",
       "2                    2 -1.0111914 0.4256782\n",
       "3  Sepal.Width       1 -0.4197472 0.7674248\n",
       "4                    2  0.8394944 0.8787578\n",
       "5 Petal.Length       1  0.6502607 0.4679035\n",
       "6                    2 -1.3005215 0.0983389\n",
       "7  Petal.Width       1  0.6254689 0.5565911\n",
       "8                    2 -1.2509379 0.1404809\n",
       "\n",
       "$ClusterSum\n",
       "  Cluster Frequency    MinDist  MaxDist   AvgDist       SSE StdDeviation\n",
       "1       1       100 0.25137522 3.064436 1.1811502 174.08215    1.3194019\n",
       "2       2        50 0.07427151 2.652510 0.8197914  48.15831    0.9814103\n",
       "  NearestClus DBtwCentroids\n",
       "1           2       3.34855\n",
       "2           1       3.34855\n",
       "\n",
       "$ClusterCenters\n",
       "  _ITERATION_ _CLUSTER_ID_ Sepal.Length Sepal.Width Petal.Length Petal.Width\n",
       "1           5            1        6.262       2.872        4.906       1.676\n",
       "2           5            2        5.006       3.418        1.464       0.244\n",
       "  S_Sepal_Length S_Sepal_Width S_Petal_Length S_Petal_Width\n",
       "1      0.5055957    -0.4197472      0.6502607     0.6254689\n",
       "2     -1.0111914     0.8394944     -1.3005215    -1.2509379\n",
       "\n",
       "$IterStats\n",
       "  IterationNum IterationSSE   SSEChange StopCriterion\n",
       "1            0     576.1982         NaN           NaN\n",
       "2            1     317.9806 -258.217596      13.33333\n",
       "3            2     265.0254  -52.955146      10.00000\n",
       "4            3     232.6914  -32.334019       4.00000\n",
       "5            4     223.9428   -8.748636       2.00000\n",
       "6            5     222.2405   -1.702298       0.00000\n"
      ]
     },
     "metadata": {},
     "output_type": "display_data"
    }
   ],
   "source": [
    "cas.clustering.kClus(conn, \n",
    "table=list(name=\"iris\"),\n",
    "nClusters=2,\n",
    "init=\"RAND\",\n",
    "seed=534,\n",
    "inputs=list(\"Sepal.Length\", \"Sepal.Width\", \"Petal.Length\", \"Petal.Width\"),\n",
    "output=list(casOut=list(name=\"kClusOutputScore\", replace=TRUE),copyVars=list(\"Sepal.Length\", \"Sepal.Width\",\"Petal.Length\", \"Petal.Width\", \"Species\")),\n",
    "printIter=FALSE,\n",
    "impute=\"MEAN\",\n",
    "standardize='STD',\n",
    "display=list(names=list(\"Nobs\", \"Modelinfo\", \"ClusterSum\", \"IterStats\",\"DescStats\", \"WithinClusStats\", \"ClusterCenters\")))"
   ]
  },
  {
   "cell_type": "code",
   "execution_count": 50,
   "metadata": {},
   "outputs": [],
   "source": [
    "castbl2 <- defCasTable(conn, tablename=\"kClusOutputScore\", caslib=\"casuser\")\n",
    "dfR <- to.casDataFrame(castbl2, obs = 10000000)"
   ]
  },
  {
   "cell_type": "code",
   "execution_count": 51,
   "metadata": {},
   "outputs": [
    {
     "data": {
      "text/html": [
       "<ol class=list-inline>\n",
       "\t<li>'Sepal.Length'</li>\n",
       "\t<li>'Sepal.Width'</li>\n",
       "\t<li>'Petal.Length'</li>\n",
       "\t<li>'Petal.Width'</li>\n",
       "\t<li>'Species'</li>\n",
       "\t<li>'CLUSTERID'</li>\n",
       "\t<li>'DISTANCE'</li>\n",
       "\t<li>'STANDARDIZEDDISTANCE'</li>\n",
       "</ol>\n"
      ],
      "text/latex": [
       "\\begin{enumerate*}\n",
       "\\item 'Sepal.Length'\n",
       "\\item 'Sepal.Width'\n",
       "\\item 'Petal.Length'\n",
       "\\item 'Petal.Width'\n",
       "\\item 'Species'\n",
       "\\item 'CLUSTERID'\n",
       "\\item 'DISTANCE'\n",
       "\\item 'STANDARDIZEDDISTANCE'\n",
       "\\end{enumerate*}\n"
      ],
      "text/markdown": [
       "1. 'Sepal.Length'\n",
       "2. 'Sepal.Width'\n",
       "3. 'Petal.Length'\n",
       "4. 'Petal.Width'\n",
       "5. 'Species'\n",
       "6. 'CLUSTERID'\n",
       "7. 'DISTANCE'\n",
       "8. 'STANDARDIZEDDISTANCE'\n",
       "\n",
       "\n"
      ],
      "text/plain": [
       "[1] \"Sepal.Length\"         \"Sepal.Width\"          \"Petal.Length\"        \n",
       "[4] \"Petal.Width\"          \"Species\"              \"CLUSTERID\"           \n",
       "[7] \"DISTANCE\"             \"STANDARDIZEDDISTANCE\""
      ]
     },
     "metadata": {},
     "output_type": "display_data"
    }
   ],
   "source": [
    "names(dfR)<-gsub(\"\\\\_\",\"\",names(dfR))\n",
    "names(dfR)"
   ]
  },
  {
   "cell_type": "code",
   "execution_count": 52,
   "metadata": {},
   "outputs": [
    {
     "data": {
      "text/plain": [
       "  Sepal.Length    Sepal.Width     Petal.Length    Petal.Width   \n",
       " Min.   :4.300   Min.   :2.000   Min.   :1.000   Min.   :0.100  \n",
       " 1st Qu.:5.100   1st Qu.:2.800   1st Qu.:1.600   1st Qu.:0.300  \n",
       " Median :5.800   Median :3.000   Median :4.350   Median :1.300  \n",
       " Mean   :5.843   Mean   :3.054   Mean   :3.759   Mean   :1.199  \n",
       " 3rd Qu.:6.400   3rd Qu.:3.300   3rd Qu.:5.100   3rd Qu.:1.800  \n",
       " Max.   :7.900   Max.   :4.400   Max.   :6.900   Max.   :2.500  \n",
       "   Species            CLUSTERID        DISTANCE       STANDARDIZEDDISTANCE\n",
       " Length:150         Min.   :1.000   Min.   :0.05993   Min.   :0.07427     \n",
       " Class :character   1st Qu.:1.000   1st Qu.:0.44636   1st Qu.:0.63394     \n",
       " Mode  :character   Median :1.000   Median :0.72568   Median :0.93794     \n",
       "                    Mean   :1.333   Mean   :0.85428   Mean   :1.06070     \n",
       "                    3rd Qu.:2.000   3rd Qu.:1.10923   3rd Qu.:1.38415     \n",
       "                    Max.   :2.000   Max.   :2.55093   Max.   :3.06444     "
      ]
     },
     "metadata": {},
     "output_type": "display_data"
    }
   ],
   "source": [
    "summary(dfR)"
   ]
  },
  {
   "cell_type": "code",
   "execution_count": 53,
   "metadata": {},
   "outputs": [
    {
     "data": {
      "image/png": "[encoded data removed]",
      "text/plain": [
       "plot without title"
      ]
     },
     "metadata": {},
     "output_type": "display_data"
    }
   ],
   "source": [
    "ggplot(dfR,aes(Sepal.Length, Petal.Length, col=CLUSTERID))+geom_point()"
   ]
  },
  {
   "cell_type": "code",
   "execution_count": 54,
   "metadata": {},
   "outputs": [
    {
     "data": {
      "text/html": [
       "<ol>\n",
       "</ol>\n"
      ],
      "text/latex": [
       "\\begin{enumerate}\n",
       "\\end{enumerate}\n"
      ],
      "text/markdown": [
       "\n",
       "\n"
      ],
      "text/plain": [
       "list()"
      ]
     },
     "metadata": {},
     "output_type": "display_data"
    }
   ],
   "source": [
    "cas.session.endSession(conn)"
   ]
  },
  {
   "cell_type": "code",
   "execution_count": null,
   "metadata": {},
   "outputs": [],
   "source": []
  }
 ],
 "metadata": {
  "kernelspec": {
   "display_name": "R",
   "language": "R",
   "name": "ir"
  },
  "language_info": {
   "codemirror_mode": "r",
   "file_extension": ".r",
   "mimetype": "text/x-r-source",
   "name": "R",
   "pygments_lexer": "r",
   "version": "3.6.1"
  }
 },
 "nbformat": 4,
 "nbformat_minor": 4
}
