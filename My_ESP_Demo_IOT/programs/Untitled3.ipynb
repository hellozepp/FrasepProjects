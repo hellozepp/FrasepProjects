{
 "cells": [
  {
   "cell_type": "code",
   "execution_count": 1,
   "metadata": {},
   "outputs": [
    {
     "name": "stderr",
     "output_type": "stream",
     "text": [
      "SWAT 1.6.0.9000\n",
      "Registered S3 methods overwritten by 'ggplot2':\n",
      "  method         from \n",
      "  [.quosures     rlang\n",
      "  c.quosures     rlang\n",
      "  print.quosures rlang\n",
      "\n",
      "Attaching package: ‘dplyr’\n",
      "\n",
      "The following objects are masked from ‘package:stats’:\n",
      "\n",
      "    filter, lag\n",
      "\n",
      "The following objects are masked from ‘package:base’:\n",
      "\n",
      "    intersect, setdiff, setequal, union\n",
      "\n"
     ]
    }
   ],
   "source": [
    "library(swat)\n",
    "library(ggplot2)\n",
    "library(reshape2)\n",
    "library(dplyr)"
   ]
  },
  {
   "cell_type": "code",
   "execution_count": 2,
   "metadata": {},
   "outputs": [
    {
     "name": "stderr",
     "output_type": "stream",
     "text": [
      "NOTE: Connecting to CAS and generating CAS action functions for loaded\n",
      "      action sets...\n",
      "NOTE: To generate the functions with signatures (for tab completion), set \n",
      "      options(cas.gen.function.sig=TRUE).\n",
      "NOTE: 'CASUSER(viyademo01)' is now the active caslib.\n",
      "NOTE: Action 'sessionProp.setSessOpt' used (Total process time):\n",
      "NOTE:       real time               0.003273 seconds\n",
      "NOTE:       cpu time                0.002698 seconds (82.43%)\n",
      "NOTE:       total nodes             1 (16 cores)\n",
      "NOTE:       total memory            62.67G\n",
      "NOTE:       memory                  412.59K (0.00%)\n"
     ]
    },
    {
     "data": {
      "text/html": [
       "<ol>\n",
       "</ol>\n"
      ],
      "text/latex": [
       "\\begin{enumerate}\n",
       "\\end{enumerate}\n"
      ],
      "text/markdown": [
       "\n",
       "\n"
      ],
      "text/plain": [
       "list()"
      ]
     },
     "metadata": {},
     "output_type": "display_data"
    },
    {
     "name": "stderr",
     "output_type": "stream",
     "text": [
      "NOTE: Executing action 'session.listSessions'.\n",
      "NOTE: Action 'session.listSessions' used (Total process time):\n",
      "NOTE:       real time               0.000382 seconds\n",
      "NOTE:       cpu time                0.000350 seconds (91.62%)\n",
      "NOTE:       total nodes             1 (16 cores)\n",
      "NOTE:       total memory            62.67G\n",
      "NOTE:       memory                  333.06K (0.00%)\n"
     ]
    },
    {
     "data": {
      "text/html": [
       "<strong>$Session</strong> = <table>\n",
       "<thead><tr><th scope=col>SessionName</th><th scope=col>UUID</th><th scope=col>State</th><th scope=col>Authentication</th><th scope=col>Userid</th></tr></thead>\n",
       "<tbody>\n",
       "\t<tr><td>  Session:Mon Apr 19 14:23:27 2021  </td><td>94e88910-12b8-e54a-963e-ff25f977a961</td><td>Connected                           </td><td>OAuth/External PAM                  </td><td>viyademo01                          </td></tr>\n",
       "</tbody>\n",
       "</table>\n"
      ],
      "text/latex": [
       "\\textbf{\\$Session} = \\begin{tabular}{r|lllll}\n",
       " SessionName & UUID & State & Authentication & Userid\\\\\n",
       "\\hline\n",
       "\t   Session:Mon Apr 19 14:23:27 2021   & 94e88910-12b8-e54a-963e-ff25f977a961 & Connected                            & OAuth/External PAM                   & viyademo01                          \\\\\n",
       "\\end{tabular}\n"
      ],
      "text/markdown": [
       "**$Session** = \n",
       "| SessionName | UUID | State | Authentication | Userid |\n",
       "|---|---|---|---|---|\n",
       "|   Session:Mon Apr 19 14:23:27 2021   | 94e88910-12b8-e54a-963e-ff25f977a961 | Connected                            | OAuth/External PAM                   | viyademo01                           |\n",
       "\n"
      ],
      "text/plain": [
       "$Session\n",
       "                         SessionName                                 UUID\n",
       "1   Session:Mon Apr 19 14:23:27 2021 94e88910-12b8-e54a-963e-ff25f977a961\n",
       "      State     Authentication     Userid\n",
       "1 Connected OAuth/External PAM viyademo01\n"
      ]
     },
     "metadata": {},
     "output_type": "display_data"
    }
   ],
   "source": [
    "#Sys.setenv(CAS_CLIENT_SSL_CA_LIST = \"C://Users/frasep/OneDrive - SAS/Mes Documents/Dossiers/Demoing/My_Local_Environments/frasepviya35smp/frasepviya35smp.cloud.com/cacerts/trustedcerts.pem\")\n",
    "Sys.setenv(CAS_CLIENT_SSL_CA_LIST = \"/opt/sas/viya/config/etc/SASSecurityCertificateFramework/cacerts/trustedcerts.pem\")\n",
    "conn <- CAS('frasepviya35smp.cloud.com', 5570,\"viyademo01\",\"demopw\")\n",
    "\n",
    "# Activate metric tracing and other session parameters\n",
    "cas.sessionProp.setSessOpt(conn, metrics=TRUE, timeout=1800, caslib='casuser')\n",
    "\n",
    "cas.session.listSessions(conn)"
   ]
  },
  {
   "cell_type": "code",
   "execution_count": 3,
   "metadata": {},
   "outputs": [
    {
     "data": {
      "text/plain": [
       "[1] \"2021-04-19 14:25:35 CEST\""
      ]
     },
     "metadata": {},
     "output_type": "display_data"
    },
    {
     "name": "stderr",
     "output_type": "stream",
     "text": [
      "NOTE: Executing action 'table.columnInfo'.\n",
      "NOTE: Action 'table.columnInfo' used (Total process time):\n",
      "NOTE:       real time               0.004127 seconds\n",
      "NOTE:       cpu time                0.003843 seconds (93.12%)\n",
      "NOTE:       total nodes             1 (16 cores)\n",
      "NOTE:       total memory            62.67G\n",
      "NOTE:       memory                  1.53M (0.00%)\n",
      "NOTE: Executing action 'table.fetch'.\n",
      "NOTE: Action 'table.fetch' used (Total process time):\n",
      "NOTE:       real time               2.046266 seconds\n",
      "NOTE:       cpu time                2.046184 seconds (100.00%)\n",
      "NOTE:       total nodes             1 (16 cores)\n",
      "NOTE:       total memory            62.67G\n",
      "NOTE:       memory                  23.63M (0.04%)\n"
     ]
    },
    {
     "data": {
      "text/plain": [
       "[1] \"2021-04-19 14:55:16 CEST\""
      ]
     },
     "metadata": {},
     "output_type": "display_data"
    },
    {
     "name": "stderr",
     "output_type": "stream",
     "text": [
      "NOTE: Executing action 'session.endSession'.\n",
      "NOTE: Action 'session.endSession' used (Total process time):\n",
      "NOTE:       real time               0.000495 seconds\n",
      "NOTE:       cpu time                0.000446 seconds (90.10%)\n",
      "NOTE:       total nodes             1 (16 cores)\n",
      "NOTE:       total memory            62.67G\n",
      "NOTE:       memory                  208.78K (0.00%)\n"
     ]
    },
    {
     "data": {
      "text/html": [
       "<ol>\n",
       "</ol>\n"
      ],
      "text/latex": [
       "\\begin{enumerate}\n",
       "\\end{enumerate}\n"
      ],
      "text/markdown": [
       "\n",
       "\n"
      ],
      "text/plain": [
       "list()"
      ]
     },
     "metadata": {},
     "output_type": "display_data"
    }
   ],
   "source": [
    "Sys.time()\n",
    "tbl <- defCasTable(conn, tablename=\"sample_350columns\", caslib = \"PUBLIC\")\n",
    "tblR <- to.casDataFrame(tbl)\n",
    "Sys.time()\n",
    "# 23 min \n",
    "\n",
    "\n",
    "cas.session.endSession(conn)"
   ]
  }
 ],
 "metadata": {
  "kernelspec": {
   "display_name": "R",
   "language": "R",
   "name": "ir"
  },
  "language_info": {
   "codemirror_mode": "r",
   "file_extension": ".r",
   "mimetype": "text/x-r-source",
   "name": "R",
   "pygments_lexer": "r",
   "version": "3.6.1"
  }
 },
 "nbformat": 4,
 "nbformat_minor": 4
}
